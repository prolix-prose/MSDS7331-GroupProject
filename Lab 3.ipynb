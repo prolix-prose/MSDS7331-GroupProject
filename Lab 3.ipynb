{
 "cells": [
  {
   "cell_type": "markdown",
   "metadata": {},
   "source": [
    "# Analysis of MovieLens Data"
   ]
  },
  {
   "cell_type": "markdown",
   "metadata": {},
   "source": [
    "**Created by Phillip Efthimion, Scott Payne, Gino Varghese and John Blevins**\n",
    "\n",
    "*MSDS 7331 Data Mining - Section 403 - Lab 3*"
   ]
  },
  {
   "cell_type": "markdown",
   "metadata": {},
   "source": [
    "# Business Understanding (10 points total) - John\n",
    "• [10 points] Describe the purpose of the data set you selected (i.e., why was this data\n",
    "collected in the first place?). How will you measure the effectiveness of a good algorithm? Why does your chosen validation method make sense for this specific\n",
    "dataset and the stakeholders needs?"
   ]
  },
  {
   "cell_type": "markdown",
   "metadata": {},
   "source": [
    "# Data Understanding (20 points total) - Phillip\n",
    "• [10 points] Describe the meaning and type of data (scale, values, etc.) for each\n",
    "attribute in the data file. Verify data quality: Are there missing values? Duplicate data?\n",
    "Outliers? Are those mistakes? How do you deal with these problems?\n",
    "• [10 points] Visualize the any important attributes appropriately. Important: Provide an\n",
    "interpretation for any charts or graphs."
   ]
  },
  {
   "cell_type": "markdown",
   "metadata": {},
   "source": [
    "# Modeling and Evaluation (50 points total) - Gino, Scott\n",
    "Different tasks will require different evaluation methods. Be as thorough as possible when analyzing\n",
    "the data you have chosen and use visualizations of the results to explain the performance and\n",
    "expected outcomes whenever possible. Guide the reader through your analysis with plenty of\n",
    "discussion of the results. Each option is broken down by:\n",
    "• [10 Points] Train and adjust parameters\n",
    "• [10 Points] Evaluate and Compare\n",
    "• [10 Points] Visualize Results\n",
    "• [20 Points] Summarize the Ramifications - John/Phillip\n",
    "\n",
    "## Collaborative Filtering \n",
    "• Train: Create user-item matrices or item-item matrices using collaborative filtering\n",
    "(adjust parameters).\n",
    "• Eval: Determine performance of the recommendations using different performance\n",
    "measures (explain the ramifications of each measure).\n",
    "• Visualize: Use tables/visualization to discuss the found results. Explain each\n",
    "visualization in detail.\n",
    "• Summarize: Describe your results. What findings are the most compelling and why?\n",
    "\n",
    "### Train and adjust parameters (10 points) - Gino, Scott\n",
    "### Evaluate and Compare (10 points) - Gino, Scott\n",
    "### Visualize Results  (10 points) - Gino, Scott\n",
    "### Summarize the Ramifications (20 points) - John/Phillip"
   ]
  },
  {
   "cell_type": "markdown",
   "metadata": {},
   "source": [
    "# Deployment (10 points total) - John\n",
    "• Be critical of your performance and tell the reader how you current model might be usable by\n",
    "other parties. Did you achieve your goals? If not, can you reign in the utility of your modeling?\n",
    "• How useful is your model for interested parties (i.e., the companies or organizations\n",
    "that might want to use it)?\n",
    "• How would your deploy your model for interested parties?\n",
    "• What other data should be collected?\n",
    "How often would the model need to be updated, etc.?"
   ]
  },
  {
   "cell_type": "markdown",
   "metadata": {},
   "source": [
    "# Exceptional Work (10 points total) - Scott\n",
    "• You have free reign to provide additional analyses or combine analyses."
   ]
  }
 ],
 "metadata": {
  "kernelspec": {
   "display_name": "Python 3",
   "language": "python",
   "name": "python3"
  },
  "language_info": {
   "codemirror_mode": {
    "name": "ipython",
    "version": 3
   },
   "file_extension": ".py",
   "mimetype": "text/x-python",
   "name": "python",
   "nbconvert_exporter": "python",
   "pygments_lexer": "ipython3",
   "version": "3.6.1"
  }
 },
 "nbformat": 4,
 "nbformat_minor": 2
}
