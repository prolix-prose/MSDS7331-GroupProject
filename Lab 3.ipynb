{
 "cells": [
  {
   "cell_type": "markdown",
   "metadata": {},
   "source": [
    "# Analysis of MovieLens Data"
   ]
  },
  {
   "cell_type": "markdown",
   "metadata": {},
   "source": [
    "**Created by Phillip Efthimion, Scott Payne, Gino Varghese and John Blevins**\n",
    "\n",
    "*MSDS 7331 Data Mining - Section 403 - Lab 3*"
   ]
  },
  {
   "cell_type": "markdown",
   "metadata": {},
   "source": [
    "# Business Understanding (10 points total) - John\n",
    "• [10 points] Describe the purpose of the data set you selected (i.e., why was this data\n",
    "collected in the first place?). How will you measure the effectiveness of a good algorithm? Why does your chosen validation method make sense for this specific\n",
    "dataset and the stakeholders needs?"
   ]
  },
  {
   "cell_type": "markdown",
   "metadata": {},
   "source": [
    "# Data Understanding (20 points total) - Phillip\n",
    "• [10 points] Describe the meaning and type of data (scale, values, etc.) for each\n",
    "attribute in the data file. Verify data quality: Are there missing values? Duplicate data?\n",
    "Outliers? Are those mistakes? How do you deal with these problems?\n",
    "• [10 points] Visualize the any important attributes appropriately. Important: Provide an\n",
    "interpretation for any charts or graphs."
   ]
  },
  {
   "cell_type": "markdown",
   "metadata": {},
   "source": [
    "# Modeling and Evaluation (50 points total) - Gino, Scott\n",
    "Different tasks will require different evaluation methods. Be as thorough as possible when analyzing\n",
    "the data you have chosen and use visualizations of the results to explain the performance and\n",
    "expected outcomes whenever possible. Guide the reader through your analysis with plenty of\n",
    "discussion of the results. Each option is broken down by:\n",
    "• [10 Points] Train and adjust parameters\n",
    "• [10 Points] Evaluate and Compare\n",
    "• [10 Points] Visualize Results\n",
    "• [20 Points] Summarize the Ramifications - John/Phillip\n",
    "\n",
    "## Collaborative Filtering \n",
    "• Train: Create user-item matrices or item-item matrices using collaborative filtering\n",
    "(adjust parameters).\n",
    "• Eval: Determine performance of the recommendations using different performance\n",
    "measures (explain the ramifications of each measure).\n",
    "• Visualize: Use tables/visualization to discuss the found results. Explain each\n",
    "visualization in detail.\n",
    "• Summarize: Describe your results. What findings are the most compelling and why?\n",
    "\n",
    "### Train and adjust parameters (10 points) - Gino, Scott\n",
    "### Evaluate and Compare (10 points) - Gino, Scott\n",
    "### Visualize Results  (10 points) - Gino, Scott\n",
    "### Summarize the Ramifications (20 points) - John/Phillip"
   ]
  },
  {
   "cell_type": "markdown",
   "metadata": {
    "collapsed": true
   },
   "source": [
    "### 1 Actual : Train and adjust parameters (10 points) - Gino, Scott\n"
   ]
  },
  {
   "cell_type": "code",
   "execution_count": 2,
   "metadata": {
    "collapsed": false
   },
   "outputs": [
    {
     "name": "stderr",
     "output_type": "stream",
     "text": [
      "[INFO] graphlab.cython.cy_server: GraphLab Create v2.1 started. Logging: /tmp/graphlab_server_1502410634.log\n"
     ]
    },
    {
     "name": "stdout",
     "output_type": "stream",
     "text": [
      "This non-commercial license of GraphLab Create for academic use is assigned to gjvarghese@smu.edu and will expire on August 05, 2018.\n"
     ]
    },
    {
     "data": {
      "text/html": [
       "<pre>Finished parsing file /home/sam/Documents/DataMining/Lab3/MSDS7331-GroupProject/data/ml-latest-small/ratings.csv</pre>"
      ],
      "text/plain": [
       "Finished parsing file /home/sam/Documents/DataMining/Lab3/MSDS7331-GroupProject/data/ml-latest-small/ratings.csv"
      ]
     },
     "metadata": {},
     "output_type": "display_data"
    },
    {
     "data": {
      "text/html": [
       "<pre>Parsing completed. Parsed 100 lines in 1.35811 secs.</pre>"
      ],
      "text/plain": [
       "Parsing completed. Parsed 100 lines in 1.35811 secs."
      ]
     },
     "metadata": {},
     "output_type": "display_data"
    },
    {
     "data": {
      "text/html": [
       "<pre>Finished parsing file /home/sam/Documents/DataMining/Lab3/MSDS7331-GroupProject/data/ml-latest-small/ratings.csv</pre>"
      ],
      "text/plain": [
       "Finished parsing file /home/sam/Documents/DataMining/Lab3/MSDS7331-GroupProject/data/ml-latest-small/ratings.csv"
      ]
     },
     "metadata": {},
     "output_type": "display_data"
    },
    {
     "data": {
      "text/html": [
       "<pre>Parsing completed. Parsed 100004 lines in 0.297192 secs.</pre>"
      ],
      "text/plain": [
       "Parsing completed. Parsed 100004 lines in 0.297192 secs."
      ]
     },
     "metadata": {},
     "output_type": "display_data"
    },
    {
     "data": {
      "text/html": [
       "<pre>Recsys training: model = ranking_factorization_recommender</pre>"
      ],
      "text/plain": [
       "Recsys training: model = ranking_factorization_recommender"
      ]
     },
     "metadata": {},
     "output_type": "display_data"
    },
    {
     "data": {
      "text/html": [
       "<pre>Preparing data set.</pre>"
      ],
      "text/plain": [
       "Preparing data set."
      ]
     },
     "metadata": {},
     "output_type": "display_data"
    },
    {
     "data": {
      "text/html": [
       "<pre>    Data has 100004 observations with 671 users and 9066 items.</pre>"
      ],
      "text/plain": [
       "    Data has 100004 observations with 671 users and 9066 items."
      ]
     },
     "metadata": {},
     "output_type": "display_data"
    },
    {
     "data": {
      "text/html": [
       "<pre>    Data prepared in: 0.321329s</pre>"
      ],
      "text/plain": [
       "    Data prepared in: 0.321329s"
      ]
     },
     "metadata": {},
     "output_type": "display_data"
    },
    {
     "data": {
      "text/html": [
       "<pre>Training ranking_factorization_recommender for recommendations.</pre>"
      ],
      "text/plain": [
       "Training ranking_factorization_recommender for recommendations."
      ]
     },
     "metadata": {},
     "output_type": "display_data"
    },
    {
     "data": {
      "text/html": [
       "<pre>+--------------------------------+--------------------------------------------------+----------+</pre>"
      ],
      "text/plain": [
       "+--------------------------------+--------------------------------------------------+----------+"
      ]
     },
     "metadata": {},
     "output_type": "display_data"
    },
    {
     "data": {
      "text/html": [
       "<pre>| Parameter                      | Description                                      | Value    |</pre>"
      ],
      "text/plain": [
       "| Parameter                      | Description                                      | Value    |"
      ]
     },
     "metadata": {},
     "output_type": "display_data"
    },
    {
     "data": {
      "text/html": [
       "<pre>+--------------------------------+--------------------------------------------------+----------+</pre>"
      ],
      "text/plain": [
       "+--------------------------------+--------------------------------------------------+----------+"
      ]
     },
     "metadata": {},
     "output_type": "display_data"
    },
    {
     "data": {
      "text/html": [
       "<pre>| num_factors                    | Factor Dimension                                 | 32       |</pre>"
      ],
      "text/plain": [
       "| num_factors                    | Factor Dimension                                 | 32       |"
      ]
     },
     "metadata": {},
     "output_type": "display_data"
    },
    {
     "data": {
      "text/html": [
       "<pre>| regularization                 | L2 Regularization on Factors                     | 1e-09    |</pre>"
      ],
      "text/plain": [
       "| regularization                 | L2 Regularization on Factors                     | 1e-09    |"
      ]
     },
     "metadata": {},
     "output_type": "display_data"
    },
    {
     "data": {
      "text/html": [
       "<pre>| solver                         | Solver used for training                         | sgd      |</pre>"
      ],
      "text/plain": [
       "| solver                         | Solver used for training                         | sgd      |"
      ]
     },
     "metadata": {},
     "output_type": "display_data"
    },
    {
     "data": {
      "text/html": [
       "<pre>| linear_regularization          | L2 Regularization on Linear Coefficients         | 1e-09    |</pre>"
      ],
      "text/plain": [
       "| linear_regularization          | L2 Regularization on Linear Coefficients         | 1e-09    |"
      ]
     },
     "metadata": {},
     "output_type": "display_data"
    },
    {
     "data": {
      "text/html": [
       "<pre>| ranking_regularization         | Rank-based Regularization Weight                 | 0.25     |</pre>"
      ],
      "text/plain": [
       "| ranking_regularization         | Rank-based Regularization Weight                 | 0.25     |"
      ]
     },
     "metadata": {},
     "output_type": "display_data"
    },
    {
     "data": {
      "text/html": [
       "<pre>| max_iterations                 | Maximum Number of Iterations                     | 25       |</pre>"
      ],
      "text/plain": [
       "| max_iterations                 | Maximum Number of Iterations                     | 25       |"
      ]
     },
     "metadata": {},
     "output_type": "display_data"
    },
    {
     "data": {
      "text/html": [
       "<pre>+--------------------------------+--------------------------------------------------+----------+</pre>"
      ],
      "text/plain": [
       "+--------------------------------+--------------------------------------------------+----------+"
      ]
     },
     "metadata": {},
     "output_type": "display_data"
    },
    {
     "data": {
      "text/html": [
       "<pre>  Optimizing model using SGD; tuning step size.</pre>"
      ],
      "text/plain": [
       "  Optimizing model using SGD; tuning step size."
      ]
     },
     "metadata": {},
     "output_type": "display_data"
    },
    {
     "data": {
      "text/html": [
       "<pre>  Using 12500 / 100004 points for tuning the step size.</pre>"
      ],
      "text/plain": [
       "  Using 12500 / 100004 points for tuning the step size."
      ]
     },
     "metadata": {},
     "output_type": "display_data"
    },
    {
     "data": {
      "text/html": [
       "<pre>+---------+-------------------+------------------------------------------+</pre>"
      ],
      "text/plain": [
       "+---------+-------------------+------------------------------------------+"
      ]
     },
     "metadata": {},
     "output_type": "display_data"
    },
    {
     "data": {
      "text/html": [
       "<pre>| Attempt | Initial Step Size | Estimated Objective Value                |</pre>"
      ],
      "text/plain": [
       "| Attempt | Initial Step Size | Estimated Objective Value                |"
      ]
     },
     "metadata": {},
     "output_type": "display_data"
    },
    {
     "data": {
      "text/html": [
       "<pre>+---------+-------------------+------------------------------------------+</pre>"
      ],
      "text/plain": [
       "+---------+-------------------+------------------------------------------+"
      ]
     },
     "metadata": {},
     "output_type": "display_data"
    },
    {
     "data": {
      "text/html": [
       "<pre>| 0       | 25                | Not Viable                               |</pre>"
      ],
      "text/plain": [
       "| 0       | 25                | Not Viable                               |"
      ]
     },
     "metadata": {},
     "output_type": "display_data"
    },
    {
     "data": {
      "text/html": [
       "<pre>| 1       | 6.25              | Not Viable                               |</pre>"
      ],
      "text/plain": [
       "| 1       | 6.25              | Not Viable                               |"
      ]
     },
     "metadata": {},
     "output_type": "display_data"
    },
    {
     "data": {
      "text/html": [
       "<pre>| 2       | 1.5625            | Not Viable                               |</pre>"
      ],
      "text/plain": [
       "| 2       | 1.5625            | Not Viable                               |"
      ]
     },
     "metadata": {},
     "output_type": "display_data"
    },
    {
     "data": {
      "text/html": [
       "<pre>| 3       | 0.390625          | Not Viable                               |</pre>"
      ],
      "text/plain": [
       "| 3       | 0.390625          | Not Viable                               |"
      ]
     },
     "metadata": {},
     "output_type": "display_data"
    },
    {
     "data": {
      "text/html": [
       "<pre>| 4       | 0.0976562         | 1.54411                                  |</pre>"
      ],
      "text/plain": [
       "| 4       | 0.0976562         | 1.54411                                  |"
      ]
     },
     "metadata": {},
     "output_type": "display_data"
    },
    {
     "data": {
      "text/html": [
       "<pre>| 5       | 0.0488281         | 1.60238                                  |</pre>"
      ],
      "text/plain": [
       "| 5       | 0.0488281         | 1.60238                                  |"
      ]
     },
     "metadata": {},
     "output_type": "display_data"
    },
    {
     "data": {
      "text/html": [
       "<pre>| 6       | 0.0244141         | 1.68483                                  |</pre>"
      ],
      "text/plain": [
       "| 6       | 0.0244141         | 1.68483                                  |"
      ]
     },
     "metadata": {},
     "output_type": "display_data"
    },
    {
     "data": {
      "text/html": [
       "<pre>| 7       | 0.012207          | 1.77739                                  |</pre>"
      ],
      "text/plain": [
       "| 7       | 0.012207          | 1.77739                                  |"
      ]
     },
     "metadata": {},
     "output_type": "display_data"
    },
    {
     "data": {
      "text/html": [
       "<pre>+---------+-------------------+------------------------------------------+</pre>"
      ],
      "text/plain": [
       "+---------+-------------------+------------------------------------------+"
      ]
     },
     "metadata": {},
     "output_type": "display_data"
    },
    {
     "data": {
      "text/html": [
       "<pre>| Final   | 0.0976562         | 1.54411                                  |</pre>"
      ],
      "text/plain": [
       "| Final   | 0.0976562         | 1.54411                                  |"
      ]
     },
     "metadata": {},
     "output_type": "display_data"
    },
    {
     "data": {
      "text/html": [
       "<pre>+---------+-------------------+------------------------------------------+</pre>"
      ],
      "text/plain": [
       "+---------+-------------------+------------------------------------------+"
      ]
     },
     "metadata": {},
     "output_type": "display_data"
    },
    {
     "data": {
      "text/html": [
       "<pre>Starting Optimization.</pre>"
      ],
      "text/plain": [
       "Starting Optimization."
      ]
     },
     "metadata": {},
     "output_type": "display_data"
    },
    {
     "data": {
      "text/html": [
       "<pre>+---------+--------------+-------------------+-----------------------+-------------+</pre>"
      ],
      "text/plain": [
       "+---------+--------------+-------------------+-----------------------+-------------+"
      ]
     },
     "metadata": {},
     "output_type": "display_data"
    },
    {
     "data": {
      "text/html": [
       "<pre>| Iter.   | Elapsed Time | Approx. Objective | Approx. Training RMSE | Step Size   |</pre>"
      ],
      "text/plain": [
       "| Iter.   | Elapsed Time | Approx. Objective | Approx. Training RMSE | Step Size   |"
      ]
     },
     "metadata": {},
     "output_type": "display_data"
    },
    {
     "data": {
      "text/html": [
       "<pre>+---------+--------------+-------------------+-----------------------+-------------+</pre>"
      ],
      "text/plain": [
       "+---------+--------------+-------------------+-----------------------+-------------+"
      ]
     },
     "metadata": {},
     "output_type": "display_data"
    },
    {
     "data": {
      "text/html": [
       "<pre>| Initial | 128us        | 2.37655           | 1.10096               |             |</pre>"
      ],
      "text/plain": [
       "| Initial | 128us        | 2.37655           | 1.10096               |             |"
      ]
     },
     "metadata": {},
     "output_type": "display_data"
    },
    {
     "data": {
      "text/html": [
       "<pre>+---------+--------------+-------------------+-----------------------+-------------+</pre>"
      ],
      "text/plain": [
       "+---------+--------------+-------------------+-----------------------+-------------+"
      ]
     },
     "metadata": {},
     "output_type": "display_data"
    },
    {
     "data": {
      "text/html": [
       "<pre>| 1       | 189.444ms    | 1.94465           | 1.11441               | 0.0976562   |</pre>"
      ],
      "text/plain": [
       "| 1       | 189.444ms    | 1.94465           | 1.11441               | 0.0976562   |"
      ]
     },
     "metadata": {},
     "output_type": "display_data"
    },
    {
     "data": {
      "text/html": [
       "<pre>| 2       | 342.156ms    | 1.66168           | 1.03462               | 0.0580668   |</pre>"
      ],
      "text/plain": [
       "| 2       | 342.156ms    | 1.66168           | 1.03462               | 0.0580668   |"
      ]
     },
     "metadata": {},
     "output_type": "display_data"
    },
    {
     "data": {
      "text/html": [
       "<pre>| 3       | 458.523ms    | 1.44329           | 0.956723              | 0.042841    |</pre>"
      ],
      "text/plain": [
       "| 3       | 458.523ms    | 1.44329           | 0.956723              | 0.042841    |"
      ]
     },
     "metadata": {},
     "output_type": "display_data"
    },
    {
     "data": {
      "text/html": [
       "<pre>| 4       | 605.545ms    | 1.23064           | 0.871465              | 0.0345267   |</pre>"
      ],
      "text/plain": [
       "| 4       | 605.545ms    | 1.23064           | 0.871465              | 0.0345267   |"
      ]
     },
     "metadata": {},
     "output_type": "display_data"
    },
    {
     "data": {
      "text/html": [
       "<pre>| 5       | 752.105ms    | 1.05311           | 0.794656              | 0.029206    |</pre>"
      ],
      "text/plain": [
       "| 5       | 752.105ms    | 1.05311           | 0.794656              | 0.029206    |"
      ]
     },
     "metadata": {},
     "output_type": "display_data"
    },
    {
     "data": {
      "text/html": [
       "<pre>| 6       | 888.415ms    | 0.914965          | 0.730154              | 0.0254734   |</pre>"
      ],
      "text/plain": [
       "| 6       | 888.415ms    | 0.914965          | 0.730154              | 0.0254734   |"
      ]
     },
     "metadata": {},
     "output_type": "display_data"
    },
    {
     "data": {
      "text/html": [
       "<pre>| 10      | 1.33s        | 0.604067          | 0.565368              | 0.017366    |</pre>"
      ],
      "text/plain": [
       "| 10      | 1.33s        | 0.604067          | 0.565368              | 0.017366    |"
      ]
     },
     "metadata": {},
     "output_type": "display_data"
    },
    {
     "data": {
      "text/html": [
       "<pre>| 11      | 1.45s        | 0.566919          | 0.543313              | 0.016168    |</pre>"
      ],
      "text/plain": [
       "| 11      | 1.45s        | 0.566919          | 0.543313              | 0.016168    |"
      ]
     },
     "metadata": {},
     "output_type": "display_data"
    },
    {
     "data": {
      "text/html": [
       "<pre>| 20      | 2.34s        | 0.418707          | 0.451032              | 0.0103259   |</pre>"
      ],
      "text/plain": [
       "| 20      | 2.34s        | 0.418707          | 0.451032              | 0.0103259   |"
      ]
     },
     "metadata": {},
     "output_type": "display_data"
    },
    {
     "data": {
      "text/html": [
       "<pre>+---------+--------------+-------------------+-----------------------+-------------+</pre>"
      ],
      "text/plain": [
       "+---------+--------------+-------------------+-----------------------+-------------+"
      ]
     },
     "metadata": {},
     "output_type": "display_data"
    },
    {
     "data": {
      "text/html": [
       "<pre>Optimization Complete: Maximum number of passes through the data reached.</pre>"
      ],
      "text/plain": [
       "Optimization Complete: Maximum number of passes through the data reached."
      ]
     },
     "metadata": {},
     "output_type": "display_data"
    },
    {
     "data": {
      "text/html": [
       "<pre>Computing final objective value and training RMSE.</pre>"
      ],
      "text/plain": [
       "Computing final objective value and training RMSE."
      ]
     },
     "metadata": {},
     "output_type": "display_data"
    },
    {
     "data": {
      "text/html": [
       "<pre>       Final objective value: 0.351607</pre>"
      ],
      "text/plain": [
       "       Final objective value: 0.351607"
      ]
     },
     "metadata": {},
     "output_type": "display_data"
    },
    {
     "data": {
      "text/html": [
       "<pre>       Final training RMSE: 0.379869</pre>"
      ],
      "text/plain": [
       "       Final training RMSE: 0.379869"
      ]
     },
     "metadata": {},
     "output_type": "display_data"
    }
   ],
   "source": [
    "import graphlab as gl\n",
    "from IPython.display import display\n",
    "from IPython.display import Image\n",
    "gl.canvas.set_target('ipynb')\n",
    "\n",
    "\n",
    "# Data for Model 1\n",
    "data_ratings = gl.SFrame.read_csv(\"/home/sam/Documents/DataMining/Lab3/MSDS7331-GroupProject/data/ml-latest-small/ratings.csv\", column_type_hints={\"rating\":int})\n",
    "\n",
    "#create a new variable\n",
    "data_ratings.remove_column('timestamp')\n",
    "\n",
    "model_ratings = gl.recommender.create(data_ratings, user_id=\"userId\", item_id=\"movieId\", target=\"rating\")\n",
    "# leaving k as 5\n",
    "#results = model_ratings.recommend(users=None, k=5)\n",
    "results = model_ratings.recommend(users=None, k=3)\n",
    "model_ratings.save(\"my_model\")\n",
    "\n",
    "\n",
    "#Please ignore code block, the code was used for analysis\n",
    "                                 \n",
    "#data_rating.add_columns('')\n",
    "\n",
    "#data_movies.add_column()\n",
    "\n",
    "#model_ratings.user_id=data_movies.movieId \n",
    "                                                                  \n",
    "#model_movies = gl.recommender.item_content_recommender.create(data_movies, user_id=\"movieId\", item_id=\"title\", target=\"genre\")\n",
    "\n"
   ]
  },
  {
   "cell_type": "code",
   "execution_count": 3,
   "metadata": {
    "collapsed": false
   },
   "outputs": [
    {
     "data": {
      "text/html": [
       "<div style=\"max-height:1000px;max-width:1500px;overflow:auto;\"><table frame=\"box\" rules=\"cols\">\n",
       "    <tr>\n",
       "        <th style=\"padding-left: 1em; padding-right: 1em; text-align: center\">userId</th>\n",
       "        <th style=\"padding-left: 1em; padding-right: 1em; text-align: center\">movieId</th>\n",
       "        <th style=\"padding-left: 1em; padding-right: 1em; text-align: center\">score</th>\n",
       "        <th style=\"padding-left: 1em; padding-right: 1em; text-align: center\">rank</th>\n",
       "    </tr>\n",
       "    <tr>\n",
       "        <td style=\"padding-left: 1em; padding-right: 1em; text-align: center; vertical-align: top\">1</td>\n",
       "        <td style=\"padding-left: 1em; padding-right: 1em; text-align: center; vertical-align: top\">858</td>\n",
       "        <td style=\"padding-left: 1em; padding-right: 1em; text-align: center; vertical-align: top\">4.52225943867</td>\n",
       "        <td style=\"padding-left: 1em; padding-right: 1em; text-align: center; vertical-align: top\">1</td>\n",
       "    </tr>\n",
       "    <tr>\n",
       "        <td style=\"padding-left: 1em; padding-right: 1em; text-align: center; vertical-align: top\">1</td>\n",
       "        <td style=\"padding-left: 1em; padding-right: 1em; text-align: center; vertical-align: top\">593</td>\n",
       "        <td style=\"padding-left: 1em; padding-right: 1em; text-align: center; vertical-align: top\">4.40766474072</td>\n",
       "        <td style=\"padding-left: 1em; padding-right: 1em; text-align: center; vertical-align: top\">2</td>\n",
       "    </tr>\n",
       "    <tr>\n",
       "        <td style=\"padding-left: 1em; padding-right: 1em; text-align: center; vertical-align: top\">1</td>\n",
       "        <td style=\"padding-left: 1em; padding-right: 1em; text-align: center; vertical-align: top\">527</td>\n",
       "        <td style=\"padding-left: 1em; padding-right: 1em; text-align: center; vertical-align: top\">4.33217808071</td>\n",
       "        <td style=\"padding-left: 1em; padding-right: 1em; text-align: center; vertical-align: top\">3</td>\n",
       "    </tr>\n",
       "    <tr>\n",
       "        <td style=\"padding-left: 1em; padding-right: 1em; text-align: center; vertical-align: top\">2</td>\n",
       "        <td style=\"padding-left: 1em; padding-right: 1em; text-align: center; vertical-align: top\">85</td>\n",
       "        <td style=\"padding-left: 1em; padding-right: 1em; text-align: center; vertical-align: top\">4.88981314961</td>\n",
       "        <td style=\"padding-left: 1em; padding-right: 1em; text-align: center; vertical-align: top\">1</td>\n",
       "    </tr>\n",
       "    <tr>\n",
       "        <td style=\"padding-left: 1em; padding-right: 1em; text-align: center; vertical-align: top\">2</td>\n",
       "        <td style=\"padding-left: 1em; padding-right: 1em; text-align: center; vertical-align: top\">838</td>\n",
       "        <td style=\"padding-left: 1em; padding-right: 1em; text-align: center; vertical-align: top\">4.78181430164</td>\n",
       "        <td style=\"padding-left: 1em; padding-right: 1em; text-align: center; vertical-align: top\">2</td>\n",
       "    </tr>\n",
       "    <tr>\n",
       "        <td style=\"padding-left: 1em; padding-right: 1em; text-align: center; vertical-align: top\">2</td>\n",
       "        <td style=\"padding-left: 1em; padding-right: 1em; text-align: center; vertical-align: top\">724</td>\n",
       "        <td style=\"padding-left: 1em; padding-right: 1em; text-align: center; vertical-align: top\">4.74369784657</td>\n",
       "        <td style=\"padding-left: 1em; padding-right: 1em; text-align: center; vertical-align: top\">3</td>\n",
       "    </tr>\n",
       "    <tr>\n",
       "        <td style=\"padding-left: 1em; padding-right: 1em; text-align: center; vertical-align: top\">3</td>\n",
       "        <td style=\"padding-left: 1em; padding-right: 1em; text-align: center; vertical-align: top\">551</td>\n",
       "        <td style=\"padding-left: 1em; padding-right: 1em; text-align: center; vertical-align: top\">4.84900375668</td>\n",
       "        <td style=\"padding-left: 1em; padding-right: 1em; text-align: center; vertical-align: top\">1</td>\n",
       "    </tr>\n",
       "    <tr>\n",
       "        <td style=\"padding-left: 1em; padding-right: 1em; text-align: center; vertical-align: top\">3</td>\n",
       "        <td style=\"padding-left: 1em; padding-right: 1em; text-align: center; vertical-align: top\">1625</td>\n",
       "        <td style=\"padding-left: 1em; padding-right: 1em; text-align: center; vertical-align: top\">4.755730117</td>\n",
       "        <td style=\"padding-left: 1em; padding-right: 1em; text-align: center; vertical-align: top\">2</td>\n",
       "    </tr>\n",
       "    <tr>\n",
       "        <td style=\"padding-left: 1em; padding-right: 1em; text-align: center; vertical-align: top\">3</td>\n",
       "        <td style=\"padding-left: 1em; padding-right: 1em; text-align: center; vertical-align: top\">2329</td>\n",
       "        <td style=\"padding-left: 1em; padding-right: 1em; text-align: center; vertical-align: top\">4.64122053448</td>\n",
       "        <td style=\"padding-left: 1em; padding-right: 1em; text-align: center; vertical-align: top\">3</td>\n",
       "    </tr>\n",
       "    <tr>\n",
       "        <td style=\"padding-left: 1em; padding-right: 1em; text-align: center; vertical-align: top\">4</td>\n",
       "        <td style=\"padding-left: 1em; padding-right: 1em; text-align: center; vertical-align: top\">1029</td>\n",
       "        <td style=\"padding-left: 1em; padding-right: 1em; text-align: center; vertical-align: top\">6.10049125019</td>\n",
       "        <td style=\"padding-left: 1em; padding-right: 1em; text-align: center; vertical-align: top\">1</td>\n",
       "    </tr>\n",
       "</table>\n",
       "[2013 rows x 4 columns]<br/>Note: Only the head of the SFrame is printed.<br/>You can use print_rows(num_rows=m, num_columns=n) to print more rows and columns.\n",
       "</div>"
      ],
      "text/plain": [
       "Columns:\n",
       "\tuserId\tint\n",
       "\tmovieId\tint\n",
       "\tscore\tfloat\n",
       "\trank\tint\n",
       "\n",
       "Rows: 2013\n",
       "\n",
       "Data:\n",
       "+--------+---------+---------------+------+\n",
       "| userId | movieId |     score     | rank |\n",
       "+--------+---------+---------------+------+\n",
       "|   1    |   858   | 4.52225943867 |  1   |\n",
       "|   1    |   593   | 4.40766474072 |  2   |\n",
       "|   1    |   527   | 4.33217808071 |  3   |\n",
       "|   2    |    85   | 4.88981314961 |  1   |\n",
       "|   2    |   838   | 4.78181430164 |  2   |\n",
       "|   2    |   724   | 4.74369784657 |  3   |\n",
       "|   3    |   551   | 4.84900375668 |  1   |\n",
       "|   3    |   1625  |  4.755730117  |  2   |\n",
       "|   3    |   2329  | 4.64122053448 |  3   |\n",
       "|   4    |   1029  | 6.10049125019 |  1   |\n",
       "+--------+---------+---------------+------+\n",
       "[2013 rows x 4 columns]\n",
       "Note: Only the head of the SFrame is printed.\n",
       "You can use print_rows(num_rows=m, num_columns=n) to print more rows and columns."
      ]
     },
     "execution_count": 3,
     "metadata": {},
     "output_type": "execute_result"
    }
   ],
   "source": [
    "results"
   ]
  },
  {
   "cell_type": "code",
   "execution_count": 7,
   "metadata": {
    "collapsed": false
   },
   "outputs": [
    {
     "data": {
      "text/html": [
       "<div style=\"max-height:1000px;max-width:1500px;overflow:auto;\"><table frame=\"box\" rules=\"cols\">\n",
       "    <tr>\n",
       "        <th style=\"padding-left: 1em; padding-right: 1em; text-align: center\">userId</th>\n",
       "        <th style=\"padding-left: 1em; padding-right: 1em; text-align: center\">movieId</th>\n",
       "        <th style=\"padding-left: 1em; padding-right: 1em; text-align: center\">rating</th>\n",
       "    </tr>\n",
       "    <tr>\n",
       "        <td style=\"padding-left: 1em; padding-right: 1em; text-align: center; vertical-align: top\">1</td>\n",
       "        <td style=\"padding-left: 1em; padding-right: 1em; text-align: center; vertical-align: top\">31</td>\n",
       "        <td style=\"padding-left: 1em; padding-right: 1em; text-align: center; vertical-align: top\">2</td>\n",
       "    </tr>\n",
       "    <tr>\n",
       "        <td style=\"padding-left: 1em; padding-right: 1em; text-align: center; vertical-align: top\">1</td>\n",
       "        <td style=\"padding-left: 1em; padding-right: 1em; text-align: center; vertical-align: top\">1029</td>\n",
       "        <td style=\"padding-left: 1em; padding-right: 1em; text-align: center; vertical-align: top\">3</td>\n",
       "    </tr>\n",
       "    <tr>\n",
       "        <td style=\"padding-left: 1em; padding-right: 1em; text-align: center; vertical-align: top\">1</td>\n",
       "        <td style=\"padding-left: 1em; padding-right: 1em; text-align: center; vertical-align: top\">1061</td>\n",
       "        <td style=\"padding-left: 1em; padding-right: 1em; text-align: center; vertical-align: top\">3</td>\n",
       "    </tr>\n",
       "    <tr>\n",
       "        <td style=\"padding-left: 1em; padding-right: 1em; text-align: center; vertical-align: top\">1</td>\n",
       "        <td style=\"padding-left: 1em; padding-right: 1em; text-align: center; vertical-align: top\">1129</td>\n",
       "        <td style=\"padding-left: 1em; padding-right: 1em; text-align: center; vertical-align: top\">2</td>\n",
       "    </tr>\n",
       "    <tr>\n",
       "        <td style=\"padding-left: 1em; padding-right: 1em; text-align: center; vertical-align: top\">1</td>\n",
       "        <td style=\"padding-left: 1em; padding-right: 1em; text-align: center; vertical-align: top\">1172</td>\n",
       "        <td style=\"padding-left: 1em; padding-right: 1em; text-align: center; vertical-align: top\">4</td>\n",
       "    </tr>\n",
       "    <tr>\n",
       "        <td style=\"padding-left: 1em; padding-right: 1em; text-align: center; vertical-align: top\">1</td>\n",
       "        <td style=\"padding-left: 1em; padding-right: 1em; text-align: center; vertical-align: top\">1263</td>\n",
       "        <td style=\"padding-left: 1em; padding-right: 1em; text-align: center; vertical-align: top\">2</td>\n",
       "    </tr>\n",
       "    <tr>\n",
       "        <td style=\"padding-left: 1em; padding-right: 1em; text-align: center; vertical-align: top\">1</td>\n",
       "        <td style=\"padding-left: 1em; padding-right: 1em; text-align: center; vertical-align: top\">1287</td>\n",
       "        <td style=\"padding-left: 1em; padding-right: 1em; text-align: center; vertical-align: top\">2</td>\n",
       "    </tr>\n",
       "    <tr>\n",
       "        <td style=\"padding-left: 1em; padding-right: 1em; text-align: center; vertical-align: top\">1</td>\n",
       "        <td style=\"padding-left: 1em; padding-right: 1em; text-align: center; vertical-align: top\">1293</td>\n",
       "        <td style=\"padding-left: 1em; padding-right: 1em; text-align: center; vertical-align: top\">2</td>\n",
       "    </tr>\n",
       "    <tr>\n",
       "        <td style=\"padding-left: 1em; padding-right: 1em; text-align: center; vertical-align: top\">1</td>\n",
       "        <td style=\"padding-left: 1em; padding-right: 1em; text-align: center; vertical-align: top\">1339</td>\n",
       "        <td style=\"padding-left: 1em; padding-right: 1em; text-align: center; vertical-align: top\">3</td>\n",
       "    </tr>\n",
       "    <tr>\n",
       "        <td style=\"padding-left: 1em; padding-right: 1em; text-align: center; vertical-align: top\">1</td>\n",
       "        <td style=\"padding-left: 1em; padding-right: 1em; text-align: center; vertical-align: top\">1343</td>\n",
       "        <td style=\"padding-left: 1em; padding-right: 1em; text-align: center; vertical-align: top\">2</td>\n",
       "    </tr>\n",
       "</table>\n",
       "[10 rows x 3 columns]<br/>\n",
       "</div>"
      ],
      "text/plain": [
       "Columns:\n",
       "\tuserId\tint\n",
       "\tmovieId\tint\n",
       "\trating\tint\n",
       "\n",
       "Rows: 10\n",
       "\n",
       "Data:\n",
       "+--------+---------+--------+\n",
       "| userId | movieId | rating |\n",
       "+--------+---------+--------+\n",
       "|   1    |    31   |   2    |\n",
       "|   1    |   1029  |   3    |\n",
       "|   1    |   1061  |   3    |\n",
       "|   1    |   1129  |   2    |\n",
       "|   1    |   1172  |   4    |\n",
       "|   1    |   1263  |   2    |\n",
       "|   1    |   1287  |   2    |\n",
       "|   1    |   1293  |   2    |\n",
       "|   1    |   1339  |   3    |\n",
       "|   1    |   1343  |   2    |\n",
       "+--------+---------+--------+\n",
       "[10 rows x 3 columns]"
      ]
     },
     "execution_count": 7,
     "metadata": {},
     "output_type": "execute_result"
    }
   ],
   "source": [
    "data_ratings.head()"
   ]
  },
  {
   "cell_type": "code",
   "execution_count": 12,
   "metadata": {
    "collapsed": false,
    "scrolled": true
   },
   "outputs": [
    {
     "name": "stdout",
     "output_type": "stream",
     "text": [
      "Canvas is accessible via web browser at the URL: http://localhost:39473/index.html\n",
      "Opening Canvas in default web browser.\n",
      "Canvas is accessible via web browser at the URL: http://localhost:39473/index.html\n",
      "Opening Canvas in default web browser.\n",
      "Canvas is accessible via web browser at the URL: http://localhost:39473/index.html\n",
      "Opening Canvas in default web browser.\n",
      "Canvas is accessible via web browser at the URL: http://localhost:39473/index.html\n",
      "Opening Canvas in default web browser.\n"
     ]
    }
   ],
   "source": [
    "from IPython.display import display\n",
    "from IPython.display import Image\n",
    "import graphlab.aggregate as agg\n",
    "\n",
    "\n",
    "#gl.canvas.set_target('browser')\n",
    "gl.canvas.set_target('browser')\n",
    "\n",
    "count_rating = data_ratings.groupby(key_columns='userId', operations={'rating': agg.COUNT()})\n",
    "\n",
    "count_movie = data_ratings.groupby(key_columns='userId', operations={'movieId': agg.COUNT()})\n",
    "\n",
    "\n",
    "\n",
    "#creating a count of ratings for each movie, to see how each movie has variablity in there ratings\n",
    "#ex: movie 1 has lot more ratings\n",
    "#count_movie_rating = data.groupby(key_columns='movieId', operations={'rating': agg.COUNT()})\n",
    "\n",
    "data_ratings.show(view=\"Summary\")\n",
    "\n",
    "#data.show(view=\"Heat Map\", x='movieId', y='count_movie_rating')\n",
    "\n",
    "#ratings vs movieid, to identify the popular rating, how many users rated movies, into 5 rating categories.\n",
    "data_ratings.show(view=\"Bar Chart\", x='rating', y='movieId')\n",
    "\n",
    "\n",
    "#data.show(view=\"Heat Map\", x=\"userId\", y=\"count_movie\")\n",
    "\n",
    "#Identify the number of movies that was watched by each user, \n",
    "data_ratings.show(view=\"Bar Chart\", x=\"userId\", y=\"count_movie\")\n",
    "\n",
    "# To see how many users have watched each movie, in logarthemic scale..\n",
    "data_ratings.show(view=\"Heat Map\", x=\"userId\", y=\"movieId\")\n",
    "#sa.count_rating = gl.SArray(data=count_rating, int)\n",
    "\n",
    "#data.show(view=\"Heat Map\", x='movieId', y='count_rating')\n",
    "\n",
    "#data.show(view=\"Summary\")\n",
    "\n",
    "\n",
    "#data.show(view=\"Heat Map\", x=\"movieId\", y=\"rating\")\n",
    "\n",
    "\n",
    "#data.show(view=\"Heat Map\", x=\"userId\", y=\"rating\")\n",
    "\n",
    "\n",
    "\n",
    "#data_array = gl.SArray(data)\n",
    "                            \n",
    "#data.show(view=\"Bar Chart\", x=\"userId\", y=\"count_rating\")\n",
    "\n",
    "#count_rating.show(view=\"Numeric\")\n",
    "#show(view=\"numeric\", data.)\n",
    "\n",
    "#data.show(view=\"Bar Chart\", x=\"userId\", y=\"count_movie\")\n",
    "\n",
    "#data_array.show()\n",
    "\n",
    "\n",
    "# talking of data gaps, after comparing the graphs \"userid vc. count of rating\" and \"userid vs. count of movies\", \n",
    "# we can say that, there is no data gaps present in the data set, for example, userid 547 watched 2391 movies \n",
    "# and also rated all the movies that was watched."
   ]
  },
  {
   "cell_type": "code",
   "execution_count": 10,
   "metadata": {
    "collapsed": false
   },
   "outputs": [
    {
     "data": {
      "application/javascript": [
       "$(\"head\").append($(\"<link/>\").attr({\n",
       "  rel:  \"stylesheet\",\n",
       "  type: \"text/css\",\n",
       "  href: \"//cdnjs.cloudflare.com/ajax/libs/font-awesome/4.1.0/css/font-awesome.min.css\"\n",
       "}));\n",
       "$(\"head\").append($(\"<link/>\").attr({\n",
       "  rel:  \"stylesheet\",\n",
       "  type: \"text/css\",\n",
       "  href: \"https://static.turi.com/products/graphlab-create/2.1/canvas/css/canvas.css\"\n",
       "}));\n",
       "\n",
       "            (function(){\n",
       "\n",
       "                var e = null;\n",
       "                if (typeof element == 'undefined') {\n",
       "                    var scripts = document.getElementsByTagName('script');\n",
       "                    var thisScriptTag = scripts[scripts.length-1];\n",
       "                    var parentDiv = thisScriptTag.parentNode;\n",
       "                    e = document.createElement('div');\n",
       "                    parentDiv.appendChild(e);\n",
       "                } else {\n",
       "                    e = element[0];\n",
       "                }\n",
       "\n",
       "                if (typeof requirejs !== 'undefined') {\n",
       "                    // disable load timeout; ipython_app.js is large and can take a while to load.\n",
       "                    requirejs.config({waitSeconds: 0});\n",
       "                }\n",
       "\n",
       "                require(['https://static.turi.com/products/graphlab-create/2.1/canvas/js/ipython_app.js'], function(IPythonApp){\n",
       "                    var app = new IPythonApp();\n",
       "                    app.attachView('sframe','Plots', {\"selected_variable\": {\"name\": [\"data_ratings\"], \"descriptives\": {\"rows\": 100004, \"columns\": 3}, \"view_component\": \"Plots\", \"view_file\": \"sframe\", \"view_params\": {\"y\": \"ratings\", \"x\": \"movieId\", \"columns\": [\"userId\", \"movieId\", \"rating\"], \"view\": \"Heat Map\"}, \"view_components\": [\"Summary\", \"Table\", \"Bar Chart\", \"BoxWhisker Plot\", \"Line Chart\", \"Scatter Plot\", \"Heat Map\", \"Plots\"], \"type\": \"SFrame\", \"columns\": [{\"dtype\": \"int\", \"name\": \"userId\"}, {\"dtype\": \"int\", \"name\": \"movieId\"}, {\"dtype\": \"int\", \"name\": \"rating\"}], \"column_identifiers\": [\"userId\", \"movieId\", \"rating\"]}, \"complete\": 1, \"binWidth\": 4066.7625, \"pointsLoaded\": 100004, \"ipython\": true, \"binHeight\": 16.75, \"bins\": [[0.0, 0.0, 0.0, 0.0, 0.0, 0.0, 0.0, 0.0, 0.0, 0.0, 0.0, 0.0, 0.0, 0.0, 0.0, 0.0, 0.0, 0.0, 0.0, 0.0, 0.0, 0.0, 0.0, 0.0, 0.0, 0.0, 0.0, 0.0, 0.0, 0.0, 0.0, 0.0, 0.0, 0.0, 0.0, 0.0, 0.0, 0.0, 0.0, 0.0, 0.0, 0.0, 0.0, 0.0, 0.0, 0.0, 0.0, 0.0, 0.0, 0.0, 0.0, 0.0, 0.0, 0.0, 0.0, 0.0, 0.0, 0.0, 0.0, 0.0, 0.0, 0.0, 0.0, 0.0, 0.0, 0.0, 0.0, 0.0, 0.0, 0.0, 0.0, 0.0, 0.0, 0.0, 0.0, 0.0, 0.0, 0.0, 0.0, 0.0], [0.0, 0.0, 0.0, 0.0, 0.0, 0.0, 0.0, 0.0, 0.0, 0.0, 0.0, 0.0, 0.0, 0.0, 0.0, 0.0, 0.0, 0.0, 0.0, 0.0, 0.0, 0.0, 0.0, 0.0, 0.0, 0.0, 0.0, 0.0, 0.0, 0.0, 0.0, 0.0, 0.0, 0.0, 0.0, 0.0, 0.0, 0.0, 0.0, 0.0, 0.0, 0.0, 0.0, 0.0, 0.0, 0.0, 0.0, 0.0, 0.0, 0.0, 0.0, 0.0, 0.0, 0.0, 0.0, 0.0, 0.0, 0.0, 0.0, 0.0, 0.0, 0.0, 0.0, 0.0, 0.0, 0.0, 0.0, 0.0, 0.0, 0.0, 0.0, 0.0, 0.0, 0.0, 0.0, 0.0, 0.0, 0.0, 0.0, 0.0], [0.0, 0.0, 0.0, 0.0, 0.0, 0.0, 0.0, 0.0, 0.0, 0.0, 0.0, 0.0, 0.0, 0.0, 0.0, 0.0, 0.0, 0.0, 0.0, 0.0, 0.0, 0.0, 0.0, 0.0, 0.0, 0.0, 0.0, 0.0, 0.0, 0.0, 0.0, 0.0, 0.0, 0.0, 0.0, 0.0, 0.0, 0.0, 0.0, 0.0, 0.0, 0.0, 0.0, 0.0, 0.0, 0.0, 0.0, 0.0, 0.0, 0.0, 0.0, 0.0, 0.0, 0.0, 0.0, 0.0, 0.0, 0.0, 0.0, 0.0, 0.0, 0.0, 0.0, 0.0, 0.0, 0.0, 0.0, 0.0, 0.0, 0.0, 0.0, 0.0, 0.0, 0.0, 0.0, 0.0, 0.0, 0.0, 0.0, 0.0], [0.0, 0.0, 0.0, 0.0, 0.0, 0.0, 0.0, 0.0, 0.0, 0.0, 0.0, 0.0, 0.0, 0.0, 0.0, 0.0, 0.0, 0.0, 0.0, 0.0, 0.0, 0.0, 0.0, 0.0, 0.0, 0.0, 0.0, 0.0, 0.0, 0.0, 0.0, 0.0, 0.0, 0.0, 0.0, 0.0, 0.0, 0.0, 0.0, 0.0, 0.0, 0.0, 0.0, 0.0, 0.0, 0.0, 0.0, 0.0, 0.0, 0.0, 0.0, 0.0, 0.0, 0.0, 0.0, 0.0, 0.0, 0.0, 0.0, 0.0, 0.0, 0.0, 0.0, 0.0, 0.0, 0.0, 0.0, 0.0, 0.0, 0.0, 0.0, 0.0, 0.0, 0.0, 0.0, 0.0, 0.0, 0.0, 0.0, 0.0], [0.0, 0.0, 0.0, 0.0, 0.0, 0.0, 0.0, 0.0, 0.0, 0.0, 0.0, 0.0, 0.0, 0.0, 0.0, 0.0, 0.0, 0.0, 0.0, 0.0, 0.0, 0.0, 0.0, 0.0, 0.0, 0.0, 0.0, 0.0, 0.0, 0.0, 0.0, 0.0, 0.0, 0.0, 0.0, 0.0, 0.0, 0.0, 0.0, 0.0, 0.0, 0.0, 0.0, 0.0, 0.0, 0.0, 0.0, 0.0, 0.0, 0.0, 0.0, 0.0, 0.0, 0.0, 0.0, 0.0, 0.0, 0.0, 0.0, 0.0, 0.0, 0.0, 0.0, 0.0, 0.0, 0.0, 0.0, 0.0, 0.0, 0.0, 0.0, 0.0, 0.0, 0.0, 0.0, 0.0, 0.0, 0.0, 0.0, 0.0], [0.0, 0.0, 0.0, 0.0, 0.0, 0.0, 0.0, 0.0, 0.0, 0.0, 0.0, 0.0, 0.0, 0.0, 0.0, 0.0, 0.0, 0.0, 0.0, 0.0, 0.0, 0.0, 0.0, 0.0, 0.0, 0.0, 0.0, 0.0, 0.0, 0.0, 0.0, 0.0, 0.0, 0.0, 0.0, 0.0, 0.0, 0.0, 0.0, 0.0, 0.0, 0.0, 0.0, 0.0, 0.0, 0.0, 0.0, 0.0, 0.0, 0.0, 0.0, 0.0, 0.0, 0.0, 0.0, 0.0, 0.0, 0.0, 0.0, 0.0, 0.0, 0.0, 0.0, 0.0, 0.0, 0.0, 0.0, 0.0, 0.0, 0.0, 0.0, 0.0, 0.0, 0.0, 0.0, 0.0, 0.0, 0.0, 0.0, 0.0], [0.0, 0.0, 0.0, 0.0, 0.0, 0.0, 0.0, 0.0, 0.0, 0.0, 0.0, 0.0, 0.0, 0.0, 0.0, 0.0, 0.0, 0.0, 0.0, 0.0, 0.0, 0.0, 0.0, 0.0, 0.0, 0.0, 0.0, 0.0, 0.0, 0.0, 0.0, 0.0, 0.0, 0.0, 0.0, 0.0, 0.0, 0.0, 0.0, 0.0, 0.0, 0.0, 0.0, 0.0, 0.0, 0.0, 0.0, 0.0, 0.0, 0.0, 0.0, 0.0, 0.0, 0.0, 0.0, 0.0, 0.0, 0.0, 0.0, 0.0, 0.0, 0.0, 0.0, 0.0, 0.0, 0.0, 0.0, 0.0, 0.0, 0.0, 0.0, 0.0, 0.0, 0.0, 0.0, 0.0, 0.0, 0.0, 0.0, 0.0], [0.0, 0.0, 0.0, 0.0, 0.0, 0.0, 0.0, 0.0, 0.0, 0.0, 0.0, 0.0, 0.0, 0.0, 0.0, 0.0, 0.0, 0.0, 0.0, 0.0, 0.0, 0.0, 0.0, 0.0, 0.0, 0.0, 0.0, 0.0, 0.0, 0.0, 0.0, 0.0, 0.0, 0.0, 0.0, 0.0, 0.0, 0.0, 0.0, 0.0, 0.0, 0.0, 0.0, 0.0, 0.0, 0.0, 0.0, 0.0, 0.0, 0.0, 0.0, 0.0, 0.0, 0.0, 0.0, 0.0, 0.0, 0.0, 0.0, 0.0, 0.0, 0.0, 0.0, 0.0, 0.0, 0.0, 0.0, 0.0, 0.0, 0.0, 0.0, 0.0, 0.0, 0.0, 0.0, 0.0, 0.0, 0.0, 0.0, 0.0], [0.0, 0.0, 0.0, 0.0, 0.0, 0.0, 0.0, 0.0, 0.0, 0.0, 0.0, 0.0, 0.0, 0.0, 0.0, 0.0, 0.0, 0.0, 0.0, 0.0, 0.0, 0.0, 0.0, 0.0, 0.0, 0.0, 0.0, 0.0, 0.0, 0.0, 0.0, 0.0, 0.0, 0.0, 0.0, 0.0, 0.0, 0.0, 0.0, 0.0, 0.0, 0.0, 0.0, 0.0, 0.0, 0.0, 0.0, 0.0, 0.0, 0.0, 0.0, 0.0, 0.0, 0.0, 0.0, 0.0, 0.0, 0.0, 0.0, 0.0, 0.0, 0.0, 0.0, 0.0, 0.0, 0.0, 0.0, 0.0, 0.0, 0.0, 0.0, 0.0, 0.0, 0.0, 0.0, 0.0, 0.0, 0.0, 0.0, 0.0], [0.0, 0.0, 0.0, 0.0, 0.0, 0.0, 0.0, 0.0, 0.0, 0.0, 0.0, 0.0, 0.0, 0.0, 0.0, 0.0, 0.0, 0.0, 0.0, 0.0, 0.0, 0.0, 0.0, 0.0, 0.0, 0.0, 0.0, 0.0, 0.0, 0.0, 0.0, 0.0, 0.0, 0.0, 0.0, 0.0, 0.0, 0.0, 0.0, 0.0, 0.0, 0.0, 0.0, 0.0, 0.0, 0.0, 0.0, 0.0, 0.0, 0.0, 0.0, 0.0, 0.0, 0.0, 0.0, 0.0, 0.0, 0.0, 0.0, 0.0, 0.0, 0.0, 0.0, 0.0, 0.0, 0.0, 0.0, 0.0, 0.0, 0.0, 0.0, 0.0, 0.0, 0.0, 0.0, 0.0, 0.0, 0.0, 0.0, 0.0], [0.0, 0.0, 0.0, 0.0, 0.0, 0.0, 0.0, 0.0, 0.0, 0.0, 0.0, 0.0, 0.0, 0.0, 0.0, 0.0, 0.0, 0.0, 0.0, 0.0, 0.0, 0.0, 0.0, 0.0, 0.0, 0.0, 0.0, 0.0, 0.0, 0.0, 0.0, 0.0, 0.0, 0.0, 0.0, 0.0, 0.0, 0.0, 0.0, 0.0, 0.0, 0.0, 0.0, 0.0, 0.0, 0.0, 0.0, 0.0, 0.0, 0.0, 0.0, 0.0, 0.0, 0.0, 0.0, 0.0, 0.0, 0.0, 0.0, 0.0, 0.0, 0.0, 0.0, 0.0, 0.0, 0.0, 0.0, 0.0, 0.0, 0.0, 0.0, 0.0, 0.0, 0.0, 0.0, 0.0, 0.0, 0.0, 0.0, 0.0], [0.0, 0.0, 0.0, 0.0, 0.0, 0.0, 0.0, 0.0, 0.0, 0.0, 0.0, 0.0, 0.0, 0.0, 0.0, 0.0, 0.0, 0.0, 0.0, 0.0, 0.0, 0.0, 0.0, 0.0, 0.0, 0.0, 0.0, 0.0, 0.0, 0.0, 0.0, 0.0, 0.0, 0.0, 0.0, 0.0, 0.0, 0.0, 0.0, 0.0, 0.0, 0.0, 0.0, 0.0, 0.0, 0.0, 0.0, 0.0, 0.0, 0.0, 0.0, 0.0, 0.0, 0.0, 0.0, 0.0, 0.0, 0.0, 0.0, 0.0, 0.0, 0.0, 0.0, 0.0, 0.0, 0.0, 0.0, 0.0, 0.0, 0.0, 0.0, 0.0, 0.0, 0.0, 0.0, 0.0, 0.0, 0.0, 0.0, 0.0], [0.0, 0.0, 0.0, 0.0, 0.0, 0.0, 0.0, 0.0, 0.0, 0.0, 0.0, 0.0, 0.0, 0.0, 0.0, 0.0, 0.0, 0.0, 0.0, 0.0, 0.0, 0.0, 0.0, 0.0, 0.0, 0.0, 0.0, 0.0, 0.0, 0.0, 0.0, 0.0, 0.0, 0.0, 0.0, 0.0, 0.0, 0.0, 0.0, 0.0, 0.0, 0.0, 0.0, 0.0, 0.0, 0.0, 0.0, 0.0, 0.0, 0.0, 0.0, 0.0, 0.0, 0.0, 0.0, 0.0, 0.0, 0.0, 0.0, 0.0, 0.0, 0.0, 0.0, 0.0, 0.0, 0.0, 0.0, 0.0, 0.0, 0.0, 0.0, 0.0, 0.0, 0.0, 0.0, 0.0, 0.0, 0.0, 0.0, 0.0], [0.0, 0.0, 0.0, 0.0, 0.0, 0.0, 0.0, 0.0, 0.0, 0.0, 0.0, 0.0, 0.0, 0.0, 0.0, 0.0, 0.0, 0.0, 0.0, 0.0, 0.0, 0.0, 0.0, 0.0, 0.0, 0.0, 0.0, 0.0, 0.0, 0.0, 0.0, 0.0, 0.0, 0.0, 0.0, 0.0, 0.0, 0.0, 0.0, 0.0, 0.0, 0.0, 0.0, 0.0, 0.0, 0.0, 0.0, 0.0, 0.0, 0.0, 0.0, 0.0, 0.0, 0.0, 0.0, 0.0, 0.0, 0.0, 0.0, 0.0, 0.0, 0.0, 0.0, 0.0, 0.0, 0.0, 0.0, 0.0, 0.0, 0.0, 0.0, 0.0, 0.0, 0.0, 0.0, 0.0, 0.0, 0.0, 0.0, 0.0], [0.0, 0.0, 0.0, 0.0, 0.0, 0.0, 0.0, 0.0, 0.0, 0.0, 0.0, 0.0, 0.0, 0.0, 0.0, 0.0, 0.0, 0.0, 0.0, 0.0, 0.0, 0.0, 0.0, 0.0, 0.0, 0.0, 0.0, 0.0, 0.0, 0.0, 0.0, 0.0, 0.0, 0.0, 0.0, 0.0, 0.0, 0.0, 0.0, 0.0, 0.0, 0.0, 0.0, 0.0, 0.0, 0.0, 0.0, 0.0, 0.0, 0.0, 0.0, 0.0, 0.0, 0.0, 0.0, 0.0, 0.0, 0.0, 0.0, 0.0, 0.0, 0.0, 0.0, 0.0, 0.0, 0.0, 0.0, 0.0, 0.0, 0.0, 0.0, 0.0, 0.0, 0.0, 0.0, 0.0, 0.0, 0.0, 0.0, 0.0], [0.0, 0.0, 0.0, 0.0, 0.0, 0.0, 0.0, 0.0, 0.0, 0.0, 0.0, 0.0, 0.0, 0.0, 0.0, 0.0, 0.0, 0.0, 0.0, 0.0, 0.0, 0.0, 0.0, 0.0, 0.0, 0.0, 0.0, 0.0, 0.0, 0.0, 0.0, 0.0, 0.0, 0.0, 0.0, 0.0, 0.0, 0.0, 0.0, 0.0, 0.0, 0.0, 0.0, 0.0, 0.0, 0.0, 0.0, 0.0, 0.0, 0.0, 0.0, 0.0, 0.0, 0.0, 0.0, 0.0, 0.0, 0.0, 0.0, 0.0, 0.0, 0.0, 0.0, 0.0, 0.0, 0.0, 0.0, 0.0, 0.0, 0.0, 0.0, 0.0, 0.0, 0.0, 0.0, 0.0, 0.0, 0.0, 0.0, 0.0], [0.0, 0.0, 0.0, 0.0, 0.0, 0.0, 0.0, 0.0, 0.0, 0.0, 0.0, 0.0, 0.0, 0.0, 0.0, 0.0, 0.0, 0.0, 0.0, 0.0, 0.0, 0.0, 0.0, 0.0, 0.0, 0.0, 0.0, 0.0, 0.0, 0.0, 0.0, 0.0, 0.0, 0.0, 0.0, 0.0, 0.0, 0.0, 0.0, 0.0, 0.0, 0.0, 0.0, 0.0, 0.0, 0.0, 0.0, 0.0, 0.0, 0.0, 0.0, 0.0, 0.0, 0.0, 0.0, 0.0, 0.0, 0.0, 0.0, 0.0, 0.0, 0.0, 0.0, 0.0, 0.0, 0.0, 0.0, 0.0, 0.0, 0.0, 0.0, 0.0, 0.0, 0.0, 0.0, 0.0, 0.0, 0.0, 0.0, 0.0], [0.0, 0.0, 0.0, 0.0, 0.0, 0.0, 0.0, 0.0, 0.0, 0.0, 0.0, 0.0, 0.0, 0.0, 0.0, 0.0, 0.0, 0.0, 0.0, 0.0, 0.0, 0.0, 0.0, 0.0, 0.0, 0.0, 0.0, 0.0, 0.0, 0.0, 0.0, 0.0, 0.0, 0.0, 0.0, 0.0, 0.0, 0.0, 0.0, 0.0, 0.0, 0.0, 0.0, 0.0, 0.0, 0.0, 0.0, 0.0, 0.0, 0.0, 0.0, 0.0, 0.0, 0.0, 0.0, 0.0, 0.0, 0.0, 0.0, 0.0, 0.0, 0.0, 0.0, 0.0, 0.0, 0.0, 0.0, 0.0, 0.0, 0.0, 0.0, 0.0, 0.0, 0.0, 0.0, 0.0, 0.0, 0.0, 0.0, 0.0], [0.0, 0.0, 0.0, 0.0, 0.0, 0.0, 0.0, 0.0, 0.0, 0.0, 0.0, 0.0, 0.0, 0.0, 0.0, 0.0, 0.0, 0.0, 0.0, 0.0, 0.0, 0.0, 0.0, 0.0, 0.0, 0.0, 0.0, 0.0, 0.0, 0.0, 0.0, 0.0, 0.0, 0.0, 0.0, 0.0, 0.0, 0.0, 0.0, 0.0, 0.0, 0.0, 0.0, 0.0, 0.0, 0.0, 0.0, 0.0, 0.0, 0.0, 0.0, 0.0, 0.0, 0.0, 0.0, 0.0, 0.0, 0.0, 0.0, 0.0, 0.0, 0.0, 0.0, 0.0, 0.0, 0.0, 0.0, 0.0, 0.0, 0.0, 0.0, 0.0, 0.0, 0.0, 0.0, 0.0, 0.0, 0.0, 0.0, 0.0], [0.0, 0.0, 0.0, 0.0, 0.0, 0.0, 0.0, 0.0, 0.0, 0.0, 0.0, 0.0, 0.0, 0.0, 0.0, 0.0, 0.0, 0.0, 0.0, 1.0, 4.0, 6.0, 4.0, 4.0, 6.0, 7.0, 7.0, 7.0, 6.0, 7.0, 6.0, 8.0, 10.0, 6.0, 10.0, 10.0, 4.0, 4.0, 7.0, 5.0, 6.0, 6.0, 4.0, 7.0, 4.0, 6.0, 4.0, 4.0, 4.0, 9.0, 8.0, 6.0, 10.0, 2.0, 11.0, 9.0, 4.0, 5.0, 5.0, 4.0, 0.0, 0.0, 0.0, 0.0, 0.0, 0.0, 0.0, 0.0, 0.0, 0.0, 0.0, 0.0, 0.0, 0.0, 0.0, 0.0, 0.0, 0.0, 0.0, 0.0], [0.0, 0.0, 0.0, 0.0, 0.0, 0.0, 0.0, 0.0, 0.0, 0.0, 0.0, 0.0, 0.0, 0.0, 0.0, 0.0, 0.0, 0.0, 0.0, 85.0, 1244.0, 1561.0, 1341.0, 1693.0, 1683.0, 2395.0, 3098.0, 2124.0, 1857.0, 2836.0, 1131.0, 1596.0, 2828.0, 1777.0, 1533.0, 1486.0, 1779.0, 1618.0, 1783.0, 1228.0, 624.0, 2427.0, 1682.0, 1132.0, 1455.0, 1947.0, 1721.0, 1591.0, 1715.0, 1104.0, 1281.0, 1033.0, 2073.0, 1956.0, 1619.0, 1831.0, 1075.0, 927.0, 2643.0, 1843.0, 0.0, 0.0, 0.0, 0.0, 0.0, 0.0, 0.0, 0.0, 0.0, 0.0, 0.0, 0.0, 0.0, 0.0, 0.0, 0.0, 0.0, 0.0, 0.0, 0.0], [0.0, 0.0, 0.0, 0.0, 0.0, 0.0, 0.0, 0.0, 0.0, 0.0, 0.0, 0.0, 0.0, 0.0, 0.0, 0.0, 0.0, 0.0, 0.0, 29.0, 191.0, 224.0, 414.0, 303.0, 253.0, 632.0, 204.0, 675.0, 270.0, 283.0, 115.0, 563.0, 685.0, 549.0, 408.0, 405.0, 255.0, 526.0, 350.0, 238.0, 136.0, 480.0, 594.0, 177.0, 339.0, 323.0, 108.0, 409.0, 225.0, 154.0, 303.0, 268.0, 301.0, 274.0, 233.0, 620.0, 160.0, 156.0, 590.0, 523.0, 0.0, 0.0, 0.0, 0.0, 0.0, 0.0, 0.0, 0.0, 0.0, 0.0, 0.0, 0.0, 0.0, 0.0, 0.0, 0.0, 0.0, 0.0, 0.0, 0.0], [0.0, 0.0, 0.0, 0.0, 0.0, 0.0, 0.0, 0.0, 0.0, 0.0, 0.0, 0.0, 0.0, 0.0, 0.0, 0.0, 0.0, 0.0, 0.0, 0.0, 24.0, 37.0, 60.0, 40.0, 34.0, 95.0, 30.0, 108.0, 37.0, 46.0, 17.0, 100.0, 90.0, 46.0, 79.0, 49.0, 49.0, 93.0, 65.0, 20.0, 33.0, 105.0, 102.0, 41.0, 55.0, 51.0, 23.0, 80.0, 70.0, 28.0, 79.0, 31.0, 38.0, 20.0, 38.0, 102.0, 31.0, 29.0, 39.0, 78.0, 0.0, 0.0, 0.0, 0.0, 0.0, 0.0, 0.0, 0.0, 0.0, 0.0, 0.0, 0.0, 0.0, 0.0, 0.0, 0.0, 0.0, 0.0, 0.0, 0.0], [0.0, 0.0, 0.0, 0.0, 0.0, 0.0, 0.0, 0.0, 0.0, 0.0, 0.0, 0.0, 0.0, 0.0, 0.0, 0.0, 0.0, 0.0, 0.0, 0.0, 0.0, 0.0, 0.0, 0.0, 0.0, 0.0, 0.0, 0.0, 0.0, 0.0, 0.0, 0.0, 0.0, 0.0, 0.0, 0.0, 0.0, 0.0, 0.0, 0.0, 0.0, 0.0, 0.0, 0.0, 0.0, 0.0, 0.0, 0.0, 0.0, 0.0, 0.0, 0.0, 0.0, 0.0, 0.0, 0.0, 0.0, 0.0, 0.0, 0.0, 0.0, 0.0, 0.0, 0.0, 0.0, 0.0, 0.0, 0.0, 0.0, 0.0, 0.0, 0.0, 0.0, 0.0, 0.0, 0.0, 0.0, 0.0, 0.0, 0.0], [0.0, 0.0, 0.0, 0.0, 0.0, 0.0, 0.0, 0.0, 0.0, 0.0, 0.0, 0.0, 0.0, 0.0, 0.0, 0.0, 0.0, 0.0, 0.0, 0.0, 0.0, 0.0, 0.0, 0.0, 0.0, 0.0, 0.0, 0.0, 0.0, 0.0, 0.0, 0.0, 0.0, 0.0, 0.0, 0.0, 0.0, 0.0, 0.0, 0.0, 0.0, 0.0, 0.0, 0.0, 0.0, 0.0, 0.0, 0.0, 0.0, 0.0, 0.0, 0.0, 0.0, 0.0, 0.0, 0.0, 0.0, 0.0, 0.0, 0.0, 0.0, 0.0, 0.0, 0.0, 0.0, 0.0, 0.0, 0.0, 0.0, 0.0, 0.0, 0.0, 0.0, 0.0, 0.0, 0.0, 0.0, 0.0, 0.0, 0.0], [0.0, 0.0, 0.0, 0.0, 0.0, 0.0, 0.0, 0.0, 0.0, 0.0, 0.0, 0.0, 0.0, 0.0, 0.0, 0.0, 0.0, 0.0, 0.0, 0.0, 0.0, 0.0, 0.0, 0.0, 0.0, 0.0, 0.0, 0.0, 0.0, 0.0, 0.0, 0.0, 0.0, 0.0, 0.0, 0.0, 0.0, 0.0, 0.0, 0.0, 0.0, 0.0, 0.0, 0.0, 0.0, 0.0, 0.0, 0.0, 0.0, 0.0, 0.0, 0.0, 0.0, 0.0, 0.0, 0.0, 0.0, 0.0, 0.0, 0.0, 0.0, 0.0, 0.0, 0.0, 0.0, 0.0, 0.0, 0.0, 0.0, 0.0, 0.0, 0.0, 0.0, 0.0, 0.0, 0.0, 0.0, 0.0, 0.0, 0.0], [0.0, 0.0, 0.0, 0.0, 0.0, 0.0, 0.0, 0.0, 0.0, 0.0, 0.0, 0.0, 0.0, 0.0, 0.0, 0.0, 0.0, 0.0, 0.0, 0.0, 6.0, 16.0, 16.0, 7.0, 8.0, 46.0, 8.0, 103.0, 31.0, 6.0, 5.0, 29.0, 43.0, 14.0, 21.0, 4.0, 27.0, 21.0, 16.0, 9.0, 6.0, 10.0, 35.0, 11.0, 39.0, 4.0, 1.0, 21.0, 26.0, 9.0, 19.0, 5.0, 7.0, 1.0, 7.0, 53.0, 14.0, 18.0, 15.0, 21.0, 0.0, 0.0, 0.0, 0.0, 0.0, 0.0, 0.0, 0.0, 0.0, 0.0, 0.0, 0.0, 0.0, 0.0, 0.0, 0.0, 0.0, 0.0, 0.0, 0.0], [0.0, 0.0, 0.0, 0.0, 0.0, 0.0, 0.0, 0.0, 0.0, 0.0, 0.0, 0.0, 0.0, 0.0, 0.0, 0.0, 0.0, 0.0, 0.0, 0.0, 9.0, 8.0, 12.0, 16.0, 11.0, 24.0, 10.0, 25.0, 11.0, 9.0, 10.0, 22.0, 24.0, 14.0, 24.0, 5.0, 15.0, 33.0, 16.0, 9.0, 9.0, 17.0, 25.0, 10.0, 16.0, 13.0, 2.0, 27.0, 7.0, 7.0, 18.0, 4.0, 6.0, 1.0, 11.0, 34.0, 5.0, 7.0, 15.0, 13.0, 0.0, 0.0, 0.0, 0.0, 0.0, 0.0, 0.0, 0.0, 0.0, 0.0, 0.0, 0.0, 0.0, 0.0, 0.0, 0.0, 0.0, 0.0, 0.0, 0.0], [0.0, 0.0, 0.0, 0.0, 0.0, 0.0, 0.0, 0.0, 0.0, 0.0, 0.0, 0.0, 0.0, 0.0, 0.0, 0.0, 0.0, 0.0, 0.0, 0.0, 15.0, 22.0, 25.0, 27.0, 13.0, 42.0, 26.0, 45.0, 18.0, 15.0, 9.0, 54.0, 38.0, 10.0, 37.0, 16.0, 19.0, 56.0, 54.0, 14.0, 10.0, 19.0, 37.0, 22.0, 26.0, 16.0, 8.0, 51.0, 23.0, 13.0, 24.0, 19.0, 18.0, 5.0, 23.0, 45.0, 20.0, 16.0, 23.0, 34.0, 0.0, 0.0, 0.0, 0.0, 0.0, 0.0, 0.0, 0.0, 0.0, 0.0, 0.0, 0.0, 0.0, 0.0, 0.0, 0.0, 0.0, 0.0, 0.0, 0.0], [0.0, 0.0, 0.0, 0.0, 0.0, 0.0, 0.0, 0.0, 0.0, 0.0, 0.0, 0.0, 0.0, 0.0, 0.0, 0.0, 0.0, 0.0, 0.0, 0.0, 7.0, 9.0, 11.0, 6.0, 8.0, 19.0, 7.0, 28.0, 8.0, 6.0, 5.0, 22.0, 18.0, 5.0, 22.0, 9.0, 11.0, 28.0, 18.0, 1.0, 6.0, 7.0, 11.0, 8.0, 8.0, 5.0, 5.0, 27.0, 5.0, 4.0, 2.0, 2.0, 5.0, 3.0, 2.0, 20.0, 10.0, 5.0, 17.0, 8.0, 0.0, 0.0, 0.0, 0.0, 0.0, 0.0, 0.0, 0.0, 0.0, 0.0, 0.0, 0.0, 0.0, 0.0, 0.0, 0.0, 0.0, 0.0, 0.0, 0.0], [0.0, 0.0, 0.0, 0.0, 0.0, 0.0, 0.0, 0.0, 0.0, 0.0, 0.0, 0.0, 0.0, 0.0, 0.0, 0.0, 0.0, 0.0, 0.0, 0.0, 5.0, 17.0, 15.0, 17.0, 11.0, 30.0, 19.0, 36.0, 14.0, 8.0, 10.0, 43.0, 30.0, 7.0, 34.0, 10.0, 9.0, 44.0, 32.0, 3.0, 8.0, 11.0, 16.0, 13.0, 15.0, 11.0, 4.0, 36.0, 16.0, 14.0, 10.0, 8.0, 18.0, 6.0, 17.0, 37.0, 14.0, 12.0, 19.0, 19.0, 0.0, 0.0, 0.0, 0.0, 0.0, 0.0, 0.0, 0.0, 0.0, 0.0, 0.0, 0.0, 0.0, 0.0, 0.0, 0.0, 0.0, 0.0, 0.0, 0.0], [0.0, 0.0, 0.0, 0.0, 0.0, 0.0, 0.0, 0.0, 0.0, 0.0, 0.0, 0.0, 0.0, 0.0, 0.0, 0.0, 0.0, 0.0, 0.0, 0.0, 15.0, 13.0, 39.0, 26.0, 9.0, 54.0, 21.0, 69.0, 12.0, 10.0, 24.0, 72.0, 50.0, 11.0, 47.0, 2.0, 26.0, 82.0, 33.0, 3.0, 7.0, 19.0, 23.0, 21.0, 28.0, 16.0, 16.0, 71.0, 29.0, 25.0, 20.0, 15.0, 24.0, 11.0, 26.0, 63.0, 23.0, 27.0, 11.0, 30.0, 0.0, 0.0, 0.0, 0.0, 0.0, 0.0, 0.0, 0.0, 0.0, 0.0, 0.0, 0.0, 0.0, 0.0, 0.0, 0.0, 0.0, 0.0, 0.0, 0.0], [0.0, 0.0, 0.0, 0.0, 0.0, 0.0, 0.0, 0.0, 0.0, 0.0, 0.0, 0.0, 0.0, 0.0, 0.0, 0.0, 0.0, 0.0, 0.0, 0.0, 18.0, 7.0, 32.0, 17.0, 4.0, 47.0, 13.0, 35.0, 9.0, 7.0, 12.0, 52.0, 26.0, 7.0, 30.0, 1.0, 13.0, 55.0, 11.0, 0.0, 3.0, 11.0, 8.0, 9.0, 15.0, 9.0, 6.0, 52.0, 18.0, 15.0, 9.0, 7.0, 4.0, 4.0, 12.0, 46.0, 15.0, 21.0, 11.0, 15.0, 0.0, 0.0, 0.0, 0.0, 0.0, 0.0, 0.0, 0.0, 0.0, 0.0, 0.0, 0.0, 0.0, 0.0, 0.0, 0.0, 0.0, 0.0, 0.0, 0.0], [0.0, 0.0, 0.0, 0.0, 0.0, 0.0, 0.0, 0.0, 0.0, 0.0, 0.0, 0.0, 0.0, 0.0, 0.0, 0.0, 0.0, 0.0, 0.0, 0.0, 24.0, 11.0, 33.0, 31.0, 14.0, 66.0, 8.0, 64.0, 17.0, 12.0, 25.0, 82.0, 44.0, 6.0, 46.0, 1.0, 20.0, 98.0, 27.0, 4.0, 12.0, 23.0, 22.0, 16.0, 29.0, 25.0, 14.0, 80.0, 48.0, 27.0, 28.0, 11.0, 25.0, 7.0, 28.0, 86.0, 38.0, 31.0, 17.0, 25.0, 0.0, 0.0, 0.0, 0.0, 0.0, 0.0, 0.0, 0.0, 0.0, 0.0, 0.0, 0.0, 0.0, 0.0, 0.0, 0.0, 0.0, 0.0, 0.0, 0.0], [0.0, 0.0, 0.0, 0.0, 0.0, 0.0, 0.0, 0.0, 0.0, 0.0, 0.0, 0.0, 0.0, 0.0, 0.0, 0.0, 0.0, 0.0, 0.0, 0.0, 27.0, 8.0, 35.0, 18.0, 11.0, 48.0, 17.0, 45.0, 19.0, 4.0, 22.0, 63.0, 32.0, 12.0, 32.0, 0.0, 28.0, 52.0, 13.0, 4.0, 7.0, 8.0, 20.0, 20.0, 20.0, 23.0, 6.0, 77.0, 37.0, 14.0, 23.0, 14.0, 17.0, 10.0, 23.0, 48.0, 24.0, 31.0, 14.0, 26.0, 0.0, 0.0, 0.0, 0.0, 0.0, 0.0, 0.0, 0.0, 0.0, 0.0, 0.0, 0.0, 0.0, 0.0, 0.0, 0.0, 0.0, 0.0, 0.0, 0.0], [0.0, 0.0, 0.0, 0.0, 0.0, 0.0, 0.0, 0.0, 0.0, 0.0, 0.0, 0.0, 0.0, 0.0, 0.0, 0.0, 0.0, 0.0, 0.0, 0.0, 11.0, 10.0, 18.0, 16.0, 7.0, 34.0, 5.0, 40.0, 19.0, 4.0, 16.0, 43.0, 21.0, 7.0, 21.0, 0.0, 5.0, 32.0, 4.0, 5.0, 5.0, 5.0, 14.0, 8.0, 15.0, 9.0, 5.0, 31.0, 21.0, 14.0, 8.0, 4.0, 11.0, 4.0, 11.0, 32.0, 7.0, 19.0, 6.0, 15.0, 0.0, 0.0, 0.0, 0.0, 0.0, 0.0, 0.0, 0.0, 0.0, 0.0, 0.0, 0.0, 0.0, 0.0, 0.0, 0.0, 0.0, 0.0, 0.0, 0.0], [0.0, 0.0, 0.0, 0.0, 0.0, 0.0, 0.0, 0.0, 0.0, 0.0, 0.0, 0.0, 0.0, 0.0, 0.0, 0.0, 0.0, 0.0, 0.0, 0.0, 17.0, 4.0, 24.0, 20.0, 15.0, 31.0, 5.0, 40.0, 10.0, 3.0, 10.0, 46.0, 14.0, 4.0, 32.0, 4.0, 17.0, 29.0, 4.0, 8.0, 9.0, 7.0, 18.0, 15.0, 13.0, 10.0, 3.0, 33.0, 24.0, 8.0, 17.0, 8.0, 19.0, 3.0, 17.0, 44.0, 10.0, 18.0, 6.0, 23.0, 0.0, 0.0, 0.0, 0.0, 0.0, 0.0, 0.0, 0.0, 0.0, 0.0, 0.0, 0.0, 0.0, 0.0, 0.0, 0.0, 0.0, 0.0, 0.0, 0.0], [0.0, 0.0, 0.0, 0.0, 0.0, 0.0, 0.0, 0.0, 0.0, 0.0, 0.0, 0.0, 0.0, 0.0, 0.0, 0.0, 0.0, 0.0, 0.0, 0.0, 25.0, 11.0, 41.0, 27.0, 12.0, 32.0, 10.0, 42.0, 4.0, 10.0, 25.0, 60.0, 38.0, 3.0, 47.0, 0.0, 35.0, 46.0, 4.0, 5.0, 5.0, 8.0, 16.0, 20.0, 14.0, 9.0, 4.0, 54.0, 13.0, 9.0, 17.0, 8.0, 12.0, 7.0, 15.0, 42.0, 19.0, 32.0, 6.0, 25.0, 0.0, 0.0, 0.0, 0.0, 0.0, 0.0, 0.0, 0.0, 0.0, 0.0, 0.0, 0.0, 0.0, 0.0, 0.0, 0.0, 0.0, 0.0, 0.0, 0.0], [0.0, 0.0, 0.0, 0.0, 0.0, 0.0, 0.0, 0.0, 0.0, 0.0, 0.0, 0.0, 0.0, 0.0, 0.0, 0.0, 0.0, 0.0, 0.0, 0.0, 10.0, 3.0, 19.0, 12.0, 8.0, 25.0, 2.0, 23.0, 1.0, 1.0, 8.0, 22.0, 9.0, 0.0, 20.0, 0.0, 6.0, 22.0, 0.0, 3.0, 3.0, 2.0, 12.0, 8.0, 7.0, 9.0, 0.0, 17.0, 16.0, 5.0, 11.0, 5.0, 10.0, 2.0, 5.0, 20.0, 6.0, 16.0, 5.0, 10.0, 0.0, 0.0, 0.0, 0.0, 0.0, 0.0, 0.0, 0.0, 0.0, 0.0, 0.0, 0.0, 0.0, 0.0, 0.0, 0.0, 0.0, 0.0, 0.0, 0.0], [0.0, 0.0, 0.0, 0.0, 0.0, 0.0, 0.0, 0.0, 0.0, 0.0, 0.0, 0.0, 0.0, 0.0, 0.0, 0.0, 0.0, 0.0, 0.0, 0.0, 18.0, 6.0, 39.0, 19.0, 15.0, 4.0, 11.0, 37.0, 8.0, 4.0, 21.0, 46.0, 21.0, 6.0, 19.0, 1.0, 20.0, 39.0, 3.0, 5.0, 8.0, 8.0, 25.0, 21.0, 15.0, 7.0, 4.0, 24.0, 24.0, 11.0, 13.0, 12.0, 6.0, 3.0, 15.0, 40.0, 13.0, 23.0, 2.0, 30.0, 0.0, 0.0, 0.0, 0.0, 0.0, 0.0, 0.0, 0.0, 0.0, 0.0, 0.0, 0.0, 0.0, 0.0, 0.0, 0.0, 0.0, 0.0, 0.0, 0.0], [0.0, 0.0, 0.0, 0.0, 0.0, 0.0, 0.0, 0.0, 0.0, 0.0, 0.0, 0.0, 0.0, 0.0, 0.0, 0.0, 0.0, 0.0, 0.0, 0.0, 14.0, 4.0, 41.0, 18.0, 13.0, 2.0, 3.0, 25.0, 6.0, 1.0, 15.0, 40.0, 15.0, 1.0, 10.0, 1.0, 7.0, 41.0, 1.0, 2.0, 5.0, 7.0, 12.0, 9.0, 27.0, 7.0, 1.0, 28.0, 23.0, 8.0, 11.0, 8.0, 5.0, 5.0, 7.0, 26.0, 7.0, 16.0, 1.0, 20.0, 0.0, 0.0, 0.0, 0.0, 0.0, 0.0, 0.0, 0.0, 0.0, 0.0, 0.0, 0.0, 0.0, 0.0, 0.0, 0.0, 0.0, 0.0, 0.0, 0.0], [0.0, 0.0, 0.0, 0.0, 0.0, 0.0, 0.0, 0.0, 0.0, 0.0, 0.0, 0.0, 0.0, 0.0, 0.0, 0.0, 0.0, 0.0, 0.0, 0.0, 19.0, 2.0, 50.0, 20.0, 11.0, 2.0, 3.0, 42.0, 7.0, 4.0, 3.0, 50.0, 5.0, 3.0, 6.0, 1.0, 6.0, 35.0, 0.0, 2.0, 5.0, 4.0, 9.0, 20.0, 28.0, 10.0, 0.0, 21.0, 21.0, 8.0, 18.0, 9.0, 7.0, 5.0, 4.0, 27.0, 14.0, 21.0, 0.0, 31.0, 0.0, 0.0, 0.0, 0.0, 0.0, 0.0, 0.0, 0.0, 0.0, 0.0, 0.0, 0.0, 0.0, 0.0, 0.0, 0.0, 0.0, 0.0, 0.0, 0.0], [0.0, 0.0, 0.0, 0.0, 0.0, 0.0, 0.0, 0.0, 0.0, 0.0, 0.0, 0.0, 0.0, 0.0, 0.0, 0.0, 0.0, 0.0, 0.0, 0.0, 13.0, 6.0, 52.0, 15.0, 10.0, 5.0, 9.0, 45.0, 13.0, 2.0, 1.0, 48.0, 4.0, 4.0, 7.0, 1.0, 5.0, 33.0, 3.0, 6.0, 5.0, 7.0, 13.0, 20.0, 12.0, 12.0, 3.0, 19.0, 18.0, 10.0, 11.0, 13.0, 9.0, 4.0, 9.0, 27.0, 17.0, 17.0, 2.0, 33.0, 0.0, 0.0, 0.0, 0.0, 0.0, 0.0, 0.0, 0.0, 0.0, 0.0, 0.0, 0.0, 0.0, 0.0, 0.0, 0.0, 0.0, 0.0, 0.0, 0.0], [0.0, 0.0, 0.0, 0.0, 0.0, 0.0, 0.0, 0.0, 0.0, 0.0, 0.0, 0.0, 0.0, 0.0, 0.0, 0.0, 0.0, 0.0, 0.0, 0.0, 14.0, 4.0, 54.0, 22.0, 6.0, 0.0, 13.0, 34.0, 10.0, 1.0, 2.0, 30.0, 7.0, 2.0, 3.0, 0.0, 3.0, 30.0, 1.0, 2.0, 1.0, 2.0, 10.0, 22.0, 11.0, 9.0, 1.0, 21.0, 7.0, 9.0, 9.0, 4.0, 9.0, 1.0, 4.0, 40.0, 15.0, 17.0, 0.0, 30.0, 0.0, 0.0, 0.0, 0.0, 0.0, 0.0, 0.0, 0.0, 0.0, 0.0, 0.0, 0.0, 0.0, 0.0, 0.0, 0.0, 0.0, 0.0, 0.0, 0.0], [0.0, 0.0, 0.0, 0.0, 0.0, 0.0, 0.0, 0.0, 0.0, 0.0, 0.0, 0.0, 0.0, 0.0, 0.0, 0.0, 0.0, 0.0, 0.0, 0.0, 8.0, 8.0, 51.0, 11.0, 1.0, 2.0, 9.0, 43.0, 15.0, 3.0, 1.0, 25.0, 7.0, 3.0, 5.0, 1.0, 6.0, 21.0, 1.0, 7.0, 4.0, 2.0, 6.0, 18.0, 10.0, 4.0, 3.0, 18.0, 6.0, 5.0, 5.0, 7.0, 9.0, 0.0, 2.0, 23.0, 12.0, 19.0, 0.0, 27.0, 0.0, 0.0, 0.0, 0.0, 0.0, 0.0, 0.0, 0.0, 0.0, 0.0, 0.0, 0.0, 0.0, 0.0, 0.0, 0.0, 0.0, 0.0, 0.0, 0.0], [0.0, 0.0, 0.0, 0.0, 0.0, 0.0, 0.0, 0.0, 0.0, 0.0, 0.0, 0.0, 0.0, 0.0, 0.0, 0.0, 0.0, 0.0, 0.0, 0.0, 13.0, 4.0, 54.0, 14.0, 2.0, 1.0, 10.0, 44.0, 6.0, 3.0, 0.0, 39.0, 8.0, 1.0, 5.0, 2.0, 8.0, 21.0, 0.0, 7.0, 3.0, 3.0, 15.0, 18.0, 8.0, 7.0, 3.0, 26.0, 9.0, 3.0, 5.0, 9.0, 8.0, 1.0, 6.0, 28.0, 16.0, 14.0, 0.0, 22.0, 0.0, 0.0, 0.0, 0.0, 0.0, 0.0, 0.0, 0.0, 0.0, 0.0, 0.0, 0.0, 0.0, 0.0, 0.0, 0.0, 0.0, 0.0, 0.0, 0.0], [0.0, 0.0, 0.0, 0.0, 0.0, 0.0, 0.0, 0.0, 0.0, 0.0, 0.0, 0.0, 0.0, 0.0, 0.0, 0.0, 0.0, 0.0, 0.0, 0.0, 13.0, 6.0, 41.0, 25.0, 1.0, 2.0, 17.0, 39.0, 6.0, 7.0, 0.0, 44.0, 17.0, 7.0, 7.0, 0.0, 4.0, 11.0, 3.0, 8.0, 7.0, 4.0, 17.0, 17.0, 10.0, 13.0, 5.0, 15.0, 11.0, 2.0, 3.0, 12.0, 9.0, 4.0, 6.0, 29.0, 16.0, 23.0, 0.0, 22.0, 0.0, 0.0, 0.0, 0.0, 0.0, 0.0, 0.0, 0.0, 0.0, 0.0, 0.0, 0.0, 0.0, 0.0, 0.0, 0.0, 0.0, 0.0, 0.0, 0.0], [0.0, 0.0, 0.0, 0.0, 0.0, 0.0, 0.0, 0.0, 0.0, 0.0, 0.0, 0.0, 0.0, 0.0, 0.0, 0.0, 0.0, 0.0, 0.0, 0.0, 12.0, 5.0, 50.0, 15.0, 5.0, 1.0, 6.0, 42.0, 4.0, 1.0, 2.0, 39.0, 5.0, 6.0, 5.0, 1.0, 9.0, 11.0, 0.0, 7.0, 1.0, 8.0, 7.0, 19.0, 14.0, 7.0, 5.0, 17.0, 2.0, 2.0, 0.0, 6.0, 2.0, 4.0, 6.0, 28.0, 19.0, 25.0, 0.0, 28.0, 0.0, 0.0, 0.0, 0.0, 0.0, 0.0, 0.0, 0.0, 0.0, 0.0, 0.0, 0.0, 0.0, 0.0, 0.0, 0.0, 0.0, 0.0, 0.0, 0.0], [0.0, 0.0, 0.0, 0.0, 0.0, 0.0, 0.0, 0.0, 0.0, 0.0, 0.0, 0.0, 0.0, 0.0, 0.0, 0.0, 0.0, 0.0, 0.0, 0.0, 10.0, 3.0, 37.0, 6.0, 1.0, 0.0, 5.0, 21.0, 0.0, 2.0, 0.0, 16.0, 3.0, 2.0, 3.0, 0.0, 5.0, 10.0, 1.0, 3.0, 9.0, 7.0, 6.0, 16.0, 8.0, 5.0, 1.0, 10.0, 0.0, 0.0, 0.0, 11.0, 1.0, 2.0, 4.0, 24.0, 9.0, 7.0, 0.0, 15.0, 0.0, 0.0, 0.0, 0.0, 0.0, 0.0, 0.0, 0.0, 0.0, 0.0, 0.0, 0.0, 0.0, 0.0, 0.0, 0.0, 0.0, 0.0, 0.0, 0.0], [0.0, 0.0, 0.0, 0.0, 0.0, 0.0, 0.0, 0.0, 0.0, 0.0, 0.0, 0.0, 0.0, 0.0, 0.0, 0.0, 0.0, 0.0, 0.0, 0.0, 1.0, 1.0, 20.0, 2.0, 0.0, 0.0, 0.0, 11.0, 0.0, 2.0, 0.0, 5.0, 2.0, 1.0, 0.0, 0.0, 1.0, 2.0, 1.0, 2.0, 0.0, 1.0, 3.0, 8.0, 5.0, 1.0, 0.0, 3.0, 0.0, 0.0, 0.0, 1.0, 0.0, 0.0, 0.0, 5.0, 2.0, 1.0, 0.0, 7.0, 0.0, 0.0, 0.0, 0.0, 0.0, 0.0, 0.0, 0.0, 0.0, 0.0, 0.0, 0.0, 0.0, 0.0, 0.0, 0.0, 0.0, 0.0, 0.0, 0.0], [0.0, 0.0, 0.0, 0.0, 0.0, 0.0, 0.0, 0.0, 0.0, 0.0, 0.0, 0.0, 0.0, 0.0, 0.0, 0.0, 0.0, 0.0, 0.0, 0.0, 6.0, 1.0, 10.0, 4.0, 0.0, 0.0, 3.0, 0.0, 0.0, 3.0, 0.0, 12.0, 4.0, 2.0, 0.0, 0.0, 7.0, 9.0, 0.0, 1.0, 1.0, 4.0, 6.0, 18.0, 0.0, 6.0, 0.0, 3.0, 0.0, 0.0, 0.0, 3.0, 0.0, 2.0, 1.0, 11.0, 4.0, 4.0, 0.0, 9.0, 0.0, 0.0, 0.0, 0.0, 0.0, 0.0, 0.0, 0.0, 0.0, 0.0, 0.0, 0.0, 0.0, 0.0, 0.0, 0.0, 0.0, 0.0, 0.0, 0.0], [0.0, 0.0, 0.0, 0.0, 0.0, 0.0, 0.0, 0.0, 0.0, 0.0, 0.0, 0.0, 0.0, 0.0, 0.0, 0.0, 0.0, 0.0, 0.0, 0.0, 2.0, 3.0, 17.0, 1.0, 0.0, 0.0, 0.0, 11.0, 0.0, 5.0, 0.0, 2.0, 3.0, 1.0, 0.0, 0.0, 2.0, 2.0, 0.0, 0.0, 0.0, 2.0, 1.0, 1.0, 0.0, 0.0, 0.0, 1.0, 1.0, 0.0, 0.0, 1.0, 0.0, 1.0, 0.0, 2.0, 6.0, 1.0, 0.0, 3.0, 0.0, 0.0, 0.0, 0.0, 0.0, 0.0, 0.0, 0.0, 0.0, 0.0, 0.0, 0.0, 0.0, 0.0, 0.0, 0.0, 0.0, 0.0, 0.0, 0.0], [0.0, 0.0, 0.0, 0.0, 0.0, 0.0, 0.0, 0.0, 0.0, 0.0, 0.0, 0.0, 0.0, 0.0, 0.0, 0.0, 0.0, 0.0, 0.0, 0.0, 3.0, 3.0, 20.0, 1.0, 0.0, 1.0, 0.0, 11.0, 0.0, 2.0, 0.0, 9.0, 3.0, 2.0, 0.0, 0.0, 4.0, 6.0, 0.0, 2.0, 1.0, 1.0, 3.0, 4.0, 5.0, 2.0, 0.0, 4.0, 1.0, 0.0, 0.0, 1.0, 0.0, 0.0, 1.0, 5.0, 4.0, 2.0, 0.0, 10.0, 0.0, 0.0, 0.0, 0.0, 0.0, 0.0, 0.0, 0.0, 0.0, 0.0, 0.0, 0.0, 0.0, 0.0, 0.0, 0.0, 0.0, 0.0, 0.0, 0.0], [0.0, 0.0, 0.0, 0.0, 0.0, 0.0, 0.0, 0.0, 0.0, 0.0, 0.0, 0.0, 0.0, 0.0, 0.0, 0.0, 0.0, 0.0, 0.0, 0.0, 11.0, 4.0, 21.0, 1.0, 0.0, 0.0, 1.0, 9.0, 1.0, 3.0, 0.0, 5.0, 0.0, 0.0, 0.0, 0.0, 5.0, 9.0, 1.0, 0.0, 1.0, 1.0, 6.0, 12.0, 3.0, 1.0, 0.0, 1.0, 1.0, 0.0, 0.0, 1.0, 0.0, 0.0, 3.0, 3.0, 3.0, 1.0, 0.0, 13.0, 0.0, 0.0, 0.0, 0.0, 0.0, 0.0, 0.0, 0.0, 0.0, 0.0, 0.0, 0.0, 0.0, 0.0, 0.0, 0.0, 0.0, 0.0, 0.0, 0.0], [0.0, 0.0, 0.0, 0.0, 0.0, 0.0, 0.0, 0.0, 0.0, 0.0, 0.0, 0.0, 0.0, 0.0, 0.0, 0.0, 0.0, 0.0, 0.0, 0.0, 1.0, 18.0, 7.0, 2.0, 0.0, 0.0, 0.0, 9.0, 0.0, 2.0, 0.0, 6.0, 2.0, 1.0, 0.0, 0.0, 1.0, 5.0, 0.0, 0.0, 1.0, 0.0, 0.0, 6.0, 2.0, 2.0, 0.0, 0.0, 0.0, 0.0, 0.0, 0.0, 0.0, 0.0, 0.0, 8.0, 6.0, 0.0, 0.0, 9.0, 0.0, 0.0, 0.0, 0.0, 0.0, 0.0, 0.0, 0.0, 0.0, 0.0, 0.0, 0.0, 0.0, 0.0, 0.0, 0.0, 0.0, 0.0, 0.0, 0.0], [0.0, 0.0, 0.0, 0.0, 0.0, 0.0, 0.0, 0.0, 0.0, 0.0, 0.0, 0.0, 0.0, 0.0, 0.0, 0.0, 0.0, 0.0, 0.0, 0.0, 1.0, 1.0, 9.0, 0.0, 0.0, 0.0, 1.0, 4.0, 0.0, 0.0, 0.0, 2.0, 3.0, 0.0, 0.0, 0.0, 1.0, 2.0, 0.0, 0.0, 0.0, 0.0, 2.0, 2.0, 0.0, 0.0, 0.0, 0.0, 0.0, 0.0, 0.0, 0.0, 0.0, 0.0, 0.0, 1.0, 2.0, 0.0, 0.0, 5.0, 0.0, 0.0, 0.0, 0.0, 0.0, 0.0, 0.0, 0.0, 0.0, 0.0, 0.0, 0.0, 0.0, 0.0, 0.0, 0.0, 0.0, 0.0, 0.0, 0.0], [0.0, 0.0, 0.0, 0.0, 0.0, 0.0, 0.0, 0.0, 0.0, 0.0, 0.0, 0.0, 0.0, 0.0, 0.0, 0.0, 0.0, 0.0, 0.0, 0.0, 1.0, 4.0, 4.0, 1.0, 0.0, 0.0, 1.0, 6.0, 0.0, 0.0, 0.0, 2.0, 0.0, 1.0, 0.0, 0.0, 1.0, 1.0, 0.0, 0.0, 1.0, 0.0, 1.0, 9.0, 0.0, 2.0, 0.0, 0.0, 0.0, 0.0, 0.0, 0.0, 0.0, 0.0, 2.0, 2.0, 4.0, 0.0, 0.0, 5.0, 0.0, 0.0, 0.0, 0.0, 0.0, 0.0, 0.0, 0.0, 0.0, 0.0, 0.0, 0.0, 0.0, 0.0, 0.0, 0.0, 0.0, 0.0, 0.0, 0.0], [0.0, 0.0, 0.0, 0.0, 0.0, 0.0, 0.0, 0.0, 0.0, 0.0, 0.0, 0.0, 0.0, 0.0, 0.0, 0.0, 0.0, 0.0, 0.0, 0.0, 0.0, 0.0, 0.0, 2.0, 0.0, 0.0, 0.0, 3.0, 0.0, 0.0, 0.0, 0.0, 2.0, 2.0, 0.0, 0.0, 1.0, 0.0, 0.0, 0.0, 0.0, 0.0, 2.0, 2.0, 2.0, 2.0, 0.0, 0.0, 0.0, 0.0, 0.0, 0.0, 0.0, 0.0, 0.0, 3.0, 1.0, 2.0, 0.0, 4.0, 0.0, 0.0, 0.0, 0.0, 0.0, 0.0, 0.0, 0.0, 0.0, 0.0, 0.0, 0.0, 0.0, 0.0, 0.0, 0.0, 0.0, 0.0, 0.0, 0.0], [0.0, 0.0, 0.0, 0.0, 0.0, 0.0, 0.0, 0.0, 0.0, 0.0, 0.0, 0.0, 0.0, 0.0, 0.0, 0.0, 0.0, 0.0, 0.0, 0.0, 1.0, 1.0, 1.0, 0.0, 0.0, 0.0, 0.0, 2.0, 0.0, 0.0, 0.0, 0.0, 0.0, 0.0, 0.0, 0.0, 0.0, 0.0, 0.0, 0.0, 0.0, 0.0, 1.0, 0.0, 0.0, 0.0, 0.0, 0.0, 0.0, 0.0, 0.0, 0.0, 0.0, 0.0, 1.0, 3.0, 2.0, 0.0, 0.0, 8.0, 0.0, 0.0, 0.0, 0.0, 0.0, 0.0, 0.0, 0.0, 0.0, 0.0, 0.0, 0.0, 0.0, 0.0, 0.0, 0.0, 0.0, 0.0, 0.0, 0.0], [0.0, 0.0, 0.0, 0.0, 0.0, 0.0, 0.0, 0.0, 0.0, 0.0, 0.0, 0.0, 0.0, 0.0, 0.0, 0.0, 0.0, 0.0, 0.0, 0.0, 0.0, 0.0, 3.0, 1.0, 0.0, 0.0, 0.0, 3.0, 0.0, 0.0, 0.0, 0.0, 0.0, 0.0, 0.0, 0.0, 0.0, 0.0, 0.0, 0.0, 0.0, 0.0, 4.0, 1.0, 0.0, 0.0, 0.0, 0.0, 0.0, 0.0, 0.0, 0.0, 0.0, 0.0, 0.0, 4.0, 2.0, 0.0, 0.0, 11.0, 0.0, 0.0, 0.0, 0.0, 0.0, 0.0, 0.0, 0.0, 0.0, 0.0, 0.0, 0.0, 0.0, 0.0, 0.0, 0.0, 0.0, 0.0, 0.0, 0.0], [0.0, 0.0, 0.0, 0.0, 0.0, 0.0, 0.0, 0.0, 0.0, 0.0, 0.0, 0.0, 0.0, 0.0, 0.0, 0.0, 0.0, 0.0, 0.0, 0.0, 0.0, 0.0, 0.0, 1.0, 0.0, 0.0, 0.0, 1.0, 0.0, 0.0, 0.0, 0.0, 0.0, 0.0, 0.0, 0.0, 0.0, 0.0, 0.0, 0.0, 0.0, 0.0, 0.0, 0.0, 0.0, 0.0, 0.0, 0.0, 0.0, 0.0, 0.0, 0.0, 0.0, 0.0, 0.0, 0.0, 0.0, 0.0, 0.0, 0.0, 0.0, 0.0, 0.0, 0.0, 0.0, 0.0, 0.0, 0.0, 0.0, 0.0, 0.0, 0.0, 0.0, 0.0, 0.0, 0.0, 0.0, 0.0, 0.0, 0.0], [0.0, 0.0, 0.0, 0.0, 0.0, 0.0, 0.0, 0.0, 0.0, 0.0, 0.0, 0.0, 0.0, 0.0, 0.0, 0.0, 0.0, 0.0, 0.0, 0.0, 0.0, 0.0, 0.0, 0.0, 0.0, 0.0, 0.0, 0.0, 0.0, 0.0, 0.0, 0.0, 0.0, 0.0, 0.0, 0.0, 0.0, 0.0, 0.0, 0.0, 0.0, 0.0, 0.0, 0.0, 0.0, 0.0, 0.0, 0.0, 0.0, 0.0, 0.0, 0.0, 0.0, 0.0, 0.0, 0.0, 0.0, 0.0, 0.0, 0.0, 0.0, 0.0, 0.0, 0.0, 0.0, 0.0, 0.0, 0.0, 0.0, 0.0, 0.0, 0.0, 0.0, 0.0, 0.0, 0.0, 0.0, 0.0, 0.0, 0.0], [0.0, 0.0, 0.0, 0.0, 0.0, 0.0, 0.0, 0.0, 0.0, 0.0, 0.0, 0.0, 0.0, 0.0, 0.0, 0.0, 0.0, 0.0, 0.0, 0.0, 0.0, 0.0, 0.0, 0.0, 0.0, 0.0, 0.0, 0.0, 0.0, 0.0, 0.0, 0.0, 0.0, 0.0, 0.0, 0.0, 0.0, 0.0, 0.0, 0.0, 0.0, 0.0, 0.0, 0.0, 0.0, 0.0, 0.0, 0.0, 0.0, 0.0, 0.0, 0.0, 0.0, 0.0, 0.0, 0.0, 0.0, 0.0, 0.0, 0.0, 0.0, 0.0, 0.0, 0.0, 0.0, 0.0, 0.0, 0.0, 0.0, 0.0, 0.0, 0.0, 0.0, 0.0, 0.0, 0.0, 0.0, 0.0, 0.0, 0.0], [0.0, 0.0, 0.0, 0.0, 0.0, 0.0, 0.0, 0.0, 0.0, 0.0, 0.0, 0.0, 0.0, 0.0, 0.0, 0.0, 0.0, 0.0, 0.0, 0.0, 0.0, 0.0, 0.0, 0.0, 0.0, 0.0, 0.0, 0.0, 0.0, 0.0, 0.0, 0.0, 0.0, 0.0, 0.0, 0.0, 0.0, 0.0, 0.0, 0.0, 0.0, 0.0, 0.0, 0.0, 0.0, 0.0, 0.0, 0.0, 0.0, 0.0, 0.0, 0.0, 0.0, 0.0, 0.0, 0.0, 0.0, 0.0, 0.0, 0.0, 0.0, 0.0, 0.0, 0.0, 0.0, 0.0, 0.0, 0.0, 0.0, 0.0, 0.0, 0.0, 0.0, 0.0, 0.0, 0.0, 0.0, 0.0, 0.0, 0.0], [0.0, 0.0, 0.0, 0.0, 0.0, 0.0, 0.0, 0.0, 0.0, 0.0, 0.0, 0.0, 0.0, 0.0, 0.0, 0.0, 0.0, 0.0, 0.0, 0.0, 0.0, 0.0, 0.0, 0.0, 0.0, 0.0, 0.0, 0.0, 0.0, 0.0, 0.0, 0.0, 0.0, 0.0, 0.0, 0.0, 0.0, 0.0, 0.0, 0.0, 0.0, 0.0, 0.0, 0.0, 0.0, 0.0, 0.0, 0.0, 0.0, 0.0, 0.0, 0.0, 0.0, 0.0, 0.0, 0.0, 0.0, 0.0, 0.0, 0.0, 0.0, 0.0, 0.0, 0.0, 0.0, 0.0, 0.0, 0.0, 0.0, 0.0, 0.0, 0.0, 0.0, 0.0, 0.0, 0.0, 0.0, 0.0, 0.0, 0.0], [0.0, 0.0, 0.0, 0.0, 0.0, 0.0, 0.0, 0.0, 0.0, 0.0, 0.0, 0.0, 0.0, 0.0, 0.0, 0.0, 0.0, 0.0, 0.0, 0.0, 0.0, 0.0, 0.0, 0.0, 0.0, 0.0, 0.0, 0.0, 0.0, 0.0, 0.0, 0.0, 0.0, 0.0, 0.0, 0.0, 0.0, 0.0, 0.0, 0.0, 0.0, 0.0, 0.0, 0.0, 0.0, 0.0, 0.0, 0.0, 0.0, 0.0, 0.0, 0.0, 0.0, 0.0, 0.0, 0.0, 0.0, 0.0, 0.0, 0.0, 0.0, 0.0, 0.0, 0.0, 0.0, 0.0, 0.0, 0.0, 0.0, 0.0, 0.0, 0.0, 0.0, 0.0, 0.0, 0.0, 0.0, 0.0, 0.0, 0.0], [0.0, 0.0, 0.0, 0.0, 0.0, 0.0, 0.0, 0.0, 0.0, 0.0, 0.0, 0.0, 0.0, 0.0, 0.0, 0.0, 0.0, 0.0, 0.0, 0.0, 0.0, 0.0, 0.0, 0.0, 0.0, 0.0, 0.0, 0.0, 0.0, 0.0, 0.0, 0.0, 0.0, 0.0, 0.0, 0.0, 0.0, 0.0, 0.0, 0.0, 0.0, 0.0, 0.0, 0.0, 0.0, 0.0, 0.0, 0.0, 0.0, 0.0, 0.0, 0.0, 0.0, 0.0, 0.0, 0.0, 0.0, 0.0, 0.0, 0.0, 0.0, 0.0, 0.0, 0.0, 0.0, 0.0, 0.0, 0.0, 0.0, 0.0, 0.0, 0.0, 0.0, 0.0, 0.0, 0.0, 0.0, 0.0, 0.0, 0.0], [0.0, 0.0, 0.0, 0.0, 0.0, 0.0, 0.0, 0.0, 0.0, 0.0, 0.0, 0.0, 0.0, 0.0, 0.0, 0.0, 0.0, 0.0, 0.0, 0.0, 0.0, 0.0, 0.0, 0.0, 0.0, 0.0, 0.0, 0.0, 0.0, 0.0, 0.0, 0.0, 0.0, 0.0, 0.0, 0.0, 0.0, 0.0, 0.0, 0.0, 0.0, 0.0, 0.0, 0.0, 0.0, 0.0, 0.0, 0.0, 0.0, 0.0, 0.0, 0.0, 0.0, 0.0, 0.0, 0.0, 0.0, 0.0, 0.0, 0.0, 0.0, 0.0, 0.0, 0.0, 0.0, 0.0, 0.0, 0.0, 0.0, 0.0, 0.0, 0.0, 0.0, 0.0, 0.0, 0.0, 0.0, 0.0, 0.0, 0.0], [0.0, 0.0, 0.0, 0.0, 0.0, 0.0, 0.0, 0.0, 0.0, 0.0, 0.0, 0.0, 0.0, 0.0, 0.0, 0.0, 0.0, 0.0, 0.0, 0.0, 0.0, 0.0, 0.0, 0.0, 0.0, 0.0, 0.0, 0.0, 0.0, 0.0, 0.0, 0.0, 0.0, 0.0, 0.0, 0.0, 0.0, 0.0, 0.0, 0.0, 0.0, 0.0, 0.0, 0.0, 0.0, 0.0, 0.0, 0.0, 0.0, 0.0, 0.0, 0.0, 0.0, 0.0, 0.0, 0.0, 0.0, 0.0, 0.0, 0.0, 0.0, 0.0, 0.0, 0.0, 0.0, 0.0, 0.0, 0.0, 0.0, 0.0, 0.0, 0.0, 0.0, 0.0, 0.0, 0.0, 0.0, 0.0, 0.0, 0.0], [0.0, 0.0, 0.0, 0.0, 0.0, 0.0, 0.0, 0.0, 0.0, 0.0, 0.0, 0.0, 0.0, 0.0, 0.0, 0.0, 0.0, 0.0, 0.0, 0.0, 0.0, 0.0, 0.0, 0.0, 0.0, 0.0, 0.0, 0.0, 0.0, 0.0, 0.0, 0.0, 0.0, 0.0, 0.0, 0.0, 0.0, 0.0, 0.0, 0.0, 0.0, 0.0, 0.0, 0.0, 0.0, 0.0, 0.0, 0.0, 0.0, 0.0, 0.0, 0.0, 0.0, 0.0, 0.0, 0.0, 0.0, 0.0, 0.0, 0.0, 0.0, 0.0, 0.0, 0.0, 0.0, 0.0, 0.0, 0.0, 0.0, 0.0, 0.0, 0.0, 0.0, 0.0, 0.0, 0.0, 0.0, 0.0, 0.0, 0.0], [0.0, 0.0, 0.0, 0.0, 0.0, 0.0, 0.0, 0.0, 0.0, 0.0, 0.0, 0.0, 0.0, 0.0, 0.0, 0.0, 0.0, 0.0, 0.0, 0.0, 0.0, 0.0, 0.0, 0.0, 0.0, 0.0, 0.0, 0.0, 0.0, 0.0, 0.0, 0.0, 0.0, 0.0, 0.0, 0.0, 0.0, 0.0, 0.0, 0.0, 0.0, 0.0, 0.0, 0.0, 0.0, 0.0, 0.0, 0.0, 0.0, 0.0, 0.0, 0.0, 0.0, 0.0, 0.0, 0.0, 0.0, 0.0, 0.0, 0.0, 0.0, 0.0, 0.0, 0.0, 0.0, 0.0, 0.0, 0.0, 0.0, 0.0, 0.0, 0.0, 0.0, 0.0, 0.0, 0.0, 0.0, 0.0, 0.0, 0.0], [0.0, 0.0, 0.0, 0.0, 0.0, 0.0, 0.0, 0.0, 0.0, 0.0, 0.0, 0.0, 0.0, 0.0, 0.0, 0.0, 0.0, 0.0, 0.0, 0.0, 0.0, 0.0, 0.0, 0.0, 0.0, 0.0, 0.0, 0.0, 0.0, 0.0, 0.0, 0.0, 0.0, 0.0, 0.0, 0.0, 0.0, 0.0, 0.0, 0.0, 0.0, 0.0, 0.0, 0.0, 0.0, 0.0, 0.0, 0.0, 0.0, 0.0, 0.0, 0.0, 0.0, 0.0, 0.0, 0.0, 0.0, 0.0, 0.0, 0.0, 0.0, 0.0, 0.0, 0.0, 0.0, 0.0, 0.0, 0.0, 0.0, 0.0, 0.0, 0.0, 0.0, 0.0, 0.0, 0.0, 0.0, 0.0, 0.0, 0.0], [0.0, 0.0, 0.0, 0.0, 0.0, 0.0, 0.0, 0.0, 0.0, 0.0, 0.0, 0.0, 0.0, 0.0, 0.0, 0.0, 0.0, 0.0, 0.0, 0.0, 0.0, 0.0, 0.0, 0.0, 0.0, 0.0, 0.0, 0.0, 0.0, 0.0, 0.0, 0.0, 0.0, 0.0, 0.0, 0.0, 0.0, 0.0, 0.0, 0.0, 0.0, 0.0, 0.0, 0.0, 0.0, 0.0, 0.0, 0.0, 0.0, 0.0, 0.0, 0.0, 0.0, 0.0, 0.0, 0.0, 0.0, 0.0, 0.0, 0.0, 0.0, 0.0, 0.0, 0.0, 0.0, 0.0, 0.0, 0.0, 0.0, 0.0, 0.0, 0.0, 0.0, 0.0, 0.0, 0.0, 0.0, 0.0, 0.0, 0.0], [0.0, 0.0, 0.0, 0.0, 0.0, 0.0, 0.0, 0.0, 0.0, 0.0, 0.0, 0.0, 0.0, 0.0, 0.0, 0.0, 0.0, 0.0, 0.0, 0.0, 0.0, 0.0, 0.0, 0.0, 0.0, 0.0, 0.0, 0.0, 0.0, 0.0, 0.0, 0.0, 0.0, 0.0, 0.0, 0.0, 0.0, 0.0, 0.0, 0.0, 0.0, 0.0, 0.0, 0.0, 0.0, 0.0, 0.0, 0.0, 0.0, 0.0, 0.0, 0.0, 0.0, 0.0, 0.0, 0.0, 0.0, 0.0, 0.0, 0.0, 0.0, 0.0, 0.0, 0.0, 0.0, 0.0, 0.0, 0.0, 0.0, 0.0, 0.0, 0.0, 0.0, 0.0, 0.0, 0.0, 0.0, 0.0, 0.0, 0.0], [0.0, 0.0, 0.0, 0.0, 0.0, 0.0, 0.0, 0.0, 0.0, 0.0, 0.0, 0.0, 0.0, 0.0, 0.0, 0.0, 0.0, 0.0, 0.0, 0.0, 0.0, 0.0, 0.0, 0.0, 0.0, 0.0, 0.0, 0.0, 0.0, 0.0, 0.0, 0.0, 0.0, 0.0, 0.0, 0.0, 0.0, 0.0, 0.0, 0.0, 0.0, 0.0, 0.0, 0.0, 0.0, 0.0, 0.0, 0.0, 0.0, 0.0, 0.0, 0.0, 0.0, 0.0, 0.0, 0.0, 0.0, 0.0, 0.0, 0.0, 0.0, 0.0, 0.0, 0.0, 0.0, 0.0, 0.0, 0.0, 0.0, 0.0, 0.0, 0.0, 0.0, 0.0, 0.0, 0.0, 0.0, 0.0, 0.0, 0.0], [0.0, 0.0, 0.0, 0.0, 0.0, 0.0, 0.0, 0.0, 0.0, 0.0, 0.0, 0.0, 0.0, 0.0, 0.0, 0.0, 0.0, 0.0, 0.0, 0.0, 0.0, 0.0, 0.0, 0.0, 0.0, 0.0, 0.0, 0.0, 0.0, 0.0, 0.0, 0.0, 0.0, 0.0, 0.0, 0.0, 0.0, 0.0, 0.0, 0.0, 0.0, 0.0, 0.0, 0.0, 0.0, 0.0, 0.0, 0.0, 0.0, 0.0, 0.0, 0.0, 0.0, 0.0, 0.0, 0.0, 0.0, 0.0, 0.0, 0.0, 0.0, 0.0, 0.0, 0.0, 0.0, 0.0, 0.0, 0.0, 0.0, 0.0, 0.0, 0.0, 0.0, 0.0, 0.0, 0.0, 0.0, 0.0, 0.0, 0.0], [0.0, 0.0, 0.0, 0.0, 0.0, 0.0, 0.0, 0.0, 0.0, 0.0, 0.0, 0.0, 0.0, 0.0, 0.0, 0.0, 0.0, 0.0, 0.0, 0.0, 0.0, 0.0, 0.0, 0.0, 0.0, 0.0, 0.0, 0.0, 0.0, 0.0, 0.0, 0.0, 0.0, 0.0, 0.0, 0.0, 0.0, 0.0, 0.0, 0.0, 0.0, 0.0, 0.0, 0.0, 0.0, 0.0, 0.0, 0.0, 0.0, 0.0, 0.0, 0.0, 0.0, 0.0, 0.0, 0.0, 0.0, 0.0, 0.0, 0.0, 0.0, 0.0, 0.0, 0.0, 0.0, 0.0, 0.0, 0.0, 0.0, 0.0, 0.0, 0.0, 0.0, 0.0, 0.0, 0.0, 0.0, 0.0, 0.0, 0.0], [0.0, 0.0, 0.0, 0.0, 0.0, 0.0, 0.0, 0.0, 0.0, 0.0, 0.0, 0.0, 0.0, 0.0, 0.0, 0.0, 0.0, 0.0, 0.0, 0.0, 0.0, 0.0, 0.0, 0.0, 0.0, 0.0, 0.0, 0.0, 0.0, 0.0, 0.0, 0.0, 0.0, 0.0, 0.0, 0.0, 0.0, 0.0, 0.0, 0.0, 0.0, 0.0, 0.0, 0.0, 0.0, 0.0, 0.0, 0.0, 0.0, 0.0, 0.0, 0.0, 0.0, 0.0, 0.0, 0.0, 0.0, 0.0, 0.0, 0.0, 0.0, 0.0, 0.0, 0.0, 0.0, 0.0, 0.0, 0.0, 0.0, 0.0, 0.0, 0.0, 0.0, 0.0, 0.0, 0.0, 0.0, 0.0, 0.0, 0.0], [0.0, 0.0, 0.0, 0.0, 0.0, 0.0, 0.0, 0.0, 0.0, 0.0, 0.0, 0.0, 0.0, 0.0, 0.0, 0.0, 0.0, 0.0, 0.0, 0.0, 0.0, 0.0, 0.0, 0.0, 0.0, 0.0, 0.0, 0.0, 0.0, 0.0, 0.0, 0.0, 0.0, 0.0, 0.0, 0.0, 0.0, 0.0, 0.0, 0.0, 0.0, 0.0, 0.0, 0.0, 0.0, 0.0, 0.0, 0.0, 0.0, 0.0, 0.0, 0.0, 0.0, 0.0, 0.0, 0.0, 0.0, 0.0, 0.0, 0.0, 0.0, 0.0, 0.0, 0.0, 0.0, 0.0, 0.0, 0.0, 0.0, 0.0, 0.0, 0.0, 0.0, 0.0, 0.0, 0.0, 0.0, 0.0, 0.0, 0.0], [0.0, 0.0, 0.0, 0.0, 0.0, 0.0, 0.0, 0.0, 0.0, 0.0, 0.0, 0.0, 0.0, 0.0, 0.0, 0.0, 0.0, 0.0, 0.0, 0.0, 0.0, 0.0, 0.0, 0.0, 0.0, 0.0, 0.0, 0.0, 0.0, 0.0, 0.0, 0.0, 0.0, 0.0, 0.0, 0.0, 0.0, 0.0, 0.0, 0.0, 0.0, 0.0, 0.0, 0.0, 0.0, 0.0, 0.0, 0.0, 0.0, 0.0, 0.0, 0.0, 0.0, 0.0, 0.0, 0.0, 0.0, 0.0, 0.0, 0.0, 0.0, 0.0, 0.0, 0.0, 0.0, 0.0, 0.0, 0.0, 0.0, 0.0, 0.0, 0.0, 0.0, 0.0, 0.0, 0.0, 0.0, 0.0, 0.0, 0.0]], \"domainToShow\": {\"minX\": 1, \"minY\": 1, \"maxX\": 163949, \"maxY\": 671}, \"progress\": 1.0, \"extrema\": {\"minX\": -81334, \"minY\": -334, \"maxX\": 244007, \"maxY\": 1006}, \"columns\": [{\"dtype\": \"int\", \"name\": \"userId\"}, {\"dtype\": \"int\", \"name\": \"movieId\"}, {\"dtype\": \"int\", \"name\": \"rating\"}]}, e);\n",
       "                });\n",
       "            })();\n",
       "        "
      ]
     },
     "metadata": {},
     "output_type": "display_data"
    }
   ],
   "source": [
    "data_ratings.show(view=\"Heat Map\", x='movieId', y='ratings')"
   ]
  },
  {
   "cell_type": "markdown",
   "metadata": {},
   "source": [
    "### Train and Compare"
   ]
  },
  {
   "cell_type": "code",
   "execution_count": 150,
   "metadata": {
    "collapsed": true
   },
   "outputs": [],
   "source": [
    "#80% train and 20% for testing \n",
    "train, test = gl.recommender.util.random_split_by_user(data,\n",
    "                                                    user_id=\"userId\", item_id=\"movieId\",\n",
    "                                                            max_num_users=150, item_test_proportion=0.2)"
   ]
  },
  {
   "cell_type": "code",
   "execution_count": 151,
   "metadata": {
    "collapsed": false
   },
   "outputs": [
    {
     "data": {
      "text/html": [
       "<pre>Recsys training: model = item_similarity</pre>"
      ],
      "text/plain": [
       "Recsys training: model = item_similarity"
      ]
     },
     "metadata": {},
     "output_type": "display_data"
    },
    {
     "data": {
      "text/html": [
       "<pre>Preparing data set.</pre>"
      ],
      "text/plain": [
       "Preparing data set."
      ]
     },
     "metadata": {},
     "output_type": "display_data"
    },
    {
     "data": {
      "text/html": [
       "<pre>    Data has 95889 observations with 671 users and 8928 items.</pre>"
      ],
      "text/plain": [
       "    Data has 95889 observations with 671 users and 8928 items."
      ]
     },
     "metadata": {},
     "output_type": "display_data"
    },
    {
     "data": {
      "text/html": [
       "<pre>    Data prepared in: 0.138052s</pre>"
      ],
      "text/plain": [
       "    Data prepared in: 0.138052s"
      ]
     },
     "metadata": {},
     "output_type": "display_data"
    },
    {
     "data": {
      "text/html": [
       "<pre>Training model from provided data.</pre>"
      ],
      "text/plain": [
       "Training model from provided data."
      ]
     },
     "metadata": {},
     "output_type": "display_data"
    },
    {
     "data": {
      "text/html": [
       "<pre>Gathering per-item and per-user statistics.</pre>"
      ],
      "text/plain": [
       "Gathering per-item and per-user statistics."
      ]
     },
     "metadata": {},
     "output_type": "display_data"
    },
    {
     "data": {
      "text/html": [
       "<pre>+--------------------------------+------------+</pre>"
      ],
      "text/plain": [
       "+--------------------------------+------------+"
      ]
     },
     "metadata": {},
     "output_type": "display_data"
    },
    {
     "data": {
      "text/html": [
       "<pre>| Elapsed Time (Item Statistics) | % Complete |</pre>"
      ],
      "text/plain": [
       "| Elapsed Time (Item Statistics) | % Complete |"
      ]
     },
     "metadata": {},
     "output_type": "display_data"
    },
    {
     "data": {
      "text/html": [
       "<pre>+--------------------------------+------------+</pre>"
      ],
      "text/plain": [
       "+--------------------------------+------------+"
      ]
     },
     "metadata": {},
     "output_type": "display_data"
    },
    {
     "data": {
      "text/html": [
       "<pre>| 14.965ms                       | 100        |</pre>"
      ],
      "text/plain": [
       "| 14.965ms                       | 100        |"
      ]
     },
     "metadata": {},
     "output_type": "display_data"
    },
    {
     "data": {
      "text/html": [
       "<pre>+--------------------------------+------------+</pre>"
      ],
      "text/plain": [
       "+--------------------------------+------------+"
      ]
     },
     "metadata": {},
     "output_type": "display_data"
    },
    {
     "data": {
      "text/html": [
       "<pre>Setting up lookup tables.</pre>"
      ],
      "text/plain": [
       "Setting up lookup tables."
      ]
     },
     "metadata": {},
     "output_type": "display_data"
    },
    {
     "data": {
      "text/html": [
       "<pre>Processing data in one pass using dense lookup tables.</pre>"
      ],
      "text/plain": [
       "Processing data in one pass using dense lookup tables."
      ]
     },
     "metadata": {},
     "output_type": "display_data"
    },
    {
     "data": {
      "text/html": [
       "<pre>+-------------------------------------+------------------+-----------------+</pre>"
      ],
      "text/plain": [
       "+-------------------------------------+------------------+-----------------+"
      ]
     },
     "metadata": {},
     "output_type": "display_data"
    },
    {
     "data": {
      "text/html": [
       "<pre>| Elapsed Time (Constructing Lookups) | Total % Complete | Items Processed |</pre>"
      ],
      "text/plain": [
       "| Elapsed Time (Constructing Lookups) | Total % Complete | Items Processed |"
      ]
     },
     "metadata": {},
     "output_type": "display_data"
    },
    {
     "data": {
      "text/html": [
       "<pre>+-------------------------------------+------------------+-----------------+</pre>"
      ],
      "text/plain": [
       "+-------------------------------------+------------------+-----------------+"
      ]
     },
     "metadata": {},
     "output_type": "display_data"
    },
    {
     "data": {
      "text/html": [
       "<pre>| 182.199ms                           | 0                | 0               |</pre>"
      ],
      "text/plain": [
       "| 182.199ms                           | 0                | 0               |"
      ]
     },
     "metadata": {},
     "output_type": "display_data"
    },
    {
     "data": {
      "text/html": [
       "<pre>| 976.961ms                           | 100              | 8928            |</pre>"
      ],
      "text/plain": [
       "| 976.961ms                           | 100              | 8928            |"
      ]
     },
     "metadata": {},
     "output_type": "display_data"
    },
    {
     "data": {
      "text/html": [
       "<pre>+-------------------------------------+------------------+-----------------+</pre>"
      ],
      "text/plain": [
       "+-------------------------------------+------------------+-----------------+"
      ]
     },
     "metadata": {},
     "output_type": "display_data"
    },
    {
     "data": {
      "text/html": [
       "<pre>Finalizing lookup tables.</pre>"
      ],
      "text/plain": [
       "Finalizing lookup tables."
      ]
     },
     "metadata": {},
     "output_type": "display_data"
    },
    {
     "data": {
      "text/html": [
       "<pre>Generating candidate set for working with new users.</pre>"
      ],
      "text/plain": [
       "Generating candidate set for working with new users."
      ]
     },
     "metadata": {},
     "output_type": "display_data"
    },
    {
     "data": {
      "text/html": [
       "<pre>Finished training in 0.987664s</pre>"
      ],
      "text/plain": [
       "Finished training in 0.987664s"
      ]
     },
     "metadata": {},
     "output_type": "display_data"
    }
   ],
   "source": [
    "\n",
    "m1 = gl.recommender.item_similarity_recommender.create(train, \n",
    "                                  user_id=\"userId\", \n",
    "                                  item_id=\"movieId\", \n",
    "                                  target=\"rating\",\n",
    "                                  #only_top_k=5,\n",
    "                                  only_top_k=3,\n",
    "                                  #similarity_type=\"sine\")                    \n",
    "                                  similarity_type=\"cosine\")\n",
    "\n",
    "#rmse_results = item_item.evaluate(test)\n",
    "\n"
   ]
  },
  {
   "cell_type": "code",
   "execution_count": 99,
   "metadata": {
    "collapsed": false
   },
   "outputs": [
    {
     "data": {
      "text/html": [
       "<pre>Recsys training: model = ranking_factorization_recommender</pre>"
      ],
      "text/plain": [
       "Recsys training: model = ranking_factorization_recommender"
      ]
     },
     "metadata": {},
     "output_type": "display_data"
    },
    {
     "data": {
      "text/html": [
       "<pre>Preparing data set.</pre>"
      ],
      "text/plain": [
       "Preparing data set."
      ]
     },
     "metadata": {},
     "output_type": "display_data"
    },
    {
     "data": {
      "text/html": [
       "<pre>    Data has 95889 observations with 671 users and 8928 items.</pre>"
      ],
      "text/plain": [
       "    Data has 95889 observations with 671 users and 8928 items."
      ]
     },
     "metadata": {},
     "output_type": "display_data"
    },
    {
     "data": {
      "text/html": [
       "<pre>    Data prepared in: 0.156477s</pre>"
      ],
      "text/plain": [
       "    Data prepared in: 0.156477s"
      ]
     },
     "metadata": {},
     "output_type": "display_data"
    },
    {
     "data": {
      "text/html": [
       "<pre>Training ranking_factorization_recommender for recommendations.</pre>"
      ],
      "text/plain": [
       "Training ranking_factorization_recommender for recommendations."
      ]
     },
     "metadata": {},
     "output_type": "display_data"
    },
    {
     "data": {
      "text/html": [
       "<pre>+--------------------------------+--------------------------------------------------+----------+</pre>"
      ],
      "text/plain": [
       "+--------------------------------+--------------------------------------------------+----------+"
      ]
     },
     "metadata": {},
     "output_type": "display_data"
    },
    {
     "data": {
      "text/html": [
       "<pre>| Parameter                      | Description                                      | Value    |</pre>"
      ],
      "text/plain": [
       "| Parameter                      | Description                                      | Value    |"
      ]
     },
     "metadata": {},
     "output_type": "display_data"
    },
    {
     "data": {
      "text/html": [
       "<pre>+--------------------------------+--------------------------------------------------+----------+</pre>"
      ],
      "text/plain": [
       "+--------------------------------+--------------------------------------------------+----------+"
      ]
     },
     "metadata": {},
     "output_type": "display_data"
    },
    {
     "data": {
      "text/html": [
       "<pre>| num_factors                    | Factor Dimension                                 | 32       |</pre>"
      ],
      "text/plain": [
       "| num_factors                    | Factor Dimension                                 | 32       |"
      ]
     },
     "metadata": {},
     "output_type": "display_data"
    },
    {
     "data": {
      "text/html": [
       "<pre>| regularization                 | L2 Regularization on Factors                     | 1e-09    |</pre>"
      ],
      "text/plain": [
       "| regularization                 | L2 Regularization on Factors                     | 1e-09    |"
      ]
     },
     "metadata": {},
     "output_type": "display_data"
    },
    {
     "data": {
      "text/html": [
       "<pre>| solver                         | Solver used for training                         | sgd      |</pre>"
      ],
      "text/plain": [
       "| solver                         | Solver used for training                         | sgd      |"
      ]
     },
     "metadata": {},
     "output_type": "display_data"
    },
    {
     "data": {
      "text/html": [
       "<pre>| linear_regularization          | L2 Regularization on Linear Coefficients         | 1e-09    |</pre>"
      ],
      "text/plain": [
       "| linear_regularization          | L2 Regularization on Linear Coefficients         | 1e-09    |"
      ]
     },
     "metadata": {},
     "output_type": "display_data"
    },
    {
     "data": {
      "text/html": [
       "<pre>| ranking_regularization         | Rank-based Regularization Weight                 | 0.25     |</pre>"
      ],
      "text/plain": [
       "| ranking_regularization         | Rank-based Regularization Weight                 | 0.25     |"
      ]
     },
     "metadata": {},
     "output_type": "display_data"
    },
    {
     "data": {
      "text/html": [
       "<pre>| max_iterations                 | Maximum Number of Iterations                     | 25       |</pre>"
      ],
      "text/plain": [
       "| max_iterations                 | Maximum Number of Iterations                     | 25       |"
      ]
     },
     "metadata": {},
     "output_type": "display_data"
    },
    {
     "data": {
      "text/html": [
       "<pre>+--------------------------------+--------------------------------------------------+----------+</pre>"
      ],
      "text/plain": [
       "+--------------------------------+--------------------------------------------------+----------+"
      ]
     },
     "metadata": {},
     "output_type": "display_data"
    },
    {
     "data": {
      "text/html": [
       "<pre>  Optimizing model using SGD; tuning step size.</pre>"
      ],
      "text/plain": [
       "  Optimizing model using SGD; tuning step size."
      ]
     },
     "metadata": {},
     "output_type": "display_data"
    },
    {
     "data": {
      "text/html": [
       "<pre>  Using 11986 / 95889 points for tuning the step size.</pre>"
      ],
      "text/plain": [
       "  Using 11986 / 95889 points for tuning the step size."
      ]
     },
     "metadata": {},
     "output_type": "display_data"
    },
    {
     "data": {
      "text/html": [
       "<pre>+---------+-------------------+------------------------------------------+</pre>"
      ],
      "text/plain": [
       "+---------+-------------------+------------------------------------------+"
      ]
     },
     "metadata": {},
     "output_type": "display_data"
    },
    {
     "data": {
      "text/html": [
       "<pre>| Attempt | Initial Step Size | Estimated Objective Value                |</pre>"
      ],
      "text/plain": [
       "| Attempt | Initial Step Size | Estimated Objective Value                |"
      ]
     },
     "metadata": {},
     "output_type": "display_data"
    },
    {
     "data": {
      "text/html": [
       "<pre>+---------+-------------------+------------------------------------------+</pre>"
      ],
      "text/plain": [
       "+---------+-------------------+------------------------------------------+"
      ]
     },
     "metadata": {},
     "output_type": "display_data"
    },
    {
     "data": {
      "text/html": [
       "<pre>| 0       | 25                | Not Viable                               |</pre>"
      ],
      "text/plain": [
       "| 0       | 25                | Not Viable                               |"
      ]
     },
     "metadata": {},
     "output_type": "display_data"
    },
    {
     "data": {
      "text/html": [
       "<pre>| 1       | 6.25              | Not Viable                               |</pre>"
      ],
      "text/plain": [
       "| 1       | 6.25              | Not Viable                               |"
      ]
     },
     "metadata": {},
     "output_type": "display_data"
    },
    {
     "data": {
      "text/html": [
       "<pre>| 2       | 1.5625            | Not Viable                               |</pre>"
      ],
      "text/plain": [
       "| 2       | 1.5625            | Not Viable                               |"
      ]
     },
     "metadata": {},
     "output_type": "display_data"
    },
    {
     "data": {
      "text/html": [
       "<pre>| 3       | 0.390625          | Not Viable                               |</pre>"
      ],
      "text/plain": [
       "| 3       | 0.390625          | Not Viable                               |"
      ]
     },
     "metadata": {},
     "output_type": "display_data"
    },
    {
     "data": {
      "text/html": [
       "<pre>| 4       | 0.0976562         | 1.5289                                   |</pre>"
      ],
      "text/plain": [
       "| 4       | 0.0976562         | 1.5289                                   |"
      ]
     },
     "metadata": {},
     "output_type": "display_data"
    },
    {
     "data": {
      "text/html": [
       "<pre>| 5       | 0.0488281         | 1.59057                                  |</pre>"
      ],
      "text/plain": [
       "| 5       | 0.0488281         | 1.59057                                  |"
      ]
     },
     "metadata": {},
     "output_type": "display_data"
    },
    {
     "data": {
      "text/html": [
       "<pre>| 6       | 0.0244141         | 1.67669                                  |</pre>"
      ],
      "text/plain": [
       "| 6       | 0.0244141         | 1.67669                                  |"
      ]
     },
     "metadata": {},
     "output_type": "display_data"
    },
    {
     "data": {
      "text/html": [
       "<pre>| 7       | 0.012207          | 1.77411                                  |</pre>"
      ],
      "text/plain": [
       "| 7       | 0.012207          | 1.77411                                  |"
      ]
     },
     "metadata": {},
     "output_type": "display_data"
    },
    {
     "data": {
      "text/html": [
       "<pre>+---------+-------------------+------------------------------------------+</pre>"
      ],
      "text/plain": [
       "+---------+-------------------+------------------------------------------+"
      ]
     },
     "metadata": {},
     "output_type": "display_data"
    },
    {
     "data": {
      "text/html": [
       "<pre>| Final   | 0.0976562         | 1.5289                                   |</pre>"
      ],
      "text/plain": [
       "| Final   | 0.0976562         | 1.5289                                   |"
      ]
     },
     "metadata": {},
     "output_type": "display_data"
    },
    {
     "data": {
      "text/html": [
       "<pre>+---------+-------------------+------------------------------------------+</pre>"
      ],
      "text/plain": [
       "+---------+-------------------+------------------------------------------+"
      ]
     },
     "metadata": {},
     "output_type": "display_data"
    },
    {
     "data": {
      "text/html": [
       "<pre>Starting Optimization.</pre>"
      ],
      "text/plain": [
       "Starting Optimization."
      ]
     },
     "metadata": {},
     "output_type": "display_data"
    },
    {
     "data": {
      "text/html": [
       "<pre>+---------+--------------+-------------------+-----------------------+-------------+</pre>"
      ],
      "text/plain": [
       "+---------+--------------+-------------------+-----------------------+-------------+"
      ]
     },
     "metadata": {},
     "output_type": "display_data"
    },
    {
     "data": {
      "text/html": [
       "<pre>| Iter.   | Elapsed Time | Approx. Objective | Approx. Training RMSE | Step Size   |</pre>"
      ],
      "text/plain": [
       "| Iter.   | Elapsed Time | Approx. Objective | Approx. Training RMSE | Step Size   |"
      ]
     },
     "metadata": {},
     "output_type": "display_data"
    },
    {
     "data": {
      "text/html": [
       "<pre>+---------+--------------+-------------------+-----------------------+-------------+</pre>"
      ],
      "text/plain": [
       "+---------+--------------+-------------------+-----------------------+-------------+"
      ]
     },
     "metadata": {},
     "output_type": "display_data"
    },
    {
     "data": {
      "text/html": [
       "<pre>| Initial | 248us        | 2.3727            | 1.10006               |             |</pre>"
      ],
      "text/plain": [
       "| Initial | 248us        | 2.3727            | 1.10006               |             |"
      ]
     },
     "metadata": {},
     "output_type": "display_data"
    },
    {
     "data": {
      "text/html": [
       "<pre>+---------+--------------+-------------------+-----------------------+-------------+</pre>"
      ],
      "text/plain": [
       "+---------+--------------+-------------------+-----------------------+-------------+"
      ]
     },
     "metadata": {},
     "output_type": "display_data"
    },
    {
     "data": {
      "text/html": [
       "<pre>| 1       | 172.844ms    | 1.94722           | 1.1121                | 0.0976562   |</pre>"
      ],
      "text/plain": [
       "| 1       | 172.844ms    | 1.94722           | 1.1121                | 0.0976562   |"
      ]
     },
     "metadata": {},
     "output_type": "display_data"
    },
    {
     "data": {
      "text/html": [
       "<pre>| 2       | 322.824ms    | 1.66863           | 1.03528               | 0.0580668   |</pre>"
      ],
      "text/plain": [
       "| 2       | 322.824ms    | 1.66863           | 1.03528               | 0.0580668   |"
      ]
     },
     "metadata": {},
     "output_type": "display_data"
    },
    {
     "data": {
      "text/html": [
       "<pre>| 3       | 464.146ms    | 1.44216           | 0.955413              | 0.042841    |</pre>"
      ],
      "text/plain": [
       "| 3       | 464.146ms    | 1.44216           | 0.955413              | 0.042841    |"
      ]
     },
     "metadata": {},
     "output_type": "display_data"
    },
    {
     "data": {
      "text/html": [
       "<pre>| 4       | 612.012ms    | 1.25899           | 0.880559              | 0.0345267   |</pre>"
      ],
      "text/plain": [
       "| 4       | 612.012ms    | 1.25899           | 0.880559              | 0.0345267   |"
      ]
     },
     "metadata": {},
     "output_type": "display_data"
    },
    {
     "data": {
      "text/html": [
       "<pre>| 5       | 756.699ms    | 1.08308           | 0.802381              | 0.029206    |</pre>"
      ],
      "text/plain": [
       "| 5       | 756.699ms    | 1.08308           | 0.802381              | 0.029206    |"
      ]
     },
     "metadata": {},
     "output_type": "display_data"
    },
    {
     "data": {
      "text/html": [
       "<pre>| 6       | 893.021ms    | 0.945888          | 0.739607              | 0.0254734   |</pre>"
      ],
      "text/plain": [
       "| 6       | 893.021ms    | 0.945888          | 0.739607              | 0.0254734   |"
      ]
     },
     "metadata": {},
     "output_type": "display_data"
    },
    {
     "data": {
      "text/html": [
       "<pre>| 10      | 1.36s        | 0.625687          | 0.57019               | 0.017366    |</pre>"
      ],
      "text/plain": [
       "| 10      | 1.36s        | 0.625687          | 0.57019               | 0.017366    |"
      ]
     },
     "metadata": {},
     "output_type": "display_data"
    },
    {
     "data": {
      "text/html": [
       "<pre>| 11      | 1.49s        | 0.579313          | 0.544709              | 0.016168    |</pre>"
      ],
      "text/plain": [
       "| 11      | 1.49s        | 0.579313          | 0.544709              | 0.016168    |"
      ]
     },
     "metadata": {},
     "output_type": "display_data"
    },
    {
     "data": {
      "text/html": [
       "<pre>| 20      | 2.52s        | 0.415687          | 0.443955              | 0.0103259   |</pre>"
      ],
      "text/plain": [
       "| 20      | 2.52s        | 0.415687          | 0.443955              | 0.0103259   |"
      ]
     },
     "metadata": {},
     "output_type": "display_data"
    },
    {
     "data": {
      "text/html": [
       "<pre>+---------+--------------+-------------------+-----------------------+-------------+</pre>"
      ],
      "text/plain": [
       "+---------+--------------+-------------------+-----------------------+-------------+"
      ]
     },
     "metadata": {},
     "output_type": "display_data"
    },
    {
     "data": {
      "text/html": [
       "<pre>Optimization Complete: Maximum number of passes through the data reached.</pre>"
      ],
      "text/plain": [
       "Optimization Complete: Maximum number of passes through the data reached."
      ]
     },
     "metadata": {},
     "output_type": "display_data"
    },
    {
     "data": {
      "text/html": [
       "<pre>Computing final objective value and training RMSE.</pre>"
      ],
      "text/plain": [
       "Computing final objective value and training RMSE."
      ]
     },
     "metadata": {},
     "output_type": "display_data"
    },
    {
     "data": {
      "text/html": [
       "<pre>       Final objective value: 0.349562</pre>"
      ],
      "text/plain": [
       "       Final objective value: 0.349562"
      ]
     },
     "metadata": {},
     "output_type": "display_data"
    },
    {
     "data": {
      "text/html": [
       "<pre>       Final training RMSE: 0.370766</pre>"
      ],
      "text/plain": [
       "       Final training RMSE: 0.370766"
      ]
     },
     "metadata": {},
     "output_type": "display_data"
    }
   ],
   "source": [
    "m2 = gl.recommender.ranking_factorization_recommender.create(train, \n",
    "                                  user_id=\"userId\", \n",
    "                                  item_id=\"movieId\", \n",
    "                                  target=\"rating\")\n",
    "\n",
    "#rmse_results = rec1.evaluate(test)\n",
    "\n",
    "\n"
   ]
  },
  {
   "cell_type": "markdown",
   "metadata": {},
   "source": [
    "### Comparison"
   ]
  },
  {
   "cell_type": "code",
   "execution_count": 152,
   "metadata": {
    "collapsed": false,
    "scrolled": true
   },
   "outputs": [
    {
     "name": "stdout",
     "output_type": "stream",
     "text": [
      "PROGRESS: Evaluate model M0\n",
      "\n",
      "Precision and recall summary statistics by cutoff\n",
      "+--------+----------------+-----------------+\n",
      "| cutoff | mean_precision |   mean_recall   |\n",
      "+--------+----------------+-----------------+\n",
      "|   1    | 0.406666666667 | 0.0260060796283 |\n",
      "|   2    | 0.383333333333 | 0.0523927909334 |\n",
      "|   3    | 0.331111111111 | 0.0627383536062 |\n",
      "|   4    | 0.311666666667 |  0.076143529002 |\n",
      "|   5    |     0.292      | 0.0903470627721 |\n",
      "|   6    | 0.282222222222 |  0.102396882225 |\n",
      "|   7    | 0.273333333333 |  0.111336718672 |\n",
      "|   8    |      0.26      |  0.120089437014 |\n",
      "|   9    | 0.25037037037  |  0.132885096745 |\n",
      "|   10   |     0.244      |  0.143880638096 |\n",
      "+--------+----------------+-----------------+\n",
      "[10 rows x 3 columns]\n",
      "\n",
      "('\\nOverall RMSE: ', 3.571932133261484)\n",
      "\n",
      "Per User RMSE (best)\n",
      "+--------+-------+---------------+\n",
      "| userId | count |      rmse     |\n",
      "+--------+-------+---------------+\n",
      "|  310   |   2   | 1.54033180726 |\n",
      "+--------+-------+---------------+\n",
      "[1 rows x 3 columns]\n",
      "\n",
      "\n",
      "Per User RMSE (worst)\n",
      "+--------+-------+------+\n",
      "| userId | count | rmse |\n",
      "+--------+-------+------+\n",
      "|   46   |   6   | 5.0  |\n",
      "+--------+-------+------+\n",
      "[1 rows x 3 columns]\n",
      "\n",
      "\n",
      "Per Item RMSE (best)\n",
      "+---------+-------+------+\n",
      "| movieId | count | rmse |\n",
      "+---------+-------+------+\n",
      "|  68884  |   1   | 0.0  |\n",
      "+---------+-------+------+\n",
      "[1 rows x 3 columns]\n",
      "\n",
      "\n",
      "Per Item RMSE (worst)\n",
      "+---------+-------+------+\n",
      "| movieId | count | rmse |\n",
      "+---------+-------+------+\n",
      "|   6380  |   1   | 5.0  |\n",
      "+---------+-------+------+\n",
      "[1 rows x 3 columns]\n",
      "\n",
      "PROGRESS: Evaluate model M1\n",
      "\n",
      "Precision and recall summary statistics by cutoff\n",
      "+--------+----------------+-----------------+\n",
      "| cutoff | mean_precision |   mean_recall   |\n",
      "+--------+----------------+-----------------+\n",
      "|   1    |      0.18      | 0.0108218769085 |\n",
      "|   2    |      0.17      | 0.0187230879147 |\n",
      "|   3    | 0.146666666667 | 0.0247532428106 |\n",
      "|   4    |     0.145      | 0.0331930229677 |\n",
      "|   5    | 0.141333333333 | 0.0421756270158 |\n",
      "|   6    | 0.133333333333 |  0.047070674761 |\n",
      "|   7    | 0.129523809524 | 0.0513687410351 |\n",
      "|   8    | 0.125833333333 | 0.0552950850189 |\n",
      "|   9    | 0.125185185185 | 0.0603985363796 |\n",
      "|   10   | 0.124666666667 | 0.0654458442327 |\n",
      "+--------+----------------+-----------------+\n",
      "[10 rows x 3 columns]\n",
      "\n",
      "('\\nOverall RMSE: ', 1.5301795961241)\n",
      "\n",
      "Per User RMSE (best)\n",
      "+--------+-------+-----------------+\n",
      "| userId | count |       rmse      |\n",
      "+--------+-------+-----------------+\n",
      "|  296   |   2   | 0.0710076412579 |\n",
      "+--------+-------+-----------------+\n",
      "[1 rows x 3 columns]\n",
      "\n",
      "\n",
      "Per User RMSE (worst)\n",
      "+--------+-------+---------------+\n",
      "| userId | count |      rmse     |\n",
      "+--------+-------+---------------+\n",
      "|   46   |   6   | 2.73297232518 |\n",
      "+--------+-------+---------------+\n",
      "[1 rows x 3 columns]\n",
      "\n",
      "\n",
      "Per Item RMSE (best)\n",
      "+---------+-------+-------------------+\n",
      "| movieId | count |        rmse       |\n",
      "+---------+-------+-------------------+\n",
      "|   4019  |   1   | 0.000665062566426 |\n",
      "+---------+-------+-------------------+\n",
      "[1 rows x 3 columns]\n",
      "\n",
      "\n",
      "Per Item RMSE (worst)\n",
      "+---------+-------+---------------+\n",
      "| movieId | count |      rmse     |\n",
      "+---------+-------+---------------+\n",
      "|    85   |   1   | 8.66327065835 |\n",
      "+---------+-------+---------------+\n",
      "[1 rows x 3 columns]\n",
      "\n"
     ]
    }
   ],
   "source": [
    "\n",
    "model_comp = gl.recommender.util.compare_models(test,[m1,m2])"
   ]
  },
  {
   "cell_type": "code",
   "execution_count": 153,
   "metadata": {
    "collapsed": false
   },
   "outputs": [
    {
     "name": "stderr",
     "output_type": "stream",
     "text": [
      "[INFO] graphlab.deploy.job: Validating job.\n",
      "[INFO] graphlab.deploy.map_job: Validation complete. Job: 'Model-Parameter-Search-Aug-06-2017-11-29-0300000' ready for execution\n",
      "[INFO] graphlab.deploy.map_job: Job: 'Model-Parameter-Search-Aug-06-2017-11-29-0300000' scheduled.\n",
      "[INFO] graphlab.deploy.job: Validating job.\n",
      "[INFO] graphlab.deploy.map_job: A job with name 'Model-Parameter-Search-Aug-06-2017-11-29-0300000' already exists. Renaming the job to 'Model-Parameter-Search-Aug-06-2017-11-29-0300000-9b258'.\n",
      "[INFO] graphlab.deploy.map_job: Validation complete. Job: 'Model-Parameter-Search-Aug-06-2017-11-29-0300000-9b258' ready for execution\n",
      "[INFO] graphlab.deploy.map_job: Job: 'Model-Parameter-Search-Aug-06-2017-11-29-0300000-9b258' scheduled.\n"
     ]
    }
   ],
   "source": [
    "params = {'user_id': 'userId', \n",
    "          'item_id': 'movieId', \n",
    "          'target': 'rating',\n",
    "          'num_factors': [8, 12, 16, 24, 32], \n",
    "          'regularization':[0.001] ,\n",
    "          'linear_regularization': [0.001]}\n",
    "\n",
    "job = gl.model_parameter_search.create( (train,test),\n",
    "        gl.recommender.ranking_factorization_recommender.create,\n",
    "        params,\n",
    "        max_models=10,\n",
    "        environment=None)"
   ]
  },
  {
   "cell_type": "code",
   "execution_count": 102,
   "metadata": {
    "collapsed": false
   },
   "outputs": [
    {
     "data": {
      "text/plain": [
       "{'Canceled': 0, 'Completed': 0, 'Failed': 0, 'Pending': 10, 'Running': 0}"
      ]
     },
     "execution_count": 102,
     "metadata": {},
     "output_type": "execute_result"
    }
   ],
   "source": [
    "job.get_status()"
   ]
  },
  {
   "cell_type": "code",
   "execution_count": 103,
   "metadata": {
    "collapsed": false
   },
   "outputs": [
    {
     "data": {
      "text/html": [
       "<div style=\"max-height:1000px;max-width:1500px;overflow:auto;\"><table frame=\"box\" rules=\"cols\">\n",
       "    <tr>\n",
       "        <th style=\"padding-left: 1em; padding-right: 1em; text-align: center\">model_id</th>\n",
       "        <th style=\"padding-left: 1em; padding-right: 1em; text-align: center\">item_id</th>\n",
       "        <th style=\"padding-left: 1em; padding-right: 1em; text-align: center\">linear_regularization</th>\n",
       "        <th style=\"padding-left: 1em; padding-right: 1em; text-align: center\">max_iterations</th>\n",
       "        <th style=\"padding-left: 1em; padding-right: 1em; text-align: center\">num_factors</th>\n",
       "        <th style=\"padding-left: 1em; padding-right: 1em; text-align: center\">num_sampled_negative_exam<br>ples ...</th>\n",
       "        <th style=\"padding-left: 1em; padding-right: 1em; text-align: center\">ranking_regularization</th>\n",
       "    </tr>\n",
       "    <tr>\n",
       "        <td style=\"padding-left: 1em; padding-right: 1em; text-align: center; vertical-align: top\">9</td>\n",
       "        <td style=\"padding-left: 1em; padding-right: 1em; text-align: center; vertical-align: top\">movieId</td>\n",
       "        <td style=\"padding-left: 1em; padding-right: 1em; text-align: center; vertical-align: top\">0.001</td>\n",
       "        <td style=\"padding-left: 1em; padding-right: 1em; text-align: center; vertical-align: top\">50</td>\n",
       "        <td style=\"padding-left: 1em; padding-right: 1em; text-align: center; vertical-align: top\">32</td>\n",
       "        <td style=\"padding-left: 1em; padding-right: 1em; text-align: center; vertical-align: top\">4</td>\n",
       "        <td style=\"padding-left: 1em; padding-right: 1em; text-align: center; vertical-align: top\">0.1</td>\n",
       "    </tr>\n",
       "    <tr>\n",
       "        <td style=\"padding-left: 1em; padding-right: 1em; text-align: center; vertical-align: top\">8</td>\n",
       "        <td style=\"padding-left: 1em; padding-right: 1em; text-align: center; vertical-align: top\">movieId</td>\n",
       "        <td style=\"padding-left: 1em; padding-right: 1em; text-align: center; vertical-align: top\">0.001</td>\n",
       "        <td style=\"padding-left: 1em; padding-right: 1em; text-align: center; vertical-align: top\">25</td>\n",
       "        <td style=\"padding-left: 1em; padding-right: 1em; text-align: center; vertical-align: top\">8</td>\n",
       "        <td style=\"padding-left: 1em; padding-right: 1em; text-align: center; vertical-align: top\">4</td>\n",
       "        <td style=\"padding-left: 1em; padding-right: 1em; text-align: center; vertical-align: top\">0.25</td>\n",
       "    </tr>\n",
       "    <tr>\n",
       "        <td style=\"padding-left: 1em; padding-right: 1em; text-align: center; vertical-align: top\">1</td>\n",
       "        <td style=\"padding-left: 1em; padding-right: 1em; text-align: center; vertical-align: top\">movieId</td>\n",
       "        <td style=\"padding-left: 1em; padding-right: 1em; text-align: center; vertical-align: top\">0.001</td>\n",
       "        <td style=\"padding-left: 1em; padding-right: 1em; text-align: center; vertical-align: top\">50</td>\n",
       "        <td style=\"padding-left: 1em; padding-right: 1em; text-align: center; vertical-align: top\">32</td>\n",
       "        <td style=\"padding-left: 1em; padding-right: 1em; text-align: center; vertical-align: top\">4</td>\n",
       "        <td style=\"padding-left: 1em; padding-right: 1em; text-align: center; vertical-align: top\">0.5</td>\n",
       "    </tr>\n",
       "    <tr>\n",
       "        <td style=\"padding-left: 1em; padding-right: 1em; text-align: center; vertical-align: top\">0</td>\n",
       "        <td style=\"padding-left: 1em; padding-right: 1em; text-align: center; vertical-align: top\">movieId</td>\n",
       "        <td style=\"padding-left: 1em; padding-right: 1em; text-align: center; vertical-align: top\">0.001</td>\n",
       "        <td style=\"padding-left: 1em; padding-right: 1em; text-align: center; vertical-align: top\">25</td>\n",
       "        <td style=\"padding-left: 1em; padding-right: 1em; text-align: center; vertical-align: top\">16</td>\n",
       "        <td style=\"padding-left: 1em; padding-right: 1em; text-align: center; vertical-align: top\">8</td>\n",
       "        <td style=\"padding-left: 1em; padding-right: 1em; text-align: center; vertical-align: top\">0.25</td>\n",
       "    </tr>\n",
       "    <tr>\n",
       "        <td style=\"padding-left: 1em; padding-right: 1em; text-align: center; vertical-align: top\">3</td>\n",
       "        <td style=\"padding-left: 1em; padding-right: 1em; text-align: center; vertical-align: top\">movieId</td>\n",
       "        <td style=\"padding-left: 1em; padding-right: 1em; text-align: center; vertical-align: top\">0.001</td>\n",
       "        <td style=\"padding-left: 1em; padding-right: 1em; text-align: center; vertical-align: top\">50</td>\n",
       "        <td style=\"padding-left: 1em; padding-right: 1em; text-align: center; vertical-align: top\">12</td>\n",
       "        <td style=\"padding-left: 1em; padding-right: 1em; text-align: center; vertical-align: top\">4</td>\n",
       "        <td style=\"padding-left: 1em; padding-right: 1em; text-align: center; vertical-align: top\">0.5</td>\n",
       "    </tr>\n",
       "    <tr>\n",
       "        <td style=\"padding-left: 1em; padding-right: 1em; text-align: center; vertical-align: top\">2</td>\n",
       "        <td style=\"padding-left: 1em; padding-right: 1em; text-align: center; vertical-align: top\">movieId</td>\n",
       "        <td style=\"padding-left: 1em; padding-right: 1em; text-align: center; vertical-align: top\">0.001</td>\n",
       "        <td style=\"padding-left: 1em; padding-right: 1em; text-align: center; vertical-align: top\">50</td>\n",
       "        <td style=\"padding-left: 1em; padding-right: 1em; text-align: center; vertical-align: top\">16</td>\n",
       "        <td style=\"padding-left: 1em; padding-right: 1em; text-align: center; vertical-align: top\">8</td>\n",
       "        <td style=\"padding-left: 1em; padding-right: 1em; text-align: center; vertical-align: top\">0.1</td>\n",
       "    </tr>\n",
       "    <tr>\n",
       "        <td style=\"padding-left: 1em; padding-right: 1em; text-align: center; vertical-align: top\">5</td>\n",
       "        <td style=\"padding-left: 1em; padding-right: 1em; text-align: center; vertical-align: top\">movieId</td>\n",
       "        <td style=\"padding-left: 1em; padding-right: 1em; text-align: center; vertical-align: top\">0.001</td>\n",
       "        <td style=\"padding-left: 1em; padding-right: 1em; text-align: center; vertical-align: top\">50</td>\n",
       "        <td style=\"padding-left: 1em; padding-right: 1em; text-align: center; vertical-align: top\">12</td>\n",
       "        <td style=\"padding-left: 1em; padding-right: 1em; text-align: center; vertical-align: top\">8</td>\n",
       "        <td style=\"padding-left: 1em; padding-right: 1em; text-align: center; vertical-align: top\">0.25</td>\n",
       "    </tr>\n",
       "    <tr>\n",
       "        <td style=\"padding-left: 1em; padding-right: 1em; text-align: center; vertical-align: top\">4</td>\n",
       "        <td style=\"padding-left: 1em; padding-right: 1em; text-align: center; vertical-align: top\">movieId</td>\n",
       "        <td style=\"padding-left: 1em; padding-right: 1em; text-align: center; vertical-align: top\">0.001</td>\n",
       "        <td style=\"padding-left: 1em; padding-right: 1em; text-align: center; vertical-align: top\">25</td>\n",
       "        <td style=\"padding-left: 1em; padding-right: 1em; text-align: center; vertical-align: top\">24</td>\n",
       "        <td style=\"padding-left: 1em; padding-right: 1em; text-align: center; vertical-align: top\">4</td>\n",
       "        <td style=\"padding-left: 1em; padding-right: 1em; text-align: center; vertical-align: top\">0.25</td>\n",
       "    </tr>\n",
       "    <tr>\n",
       "        <td style=\"padding-left: 1em; padding-right: 1em; text-align: center; vertical-align: top\">7</td>\n",
       "        <td style=\"padding-left: 1em; padding-right: 1em; text-align: center; vertical-align: top\">movieId</td>\n",
       "        <td style=\"padding-left: 1em; padding-right: 1em; text-align: center; vertical-align: top\">0.001</td>\n",
       "        <td style=\"padding-left: 1em; padding-right: 1em; text-align: center; vertical-align: top\">25</td>\n",
       "        <td style=\"padding-left: 1em; padding-right: 1em; text-align: center; vertical-align: top\">12</td>\n",
       "        <td style=\"padding-left: 1em; padding-right: 1em; text-align: center; vertical-align: top\">8</td>\n",
       "        <td style=\"padding-left: 1em; padding-right: 1em; text-align: center; vertical-align: top\">0.5</td>\n",
       "    </tr>\n",
       "    <tr>\n",
       "        <td style=\"padding-left: 1em; padding-right: 1em; text-align: center; vertical-align: top\">6</td>\n",
       "        <td style=\"padding-left: 1em; padding-right: 1em; text-align: center; vertical-align: top\">movieId</td>\n",
       "        <td style=\"padding-left: 1em; padding-right: 1em; text-align: center; vertical-align: top\">0.001</td>\n",
       "        <td style=\"padding-left: 1em; padding-right: 1em; text-align: center; vertical-align: top\">50</td>\n",
       "        <td style=\"padding-left: 1em; padding-right: 1em; text-align: center; vertical-align: top\">16</td>\n",
       "        <td style=\"padding-left: 1em; padding-right: 1em; text-align: center; vertical-align: top\">8</td>\n",
       "        <td style=\"padding-left: 1em; padding-right: 1em; text-align: center; vertical-align: top\">0.5</td>\n",
       "    </tr>\n",
       "</table>\n",
       "<table frame=\"box\" rules=\"cols\">\n",
       "    <tr>\n",
       "        <th style=\"padding-left: 1em; padding-right: 1em; text-align: center\">regularization</th>\n",
       "        <th style=\"padding-left: 1em; padding-right: 1em; text-align: center\">target</th>\n",
       "        <th style=\"padding-left: 1em; padding-right: 1em; text-align: center\">user_id</th>\n",
       "        <th style=\"padding-left: 1em; padding-right: 1em; text-align: center\">training_precision@5</th>\n",
       "        <th style=\"padding-left: 1em; padding-right: 1em; text-align: center\">training_recall@5</th>\n",
       "        <th style=\"padding-left: 1em; padding-right: 1em; text-align: center\">training_rmse</th>\n",
       "        <th style=\"padding-left: 1em; padding-right: 1em; text-align: center\">validation_precision@5</th>\n",
       "    </tr>\n",
       "    <tr>\n",
       "        <td style=\"padding-left: 1em; padding-right: 1em; text-align: center; vertical-align: top\">0.001</td>\n",
       "        <td style=\"padding-left: 1em; padding-right: 1em; text-align: center; vertical-align: top\">rating</td>\n",
       "        <td style=\"padding-left: 1em; padding-right: 1em; text-align: center; vertical-align: top\">userId</td>\n",
       "        <td style=\"padding-left: 1em; padding-right: 1em; text-align: center; vertical-align: top\">0.366020864382</td>\n",
       "        <td style=\"padding-left: 1em; padding-right: 1em; text-align: center; vertical-align: top\">0.0233486863467</td>\n",
       "        <td style=\"padding-left: 1em; padding-right: 1em; text-align: center; vertical-align: top\">0.944114974915</td>\n",
       "        <td style=\"padding-left: 1em; padding-right: 1em; text-align: center; vertical-align: top\">0.149333333333</td>\n",
       "    </tr>\n",
       "    <tr>\n",
       "        <td style=\"padding-left: 1em; padding-right: 1em; text-align: center; vertical-align: top\">0.001</td>\n",
       "        <td style=\"padding-left: 1em; padding-right: 1em; text-align: center; vertical-align: top\">rating</td>\n",
       "        <td style=\"padding-left: 1em; padding-right: 1em; text-align: center; vertical-align: top\">userId</td>\n",
       "        <td style=\"padding-left: 1em; padding-right: 1em; text-align: center; vertical-align: top\">0.362444113264</td>\n",
       "        <td style=\"padding-left: 1em; padding-right: 1em; text-align: center; vertical-align: top\">0.0233259708834</td>\n",
       "        <td style=\"padding-left: 1em; padding-right: 1em; text-align: center; vertical-align: top\">1.00780036008</td>\n",
       "        <td style=\"padding-left: 1em; padding-right: 1em; text-align: center; vertical-align: top\">0.150666666667</td>\n",
       "    </tr>\n",
       "    <tr>\n",
       "        <td style=\"padding-left: 1em; padding-right: 1em; text-align: center; vertical-align: top\">0.001</td>\n",
       "        <td style=\"padding-left: 1em; padding-right: 1em; text-align: center; vertical-align: top\">rating</td>\n",
       "        <td style=\"padding-left: 1em; padding-right: 1em; text-align: center; vertical-align: top\">userId</td>\n",
       "        <td style=\"padding-left: 1em; padding-right: 1em; text-align: center; vertical-align: top\">0.374068554396</td>\n",
       "        <td style=\"padding-left: 1em; padding-right: 1em; text-align: center; vertical-align: top\">0.0238303483388</td>\n",
       "        <td style=\"padding-left: 1em; padding-right: 1em; text-align: center; vertical-align: top\">1.11370546438</td>\n",
       "        <td style=\"padding-left: 1em; padding-right: 1em; text-align: center; vertical-align: top\">0.154666666667</td>\n",
       "    </tr>\n",
       "    <tr>\n",
       "        <td style=\"padding-left: 1em; padding-right: 1em; text-align: center; vertical-align: top\">0.001</td>\n",
       "        <td style=\"padding-left: 1em; padding-right: 1em; text-align: center; vertical-align: top\">rating</td>\n",
       "        <td style=\"padding-left: 1em; padding-right: 1em; text-align: center; vertical-align: top\">userId</td>\n",
       "        <td style=\"padding-left: 1em; padding-right: 1em; text-align: center; vertical-align: top\">0.362444113264</td>\n",
       "        <td style=\"padding-left: 1em; padding-right: 1em; text-align: center; vertical-align: top\">0.0233259708834</td>\n",
       "        <td style=\"padding-left: 1em; padding-right: 1em; text-align: center; vertical-align: top\">1.01951912308</td>\n",
       "        <td style=\"padding-left: 1em; padding-right: 1em; text-align: center; vertical-align: top\">0.148</td>\n",
       "    </tr>\n",
       "    <tr>\n",
       "        <td style=\"padding-left: 1em; padding-right: 1em; text-align: center; vertical-align: top\">0.001</td>\n",
       "        <td style=\"padding-left: 1em; padding-right: 1em; text-align: center; vertical-align: top\">rating</td>\n",
       "        <td style=\"padding-left: 1em; padding-right: 1em; text-align: center; vertical-align: top\">userId</td>\n",
       "        <td style=\"padding-left: 1em; padding-right: 1em; text-align: center; vertical-align: top\">0.362444113264</td>\n",
       "        <td style=\"padding-left: 1em; padding-right: 1em; text-align: center; vertical-align: top\">0.0233259708834</td>\n",
       "        <td style=\"padding-left: 1em; padding-right: 1em; text-align: center; vertical-align: top\">1.11371087114</td>\n",
       "        <td style=\"padding-left: 1em; padding-right: 1em; text-align: center; vertical-align: top\">0.149333333333</td>\n",
       "    </tr>\n",
       "    <tr>\n",
       "        <td style=\"padding-left: 1em; padding-right: 1em; text-align: center; vertical-align: top\">0.001</td>\n",
       "        <td style=\"padding-left: 1em; padding-right: 1em; text-align: center; vertical-align: top\">rating</td>\n",
       "        <td style=\"padding-left: 1em; padding-right: 1em; text-align: center; vertical-align: top\">userId</td>\n",
       "        <td style=\"padding-left: 1em; padding-right: 1em; text-align: center; vertical-align: top\">0.366318926975</td>\n",
       "        <td style=\"padding-left: 1em; padding-right: 1em; text-align: center; vertical-align: top\">0.0233532666141</td>\n",
       "        <td style=\"padding-left: 1em; padding-right: 1em; text-align: center; vertical-align: top\">0.949925309765</td>\n",
       "        <td style=\"padding-left: 1em; padding-right: 1em; text-align: center; vertical-align: top\">0.152</td>\n",
       "    </tr>\n",
       "    <tr>\n",
       "        <td style=\"padding-left: 1em; padding-right: 1em; text-align: center; vertical-align: top\">0.001</td>\n",
       "        <td style=\"padding-left: 1em; padding-right: 1em; text-align: center; vertical-align: top\">rating</td>\n",
       "        <td style=\"padding-left: 1em; padding-right: 1em; text-align: center; vertical-align: top\">userId</td>\n",
       "        <td style=\"padding-left: 1em; padding-right: 1em; text-align: center; vertical-align: top\">0.362444113264</td>\n",
       "        <td style=\"padding-left: 1em; padding-right: 1em; text-align: center; vertical-align: top\">0.0233259708834</td>\n",
       "        <td style=\"padding-left: 1em; padding-right: 1em; text-align: center; vertical-align: top\">1.01962036348</td>\n",
       "        <td style=\"padding-left: 1em; padding-right: 1em; text-align: center; vertical-align: top\">0.149333333333</td>\n",
       "    </tr>\n",
       "    <tr>\n",
       "        <td style=\"padding-left: 1em; padding-right: 1em; text-align: center; vertical-align: top\">0.001</td>\n",
       "        <td style=\"padding-left: 1em; padding-right: 1em; text-align: center; vertical-align: top\">rating</td>\n",
       "        <td style=\"padding-left: 1em; padding-right: 1em; text-align: center; vertical-align: top\">userId</td>\n",
       "        <td style=\"padding-left: 1em; padding-right: 1em; text-align: center; vertical-align: top\">0.362444113264</td>\n",
       "        <td style=\"padding-left: 1em; padding-right: 1em; text-align: center; vertical-align: top\">0.0233259708834</td>\n",
       "        <td style=\"padding-left: 1em; padding-right: 1em; text-align: center; vertical-align: top\">1.00772223023</td>\n",
       "        <td style=\"padding-left: 1em; padding-right: 1em; text-align: center; vertical-align: top\">0.150666666667</td>\n",
       "    </tr>\n",
       "    <tr>\n",
       "        <td style=\"padding-left: 1em; padding-right: 1em; text-align: center; vertical-align: top\">0.001</td>\n",
       "        <td style=\"padding-left: 1em; padding-right: 1em; text-align: center; vertical-align: top\">rating</td>\n",
       "        <td style=\"padding-left: 1em; padding-right: 1em; text-align: center; vertical-align: top\">userId</td>\n",
       "        <td style=\"padding-left: 1em; padding-right: 1em; text-align: center; vertical-align: top\">0.387183308495</td>\n",
       "        <td style=\"padding-left: 1em; padding-right: 1em; text-align: center; vertical-align: top\">0.0248522624061</td>\n",
       "        <td style=\"padding-left: 1em; padding-right: 1em; text-align: center; vertical-align: top\">1.13520800339</td>\n",
       "        <td style=\"padding-left: 1em; padding-right: 1em; text-align: center; vertical-align: top\">0.164</td>\n",
       "    </tr>\n",
       "    <tr>\n",
       "        <td style=\"padding-left: 1em; padding-right: 1em; text-align: center; vertical-align: top\">0.001</td>\n",
       "        <td style=\"padding-left: 1em; padding-right: 1em; text-align: center; vertical-align: top\">rating</td>\n",
       "        <td style=\"padding-left: 1em; padding-right: 1em; text-align: center; vertical-align: top\">userId</td>\n",
       "        <td style=\"padding-left: 1em; padding-right: 1em; text-align: center; vertical-align: top\">0.387183308495</td>\n",
       "        <td style=\"padding-left: 1em; padding-right: 1em; text-align: center; vertical-align: top\">0.0248522624061</td>\n",
       "        <td style=\"padding-left: 1em; padding-right: 1em; text-align: center; vertical-align: top\">1.13527041802</td>\n",
       "        <td style=\"padding-left: 1em; padding-right: 1em; text-align: center; vertical-align: top\">0.164</td>\n",
       "    </tr>\n",
       "</table>\n",
       "<table frame=\"box\" rules=\"cols\">\n",
       "    <tr>\n",
       "        <th style=\"padding-left: 1em; padding-right: 1em; text-align: center\">validation_recall@5</th>\n",
       "        <th style=\"padding-left: 1em; padding-right: 1em; text-align: center\">validation_rmse</th>\n",
       "    </tr>\n",
       "    <tr>\n",
       "        <td style=\"padding-left: 1em; padding-right: 1em; text-align: center; vertical-align: top\">0.0407873136979</td>\n",
       "        <td style=\"padding-left: 1em; padding-right: 1em; text-align: center; vertical-align: top\">0.981967589655</td>\n",
       "    </tr>\n",
       "    <tr>\n",
       "        <td style=\"padding-left: 1em; padding-right: 1em; text-align: center; vertical-align: top\">0.0405225993817</td>\n",
       "        <td style=\"padding-left: 1em; padding-right: 1em; text-align: center; vertical-align: top\">1.02567597193</td>\n",
       "    </tr>\n",
       "    <tr>\n",
       "        <td style=\"padding-left: 1em; padding-right: 1em; text-align: center; vertical-align: top\">0.0445053764856</td>\n",
       "        <td style=\"padding-left: 1em; padding-right: 1em; text-align: center; vertical-align: top\">1.11574977847</td>\n",
       "    </tr>\n",
       "    <tr>\n",
       "        <td style=\"padding-left: 1em; padding-right: 1em; text-align: center; vertical-align: top\">0.0418273179021</td>\n",
       "        <td style=\"padding-left: 1em; padding-right: 1em; text-align: center; vertical-align: top\">1.03482603392</td>\n",
       "    </tr>\n",
       "    <tr>\n",
       "        <td style=\"padding-left: 1em; padding-right: 1em; text-align: center; vertical-align: top\">0.0418863288665</td>\n",
       "        <td style=\"padding-left: 1em; padding-right: 1em; text-align: center; vertical-align: top\">1.11573288606</td>\n",
       "    </tr>\n",
       "    <tr>\n",
       "        <td style=\"padding-left: 1em; padding-right: 1em; text-align: center; vertical-align: top\">0.0430282100564</td>\n",
       "        <td style=\"padding-left: 1em; padding-right: 1em; text-align: center; vertical-align: top\">0.986245291087</td>\n",
       "    </tr>\n",
       "    <tr>\n",
       "        <td style=\"padding-left: 1em; padding-right: 1em; text-align: center; vertical-align: top\">0.0419212146157</td>\n",
       "        <td style=\"padding-left: 1em; padding-right: 1em; text-align: center; vertical-align: top\">1.03483525442</td>\n",
       "    </tr>\n",
       "    <tr>\n",
       "        <td style=\"padding-left: 1em; padding-right: 1em; text-align: center; vertical-align: top\">0.0405225993817</td>\n",
       "        <td style=\"padding-left: 1em; padding-right: 1em; text-align: center; vertical-align: top\">1.02558280262</td>\n",
       "    </tr>\n",
       "    <tr>\n",
       "        <td style=\"padding-left: 1em; padding-right: 1em; text-align: center; vertical-align: top\">0.0447553714093</td>\n",
       "        <td style=\"padding-left: 1em; padding-right: 1em; text-align: center; vertical-align: top\">1.13429870344</td>\n",
       "    </tr>\n",
       "    <tr>\n",
       "        <td style=\"padding-left: 1em; padding-right: 1em; text-align: center; vertical-align: top\">0.0453851900034</td>\n",
       "        <td style=\"padding-left: 1em; padding-right: 1em; text-align: center; vertical-align: top\">1.13446615084</td>\n",
       "    </tr>\n",
       "</table>\n",
       "[10 rows x 16 columns]<br/>\n",
       "</div>"
      ],
      "text/plain": [
       "Columns:\n",
       "\tmodel_id\tint\n",
       "\titem_id\tstr\n",
       "\tlinear_regularization\tfloat\n",
       "\tmax_iterations\tint\n",
       "\tnum_factors\tint\n",
       "\tnum_sampled_negative_examples\tint\n",
       "\tranking_regularization\tfloat\n",
       "\tregularization\tfloat\n",
       "\ttarget\tstr\n",
       "\tuser_id\tstr\n",
       "\ttraining_precision@5\tfloat\n",
       "\ttraining_recall@5\tfloat\n",
       "\ttraining_rmse\tfloat\n",
       "\tvalidation_precision@5\tfloat\n",
       "\tvalidation_recall@5\tfloat\n",
       "\tvalidation_rmse\tfloat\n",
       "\n",
       "Rows: 10\n",
       "\n",
       "Data:\n",
       "+----------+---------+-----------------------+----------------+-------------+-------------------------------+\n",
       "| model_id | item_id | linear_regularization | max_iterations | num_factors | num_sampled_negative_examples |\n",
       "+----------+---------+-----------------------+----------------+-------------+-------------------------------+\n",
       "|    9     | movieId |         0.001         |       50       |      32     |               4               |\n",
       "|    8     | movieId |         0.001         |       25       |      8      |               4               |\n",
       "|    1     | movieId |         0.001         |       50       |      32     |               4               |\n",
       "|    0     | movieId |         0.001         |       25       |      16     |               8               |\n",
       "|    3     | movieId |         0.001         |       50       |      12     |               4               |\n",
       "|    2     | movieId |         0.001         |       50       |      16     |               8               |\n",
       "|    5     | movieId |         0.001         |       50       |      12     |               8               |\n",
       "|    4     | movieId |         0.001         |       25       |      24     |               4               |\n",
       "|    7     | movieId |         0.001         |       25       |      12     |               8               |\n",
       "|    6     | movieId |         0.001         |       50       |      16     |               8               |\n",
       "+----------+---------+-----------------------+----------------+-------------+-------------------------------+\n",
       "+------------------------+----------------+--------+---------+----------------------+\n",
       "| ranking_regularization | regularization | target | user_id | training_precision@5 |\n",
       "+------------------------+----------------+--------+---------+----------------------+\n",
       "|          0.1           |     0.001      | rating |  userId |    0.366020864382    |\n",
       "|          0.25          |     0.001      | rating |  userId |    0.362444113264    |\n",
       "|          0.5           |     0.001      | rating |  userId |    0.374068554396    |\n",
       "|          0.25          |     0.001      | rating |  userId |    0.362444113264    |\n",
       "|          0.5           |     0.001      | rating |  userId |    0.362444113264    |\n",
       "|          0.1           |     0.001      | rating |  userId |    0.366318926975    |\n",
       "|          0.25          |     0.001      | rating |  userId |    0.362444113264    |\n",
       "|          0.25          |     0.001      | rating |  userId |    0.362444113264    |\n",
       "|          0.5           |     0.001      | rating |  userId |    0.387183308495    |\n",
       "|          0.5           |     0.001      | rating |  userId |    0.387183308495    |\n",
       "+------------------------+----------------+--------+---------+----------------------+\n",
       "+-------------------+----------------+------------------------+---------------------+\n",
       "| training_recall@5 | training_rmse  | validation_precision@5 | validation_recall@5 |\n",
       "+-------------------+----------------+------------------------+---------------------+\n",
       "|  0.0233486863467  | 0.944114974915 |     0.149333333333     |   0.0407873136979   |\n",
       "|  0.0233259708834  | 1.00780036008  |     0.150666666667     |   0.0405225993817   |\n",
       "|  0.0238303483388  | 1.11370546438  |     0.154666666667     |   0.0445053764856   |\n",
       "|  0.0233259708834  | 1.01951912308  |         0.148          |   0.0418273179021   |\n",
       "|  0.0233259708834  | 1.11371087114  |     0.149333333333     |   0.0418863288665   |\n",
       "|  0.0233532666141  | 0.949925309765 |         0.152          |   0.0430282100564   |\n",
       "|  0.0233259708834  | 1.01962036348  |     0.149333333333     |   0.0419212146157   |\n",
       "|  0.0233259708834  | 1.00772223023  |     0.150666666667     |   0.0405225993817   |\n",
       "|  0.0248522624061  | 1.13520800339  |         0.164          |   0.0447553714093   |\n",
       "|  0.0248522624061  | 1.13527041802  |         0.164          |   0.0453851900034   |\n",
       "+-------------------+----------------+------------------------+---------------------+\n",
       "+-----------------+\n",
       "| validation_rmse |\n",
       "+-----------------+\n",
       "|  0.981967589655 |\n",
       "|  1.02567597193  |\n",
       "|  1.11574977847  |\n",
       "|  1.03482603392  |\n",
       "|  1.11573288606  |\n",
       "|  0.986245291087 |\n",
       "|  1.03483525442  |\n",
       "|  1.02558280262  |\n",
       "|  1.13429870344  |\n",
       "|  1.13446615084  |\n",
       "+-----------------+\n",
       "[10 rows x 16 columns]"
      ]
     },
     "execution_count": 103,
     "metadata": {},
     "output_type": "execute_result"
    }
   ],
   "source": [
    "job_result = job.get_results()\n",
    "\n",
    "job_result.head()"
   ]
  },
  {
   "cell_type": "code",
   "execution_count": 104,
   "metadata": {
    "collapsed": false
   },
   "outputs": [
    {
     "data": {
      "text/plain": [
       "{'item_id': 'movieId',\n",
       " 'linear_regularization': 0.001,\n",
       " 'max_iterations': 50,\n",
       " 'num_factors': 32,\n",
       " 'num_sampled_negative_examples': 4,\n",
       " 'ranking_regularization': 0.1,\n",
       " 'regularization': 0.001,\n",
       " 'target': 'rating',\n",
       " 'user_id': 'userId'}"
      ]
     },
     "execution_count": 104,
     "metadata": {},
     "output_type": "execute_result"
    }
   ],
   "source": [
    "bst_prms = job.get_best_params()\n",
    "bst_prms"
   ]
  },
  {
   "cell_type": "markdown",
   "metadata": {},
   "source": [
    "### Add Ranking Factorization Info\n"
   ]
  },
  {
   "cell_type": "code",
   "execution_count": 105,
   "metadata": {
    "collapsed": false
   },
   "outputs": [
    {
     "data": {
      "text/plain": [
       "[Class                            : RankingFactorizationRecommender\n",
       " \n",
       " Schema\n",
       " ------\n",
       " User ID                          : userId\n",
       " Item ID                          : movieId\n",
       " Target                           : rating\n",
       " Additional observation features  : 0\n",
       " User side features               : []\n",
       " Item side features               : []\n",
       " \n",
       " Statistics\n",
       " ----------\n",
       " Number of observations           : 95889\n",
       " Number of users                  : 671\n",
       " Number of items                  : 8928\n",
       " \n",
       " Training summary\n",
       " ----------------\n",
       " Training time                    : 5.438\n",
       " \n",
       " Model Parameters\n",
       " ----------------\n",
       " Model class                      : RankingFactorizationRecommender\n",
       " num_factors                      : 16\n",
       " binary_target                    : 0\n",
       " side_data_factorization          : 1\n",
       " solver                           : auto\n",
       " nmf                              : 0\n",
       " max_iterations                   : 25\n",
       " \n",
       " Regularization Settings\n",
       " -----------------------\n",
       " regularization                   : 0.001\n",
       " regularization_type              : normal\n",
       " linear_regularization            : 0.001\n",
       " ranking_regularization           : 0.25\n",
       " unobserved_rating_value          : -1.79769313486e+308\n",
       " num_sampled_negative_examples    : 8\n",
       " ials_confidence_scaling_type     : auto\n",
       " ials_confidence_scaling_factor   : 1\n",
       " \n",
       " Optimization Settings\n",
       " ---------------------\n",
       " init_random_sigma                : 0.01\n",
       " sgd_convergence_interval         : 4\n",
       " sgd_convergence_threshold        : 0.0\n",
       " sgd_max_trial_iterations         : 5\n",
       " sgd_sampling_block_size          : 131072\n",
       " sgd_step_adjustment_interval     : 4\n",
       " sgd_step_size                    : 0.0\n",
       " sgd_trial_sample_minimum_size    : 10000\n",
       " sgd_trial_sample_proportion      : 0.125\n",
       " step_size_decrease_rate          : 0.75\n",
       " additional_iterations_if_unhealthy : 5\n",
       " adagrad_momentum_weighting       : 0.9\n",
       " num_tempering_iterations         : 4\n",
       " tempering_regularization_start_value : 0.0\n",
       " track_exact_loss                 : 0,\n",
       " Class                            : RankingFactorizationRecommender\n",
       " \n",
       " Schema\n",
       " ------\n",
       " User ID                          : userId\n",
       " Item ID                          : movieId\n",
       " Target                           : rating\n",
       " Additional observation features  : 0\n",
       " User side features               : []\n",
       " Item side features               : []\n",
       " \n",
       " Statistics\n",
       " ----------\n",
       " Number of observations           : 95889\n",
       " Number of users                  : 671\n",
       " Number of items                  : 8928\n",
       " \n",
       " Training summary\n",
       " ----------------\n",
       " Training time                    : 6.4304\n",
       " \n",
       " Model Parameters\n",
       " ----------------\n",
       " Model class                      : RankingFactorizationRecommender\n",
       " num_factors                      : 32\n",
       " binary_target                    : 0\n",
       " side_data_factorization          : 1\n",
       " solver                           : auto\n",
       " nmf                              : 0\n",
       " max_iterations                   : 50\n",
       " \n",
       " Regularization Settings\n",
       " -----------------------\n",
       " regularization                   : 0.001\n",
       " regularization_type              : normal\n",
       " linear_regularization            : 0.001\n",
       " ranking_regularization           : 0.5\n",
       " unobserved_rating_value          : -1.79769313486e+308\n",
       " num_sampled_negative_examples    : 4\n",
       " ials_confidence_scaling_type     : auto\n",
       " ials_confidence_scaling_factor   : 1\n",
       " \n",
       " Optimization Settings\n",
       " ---------------------\n",
       " init_random_sigma                : 0.01\n",
       " sgd_convergence_interval         : 4\n",
       " sgd_convergence_threshold        : 0.0\n",
       " sgd_max_trial_iterations         : 5\n",
       " sgd_sampling_block_size          : 131072\n",
       " sgd_step_adjustment_interval     : 4\n",
       " sgd_step_size                    : 0.0\n",
       " sgd_trial_sample_minimum_size    : 10000\n",
       " sgd_trial_sample_proportion      : 0.125\n",
       " step_size_decrease_rate          : 0.75\n",
       " additional_iterations_if_unhealthy : 5\n",
       " adagrad_momentum_weighting       : 0.9\n",
       " num_tempering_iterations         : 4\n",
       " tempering_regularization_start_value : 0.0\n",
       " track_exact_loss                 : 0,\n",
       " Class                            : RankingFactorizationRecommender\n",
       " \n",
       " Schema\n",
       " ------\n",
       " User ID                          : userId\n",
       " Item ID                          : movieId\n",
       " Target                           : rating\n",
       " Additional observation features  : 0\n",
       " User side features               : []\n",
       " Item side features               : []\n",
       " \n",
       " Statistics\n",
       " ----------\n",
       " Number of observations           : 95889\n",
       " Number of users                  : 671\n",
       " Number of items                  : 8928\n",
       " \n",
       " Training summary\n",
       " ----------------\n",
       " Training time                    : 7.1913\n",
       " \n",
       " Model Parameters\n",
       " ----------------\n",
       " Model class                      : RankingFactorizationRecommender\n",
       " num_factors                      : 16\n",
       " binary_target                    : 0\n",
       " side_data_factorization          : 1\n",
       " solver                           : auto\n",
       " nmf                              : 0\n",
       " max_iterations                   : 50\n",
       " \n",
       " Regularization Settings\n",
       " -----------------------\n",
       " regularization                   : 0.001\n",
       " regularization_type              : normal\n",
       " linear_regularization            : 0.001\n",
       " ranking_regularization           : 0.1\n",
       " unobserved_rating_value          : -1.79769313486e+308\n",
       " num_sampled_negative_examples    : 8\n",
       " ials_confidence_scaling_type     : auto\n",
       " ials_confidence_scaling_factor   : 1\n",
       " \n",
       " Optimization Settings\n",
       " ---------------------\n",
       " init_random_sigma                : 0.01\n",
       " sgd_convergence_interval         : 4\n",
       " sgd_convergence_threshold        : 0.0\n",
       " sgd_max_trial_iterations         : 5\n",
       " sgd_sampling_block_size          : 131072\n",
       " sgd_step_adjustment_interval     : 4\n",
       " sgd_step_size                    : 0.0\n",
       " sgd_trial_sample_minimum_size    : 10000\n",
       " sgd_trial_sample_proportion      : 0.125\n",
       " step_size_decrease_rate          : 0.75\n",
       " additional_iterations_if_unhealthy : 5\n",
       " adagrad_momentum_weighting       : 0.9\n",
       " num_tempering_iterations         : 4\n",
       " tempering_regularization_start_value : 0.0\n",
       " track_exact_loss                 : 0,\n",
       " Class                            : RankingFactorizationRecommender\n",
       " \n",
       " Schema\n",
       " ------\n",
       " User ID                          : userId\n",
       " Item ID                          : movieId\n",
       " Target                           : rating\n",
       " Additional observation features  : 0\n",
       " User side features               : []\n",
       " Item side features               : []\n",
       " \n",
       " Statistics\n",
       " ----------\n",
       " Number of observations           : 95889\n",
       " Number of users                  : 671\n",
       " Number of items                  : 8928\n",
       " \n",
       " Training summary\n",
       " ----------------\n",
       " Training time                    : 5.5755\n",
       " \n",
       " Model Parameters\n",
       " ----------------\n",
       " Model class                      : RankingFactorizationRecommender\n",
       " num_factors                      : 12\n",
       " binary_target                    : 0\n",
       " side_data_factorization          : 1\n",
       " solver                           : auto\n",
       " nmf                              : 0\n",
       " max_iterations                   : 50\n",
       " \n",
       " Regularization Settings\n",
       " -----------------------\n",
       " regularization                   : 0.001\n",
       " regularization_type              : normal\n",
       " linear_regularization            : 0.001\n",
       " ranking_regularization           : 0.5\n",
       " unobserved_rating_value          : -1.79769313486e+308\n",
       " num_sampled_negative_examples    : 4\n",
       " ials_confidence_scaling_type     : auto\n",
       " ials_confidence_scaling_factor   : 1\n",
       " \n",
       " Optimization Settings\n",
       " ---------------------\n",
       " init_random_sigma                : 0.01\n",
       " sgd_convergence_interval         : 4\n",
       " sgd_convergence_threshold        : 0.0\n",
       " sgd_max_trial_iterations         : 5\n",
       " sgd_sampling_block_size          : 131072\n",
       " sgd_step_adjustment_interval     : 4\n",
       " sgd_step_size                    : 0.0\n",
       " sgd_trial_sample_minimum_size    : 10000\n",
       " sgd_trial_sample_proportion      : 0.125\n",
       " step_size_decrease_rate          : 0.75\n",
       " additional_iterations_if_unhealthy : 5\n",
       " adagrad_momentum_weighting       : 0.9\n",
       " num_tempering_iterations         : 4\n",
       " tempering_regularization_start_value : 0.0\n",
       " track_exact_loss                 : 0,\n",
       " Class                            : RankingFactorizationRecommender\n",
       " \n",
       " Schema\n",
       " ------\n",
       " User ID                          : userId\n",
       " Item ID                          : movieId\n",
       " Target                           : rating\n",
       " Additional observation features  : 0\n",
       " User side features               : []\n",
       " Item side features               : []\n",
       " \n",
       " Statistics\n",
       " ----------\n",
       " Number of observations           : 95889\n",
       " Number of users                  : 671\n",
       " Number of items                  : 8928\n",
       " \n",
       " Training summary\n",
       " ----------------\n",
       " Training time                    : 3.6669\n",
       " \n",
       " Model Parameters\n",
       " ----------------\n",
       " Model class                      : RankingFactorizationRecommender\n",
       " num_factors                      : 24\n",
       " binary_target                    : 0\n",
       " side_data_factorization          : 1\n",
       " solver                           : auto\n",
       " nmf                              : 0\n",
       " max_iterations                   : 25\n",
       " \n",
       " Regularization Settings\n",
       " -----------------------\n",
       " regularization                   : 0.001\n",
       " regularization_type              : normal\n",
       " linear_regularization            : 0.001\n",
       " ranking_regularization           : 0.25\n",
       " unobserved_rating_value          : -1.79769313486e+308\n",
       " num_sampled_negative_examples    : 4\n",
       " ials_confidence_scaling_type     : auto\n",
       " ials_confidence_scaling_factor   : 1\n",
       " \n",
       " Optimization Settings\n",
       " ---------------------\n",
       " init_random_sigma                : 0.01\n",
       " sgd_convergence_interval         : 4\n",
       " sgd_convergence_threshold        : 0.0\n",
       " sgd_max_trial_iterations         : 5\n",
       " sgd_sampling_block_size          : 131072\n",
       " sgd_step_adjustment_interval     : 4\n",
       " sgd_step_size                    : 0.0\n",
       " sgd_trial_sample_minimum_size    : 10000\n",
       " sgd_trial_sample_proportion      : 0.125\n",
       " step_size_decrease_rate          : 0.75\n",
       " additional_iterations_if_unhealthy : 5\n",
       " adagrad_momentum_weighting       : 0.9\n",
       " num_tempering_iterations         : 4\n",
       " tempering_regularization_start_value : 0.0\n",
       " track_exact_loss                 : 0,\n",
       " Class                            : RankingFactorizationRecommender\n",
       " \n",
       " Schema\n",
       " ------\n",
       " User ID                          : userId\n",
       " Item ID                          : movieId\n",
       " Target                           : rating\n",
       " Additional observation features  : 0\n",
       " User side features               : []\n",
       " Item side features               : []\n",
       " \n",
       " Statistics\n",
       " ----------\n",
       " Number of observations           : 95889\n",
       " Number of users                  : 671\n",
       " Number of items                  : 8928\n",
       " \n",
       " Training summary\n",
       " ----------------\n",
       " Training time                    : 6.7854\n",
       " \n",
       " Model Parameters\n",
       " ----------------\n",
       " Model class                      : RankingFactorizationRecommender\n",
       " num_factors                      : 12\n",
       " binary_target                    : 0\n",
       " side_data_factorization          : 1\n",
       " solver                           : auto\n",
       " nmf                              : 0\n",
       " max_iterations                   : 50\n",
       " \n",
       " Regularization Settings\n",
       " -----------------------\n",
       " regularization                   : 0.001\n",
       " regularization_type              : normal\n",
       " linear_regularization            : 0.001\n",
       " ranking_regularization           : 0.25\n",
       " unobserved_rating_value          : -1.79769313486e+308\n",
       " num_sampled_negative_examples    : 8\n",
       " ials_confidence_scaling_type     : auto\n",
       " ials_confidence_scaling_factor   : 1\n",
       " \n",
       " Optimization Settings\n",
       " ---------------------\n",
       " init_random_sigma                : 0.01\n",
       " sgd_convergence_interval         : 4\n",
       " sgd_convergence_threshold        : 0.0\n",
       " sgd_max_trial_iterations         : 5\n",
       " sgd_sampling_block_size          : 131072\n",
       " sgd_step_adjustment_interval     : 4\n",
       " sgd_step_size                    : 0.0\n",
       " sgd_trial_sample_minimum_size    : 10000\n",
       " sgd_trial_sample_proportion      : 0.125\n",
       " step_size_decrease_rate          : 0.75\n",
       " additional_iterations_if_unhealthy : 5\n",
       " adagrad_momentum_weighting       : 0.9\n",
       " num_tempering_iterations         : 4\n",
       " tempering_regularization_start_value : 0.0\n",
       " track_exact_loss                 : 0,\n",
       " Class                            : RankingFactorizationRecommender\n",
       " \n",
       " Schema\n",
       " ------\n",
       " User ID                          : userId\n",
       " Item ID                          : movieId\n",
       " Target                           : rating\n",
       " Additional observation features  : 0\n",
       " User side features               : []\n",
       " Item side features               : []\n",
       " \n",
       " Statistics\n",
       " ----------\n",
       " Number of observations           : 95889\n",
       " Number of users                  : 671\n",
       " Number of items                  : 8928\n",
       " \n",
       " Training summary\n",
       " ----------------\n",
       " Training time                    : 7.0672\n",
       " \n",
       " Model Parameters\n",
       " ----------------\n",
       " Model class                      : RankingFactorizationRecommender\n",
       " num_factors                      : 16\n",
       " binary_target                    : 0\n",
       " side_data_factorization          : 1\n",
       " solver                           : auto\n",
       " nmf                              : 0\n",
       " max_iterations                   : 50\n",
       " \n",
       " Regularization Settings\n",
       " -----------------------\n",
       " regularization                   : 0.001\n",
       " regularization_type              : normal\n",
       " linear_regularization            : 0.001\n",
       " ranking_regularization           : 0.5\n",
       " unobserved_rating_value          : -1.79769313486e+308\n",
       " num_sampled_negative_examples    : 8\n",
       " ials_confidence_scaling_type     : auto\n",
       " ials_confidence_scaling_factor   : 1\n",
       " \n",
       " Optimization Settings\n",
       " ---------------------\n",
       " init_random_sigma                : 0.01\n",
       " sgd_convergence_interval         : 4\n",
       " sgd_convergence_threshold        : 0.0\n",
       " sgd_max_trial_iterations         : 5\n",
       " sgd_sampling_block_size          : 131072\n",
       " sgd_step_adjustment_interval     : 4\n",
       " sgd_step_size                    : 0.0\n",
       " sgd_trial_sample_minimum_size    : 10000\n",
       " sgd_trial_sample_proportion      : 0.125\n",
       " step_size_decrease_rate          : 0.75\n",
       " additional_iterations_if_unhealthy : 5\n",
       " adagrad_momentum_weighting       : 0.9\n",
       " num_tempering_iterations         : 4\n",
       " tempering_regularization_start_value : 0.0\n",
       " track_exact_loss                 : 0,\n",
       " Class                            : RankingFactorizationRecommender\n",
       " \n",
       " Schema\n",
       " ------\n",
       " User ID                          : userId\n",
       " Item ID                          : movieId\n",
       " Target                           : rating\n",
       " Additional observation features  : 0\n",
       " User side features               : []\n",
       " Item side features               : []\n",
       " \n",
       " Statistics\n",
       " ----------\n",
       " Number of observations           : 95889\n",
       " Number of users                  : 671\n",
       " Number of items                  : 8928\n",
       " \n",
       " Training summary\n",
       " ----------------\n",
       " Training time                    : 3.8894\n",
       " \n",
       " Model Parameters\n",
       " ----------------\n",
       " Model class                      : RankingFactorizationRecommender\n",
       " num_factors                      : 12\n",
       " binary_target                    : 0\n",
       " side_data_factorization          : 1\n",
       " solver                           : auto\n",
       " nmf                              : 0\n",
       " max_iterations                   : 25\n",
       " \n",
       " Regularization Settings\n",
       " -----------------------\n",
       " regularization                   : 0.001\n",
       " regularization_type              : normal\n",
       " linear_regularization            : 0.001\n",
       " ranking_regularization           : 0.5\n",
       " unobserved_rating_value          : -1.79769313486e+308\n",
       " num_sampled_negative_examples    : 8\n",
       " ials_confidence_scaling_type     : auto\n",
       " ials_confidence_scaling_factor   : 1\n",
       " \n",
       " Optimization Settings\n",
       " ---------------------\n",
       " init_random_sigma                : 0.01\n",
       " sgd_convergence_interval         : 4\n",
       " sgd_convergence_threshold        : 0.0\n",
       " sgd_max_trial_iterations         : 5\n",
       " sgd_sampling_block_size          : 131072\n",
       " sgd_step_adjustment_interval     : 4\n",
       " sgd_step_size                    : 0.0\n",
       " sgd_trial_sample_minimum_size    : 10000\n",
       " sgd_trial_sample_proportion      : 0.125\n",
       " step_size_decrease_rate          : 0.75\n",
       " additional_iterations_if_unhealthy : 5\n",
       " adagrad_momentum_weighting       : 0.9\n",
       " num_tempering_iterations         : 4\n",
       " tempering_regularization_start_value : 0.0\n",
       " track_exact_loss                 : 0,\n",
       " Class                            : RankingFactorizationRecommender\n",
       " \n",
       " Schema\n",
       " ------\n",
       " User ID                          : userId\n",
       " Item ID                          : movieId\n",
       " Target                           : rating\n",
       " Additional observation features  : 0\n",
       " User side features               : []\n",
       " Item side features               : []\n",
       " \n",
       " Statistics\n",
       " ----------\n",
       " Number of observations           : 95889\n",
       " Number of users                  : 671\n",
       " Number of items                  : 8928\n",
       " \n",
       " Training summary\n",
       " ----------------\n",
       " Training time                    : 3.0395\n",
       " \n",
       " Model Parameters\n",
       " ----------------\n",
       " Model class                      : RankingFactorizationRecommender\n",
       " num_factors                      : 8\n",
       " binary_target                    : 0\n",
       " side_data_factorization          : 1\n",
       " solver                           : auto\n",
       " nmf                              : 0\n",
       " max_iterations                   : 25\n",
       " \n",
       " Regularization Settings\n",
       " -----------------------\n",
       " regularization                   : 0.001\n",
       " regularization_type              : normal\n",
       " linear_regularization            : 0.001\n",
       " ranking_regularization           : 0.25\n",
       " unobserved_rating_value          : -1.79769313486e+308\n",
       " num_sampled_negative_examples    : 4\n",
       " ials_confidence_scaling_type     : auto\n",
       " ials_confidence_scaling_factor   : 1\n",
       " \n",
       " Optimization Settings\n",
       " ---------------------\n",
       " init_random_sigma                : 0.01\n",
       " sgd_convergence_interval         : 4\n",
       " sgd_convergence_threshold        : 0.0\n",
       " sgd_max_trial_iterations         : 5\n",
       " sgd_sampling_block_size          : 131072\n",
       " sgd_step_adjustment_interval     : 4\n",
       " sgd_step_size                    : 0.0\n",
       " sgd_trial_sample_minimum_size    : 10000\n",
       " sgd_trial_sample_proportion      : 0.125\n",
       " step_size_decrease_rate          : 0.75\n",
       " additional_iterations_if_unhealthy : 5\n",
       " adagrad_momentum_weighting       : 0.9\n",
       " num_tempering_iterations         : 4\n",
       " tempering_regularization_start_value : 0.0\n",
       " track_exact_loss                 : 0,\n",
       " Class                            : RankingFactorizationRecommender\n",
       " \n",
       " Schema\n",
       " ------\n",
       " User ID                          : userId\n",
       " Item ID                          : movieId\n",
       " Target                           : rating\n",
       " Additional observation features  : 0\n",
       " User side features               : []\n",
       " Item side features               : []\n",
       " \n",
       " Statistics\n",
       " ----------\n",
       " Number of observations           : 95889\n",
       " Number of users                  : 671\n",
       " Number of items                  : 8928\n",
       " \n",
       " Training summary\n",
       " ----------------\n",
       " Training time                    : 6.5042\n",
       " \n",
       " Model Parameters\n",
       " ----------------\n",
       " Model class                      : RankingFactorizationRecommender\n",
       " num_factors                      : 32\n",
       " binary_target                    : 0\n",
       " side_data_factorization          : 1\n",
       " solver                           : auto\n",
       " nmf                              : 0\n",
       " max_iterations                   : 50\n",
       " \n",
       " Regularization Settings\n",
       " -----------------------\n",
       " regularization                   : 0.001\n",
       " regularization_type              : normal\n",
       " linear_regularization            : 0.001\n",
       " ranking_regularization           : 0.1\n",
       " unobserved_rating_value          : -1.79769313486e+308\n",
       " num_sampled_negative_examples    : 4\n",
       " ials_confidence_scaling_type     : auto\n",
       " ials_confidence_scaling_factor   : 1\n",
       " \n",
       " Optimization Settings\n",
       " ---------------------\n",
       " init_random_sigma                : 0.01\n",
       " sgd_convergence_interval         : 4\n",
       " sgd_convergence_threshold        : 0.0\n",
       " sgd_max_trial_iterations         : 5\n",
       " sgd_sampling_block_size          : 131072\n",
       " sgd_step_adjustment_interval     : 4\n",
       " sgd_step_size                    : 0.0\n",
       " sgd_trial_sample_minimum_size    : 10000\n",
       " sgd_trial_sample_proportion      : 0.125\n",
       " step_size_decrease_rate          : 0.75\n",
       " additional_iterations_if_unhealthy : 5\n",
       " adagrad_momentum_weighting       : 0.9\n",
       " num_tempering_iterations         : 4\n",
       " tempering_regularization_start_value : 0.0\n",
       " track_exact_loss                 : 0]"
      ]
     },
     "execution_count": 105,
     "metadata": {},
     "output_type": "execute_result"
    }
   ],
   "source": [
    "models = job.get_models()\n",
    "models"
   ]
  },
  {
   "cell_type": "code",
   "execution_count": 106,
   "metadata": {
    "collapsed": false,
    "scrolled": true
   },
   "outputs": [
    {
     "name": "stdout",
     "output_type": "stream",
     "text": [
      "PROGRESS: Evaluate model M0\n",
      "\n",
      "Precision and recall summary statistics by cutoff\n",
      "+--------+----------------+-----------------+\n",
      "| cutoff | mean_precision |   mean_recall   |\n",
      "+--------+----------------+-----------------+\n",
      "|   1    |      0.2       | 0.0119710178764 |\n",
      "|   2    |      0.19      | 0.0194341580494 |\n",
      "|   3    | 0.184444444444 | 0.0321864612165 |\n",
      "|   4    |     0.165      | 0.0378045295974 |\n",
      "|   5    |     0.148      | 0.0418273179021 |\n",
      "|   6    | 0.151111111111 | 0.0498603387353 |\n",
      "|   7    | 0.151428571429 | 0.0556285371433 |\n",
      "|   8    |     0.145      | 0.0602584157479 |\n",
      "|   9    | 0.142962962963 |  0.065741651979 |\n",
      "|   10   | 0.136666666667 |  0.069891776557 |\n",
      "+--------+----------------+-----------------+\n",
      "[10 rows x 3 columns]\n",
      "\n",
      "PROGRESS: Evaluate model M1\n",
      "\n",
      "Precision and recall summary statistics by cutoff\n",
      "+--------+----------------+-----------------+\n",
      "| cutoff | mean_precision |   mean_recall   |\n",
      "+--------+----------------+-----------------+\n",
      "|   1    | 0.186666666667 | 0.0112748671803 |\n",
      "|   2    | 0.196666666667 | 0.0213035566898 |\n",
      "|   3    | 0.186666666667 | 0.0320486616523 |\n",
      "|   4    | 0.171666666667 | 0.0413512236441 |\n",
      "|   5    | 0.154666666667 | 0.0445053764856 |\n",
      "|   6    |      0.15      | 0.0496893985644 |\n",
      "|   7    | 0.151428571429 | 0.0551420843803 |\n",
      "|   8    |     0.1475     | 0.0621332276535 |\n",
      "|   9    | 0.145185185185 | 0.0677885215615 |\n",
      "|   10   | 0.138666666667 | 0.0703320303072 |\n",
      "+--------+----------------+-----------------+\n",
      "[10 rows x 3 columns]\n",
      "\n",
      "PROGRESS: Evaluate model M2\n",
      "\n",
      "Precision and recall summary statistics by cutoff\n",
      "+--------+----------------+-----------------+\n",
      "| cutoff | mean_precision |   mean_recall   |\n",
      "+--------+----------------+-----------------+\n",
      "|   1    | 0.193333333333 | 0.0111376845431 |\n",
      "|   2    | 0.183333333333 | 0.0191942194551 |\n",
      "|   3    | 0.168888888889 | 0.0269978331735 |\n",
      "|   4    |     0.165      | 0.0381244200629 |\n",
      "|   5    |     0.152      | 0.0430282100564 |\n",
      "|   6    | 0.144444444444 | 0.0492169338468 |\n",
      "|   7    | 0.139047619048 | 0.0534812663962 |\n",
      "|   8    | 0.133333333333 | 0.0560117224365 |\n",
      "|   9    | 0.127407407407 | 0.0600771552276 |\n",
      "|   10   |      0.13      | 0.0701352918774 |\n",
      "+--------+----------------+-----------------+\n",
      "[10 rows x 3 columns]\n",
      "\n",
      "PROGRESS: Evaluate model M3\n",
      "\n",
      "Precision and recall summary statistics by cutoff\n",
      "+--------+----------------+-----------------+\n",
      "| cutoff | mean_precision |   mean_recall   |\n",
      "+--------+----------------+-----------------+\n",
      "|   1    |      0.2       | 0.0119710178764 |\n",
      "|   2    |      0.19      | 0.0194341580494 |\n",
      "|   3    | 0.184444444444 | 0.0321864612165 |\n",
      "|   4    | 0.166666666667 |  0.037891109684 |\n",
      "|   5    | 0.149333333333 | 0.0418863288665 |\n",
      "|   6    |      0.15      | 0.0496893985644 |\n",
      "|   7    | 0.152380952381 | 0.0554198621581 |\n",
      "|   8    |     0.1475     | 0.0621047001135 |\n",
      "|   9    | 0.145185185185 |  0.067816795782 |\n",
      "|   10   | 0.138666666667 | 0.0703320303072 |\n",
      "+--------+----------------+-----------------+\n",
      "[10 rows x 3 columns]\n",
      "\n",
      "PROGRESS: Evaluate model M4\n",
      "\n",
      "Precision and recall summary statistics by cutoff\n",
      "+--------+----------------+-----------------+\n",
      "| cutoff | mean_precision |   mean_recall   |\n",
      "+--------+----------------+-----------------+\n",
      "|   1    | 0.206666666667 | 0.0122376845431 |\n",
      "|   2    | 0.186666666667 | 0.0193694331303 |\n",
      "|   3    | 0.177777777778 | 0.0310827752585 |\n",
      "|   4    | 0.161666666667 | 0.0371182550876 |\n",
      "|   5    | 0.150666666667 | 0.0405225993817 |\n",
      "|   6    | 0.144444444444 | 0.0476982502532 |\n",
      "|   7    | 0.147619047619 | 0.0546362017476 |\n",
      "|   8    | 0.139166666667 | 0.0570047529104 |\n",
      "|   9    | 0.136296296296 |  0.064407820795 |\n",
      "|   10   | 0.131333333333 | 0.0680368799644 |\n",
      "+--------+----------------+-----------------+\n",
      "[10 rows x 3 columns]\n",
      "\n",
      "PROGRESS: Evaluate model M5\n",
      "\n",
      "Precision and recall summary statistics by cutoff\n",
      "+--------+----------------+-----------------+\n",
      "| cutoff | mean_precision |   mean_recall   |\n",
      "+--------+----------------+-----------------+\n",
      "|   1    |      0.2       | 0.0119710178764 |\n",
      "|   2    |      0.19      | 0.0194341580494 |\n",
      "|   3    | 0.184444444444 | 0.0321864612165 |\n",
      "|   4    | 0.166666666667 |  0.037891109684 |\n",
      "|   5    | 0.149333333333 | 0.0419212146157 |\n",
      "|   6    |      0.15      | 0.0496893985644 |\n",
      "|   7    | 0.154285714286 | 0.0560906476833 |\n",
      "|   8    | 0.149166666667 | 0.0628087999352 |\n",
      "|   9    | 0.145185185185 | 0.0676903699277 |\n",
      "|   10   | 0.137333333333 | 0.0702621469274 |\n",
      "+--------+----------------+-----------------+\n",
      "[10 rows x 3 columns]\n",
      "\n",
      "PROGRESS: Evaluate model M6\n",
      "\n",
      "Precision and recall summary statistics by cutoff\n",
      "+--------+----------------+-----------------+\n",
      "| cutoff | mean_precision |   mean_recall   |\n",
      "+--------+----------------+-----------------+\n",
      "|   1    | 0.186666666667 | 0.0112748671803 |\n",
      "|   2    | 0.196666666667 | 0.0229594983458 |\n",
      "|   3    |      0.18      | 0.0313440985734 |\n",
      "|   4    | 0.171666666667 | 0.0401875882868 |\n",
      "|   5    |     0.164      | 0.0453851900034 |\n",
      "|   6    | 0.156666666667 | 0.0500320282854 |\n",
      "|   7    | 0.154285714286 | 0.0557689241855 |\n",
      "|   8    | 0.153333333333 | 0.0635179580634 |\n",
      "|   9    | 0.144444444444 | 0.0660489690179 |\n",
      "|   10   | 0.142666666667 |  0.071998354143 |\n",
      "+--------+----------------+-----------------+\n",
      "[10 rows x 3 columns]\n",
      "\n",
      "PROGRESS: Evaluate model M7\n",
      "\n",
      "Precision and recall summary statistics by cutoff\n",
      "+--------+----------------+-----------------+\n",
      "| cutoff | mean_precision |   mean_recall   |\n",
      "+--------+----------------+-----------------+\n",
      "|   1    | 0.186666666667 | 0.0112748671803 |\n",
      "|   2    | 0.193333333333 | 0.0223534377397 |\n",
      "|   3    |      0.18      | 0.0313440985734 |\n",
      "|   4    |      0.17      | 0.0400074081067 |\n",
      "|   5    |     0.164      | 0.0447553714093 |\n",
      "|   6    | 0.157777777778 |  0.051334006287 |\n",
      "|   7    | 0.155238095238 | 0.0556665735914 |\n",
      "|   8    |     0.1525     | 0.0633327728783 |\n",
      "|   9    | 0.143703703704 | 0.0657315087005 |\n",
      "|   10   | 0.141333333333 | 0.0717927880456 |\n",
      "+--------+----------------+-----------------+\n",
      "[10 rows x 3 columns]\n",
      "\n",
      "PROGRESS: Evaluate model M8\n",
      "\n",
      "Precision and recall summary statistics by cutoff\n",
      "+--------+----------------+-----------------+\n",
      "| cutoff | mean_precision |   mean_recall   |\n",
      "+--------+----------------+-----------------+\n",
      "|   1    |      0.2       | 0.0114043512097 |\n",
      "|   2    | 0.183333333333 | 0.0191942194551 |\n",
      "|   3    | 0.168888888889 | 0.0262256324013 |\n",
      "|   4    | 0.161666666667 | 0.0371182550876 |\n",
      "|   5    | 0.150666666667 | 0.0405225993817 |\n",
      "|   6    | 0.143333333333 | 0.0476335253341 |\n",
      "|   7    | 0.147619047619 | 0.0546362017476 |\n",
      "|   8    | 0.139166666667 | 0.0570047529104 |\n",
      "|   9    | 0.136296296296 |  0.064407820795 |\n",
      "|   10   | 0.132666666667 | 0.0682547684921 |\n",
      "+--------+----------------+-----------------+\n",
      "[10 rows x 3 columns]\n",
      "\n",
      "PROGRESS: Evaluate model M9\n",
      "\n",
      "Precision and recall summary statistics by cutoff\n",
      "+--------+----------------+-----------------+\n",
      "| cutoff | mean_precision |   mean_recall   |\n",
      "+--------+----------------+-----------------+\n",
      "|   1    | 0.186666666667 |  0.010899589305 |\n",
      "|   2    | 0.176666666667 |  0.017620145381 |\n",
      "|   3    | 0.164444444444 | 0.0246499664906 |\n",
      "|   4    | 0.158333333333 | 0.0338844814686 |\n",
      "|   5    | 0.149333333333 | 0.0407873136979 |\n",
      "|   6    | 0.141111111111 | 0.0484733354366 |\n",
      "|   7    | 0.139047619048 |  0.053431792061 |\n",
      "|   8    |     0.135      | 0.0560723499246 |\n",
      "|   9    | 0.131111111111 | 0.0613098831857 |\n",
      "|   10   | 0.131333333333 | 0.0711087872489 |\n",
      "+--------+----------------+-----------------+\n",
      "[10 rows x 3 columns]\n",
      "\n",
      "Model compare metric: precision_recall\n"
     ]
    },
    {
     "data": {
      "application/javascript": [
       "$(\"head\").append($(\"<link/>\").attr({\n",
       "  rel:  \"stylesheet\",\n",
       "  type: \"text/css\",\n",
       "  href: \"//cdnjs.cloudflare.com/ajax/libs/font-awesome/4.1.0/css/font-awesome.min.css\"\n",
       "}));\n",
       "$(\"head\").append($(\"<link/>\").attr({\n",
       "  rel:  \"stylesheet\",\n",
       "  type: \"text/css\",\n",
       "  href: \"https://static.turi.com/products/graphlab-create/2.1/canvas/css/canvas.css\"\n",
       "}));\n",
       "\n",
       "            (function(){\n",
       "\n",
       "                var e = null;\n",
       "                if (typeof element == 'undefined') {\n",
       "                    var scripts = document.getElementsByTagName('script');\n",
       "                    var thisScriptTag = scripts[scripts.length-1];\n",
       "                    var parentDiv = thisScriptTag.parentNode;\n",
       "                    e = document.createElement('div');\n",
       "                    parentDiv.appendChild(e);\n",
       "                } else {\n",
       "                    e = element[0];\n",
       "                }\n",
       "\n",
       "                if (typeof requirejs !== 'undefined') {\n",
       "                    // disable load timeout; ipython_app.js is large and can take a while to load.\n",
       "                    requirejs.config({waitSeconds: 0});\n",
       "                }\n",
       "\n",
       "                require(['https://static.turi.com/products/graphlab-create/2.1/canvas/js/ipython_app.js'], function(IPythonApp){\n",
       "                    var app = new IPythonApp();\n",
       "                    app.attachView('model','Comparison', {\"comparison\": {\"dataset_label\": \"test\", \"evaluations\": {\"Model_1\": {\"precision_recall\": [{\"cutoff\": 1, \"precision\": 0.1866666666666667, \"recall\": 0.011274867180261654}, {\"cutoff\": 2, \"precision\": 0.1966666666666667, \"recall\": 0.02130355668983825}, {\"cutoff\": 3, \"precision\": 0.18666666666666673, \"recall\": 0.03204866165225101}, {\"cutoff\": 4, \"precision\": 0.17166666666666675, \"recall\": 0.0413512236441176}, {\"cutoff\": 5, \"precision\": 0.15466666666666676, \"recall\": 0.044505376485578216}, {\"cutoff\": 6, \"precision\": 0.15000000000000013, \"recall\": 0.04968939856440724}, {\"cutoff\": 7, \"precision\": 0.15142857142857136, \"recall\": 0.055142084380335424}, {\"cutoff\": 8, \"precision\": 0.1474999999999999, \"recall\": 0.0621332276535134}, {\"cutoff\": 9, \"precision\": 0.14518518518518522, \"recall\": 0.0677885215615427}, {\"cutoff\": 10, \"precision\": 0.1386666666666666, \"recall\": 0.07033203030716006}, {\"cutoff\": 11, \"precision\": 0.13696969696969702, \"recall\": 0.07619784947495295}, {\"cutoff\": 16, \"precision\": 0.12125, \"recall\": 0.09346347573738611}, {\"cutoff\": 21, \"precision\": 0.11111111111111113, \"recall\": 0.1096213621930417}, {\"cutoff\": 26, \"precision\": 0.10512820512820512, \"recall\": 0.12655362832860204}, {\"cutoff\": 31, \"precision\": 0.10064516129032255, \"recall\": 0.14410489918863617}, {\"cutoff\": 36, \"precision\": 0.09277777777777779, \"recall\": 0.15444846566733708}, {\"cutoff\": 41, \"precision\": 0.08796747967479678, \"recall\": 0.16649771494877227}, {\"cutoff\": 46, \"precision\": 0.08478260869565213, \"recall\": 0.17674526396700754}]}, \"Model_0\": {\"precision_recall\": [{\"cutoff\": 1, \"precision\": 0.20000000000000007, \"recall\": 0.011971017876412358}, {\"cutoff\": 2, \"precision\": 0.1899999999999999, \"recall\": 0.019434158049404036}, {\"cutoff\": 3, \"precision\": 0.1844444444444445, \"recall\": 0.03218646121652114}, {\"cutoff\": 4, \"precision\": 0.16500000000000012, \"recall\": 0.03780452959742358}, {\"cutoff\": 5, \"precision\": 0.14800000000000002, \"recall\": 0.04182731790208701}, {\"cutoff\": 6, \"precision\": 0.15111111111111117, \"recall\": 0.04986033873534742}, {\"cutoff\": 7, \"precision\": 0.15142857142857138, \"recall\": 0.05562853714325875}, {\"cutoff\": 8, \"precision\": 0.14500000000000002, \"recall\": 0.0602584157478502}, {\"cutoff\": 9, \"precision\": 0.14296296296296299, \"recall\": 0.06574165197900753}, {\"cutoff\": 10, \"precision\": 0.13666666666666674, \"recall\": 0.06989177655704712}, {\"cutoff\": 11, \"precision\": 0.13454545454545444, \"recall\": 0.07635954272403102}, {\"cutoff\": 16, \"precision\": 0.11708333333333334, \"recall\": 0.09299711177758892}, {\"cutoff\": 21, \"precision\": 0.11079365079365082, \"recall\": 0.11130044489672687}, {\"cutoff\": 26, \"precision\": 0.10410256410256412, \"recall\": 0.12468759717769128}, {\"cutoff\": 31, \"precision\": 0.09655913978494625, \"recall\": 0.14176682263925391}, {\"cutoff\": 36, \"precision\": 0.09074074074074073, \"recall\": 0.1527242652608728}, {\"cutoff\": 41, \"precision\": 0.08601626016260162, \"recall\": 0.1609632817589641}, {\"cutoff\": 46, \"precision\": 0.08173913043478262, \"recall\": 0.16938629960977136}]}, \"Model_3\": {\"precision_recall\": [{\"cutoff\": 1, \"precision\": 0.20000000000000004, \"recall\": 0.011971017876412356}, {\"cutoff\": 2, \"precision\": 0.18999999999999992, \"recall\": 0.019434158049404036}, {\"cutoff\": 3, \"precision\": 0.18444444444444447, \"recall\": 0.03218646121652114}, {\"cutoff\": 4, \"precision\": 0.16666666666666669, \"recall\": 0.03789110968400366}, {\"cutoff\": 5, \"precision\": 0.14933333333333343, \"recall\": 0.041886328866530584}, {\"cutoff\": 6, \"precision\": 0.15, \"recall\": 0.04968939856440724}, {\"cutoff\": 7, \"precision\": 0.1523809523809523, \"recall\": 0.055419862158113196}, {\"cutoff\": 8, \"precision\": 0.1474999999999999, \"recall\": 0.06210470011346515}, {\"cutoff\": 9, \"precision\": 0.1451851851851852, \"recall\": 0.06781679578202902}, {\"cutoff\": 10, \"precision\": 0.13866666666666663, \"recall\": 0.07033203030716004}, {\"cutoff\": 11, \"precision\": 0.13696969696969696, \"recall\": 0.07613191540901892}, {\"cutoff\": 16, \"precision\": 0.12000000000000004, \"recall\": 0.09285980540038238}, {\"cutoff\": 21, \"precision\": 0.11142857142857142, \"recall\": 0.10985263128960505}, {\"cutoff\": 26, \"precision\": 0.10435897435897439, \"recall\": 0.12595190794696276}, {\"cutoff\": 31, \"precision\": 0.10043010752688168, \"recall\": 0.14242746376955578}, {\"cutoff\": 36, \"precision\": 0.09499999999999999, \"recall\": 0.15847964638529946}, {\"cutoff\": 41, \"precision\": 0.08845528455284553, \"recall\": 0.16766300924851066}, {\"cutoff\": 46, \"precision\": 0.0850724637681159, \"recall\": 0.17764299194708838}]}, \"Model_2\": {\"precision_recall\": [{\"cutoff\": 1, \"precision\": 0.19333333333333336, \"recall\": 0.011137684543079026}, {\"cutoff\": 2, \"precision\": 0.18333333333333338, \"recall\": 0.019194219455096494}, {\"cutoff\": 3, \"precision\": 0.16888888888888884, \"recall\": 0.026997833173524177}, {\"cutoff\": 4, \"precision\": 0.16500000000000004, \"recall\": 0.03812442006294511}, {\"cutoff\": 5, \"precision\": 0.152, \"recall\": 0.04302821005639815}, {\"cutoff\": 6, \"precision\": 0.14444444444444443, \"recall\": 0.049216933846819695}, {\"cutoff\": 7, \"precision\": 0.13904761904761906, \"recall\": 0.05348126639619224}, {\"cutoff\": 8, \"precision\": 0.1333333333333333, \"recall\": 0.05601172243649196}, {\"cutoff\": 9, \"precision\": 0.12740740740740739, \"recall\": 0.060077155227562754}, {\"cutoff\": 10, \"precision\": 0.13000000000000003, \"recall\": 0.07013529187742759}, {\"cutoff\": 11, \"precision\": 0.12848484848484848, \"recall\": 0.0746634041204991}, {\"cutoff\": 16, \"precision\": 0.11416666666666672, \"recall\": 0.09090393238636671}, {\"cutoff\": 21, \"precision\": 0.10253968253968251, \"recall\": 0.10538169114929971}, {\"cutoff\": 26, \"precision\": 0.09512820512820513, \"recall\": 0.12313295955783199}, {\"cutoff\": 31, \"precision\": 0.08967741935483872, \"recall\": 0.13412910524472688}, {\"cutoff\": 36, \"precision\": 0.08518518518518516, \"recall\": 0.1445492705278421}, {\"cutoff\": 41, \"precision\": 0.07967479674796749, \"recall\": 0.1509773961944438}, {\"cutoff\": 46, \"precision\": 0.07710144927536232, \"recall\": 0.16156441610971342}]}, \"Model_5\": {\"precision_recall\": [{\"cutoff\": 1, \"precision\": 0.20000000000000007, \"recall\": 0.011971017876412358}, {\"cutoff\": 2, \"precision\": 0.1899999999999999, \"recall\": 0.019434158049404036}, {\"cutoff\": 3, \"precision\": 0.1844444444444445, \"recall\": 0.03218646121652114}, {\"cutoff\": 4, \"precision\": 0.16666666666666669, \"recall\": 0.037891109684003645}, {\"cutoff\": 5, \"precision\": 0.14933333333333337, \"recall\": 0.04192121461570206}, {\"cutoff\": 6, \"precision\": 0.15000000000000005, \"recall\": 0.04968939856440724}, {\"cutoff\": 7, \"precision\": 0.15428571428571428, \"recall\": 0.05609064768326766}, {\"cutoff\": 8, \"precision\": 0.14916666666666664, \"recall\": 0.06280879993521203}, {\"cutoff\": 9, \"precision\": 0.14518518518518517, \"recall\": 0.06769036992772552}, {\"cutoff\": 10, \"precision\": 0.13733333333333328, \"recall\": 0.0702621469274175}, {\"cutoff\": 11, \"precision\": 0.136969696969697, \"recall\": 0.07693452784740326}, {\"cutoff\": 16, \"precision\": 0.11708333333333332, \"recall\": 0.09221073941872278}, {\"cutoff\": 21, \"precision\": 0.10888888888888883, \"recall\": 0.10814860094863885}, {\"cutoff\": 26, \"precision\": 0.10205128205128204, \"recall\": 0.1226135563096525}, {\"cutoff\": 31, \"precision\": 0.09698924731182793, \"recall\": 0.14290226626411984}, {\"cutoff\": 36, \"precision\": 0.09092592592592594, \"recall\": 0.15266787918370273}, {\"cutoff\": 41, \"precision\": 0.08601626016260158, \"recall\": 0.16117095457584266}, {\"cutoff\": 46, \"precision\": 0.08246376811594203, \"recall\": 0.17177755188163504}]}, \"Model_4\": {\"precision_recall\": [{\"cutoff\": 1, \"precision\": 0.20666666666666672, \"recall\": 0.01223768454307902}, {\"cutoff\": 2, \"precision\": 0.18666666666666676, \"recall\": 0.019369433130310178}, {\"cutoff\": 3, \"precision\": 0.17777777777777776, \"recall\": 0.03108277525846625}, {\"cutoff\": 4, \"precision\": 0.16166666666666665, \"recall\": 0.03711825508761966}, {\"cutoff\": 5, \"precision\": 0.15066666666666667, \"recall\": 0.04052259938168224}, {\"cutoff\": 6, \"precision\": 0.14444444444444443, \"recall\": 0.047698250253230906}, {\"cutoff\": 7, \"precision\": 0.14761904761904754, \"recall\": 0.054636201747562015}, {\"cutoff\": 8, \"precision\": 0.13916666666666663, \"recall\": 0.057004752910378625}, {\"cutoff\": 9, \"precision\": 0.13629629629629633, \"recall\": 0.06440782079497825}, {\"cutoff\": 10, \"precision\": 0.13133333333333327, \"recall\": 0.06803687996437642}, {\"cutoff\": 11, \"precision\": 0.129090909090909, \"recall\": 0.07464669917242153}, {\"cutoff\": 16, \"precision\": 0.11333333333333334, \"recall\": 0.08902686303894541}, {\"cutoff\": 21, \"precision\": 0.10476190476190475, \"recall\": 0.10735036629371306}, {\"cutoff\": 26, \"precision\": 0.10051282051282057, \"recall\": 0.12349205996631311}, {\"cutoff\": 31, \"precision\": 0.09333333333333331, \"recall\": 0.138004206454149}, {\"cutoff\": 36, \"precision\": 0.08703703703703701, \"recall\": 0.14662634232551053}, {\"cutoff\": 41, \"precision\": 0.0840650406504065, \"recall\": 0.1591827796118335}, {\"cutoff\": 46, \"precision\": 0.0791304347826087, \"recall\": 0.16559662835604785}]}, \"Model_7\": {\"precision_recall\": [{\"cutoff\": 1, \"precision\": 0.18666666666666662, \"recall\": 0.011274867180261664}, {\"cutoff\": 2, \"precision\": 0.19333333333333338, \"recall\": 0.022353437739719307}, {\"cutoff\": 3, \"precision\": 0.18000000000000002, \"recall\": 0.03134409857343385}, {\"cutoff\": 4, \"precision\": 0.17, \"recall\": 0.04000740810665985}, {\"cutoff\": 5, \"precision\": 0.16399999999999998, \"recall\": 0.04475537140933755}, {\"cutoff\": 6, \"precision\": 0.15777777777777788, \"recall\": 0.051334006286972565}, {\"cutoff\": 7, \"precision\": 0.1552380952380952, \"recall\": 0.05566657359135492}, {\"cutoff\": 8, \"precision\": 0.1525, \"recall\": 0.0633327728782505}, {\"cutoff\": 9, \"precision\": 0.14370370370370367, \"recall\": 0.06573150870047482}, {\"cutoff\": 10, \"precision\": 0.14133333333333326, \"recall\": 0.07179278804561111}, {\"cutoff\": 11, \"precision\": 0.14000000000000004, \"recall\": 0.07925267208440556}, {\"cutoff\": 16, \"precision\": 0.12458333333333334, \"recall\": 0.0977292687807584}, {\"cutoff\": 21, \"precision\": 0.11333333333333331, \"recall\": 0.1101186640877509}, {\"cutoff\": 26, \"precision\": 0.10897435897435893, \"recall\": 0.1284189665943362}, {\"cutoff\": 31, \"precision\": 0.10150537634408602, \"recall\": 0.14355832761978504}, {\"cutoff\": 36, \"precision\": 0.09722222222222222, \"recall\": 0.1580307982854422}, {\"cutoff\": 41, \"precision\": 0.09252032520325204, \"recall\": 0.17655884551831583}, {\"cutoff\": 46, \"precision\": 0.08782608695652176, \"recall\": 0.18489271538919738}]}, \"Model_6\": {\"precision_recall\": [{\"cutoff\": 1, \"precision\": 0.1866666666666667, \"recall\": 0.01127486718026166}, {\"cutoff\": 2, \"precision\": 0.19666666666666674, \"recall\": 0.022959498345779913}, {\"cutoff\": 3, \"precision\": 0.18, \"recall\": 0.031344098573433864}, {\"cutoff\": 4, \"precision\": 0.17166666666666666, \"recall\": 0.04018758828684004}, {\"cutoff\": 5, \"precision\": 0.16400000000000003, \"recall\": 0.045385190003441885}, {\"cutoff\": 6, \"precision\": 0.15666666666666662, \"recall\": 0.05003202828537005}, {\"cutoff\": 7, \"precision\": 0.15428571428571425, \"recall\": 0.05576892418550873}, {\"cutoff\": 8, \"precision\": 0.15333333333333335, \"recall\": 0.06351795806343569}, {\"cutoff\": 9, \"precision\": 0.1444444444444444, \"recall\": 0.06604896901793511}, {\"cutoff\": 10, \"precision\": 0.14266666666666664, \"recall\": 0.0719983541430179}, {\"cutoff\": 11, \"precision\": 0.13999999999999996, \"recall\": 0.0792526720844055}, {\"cutoff\": 16, \"precision\": 0.12375, \"recall\": 0.09700277305426266}, {\"cutoff\": 21, \"precision\": 0.11238095238095236, \"recall\": 0.10982606190599956}, {\"cutoff\": 26, \"precision\": 0.10794871794871799, \"recall\": 0.12722833650137907}, {\"cutoff\": 31, \"precision\": 0.10215053763440858, \"recall\": 0.14484655607113403}, {\"cutoff\": 36, \"precision\": 0.0972222222222222, \"recall\": 0.15816905798172895}, {\"cutoff\": 41, \"precision\": 0.09317073170731707, \"recall\": 0.17784921435474452}, {\"cutoff\": 46, \"precision\": 0.0872463768115942, \"recall\": 0.18447885341686468}]}, \"Model_9\": {\"precision_recall\": [{\"cutoff\": 1, \"precision\": 0.18666666666666673, \"recall\": 0.01089958930498379}, {\"cutoff\": 2, \"precision\": 0.17666666666666675, \"recall\": 0.017620145381022422}, {\"cutoff\": 3, \"precision\": 0.16444444444444456, \"recall\": 0.02464996649061912}, {\"cutoff\": 4, \"precision\": 0.15833333333333324, \"recall\": 0.03388448146863758}, {\"cutoff\": 5, \"precision\": 0.14933333333333326, \"recall\": 0.04078731369785473}, {\"cutoff\": 6, \"precision\": 0.14111111111111113, \"recall\": 0.048473335436581805}, {\"cutoff\": 7, \"precision\": 0.13904761904761906, \"recall\": 0.05343179206100363}, {\"cutoff\": 8, \"precision\": 0.13499999999999993, \"recall\": 0.056072349924625675}, {\"cutoff\": 9, \"precision\": 0.1311111111111111, \"recall\": 0.061309883185725673}, {\"cutoff\": 10, \"precision\": 0.1313333333333333, \"recall\": 0.07110878724885171}, {\"cutoff\": 11, \"precision\": 0.12545454545454554, \"recall\": 0.07371188069219402}, {\"cutoff\": 16, \"precision\": 0.11083333333333331, \"recall\": 0.09115002832670249}, {\"cutoff\": 21, \"precision\": 0.10031746031746033, \"recall\": 0.10246203188547447}, {\"cutoff\": 26, \"precision\": 0.0920512820512821, \"recall\": 0.11843331597901173}, {\"cutoff\": 31, \"precision\": 0.08688172043010754, \"recall\": 0.13091887030004346}, {\"cutoff\": 36, \"precision\": 0.08370370370370367, \"recall\": 0.14179768327501513}, {\"cutoff\": 41, \"precision\": 0.07869918699186991, \"recall\": 0.15072140195624156}, {\"cutoff\": 46, \"precision\": 0.07362318840579707, \"recall\": 0.15475559719146967}]}, \"Model_8\": {\"precision_recall\": [{\"cutoff\": 1, \"precision\": 0.19999999999999998, \"recall\": 0.011404351209745686}, {\"cutoff\": 2, \"precision\": 0.18333333333333332, \"recall\": 0.019194219455096504}, {\"cutoff\": 3, \"precision\": 0.16888888888888892, \"recall\": 0.02622563240132339}, {\"cutoff\": 4, \"precision\": 0.16166666666666668, \"recall\": 0.03711825508761964}, {\"cutoff\": 5, \"precision\": 0.1506666666666666, \"recall\": 0.04052259938168222}, {\"cutoff\": 6, \"precision\": 0.14333333333333334, \"recall\": 0.047633525334137075}, {\"cutoff\": 7, \"precision\": 0.14761904761904762, \"recall\": 0.054636201747562015}, {\"cutoff\": 8, \"precision\": 0.1391666666666667, \"recall\": 0.05700475291037867}, {\"cutoff\": 9, \"precision\": 0.1362962962962963, \"recall\": 0.0644078207949782}, {\"cutoff\": 10, \"precision\": 0.13266666666666663, \"recall\": 0.06825476849212408}, {\"cutoff\": 11, \"precision\": 0.12909090909090912, \"recall\": 0.07462181662199356}, {\"cutoff\": 16, \"precision\": 0.11541666666666665, \"recall\": 0.09078590575896237}, {\"cutoff\": 21, \"precision\": 0.10507936507936509, \"recall\": 0.10596307788572476}, {\"cutoff\": 26, \"precision\": 0.10025641025641024, \"recall\": 0.12389206267617496}, {\"cutoff\": 31, \"precision\": 0.09397849462365591, \"recall\": 0.1381897199495217}, {\"cutoff\": 36, \"precision\": 0.08648148148148144, \"recall\": 0.14685240252198808}, {\"cutoff\": 41, \"precision\": 0.08276422764227641, \"recall\": 0.15759585616433244}, {\"cutoff\": 46, \"precision\": 0.07884057971014495, \"recall\": 0.16468482911091528}]}}}, \"selected_variable\": {\"comparison\": {\"dataset_label\": \"test\", \"evaluations\": {\"Model_1\": {\"precision_recall\": [{\"cutoff\": 1, \"precision\": 0.1866666666666667, \"recall\": 0.011274867180261654}, {\"cutoff\": 2, \"precision\": 0.1966666666666667, \"recall\": 0.02130355668983825}, {\"cutoff\": 3, \"precision\": 0.18666666666666673, \"recall\": 0.03204866165225101}, {\"cutoff\": 4, \"precision\": 0.17166666666666675, \"recall\": 0.0413512236441176}, {\"cutoff\": 5, \"precision\": 0.15466666666666676, \"recall\": 0.044505376485578216}, {\"cutoff\": 6, \"precision\": 0.15000000000000013, \"recall\": 0.04968939856440724}, {\"cutoff\": 7, \"precision\": 0.15142857142857136, \"recall\": 0.055142084380335424}, {\"cutoff\": 8, \"precision\": 0.1474999999999999, \"recall\": 0.0621332276535134}, {\"cutoff\": 9, \"precision\": 0.14518518518518522, \"recall\": 0.0677885215615427}, {\"cutoff\": 10, \"precision\": 0.1386666666666666, \"recall\": 0.07033203030716006}, {\"cutoff\": 11, \"precision\": 0.13696969696969702, \"recall\": 0.07619784947495295}, {\"cutoff\": 16, \"precision\": 0.12125, \"recall\": 0.09346347573738611}, {\"cutoff\": 21, \"precision\": 0.11111111111111113, \"recall\": 0.1096213621930417}, {\"cutoff\": 26, \"precision\": 0.10512820512820512, \"recall\": 0.12655362832860204}, {\"cutoff\": 31, \"precision\": 0.10064516129032255, \"recall\": 0.14410489918863617}, {\"cutoff\": 36, \"precision\": 0.09277777777777779, \"recall\": 0.15444846566733708}, {\"cutoff\": 41, \"precision\": 0.08796747967479678, \"recall\": 0.16649771494877227}, {\"cutoff\": 46, \"precision\": 0.08478260869565213, \"recall\": 0.17674526396700754}]}, \"Model_0\": {\"precision_recall\": [{\"cutoff\": 1, \"precision\": 0.20000000000000007, \"recall\": 0.011971017876412358}, {\"cutoff\": 2, \"precision\": 0.1899999999999999, \"recall\": 0.019434158049404036}, {\"cutoff\": 3, \"precision\": 0.1844444444444445, \"recall\": 0.03218646121652114}, {\"cutoff\": 4, \"precision\": 0.16500000000000012, \"recall\": 0.03780452959742358}, {\"cutoff\": 5, \"precision\": 0.14800000000000002, \"recall\": 0.04182731790208701}, {\"cutoff\": 6, \"precision\": 0.15111111111111117, \"recall\": 0.04986033873534742}, {\"cutoff\": 7, \"precision\": 0.15142857142857138, \"recall\": 0.05562853714325875}, {\"cutoff\": 8, \"precision\": 0.14500000000000002, \"recall\": 0.0602584157478502}, {\"cutoff\": 9, \"precision\": 0.14296296296296299, \"recall\": 0.06574165197900753}, {\"cutoff\": 10, \"precision\": 0.13666666666666674, \"recall\": 0.06989177655704712}, {\"cutoff\": 11, \"precision\": 0.13454545454545444, \"recall\": 0.07635954272403102}, {\"cutoff\": 16, \"precision\": 0.11708333333333334, \"recall\": 0.09299711177758892}, {\"cutoff\": 21, \"precision\": 0.11079365079365082, \"recall\": 0.11130044489672687}, {\"cutoff\": 26, \"precision\": 0.10410256410256412, \"recall\": 0.12468759717769128}, {\"cutoff\": 31, \"precision\": 0.09655913978494625, \"recall\": 0.14176682263925391}, {\"cutoff\": 36, \"precision\": 0.09074074074074073, \"recall\": 0.1527242652608728}, {\"cutoff\": 41, \"precision\": 0.08601626016260162, \"recall\": 0.1609632817589641}, {\"cutoff\": 46, \"precision\": 0.08173913043478262, \"recall\": 0.16938629960977136}]}, \"Model_3\": {\"precision_recall\": [{\"cutoff\": 1, \"precision\": 0.20000000000000004, \"recall\": 0.011971017876412356}, {\"cutoff\": 2, \"precision\": 0.18999999999999992, \"recall\": 0.019434158049404036}, {\"cutoff\": 3, \"precision\": 0.18444444444444447, \"recall\": 0.03218646121652114}, {\"cutoff\": 4, \"precision\": 0.16666666666666669, \"recall\": 0.03789110968400366}, {\"cutoff\": 5, \"precision\": 0.14933333333333343, \"recall\": 0.041886328866530584}, {\"cutoff\": 6, \"precision\": 0.15, \"recall\": 0.04968939856440724}, {\"cutoff\": 7, \"precision\": 0.1523809523809523, \"recall\": 0.055419862158113196}, {\"cutoff\": 8, \"precision\": 0.1474999999999999, \"recall\": 0.06210470011346515}, {\"cutoff\": 9, \"precision\": 0.1451851851851852, \"recall\": 0.06781679578202902}, {\"cutoff\": 10, \"precision\": 0.13866666666666663, \"recall\": 0.07033203030716004}, {\"cutoff\": 11, \"precision\": 0.13696969696969696, \"recall\": 0.07613191540901892}, {\"cutoff\": 16, \"precision\": 0.12000000000000004, \"recall\": 0.09285980540038238}, {\"cutoff\": 21, \"precision\": 0.11142857142857142, \"recall\": 0.10985263128960505}, {\"cutoff\": 26, \"precision\": 0.10435897435897439, \"recall\": 0.12595190794696276}, {\"cutoff\": 31, \"precision\": 0.10043010752688168, \"recall\": 0.14242746376955578}, {\"cutoff\": 36, \"precision\": 0.09499999999999999, \"recall\": 0.15847964638529946}, {\"cutoff\": 41, \"precision\": 0.08845528455284553, \"recall\": 0.16766300924851066}, {\"cutoff\": 46, \"precision\": 0.0850724637681159, \"recall\": 0.17764299194708838}]}, \"Model_2\": {\"precision_recall\": [{\"cutoff\": 1, \"precision\": 0.19333333333333336, \"recall\": 0.011137684543079026}, {\"cutoff\": 2, \"precision\": 0.18333333333333338, \"recall\": 0.019194219455096494}, {\"cutoff\": 3, \"precision\": 0.16888888888888884, \"recall\": 0.026997833173524177}, {\"cutoff\": 4, \"precision\": 0.16500000000000004, \"recall\": 0.03812442006294511}, {\"cutoff\": 5, \"precision\": 0.152, \"recall\": 0.04302821005639815}, {\"cutoff\": 6, \"precision\": 0.14444444444444443, \"recall\": 0.049216933846819695}, {\"cutoff\": 7, \"precision\": 0.13904761904761906, \"recall\": 0.05348126639619224}, {\"cutoff\": 8, \"precision\": 0.1333333333333333, \"recall\": 0.05601172243649196}, {\"cutoff\": 9, \"precision\": 0.12740740740740739, \"recall\": 0.060077155227562754}, {\"cutoff\": 10, \"precision\": 0.13000000000000003, \"recall\": 0.07013529187742759}, {\"cutoff\": 11, \"precision\": 0.12848484848484848, \"recall\": 0.0746634041204991}, {\"cutoff\": 16, \"precision\": 0.11416666666666672, \"recall\": 0.09090393238636671}, {\"cutoff\": 21, \"precision\": 0.10253968253968251, \"recall\": 0.10538169114929971}, {\"cutoff\": 26, \"precision\": 0.09512820512820513, \"recall\": 0.12313295955783199}, {\"cutoff\": 31, \"precision\": 0.08967741935483872, \"recall\": 0.13412910524472688}, {\"cutoff\": 36, \"precision\": 0.08518518518518516, \"recall\": 0.1445492705278421}, {\"cutoff\": 41, \"precision\": 0.07967479674796749, \"recall\": 0.1509773961944438}, {\"cutoff\": 46, \"precision\": 0.07710144927536232, \"recall\": 0.16156441610971342}]}, \"Model_5\": {\"precision_recall\": [{\"cutoff\": 1, \"precision\": 0.20000000000000007, \"recall\": 0.011971017876412358}, {\"cutoff\": 2, \"precision\": 0.1899999999999999, \"recall\": 0.019434158049404036}, {\"cutoff\": 3, \"precision\": 0.1844444444444445, \"recall\": 0.03218646121652114}, {\"cutoff\": 4, \"precision\": 0.16666666666666669, \"recall\": 0.037891109684003645}, {\"cutoff\": 5, \"precision\": 0.14933333333333337, \"recall\": 0.04192121461570206}, {\"cutoff\": 6, \"precision\": 0.15000000000000005, \"recall\": 0.04968939856440724}, {\"cutoff\": 7, \"precision\": 0.15428571428571428, \"recall\": 0.05609064768326766}, {\"cutoff\": 8, \"precision\": 0.14916666666666664, \"recall\": 0.06280879993521203}, {\"cutoff\": 9, \"precision\": 0.14518518518518517, \"recall\": 0.06769036992772552}, {\"cutoff\": 10, \"precision\": 0.13733333333333328, \"recall\": 0.0702621469274175}, {\"cutoff\": 11, \"precision\": 0.136969696969697, \"recall\": 0.07693452784740326}, {\"cutoff\": 16, \"precision\": 0.11708333333333332, \"recall\": 0.09221073941872278}, {\"cutoff\": 21, \"precision\": 0.10888888888888883, \"recall\": 0.10814860094863885}, {\"cutoff\": 26, \"precision\": 0.10205128205128204, \"recall\": 0.1226135563096525}, {\"cutoff\": 31, \"precision\": 0.09698924731182793, \"recall\": 0.14290226626411984}, {\"cutoff\": 36, \"precision\": 0.09092592592592594, \"recall\": 0.15266787918370273}, {\"cutoff\": 41, \"precision\": 0.08601626016260158, \"recall\": 0.16117095457584266}, {\"cutoff\": 46, \"precision\": 0.08246376811594203, \"recall\": 0.17177755188163504}]}, \"Model_4\": {\"precision_recall\": [{\"cutoff\": 1, \"precision\": 0.20666666666666672, \"recall\": 0.01223768454307902}, {\"cutoff\": 2, \"precision\": 0.18666666666666676, \"recall\": 0.019369433130310178}, {\"cutoff\": 3, \"precision\": 0.17777777777777776, \"recall\": 0.03108277525846625}, {\"cutoff\": 4, \"precision\": 0.16166666666666665, \"recall\": 0.03711825508761966}, {\"cutoff\": 5, \"precision\": 0.15066666666666667, \"recall\": 0.04052259938168224}, {\"cutoff\": 6, \"precision\": 0.14444444444444443, \"recall\": 0.047698250253230906}, {\"cutoff\": 7, \"precision\": 0.14761904761904754, \"recall\": 0.054636201747562015}, {\"cutoff\": 8, \"precision\": 0.13916666666666663, \"recall\": 0.057004752910378625}, {\"cutoff\": 9, \"precision\": 0.13629629629629633, \"recall\": 0.06440782079497825}, {\"cutoff\": 10, \"precision\": 0.13133333333333327, \"recall\": 0.06803687996437642}, {\"cutoff\": 11, \"precision\": 0.129090909090909, \"recall\": 0.07464669917242153}, {\"cutoff\": 16, \"precision\": 0.11333333333333334, \"recall\": 0.08902686303894541}, {\"cutoff\": 21, \"precision\": 0.10476190476190475, \"recall\": 0.10735036629371306}, {\"cutoff\": 26, \"precision\": 0.10051282051282057, \"recall\": 0.12349205996631311}, {\"cutoff\": 31, \"precision\": 0.09333333333333331, \"recall\": 0.138004206454149}, {\"cutoff\": 36, \"precision\": 0.08703703703703701, \"recall\": 0.14662634232551053}, {\"cutoff\": 41, \"precision\": 0.0840650406504065, \"recall\": 0.1591827796118335}, {\"cutoff\": 46, \"precision\": 0.0791304347826087, \"recall\": 0.16559662835604785}]}, \"Model_7\": {\"precision_recall\": [{\"cutoff\": 1, \"precision\": 0.18666666666666662, \"recall\": 0.011274867180261664}, {\"cutoff\": 2, \"precision\": 0.19333333333333338, \"recall\": 0.022353437739719307}, {\"cutoff\": 3, \"precision\": 0.18000000000000002, \"recall\": 0.03134409857343385}, {\"cutoff\": 4, \"precision\": 0.17, \"recall\": 0.04000740810665985}, {\"cutoff\": 5, \"precision\": 0.16399999999999998, \"recall\": 0.04475537140933755}, {\"cutoff\": 6, \"precision\": 0.15777777777777788, \"recall\": 0.051334006286972565}, {\"cutoff\": 7, \"precision\": 0.1552380952380952, \"recall\": 0.05566657359135492}, {\"cutoff\": 8, \"precision\": 0.1525, \"recall\": 0.0633327728782505}, {\"cutoff\": 9, \"precision\": 0.14370370370370367, \"recall\": 0.06573150870047482}, {\"cutoff\": 10, \"precision\": 0.14133333333333326, \"recall\": 0.07179278804561111}, {\"cutoff\": 11, \"precision\": 0.14000000000000004, \"recall\": 0.07925267208440556}, {\"cutoff\": 16, \"precision\": 0.12458333333333334, \"recall\": 0.0977292687807584}, {\"cutoff\": 21, \"precision\": 0.11333333333333331, \"recall\": 0.1101186640877509}, {\"cutoff\": 26, \"precision\": 0.10897435897435893, \"recall\": 0.1284189665943362}, {\"cutoff\": 31, \"precision\": 0.10150537634408602, \"recall\": 0.14355832761978504}, {\"cutoff\": 36, \"precision\": 0.09722222222222222, \"recall\": 0.1580307982854422}, {\"cutoff\": 41, \"precision\": 0.09252032520325204, \"recall\": 0.17655884551831583}, {\"cutoff\": 46, \"precision\": 0.08782608695652176, \"recall\": 0.18489271538919738}]}, \"Model_6\": {\"precision_recall\": [{\"cutoff\": 1, \"precision\": 0.1866666666666667, \"recall\": 0.01127486718026166}, {\"cutoff\": 2, \"precision\": 0.19666666666666674, \"recall\": 0.022959498345779913}, {\"cutoff\": 3, \"precision\": 0.18, \"recall\": 0.031344098573433864}, {\"cutoff\": 4, \"precision\": 0.17166666666666666, \"recall\": 0.04018758828684004}, {\"cutoff\": 5, \"precision\": 0.16400000000000003, \"recall\": 0.045385190003441885}, {\"cutoff\": 6, \"precision\": 0.15666666666666662, \"recall\": 0.05003202828537005}, {\"cutoff\": 7, \"precision\": 0.15428571428571425, \"recall\": 0.05576892418550873}, {\"cutoff\": 8, \"precision\": 0.15333333333333335, \"recall\": 0.06351795806343569}, {\"cutoff\": 9, \"precision\": 0.1444444444444444, \"recall\": 0.06604896901793511}, {\"cutoff\": 10, \"precision\": 0.14266666666666664, \"recall\": 0.0719983541430179}, {\"cutoff\": 11, \"precision\": 0.13999999999999996, \"recall\": 0.0792526720844055}, {\"cutoff\": 16, \"precision\": 0.12375, \"recall\": 0.09700277305426266}, {\"cutoff\": 21, \"precision\": 0.11238095238095236, \"recall\": 0.10982606190599956}, {\"cutoff\": 26, \"precision\": 0.10794871794871799, \"recall\": 0.12722833650137907}, {\"cutoff\": 31, \"precision\": 0.10215053763440858, \"recall\": 0.14484655607113403}, {\"cutoff\": 36, \"precision\": 0.0972222222222222, \"recall\": 0.15816905798172895}, {\"cutoff\": 41, \"precision\": 0.09317073170731707, \"recall\": 0.17784921435474452}, {\"cutoff\": 46, \"precision\": 0.0872463768115942, \"recall\": 0.18447885341686468}]}, \"Model_9\": {\"precision_recall\": [{\"cutoff\": 1, \"precision\": 0.18666666666666673, \"recall\": 0.01089958930498379}, {\"cutoff\": 2, \"precision\": 0.17666666666666675, \"recall\": 0.017620145381022422}, {\"cutoff\": 3, \"precision\": 0.16444444444444456, \"recall\": 0.02464996649061912}, {\"cutoff\": 4, \"precision\": 0.15833333333333324, \"recall\": 0.03388448146863758}, {\"cutoff\": 5, \"precision\": 0.14933333333333326, \"recall\": 0.04078731369785473}, {\"cutoff\": 6, \"precision\": 0.14111111111111113, \"recall\": 0.048473335436581805}, {\"cutoff\": 7, \"precision\": 0.13904761904761906, \"recall\": 0.05343179206100363}, {\"cutoff\": 8, \"precision\": 0.13499999999999993, \"recall\": 0.056072349924625675}, {\"cutoff\": 9, \"precision\": 0.1311111111111111, \"recall\": 0.061309883185725673}, {\"cutoff\": 10, \"precision\": 0.1313333333333333, \"recall\": 0.07110878724885171}, {\"cutoff\": 11, \"precision\": 0.12545454545454554, \"recall\": 0.07371188069219402}, {\"cutoff\": 16, \"precision\": 0.11083333333333331, \"recall\": 0.09115002832670249}, {\"cutoff\": 21, \"precision\": 0.10031746031746033, \"recall\": 0.10246203188547447}, {\"cutoff\": 26, \"precision\": 0.0920512820512821, \"recall\": 0.11843331597901173}, {\"cutoff\": 31, \"precision\": 0.08688172043010754, \"recall\": 0.13091887030004346}, {\"cutoff\": 36, \"precision\": 0.08370370370370367, \"recall\": 0.14179768327501513}, {\"cutoff\": 41, \"precision\": 0.07869918699186991, \"recall\": 0.15072140195624156}, {\"cutoff\": 46, \"precision\": 0.07362318840579707, \"recall\": 0.15475559719146967}]}, \"Model_8\": {\"precision_recall\": [{\"cutoff\": 1, \"precision\": 0.19999999999999998, \"recall\": 0.011404351209745686}, {\"cutoff\": 2, \"precision\": 0.18333333333333332, \"recall\": 0.019194219455096504}, {\"cutoff\": 3, \"precision\": 0.16888888888888892, \"recall\": 0.02622563240132339}, {\"cutoff\": 4, \"precision\": 0.16166666666666668, \"recall\": 0.03711825508761964}, {\"cutoff\": 5, \"precision\": 0.1506666666666666, \"recall\": 0.04052259938168222}, {\"cutoff\": 6, \"precision\": 0.14333333333333334, \"recall\": 0.047633525334137075}, {\"cutoff\": 7, \"precision\": 0.14761904761904762, \"recall\": 0.054636201747562015}, {\"cutoff\": 8, \"precision\": 0.1391666666666667, \"recall\": 0.05700475291037867}, {\"cutoff\": 9, \"precision\": 0.1362962962962963, \"recall\": 0.0644078207949782}, {\"cutoff\": 10, \"precision\": 0.13266666666666663, \"recall\": 0.06825476849212408}, {\"cutoff\": 11, \"precision\": 0.12909090909090912, \"recall\": 0.07462181662199356}, {\"cutoff\": 16, \"precision\": 0.11541666666666665, \"recall\": 0.09078590575896237}, {\"cutoff\": 21, \"precision\": 0.10507936507936509, \"recall\": 0.10596307788572476}, {\"cutoff\": 26, \"precision\": 0.10025641025641024, \"recall\": 0.12389206267617496}, {\"cutoff\": 31, \"precision\": 0.09397849462365591, \"recall\": 0.1381897199495217}, {\"cutoff\": 36, \"precision\": 0.08648148148148144, \"recall\": 0.14685240252198808}, {\"cutoff\": 41, \"precision\": 0.08276422764227641, \"recall\": 0.15759585616433244}, {\"cutoff\": 46, \"precision\": 0.07884057971014495, \"recall\": 0.16468482911091528}]}}}, \"name\": [\"<RankingFactorizationRecommender>\"], \"view_file\": \"model\", \"view_component\": \"Comparison\", \"view_params\": {\"model_type\": \"recommender\", \"view\": \"Comparison\"}, \"view_components\": [\"Summary\", \"Evaluation\", \"Comparison\"], \"model_type\": \"recommender\", \"attributes\": {\"section_titles\": [\"Schema\", \"Statistics\", \"Training summary\", \"Model Parameters\", \"Regularization Settings\", \"Optimization Settings\"], \"sections\": [[[\"User ID\", \"userId\"], [\"Item ID\", \"movieId\"], [\"Target\", \"rating\"], [\"Additional observation features\", 0], [\"User side features\", []], [\"Item side features\", []]], [[\"Number of observations\", 95889], [\"Number of users\", 671], [\"Number of items\", 8928]], [[\"Training time\", 5.438]], [[\"Model class\", \"RankingFactorizationRecommender\"], [\"num_factors\", 16], [\"binary_target\", 0], [\"side_data_factorization\", 1], [\"solver\", \"auto\"], [\"nmf\", 0], [\"max_iterations\", 25]], [[\"regularization\", 0.001], [\"regularization_type\", \"normal\"], [\"linear_regularization\", 0.001], [\"ranking_regularization\", 0.25], [\"unobserved_rating_value\", -1.7976931348623157e+308], [\"num_sampled_negative_examples\", 8], [\"ials_confidence_scaling_type\", \"auto\"], [\"ials_confidence_scaling_factor\", 1]], [[\"init_random_sigma\", 0.01], [\"sgd_convergence_interval\", 4], [\"sgd_convergence_threshold\", 0.0], [\"sgd_max_trial_iterations\", 5], [\"sgd_sampling_block_size\", 131072], [\"sgd_step_adjustment_interval\", 4], [\"sgd_step_size\", 0.0], [\"sgd_trial_sample_minimum_size\", 10000], [\"sgd_trial_sample_proportion\", 0.125], [\"step_size_decrease_rate\", 0.75], [\"additional_iterations_if_unhealthy\", 5], [\"adagrad_momentum_weighting\", 0.9], [\"num_tempering_iterations\", 4], [\"tempering_regularization_start_value\", 0.0], [\"track_exact_loss\", 0]]]}, \"evaluations\": [[\"dataset\", {\"precision_recall_overall\": [{\"cutoff\": 1, \"precision\": 0.20000000000000007, \"recall\": 0.011971017876412358}, {\"cutoff\": 2, \"precision\": 0.1899999999999999, \"recall\": 0.019434158049404036}, {\"cutoff\": 3, \"precision\": 0.1844444444444445, \"recall\": 0.03218646121652114}, {\"cutoff\": 4, \"precision\": 0.16500000000000012, \"recall\": 0.03780452959742358}, {\"cutoff\": 5, \"precision\": 0.14800000000000002, \"recall\": 0.04182731790208701}, {\"cutoff\": 6, \"precision\": 0.15111111111111117, \"recall\": 0.04986033873534742}, {\"cutoff\": 7, \"precision\": 0.15142857142857138, \"recall\": 0.05562853714325875}, {\"cutoff\": 8, \"precision\": 0.14500000000000002, \"recall\": 0.0602584157478502}, {\"cutoff\": 9, \"precision\": 0.14296296296296299, \"recall\": 0.06574165197900753}, {\"cutoff\": 10, \"precision\": 0.13666666666666674, \"recall\": 0.06989177655704712}, {\"cutoff\": 11, \"precision\": 0.13454545454545444, \"recall\": 0.07635954272403102}, {\"cutoff\": 16, \"precision\": 0.11708333333333334, \"recall\": 0.09299711177758892}, {\"cutoff\": 21, \"precision\": 0.11079365079365082, \"recall\": 0.11130044489672687}, {\"cutoff\": 26, \"precision\": 0.10410256410256412, \"recall\": 0.12468759717769128}, {\"cutoff\": 31, \"precision\": 0.09655913978494625, \"recall\": 0.14176682263925391}, {\"cutoff\": 36, \"precision\": 0.09074074074074073, \"recall\": 0.1527242652608728}, {\"cutoff\": 41, \"precision\": 0.08601626016260162, \"recall\": 0.1609632817589641}, {\"cutoff\": 46, \"precision\": 0.08173913043478262, \"recall\": 0.16938629960977136}], \"precision_recall_by_user\": [{\"count\": 4, \"cutoff\": 1, \"userId\": 1, \"precision\": 0.0, \"recall\": 0.0}, {\"count\": 4, \"cutoff\": 2, \"userId\": 1, \"precision\": 0.0, \"recall\": 0.0}, {\"count\": 4, \"cutoff\": 3, \"userId\": 1, \"precision\": 0.0, \"recall\": 0.0}, {\"count\": 4, \"cutoff\": 4, \"userId\": 1, \"precision\": 0.0, \"recall\": 0.0}, {\"count\": 4, \"cutoff\": 5, \"userId\": 1, \"precision\": 0.0, \"recall\": 0.0}, {\"count\": 4, \"cutoff\": 6, \"userId\": 1, \"precision\": 0.0, \"recall\": 0.0}, {\"count\": 4, \"cutoff\": 7, \"userId\": 1, \"precision\": 0.0, \"recall\": 0.0}, {\"count\": 4, \"cutoff\": 8, \"userId\": 1, \"precision\": 0.0, \"recall\": 0.0}, {\"count\": 4, \"cutoff\": 9, \"userId\": 1, \"precision\": 0.0, \"recall\": 0.0}, {\"count\": 4, \"cutoff\": 10, \"userId\": 1, \"precision\": 0.0, \"recall\": 0.0}, {\"count\": 4, \"cutoff\": 11, \"userId\": 1, \"precision\": 0.0, \"recall\": 0.0}, {\"count\": 4, \"cutoff\": 16, \"userId\": 1, \"precision\": 0.0, \"recall\": 0.0}, {\"count\": 4, \"cutoff\": 21, \"userId\": 1, \"precision\": 0.0, \"recall\": 0.0}, {\"count\": 4, \"cutoff\": 26, \"userId\": 1, \"precision\": 0.0, \"recall\": 0.0}, {\"count\": 4, \"cutoff\": 31, \"userId\": 1, \"precision\": 0.0, \"recall\": 0.0}, {\"count\": 4, \"cutoff\": 36, \"userId\": 1, \"precision\": 0.0, \"recall\": 0.0}, {\"count\": 4, \"cutoff\": 41, \"userId\": 1, \"precision\": 0.0, \"recall\": 0.0}, {\"count\": 4, \"cutoff\": 46, \"userId\": 1, \"precision\": 0.0, \"recall\": 0.0}, {\"count\": 20, \"cutoff\": 1, \"userId\": 5, \"precision\": 0.0, \"recall\": 0.0}, {\"count\": 20, \"cutoff\": 2, \"userId\": 5, \"precision\": 0.0, \"recall\": 0.0}, {\"count\": 20, \"cutoff\": 3, \"userId\": 5, \"precision\": 0.0, \"recall\": 0.0}, {\"count\": 20, \"cutoff\": 4, \"userId\": 5, \"precision\": 0.0, \"recall\": 0.0}, {\"count\": 20, \"cutoff\": 5, \"userId\": 5, \"precision\": 0.0, \"recall\": 0.0}, {\"count\": 20, \"cutoff\": 6, \"userId\": 5, \"precision\": 0.0, \"recall\": 0.0}, {\"count\": 20, \"cutoff\": 7, \"userId\": 5, \"precision\": 0.0, \"recall\": 0.0}, {\"count\": 20, \"cutoff\": 8, \"userId\": 5, \"precision\": 0.0, \"recall\": 0.0}, {\"count\": 20, \"cutoff\": 9, \"userId\": 5, \"precision\": 0.0, \"recall\": 0.0}, {\"count\": 20, \"cutoff\": 10, \"userId\": 5, \"precision\": 0.0, \"recall\": 0.0}, {\"count\": 20, \"cutoff\": 11, \"userId\": 5, \"precision\": 0.0, \"recall\": 0.0}, {\"count\": 20, \"cutoff\": 16, \"userId\": 5, \"precision\": 0.0, \"recall\": 0.0}, {\"count\": 20, \"cutoff\": 21, \"userId\": 5, \"precision\": 0.0, \"recall\": 0.0}, {\"count\": 20, \"cutoff\": 26, \"userId\": 5, \"precision\": 0.0, \"recall\": 0.0}, {\"count\": 20, \"cutoff\": 31, \"userId\": 5, \"precision\": 0.0, \"recall\": 0.0}, {\"count\": 20, \"cutoff\": 36, \"userId\": 5, \"precision\": 0.0, \"recall\": 0.0}, {\"count\": 20, \"cutoff\": 41, \"userId\": 5, \"precision\": 0.0, \"recall\": 0.0}, {\"count\": 20, \"cutoff\": 46, \"userId\": 5, \"precision\": 0.021739130434782608, \"recall\": 0.05}, {\"count\": 6, \"cutoff\": 1, \"userId\": 9, \"precision\": 1.0, \"recall\": 0.16666666666666666}, {\"count\": 6, \"cutoff\": 2, \"userId\": 9, \"precision\": 0.5, \"recall\": 0.16666666666666666}, {\"count\": 6, \"cutoff\": 3, \"userId\": 9, \"precision\": 0.3333333333333333, \"recall\": 0.16666666666666666}, {\"count\": 6, \"cutoff\": 4, \"userId\": 9, \"precision\": 0.25, \"recall\": 0.16666666666666666}, {\"count\": 6, \"cutoff\": 5, \"userId\": 9, \"precision\": 0.2, \"recall\": 0.16666666666666666}, {\"count\": 6, \"cutoff\": 6, \"userId\": 9, \"precision\": 0.16666666666666666, \"recall\": 0.16666666666666666}, {\"count\": 6, \"cutoff\": 7, \"userId\": 9, \"precision\": 0.14285714285714285, \"recall\": 0.16666666666666666}, {\"count\": 6, \"cutoff\": 8, \"userId\": 9, \"precision\": 0.125, \"recall\": 0.16666666666666666}, {\"count\": 6, \"cutoff\": 9, \"userId\": 9, \"precision\": 0.1111111111111111, \"recall\": 0.16666666666666666}, {\"count\": 6, \"cutoff\": 10, \"userId\": 9, \"precision\": 0.1, \"recall\": 0.16666666666666666}, {\"count\": 6, \"cutoff\": 11, \"userId\": 9, \"precision\": 0.09090909090909091, \"recall\": 0.16666666666666666}, {\"count\": 6, \"cutoff\": 16, \"userId\": 9, \"precision\": 0.0625, \"recall\": 0.16666666666666666}, {\"count\": 6, \"cutoff\": 21, \"userId\": 9, \"precision\": 0.047619047619047616, \"recall\": 0.16666666666666666}, {\"count\": 6, \"cutoff\": 26, \"userId\": 9, \"precision\": 0.038461538461538464, \"recall\": 0.16666666666666666}, {\"count\": 6, \"cutoff\": 31, \"userId\": 9, \"precision\": 0.03225806451612903, \"recall\": 0.16666666666666666}, {\"count\": 6, \"cutoff\": 36, \"userId\": 9, \"precision\": 0.027777777777777776, \"recall\": 0.16666666666666666}, {\"count\": 6, \"cutoff\": 41, \"userId\": 9, \"precision\": 0.024390243902439025, \"recall\": 0.16666666666666666}, {\"count\": 6, \"cutoff\": 46, \"userId\": 9, \"precision\": 0.021739130434782608, \"recall\": 0.16666666666666666}, {\"count\": 12, \"cutoff\": 1, \"userId\": 10, \"precision\": 0.0, \"recall\": 0.0}, {\"count\": 12, \"cutoff\": 2, \"userId\": 10, \"precision\": 0.0, \"recall\": 0.0}, {\"count\": 12, \"cutoff\": 3, \"userId\": 10, \"precision\": 0.3333333333333333, \"recall\": 0.08333333333333333}, {\"count\": 12, \"cutoff\": 4, \"userId\": 10, \"precision\": 0.25, \"recall\": 0.08333333333333333}, {\"count\": 12, \"cutoff\": 5, \"userId\": 10, \"precision\": 0.2, \"recall\": 0.08333333333333333}, {\"count\": 12, \"cutoff\": 6, \"userId\": 10, \"precision\": 0.16666666666666666, \"recall\": 0.08333333333333333}, {\"count\": 12, \"cutoff\": 7, \"userId\": 10, \"precision\": 0.14285714285714285, \"recall\": 0.08333333333333333}, {\"count\": 12, \"cutoff\": 8, \"userId\": 10, \"precision\": 0.125, \"recall\": 0.08333333333333333}, {\"count\": 12, \"cutoff\": 9, \"userId\": 10, \"precision\": 0.1111111111111111, \"recall\": 0.08333333333333333}, {\"count\": 12, \"cutoff\": 10, \"userId\": 10, \"precision\": 0.1, \"recall\": 0.08333333333333333}, {\"count\": 12, \"cutoff\": 11, \"userId\": 10, \"precision\": 0.09090909090909091, \"recall\": 0.08333333333333333}, {\"count\": 12, \"cutoff\": 16, \"userId\": 10, \"precision\": 0.125, \"recall\": 0.16666666666666666}, {\"count\": 12, \"cutoff\": 21, \"userId\": 10, \"precision\": 0.09523809523809523, \"recall\": 0.16666666666666666}, {\"count\": 12, \"cutoff\": 26, \"userId\": 10, \"precision\": 0.07692307692307693, \"recall\": 0.16666666666666666}, {\"count\": 12, \"cutoff\": 31, \"userId\": 10, \"precision\": 0.06451612903225806, \"recall\": 0.16666666666666666}, {\"count\": 12, \"cutoff\": 36, \"userId\": 10, \"precision\": 0.08333333333333333, \"recall\": 0.25}, {\"count\": 12, \"cutoff\": 41, \"userId\": 10, \"precision\": 0.07317073170731707, \"recall\": 0.25}, {\"count\": 12, \"cutoff\": 46, \"userId\": 10, \"precision\": 0.06521739130434782, \"recall\": 0.25}, {\"count\": 10, \"cutoff\": 1, \"userId\": 13, \"precision\": 0.0, \"recall\": 0.0}, {\"count\": 10, \"cutoff\": 2, \"userId\": 13, \"precision\": 0.5, \"recall\": 0.1}, {\"count\": 10, \"cutoff\": 3, \"userId\": 13, \"precision\": 0.3333333333333333, \"recall\": 0.1}, {\"count\": 10, \"cutoff\": 4, \"userId\": 13, \"precision\": 0.25, \"recall\": 0.1}, {\"count\": 10, \"cutoff\": 5, \"userId\": 13, \"precision\": 0.2, \"recall\": 0.1}, {\"count\": 10, \"cutoff\": 6, \"userId\": 13, \"precision\": 0.16666666666666666, \"recall\": 0.1}, {\"count\": 10, \"cutoff\": 7, \"userId\": 13, \"precision\": 0.14285714285714285, \"recall\": 0.1}, {\"count\": 10, \"cutoff\": 8, \"userId\": 13, \"precision\": 0.125, \"recall\": 0.1}, {\"count\": 10, \"cutoff\": 9, \"userId\": 13, \"precision\": 0.1111111111111111, \"recall\": 0.1}, {\"count\": 10, \"cutoff\": 10, \"userId\": 13, \"precision\": 0.1, \"recall\": 0.1}, {\"count\": 10, \"cutoff\": 11, \"userId\": 13, \"precision\": 0.09090909090909091, \"recall\": 0.1}, {\"count\": 10, \"cutoff\": 16, \"userId\": 13, \"precision\": 0.0625, \"recall\": 0.1}, {\"count\": 10, \"cutoff\": 21, \"userId\": 13, \"precision\": 0.047619047619047616, \"recall\": 0.1}, {\"count\": 10, \"cutoff\": 26, \"userId\": 13, \"precision\": 0.07692307692307693, \"recall\": 0.2}, {\"count\": 10, \"cutoff\": 31, \"userId\": 13, \"precision\": 0.0967741935483871, \"recall\": 0.3}, {\"count\": 10, \"cutoff\": 36, \"userId\": 13, \"precision\": 0.08333333333333333, \"recall\": 0.3}, {\"count\": 10, \"cutoff\": 41, \"userId\": 13, \"precision\": 0.07317073170731707, \"recall\": 0.3}, {\"count\": 10, \"cutoff\": 46, \"userId\": 13, \"precision\": 0.06521739130434782, \"recall\": 0.3}, {\"count\": 68, \"cutoff\": 1, \"userId\": 17, \"precision\": 0.0, \"recall\": 0.0}, {\"count\": 68, \"cutoff\": 2, \"userId\": 17, \"precision\": 0.0, \"recall\": 0.0}, {\"count\": 68, \"cutoff\": 3, \"userId\": 17, \"precision\": 0.3333333333333333, \"recall\": 0.014705882352941176}, {\"count\": 68, \"cutoff\": 4, \"userId\": 17, \"precision\": 0.25, \"recall\": 0.014705882352941176}, {\"count\": 68, \"cutoff\": 5, \"userId\": 17, \"precision\": 0.2, \"recall\": 0.014705882352941176}, {\"count\": 68, \"cutoff\": 6, \"userId\": 17, \"precision\": 0.3333333333333333, \"recall\": 0.029411764705882353}, {\"count\": 68, \"cutoff\": 7, \"userId\": 17, \"precision\": 0.42857142857142855, \"recall\": 0.04411764705882353}, {\"count\": 68, \"cutoff\": 8, \"userId\": 17, \"precision\": 0.5, \"recall\": 0.058823529411764705}, {\"count\": 68, \"cutoff\": 9, \"userId\": 17, \"precision\": 0.4444444444444444, \"recall\": 0.058823529411764705}, {\"count\": 68, \"cutoff\": 10, \"userId\": 17, \"precision\": 0.4, \"recall\": 0.058823529411764705}, {\"count\": 68, \"cutoff\": 11, \"userId\": 17, \"precision\": 0.36363636363636365, \"recall\": 0.058823529411764705}, {\"count\": 68, \"cutoff\": 16, \"userId\": 17, \"precision\": 0.3125, \"recall\": 0.07352941176470588}, {\"count\": 68, \"cutoff\": 21, \"userId\": 17, \"precision\": 0.3333333333333333, \"recall\": 0.10294117647058823}, {\"count\": 68, \"cutoff\": 26, \"userId\": 17, \"precision\": 0.3076923076923077, \"recall\": 0.11764705882352941}, {\"count\": 68, \"cutoff\": 31, \"userId\": 17, \"precision\": 0.3225806451612903, \"recall\": 0.14705882352941177}, {\"count\": 68, \"cutoff\": 36, \"userId\": 17, \"precision\": 0.3055555555555556, \"recall\": 0.16176470588235295}, {\"count\": 68, \"cutoff\": 41, \"userId\": 17, \"precision\": 0.2682926829268293, \"recall\": 0.16176470588235295}, {\"count\": 68, \"cutoff\": 46, \"userId\": 17, \"precision\": 0.2391304347826087, \"recall\": 0.16176470588235295}, {\"count\": 23, \"cutoff\": 1, \"userId\": 36, \"precision\": 0.0, \"recall\": 0.0}, {\"count\": 23, \"cutoff\": 2, \"userId\": 36, \"precision\": 0.5, \"recall\": 0.043478260869565216}, {\"count\": 23, \"cutoff\": 3, \"userId\": 36, \"precision\": 0.3333333333333333, \"recall\": 0.043478260869565216}, {\"count\": 23, \"cutoff\": 4, \"userId\": 36, \"precision\": 0.25, \"recall\": 0.043478260869565216}, {\"count\": 23, \"cutoff\": 5, \"userId\": 36, \"precision\": 0.2, \"recall\": 0.043478260869565216}, {\"count\": 23, \"cutoff\": 6, \"userId\": 36, \"precision\": 0.16666666666666666, \"recall\": 0.043478260869565216}, {\"count\": 23, \"cutoff\": 7, \"userId\": 36, \"precision\": 0.14285714285714285, \"recall\": 0.043478260869565216}, {\"count\": 23, \"cutoff\": 8, \"userId\": 36, \"precision\": 0.125, \"recall\": 0.043478260869565216}, {\"count\": 23, \"cutoff\": 9, \"userId\": 36, \"precision\": 0.2222222222222222, \"recall\": 0.08695652173913043}, {\"count\": 23, \"cutoff\": 10, \"userId\": 36, \"precision\": 0.2, \"recall\": 0.08695652173913043}, {\"count\": 23, \"cutoff\": 11, \"userId\": 36, \"precision\": 0.18181818181818182, \"recall\": 0.08695652173913043}, {\"count\": 23, \"cutoff\": 16, \"userId\": 36, \"precision\": 0.125, \"recall\": 0.08695652173913043}, {\"count\": 23, \"cutoff\": 21, \"userId\": 36, \"precision\": 0.09523809523809523, \"recall\": 0.08695652173913043}, {\"count\": 23, \"cutoff\": 26, \"userId\": 36, \"precision\": 0.07692307692307693, \"recall\": 0.08695652173913043}, {\"count\": 23, \"cutoff\": 31, \"userId\": 36, \"precision\": 0.0967741935483871, \"recall\": 0.13043478260869565}, {\"count\": 23, \"cutoff\": 36, \"userId\": 36, \"precision\": 0.08333333333333333, \"recall\": 0.13043478260869565}, {\"count\": 23, \"cutoff\": 41, \"userId\": 36, \"precision\": 0.0975609756097561, \"recall\": 0.17391304347826086}, {\"count\": 23, \"cutoff\": 46, \"userId\": 36, \"precision\": 0.08695652173913043, \"recall\": 0.17391304347826086}, {\"count\": 6, \"cutoff\": 1, \"userId\": 46, \"precision\": 0.0, \"recall\": 0.0}, {\"count\": 6, \"cutoff\": 2, \"userId\": 46, \"precision\": 0.0, \"recall\": 0.0}, {\"count\": 6, \"cutoff\": 3, \"userId\": 46, \"precision\": 0.0, \"recall\": 0.0}, {\"count\": 6, \"cutoff\": 4, \"userId\": 46, \"precision\": 0.0, \"recall\": 0.0}, {\"count\": 6, \"cutoff\": 5, \"userId\": 46, \"precision\": 0.0, \"recall\": 0.0}, {\"count\": 6, \"cutoff\": 6, \"userId\": 46, \"precision\": 0.0, \"recall\": 0.0}, {\"count\": 6, \"cutoff\": 7, \"userId\": 46, \"precision\": 0.0, \"recall\": 0.0}, {\"count\": 6, \"cutoff\": 8, \"userId\": 46, \"precision\": 0.0, \"recall\": 0.0}, {\"count\": 6, \"cutoff\": 9, \"userId\": 46, \"precision\": 0.0, \"recall\": 0.0}, {\"count\": 6, \"cutoff\": 10, \"userId\": 46, \"precision\": 0.0, \"recall\": 0.0}, {\"count\": 6, \"cutoff\": 11, \"userId\": 46, \"precision\": 0.0, \"recall\": 0.0}, {\"count\": 6, \"cutoff\": 16, \"userId\": 46, \"precision\": 0.0, \"recall\": 0.0}, {\"count\": 6, \"cutoff\": 21, \"userId\": 46, \"precision\": 0.0, \"recall\": 0.0}, {\"count\": 6, \"cutoff\": 26, \"userId\": 46, \"precision\": 0.0, \"recall\": 0.0}, {\"count\": 6, \"cutoff\": 31, \"userId\": 46, \"precision\": 0.0, \"recall\": 0.0}, {\"count\": 6, \"cutoff\": 36, \"userId\": 46, \"precision\": 0.0, \"recall\": 0.0}, {\"count\": 6, \"cutoff\": 41, \"userId\": 46, \"precision\": 0.0, \"recall\": 0.0}, {\"count\": 6, \"cutoff\": 46, \"userId\": 46, \"precision\": 0.0, \"recall\": 0.0}, {\"count\": 104, \"cutoff\": 1, \"userId\": 48, \"precision\": 0.0, \"recall\": 0.0}, {\"count\": 104, \"cutoff\": 2, \"userId\": 48, \"precision\": 0.5, \"recall\": 0.009615384615384616}, {\"count\": 104, \"cutoff\": 3, \"userId\": 48, \"precision\": 0.3333333333333333, \"recall\": 0.009615384615384616}, {\"count\": 104, \"cutoff\": 4, \"userId\": 48, \"precision\": 0.5, \"recall\": 0.019230769230769232}, {\"count\": 104, \"cutoff\": 5, \"userId\": 48, \"precision\": 0.4, \"recall\": 0.019230769230769232}, {\"count\": 104, \"cutoff\": 6, \"userId\": 48, \"precision\": 0.3333333333333333, \"recall\": 0.019230769230769232}, {\"count\": 104, \"cutoff\": 7, \"userId\": 48, \"precision\": 0.2857142857142857, \"recall\": 0.019230769230769232}, {\"count\": 104, \"cutoff\": 8, \"userId\": 48, \"precision\": 0.25, \"recall\": 0.019230769230769232}, {\"count\": 104, \"cutoff\": 9, \"userId\": 48, \"precision\": 0.2222222222222222, \"recall\": 0.019230769230769232}, {\"count\": 104, \"cutoff\": 10, \"userId\": 48, \"precision\": 0.2, \"recall\": 0.019230769230769232}, {\"count\": 104, \"cutoff\": 11, \"userId\": 48, \"precision\": 0.18181818181818182, \"recall\": 0.019230769230769232}, {\"count\": 104, \"cutoff\": 16, \"userId\": 48, \"precision\": 0.125, \"recall\": 0.019230769230769232}, {\"count\": 104, \"cutoff\": 21, \"userId\": 48, \"precision\": 0.14285714285714285, \"recall\": 0.028846153846153848}, {\"count\": 104, \"cutoff\": 26, \"userId\": 48, \"precision\": 0.11538461538461539, \"recall\": 0.028846153846153848}, {\"count\": 104, \"cutoff\": 31, \"userId\": 48, \"precision\": 0.0967741935483871, \"recall\": 0.028846153846153848}, {\"count\": 104, \"cutoff\": 36, \"userId\": 48, \"precision\": 0.08333333333333333, \"recall\": 0.028846153846153848}, {\"count\": 104, \"cutoff\": 41, \"userId\": 48, \"precision\": 0.07317073170731707, \"recall\": 0.028846153846153848}, {\"count\": 104, \"cutoff\": 46, \"userId\": 48, \"precision\": 0.06521739130434782, \"recall\": 0.028846153846153848}, {\"count\": 8, \"cutoff\": 1, \"userId\": 53, \"precision\": 0.0, \"recall\": 0.0}, {\"count\": 8, \"cutoff\": 2, \"userId\": 53, \"precision\": 0.0, \"recall\": 0.0}, {\"count\": 8, \"cutoff\": 3, \"userId\": 53, \"precision\": 0.0, \"recall\": 0.0}, {\"count\": 8, \"cutoff\": 4, \"userId\": 53, \"precision\": 0.0, \"recall\": 0.0}, {\"count\": 8, \"cutoff\": 5, \"userId\": 53, \"precision\": 0.0, \"recall\": 0.0}, {\"count\": 8, \"cutoff\": 6, \"userId\": 53, \"precision\": 0.0, \"recall\": 0.0}, {\"count\": 8, \"cutoff\": 7, \"userId\": 53, \"precision\": 0.0, \"recall\": 0.0}, {\"count\": 8, \"cutoff\": 8, \"userId\": 53, \"precision\": 0.0, \"recall\": 0.0}, {\"count\": 8, \"cutoff\": 9, \"userId\": 53, \"precision\": 0.0, \"recall\": 0.0}, {\"count\": 8, \"cutoff\": 10, \"userId\": 53, \"precision\": 0.0, \"recall\": 0.0}, {\"count\": 8, \"cutoff\": 11, \"userId\": 53, \"precision\": 0.0, \"recall\": 0.0}, {\"count\": 8, \"cutoff\": 16, \"userId\": 53, \"precision\": 0.0, \"recall\": 0.0}, {\"count\": 8, \"cutoff\": 21, \"userId\": 53, \"precision\": 0.0, \"recall\": 0.0}, {\"count\": 8, \"cutoff\": 26, \"userId\": 53, \"precision\": 0.0, \"recall\": 0.0}, {\"count\": 8, \"cutoff\": 31, \"userId\": 53, \"precision\": 0.03225806451612903, \"recall\": 0.125}, {\"count\": 8, \"cutoff\": 36, \"userId\": 53, \"precision\": 0.027777777777777776, \"recall\": 0.125}, {\"count\": 8, \"cutoff\": 41, \"userId\": 53, \"precision\": 0.024390243902439025, \"recall\": 0.125}, {\"count\": 8, \"cutoff\": 46, \"userId\": 53, \"precision\": 0.021739130434782608, \"recall\": 0.125}, {\"count\": 26, \"cutoff\": 1, \"userId\": 68, \"precision\": 0.0, \"recall\": 0.0}, {\"count\": 26, \"cutoff\": 2, \"userId\": 68, \"precision\": 0.0, \"recall\": 0.0}, {\"count\": 26, \"cutoff\": 3, \"userId\": 68, \"precision\": 0.0, \"recall\": 0.0}, {\"count\": 26, \"cutoff\": 4, \"userId\": 68, \"precision\": 0.0, \"recall\": 0.0}, {\"count\": 26, \"cutoff\": 5, \"userId\": 68, \"precision\": 0.0, \"recall\": 0.0}, {\"count\": 26, \"cutoff\": 6, \"userId\": 68, \"precision\": 0.0, \"recall\": 0.0}, {\"count\": 26, \"cutoff\": 7, \"userId\": 68, \"precision\": 0.0, \"recall\": 0.0}, {\"count\": 26, \"cutoff\": 8, \"userId\": 68, \"precision\": 0.0, \"recall\": 0.0}, {\"count\": 26, \"cutoff\": 9, \"userId\": 68, \"precision\": 0.1111111111111111, \"recall\": 0.038461538461538464}, {\"count\": 26, \"cutoff\": 10, \"userId\": 68, \"precision\": 0.1, \"recall\": 0.038461538461538464}, {\"count\": 26, \"cutoff\": 11, \"userId\": 68, \"precision\": 0.09090909090909091, \"recall\": 0.038461538461538464}, {\"count\": 26, \"cutoff\": 16, \"userId\": 68, \"precision\": 0.0625, \"recall\": 0.038461538461538464}, {\"count\": 26, \"cutoff\": 21, \"userId\": 68, \"precision\": 0.14285714285714285, \"recall\": 0.11538461538461539}, {\"count\": 26, \"cutoff\": 26, \"userId\": 68, \"precision\": 0.15384615384615385, \"recall\": 0.15384615384615385}, {\"count\": 26, \"cutoff\": 31, \"userId\": 68, \"precision\": 0.16129032258064516, \"recall\": 0.19230769230769232}, {\"count\": 26, \"cutoff\": 36, \"userId\": 68, \"precision\": 0.19444444444444445, \"recall\": 0.2692307692307692}, {\"count\": 26, \"cutoff\": 41, \"userId\": 68, \"precision\": 0.17073170731707318, \"recall\": 0.2692307692307692}, {\"count\": 26, \"cutoff\": 46, \"userId\": 68, \"precision\": 0.15217391304347827, \"recall\": 0.2692307692307692}, {\"count\": 51, \"cutoff\": 1, \"userId\": 78, \"precision\": 1.0, \"recall\": 0.0196078431372549}, {\"count\": 51, \"cutoff\": 2, \"userId\": 78, \"precision\": 1.0, \"recall\": 0.0392156862745098}, {\"count\": 51, \"cutoff\": 3, \"userId\": 78, \"precision\": 0.6666666666666666, \"recall\": 0.0392156862745098}, {\"count\": 51, \"cutoff\": 4, \"userId\": 78, \"precision\": 0.75, \"recall\": 0.058823529411764705}, {\"count\": 51, \"cutoff\": 5, \"userId\": 78, \"precision\": 0.6, \"recall\": 0.058823529411764705}, {\"count\": 51, \"cutoff\": 6, \"userId\": 78, \"precision\": 0.5, \"recall\": 0.058823529411764705}, {\"count\": 51, \"cutoff\": 7, \"userId\": 78, \"precision\": 0.42857142857142855, \"recall\": 0.058823529411764705}, {\"count\": 51, \"cutoff\": 8, \"userId\": 78, \"precision\": 0.5, \"recall\": 0.0784313725490196}, {\"count\": 51, \"cutoff\": 9, \"userId\": 78, \"precision\": 0.5555555555555556, \"recall\": 0.09803921568627451}, {\"count\": 51, \"cutoff\": 10, \"userId\": 78, \"precision\": 0.5, \"recall\": 0.09803921568627451}, {\"count\": 51, \"cutoff\": 11, \"userId\": 78, \"precision\": 0.45454545454545453, \"recall\": 0.09803921568627451}, {\"count\": 51, \"cutoff\": 16, \"userId\": 78, \"precision\": 0.3125, \"recall\": 0.09803921568627451}, {\"count\": 51, \"cutoff\": 21, \"userId\": 78, \"precision\": 0.23809523809523808, \"recall\": 0.09803921568627451}, {\"count\": 51, \"cutoff\": 26, \"userId\": 78, \"precision\": 0.2692307692307692, \"recall\": 0.13725490196078433}, {\"count\": 51, \"cutoff\": 31, \"userId\": 78, \"precision\": 0.25806451612903225, \"recall\": 0.1568627450980392}, {\"count\": 51, \"cutoff\": 36, \"userId\": 78, \"precision\": 0.2222222222222222, \"recall\": 0.1568627450980392}, {\"count\": 51, \"cutoff\": 41, \"userId\": 78, \"precision\": 0.1951219512195122, \"recall\": 0.1568627450980392}, {\"count\": 51, \"cutoff\": 46, \"userId\": 78, \"precision\": 0.17391304347826086, \"recall\": 0.1568627450980392}, {\"count\": 39, \"cutoff\": 1, \"userId\": 94, \"precision\": 1.0, \"recall\": 0.02564102564102564}, {\"count\": 39, \"cutoff\": 2, \"userId\": 94, \"precision\": 0.5, \"recall\": 0.02564102564102564}, {\"count\": 39, \"cutoff\": 3, \"userId\": 94, \"precision\": 0.3333333333333333, \"recall\": 0.02564102564102564}, {\"count\": 39, \"cutoff\": 4, \"userId\": 94, \"precision\": 0.5, \"recall\": 0.05128205128205128}, {\"count\": 39, \"cutoff\": 5, \"userId\": 94, \"precision\": 0.4, \"recall\": 0.05128205128205128}, {\"count\": 39, \"cutoff\": 6, \"userId\": 94, \"precision\": 0.3333333333333333, \"recall\": 0.05128205128205128}, {\"count\": 39, \"cutoff\": 7, \"userId\": 94, \"precision\": 0.2857142857142857, \"recall\": 0.05128205128205128}, {\"count\": 39, \"cutoff\": 8, \"userId\": 94, \"precision\": 0.25, \"recall\": 0.05128205128205128}, {\"count\": 39, \"cutoff\": 9, \"userId\": 94, \"precision\": 0.2222222222222222, \"recall\": 0.05128205128205128}, {\"count\": 39, \"cutoff\": 10, \"userId\": 94, \"precision\": 0.2, \"recall\": 0.05128205128205128}, {\"count\": 39, \"cutoff\": 11, \"userId\": 94, \"precision\": 0.18181818181818182, \"recall\": 0.05128205128205128}, {\"count\": 39, \"cutoff\": 16, \"userId\": 94, \"precision\": 0.25, \"recall\": 0.10256410256410256}, {\"count\": 39, \"cutoff\": 21, \"userId\": 94, \"precision\": 0.19047619047619047, \"recall\": 0.10256410256410256}, {\"count\": 39, \"cutoff\": 26, \"userId\": 94, \"precision\": 0.19230769230769232, \"recall\": 0.1282051282051282}, {\"count\": 39, \"cutoff\": 31, \"userId\": 94, \"precision\": 0.16129032258064516, \"recall\": 0.1282051282051282}, {\"count\": 39, \"cutoff\": 36, \"userId\": 94, \"precision\": 0.16666666666666666, \"recall\": 0.15384615384615385}, {\"count\": 39, \"cutoff\": 41, \"userId\": 94, \"precision\": 0.14634146341463414, \"recall\": 0.15384615384615385}, {\"count\": 39, \"cutoff\": 46, \"userId\": 94, \"precision\": 0.13043478260869565, \"recall\": 0.15384615384615385}, {\"count\": 18, \"cutoff\": 1, \"userId\": 96, \"precision\": 1.0, \"recall\": 0.05555555555555555}, {\"count\": 18, \"cutoff\": 2, \"userId\": 96, \"precision\": 0.5, \"recall\": 0.05555555555555555}, {\"count\": 18, \"cutoff\": 3, \"userId\": 96, \"precision\": 0.3333333333333333, \"recall\": 0.05555555555555555}, {\"count\": 18, \"cutoff\": 4, \"userId\": 96, \"precision\": 0.25, \"recall\": 0.05555555555555555}, {\"count\": 18, \"cutoff\": 5, \"userId\": 96, \"precision\": 0.2, \"recall\": 0.05555555555555555}, {\"count\": 18, \"cutoff\": 6, \"userId\": 96, \"precision\": 0.16666666666666666, \"recall\": 0.05555555555555555}, {\"count\": 18, \"cutoff\": 7, \"userId\": 96, \"precision\": 0.14285714285714285, \"recall\": 0.05555555555555555}, {\"count\": 18, \"cutoff\": 8, \"userId\": 96, \"precision\": 0.125, \"recall\": 0.05555555555555555}, {\"count\": 18, \"cutoff\": 9, \"userId\": 96, \"precision\": 0.1111111111111111, \"recall\": 0.05555555555555555}, {\"count\": 18, \"cutoff\": 10, \"userId\": 96, \"precision\": 0.1, \"recall\": 0.05555555555555555}, {\"count\": 18, \"cutoff\": 11, \"userId\": 96, \"precision\": 0.09090909090909091, \"recall\": 0.05555555555555555}, {\"count\": 18, \"cutoff\": 16, \"userId\": 96, \"precision\": 0.0625, \"recall\": 0.05555555555555555}, {\"count\": 18, \"cutoff\": 21, \"userId\": 96, \"precision\": 0.09523809523809523, \"recall\": 0.1111111111111111}, {\"count\": 18, \"cutoff\": 26, \"userId\": 96, \"precision\": 0.07692307692307693, \"recall\": 0.1111111111111111}, {\"count\": 18, \"cutoff\": 31, \"userId\": 96, \"precision\": 0.06451612903225806, \"recall\": 0.1111111111111111}, {\"count\": 18, \"cutoff\": 36, \"userId\": 96, \"precision\": 0.05555555555555555, \"recall\": 0.1111111111111111}, {\"count\": 18, \"cutoff\": 41, \"userId\": 96, \"precision\": 0.07317073170731707, \"recall\": 0.16666666666666666}, {\"count\": 18, \"cutoff\": 46, \"userId\": 96, \"precision\": 0.06521739130434782, \"recall\": 0.16666666666666666}, {\"count\": 25, \"cutoff\": 1, \"userId\": 97, \"precision\": 0.0, \"recall\": 0.0}, {\"count\": 25, \"cutoff\": 2, \"userId\": 97, \"precision\": 0.5, \"recall\": 0.04}, {\"count\": 25, \"cutoff\": 3, \"userId\": 97, \"precision\": 0.3333333333333333, \"recall\": 0.04}, {\"count\": 25, \"cutoff\": 4, \"userId\": 97, \"precision\": 0.5, \"recall\": 0.08}, {\"count\": 25, \"cutoff\": 5, \"userId\": 97, \"precision\": 0.4, \"recall\": 0.08}, {\"count\": 25, \"cutoff\": 6, \"userId\": 97, \"precision\": 0.5, \"recall\": 0.12}, {\"count\": 25, \"cutoff\": 7, \"userId\": 97, \"precision\": 0.5714285714285714, \"recall\": 0.16}, {\"count\": 25, \"cutoff\": 8, \"userId\": 97, \"precision\": 0.5, \"recall\": 0.16}, {\"count\": 25, \"cutoff\": 9, \"userId\": 97, \"precision\": 0.4444444444444444, \"recall\": 0.16}, {\"count\": 25, \"cutoff\": 10, \"userId\": 97, \"precision\": 0.4, \"recall\": 0.16}, {\"count\": 25, \"cutoff\": 11, \"userId\": 97, \"precision\": 0.36363636363636365, \"recall\": 0.16}, {\"count\": 25, \"cutoff\": 16, \"userId\": 97, \"precision\": 0.375, \"recall\": 0.24}, {\"count\": 25, \"cutoff\": 21, \"userId\": 97, \"precision\": 0.38095238095238093, \"recall\": 0.32}, {\"count\": 25, \"cutoff\": 26, \"userId\": 97, \"precision\": 0.38461538461538464, \"recall\": 0.4}, {\"count\": 25, \"cutoff\": 31, \"userId\": 97, \"precision\": 0.3548387096774194, \"recall\": 0.44}, {\"count\": 25, \"cutoff\": 36, \"userId\": 97, \"precision\": 0.3333333333333333, \"recall\": 0.48}, {\"count\": 25, \"cutoff\": 41, \"userId\": 97, \"precision\": 0.2926829268292683, \"recall\": 0.48}, {\"count\": 25, \"cutoff\": 46, \"userId\": 97, \"precision\": 0.2608695652173913, \"recall\": 0.48}, {\"count\": 12, \"cutoff\": 1, \"userId\": 98, \"precision\": 0.0, \"recall\": 0.0}, {\"count\": 12, \"cutoff\": 2, \"userId\": 98, \"precision\": 0.0, \"recall\": 0.0}, {\"count\": 12, \"cutoff\": 3, \"userId\": 98, \"precision\": 0.0, \"recall\": 0.0}, {\"count\": 12, \"cutoff\": 4, \"userId\": 98, \"precision\": 0.0, \"recall\": 0.0}, {\"count\": 12, \"cutoff\": 5, \"userId\": 98, \"precision\": 0.0, \"recall\": 0.0}, {\"count\": 12, \"cutoff\": 6, \"userId\": 98, \"precision\": 0.0, \"recall\": 0.0}, {\"count\": 12, \"cutoff\": 7, \"userId\": 98, \"precision\": 0.0, \"recall\": 0.0}, {\"count\": 12, \"cutoff\": 8, \"userId\": 98, \"precision\": 0.0, \"recall\": 0.0}, {\"count\": 12, \"cutoff\": 9, \"userId\": 98, \"precision\": 0.0, \"recall\": 0.0}, {\"count\": 12, \"cutoff\": 10, \"userId\": 98, \"precision\": 0.0, \"recall\": 0.0}, {\"count\": 12, \"cutoff\": 11, \"userId\": 98, \"precision\": 0.0, \"recall\": 0.0}, {\"count\": 12, \"cutoff\": 16, \"userId\": 98, \"precision\": 0.0, \"recall\": 0.0}, {\"count\": 12, \"cutoff\": 21, \"userId\": 98, \"precision\": 0.0, \"recall\": 0.0}, {\"count\": 12, \"cutoff\": 26, \"userId\": 98, \"precision\": 0.0, \"recall\": 0.0}, {\"count\": 12, \"cutoff\": 31, \"userId\": 98, \"precision\": 0.0, \"recall\": 0.0}, {\"count\": 12, \"cutoff\": 36, \"userId\": 98, \"precision\": 0.0, \"recall\": 0.0}, {\"count\": 12, \"cutoff\": 41, \"userId\": 98, \"precision\": 0.0, \"recall\": 0.0}, {\"count\": 12, \"cutoff\": 46, \"userId\": 98, \"precision\": 0.0, \"recall\": 0.0}, {\"count\": 71, \"cutoff\": 1, \"userId\": 111, \"precision\": 0.0, \"recall\": 0.0}, {\"count\": 71, \"cutoff\": 2, \"userId\": 111, \"precision\": 0.5, \"recall\": 0.014084507042253521}, {\"count\": 71, \"cutoff\": 3, \"userId\": 111, \"precision\": 0.6666666666666666, \"recall\": 0.028169014084507043}, {\"count\": 71, \"cutoff\": 4, \"userId\": 111, \"precision\": 0.75, \"recall\": 0.04225352112676056}, {\"count\": 71, \"cutoff\": 5, \"userId\": 111, \"precision\": 0.6, \"recall\": 0.04225352112676056}, {\"count\": 71, \"cutoff\": 6, \"userId\": 111, \"precision\": 0.6666666666666666, \"recall\": 0.056338028169014086}, {\"count\": 71, \"cutoff\": 7, \"userId\": 111, \"precision\": 0.7142857142857143, \"recall\": 0.07042253521126761}, {\"count\": 71, \"cutoff\": 8, \"userId\": 111, \"precision\": 0.75, \"recall\": 0.08450704225352113}, {\"count\": 71, \"cutoff\": 9, \"userId\": 111, \"precision\": 0.6666666666666666, \"recall\": 0.08450704225352113}, {\"count\": 71, \"cutoff\": 10, \"userId\": 111, \"precision\": 0.7, \"recall\": 0.09859154929577464}, {\"count\": 71, \"cutoff\": 11, \"userId\": 111, \"precision\": 0.6363636363636364, \"recall\": 0.09859154929577464}, {\"count\": 71, \"cutoff\": 16, \"userId\": 111, \"precision\": 0.5625, \"recall\": 0.1267605633802817}, {\"count\": 71, \"cutoff\": 21, \"userId\": 111, \"precision\": 0.5238095238095238, \"recall\": 0.15492957746478872}, {\"count\": 71, \"cutoff\": 26, \"userId\": 111, \"precision\": 0.4230769230769231, \"recall\": 0.15492957746478872}, {\"count\": 71, \"cutoff\": 31, \"userId\": 111, \"precision\": 0.3870967741935484, \"recall\": 0.16901408450704225}, {\"count\": 71, \"cutoff\": 36, \"userId\": 111, \"precision\": 0.3611111111111111, \"recall\": 0.18309859154929578}, {\"count\": 71, \"cutoff\": 41, \"userId\": 111, \"precision\": 0.3170731707317073, \"recall\": 0.18309859154929578}, {\"count\": 71, \"cutoff\": 46, \"userId\": 111, \"precision\": 0.30434782608695654, \"recall\": 0.19718309859154928}, {\"count\": 5, \"cutoff\": 1, \"userId\": 116, \"precision\": 0.0, \"recall\": 0.0}, {\"count\": 5, \"cutoff\": 2, \"userId\": 116, \"precision\": 0.0, \"recall\": 0.0}, {\"count\": 5, \"cutoff\": 3, \"userId\": 116, \"precision\": 0.0, \"recall\": 0.0}, {\"count\": 5, \"cutoff\": 4, \"userId\": 116, \"precision\": 0.0, \"recall\": 0.0}, {\"count\": 5, \"cutoff\": 5, \"userId\": 116, \"precision\": 0.0, \"recall\": 0.0}, {\"count\": 5, \"cutoff\": 6, \"userId\": 116, \"precision\": 0.16666666666666666, \"recall\": 0.2}, {\"count\": 5, \"cutoff\": 7, \"userId\": 116, \"precision\": 0.14285714285714285, \"recall\": 0.2}, {\"count\": 5, \"cutoff\": 8, \"userId\": 116, \"precision\": 0.125, \"recall\": 0.2}, {\"count\": 5, \"cutoff\": 9, \"userId\": 116, \"precision\": 0.2222222222222222, \"recall\": 0.4}, {\"count\": 5, \"cutoff\": 10, \"userId\": 116, \"precision\": 0.2, \"recall\": 0.4}, {\"count\": 5, \"cutoff\": 11, \"userId\": 116, \"precision\": 0.18181818181818182, \"recall\": 0.4}, {\"count\": 5, \"cutoff\": 16, \"userId\": 116, \"precision\": 0.125, \"recall\": 0.4}, {\"count\": 5, \"cutoff\": 21, \"userId\": 116, \"precision\": 0.14285714285714285, \"recall\": 0.6}, {\"count\": 5, \"cutoff\": 26, \"userId\": 116, \"precision\": 0.11538461538461539, \"recall\": 0.6}, {\"count\": 5, \"cutoff\": 31, \"userId\": 116, \"precision\": 0.0967741935483871, \"recall\": 0.6}, {\"count\": 5, \"cutoff\": 36, \"userId\": 116, \"precision\": 0.08333333333333333, \"recall\": 0.6}, {\"count\": 5, \"cutoff\": 41, \"userId\": 116, \"precision\": 0.07317073170731707, \"recall\": 0.6}, {\"count\": 5, \"cutoff\": 46, \"userId\": 116, \"precision\": 0.06521739130434782, \"recall\": 0.6}, {\"count\": 37, \"cutoff\": 1, \"userId\": 118, \"precision\": 0.0, \"recall\": 0.0}, {\"count\": 37, \"cutoff\": 2, \"userId\": 118, \"precision\": 0.0, \"recall\": 0.0}, {\"count\": 37, \"cutoff\": 3, \"userId\": 118, \"precision\": 0.3333333333333333, \"recall\": 0.02702702702702703}, {\"count\": 37, \"cutoff\": 4, \"userId\": 118, \"precision\": 0.25, \"recall\": 0.02702702702702703}, {\"count\": 37, \"cutoff\": 5, \"userId\": 118, \"precision\": 0.2, \"recall\": 0.02702702702702703}, {\"count\": 37, \"cutoff\": 6, \"userId\": 118, \"precision\": 0.3333333333333333, \"recall\": 0.05405405405405406}, {\"count\": 37, \"cutoff\": 7, \"userId\": 118, \"precision\": 0.2857142857142857, \"recall\": 0.05405405405405406}, {\"count\": 37, \"cutoff\": 8, \"userId\": 118, \"precision\": 0.25, \"recall\": 0.05405405405405406}, {\"count\": 37, \"cutoff\": 9, \"userId\": 118, \"precision\": 0.2222222222222222, \"recall\": 0.05405405405405406}, {\"count\": 37, \"cutoff\": 10, \"userId\": 118, \"precision\": 0.2, \"recall\": 0.05405405405405406}, {\"count\": 37, \"cutoff\": 11, \"userId\": 118, \"precision\": 0.18181818181818182, \"recall\": 0.05405405405405406}, {\"count\": 37, \"cutoff\": 16, \"userId\": 118, \"precision\": 0.125, \"recall\": 0.05405405405405406}, {\"count\": 37, \"cutoff\": 21, \"userId\": 118, \"precision\": 0.14285714285714285, \"recall\": 0.08108108108108109}, {\"count\": 37, \"cutoff\": 26, \"userId\": 118, \"precision\": 0.15384615384615385, \"recall\": 0.10810810810810811}, {\"count\": 37, \"cutoff\": 31, \"userId\": 118, \"precision\": 0.12903225806451613, \"recall\": 0.10810810810810811}, {\"count\": 37, \"cutoff\": 36, \"userId\": 118, \"precision\": 0.1111111111111111, \"recall\": 0.10810810810810811}, {\"count\": 37, \"cutoff\": 41, \"userId\": 118, \"precision\": 0.12195121951219512, \"recall\": 0.13513513513513514}, {\"count\": 37, \"cutoff\": 46, \"userId\": 118, \"precision\": 0.10869565217391304, \"recall\": 0.13513513513513514}, {\"count\": 16, \"cutoff\": 1, \"userId\": 121, \"precision\": 1.0, \"recall\": 0.0625}, {\"count\": 16, \"cutoff\": 2, \"userId\": 121, \"precision\": 0.5, \"recall\": 0.0625}, {\"count\": 16, \"cutoff\": 3, \"userId\": 121, \"precision\": 0.6666666666666666, \"recall\": 0.125}, {\"count\": 16, \"cutoff\": 4, \"userId\": 121, \"precision\": 0.5, \"recall\": 0.125}, {\"count\": 16, \"cutoff\": 5, \"userId\": 121, \"precision\": 0.4, \"recall\": 0.125}, {\"count\": 16, \"cutoff\": 6, \"userId\": 121, \"precision\": 0.3333333333333333, \"recall\": 0.125}, {\"count\": 16, \"cutoff\": 7, \"userId\": 121, \"precision\": 0.2857142857142857, \"recall\": 0.125}, {\"count\": 16, \"cutoff\": 8, \"userId\": 121, \"precision\": 0.25, \"recall\": 0.125}, {\"count\": 16, \"cutoff\": 9, \"userId\": 121, \"precision\": 0.2222222222222222, \"recall\": 0.125}, {\"count\": 16, \"cutoff\": 10, \"userId\": 121, \"precision\": 0.2, \"recall\": 0.125}, {\"count\": 16, \"cutoff\": 11, \"userId\": 121, \"precision\": 0.18181818181818182, \"recall\": 0.125}, {\"count\": 16, \"cutoff\": 16, \"userId\": 121, \"precision\": 0.125, \"recall\": 0.125}, {\"count\": 16, \"cutoff\": 21, \"userId\": 121, \"precision\": 0.09523809523809523, \"recall\": 0.125}, {\"count\": 16, \"cutoff\": 26, \"userId\": 121, \"precision\": 0.07692307692307693, \"recall\": 0.125}, {\"count\": 16, \"cutoff\": 31, \"userId\": 121, \"precision\": 0.06451612903225806, \"recall\": 0.125}, {\"count\": 16, \"cutoff\": 36, \"userId\": 121, \"precision\": 0.05555555555555555, \"recall\": 0.125}, {\"count\": 16, \"cutoff\": 41, \"userId\": 121, \"precision\": 0.04878048780487805, \"recall\": 0.125}, {\"count\": 16, \"cutoff\": 46, \"userId\": 121, \"precision\": 0.043478260869565216, \"recall\": 0.125}, {\"count\": 63, \"cutoff\": 1, \"userId\": 128, \"precision\": 0.0, \"recall\": 0.0}, {\"count\": 63, \"cutoff\": 2, \"userId\": 128, \"precision\": 0.0, \"recall\": 0.0}, {\"count\": 63, \"cutoff\": 3, \"userId\": 128, \"precision\": 0.0, \"recall\": 0.0}, {\"count\": 63, \"cutoff\": 4, \"userId\": 128, \"precision\": 0.0, \"recall\": 0.0}, {\"count\": 63, \"cutoff\": 5, \"userId\": 128, \"precision\": 0.0, \"recall\": 0.0}, {\"count\": 63, \"cutoff\": 6, \"userId\": 128, \"precision\": 0.0, \"recall\": 0.0}, {\"count\": 63, \"cutoff\": 7, \"userId\": 128, \"precision\": 0.0, \"recall\": 0.0}, {\"count\": 63, \"cutoff\": 8, \"userId\": 128, \"precision\": 0.0, \"recall\": 0.0}, {\"count\": 63, \"cutoff\": 9, \"userId\": 128, \"precision\": 0.0, \"recall\": 0.0}, {\"count\": 63, \"cutoff\": 10, \"userId\": 128, \"precision\": 0.0, \"recall\": 0.0}, {\"count\": 63, \"cutoff\": 11, \"userId\": 128, \"precision\": 0.0, \"recall\": 0.0}, {\"count\": 63, \"cutoff\": 16, \"userId\": 128, \"precision\": 0.0625, \"recall\": 0.015873015873015872}, {\"count\": 63, \"cutoff\": 21, \"userId\": 128, \"precision\": 0.047619047619047616, \"recall\": 0.015873015873015872}, {\"count\": 63, \"cutoff\": 26, \"userId\": 128, \"precision\": 0.038461538461538464, \"recall\": 0.015873015873015872}, {\"count\": 63, \"cutoff\": 31, \"userId\": 128, \"precision\": 0.06451612903225806, \"recall\": 0.031746031746031744}, {\"count\": 63, \"cutoff\": 36, \"userId\": 128, \"precision\": 0.08333333333333333, \"recall\": 0.047619047619047616}, {\"count\": 63, \"cutoff\": 41, \"userId\": 128, \"precision\": 0.0975609756097561, \"recall\": 0.06349206349206349}, {\"count\": 63, \"cutoff\": 46, \"userId\": 128, \"precision\": 0.08695652173913043, \"recall\": 0.06349206349206349}, {\"count\": 6, \"cutoff\": 1, \"userId\": 131, \"precision\": 0.0, \"recall\": 0.0}, {\"count\": 6, \"cutoff\": 2, \"userId\": 131, \"precision\": 0.0, \"recall\": 0.0}, {\"count\": 6, \"cutoff\": 3, \"userId\": 131, \"precision\": 0.0, \"recall\": 0.0}, {\"count\": 6, \"cutoff\": 4, \"userId\": 131, \"precision\": 0.0, \"recall\": 0.0}, {\"count\": 6, \"cutoff\": 5, \"userId\": 131, \"precision\": 0.0, \"recall\": 0.0}, {\"count\": 6, \"cutoff\": 6, \"userId\": 131, \"precision\": 0.0, \"recall\": 0.0}, {\"count\": 6, \"cutoff\": 7, \"userId\": 131, \"precision\": 0.0, \"recall\": 0.0}, {\"count\": 6, \"cutoff\": 8, \"userId\": 131, \"precision\": 0.0, \"recall\": 0.0}, {\"count\": 6, \"cutoff\": 9, \"userId\": 131, \"precision\": 0.0, \"recall\": 0.0}, {\"count\": 6, \"cutoff\": 10, \"userId\": 131, \"precision\": 0.0, \"recall\": 0.0}, {\"count\": 6, \"cutoff\": 11, \"userId\": 131, \"precision\": 0.0, \"recall\": 0.0}, {\"count\": 6, \"cutoff\": 16, \"userId\": 131, \"precision\": 0.0, \"recall\": 0.0}, {\"count\": 6, \"cutoff\": 21, \"userId\": 131, \"precision\": 0.0, \"recall\": 0.0}, {\"count\": 6, \"cutoff\": 26, \"userId\": 131, \"precision\": 0.0, \"recall\": 0.0}, {\"count\": 6, \"cutoff\": 31, \"userId\": 131, \"precision\": 0.0, \"recall\": 0.0}, {\"count\": 6, \"cutoff\": 36, \"userId\": 131, \"precision\": 0.0, \"recall\": 0.0}, {\"count\": 6, \"cutoff\": 41, \"userId\": 131, \"precision\": 0.0, \"recall\": 0.0}, {\"count\": 6, \"cutoff\": 46, \"userId\": 131, \"precision\": 0.0, \"recall\": 0.0}, {\"count\": 36, \"cutoff\": 1, \"userId\": 133, \"precision\": 1.0, \"recall\": 0.027777777777777776}, {\"count\": 36, \"cutoff\": 2, \"userId\": 133, \"precision\": 0.5, \"recall\": 0.027777777777777776}, {\"count\": 36, \"cutoff\": 3, \"userId\": 133, \"precision\": 0.3333333333333333, \"recall\": 0.027777777777777776}, {\"count\": 36, \"cutoff\": 4, \"userId\": 133, \"precision\": 0.25, \"recall\": 0.027777777777777776}, {\"count\": 36, \"cutoff\": 5, \"userId\": 133, \"precision\": 0.2, \"recall\": 0.027777777777777776}, {\"count\": 36, \"cutoff\": 6, \"userId\": 133, \"precision\": 0.16666666666666666, \"recall\": 0.027777777777777776}, {\"count\": 36, \"cutoff\": 7, \"userId\": 133, \"precision\": 0.14285714285714285, \"recall\": 0.027777777777777776}, {\"count\": 36, \"cutoff\": 8, \"userId\": 133, \"precision\": 0.125, \"recall\": 0.027777777777777776}, {\"count\": 36, \"cutoff\": 9, \"userId\": 133, \"precision\": 0.2222222222222222, \"recall\": 0.05555555555555555}, {\"count\": 36, \"cutoff\": 10, \"userId\": 133, \"precision\": 0.2, \"recall\": 0.05555555555555555}, {\"count\": 36, \"cutoff\": 11, \"userId\": 133, \"precision\": 0.18181818181818182, \"recall\": 0.05555555555555555}, {\"count\": 36, \"cutoff\": 16, \"userId\": 133, \"precision\": 0.1875, \"recall\": 0.08333333333333333}, {\"count\": 36, \"cutoff\": 21, \"userId\": 133, \"precision\": 0.19047619047619047, \"recall\": 0.1111111111111111}, {\"count\": 36, \"cutoff\": 26, \"userId\": 133, \"precision\": 0.19230769230769232, \"recall\": 0.1388888888888889}, {\"count\": 36, \"cutoff\": 31, \"userId\": 133, \"precision\": 0.16129032258064516, \"recall\": 0.1388888888888889}, {\"count\": 36, \"cutoff\": 36, \"userId\": 133, \"precision\": 0.1388888888888889, \"recall\": 0.1388888888888889}, {\"count\": 36, \"cutoff\": 41, \"userId\": 133, \"precision\": 0.12195121951219512, \"recall\": 0.1388888888888889}, {\"count\": 36, \"cutoff\": 46, \"userId\": 133, \"precision\": 0.13043478260869565, \"recall\": 0.16666666666666666}, {\"count\": 18, \"cutoff\": 1, \"userId\": 146, \"precision\": 1.0, \"recall\": 0.05555555555555555}, {\"count\": 18, \"cutoff\": 2, \"userId\": 146, \"precision\": 0.5, \"recall\": 0.05555555555555555}, {\"count\": 18, \"cutoff\": 3, \"userId\": 146, \"precision\": 0.3333333333333333, \"recall\": 0.05555555555555555}, {\"count\": 18, \"cutoff\": 4, \"userId\": 146, \"precision\": 0.25, \"recall\": 0.05555555555555555}, {\"count\": 18, \"cutoff\": 5, \"userId\": 146, \"precision\": 0.2, \"recall\": 0.05555555555555555}, {\"count\": 18, \"cutoff\": 6, \"userId\": 146, \"precision\": 0.16666666666666666, \"recall\": 0.05555555555555555}, {\"count\": 18, \"cutoff\": 7, \"userId\": 146, \"precision\": 0.2857142857142857, \"recall\": 0.1111111111111111}, {\"count\": 18, \"cutoff\": 8, \"userId\": 146, \"precision\": 0.25, \"recall\": 0.1111111111111111}, {\"count\": 18, \"cutoff\": 9, \"userId\": 146, \"precision\": 0.2222222222222222, \"recall\": 0.1111111111111111}, {\"count\": 18, \"cutoff\": 10, \"userId\": 146, \"precision\": 0.2, \"recall\": 0.1111111111111111}, {\"count\": 18, \"cutoff\": 11, \"userId\": 146, \"precision\": 0.2727272727272727, \"recall\": 0.16666666666666666}, {\"count\": 18, \"cutoff\": 16, \"userId\": 146, \"precision\": 0.1875, \"recall\": 0.16666666666666666}, {\"count\": 18, \"cutoff\": 21, \"userId\": 146, \"precision\": 0.19047619047619047, \"recall\": 0.2222222222222222}, {\"count\": 18, \"cutoff\": 26, \"userId\": 146, \"precision\": 0.19230769230769232, \"recall\": 0.2777777777777778}, {\"count\": 18, \"cutoff\": 31, \"userId\": 146, \"precision\": 0.22580645161290322, \"recall\": 0.3888888888888889}, {\"count\": 18, \"cutoff\": 36, \"userId\": 146, \"precision\": 0.19444444444444445, \"recall\": 0.3888888888888889}, {\"count\": 18, \"cutoff\": 41, \"userId\": 146, \"precision\": 0.17073170731707318, \"recall\": 0.3888888888888889}, {\"count\": 18, \"cutoff\": 46, \"userId\": 146, \"precision\": 0.17391304347826086, \"recall\": 0.4444444444444444}, {\"count\": 9, \"cutoff\": 1, \"userId\": 155, \"precision\": 0.0, \"recall\": 0.0}, {\"count\": 9, \"cutoff\": 2, \"userId\": 155, \"precision\": 0.0, \"recall\": 0.0}, {\"count\": 9, \"cutoff\": 3, \"userId\": 155, \"precision\": 0.0, \"recall\": 0.0}, {\"count\": 9, \"cutoff\": 4, \"userId\": 155, \"precision\": 0.0, \"recall\": 0.0}, {\"count\": 9, \"cutoff\": 5, \"userId\": 155, \"precision\": 0.0, \"recall\": 0.0}, {\"count\": 9, \"cutoff\": 6, \"userId\": 155, \"precision\": 0.0, \"recall\": 0.0}, {\"count\": 9, \"cutoff\": 7, \"userId\": 155, \"precision\": 0.0, \"recall\": 0.0}, {\"count\": 9, \"cutoff\": 8, \"userId\": 155, \"precision\": 0.0, \"recall\": 0.0}, {\"count\": 9, \"cutoff\": 9, \"userId\": 155, \"precision\": 0.0, \"recall\": 0.0}, {\"count\": 9, \"cutoff\": 10, \"userId\": 155, \"precision\": 0.0, \"recall\": 0.0}, {\"count\": 9, \"cutoff\": 11, \"userId\": 155, \"precision\": 0.09090909090909091, \"recall\": 0.1111111111111111}, {\"count\": 9, \"cutoff\": 16, \"userId\": 155, \"precision\": 0.125, \"recall\": 0.2222222222222222}, {\"count\": 9, \"cutoff\": 21, \"userId\": 155, \"precision\": 0.09523809523809523, \"recall\": 0.2222222222222222}, {\"count\": 9, \"cutoff\": 26, \"userId\": 155, \"precision\": 0.11538461538461539, \"recall\": 0.3333333333333333}, {\"count\": 9, \"cutoff\": 31, \"userId\": 155, \"precision\": 0.0967741935483871, \"recall\": 0.3333333333333333}, {\"count\": 9, \"cutoff\": 36, \"userId\": 155, \"precision\": 0.08333333333333333, \"recall\": 0.3333333333333333}, {\"count\": 9, \"cutoff\": 41, \"userId\": 155, \"precision\": 0.0975609756097561, \"recall\": 0.4444444444444444}, {\"count\": 9, \"cutoff\": 46, \"userId\": 155, \"precision\": 0.08695652173913043, \"recall\": 0.4444444444444444}, {\"count\": 63, \"cutoff\": 1, \"userId\": 157, \"precision\": 0.0, \"recall\": 0.0}, {\"count\": 63, \"cutoff\": 2, \"userId\": 157, \"precision\": 0.0, \"recall\": 0.0}, {\"count\": 63, \"cutoff\": 3, \"userId\": 157, \"precision\": 0.0, \"recall\": 0.0}, {\"count\": 63, \"cutoff\": 4, \"userId\": 157, \"precision\": 0.0, \"recall\": 0.0}, {\"count\": 63, \"cutoff\": 5, \"userId\": 157, \"precision\": 0.0, \"recall\": 0.0}, {\"count\": 63, \"cutoff\": 6, \"userId\": 157, \"precision\": 0.0, \"recall\": 0.0}, {\"count\": 63, \"cutoff\": 7, \"userId\": 157, \"precision\": 0.0, \"recall\": 0.0}, {\"count\": 63, \"cutoff\": 8, \"userId\": 157, \"precision\": 0.0, \"recall\": 0.0}, {\"count\": 63, \"cutoff\": 9, \"userId\": 157, \"precision\": 0.0, \"recall\": 0.0}, {\"count\": 63, \"cutoff\": 10, \"userId\": 157, \"precision\": 0.0, \"recall\": 0.0}, {\"count\": 63, \"cutoff\": 11, \"userId\": 157, \"precision\": 0.0, \"recall\": 0.0}, {\"count\": 63, \"cutoff\": 16, \"userId\": 157, \"precision\": 0.0625, \"recall\": 0.015873015873015872}, {\"count\": 63, \"cutoff\": 21, \"userId\": 157, \"precision\": 0.09523809523809523, \"recall\": 0.031746031746031744}, {\"count\": 63, \"cutoff\": 26, \"userId\": 157, \"precision\": 0.11538461538461539, \"recall\": 0.047619047619047616}, {\"count\": 63, \"cutoff\": 31, \"userId\": 157, \"precision\": 0.0967741935483871, \"recall\": 0.047619047619047616}, {\"count\": 63, \"cutoff\": 36, \"userId\": 157, \"precision\": 0.1388888888888889, \"recall\": 0.07936507936507936}, {\"count\": 63, \"cutoff\": 41, \"userId\": 157, \"precision\": 0.17073170731707318, \"recall\": 0.1111111111111111}, {\"count\": 63, \"cutoff\": 46, \"userId\": 157, \"precision\": 0.17391304347826086, \"recall\": 0.12698412698412698}, {\"count\": 3, \"cutoff\": 1, \"userId\": 158, \"precision\": 0.0, \"recall\": 0.0}, {\"count\": 3, \"cutoff\": 2, \"userId\": 158, \"precision\": 0.0, \"recall\": 0.0}, {\"count\": 3, \"cutoff\": 3, \"userId\": 158, \"precision\": 0.0, \"recall\": 0.0}, {\"count\": 3, \"cutoff\": 4, \"userId\": 158, \"precision\": 0.0, \"recall\": 0.0}, {\"count\": 3, \"cutoff\": 5, \"userId\": 158, \"precision\": 0.0, \"recall\": 0.0}, {\"count\": 3, \"cutoff\": 6, \"userId\": 158, \"precision\": 0.0, \"recall\": 0.0}, {\"count\": 3, \"cutoff\": 7, \"userId\": 158, \"precision\": 0.0, \"recall\": 0.0}, {\"count\": 3, \"cutoff\": 8, \"userId\": 158, \"precision\": 0.0, \"recall\": 0.0}, {\"count\": 3, \"cutoff\": 9, \"userId\": 158, \"precision\": 0.0, \"recall\": 0.0}, {\"count\": 3, \"cutoff\": 10, \"userId\": 158, \"precision\": 0.0, \"recall\": 0.0}, {\"count\": 3, \"cutoff\": 11, \"userId\": 158, \"precision\": 0.0, \"recall\": 0.0}, {\"count\": 3, \"cutoff\": 16, \"userId\": 158, \"precision\": 0.0, \"recall\": 0.0}, {\"count\": 3, \"cutoff\": 21, \"userId\": 158, \"precision\": 0.0, \"recall\": 0.0}, {\"count\": 3, \"cutoff\": 26, \"userId\": 158, \"precision\": 0.0, \"recall\": 0.0}, {\"count\": 3, \"cutoff\": 31, \"userId\": 158, \"precision\": 0.0, \"recall\": 0.0}, {\"count\": 3, \"cutoff\": 36, \"userId\": 158, \"precision\": 0.0, \"recall\": 0.0}, {\"count\": 3, \"cutoff\": 41, \"userId\": 158, \"precision\": 0.0, \"recall\": 0.0}, {\"count\": 3, \"cutoff\": 46, \"userId\": 158, \"precision\": 0.0, \"recall\": 0.0}, {\"count\": 22, \"cutoff\": 1, \"userId\": 160, \"precision\": 0.0, \"recall\": 0.0}, {\"count\": 22, \"cutoff\": 2, \"userId\": 160, \"precision\": 0.0, \"recall\": 0.0}, {\"count\": 22, \"cutoff\": 3, \"userId\": 160, \"precision\": 0.0, \"recall\": 0.0}, {\"count\": 22, \"cutoff\": 4, \"userId\": 160, \"precision\": 0.0, \"recall\": 0.0}, {\"count\": 22, \"cutoff\": 5, \"userId\": 160, \"precision\": 0.0, \"recall\": 0.0}, {\"count\": 22, \"cutoff\": 6, \"userId\": 160, \"precision\": 0.0, \"recall\": 0.0}, {\"count\": 22, \"cutoff\": 7, \"userId\": 160, \"precision\": 0.0, \"recall\": 0.0}, {\"count\": 22, \"cutoff\": 8, \"userId\": 160, \"precision\": 0.0, \"recall\": 0.0}, {\"count\": 22, \"cutoff\": 9, \"userId\": 160, \"precision\": 0.0, \"recall\": 0.0}, {\"count\": 22, \"cutoff\": 10, \"userId\": 160, \"precision\": 0.0, \"recall\": 0.0}, {\"count\": 22, \"cutoff\": 11, \"userId\": 160, \"precision\": 0.0, \"recall\": 0.0}, {\"count\": 22, \"cutoff\": 16, \"userId\": 160, \"precision\": 0.0625, \"recall\": 0.045454545454545456}, {\"count\": 22, \"cutoff\": 21, \"userId\": 160, \"precision\": 0.047619047619047616, \"recall\": 0.045454545454545456}, {\"count\": 22, \"cutoff\": 26, \"userId\": 160, \"precision\": 0.038461538461538464, \"recall\": 0.045454545454545456}, {\"count\": 22, \"cutoff\": 31, \"userId\": 160, \"precision\": 0.03225806451612903, \"recall\": 0.045454545454545456}, {\"count\": 22, \"cutoff\": 36, \"userId\": 160, \"precision\": 0.05555555555555555, \"recall\": 0.09090909090909091}, {\"count\": 22, \"cutoff\": 41, \"userId\": 160, \"precision\": 0.04878048780487805, \"recall\": 0.09090909090909091}, {\"count\": 22, \"cutoff\": 46, \"userId\": 160, \"precision\": 0.043478260869565216, \"recall\": 0.09090909090909091}, {\"count\": 20, \"cutoff\": 1, \"userId\": 169, \"precision\": 0.0, \"recall\": 0.0}, {\"count\": 20, \"cutoff\": 2, \"userId\": 169, \"precision\": 0.0, \"recall\": 0.0}, {\"count\": 20, \"cutoff\": 3, \"userId\": 169, \"precision\": 0.0, \"recall\": 0.0}, {\"count\": 20, \"cutoff\": 4, \"userId\": 169, \"precision\": 0.0, \"recall\": 0.0}, {\"count\": 20, \"cutoff\": 5, \"userId\": 169, \"precision\": 0.0, \"recall\": 0.0}, {\"count\": 20, \"cutoff\": 6, \"userId\": 169, \"precision\": 0.0, \"recall\": 0.0}, {\"count\": 20, \"cutoff\": 7, \"userId\": 169, \"precision\": 0.0, \"recall\": 0.0}, {\"count\": 20, \"cutoff\": 8, \"userId\": 169, \"precision\": 0.0, \"recall\": 0.0}, {\"count\": 20, \"cutoff\": 9, \"userId\": 169, \"precision\": 0.0, \"recall\": 0.0}, {\"count\": 20, \"cutoff\": 10, \"userId\": 169, \"precision\": 0.0, \"recall\": 0.0}, {\"count\": 20, \"cutoff\": 11, \"userId\": 169, \"precision\": 0.0, \"recall\": 0.0}, {\"count\": 20, \"cutoff\": 16, \"userId\": 169, \"precision\": 0.0, \"recall\": 0.0}, {\"count\": 20, \"cutoff\": 21, \"userId\": 169, \"precision\": 0.047619047619047616, \"recall\": 0.05}, {\"count\": 20, \"cutoff\": 26, \"userId\": 169, \"precision\": 0.038461538461538464, \"recall\": 0.05}, {\"count\": 20, \"cutoff\": 31, \"userId\": 169, \"precision\": 0.06451612903225806, \"recall\": 0.1}, {\"count\": 20, \"cutoff\": 36, \"userId\": 169, \"precision\": 0.05555555555555555, \"recall\": 0.1}, {\"count\": 20, \"cutoff\": 41, \"userId\": 169, \"precision\": 0.04878048780487805, \"recall\": 0.1}, {\"count\": 20, \"cutoff\": 46, \"userId\": 169, \"precision\": 0.043478260869565216, \"recall\": 0.1}, {\"count\": 47, \"cutoff\": 1, \"userId\": 176, \"precision\": 0.0, \"recall\": 0.0}, {\"count\": 47, \"cutoff\": 2, \"userId\": 176, \"precision\": 0.0, \"recall\": 0.0}, {\"count\": 47, \"cutoff\": 3, \"userId\": 176, \"precision\": 0.0, \"recall\": 0.0}, {\"count\": 47, \"cutoff\": 4, \"userId\": 176, \"precision\": 0.0, \"recall\": 0.0}, {\"count\": 47, \"cutoff\": 5, \"userId\": 176, \"precision\": 0.0, \"recall\": 0.0}, {\"count\": 47, \"cutoff\": 6, \"userId\": 176, \"precision\": 0.0, \"recall\": 0.0}, {\"count\": 47, \"cutoff\": 7, \"userId\": 176, \"precision\": 0.14285714285714285, \"recall\": 0.02127659574468085}, {\"count\": 47, \"cutoff\": 8, \"userId\": 176, \"precision\": 0.125, \"recall\": 0.02127659574468085}, {\"count\": 47, \"cutoff\": 9, \"userId\": 176, \"precision\": 0.1111111111111111, \"recall\": 0.02127659574468085}, {\"count\": 47, \"cutoff\": 10, \"userId\": 176, \"precision\": 0.1, \"recall\": 0.02127659574468085}, {\"count\": 47, \"cutoff\": 11, \"userId\": 176, \"precision\": 0.09090909090909091, \"recall\": 0.02127659574468085}, {\"count\": 47, \"cutoff\": 16, \"userId\": 176, \"precision\": 0.0625, \"recall\": 0.02127659574468085}, {\"count\": 47, \"cutoff\": 21, \"userId\": 176, \"precision\": 0.047619047619047616, \"recall\": 0.02127659574468085}, {\"count\": 47, \"cutoff\": 26, \"userId\": 176, \"precision\": 0.038461538461538464, \"recall\": 0.02127659574468085}, {\"count\": 47, \"cutoff\": 31, \"userId\": 176, \"precision\": 0.06451612903225806, \"recall\": 0.0425531914893617}, {\"count\": 47, \"cutoff\": 36, \"userId\": 176, \"precision\": 0.05555555555555555, \"recall\": 0.0425531914893617}, {\"count\": 47, \"cutoff\": 41, \"userId\": 176, \"precision\": 0.04878048780487805, \"recall\": 0.0425531914893617}, {\"count\": 47, \"cutoff\": 46, \"userId\": 176, \"precision\": 0.043478260869565216, \"recall\": 0.0425531914893617}, {\"count\": 8, \"cutoff\": 1, \"userId\": 179, \"precision\": 0.0, \"recall\": 0.0}, {\"count\": 8, \"cutoff\": 2, \"userId\": 179, \"precision\": 0.0, \"recall\": 0.0}, {\"count\": 8, \"cutoff\": 3, \"userId\": 179, \"precision\": 0.0, \"recall\": 0.0}, {\"count\": 8, \"cutoff\": 4, \"userId\": 179, \"precision\": 0.0, \"recall\": 0.0}, {\"count\": 8, \"cutoff\": 5, \"userId\": 179, \"precision\": 0.0, \"recall\": 0.0}, {\"count\": 8, \"cutoff\": 6, \"userId\": 179, \"precision\": 0.0, \"recall\": 0.0}, {\"count\": 8, \"cutoff\": 7, \"userId\": 179, \"precision\": 0.0, \"recall\": 0.0}, {\"count\": 8, \"cutoff\": 8, \"userId\": 179, \"precision\": 0.0, \"recall\": 0.0}, {\"count\": 8, \"cutoff\": 9, \"userId\": 179, \"precision\": 0.0, \"recall\": 0.0}, {\"count\": 8, \"cutoff\": 10, \"userId\": 179, \"precision\": 0.0, \"recall\": 0.0}, {\"count\": 8, \"cutoff\": 11, \"userId\": 179, \"precision\": 0.0, \"recall\": 0.0}, {\"count\": 8, \"cutoff\": 16, \"userId\": 179, \"precision\": 0.0, \"recall\": 0.0}, {\"count\": 8, \"cutoff\": 21, \"userId\": 179, \"precision\": 0.0, \"recall\": 0.0}, {\"count\": 8, \"cutoff\": 26, \"userId\": 179, \"precision\": 0.0, \"recall\": 0.0}, {\"count\": 8, \"cutoff\": 31, \"userId\": 179, \"precision\": 0.0, \"recall\": 0.0}, {\"count\": 8, \"cutoff\": 36, \"userId\": 179, \"precision\": 0.0, \"recall\": 0.0}, {\"count\": 8, \"cutoff\": 41, \"userId\": 179, \"precision\": 0.0, \"recall\": 0.0}, {\"count\": 8, \"cutoff\": 46, \"userId\": 179, \"precision\": 0.0, \"recall\": 0.0}, {\"count\": 6, \"cutoff\": 1, \"userId\": 180, \"precision\": 0.0, \"recall\": 0.0}, {\"count\": 6, \"cutoff\": 2, \"userId\": 180, \"precision\": 0.0, \"recall\": 0.0}, {\"count\": 6, \"cutoff\": 3, \"userId\": 180, \"precision\": 0.0, \"recall\": 0.0}, {\"count\": 6, \"cutoff\": 4, \"userId\": 180, \"precision\": 0.0, \"recall\": 0.0}, {\"count\": 6, \"cutoff\": 5, \"userId\": 180, \"precision\": 0.0, \"recall\": 0.0}, {\"count\": 6, \"cutoff\": 6, \"userId\": 180, \"precision\": 0.0, \"recall\": 0.0}, {\"count\": 6, \"cutoff\": 7, \"userId\": 180, \"precision\": 0.0, \"recall\": 0.0}, {\"count\": 6, \"cutoff\": 8, \"userId\": 180, \"precision\": 0.0, \"recall\": 0.0}, {\"count\": 6, \"cutoff\": 9, \"userId\": 180, \"precision\": 0.0, \"recall\": 0.0}, {\"count\": 6, \"cutoff\": 10, \"userId\": 180, \"precision\": 0.0, \"recall\": 0.0}, {\"count\": 6, \"cutoff\": 11, \"userId\": 180, \"precision\": 0.0, \"recall\": 0.0}, {\"count\": 6, \"cutoff\": 16, \"userId\": 180, \"precision\": 0.0625, \"recall\": 0.16666666666666666}, {\"count\": 6, \"cutoff\": 21, \"userId\": 180, \"precision\": 0.047619047619047616, \"recall\": 0.16666666666666666}, {\"count\": 6, \"cutoff\": 26, \"userId\": 180, \"precision\": 0.038461538461538464, \"recall\": 0.16666666666666666}, {\"count\": 6, \"cutoff\": 31, \"userId\": 180, \"precision\": 0.03225806451612903, \"recall\": 0.16666666666666666}, {\"count\": 6, \"cutoff\": 36, \"userId\": 180, \"precision\": 0.027777777777777776, \"recall\": 0.16666666666666666}, {\"count\": 6, \"cutoff\": 41, \"userId\": 180, \"precision\": 0.024390243902439025, \"recall\": 0.16666666666666666}, {\"count\": 6, \"cutoff\": 46, \"userId\": 180, \"precision\": 0.021739130434782608, \"recall\": 0.16666666666666666}, {\"count\": 5, \"cutoff\": 1, \"userId\": 181, \"precision\": 0.0, \"recall\": 0.0}, {\"count\": 5, \"cutoff\": 2, \"userId\": 181, \"precision\": 0.0, \"recall\": 0.0}, {\"count\": 5, \"cutoff\": 3, \"userId\": 181, \"precision\": 0.3333333333333333, \"recall\": 0.2}, {\"count\": 5, \"cutoff\": 4, \"userId\": 181, \"precision\": 0.25, \"recall\": 0.2}, {\"count\": 5, \"cutoff\": 5, \"userId\": 181, \"precision\": 0.2, \"recall\": 0.2}, {\"count\": 5, \"cutoff\": 6, \"userId\": 181, \"precision\": 0.16666666666666666, \"recall\": 0.2}, {\"count\": 5, \"cutoff\": 7, \"userId\": 181, \"precision\": 0.14285714285714285, \"recall\": 0.2}, {\"count\": 5, \"cutoff\": 8, \"userId\": 181, \"precision\": 0.125, \"recall\": 0.2}, {\"count\": 5, \"cutoff\": 9, \"userId\": 181, \"precision\": 0.1111111111111111, \"recall\": 0.2}, {\"count\": 5, \"cutoff\": 10, \"userId\": 181, \"precision\": 0.1, \"recall\": 0.2}, {\"count\": 5, \"cutoff\": 11, \"userId\": 181, \"precision\": 0.09090909090909091, \"recall\": 0.2}, {\"count\": 5, \"cutoff\": 16, \"userId\": 181, \"precision\": 0.0625, \"recall\": 0.2}, {\"count\": 5, \"cutoff\": 21, \"userId\": 181, \"precision\": 0.047619047619047616, \"recall\": 0.2}, {\"count\": 5, \"cutoff\": 26, \"userId\": 181, \"precision\": 0.038461538461538464, \"recall\": 0.2}, {\"count\": 5, \"cutoff\": 31, \"userId\": 181, \"precision\": 0.03225806451612903, \"recall\": 0.2}, {\"count\": 5, \"cutoff\": 36, \"userId\": 181, \"precision\": 0.027777777777777776, \"recall\": 0.2}, {\"count\": 5, \"cutoff\": 41, \"userId\": 181, \"precision\": 0.024390243902439025, \"recall\": 0.2}, {\"count\": 5, \"cutoff\": 46, \"userId\": 181, \"precision\": 0.021739130434782608, \"recall\": 0.2}, {\"count\": 36, \"cutoff\": 1, \"userId\": 185, \"precision\": 1.0, \"recall\": 0.027777777777777776}, {\"count\": 36, \"cutoff\": 2, \"userId\": 185, \"precision\": 0.5, \"recall\": 0.027777777777777776}, {\"count\": 36, \"cutoff\": 3, \"userId\": 185, \"precision\": 0.6666666666666666, \"recall\": 0.05555555555555555}, {\"count\": 36, \"cutoff\": 4, \"userId\": 185, \"precision\": 0.5, \"recall\": 0.05555555555555555}, {\"count\": 36, \"cutoff\": 5, \"userId\": 185, \"precision\": 0.6, \"recall\": 0.08333333333333333}, {\"count\": 36, \"cutoff\": 6, \"userId\": 185, \"precision\": 0.6666666666666666, \"recall\": 0.1111111111111111}, {\"count\": 36, \"cutoff\": 7, \"userId\": 185, \"precision\": 0.5714285714285714, \"recall\": 0.1111111111111111}, {\"count\": 36, \"cutoff\": 8, \"userId\": 185, \"precision\": 0.5, \"recall\": 0.1111111111111111}, {\"count\": 36, \"cutoff\": 9, \"userId\": 185, \"precision\": 0.4444444444444444, \"recall\": 0.1111111111111111}, {\"count\": 36, \"cutoff\": 10, \"userId\": 185, \"precision\": 0.4, \"recall\": 0.1111111111111111}, {\"count\": 36, \"cutoff\": 11, \"userId\": 185, \"precision\": 0.36363636363636365, \"recall\": 0.1111111111111111}, {\"count\": 36, \"cutoff\": 16, \"userId\": 185, \"precision\": 0.25, \"recall\": 0.1111111111111111}, {\"count\": 36, \"cutoff\": 21, \"userId\": 185, \"precision\": 0.23809523809523808, \"recall\": 0.1388888888888889}, {\"count\": 36, \"cutoff\": 26, \"userId\": 185, \"precision\": 0.19230769230769232, \"recall\": 0.1388888888888889}, {\"count\": 36, \"cutoff\": 31, \"userId\": 185, \"precision\": 0.16129032258064516, \"recall\": 0.1388888888888889}, {\"count\": 36, \"cutoff\": 36, \"userId\": 185, \"precision\": 0.19444444444444445, \"recall\": 0.19444444444444445}, {\"count\": 36, \"cutoff\": 41, \"userId\": 185, \"precision\": 0.1951219512195122, \"recall\": 0.2222222222222222}, {\"count\": 36, \"cutoff\": 46, \"userId\": 185, \"precision\": 0.17391304347826086, \"recall\": 0.2222222222222222}, {\"count\": 64, \"cutoff\": 1, \"userId\": 187, \"precision\": 1.0, \"recall\": 0.015625}, {\"count\": 64, \"cutoff\": 2, \"userId\": 187, \"precision\": 0.5, \"recall\": 0.015625}, {\"count\": 64, \"cutoff\": 3, \"userId\": 187, \"precision\": 0.3333333333333333, \"recall\": 0.015625}, {\"count\": 64, \"cutoff\": 4, \"userId\": 187, \"precision\": 0.25, \"recall\": 0.015625}, {\"count\": 64, \"cutoff\": 5, \"userId\": 187, \"precision\": 0.2, \"recall\": 0.015625}, {\"count\": 64, \"cutoff\": 6, \"userId\": 187, \"precision\": 0.16666666666666666, \"recall\": 0.015625}, {\"count\": 64, \"cutoff\": 7, \"userId\": 187, \"precision\": 0.14285714285714285, \"recall\": 0.015625}, {\"count\": 64, \"cutoff\": 8, \"userId\": 187, \"precision\": 0.125, \"recall\": 0.015625}, {\"count\": 64, \"cutoff\": 9, \"userId\": 187, \"precision\": 0.1111111111111111, \"recall\": 0.015625}, {\"count\": 64, \"cutoff\": 10, \"userId\": 187, \"precision\": 0.1, \"recall\": 0.015625}, {\"count\": 64, \"cutoff\": 11, \"userId\": 187, \"precision\": 0.09090909090909091, \"recall\": 0.015625}, {\"count\": 64, \"cutoff\": 16, \"userId\": 187, \"precision\": 0.0625, \"recall\": 0.015625}, {\"count\": 64, \"cutoff\": 21, \"userId\": 187, \"precision\": 0.14285714285714285, \"recall\": 0.046875}, {\"count\": 64, \"cutoff\": 26, \"userId\": 187, \"precision\": 0.15384615384615385, \"recall\": 0.0625}, {\"count\": 64, \"cutoff\": 31, \"userId\": 187, \"precision\": 0.12903225806451613, \"recall\": 0.0625}, {\"count\": 64, \"cutoff\": 36, \"userId\": 187, \"precision\": 0.1111111111111111, \"recall\": 0.0625}, {\"count\": 64, \"cutoff\": 41, \"userId\": 187, \"precision\": 0.0975609756097561, \"recall\": 0.0625}, {\"count\": 64, \"cutoff\": 46, \"userId\": 187, \"precision\": 0.10869565217391304, \"recall\": 0.078125}, {\"count\": 21, \"cutoff\": 1, \"userId\": 193, \"precision\": 0.0, \"recall\": 0.0}, {\"count\": 21, \"cutoff\": 2, \"userId\": 193, \"precision\": 0.5, \"recall\": 0.047619047619047616}, {\"count\": 21, \"cutoff\": 3, \"userId\": 193, \"precision\": 0.3333333333333333, \"recall\": 0.047619047619047616}, {\"count\": 21, \"cutoff\": 4, \"userId\": 193, \"precision\": 0.5, \"recall\": 0.09523809523809523}, {\"count\": 21, \"cutoff\": 5, \"userId\": 193, \"precision\": 0.6, \"recall\": 0.14285714285714285}, {\"count\": 21, \"cutoff\": 6, \"userId\": 193, \"precision\": 0.5, \"recall\": 0.14285714285714285}, {\"count\": 21, \"cutoff\": 7, \"userId\": 193, \"precision\": 0.5714285714285714, \"recall\": 0.19047619047619047}, {\"count\": 21, \"cutoff\": 8, \"userId\": 193, \"precision\": 0.5, \"recall\": 0.19047619047619047}, {\"count\": 21, \"cutoff\": 9, \"userId\": 193, \"precision\": 0.4444444444444444, \"recall\": 0.19047619047619047}, {\"count\": 21, \"cutoff\": 10, \"userId\": 193, \"precision\": 0.4, \"recall\": 0.19047619047619047}, {\"count\": 21, \"cutoff\": 11, \"userId\": 193, \"precision\": 0.45454545454545453, \"recall\": 0.23809523809523808}, {\"count\": 21, \"cutoff\": 16, \"userId\": 193, \"precision\": 0.3125, \"recall\": 0.23809523809523808}, {\"count\": 21, \"cutoff\": 21, \"userId\": 193, \"precision\": 0.23809523809523808, \"recall\": 0.23809523809523808}, {\"count\": 21, \"cutoff\": 26, \"userId\": 193, \"precision\": 0.23076923076923078, \"recall\": 0.2857142857142857}, {\"count\": 21, \"cutoff\": 31, \"userId\": 193, \"precision\": 0.1935483870967742, \"recall\": 0.2857142857142857}, {\"count\": 21, \"cutoff\": 36, \"userId\": 193, \"precision\": 0.16666666666666666, \"recall\": 0.2857142857142857}, {\"count\": 21, \"cutoff\": 41, \"userId\": 193, \"precision\": 0.17073170731707318, \"recall\": 0.3333333333333333}, {\"count\": 21, \"cutoff\": 46, \"userId\": 193, \"precision\": 0.17391304347826086, \"recall\": 0.38095238095238093}, {\"count\": 21, \"cutoff\": 1, \"userId\": 197, \"precision\": 0.0, \"recall\": 0.0}, {\"count\": 21, \"cutoff\": 2, \"userId\": 197, \"precision\": 0.0, \"recall\": 0.0}, {\"count\": 21, \"cutoff\": 3, \"userId\": 197, \"precision\": 0.0, \"recall\": 0.0}, {\"count\": 21, \"cutoff\": 4, \"userId\": 197, \"precision\": 0.0, \"recall\": 0.0}, {\"count\": 21, \"cutoff\": 5, \"userId\": 197, \"precision\": 0.0, \"recall\": 0.0}, {\"count\": 21, \"cutoff\": 6, \"userId\": 197, \"precision\": 0.0, \"recall\": 0.0}, {\"count\": 21, \"cutoff\": 7, \"userId\": 197, \"precision\": 0.14285714285714285, \"recall\": 0.047619047619047616}, {\"count\": 21, \"cutoff\": 8, \"userId\": 197, \"precision\": 0.125, \"recall\": 0.047619047619047616}, {\"count\": 21, \"cutoff\": 9, \"userId\": 197, \"precision\": 0.1111111111111111, \"recall\": 0.047619047619047616}, {\"count\": 21, \"cutoff\": 10, \"userId\": 197, \"precision\": 0.1, \"recall\": 0.047619047619047616}, {\"count\": 21, \"cutoff\": 11, \"userId\": 197, \"precision\": 0.18181818181818182, \"recall\": 0.09523809523809523}, {\"count\": 21, \"cutoff\": 16, \"userId\": 197, \"precision\": 0.1875, \"recall\": 0.14285714285714285}, {\"count\": 21, \"cutoff\": 21, \"userId\": 197, \"precision\": 0.14285714285714285, \"recall\": 0.14285714285714285}, {\"count\": 21, \"cutoff\": 26, \"userId\": 197, \"precision\": 0.11538461538461539, \"recall\": 0.14285714285714285}, {\"count\": 21, \"cutoff\": 31, \"userId\": 197, \"precision\": 0.0967741935483871, \"recall\": 0.14285714285714285}, {\"count\": 21, \"cutoff\": 36, \"userId\": 197, \"precision\": 0.08333333333333333, \"recall\": 0.14285714285714285}, {\"count\": 21, \"cutoff\": 41, \"userId\": 197, \"precision\": 0.0975609756097561, \"recall\": 0.19047619047619047}, {\"count\": 21, \"cutoff\": 46, \"userId\": 197, \"precision\": 0.08695652173913043, \"recall\": 0.19047619047619047}, {\"count\": 50, \"cutoff\": 1, \"userId\": 200, \"precision\": 0.0, \"recall\": 0.0}, {\"count\": 50, \"cutoff\": 2, \"userId\": 200, \"precision\": 0.0, \"recall\": 0.0}, {\"count\": 50, \"cutoff\": 3, \"userId\": 200, \"precision\": 0.0, \"recall\": 0.0}, {\"count\": 50, \"cutoff\": 4, \"userId\": 200, \"precision\": 0.0, \"recall\": 0.0}, {\"count\": 50, \"cutoff\": 5, \"userId\": 200, \"precision\": 0.0, \"recall\": 0.0}, {\"count\": 50, \"cutoff\": 6, \"userId\": 200, \"precision\": 0.0, \"recall\": 0.0}, {\"count\": 50, \"cutoff\": 7, \"userId\": 200, \"precision\": 0.0, \"recall\": 0.0}, {\"count\": 50, \"cutoff\": 8, \"userId\": 200, \"precision\": 0.0, \"recall\": 0.0}, {\"count\": 50, \"cutoff\": 9, \"userId\": 200, \"precision\": 0.0, \"recall\": 0.0}, {\"count\": 50, \"cutoff\": 10, \"userId\": 200, \"precision\": 0.0, \"recall\": 0.0}, {\"count\": 50, \"cutoff\": 11, \"userId\": 200, \"precision\": 0.0, \"recall\": 0.0}, {\"count\": 50, \"cutoff\": 16, \"userId\": 200, \"precision\": 0.0, \"recall\": 0.0}, {\"count\": 50, \"cutoff\": 21, \"userId\": 200, \"precision\": 0.0, \"recall\": 0.0}, {\"count\": 50, \"cutoff\": 26, \"userId\": 200, \"precision\": 0.038461538461538464, \"recall\": 0.02}, {\"count\": 50, \"cutoff\": 31, \"userId\": 200, \"precision\": 0.03225806451612903, \"recall\": 0.02}, {\"count\": 50, \"cutoff\": 36, \"userId\": 200, \"precision\": 0.027777777777777776, \"recall\": 0.02}, {\"count\": 50, \"cutoff\": 41, \"userId\": 200, \"precision\": 0.024390243902439025, \"recall\": 0.02}, {\"count\": 50, \"cutoff\": 46, \"userId\": 200, \"precision\": 0.021739130434782608, \"recall\": 0.02}, {\"count\": 16, \"cutoff\": 1, \"userId\": 202, \"precision\": 0.0, \"recall\": 0.0}, {\"count\": 16, \"cutoff\": 2, \"userId\": 202, \"precision\": 0.0, \"recall\": 0.0}, {\"count\": 16, \"cutoff\": 3, \"userId\": 202, \"precision\": 0.0, \"recall\": 0.0}, {\"count\": 16, \"cutoff\": 4, \"userId\": 202, \"precision\": 0.0, \"recall\": 0.0}, {\"count\": 16, \"cutoff\": 5, \"userId\": 202, \"precision\": 0.0, \"recall\": 0.0}, {\"count\": 16, \"cutoff\": 6, \"userId\": 202, \"precision\": 0.0, \"recall\": 0.0}, {\"count\": 16, \"cutoff\": 7, \"userId\": 202, \"precision\": 0.0, \"recall\": 0.0}, {\"count\": 16, \"cutoff\": 8, \"userId\": 202, \"precision\": 0.0, \"recall\": 0.0}, {\"count\": 16, \"cutoff\": 9, \"userId\": 202, \"precision\": 0.0, \"recall\": 0.0}, {\"count\": 16, \"cutoff\": 10, \"userId\": 202, \"precision\": 0.0, \"recall\": 0.0}, {\"count\": 16, \"cutoff\": 11, \"userId\": 202, \"precision\": 0.0, \"recall\": 0.0}, {\"count\": 16, \"cutoff\": 16, \"userId\": 202, \"precision\": 0.0, \"recall\": 0.0}, {\"count\": 16, \"cutoff\": 21, \"userId\": 202, \"precision\": 0.047619047619047616, \"recall\": 0.0625}, {\"count\": 16, \"cutoff\": 26, \"userId\": 202, \"precision\": 0.038461538461538464, \"recall\": 0.0625}, {\"count\": 16, \"cutoff\": 31, \"userId\": 202, \"precision\": 0.03225806451612903, \"recall\": 0.0625}, {\"count\": 16, \"cutoff\": 36, \"userId\": 202, \"precision\": 0.027777777777777776, \"recall\": 0.0625}, {\"count\": 16, \"cutoff\": 41, \"userId\": 202, \"precision\": 0.024390243902439025, \"recall\": 0.0625}, {\"count\": 16, \"cutoff\": 46, \"userId\": 202, \"precision\": 0.021739130434782608, \"recall\": 0.0625}, {\"count\": 6, \"cutoff\": 1, \"userId\": 203, \"precision\": 1.0, \"recall\": 0.16666666666666666}, {\"count\": 6, \"cutoff\": 2, \"userId\": 203, \"precision\": 0.5, \"recall\": 0.16666666666666666}, {\"count\": 6, \"cutoff\": 3, \"userId\": 203, \"precision\": 0.3333333333333333, \"recall\": 0.16666666666666666}, {\"count\": 6, \"cutoff\": 4, \"userId\": 203, \"precision\": 0.25, \"recall\": 0.16666666666666666}, {\"count\": 6, \"cutoff\": 5, \"userId\": 203, \"precision\": 0.2, \"recall\": 0.16666666666666666}, {\"count\": 6, \"cutoff\": 6, \"userId\": 203, \"precision\": 0.16666666666666666, \"recall\": 0.16666666666666666}, {\"count\": 6, \"cutoff\": 7, \"userId\": 203, \"precision\": 0.14285714285714285, \"recall\": 0.16666666666666666}, {\"count\": 6, \"cutoff\": 8, \"userId\": 203, \"precision\": 0.125, \"recall\": 0.16666666666666666}, {\"count\": 6, \"cutoff\": 9, \"userId\": 203, \"precision\": 0.1111111111111111, \"recall\": 0.16666666666666666}, {\"count\": 6, \"cutoff\": 10, \"userId\": 203, \"precision\": 0.1, \"recall\": 0.16666666666666666}, {\"count\": 6, \"cutoff\": 11, \"userId\": 203, \"precision\": 0.09090909090909091, \"recall\": 0.16666666666666666}, {\"count\": 6, \"cutoff\": 16, \"userId\": 203, \"precision\": 0.0625, \"recall\": 0.16666666666666666}, {\"count\": 6, \"cutoff\": 21, \"userId\": 203, \"precision\": 0.047619047619047616, \"recall\": 0.16666666666666666}, {\"count\": 6, \"cutoff\": 26, \"userId\": 203, \"precision\": 0.038461538461538464, \"recall\": 0.16666666666666666}, {\"count\": 6, \"cutoff\": 31, \"userId\": 203, \"precision\": 0.03225806451612903, \"recall\": 0.16666666666666666}, {\"count\": 6, \"cutoff\": 36, \"userId\": 203, \"precision\": 0.027777777777777776, \"recall\": 0.16666666666666666}, {\"count\": 6, \"cutoff\": 41, \"userId\": 203, \"precision\": 0.024390243902439025, \"recall\": 0.16666666666666666}, {\"count\": 6, \"cutoff\": 46, \"userId\": 203, \"precision\": 0.021739130434782608, \"recall\": 0.16666666666666666}, {\"count\": 11, \"cutoff\": 1, \"userId\": 207, \"precision\": 0.0, \"recall\": 0.0}, {\"count\": 11, \"cutoff\": 2, \"userId\": 207, \"precision\": 0.0, \"recall\": 0.0}, {\"count\": 11, \"cutoff\": 3, \"userId\": 207, \"precision\": 0.0, \"recall\": 0.0}, {\"count\": 11, \"cutoff\": 4, \"userId\": 207, \"precision\": 0.0, \"recall\": 0.0}, {\"count\": 11, \"cutoff\": 5, \"userId\": 207, \"precision\": 0.0, \"recall\": 0.0}, {\"count\": 11, \"cutoff\": 6, \"userId\": 207, \"precision\": 0.16666666666666666, \"recall\": 0.09090909090909091}, {\"count\": 11, \"cutoff\": 7, \"userId\": 207, \"precision\": 0.14285714285714285, \"recall\": 0.09090909090909091}, {\"count\": 11, \"cutoff\": 8, \"userId\": 207, \"precision\": 0.125, \"recall\": 0.09090909090909091}, {\"count\": 11, \"cutoff\": 9, \"userId\": 207, \"precision\": 0.1111111111111111, \"recall\": 0.09090909090909091}, {\"count\": 11, \"cutoff\": 10, \"userId\": 207, \"precision\": 0.1, \"recall\": 0.09090909090909091}, {\"count\": 11, \"cutoff\": 11, \"userId\": 207, \"precision\": 0.09090909090909091, \"recall\": 0.09090909090909091}, {\"count\": 11, \"cutoff\": 16, \"userId\": 207, \"precision\": 0.0625, \"recall\": 0.09090909090909091}, {\"count\": 11, \"cutoff\": 21, \"userId\": 207, \"precision\": 0.047619047619047616, \"recall\": 0.09090909090909091}, {\"count\": 11, \"cutoff\": 26, \"userId\": 207, \"precision\": 0.038461538461538464, \"recall\": 0.09090909090909091}, {\"count\": 11, \"cutoff\": 31, \"userId\": 207, \"precision\": 0.03225806451612903, \"recall\": 0.09090909090909091}, {\"count\": 11, \"cutoff\": 36, \"userId\": 207, \"precision\": 0.027777777777777776, \"recall\": 0.09090909090909091}, {\"count\": 11, \"cutoff\": 41, \"userId\": 207, \"precision\": 0.024390243902439025, \"recall\": 0.09090909090909091}, {\"count\": 11, \"cutoff\": 46, \"userId\": 207, \"precision\": 0.021739130434782608, \"recall\": 0.09090909090909091}, {\"count\": 12, \"cutoff\": 1, \"userId\": 228, \"precision\": 0.0, \"recall\": 0.0}, {\"count\": 12, \"cutoff\": 2, \"userId\": 228, \"precision\": 0.0, \"recall\": 0.0}, {\"count\": 12, \"cutoff\": 3, \"userId\": 228, \"precision\": 0.0, \"recall\": 0.0}, {\"count\": 12, \"cutoff\": 4, \"userId\": 228, \"precision\": 0.0, \"recall\": 0.0}, {\"count\": 12, \"cutoff\": 5, \"userId\": 228, \"precision\": 0.0, \"recall\": 0.0}, {\"count\": 12, \"cutoff\": 6, \"userId\": 228, \"precision\": 0.16666666666666666, \"recall\": 0.08333333333333333}, {\"count\": 12, \"cutoff\": 7, \"userId\": 228, \"precision\": 0.14285714285714285, \"recall\": 0.08333333333333333}, {\"count\": 12, \"cutoff\": 8, \"userId\": 228, \"precision\": 0.125, \"recall\": 0.08333333333333333}, {\"count\": 12, \"cutoff\": 9, \"userId\": 228, \"precision\": 0.1111111111111111, \"recall\": 0.08333333333333333}, {\"count\": 12, \"cutoff\": 10, \"userId\": 228, \"precision\": 0.2, \"recall\": 0.16666666666666666}, {\"count\": 12, \"cutoff\": 11, \"userId\": 228, \"precision\": 0.18181818181818182, \"recall\": 0.16666666666666666}, {\"count\": 12, \"cutoff\": 16, \"userId\": 228, \"precision\": 0.1875, \"recall\": 0.25}, {\"count\": 12, \"cutoff\": 21, \"userId\": 228, \"precision\": 0.14285714285714285, \"recall\": 0.25}, {\"count\": 12, \"cutoff\": 26, \"userId\": 228, \"precision\": 0.11538461538461539, \"recall\": 0.25}, {\"count\": 12, \"cutoff\": 31, \"userId\": 228, \"precision\": 0.0967741935483871, \"recall\": 0.25}, {\"count\": 12, \"cutoff\": 36, \"userId\": 228, \"precision\": 0.08333333333333333, \"recall\": 0.25}, {\"count\": 12, \"cutoff\": 41, \"userId\": 228, \"precision\": 0.07317073170731707, \"recall\": 0.25}, {\"count\": 12, \"cutoff\": 46, \"userId\": 228, \"precision\": 0.06521739130434782, \"recall\": 0.25}, {\"count\": 142, \"cutoff\": 1, \"userId\": 232, \"precision\": 0.0, \"recall\": 0.0}, {\"count\": 142, \"cutoff\": 2, \"userId\": 232, \"precision\": 0.5, \"recall\": 0.007042253521126761}, {\"count\": 142, \"cutoff\": 3, \"userId\": 232, \"precision\": 0.6666666666666666, \"recall\": 0.014084507042253521}, {\"count\": 142, \"cutoff\": 4, \"userId\": 232, \"precision\": 0.5, \"recall\": 0.014084507042253521}, {\"count\": 142, \"cutoff\": 5, \"userId\": 232, \"precision\": 0.4, \"recall\": 0.014084507042253521}, {\"count\": 142, \"cutoff\": 6, \"userId\": 232, \"precision\": 0.3333333333333333, \"recall\": 0.014084507042253521}, {\"count\": 142, \"cutoff\": 7, \"userId\": 232, \"precision\": 0.2857142857142857, \"recall\": 0.014084507042253521}, {\"count\": 142, \"cutoff\": 8, \"userId\": 232, \"precision\": 0.25, \"recall\": 0.014084507042253521}, {\"count\": 142, \"cutoff\": 9, \"userId\": 232, \"precision\": 0.2222222222222222, \"recall\": 0.014084507042253521}, {\"count\": 142, \"cutoff\": 10, \"userId\": 232, \"precision\": 0.2, \"recall\": 0.014084507042253521}, {\"count\": 142, \"cutoff\": 11, \"userId\": 232, \"precision\": 0.2727272727272727, \"recall\": 0.02112676056338028}, {\"count\": 142, \"cutoff\": 16, \"userId\": 232, \"precision\": 0.3125, \"recall\": 0.035211267605633804}, {\"count\": 142, \"cutoff\": 21, \"userId\": 232, \"precision\": 0.38095238095238093, \"recall\": 0.056338028169014086}, {\"count\": 142, \"cutoff\": 26, \"userId\": 232, \"precision\": 0.38461538461538464, \"recall\": 0.07042253521126761}, {\"count\": 142, \"cutoff\": 31, \"userId\": 232, \"precision\": 0.3225806451612903, \"recall\": 0.07042253521126761}, {\"count\": 142, \"cutoff\": 36, \"userId\": 232, \"precision\": 0.2777777777777778, \"recall\": 0.07042253521126761}, {\"count\": 142, \"cutoff\": 41, \"userId\": 232, \"precision\": 0.2682926829268293, \"recall\": 0.07746478873239436}, {\"count\": 142, \"cutoff\": 46, \"userId\": 232, \"precision\": 0.30434782608695654, \"recall\": 0.09859154929577464}, {\"count\": 9, \"cutoff\": 1, \"userId\": 241, \"precision\": 0.0, \"recall\": 0.0}, {\"count\": 9, \"cutoff\": 2, \"userId\": 241, \"precision\": 0.5, \"recall\": 0.1111111111111111}, {\"count\": 9, \"cutoff\": 3, \"userId\": 241, \"precision\": 0.3333333333333333, \"recall\": 0.1111111111111111}, {\"count\": 9, \"cutoff\": 4, \"userId\": 241, \"precision\": 0.25, \"recall\": 0.1111111111111111}, {\"count\": 9, \"cutoff\": 5, \"userId\": 241, \"precision\": 0.2, \"recall\": 0.1111111111111111}, {\"count\": 9, \"cutoff\": 6, \"userId\": 241, \"precision\": 0.16666666666666666, \"recall\": 0.1111111111111111}, {\"count\": 9, \"cutoff\": 7, \"userId\": 241, \"precision\": 0.14285714285714285, \"recall\": 0.1111111111111111}, {\"count\": 9, \"cutoff\": 8, \"userId\": 241, \"precision\": 0.125, \"recall\": 0.1111111111111111}, {\"count\": 9, \"cutoff\": 9, \"userId\": 241, \"precision\": 0.1111111111111111, \"recall\": 0.1111111111111111}, {\"count\": 9, \"cutoff\": 10, \"userId\": 241, \"precision\": 0.1, \"recall\": 0.1111111111111111}, {\"count\": 9, \"cutoff\": 11, \"userId\": 241, \"precision\": 0.09090909090909091, \"recall\": 0.1111111111111111}, {\"count\": 9, \"cutoff\": 16, \"userId\": 241, \"precision\": 0.0625, \"recall\": 0.1111111111111111}, {\"count\": 9, \"cutoff\": 21, \"userId\": 241, \"precision\": 0.047619047619047616, \"recall\": 0.1111111111111111}, {\"count\": 9, \"cutoff\": 26, \"userId\": 241, \"precision\": 0.038461538461538464, \"recall\": 0.1111111111111111}, {\"count\": 9, \"cutoff\": 31, \"userId\": 241, \"precision\": 0.03225806451612903, \"recall\": 0.1111111111111111}, {\"count\": 9, \"cutoff\": 36, \"userId\": 241, \"precision\": 0.027777777777777776, \"recall\": 0.1111111111111111}, {\"count\": 9, \"cutoff\": 41, \"userId\": 241, \"precision\": 0.024390243902439025, \"recall\": 0.1111111111111111}, {\"count\": 9, \"cutoff\": 46, \"userId\": 241, \"precision\": 0.043478260869565216, \"recall\": 0.2222222222222222}, {\"count\": 27, \"cutoff\": 1, \"userId\": 245, \"precision\": 0.0, \"recall\": 0.0}, {\"count\": 27, \"cutoff\": 2, \"userId\": 245, \"precision\": 0.5, \"recall\": 0.037037037037037035}, {\"count\": 27, \"cutoff\": 3, \"userId\": 245, \"precision\": 0.3333333333333333, \"recall\": 0.037037037037037035}, {\"count\": 27, \"cutoff\": 4, \"userId\": 245, \"precision\": 0.25, \"recall\": 0.037037037037037035}, {\"count\": 27, \"cutoff\": 5, \"userId\": 245, \"precision\": 0.2, \"recall\": 0.037037037037037035}, {\"count\": 27, \"cutoff\": 6, \"userId\": 245, \"precision\": 0.16666666666666666, \"recall\": 0.037037037037037035}, {\"count\": 27, \"cutoff\": 7, \"userId\": 245, \"precision\": 0.14285714285714285, \"recall\": 0.037037037037037035}, {\"count\": 27, \"cutoff\": 8, \"userId\": 245, \"precision\": 0.25, \"recall\": 0.07407407407407407}, {\"count\": 27, \"cutoff\": 9, \"userId\": 245, \"precision\": 0.2222222222222222, \"recall\": 0.07407407407407407}, {\"count\": 27, \"cutoff\": 10, \"userId\": 245, \"precision\": 0.2, \"recall\": 0.07407407407407407}, {\"count\": 27, \"cutoff\": 11, \"userId\": 245, \"precision\": 0.18181818181818182, \"recall\": 0.07407407407407407}, {\"count\": 27, \"cutoff\": 16, \"userId\": 245, \"precision\": 0.125, \"recall\": 0.07407407407407407}, {\"count\": 27, \"cutoff\": 21, \"userId\": 245, \"precision\": 0.14285714285714285, \"recall\": 0.1111111111111111}, {\"count\": 27, \"cutoff\": 26, \"userId\": 245, \"precision\": 0.11538461538461539, \"recall\": 0.1111111111111111}, {\"count\": 27, \"cutoff\": 31, \"userId\": 245, \"precision\": 0.0967741935483871, \"recall\": 0.1111111111111111}, {\"count\": 27, \"cutoff\": 36, \"userId\": 245, \"precision\": 0.1111111111111111, \"recall\": 0.14814814814814814}, {\"count\": 27, \"cutoff\": 41, \"userId\": 245, \"precision\": 0.0975609756097561, \"recall\": 0.14814814814814814}, {\"count\": 27, \"cutoff\": 46, \"userId\": 245, \"precision\": 0.08695652173913043, \"recall\": 0.14814814814814814}, {\"count\": 26, \"cutoff\": 1, \"userId\": 251, \"precision\": 0.0, \"recall\": 0.0}, {\"count\": 26, \"cutoff\": 2, \"userId\": 251, \"precision\": 0.0, \"recall\": 0.0}, {\"count\": 26, \"cutoff\": 3, \"userId\": 251, \"precision\": 0.0, \"recall\": 0.0}, {\"count\": 26, \"cutoff\": 4, \"userId\": 251, \"precision\": 0.0, \"recall\": 0.0}, {\"count\": 26, \"cutoff\": 5, \"userId\": 251, \"precision\": 0.0, \"recall\": 0.0}, {\"count\": 26, \"cutoff\": 6, \"userId\": 251, \"precision\": 0.0, \"recall\": 0.0}, {\"count\": 26, \"cutoff\": 7, \"userId\": 251, \"precision\": 0.0, \"recall\": 0.0}, {\"count\": 26, \"cutoff\": 8, \"userId\": 251, \"precision\": 0.0, \"recall\": 0.0}, {\"count\": 26, \"cutoff\": 9, \"userId\": 251, \"precision\": 0.0, \"recall\": 0.0}, {\"count\": 26, \"cutoff\": 10, \"userId\": 251, \"precision\": 0.0, \"recall\": 0.0}, {\"count\": 26, \"cutoff\": 11, \"userId\": 251, \"precision\": 0.0, \"recall\": 0.0}, {\"count\": 26, \"cutoff\": 16, \"userId\": 251, \"precision\": 0.125, \"recall\": 0.07692307692307693}, {\"count\": 26, \"cutoff\": 21, \"userId\": 251, \"precision\": 0.14285714285714285, \"recall\": 0.11538461538461539}, {\"count\": 26, \"cutoff\": 26, \"userId\": 251, \"precision\": 0.11538461538461539, \"recall\": 0.11538461538461539}, {\"count\": 26, \"cutoff\": 31, \"userId\": 251, \"precision\": 0.0967741935483871, \"recall\": 0.11538461538461539}, {\"count\": 26, \"cutoff\": 36, \"userId\": 251, \"precision\": 0.1111111111111111, \"recall\": 0.15384615384615385}, {\"count\": 26, \"cutoff\": 41, \"userId\": 251, \"precision\": 0.0975609756097561, \"recall\": 0.15384615384615385}, {\"count\": 26, \"cutoff\": 46, \"userId\": 251, \"precision\": 0.08695652173913043, \"recall\": 0.15384615384615385}, {\"count\": 28, \"cutoff\": 1, \"userId\": 254, \"precision\": 0.0, \"recall\": 0.0}, {\"count\": 28, \"cutoff\": 2, \"userId\": 254, \"precision\": 0.5, \"recall\": 0.03571428571428571}, {\"count\": 28, \"cutoff\": 3, \"userId\": 254, \"precision\": 0.3333333333333333, \"recall\": 0.03571428571428571}, {\"count\": 28, \"cutoff\": 4, \"userId\": 254, \"precision\": 0.25, \"recall\": 0.03571428571428571}, {\"count\": 28, \"cutoff\": 5, \"userId\": 254, \"precision\": 0.2, \"recall\": 0.03571428571428571}, {\"count\": 28, \"cutoff\": 6, \"userId\": 254, \"precision\": 0.16666666666666666, \"recall\": 0.03571428571428571}, {\"count\": 28, \"cutoff\": 7, \"userId\": 254, \"precision\": 0.14285714285714285, \"recall\": 0.03571428571428571}, {\"count\": 28, \"cutoff\": 8, \"userId\": 254, \"precision\": 0.125, \"recall\": 0.03571428571428571}, {\"count\": 28, \"cutoff\": 9, \"userId\": 254, \"precision\": 0.2222222222222222, \"recall\": 0.07142857142857142}, {\"count\": 28, \"cutoff\": 10, \"userId\": 254, \"precision\": 0.2, \"recall\": 0.07142857142857142}, {\"count\": 28, \"cutoff\": 11, \"userId\": 254, \"precision\": 0.18181818181818182, \"recall\": 0.07142857142857142}, {\"count\": 28, \"cutoff\": 16, \"userId\": 254, \"precision\": 0.125, \"recall\": 0.07142857142857142}, {\"count\": 28, \"cutoff\": 21, \"userId\": 254, \"precision\": 0.09523809523809523, \"recall\": 0.07142857142857142}, {\"count\": 28, \"cutoff\": 26, \"userId\": 254, \"precision\": 0.07692307692307693, \"recall\": 0.07142857142857142}, {\"count\": 28, \"cutoff\": 31, \"userId\": 254, \"precision\": 0.06451612903225806, \"recall\": 0.07142857142857142}, {\"count\": 28, \"cutoff\": 36, \"userId\": 254, \"precision\": 0.05555555555555555, \"recall\": 0.07142857142857142}, {\"count\": 28, \"cutoff\": 41, \"userId\": 254, \"precision\": 0.07317073170731707, \"recall\": 0.10714285714285714}, {\"count\": 28, \"cutoff\": 46, \"userId\": 254, \"precision\": 0.06521739130434782, \"recall\": 0.10714285714285714}, {\"count\": 5, \"cutoff\": 1, \"userId\": 256, \"precision\": 0.0, \"recall\": 0.0}, {\"count\": 5, \"cutoff\": 2, \"userId\": 256, \"precision\": 0.0, \"recall\": 0.0}, {\"count\": 5, \"cutoff\": 3, \"userId\": 256, \"precision\": 0.0, \"recall\": 0.0}, {\"count\": 5, \"cutoff\": 4, \"userId\": 256, \"precision\": 0.0, \"recall\": 0.0}, {\"count\": 5, \"cutoff\": 5, \"userId\": 256, \"precision\": 0.0, \"recall\": 0.0}, {\"count\": 5, \"cutoff\": 6, \"userId\": 256, \"precision\": 0.0, \"recall\": 0.0}, {\"count\": 5, \"cutoff\": 7, \"userId\": 256, \"precision\": 0.0, \"recall\": 0.0}, {\"count\": 5, \"cutoff\": 8, \"userId\": 256, \"precision\": 0.0, \"recall\": 0.0}, {\"count\": 5, \"cutoff\": 9, \"userId\": 256, \"precision\": 0.0, \"recall\": 0.0}, {\"count\": 5, \"cutoff\": 10, \"userId\": 256, \"precision\": 0.0, \"recall\": 0.0}, {\"count\": 5, \"cutoff\": 11, \"userId\": 256, \"precision\": 0.0, \"recall\": 0.0}, {\"count\": 5, \"cutoff\": 16, \"userId\": 256, \"precision\": 0.0, \"recall\": 0.0}, {\"count\": 5, \"cutoff\": 21, \"userId\": 256, \"precision\": 0.0, \"recall\": 0.0}, {\"count\": 5, \"cutoff\": 26, \"userId\": 256, \"precision\": 0.0, \"recall\": 0.0}, {\"count\": 5, \"cutoff\": 31, \"userId\": 256, \"precision\": 0.0, \"recall\": 0.0}, {\"count\": 5, \"cutoff\": 36, \"userId\": 256, \"precision\": 0.0, \"recall\": 0.0}, {\"count\": 5, \"cutoff\": 41, \"userId\": 256, \"precision\": 0.0, \"recall\": 0.0}, {\"count\": 5, \"cutoff\": 46, \"userId\": 256, \"precision\": 0.0, \"recall\": 0.0}, {\"count\": 18, \"cutoff\": 1, \"userId\": 263, \"precision\": 0.0, \"recall\": 0.0}, {\"count\": 18, \"cutoff\": 2, \"userId\": 263, \"precision\": 0.0, \"recall\": 0.0}, {\"count\": 18, \"cutoff\": 3, \"userId\": 263, \"precision\": 0.0, \"recall\": 0.0}, {\"count\": 18, \"cutoff\": 4, \"userId\": 263, \"precision\": 0.0, \"recall\": 0.0}, {\"count\": 18, \"cutoff\": 5, \"userId\": 263, \"precision\": 0.0, \"recall\": 0.0}, {\"count\": 18, \"cutoff\": 6, \"userId\": 263, \"precision\": 0.0, \"recall\": 0.0}, {\"count\": 18, \"cutoff\": 7, \"userId\": 263, \"precision\": 0.0, \"recall\": 0.0}, {\"count\": 18, \"cutoff\": 8, \"userId\": 263, \"precision\": 0.0, \"recall\": 0.0}, {\"count\": 18, \"cutoff\": 9, \"userId\": 263, \"precision\": 0.1111111111111111, \"recall\": 0.05555555555555555}, {\"count\": 18, \"cutoff\": 10, \"userId\": 263, \"precision\": 0.1, \"recall\": 0.05555555555555555}, {\"count\": 18, \"cutoff\": 11, \"userId\": 263, \"precision\": 0.09090909090909091, \"recall\": 0.05555555555555555}, {\"count\": 18, \"cutoff\": 16, \"userId\": 263, \"precision\": 0.125, \"recall\": 0.1111111111111111}, {\"count\": 18, \"cutoff\": 21, \"userId\": 263, \"precision\": 0.09523809523809523, \"recall\": 0.1111111111111111}, {\"count\": 18, \"cutoff\": 26, \"userId\": 263, \"precision\": 0.07692307692307693, \"recall\": 0.1111111111111111}, {\"count\": 18, \"cutoff\": 31, \"userId\": 263, \"precision\": 0.06451612903225806, \"recall\": 0.1111111111111111}, {\"count\": 18, \"cutoff\": 36, \"userId\": 263, \"precision\": 0.05555555555555555, \"recall\": 0.1111111111111111}, {\"count\": 18, \"cutoff\": 41, \"userId\": 263, \"precision\": 0.07317073170731707, \"recall\": 0.16666666666666666}, {\"count\": 18, \"cutoff\": 46, \"userId\": 263, \"precision\": 0.06521739130434782, \"recall\": 0.16666666666666666}, {\"count\": 7, \"cutoff\": 1, \"userId\": 264, \"precision\": 0.0, \"recall\": 0.0}, {\"count\": 7, \"cutoff\": 2, \"userId\": 264, \"precision\": 0.0, \"recall\": 0.0}, {\"count\": 7, \"cutoff\": 3, \"userId\": 264, \"precision\": 0.0, \"recall\": 0.0}, {\"count\": 7, \"cutoff\": 4, \"userId\": 264, \"precision\": 0.0, \"recall\": 0.0}, {\"count\": 7, \"cutoff\": 5, \"userId\": 264, \"precision\": 0.0, \"recall\": 0.0}, {\"count\": 7, \"cutoff\": 6, \"userId\": 264, \"precision\": 0.0, \"recall\": 0.0}, {\"count\": 7, \"cutoff\": 7, \"userId\": 264, \"precision\": 0.0, \"recall\": 0.0}, {\"count\": 7, \"cutoff\": 8, \"userId\": 264, \"precision\": 0.0, \"recall\": 0.0}, {\"count\": 7, \"cutoff\": 9, \"userId\": 264, \"precision\": 0.0, \"recall\": 0.0}, {\"count\": 7, \"cutoff\": 10, \"userId\": 264, \"precision\": 0.0, \"recall\": 0.0}, {\"count\": 7, \"cutoff\": 11, \"userId\": 264, \"precision\": 0.0, \"recall\": 0.0}, {\"count\": 7, \"cutoff\": 16, \"userId\": 264, \"precision\": 0.0625, \"recall\": 0.14285714285714285}, {\"count\": 7, \"cutoff\": 21, \"userId\": 264, \"precision\": 0.047619047619047616, \"recall\": 0.14285714285714285}, {\"count\": 7, \"cutoff\": 26, \"userId\": 264, \"precision\": 0.038461538461538464, \"recall\": 0.14285714285714285}, {\"count\": 7, \"cutoff\": 31, \"userId\": 264, \"precision\": 0.03225806451612903, \"recall\": 0.14285714285714285}, {\"count\": 7, \"cutoff\": 36, \"userId\": 264, \"precision\": 0.027777777777777776, \"recall\": 0.14285714285714285}, {\"count\": 7, \"cutoff\": 41, \"userId\": 264, \"precision\": 0.024390243902439025, \"recall\": 0.14285714285714285}, {\"count\": 7, \"cutoff\": 46, \"userId\": 264, \"precision\": 0.021739130434782608, \"recall\": 0.14285714285714285}, {\"count\": 77, \"cutoff\": 1, \"userId\": 268, \"precision\": 1.0, \"recall\": 0.012987012987012988}, {\"count\": 77, \"cutoff\": 2, \"userId\": 268, \"precision\": 1.0, \"recall\": 0.025974025974025976}, {\"count\": 77, \"cutoff\": 3, \"userId\": 268, \"precision\": 1.0, \"recall\": 0.03896103896103896}, {\"count\": 77, \"cutoff\": 4, \"userId\": 268, \"precision\": 0.75, \"recall\": 0.03896103896103896}, {\"count\": 77, \"cutoff\": 5, \"userId\": 268, \"precision\": 0.8, \"recall\": 0.05194805194805195}, {\"count\": 77, \"cutoff\": 6, \"userId\": 268, \"precision\": 0.8333333333333334, \"recall\": 0.06493506493506493}, {\"count\": 77, \"cutoff\": 7, \"userId\": 268, \"precision\": 0.8571428571428571, \"recall\": 0.07792207792207792}, {\"count\": 77, \"cutoff\": 8, \"userId\": 268, \"precision\": 0.75, \"recall\": 0.07792207792207792}, {\"count\": 77, \"cutoff\": 9, \"userId\": 268, \"precision\": 0.7777777777777778, \"recall\": 0.09090909090909091}, {\"count\": 77, \"cutoff\": 10, \"userId\": 268, \"precision\": 0.8, \"recall\": 0.1038961038961039}, {\"count\": 77, \"cutoff\": 11, \"userId\": 268, \"precision\": 0.8181818181818182, \"recall\": 0.11688311688311688}, {\"count\": 77, \"cutoff\": 16, \"userId\": 268, \"precision\": 0.875, \"recall\": 0.18181818181818182}, {\"count\": 77, \"cutoff\": 21, \"userId\": 268, \"precision\": 0.8095238095238095, \"recall\": 0.22077922077922077}, {\"count\": 77, \"cutoff\": 26, \"userId\": 268, \"precision\": 0.7307692307692307, \"recall\": 0.24675324675324675}, {\"count\": 77, \"cutoff\": 31, \"userId\": 268, \"precision\": 0.6451612903225806, \"recall\": 0.2597402597402597}, {\"count\": 77, \"cutoff\": 36, \"userId\": 268, \"precision\": 0.6111111111111112, \"recall\": 0.2857142857142857}, {\"count\": 77, \"cutoff\": 41, \"userId\": 268, \"precision\": 0.5853658536585366, \"recall\": 0.3116883116883117}, {\"count\": 77, \"cutoff\": 46, \"userId\": 268, \"precision\": 0.5434782608695652, \"recall\": 0.3246753246753247}, {\"count\": 12, \"cutoff\": 1, \"userId\": 277, \"precision\": 0.0, \"recall\": 0.0}, {\"count\": 12, \"cutoff\": 2, \"userId\": 277, \"precision\": 0.0, \"recall\": 0.0}, {\"count\": 12, \"cutoff\": 3, \"userId\": 277, \"precision\": 0.0, \"recall\": 0.0}, {\"count\": 12, \"cutoff\": 4, \"userId\": 277, \"precision\": 0.25, \"recall\": 0.08333333333333333}, {\"count\": 12, \"cutoff\": 5, \"userId\": 277, \"precision\": 0.2, \"recall\": 0.08333333333333333}, {\"count\": 12, \"cutoff\": 6, \"userId\": 277, \"precision\": 0.16666666666666666, \"recall\": 0.08333333333333333}, {\"count\": 12, \"cutoff\": 7, \"userId\": 277, \"precision\": 0.14285714285714285, \"recall\": 0.08333333333333333}, {\"count\": 12, \"cutoff\": 8, \"userId\": 277, \"precision\": 0.125, \"recall\": 0.08333333333333333}, {\"count\": 12, \"cutoff\": 9, \"userId\": 277, \"precision\": 0.1111111111111111, \"recall\": 0.08333333333333333}, {\"count\": 12, \"cutoff\": 10, \"userId\": 277, \"precision\": 0.2, \"recall\": 0.16666666666666666}, {\"count\": 12, \"cutoff\": 11, \"userId\": 277, \"precision\": 0.2727272727272727, \"recall\": 0.25}, {\"count\": 12, \"cutoff\": 16, \"userId\": 277, \"precision\": 0.1875, \"recall\": 0.25}, {\"count\": 12, \"cutoff\": 21, \"userId\": 277, \"precision\": 0.14285714285714285, \"recall\": 0.25}, {\"count\": 12, \"cutoff\": 26, \"userId\": 277, \"precision\": 0.11538461538461539, \"recall\": 0.25}, {\"count\": 12, \"cutoff\": 31, \"userId\": 277, \"precision\": 0.12903225806451613, \"recall\": 0.3333333333333333}, {\"count\": 12, \"cutoff\": 36, \"userId\": 277, \"precision\": 0.1111111111111111, \"recall\": 0.3333333333333333}, {\"count\": 12, \"cutoff\": 41, \"userId\": 277, \"precision\": 0.0975609756097561, \"recall\": 0.3333333333333333}, {\"count\": 12, \"cutoff\": 46, \"userId\": 277, \"precision\": 0.08695652173913043, \"recall\": 0.3333333333333333}, {\"count\": 23, \"cutoff\": 1, \"userId\": 282, \"precision\": 0.0, \"recall\": 0.0}, {\"count\": 23, \"cutoff\": 2, \"userId\": 282, \"precision\": 0.0, \"recall\": 0.0}, {\"count\": 23, \"cutoff\": 3, \"userId\": 282, \"precision\": 0.0, \"recall\": 0.0}, {\"count\": 23, \"cutoff\": 4, \"userId\": 282, \"precision\": 0.25, \"recall\": 0.043478260869565216}, {\"count\": 23, \"cutoff\": 5, \"userId\": 282, \"precision\": 0.2, \"recall\": 0.043478260869565216}, {\"count\": 23, \"cutoff\": 6, \"userId\": 282, \"precision\": 0.16666666666666666, \"recall\": 0.043478260869565216}, {\"count\": 23, \"cutoff\": 7, \"userId\": 282, \"precision\": 0.14285714285714285, \"recall\": 0.043478260869565216}, {\"count\": 23, \"cutoff\": 8, \"userId\": 282, \"precision\": 0.125, \"recall\": 0.043478260869565216}, {\"count\": 23, \"cutoff\": 9, \"userId\": 282, \"precision\": 0.1111111111111111, \"recall\": 0.043478260869565216}, {\"count\": 23, \"cutoff\": 10, \"userId\": 282, \"precision\": 0.1, \"recall\": 0.043478260869565216}, {\"count\": 23, \"cutoff\": 11, \"userId\": 282, \"precision\": 0.09090909090909091, \"recall\": 0.043478260869565216}, {\"count\": 23, \"cutoff\": 16, \"userId\": 282, \"precision\": 0.0625, \"recall\": 0.043478260869565216}, {\"count\": 23, \"cutoff\": 21, \"userId\": 282, \"precision\": 0.047619047619047616, \"recall\": 0.043478260869565216}, {\"count\": 23, \"cutoff\": 26, \"userId\": 282, \"precision\": 0.038461538461538464, \"recall\": 0.043478260869565216}, {\"count\": 23, \"cutoff\": 31, \"userId\": 282, \"precision\": 0.03225806451612903, \"recall\": 0.043478260869565216}, {\"count\": 23, \"cutoff\": 36, \"userId\": 282, \"precision\": 0.027777777777777776, \"recall\": 0.043478260869565216}, {\"count\": 23, \"cutoff\": 41, \"userId\": 282, \"precision\": 0.024390243902439025, \"recall\": 0.043478260869565216}, {\"count\": 23, \"cutoff\": 46, \"userId\": 282, \"precision\": 0.021739130434782608, \"recall\": 0.043478260869565216}, {\"count\": 21, \"cutoff\": 1, \"userId\": 291, \"precision\": 0.0, \"recall\": 0.0}, {\"count\": 21, \"cutoff\": 2, \"userId\": 291, \"precision\": 0.0, \"recall\": 0.0}, {\"count\": 21, \"cutoff\": 3, \"userId\": 291, \"precision\": 0.0, \"recall\": 0.0}, {\"count\": 21, \"cutoff\": 4, \"userId\": 291, \"precision\": 0.0, \"recall\": 0.0}, {\"count\": 21, \"cutoff\": 5, \"userId\": 291, \"precision\": 0.0, \"recall\": 0.0}, {\"count\": 21, \"cutoff\": 6, \"userId\": 291, \"precision\": 0.0, \"recall\": 0.0}, {\"count\": 21, \"cutoff\": 7, \"userId\": 291, \"precision\": 0.0, \"recall\": 0.0}, {\"count\": 21, \"cutoff\": 8, \"userId\": 291, \"precision\": 0.0, \"recall\": 0.0}, {\"count\": 21, \"cutoff\": 9, \"userId\": 291, \"precision\": 0.1111111111111111, \"recall\": 0.047619047619047616}, {\"count\": 21, \"cutoff\": 10, \"userId\": 291, \"precision\": 0.1, \"recall\": 0.047619047619047616}, {\"count\": 21, \"cutoff\": 11, \"userId\": 291, \"precision\": 0.18181818181818182, \"recall\": 0.09523809523809523}, {\"count\": 21, \"cutoff\": 16, \"userId\": 291, \"precision\": 0.125, \"recall\": 0.09523809523809523}, {\"count\": 21, \"cutoff\": 21, \"userId\": 291, \"precision\": 0.09523809523809523, \"recall\": 0.09523809523809523}, {\"count\": 21, \"cutoff\": 26, \"userId\": 291, \"precision\": 0.07692307692307693, \"recall\": 0.09523809523809523}, {\"count\": 21, \"cutoff\": 31, \"userId\": 291, \"precision\": 0.0967741935483871, \"recall\": 0.14285714285714285}, {\"count\": 21, \"cutoff\": 36, \"userId\": 291, \"precision\": 0.1388888888888889, \"recall\": 0.23809523809523808}, {\"count\": 21, \"cutoff\": 41, \"userId\": 291, \"precision\": 0.12195121951219512, \"recall\": 0.23809523809523808}, {\"count\": 21, \"cutoff\": 46, \"userId\": 291, \"precision\": 0.10869565217391304, \"recall\": 0.23809523809523808}, {\"count\": 2, \"cutoff\": 1, \"userId\": 296, \"precision\": 0.0, \"recall\": 0.0}, {\"count\": 2, \"cutoff\": 2, \"userId\": 296, \"precision\": 0.0, \"recall\": 0.0}, {\"count\": 2, \"cutoff\": 3, \"userId\": 296, \"precision\": 0.0, \"recall\": 0.0}, {\"count\": 2, \"cutoff\": 4, \"userId\": 296, \"precision\": 0.0, \"recall\": 0.0}, {\"count\": 2, \"cutoff\": 5, \"userId\": 296, \"precision\": 0.0, \"recall\": 0.0}, {\"count\": 2, \"cutoff\": 6, \"userId\": 296, \"precision\": 0.0, \"recall\": 0.0}, {\"count\": 2, \"cutoff\": 7, \"userId\": 296, \"precision\": 0.0, \"recall\": 0.0}, {\"count\": 2, \"cutoff\": 8, \"userId\": 296, \"precision\": 0.0, \"recall\": 0.0}, {\"count\": 2, \"cutoff\": 9, \"userId\": 296, \"precision\": 0.0, \"recall\": 0.0}, {\"count\": 2, \"cutoff\": 10, \"userId\": 296, \"precision\": 0.0, \"recall\": 0.0}, {\"count\": 2, \"cutoff\": 11, \"userId\": 296, \"precision\": 0.0, \"recall\": 0.0}, {\"count\": 2, \"cutoff\": 16, \"userId\": 296, \"precision\": 0.0, \"recall\": 0.0}, {\"count\": 2, \"cutoff\": 21, \"userId\": 296, \"precision\": 0.0, \"recall\": 0.0}, {\"count\": 2, \"cutoff\": 26, \"userId\": 296, \"precision\": 0.0, \"recall\": 0.0}, {\"count\": 2, \"cutoff\": 31, \"userId\": 296, \"precision\": 0.0, \"recall\": 0.0}, {\"count\": 2, \"cutoff\": 36, \"userId\": 296, \"precision\": 0.0, \"recall\": 0.0}, {\"count\": 2, \"cutoff\": 41, \"userId\": 296, \"precision\": 0.0, \"recall\": 0.0}, {\"count\": 2, \"cutoff\": 46, \"userId\": 296, \"precision\": 0.0, \"recall\": 0.0}, {\"count\": 20, \"cutoff\": 1, \"userId\": 304, \"precision\": 0.0, \"recall\": 0.0}, {\"count\": 20, \"cutoff\": 2, \"userId\": 304, \"precision\": 0.5, \"recall\": 0.05}, {\"count\": 20, \"cutoff\": 3, \"userId\": 304, \"precision\": 0.6666666666666666, \"recall\": 0.1}, {\"count\": 20, \"cutoff\": 4, \"userId\": 304, \"precision\": 0.5, \"recall\": 0.1}, {\"count\": 20, \"cutoff\": 5, \"userId\": 304, \"precision\": 0.4, \"recall\": 0.1}, {\"count\": 20, \"cutoff\": 6, \"userId\": 304, \"precision\": 0.3333333333333333, \"recall\": 0.1}, {\"count\": 20, \"cutoff\": 7, \"userId\": 304, \"precision\": 0.2857142857142857, \"recall\": 0.1}, {\"count\": 20, \"cutoff\": 8, \"userId\": 304, \"precision\": 0.375, \"recall\": 0.15}, {\"count\": 20, \"cutoff\": 9, \"userId\": 304, \"precision\": 0.3333333333333333, \"recall\": 0.15}, {\"count\": 20, \"cutoff\": 10, \"userId\": 304, \"precision\": 0.3, \"recall\": 0.15}, {\"count\": 20, \"cutoff\": 11, \"userId\": 304, \"precision\": 0.2727272727272727, \"recall\": 0.15}, {\"count\": 20, \"cutoff\": 16, \"userId\": 304, \"precision\": 0.1875, \"recall\": 0.15}, {\"count\": 20, \"cutoff\": 21, \"userId\": 304, \"precision\": 0.14285714285714285, \"recall\": 0.15}, {\"count\": 20, \"cutoff\": 26, \"userId\": 304, \"precision\": 0.11538461538461539, \"recall\": 0.15}, {\"count\": 20, \"cutoff\": 31, \"userId\": 304, \"precision\": 0.0967741935483871, \"recall\": 0.15}, {\"count\": 20, \"cutoff\": 36, \"userId\": 304, \"precision\": 0.08333333333333333, \"recall\": 0.15}, {\"count\": 20, \"cutoff\": 41, \"userId\": 304, \"precision\": 0.07317073170731707, \"recall\": 0.15}, {\"count\": 20, \"cutoff\": 46, \"userId\": 304, \"precision\": 0.08695652173913043, \"recall\": 0.2}, {\"count\": 16, \"cutoff\": 1, \"userId\": 307, \"precision\": 1.0, \"recall\": 0.0625}, {\"count\": 16, \"cutoff\": 2, \"userId\": 307, \"precision\": 1.0, \"recall\": 0.125}, {\"count\": 16, \"cutoff\": 3, \"userId\": 307, \"precision\": 1.0, \"recall\": 0.1875}, {\"count\": 16, \"cutoff\": 4, \"userId\": 307, \"precision\": 0.75, \"recall\": 0.1875}, {\"count\": 16, \"cutoff\": 5, \"userId\": 307, \"precision\": 0.6, \"recall\": 0.1875}, {\"count\": 16, \"cutoff\": 6, \"userId\": 307, \"precision\": 0.5, \"recall\": 0.1875}, {\"count\": 16, \"cutoff\": 7, \"userId\": 307, \"precision\": 0.42857142857142855, \"recall\": 0.1875}, {\"count\": 16, \"cutoff\": 8, \"userId\": 307, \"precision\": 0.375, \"recall\": 0.1875}, {\"count\": 16, \"cutoff\": 9, \"userId\": 307, \"precision\": 0.3333333333333333, \"recall\": 0.1875}, {\"count\": 16, \"cutoff\": 10, \"userId\": 307, \"precision\": 0.3, \"recall\": 0.1875}, {\"count\": 16, \"cutoff\": 11, \"userId\": 307, \"precision\": 0.2727272727272727, \"recall\": 0.1875}, {\"count\": 16, \"cutoff\": 16, \"userId\": 307, \"precision\": 0.1875, \"recall\": 0.1875}, {\"count\": 16, \"cutoff\": 21, \"userId\": 307, \"precision\": 0.14285714285714285, \"recall\": 0.1875}, {\"count\": 16, \"cutoff\": 26, \"userId\": 307, \"precision\": 0.15384615384615385, \"recall\": 0.25}, {\"count\": 16, \"cutoff\": 31, \"userId\": 307, \"precision\": 0.12903225806451613, \"recall\": 0.25}, {\"count\": 16, \"cutoff\": 36, \"userId\": 307, \"precision\": 0.1111111111111111, \"recall\": 0.25}, {\"count\": 16, \"cutoff\": 41, \"userId\": 307, \"precision\": 0.12195121951219512, \"recall\": 0.3125}, {\"count\": 16, \"cutoff\": 46, \"userId\": 307, \"precision\": 0.10869565217391304, \"recall\": 0.3125}, {\"count\": 24, \"cutoff\": 1, \"userId\": 309, \"precision\": 0.0, \"recall\": 0.0}, {\"count\": 24, \"cutoff\": 2, \"userId\": 309, \"precision\": 0.0, \"recall\": 0.0}, {\"count\": 24, \"cutoff\": 3, \"userId\": 309, \"precision\": 0.0, \"recall\": 0.0}, {\"count\": 24, \"cutoff\": 4, \"userId\": 309, \"precision\": 0.0, \"recall\": 0.0}, {\"count\": 24, \"cutoff\": 5, \"userId\": 309, \"precision\": 0.2, \"recall\": 0.041666666666666664}, {\"count\": 24, \"cutoff\": 6, \"userId\": 309, \"precision\": 0.16666666666666666, \"recall\": 0.041666666666666664}, {\"count\": 24, \"cutoff\": 7, \"userId\": 309, \"precision\": 0.2857142857142857, \"recall\": 0.08333333333333333}, {\"count\": 24, \"cutoff\": 8, \"userId\": 309, \"precision\": 0.25, \"recall\": 0.08333333333333333}, {\"count\": 24, \"cutoff\": 9, \"userId\": 309, \"precision\": 0.2222222222222222, \"recall\": 0.08333333333333333}, {\"count\": 24, \"cutoff\": 10, \"userId\": 309, \"precision\": 0.2, \"recall\": 0.08333333333333333}, {\"count\": 24, \"cutoff\": 11, \"userId\": 309, \"precision\": 0.18181818181818182, \"recall\": 0.08333333333333333}, {\"count\": 24, \"cutoff\": 16, \"userId\": 309, \"precision\": 0.25, \"recall\": 0.16666666666666666}, {\"count\": 24, \"cutoff\": 21, \"userId\": 309, \"precision\": 0.3333333333333333, \"recall\": 0.2916666666666667}, {\"count\": 24, \"cutoff\": 26, \"userId\": 309, \"precision\": 0.2692307692307692, \"recall\": 0.2916666666666667}, {\"count\": 24, \"cutoff\": 31, \"userId\": 309, \"precision\": 0.22580645161290322, \"recall\": 0.2916666666666667}, {\"count\": 24, \"cutoff\": 36, \"userId\": 309, \"precision\": 0.19444444444444445, \"recall\": 0.2916666666666667}, {\"count\": 24, \"cutoff\": 41, \"userId\": 309, \"precision\": 0.17073170731707318, \"recall\": 0.2916666666666667}, {\"count\": 24, \"cutoff\": 46, \"userId\": 309, \"precision\": 0.15217391304347827, \"recall\": 0.2916666666666667}, {\"count\": 2, \"cutoff\": 1, \"userId\": 310, \"precision\": 0.0, \"recall\": 0.0}, {\"count\": 2, \"cutoff\": 2, \"userId\": 310, \"precision\": 0.0, \"recall\": 0.0}, {\"count\": 2, \"cutoff\": 3, \"userId\": 310, \"precision\": 0.0, \"recall\": 0.0}, {\"count\": 2, \"cutoff\": 4, \"userId\": 310, \"precision\": 0.0, \"recall\": 0.0}, {\"count\": 2, \"cutoff\": 5, \"userId\": 310, \"precision\": 0.0, \"recall\": 0.0}, {\"count\": 2, \"cutoff\": 6, \"userId\": 310, \"precision\": 0.0, \"recall\": 0.0}, {\"count\": 2, \"cutoff\": 7, \"userId\": 310, \"precision\": 0.0, \"recall\": 0.0}, {\"count\": 2, \"cutoff\": 8, \"userId\": 310, \"precision\": 0.0, \"recall\": 0.0}, {\"count\": 2, \"cutoff\": 9, \"userId\": 310, \"precision\": 0.0, \"recall\": 0.0}, {\"count\": 2, \"cutoff\": 10, \"userId\": 310, \"precision\": 0.0, \"recall\": 0.0}, {\"count\": 2, \"cutoff\": 11, \"userId\": 310, \"precision\": 0.0, \"recall\": 0.0}, {\"count\": 2, \"cutoff\": 16, \"userId\": 310, \"precision\": 0.0, \"recall\": 0.0}, {\"count\": 2, \"cutoff\": 21, \"userId\": 310, \"precision\": 0.0, \"recall\": 0.0}, {\"count\": 2, \"cutoff\": 26, \"userId\": 310, \"precision\": 0.0, \"recall\": 0.0}, {\"count\": 2, \"cutoff\": 31, \"userId\": 310, \"precision\": 0.0, \"recall\": 0.0}, {\"count\": 2, \"cutoff\": 36, \"userId\": 310, \"precision\": 0.0, \"recall\": 0.0}, {\"count\": 2, \"cutoff\": 41, \"userId\": 310, \"precision\": 0.0, \"recall\": 0.0}, {\"count\": 2, \"cutoff\": 46, \"userId\": 310, \"precision\": 0.0, \"recall\": 0.0}, {\"count\": 200, \"cutoff\": 1, \"userId\": 311, \"precision\": 0.0, \"recall\": 0.0}, {\"count\": 200, \"cutoff\": 2, \"userId\": 311, \"precision\": 0.5, \"recall\": 0.005}, {\"count\": 200, \"cutoff\": 3, \"userId\": 311, \"precision\": 0.6666666666666666, \"recall\": 0.01}, {\"count\": 200, \"cutoff\": 4, \"userId\": 311, \"precision\": 0.5, \"recall\": 0.01}, {\"count\": 200, \"cutoff\": 5, \"userId\": 311, \"precision\": 0.4, \"recall\": 0.01}, {\"count\": 200, \"cutoff\": 6, \"userId\": 311, \"precision\": 0.3333333333333333, \"recall\": 0.01}, {\"count\": 200, \"cutoff\": 7, \"userId\": 311, \"precision\": 0.2857142857142857, \"recall\": 0.01}, {\"count\": 200, \"cutoff\": 8, \"userId\": 311, \"precision\": 0.25, \"recall\": 0.01}, {\"count\": 200, \"cutoff\": 9, \"userId\": 311, \"precision\": 0.3333333333333333, \"recall\": 0.015}, {\"count\": 200, \"cutoff\": 10, \"userId\": 311, \"precision\": 0.4, \"recall\": 0.02}, {\"count\": 200, \"cutoff\": 11, \"userId\": 311, \"precision\": 0.45454545454545453, \"recall\": 0.025}, {\"count\": 200, \"cutoff\": 16, \"userId\": 311, \"precision\": 0.3125, \"recall\": 0.025}, {\"count\": 200, \"cutoff\": 21, \"userId\": 311, \"precision\": 0.2857142857142857, \"recall\": 0.03}, {\"count\": 200, \"cutoff\": 26, \"userId\": 311, \"precision\": 0.34615384615384615, \"recall\": 0.045}, {\"count\": 200, \"cutoff\": 31, \"userId\": 311, \"precision\": 0.3548387096774194, \"recall\": 0.055}, {\"count\": 200, \"cutoff\": 36, \"userId\": 311, \"precision\": 0.3055555555555556, \"recall\": 0.055}, {\"count\": 200, \"cutoff\": 41, \"userId\": 311, \"precision\": 0.2926829268292683, \"recall\": 0.06}, {\"count\": 200, \"cutoff\": 46, \"userId\": 311, \"precision\": 0.30434782608695654, \"recall\": 0.07}, {\"count\": 61, \"cutoff\": 1, \"userId\": 313, \"precision\": 0.0, \"recall\": 0.0}, {\"count\": 61, \"cutoff\": 2, \"userId\": 313, \"precision\": 0.0, \"recall\": 0.0}, {\"count\": 61, \"cutoff\": 3, \"userId\": 313, \"precision\": 0.0, \"recall\": 0.0}, {\"count\": 61, \"cutoff\": 4, \"userId\": 313, \"precision\": 0.0, \"recall\": 0.0}, {\"count\": 61, \"cutoff\": 5, \"userId\": 313, \"precision\": 0.0, \"recall\": 0.0}, {\"count\": 61, \"cutoff\": 6, \"userId\": 313, \"precision\": 0.0, \"recall\": 0.0}, {\"count\": 61, \"cutoff\": 7, \"userId\": 313, \"precision\": 0.14285714285714285, \"recall\": 0.01639344262295082}, {\"count\": 61, \"cutoff\": 8, \"userId\": 313, \"precision\": 0.25, \"recall\": 0.03278688524590164}, {\"count\": 61, \"cutoff\": 9, \"userId\": 313, \"precision\": 0.2222222222222222, \"recall\": 0.03278688524590164}, {\"count\": 61, \"cutoff\": 10, \"userId\": 313, \"precision\": 0.3, \"recall\": 0.04918032786885246}, {\"count\": 61, \"cutoff\": 11, \"userId\": 313, \"precision\": 0.2727272727272727, \"recall\": 0.04918032786885246}, {\"count\": 61, \"cutoff\": 16, \"userId\": 313, \"precision\": 0.1875, \"recall\": 0.04918032786885246}, {\"count\": 61, \"cutoff\": 21, \"userId\": 313, \"precision\": 0.19047619047619047, \"recall\": 0.06557377049180328}, {\"count\": 61, \"cutoff\": 26, \"userId\": 313, \"precision\": 0.2692307692307692, \"recall\": 0.11475409836065574}, {\"count\": 61, \"cutoff\": 31, \"userId\": 313, \"precision\": 0.25806451612903225, \"recall\": 0.13114754098360656}, {\"count\": 61, \"cutoff\": 36, \"userId\": 313, \"precision\": 0.2222222222222222, \"recall\": 0.13114754098360656}, {\"count\": 61, \"cutoff\": 41, \"userId\": 313, \"precision\": 0.1951219512195122, \"recall\": 0.13114754098360656}, {\"count\": 61, \"cutoff\": 46, \"userId\": 313, \"precision\": 0.21739130434782608, \"recall\": 0.16393442622950818}, {\"count\": 9, \"cutoff\": 1, \"userId\": 315, \"precision\": 0.0, \"recall\": 0.0}, {\"count\": 9, \"cutoff\": 2, \"userId\": 315, \"precision\": 0.0, \"recall\": 0.0}, {\"count\": 9, \"cutoff\": 3, \"userId\": 315, \"precision\": 0.0, \"recall\": 0.0}, {\"count\": 9, \"cutoff\": 4, \"userId\": 315, \"precision\": 0.0, \"recall\": 0.0}, {\"count\": 9, \"cutoff\": 5, \"userId\": 315, \"precision\": 0.0, \"recall\": 0.0}, {\"count\": 9, \"cutoff\": 6, \"userId\": 315, \"precision\": 0.16666666666666666, \"recall\": 0.1111111111111111}, {\"count\": 9, \"cutoff\": 7, \"userId\": 315, \"precision\": 0.14285714285714285, \"recall\": 0.1111111111111111}, {\"count\": 9, \"cutoff\": 8, \"userId\": 315, \"precision\": 0.125, \"recall\": 0.1111111111111111}, {\"count\": 9, \"cutoff\": 9, \"userId\": 315, \"precision\": 0.1111111111111111, \"recall\": 0.1111111111111111}, {\"count\": 9, \"cutoff\": 10, \"userId\": 315, \"precision\": 0.1, \"recall\": 0.1111111111111111}, {\"count\": 9, \"cutoff\": 11, \"userId\": 315, \"precision\": 0.09090909090909091, \"recall\": 0.1111111111111111}, {\"count\": 9, \"cutoff\": 16, \"userId\": 315, \"precision\": 0.0625, \"recall\": 0.1111111111111111}, {\"count\": 9, \"cutoff\": 21, \"userId\": 315, \"precision\": 0.047619047619047616, \"recall\": 0.1111111111111111}, {\"count\": 9, \"cutoff\": 26, \"userId\": 315, \"precision\": 0.038461538461538464, \"recall\": 0.1111111111111111}, {\"count\": 9, \"cutoff\": 31, \"userId\": 315, \"precision\": 0.06451612903225806, \"recall\": 0.2222222222222222}, {\"count\": 9, \"cutoff\": 36, \"userId\": 315, \"precision\": 0.08333333333333333, \"recall\": 0.3333333333333333}, {\"count\": 9, \"cutoff\": 41, \"userId\": 315, \"precision\": 0.07317073170731707, \"recall\": 0.3333333333333333}, {\"count\": 9, \"cutoff\": 46, \"userId\": 315, \"precision\": 0.06521739130434782, \"recall\": 0.3333333333333333}, {\"count\": 3, \"cutoff\": 1, \"userId\": 319, \"precision\": 0.0, \"recall\": 0.0}, {\"count\": 3, \"cutoff\": 2, \"userId\": 319, \"precision\": 0.0, \"recall\": 0.0}, {\"count\": 3, \"cutoff\": 3, \"userId\": 319, \"precision\": 0.0, \"recall\": 0.0}, {\"count\": 3, \"cutoff\": 4, \"userId\": 319, \"precision\": 0.0, \"recall\": 0.0}, {\"count\": 3, \"cutoff\": 5, \"userId\": 319, \"precision\": 0.0, \"recall\": 0.0}, {\"count\": 3, \"cutoff\": 6, \"userId\": 319, \"precision\": 0.0, \"recall\": 0.0}, {\"count\": 3, \"cutoff\": 7, \"userId\": 319, \"precision\": 0.0, \"recall\": 0.0}, {\"count\": 3, \"cutoff\": 8, \"userId\": 319, \"precision\": 0.0, \"recall\": 0.0}, {\"count\": 3, \"cutoff\": 9, \"userId\": 319, \"precision\": 0.0, \"recall\": 0.0}, {\"count\": 3, \"cutoff\": 10, \"userId\": 319, \"precision\": 0.0, \"recall\": 0.0}, {\"count\": 3, \"cutoff\": 11, \"userId\": 319, \"precision\": 0.0, \"recall\": 0.0}, {\"count\": 3, \"cutoff\": 16, \"userId\": 319, \"precision\": 0.0, \"recall\": 0.0}, {\"count\": 3, \"cutoff\": 21, \"userId\": 319, \"precision\": 0.0, \"recall\": 0.0}, {\"count\": 3, \"cutoff\": 26, \"userId\": 319, \"precision\": 0.0, \"recall\": 0.0}, {\"count\": 3, \"cutoff\": 31, \"userId\": 319, \"precision\": 0.0, \"recall\": 0.0}, {\"count\": 3, \"cutoff\": 36, \"userId\": 319, \"precision\": 0.0, \"recall\": 0.0}, {\"count\": 3, \"cutoff\": 41, \"userId\": 319, \"precision\": 0.0, \"recall\": 0.0}, {\"count\": 3, \"cutoff\": 46, \"userId\": 319, \"precision\": 0.0, \"recall\": 0.0}, {\"count\": 13, \"cutoff\": 1, \"userId\": 321, \"precision\": 0.0, \"recall\": 0.0}, {\"count\": 13, \"cutoff\": 2, \"userId\": 321, \"precision\": 0.0, \"recall\": 0.0}, {\"count\": 13, \"cutoff\": 3, \"userId\": 321, \"precision\": 0.3333333333333333, \"recall\": 0.07692307692307693}, {\"count\": 13, \"cutoff\": 4, \"userId\": 321, \"precision\": 0.5, \"recall\": 0.15384615384615385}, {\"count\": 13, \"cutoff\": 5, \"userId\": 321, \"precision\": 0.4, \"recall\": 0.15384615384615385}, {\"count\": 13, \"cutoff\": 6, \"userId\": 321, \"precision\": 0.3333333333333333, \"recall\": 0.15384615384615385}, {\"count\": 13, \"cutoff\": 7, \"userId\": 321, \"precision\": 0.2857142857142857, \"recall\": 0.15384615384615385}, {\"count\": 13, \"cutoff\": 8, \"userId\": 321, \"precision\": 0.25, \"recall\": 0.15384615384615385}, {\"count\": 13, \"cutoff\": 9, \"userId\": 321, \"precision\": 0.2222222222222222, \"recall\": 0.15384615384615385}, {\"count\": 13, \"cutoff\": 10, \"userId\": 321, \"precision\": 0.2, \"recall\": 0.15384615384615385}, {\"count\": 13, \"cutoff\": 11, \"userId\": 321, \"precision\": 0.18181818181818182, \"recall\": 0.15384615384615385}, {\"count\": 13, \"cutoff\": 16, \"userId\": 321, \"precision\": 0.125, \"recall\": 0.15384615384615385}, {\"count\": 13, \"cutoff\": 21, \"userId\": 321, \"precision\": 0.09523809523809523, \"recall\": 0.15384615384615385}, {\"count\": 13, \"cutoff\": 26, \"userId\": 321, \"precision\": 0.07692307692307693, \"recall\": 0.15384615384615385}, {\"count\": 13, \"cutoff\": 31, \"userId\": 321, \"precision\": 0.06451612903225806, \"recall\": 0.15384615384615385}, {\"count\": 13, \"cutoff\": 36, \"userId\": 321, \"precision\": 0.05555555555555555, \"recall\": 0.15384615384615385}, {\"count\": 13, \"cutoff\": 41, \"userId\": 321, \"precision\": 0.04878048780487805, \"recall\": 0.15384615384615385}, {\"count\": 13, \"cutoff\": 46, \"userId\": 321, \"precision\": 0.043478260869565216, \"recall\": 0.15384615384615385}, {\"count\": 4, \"cutoff\": 1, \"userId\": 323, \"precision\": 0.0, \"recall\": 0.0}, {\"count\": 4, \"cutoff\": 2, \"userId\": 323, \"precision\": 0.0, \"recall\": 0.0}, {\"count\": 4, \"cutoff\": 3, \"userId\": 323, \"precision\": 0.0, \"recall\": 0.0}, {\"count\": 4, \"cutoff\": 4, \"userId\": 323, \"precision\": 0.0, \"recall\": 0.0}, {\"count\": 4, \"cutoff\": 5, \"userId\": 323, \"precision\": 0.0, \"recall\": 0.0}, {\"count\": 4, \"cutoff\": 6, \"userId\": 323, \"precision\": 0.0, \"recall\": 0.0}, {\"count\": 4, \"cutoff\": 7, \"userId\": 323, \"precision\": 0.0, \"recall\": 0.0}, {\"count\": 4, \"cutoff\": 8, \"userId\": 323, \"precision\": 0.0, \"recall\": 0.0}, {\"count\": 4, \"cutoff\": 9, \"userId\": 323, \"precision\": 0.0, \"recall\": 0.0}, {\"count\": 4, \"cutoff\": 10, \"userId\": 323, \"precision\": 0.0, \"recall\": 0.0}, {\"count\": 4, \"cutoff\": 11, \"userId\": 323, \"precision\": 0.0, \"recall\": 0.0}, {\"count\": 4, \"cutoff\": 16, \"userId\": 323, \"precision\": 0.0, \"recall\": 0.0}, {\"count\": 4, \"cutoff\": 21, \"userId\": 323, \"precision\": 0.047619047619047616, \"recall\": 0.25}, {\"count\": 4, \"cutoff\": 26, \"userId\": 323, \"precision\": 0.038461538461538464, \"recall\": 0.25}, {\"count\": 4, \"cutoff\": 31, \"userId\": 323, \"precision\": 0.03225806451612903, \"recall\": 0.25}, {\"count\": 4, \"cutoff\": 36, \"userId\": 323, \"precision\": 0.027777777777777776, \"recall\": 0.25}, {\"count\": 4, \"cutoff\": 41, \"userId\": 323, \"precision\": 0.024390243902439025, \"recall\": 0.25}, {\"count\": 4, \"cutoff\": 46, \"userId\": 323, \"precision\": 0.021739130434782608, \"recall\": 0.25}, {\"count\": 31, \"cutoff\": 1, \"userId\": 328, \"precision\": 1.0, \"recall\": 0.03225806451612903}, {\"count\": 31, \"cutoff\": 2, \"userId\": 328, \"precision\": 0.5, \"recall\": 0.03225806451612903}, {\"count\": 31, \"cutoff\": 3, \"userId\": 328, \"precision\": 0.3333333333333333, \"recall\": 0.03225806451612903}, {\"count\": 31, \"cutoff\": 4, \"userId\": 328, \"precision\": 0.25, \"recall\": 0.03225806451612903}, {\"count\": 31, \"cutoff\": 5, \"userId\": 328, \"precision\": 0.2, \"recall\": 0.03225806451612903}, {\"count\": 31, \"cutoff\": 6, \"userId\": 328, \"precision\": 0.3333333333333333, \"recall\": 0.06451612903225806}, {\"count\": 31, \"cutoff\": 7, \"userId\": 328, \"precision\": 0.42857142857142855, \"recall\": 0.0967741935483871}, {\"count\": 31, \"cutoff\": 8, \"userId\": 328, \"precision\": 0.375, \"recall\": 0.0967741935483871}, {\"count\": 31, \"cutoff\": 9, \"userId\": 328, \"precision\": 0.3333333333333333, \"recall\": 0.0967741935483871}, {\"count\": 31, \"cutoff\": 10, \"userId\": 328, \"precision\": 0.3, \"recall\": 0.0967741935483871}, {\"count\": 31, \"cutoff\": 11, \"userId\": 328, \"precision\": 0.2727272727272727, \"recall\": 0.0967741935483871}, {\"count\": 31, \"cutoff\": 16, \"userId\": 328, \"precision\": 0.1875, \"recall\": 0.0967741935483871}, {\"count\": 31, \"cutoff\": 21, \"userId\": 328, \"precision\": 0.14285714285714285, \"recall\": 0.0967741935483871}, {\"count\": 31, \"cutoff\": 26, \"userId\": 328, \"precision\": 0.11538461538461539, \"recall\": 0.0967741935483871}, {\"count\": 31, \"cutoff\": 31, \"userId\": 328, \"precision\": 0.16129032258064516, \"recall\": 0.16129032258064516}, {\"count\": 31, \"cutoff\": 36, \"userId\": 328, \"precision\": 0.1388888888888889, \"recall\": 0.16129032258064516}, {\"count\": 31, \"cutoff\": 41, \"userId\": 328, \"precision\": 0.12195121951219512, \"recall\": 0.16129032258064516}, {\"count\": 31, \"cutoff\": 46, \"userId\": 328, \"precision\": 0.10869565217391304, \"recall\": 0.16129032258064516}, {\"count\": 7, \"cutoff\": 1, \"userId\": 329, \"precision\": 0.0, \"recall\": 0.0}, {\"count\": 7, \"cutoff\": 2, \"userId\": 329, \"precision\": 0.0, \"recall\": 0.0}, {\"count\": 7, \"cutoff\": 3, \"userId\": 329, \"precision\": 0.0, \"recall\": 0.0}, {\"count\": 7, \"cutoff\": 4, \"userId\": 329, \"precision\": 0.0, \"recall\": 0.0}, {\"count\": 7, \"cutoff\": 5, \"userId\": 329, \"precision\": 0.0, \"recall\": 0.0}, {\"count\": 7, \"cutoff\": 6, \"userId\": 329, \"precision\": 0.16666666666666666, \"recall\": 0.14285714285714285}, {\"count\": 7, \"cutoff\": 7, \"userId\": 329, \"precision\": 0.14285714285714285, \"recall\": 0.14285714285714285}, {\"count\": 7, \"cutoff\": 8, \"userId\": 329, \"precision\": 0.125, \"recall\": 0.14285714285714285}, {\"count\": 7, \"cutoff\": 9, \"userId\": 329, \"precision\": 0.1111111111111111, \"recall\": 0.14285714285714285}, {\"count\": 7, \"cutoff\": 10, \"userId\": 329, \"precision\": 0.1, \"recall\": 0.14285714285714285}, {\"count\": 7, \"cutoff\": 11, \"userId\": 329, \"precision\": 0.09090909090909091, \"recall\": 0.14285714285714285}, {\"count\": 7, \"cutoff\": 16, \"userId\": 329, \"precision\": 0.0625, \"recall\": 0.14285714285714285}, {\"count\": 7, \"cutoff\": 21, \"userId\": 329, \"precision\": 0.047619047619047616, \"recall\": 0.14285714285714285}, {\"count\": 7, \"cutoff\": 26, \"userId\": 329, \"precision\": 0.038461538461538464, \"recall\": 0.14285714285714285}, {\"count\": 7, \"cutoff\": 31, \"userId\": 329, \"precision\": 0.03225806451612903, \"recall\": 0.14285714285714285}, {\"count\": 7, \"cutoff\": 36, \"userId\": 329, \"precision\": 0.027777777777777776, \"recall\": 0.14285714285714285}, {\"count\": 7, \"cutoff\": 41, \"userId\": 329, \"precision\": 0.024390243902439025, \"recall\": 0.14285714285714285}, {\"count\": 7, \"cutoff\": 46, \"userId\": 329, \"precision\": 0.021739130434782608, \"recall\": 0.14285714285714285}, {\"count\": 15, \"cutoff\": 1, \"userId\": 333, \"precision\": 0.0, \"recall\": 0.0}, {\"count\": 15, \"cutoff\": 2, \"userId\": 333, \"precision\": 0.0, \"recall\": 0.0}, {\"count\": 15, \"cutoff\": 3, \"userId\": 333, \"precision\": 0.0, \"recall\": 0.0}, {\"count\": 15, \"cutoff\": 4, \"userId\": 333, \"precision\": 0.0, \"recall\": 0.0}, {\"count\": 15, \"cutoff\": 5, \"userId\": 333, \"precision\": 0.0, \"recall\": 0.0}, {\"count\": 15, \"cutoff\": 6, \"userId\": 333, \"precision\": 0.0, \"recall\": 0.0}, {\"count\": 15, \"cutoff\": 7, \"userId\": 333, \"precision\": 0.0, \"recall\": 0.0}, {\"count\": 15, \"cutoff\": 8, \"userId\": 333, \"precision\": 0.0, \"recall\": 0.0}, {\"count\": 15, \"cutoff\": 9, \"userId\": 333, \"precision\": 0.0, \"recall\": 0.0}, {\"count\": 15, \"cutoff\": 10, \"userId\": 333, \"precision\": 0.0, \"recall\": 0.0}, {\"count\": 15, \"cutoff\": 11, \"userId\": 333, \"precision\": 0.0, \"recall\": 0.0}, {\"count\": 15, \"cutoff\": 16, \"userId\": 333, \"precision\": 0.0, \"recall\": 0.0}, {\"count\": 15, \"cutoff\": 21, \"userId\": 333, \"precision\": 0.047619047619047616, \"recall\": 0.06666666666666667}, {\"count\": 15, \"cutoff\": 26, \"userId\": 333, \"precision\": 0.038461538461538464, \"recall\": 0.06666666666666667}, {\"count\": 15, \"cutoff\": 31, \"userId\": 333, \"precision\": 0.03225806451612903, \"recall\": 0.06666666666666667}, {\"count\": 15, \"cutoff\": 36, \"userId\": 333, \"precision\": 0.027777777777777776, \"recall\": 0.06666666666666667}, {\"count\": 15, \"cutoff\": 41, \"userId\": 333, \"precision\": 0.024390243902439025, \"recall\": 0.06666666666666667}, {\"count\": 15, \"cutoff\": 46, \"userId\": 333, \"precision\": 0.021739130434782608, \"recall\": 0.06666666666666667}, {\"count\": 8, \"cutoff\": 1, \"userId\": 334, \"precision\": 1.0, \"recall\": 0.125}, {\"count\": 8, \"cutoff\": 2, \"userId\": 334, \"precision\": 0.5, \"recall\": 0.125}, {\"count\": 8, \"cutoff\": 3, \"userId\": 334, \"precision\": 0.3333333333333333, \"recall\": 0.125}, {\"count\": 8, \"cutoff\": 4, \"userId\": 334, \"precision\": 0.25, \"recall\": 0.125}, {\"count\": 8, \"cutoff\": 5, \"userId\": 334, \"precision\": 0.2, \"recall\": 0.125}, {\"count\": 8, \"cutoff\": 6, \"userId\": 334, \"precision\": 0.16666666666666666, \"recall\": 0.125}, {\"count\": 8, \"cutoff\": 7, \"userId\": 334, \"precision\": 0.14285714285714285, \"recall\": 0.125}, {\"count\": 8, \"cutoff\": 8, \"userId\": 334, \"precision\": 0.125, \"recall\": 0.125}, {\"count\": 8, \"cutoff\": 9, \"userId\": 334, \"precision\": 0.1111111111111111, \"recall\": 0.125}, {\"count\": 8, \"cutoff\": 10, \"userId\": 334, \"precision\": 0.1, \"recall\": 0.125}, {\"count\": 8, \"cutoff\": 11, \"userId\": 334, \"precision\": 0.09090909090909091, \"recall\": 0.125}, {\"count\": 8, \"cutoff\": 16, \"userId\": 334, \"precision\": 0.0625, \"recall\": 0.125}, {\"count\": 8, \"cutoff\": 21, \"userId\": 334, \"precision\": 0.047619047619047616, \"recall\": 0.125}, {\"count\": 8, \"cutoff\": 26, \"userId\": 334, \"precision\": 0.038461538461538464, \"recall\": 0.125}, {\"count\": 8, \"cutoff\": 31, \"userId\": 334, \"precision\": 0.06451612903225806, \"recall\": 0.25}, {\"count\": 8, \"cutoff\": 36, \"userId\": 334, \"precision\": 0.05555555555555555, \"recall\": 0.25}, {\"count\": 8, \"cutoff\": 41, \"userId\": 334, \"precision\": 0.04878048780487805, \"recall\": 0.25}, {\"count\": 8, \"cutoff\": 46, \"userId\": 334, \"precision\": 0.043478260869565216, \"recall\": 0.25}, {\"count\": 39, \"cutoff\": 1, \"userId\": 345, \"precision\": 1.0, \"recall\": 0.02564102564102564}, {\"count\": 39, \"cutoff\": 2, \"userId\": 345, \"precision\": 1.0, \"recall\": 0.05128205128205128}, {\"count\": 39, \"cutoff\": 3, \"userId\": 345, \"precision\": 0.6666666666666666, \"recall\": 0.05128205128205128}, {\"count\": 39, \"cutoff\": 4, \"userId\": 345, \"precision\": 0.5, \"recall\": 0.05128205128205128}, {\"count\": 39, \"cutoff\": 5, \"userId\": 345, \"precision\": 0.6, \"recall\": 0.07692307692307693}, {\"count\": 39, \"cutoff\": 6, \"userId\": 345, \"precision\": 0.6666666666666666, \"recall\": 0.10256410256410256}, {\"count\": 39, \"cutoff\": 7, \"userId\": 345, \"precision\": 0.5714285714285714, \"recall\": 0.10256410256410256}, {\"count\": 39, \"cutoff\": 8, \"userId\": 345, \"precision\": 0.5, \"recall\": 0.10256410256410256}, {\"count\": 39, \"cutoff\": 9, \"userId\": 345, \"precision\": 0.4444444444444444, \"recall\": 0.10256410256410256}, {\"count\": 39, \"cutoff\": 10, \"userId\": 345, \"precision\": 0.5, \"recall\": 0.1282051282051282}, {\"count\": 39, \"cutoff\": 11, \"userId\": 345, \"precision\": 0.5454545454545454, \"recall\": 0.15384615384615385}, {\"count\": 39, \"cutoff\": 16, \"userId\": 345, \"precision\": 0.375, \"recall\": 0.15384615384615385}, {\"count\": 39, \"cutoff\": 21, \"userId\": 345, \"precision\": 0.42857142857142855, \"recall\": 0.23076923076923078}, {\"count\": 39, \"cutoff\": 26, \"userId\": 345, \"precision\": 0.38461538461538464, \"recall\": 0.2564102564102564}, {\"count\": 39, \"cutoff\": 31, \"userId\": 345, \"precision\": 0.3225806451612903, \"recall\": 0.2564102564102564}, {\"count\": 39, \"cutoff\": 36, \"userId\": 345, \"precision\": 0.3055555555555556, \"recall\": 0.28205128205128205}, {\"count\": 39, \"cutoff\": 41, \"userId\": 345, \"precision\": 0.2926829268292683, \"recall\": 0.3076923076923077}, {\"count\": 39, \"cutoff\": 46, \"userId\": 345, \"precision\": 0.2608695652173913, \"recall\": 0.3076923076923077}, {\"count\": 2, \"cutoff\": 1, \"userId\": 347, \"precision\": 0.0, \"recall\": 0.0}, {\"count\": 2, \"cutoff\": 2, \"userId\": 347, \"precision\": 0.0, \"recall\": 0.0}, {\"count\": 2, \"cutoff\": 3, \"userId\": 347, \"precision\": 0.0, \"recall\": 0.0}, {\"count\": 2, \"cutoff\": 4, \"userId\": 347, \"precision\": 0.0, \"recall\": 0.0}, {\"count\": 2, \"cutoff\": 5, \"userId\": 347, \"precision\": 0.0, \"recall\": 0.0}, {\"count\": 2, \"cutoff\": 6, \"userId\": 347, \"precision\": 0.0, \"recall\": 0.0}, {\"count\": 2, \"cutoff\": 7, \"userId\": 347, \"precision\": 0.0, \"recall\": 0.0}, {\"count\": 2, \"cutoff\": 8, \"userId\": 347, \"precision\": 0.0, \"recall\": 0.0}, {\"count\": 2, \"cutoff\": 9, \"userId\": 347, \"precision\": 0.0, \"recall\": 0.0}, {\"count\": 2, \"cutoff\": 10, \"userId\": 347, \"precision\": 0.0, \"recall\": 0.0}, {\"count\": 2, \"cutoff\": 11, \"userId\": 347, \"precision\": 0.0, \"recall\": 0.0}, {\"count\": 2, \"cutoff\": 16, \"userId\": 347, \"precision\": 0.0, \"recall\": 0.0}, {\"count\": 2, \"cutoff\": 21, \"userId\": 347, \"precision\": 0.0, \"recall\": 0.0}, {\"count\": 2, \"cutoff\": 26, \"userId\": 347, \"precision\": 0.0, \"recall\": 0.0}, {\"count\": 2, \"cutoff\": 31, \"userId\": 347, \"precision\": 0.0, \"recall\": 0.0}, {\"count\": 2, \"cutoff\": 36, \"userId\": 347, \"precision\": 0.0, \"recall\": 0.0}, {\"count\": 2, \"cutoff\": 41, \"userId\": 347, \"precision\": 0.0, \"recall\": 0.0}, {\"count\": 2, \"cutoff\": 46, \"userId\": 347, \"precision\": 0.0, \"recall\": 0.0}, {\"count\": 10, \"cutoff\": 1, \"userId\": 348, \"precision\": 0.0, \"recall\": 0.0}, {\"count\": 10, \"cutoff\": 2, \"userId\": 348, \"precision\": 0.0, \"recall\": 0.0}, {\"count\": 10, \"cutoff\": 3, \"userId\": 348, \"precision\": 0.0, \"recall\": 0.0}, {\"count\": 10, \"cutoff\": 4, \"userId\": 348, \"precision\": 0.0, \"recall\": 0.0}, {\"count\": 10, \"cutoff\": 5, \"userId\": 348, \"precision\": 0.0, \"recall\": 0.0}, {\"count\": 10, \"cutoff\": 6, \"userId\": 348, \"precision\": 0.0, \"recall\": 0.0}, {\"count\": 10, \"cutoff\": 7, \"userId\": 348, \"precision\": 0.0, \"recall\": 0.0}, {\"count\": 10, \"cutoff\": 8, \"userId\": 348, \"precision\": 0.0, \"recall\": 0.0}, {\"count\": 10, \"cutoff\": 9, \"userId\": 348, \"precision\": 0.0, \"recall\": 0.0}, {\"count\": 10, \"cutoff\": 10, \"userId\": 348, \"precision\": 0.0, \"recall\": 0.0}, {\"count\": 10, \"cutoff\": 11, \"userId\": 348, \"precision\": 0.0, \"recall\": 0.0}, {\"count\": 10, \"cutoff\": 16, \"userId\": 348, \"precision\": 0.0625, \"recall\": 0.1}, {\"count\": 10, \"cutoff\": 21, \"userId\": 348, \"precision\": 0.047619047619047616, \"recall\": 0.1}, {\"count\": 10, \"cutoff\": 26, \"userId\": 348, \"precision\": 0.038461538461538464, \"recall\": 0.1}, {\"count\": 10, \"cutoff\": 31, \"userId\": 348, \"precision\": 0.06451612903225806, \"recall\": 0.2}, {\"count\": 10, \"cutoff\": 36, \"userId\": 348, \"precision\": 0.05555555555555555, \"recall\": 0.2}, {\"count\": 10, \"cutoff\": 41, \"userId\": 348, \"precision\": 0.07317073170731707, \"recall\": 0.3}, {\"count\": 10, \"cutoff\": 46, \"userId\": 348, \"precision\": 0.06521739130434782, \"recall\": 0.3}, {\"count\": 16, \"cutoff\": 1, \"userId\": 352, \"precision\": 0.0, \"recall\": 0.0}, {\"count\": 16, \"cutoff\": 2, \"userId\": 352, \"precision\": 0.0, \"recall\": 0.0}, {\"count\": 16, \"cutoff\": 3, \"userId\": 352, \"precision\": 0.0, \"recall\": 0.0}, {\"count\": 16, \"cutoff\": 4, \"userId\": 352, \"precision\": 0.0, \"recall\": 0.0}, {\"count\": 16, \"cutoff\": 5, \"userId\": 352, \"precision\": 0.0, \"recall\": 0.0}, {\"count\": 16, \"cutoff\": 6, \"userId\": 352, \"precision\": 0.16666666666666666, \"recall\": 0.0625}, {\"count\": 16, \"cutoff\": 7, \"userId\": 352, \"precision\": 0.14285714285714285, \"recall\": 0.0625}, {\"count\": 16, \"cutoff\": 8, \"userId\": 352, \"precision\": 0.125, \"recall\": 0.0625}, {\"count\": 16, \"cutoff\": 9, \"userId\": 352, \"precision\": 0.1111111111111111, \"recall\": 0.0625}, {\"count\": 16, \"cutoff\": 10, \"userId\": 352, \"precision\": 0.1, \"recall\": 0.0625}, {\"count\": 16, \"cutoff\": 11, \"userId\": 352, \"precision\": 0.09090909090909091, \"recall\": 0.0625}, {\"count\": 16, \"cutoff\": 16, \"userId\": 352, \"precision\": 0.0625, \"recall\": 0.0625}, {\"count\": 16, \"cutoff\": 21, \"userId\": 352, \"precision\": 0.047619047619047616, \"recall\": 0.0625}, {\"count\": 16, \"cutoff\": 26, \"userId\": 352, \"precision\": 0.038461538461538464, \"recall\": 0.0625}, {\"count\": 16, \"cutoff\": 31, \"userId\": 352, \"precision\": 0.06451612903225806, \"recall\": 0.125}, {\"count\": 16, \"cutoff\": 36, \"userId\": 352, \"precision\": 0.05555555555555555, \"recall\": 0.125}, {\"count\": 16, \"cutoff\": 41, \"userId\": 352, \"precision\": 0.04878048780487805, \"recall\": 0.125}, {\"count\": 16, \"cutoff\": 46, \"userId\": 352, \"precision\": 0.043478260869565216, \"recall\": 0.125}, {\"count\": 9, \"cutoff\": 1, \"userId\": 359, \"precision\": 0.0, \"recall\": 0.0}, {\"count\": 9, \"cutoff\": 2, \"userId\": 359, \"precision\": 0.0, \"recall\": 0.0}, {\"count\": 9, \"cutoff\": 3, \"userId\": 359, \"precision\": 0.0, \"recall\": 0.0}, {\"count\": 9, \"cutoff\": 4, \"userId\": 359, \"precision\": 0.0, \"recall\": 0.0}, {\"count\": 9, \"cutoff\": 5, \"userId\": 359, \"precision\": 0.0, \"recall\": 0.0}, {\"count\": 9, \"cutoff\": 6, \"userId\": 359, \"precision\": 0.0, \"recall\": 0.0}, {\"count\": 9, \"cutoff\": 7, \"userId\": 359, \"precision\": 0.0, \"recall\": 0.0}, {\"count\": 9, \"cutoff\": 8, \"userId\": 359, \"precision\": 0.0, \"recall\": 0.0}, {\"count\": 9, \"cutoff\": 9, \"userId\": 359, \"precision\": 0.0, \"recall\": 0.0}, {\"count\": 9, \"cutoff\": 10, \"userId\": 359, \"precision\": 0.0, \"recall\": 0.0}, {\"count\": 9, \"cutoff\": 11, \"userId\": 359, \"precision\": 0.0, \"recall\": 0.0}, {\"count\": 9, \"cutoff\": 16, \"userId\": 359, \"precision\": 0.0625, \"recall\": 0.1111111111111111}, {\"count\": 9, \"cutoff\": 21, \"userId\": 359, \"precision\": 0.047619047619047616, \"recall\": 0.1111111111111111}, {\"count\": 9, \"cutoff\": 26, \"userId\": 359, \"precision\": 0.038461538461538464, \"recall\": 0.1111111111111111}, {\"count\": 9, \"cutoff\": 31, \"userId\": 359, \"precision\": 0.03225806451612903, \"recall\": 0.1111111111111111}, {\"count\": 9, \"cutoff\": 36, \"userId\": 359, \"precision\": 0.027777777777777776, \"recall\": 0.1111111111111111}, {\"count\": 9, \"cutoff\": 41, \"userId\": 359, \"precision\": 0.024390243902439025, \"recall\": 0.1111111111111111}, {\"count\": 9, \"cutoff\": 46, \"userId\": 359, \"precision\": 0.021739130434782608, \"recall\": 0.1111111111111111}, {\"count\": 28, \"cutoff\": 1, \"userId\": 362, \"precision\": 1.0, \"recall\": 0.03571428571428571}, {\"count\": 28, \"cutoff\": 2, \"userId\": 362, \"precision\": 0.5, \"recall\": 0.03571428571428571}, {\"count\": 28, \"cutoff\": 3, \"userId\": 362, \"precision\": 0.3333333333333333, \"recall\": 0.03571428571428571}, {\"count\": 28, \"cutoff\": 4, \"userId\": 362, \"precision\": 0.25, \"recall\": 0.03571428571428571}, {\"count\": 28, \"cutoff\": 5, \"userId\": 362, \"precision\": 0.2, \"recall\": 0.03571428571428571}, {\"count\": 28, \"cutoff\": 6, \"userId\": 362, \"precision\": 0.3333333333333333, \"recall\": 0.07142857142857142}, {\"count\": 28, \"cutoff\": 7, \"userId\": 362, \"precision\": 0.2857142857142857, \"recall\": 0.07142857142857142}, {\"count\": 28, \"cutoff\": 8, \"userId\": 362, \"precision\": 0.375, \"recall\": 0.10714285714285714}, {\"count\": 28, \"cutoff\": 9, \"userId\": 362, \"precision\": 0.4444444444444444, \"recall\": 0.14285714285714285}, {\"count\": 28, \"cutoff\": 10, \"userId\": 362, \"precision\": 0.5, \"recall\": 0.17857142857142858}, {\"count\": 28, \"cutoff\": 11, \"userId\": 362, \"precision\": 0.45454545454545453, \"recall\": 0.17857142857142858}, {\"count\": 28, \"cutoff\": 16, \"userId\": 362, \"precision\": 0.3125, \"recall\": 0.17857142857142858}, {\"count\": 28, \"cutoff\": 21, \"userId\": 362, \"precision\": 0.2857142857142857, \"recall\": 0.21428571428571427}, {\"count\": 28, \"cutoff\": 26, \"userId\": 362, \"precision\": 0.23076923076923078, \"recall\": 0.21428571428571427}, {\"count\": 28, \"cutoff\": 31, \"userId\": 362, \"precision\": 0.1935483870967742, \"recall\": 0.21428571428571427}, {\"count\": 28, \"cutoff\": 36, \"userId\": 362, \"precision\": 0.16666666666666666, \"recall\": 0.21428571428571427}, {\"count\": 28, \"cutoff\": 41, \"userId\": 362, \"precision\": 0.17073170731707318, \"recall\": 0.25}, {\"count\": 28, \"cutoff\": 46, \"userId\": 362, \"precision\": 0.15217391304347827, \"recall\": 0.25}, {\"count\": 42, \"cutoff\": 1, \"userId\": 367, \"precision\": 0.0, \"recall\": 0.0}, {\"count\": 42, \"cutoff\": 2, \"userId\": 367, \"precision\": 0.0, \"recall\": 0.0}, {\"count\": 42, \"cutoff\": 3, \"userId\": 367, \"precision\": 0.0, \"recall\": 0.0}, {\"count\": 42, \"cutoff\": 4, \"userId\": 367, \"precision\": 0.0, \"recall\": 0.0}, {\"count\": 42, \"cutoff\": 5, \"userId\": 367, \"precision\": 0.0, \"recall\": 0.0}, {\"count\": 42, \"cutoff\": 6, \"userId\": 367, \"precision\": 0.16666666666666666, \"recall\": 0.023809523809523808}, {\"count\": 42, \"cutoff\": 7, \"userId\": 367, \"precision\": 0.2857142857142857, \"recall\": 0.047619047619047616}, {\"count\": 42, \"cutoff\": 8, \"userId\": 367, \"precision\": 0.375, \"recall\": 0.07142857142857142}, {\"count\": 42, \"cutoff\": 9, \"userId\": 367, \"precision\": 0.3333333333333333, \"recall\": 0.07142857142857142}, {\"count\": 42, \"cutoff\": 10, \"userId\": 367, \"precision\": 0.3, \"recall\": 0.07142857142857142}, {\"count\": 42, \"cutoff\": 11, \"userId\": 367, \"precision\": 0.2727272727272727, \"recall\": 0.07142857142857142}, {\"count\": 42, \"cutoff\": 16, \"userId\": 367, \"precision\": 0.1875, \"recall\": 0.07142857142857142}, {\"count\": 42, \"cutoff\": 21, \"userId\": 367, \"precision\": 0.19047619047619047, \"recall\": 0.09523809523809523}, {\"count\": 42, \"cutoff\": 26, \"userId\": 367, \"precision\": 0.15384615384615385, \"recall\": 0.09523809523809523}, {\"count\": 42, \"cutoff\": 31, \"userId\": 367, \"precision\": 0.1935483870967742, \"recall\": 0.14285714285714285}, {\"count\": 42, \"cutoff\": 36, \"userId\": 367, \"precision\": 0.16666666666666666, \"recall\": 0.14285714285714285}, {\"count\": 42, \"cutoff\": 41, \"userId\": 367, \"precision\": 0.14634146341463414, \"recall\": 0.14285714285714285}, {\"count\": 42, \"cutoff\": 46, \"userId\": 367, \"precision\": 0.13043478260869565, \"recall\": 0.14285714285714285}, {\"count\": 13, \"cutoff\": 1, \"userId\": 369, \"precision\": 0.0, \"recall\": 0.0}, {\"count\": 13, \"cutoff\": 2, \"userId\": 369, \"precision\": 0.0, \"recall\": 0.0}, {\"count\": 13, \"cutoff\": 3, \"userId\": 369, \"precision\": 0.0, \"recall\": 0.0}, {\"count\": 13, \"cutoff\": 4, \"userId\": 369, \"precision\": 0.0, \"recall\": 0.0}, {\"count\": 13, \"cutoff\": 5, \"userId\": 369, \"precision\": 0.0, \"recall\": 0.0}, {\"count\": 13, \"cutoff\": 6, \"userId\": 369, \"precision\": 0.0, \"recall\": 0.0}, {\"count\": 13, \"cutoff\": 7, \"userId\": 369, \"precision\": 0.0, \"recall\": 0.0}, {\"count\": 13, \"cutoff\": 8, \"userId\": 369, \"precision\": 0.0, \"recall\": 0.0}, {\"count\": 13, \"cutoff\": 9, \"userId\": 369, \"precision\": 0.0, \"recall\": 0.0}, {\"count\": 13, \"cutoff\": 10, \"userId\": 369, \"precision\": 0.0, \"recall\": 0.0}, {\"count\": 13, \"cutoff\": 11, \"userId\": 369, \"precision\": 0.0, \"recall\": 0.0}, {\"count\": 13, \"cutoff\": 16, \"userId\": 369, \"precision\": 0.0, \"recall\": 0.0}, {\"count\": 13, \"cutoff\": 21, \"userId\": 369, \"precision\": 0.0, \"recall\": 0.0}, {\"count\": 13, \"cutoff\": 26, \"userId\": 369, \"precision\": 0.0, \"recall\": 0.0}, {\"count\": 13, \"cutoff\": 31, \"userId\": 369, \"precision\": 0.0, \"recall\": 0.0}, {\"count\": 13, \"cutoff\": 36, \"userId\": 369, \"precision\": 0.0, \"recall\": 0.0}, {\"count\": 13, \"cutoff\": 41, \"userId\": 369, \"precision\": 0.0, \"recall\": 0.0}, {\"count\": 13, \"cutoff\": 46, \"userId\": 369, \"precision\": 0.0, \"recall\": 0.0}, {\"count\": 23, \"cutoff\": 1, \"userId\": 370, \"precision\": 0.0, \"recall\": 0.0}, {\"count\": 23, \"cutoff\": 2, \"userId\": 370, \"precision\": 0.0, \"recall\": 0.0}, {\"count\": 23, \"cutoff\": 3, \"userId\": 370, \"precision\": 0.0, \"recall\": 0.0}, {\"count\": 23, \"cutoff\": 4, \"userId\": 370, \"precision\": 0.25, \"recall\": 0.043478260869565216}, {\"count\": 23, \"cutoff\": 5, \"userId\": 370, \"precision\": 0.2, \"recall\": 0.043478260869565216}, {\"count\": 23, \"cutoff\": 6, \"userId\": 370, \"precision\": 0.16666666666666666, \"recall\": 0.043478260869565216}, {\"count\": 23, \"cutoff\": 7, \"userId\": 370, \"precision\": 0.14285714285714285, \"recall\": 0.043478260869565216}, {\"count\": 23, \"cutoff\": 8, \"userId\": 370, \"precision\": 0.125, \"recall\": 0.043478260869565216}, {\"count\": 23, \"cutoff\": 9, \"userId\": 370, \"precision\": 0.1111111111111111, \"recall\": 0.043478260869565216}, {\"count\": 23, \"cutoff\": 10, \"userId\": 370, \"precision\": 0.1, \"recall\": 0.043478260869565216}, {\"count\": 23, \"cutoff\": 11, \"userId\": 370, \"precision\": 0.18181818181818182, \"recall\": 0.08695652173913043}, {\"count\": 23, \"cutoff\": 16, \"userId\": 370, \"precision\": 0.125, \"recall\": 0.08695652173913043}, {\"count\": 23, \"cutoff\": 21, \"userId\": 370, \"precision\": 0.19047619047619047, \"recall\": 0.17391304347826086}, {\"count\": 23, \"cutoff\": 26, \"userId\": 370, \"precision\": 0.15384615384615385, \"recall\": 0.17391304347826086}, {\"count\": 23, \"cutoff\": 31, \"userId\": 370, \"precision\": 0.16129032258064516, \"recall\": 0.21739130434782608}, {\"count\": 23, \"cutoff\": 36, \"userId\": 370, \"precision\": 0.16666666666666666, \"recall\": 0.2608695652173913}, {\"count\": 23, \"cutoff\": 41, \"userId\": 370, \"precision\": 0.14634146341463414, \"recall\": 0.2608695652173913}, {\"count\": 23, \"cutoff\": 46, \"userId\": 370, \"precision\": 0.15217391304347827, \"recall\": 0.30434782608695654}, {\"count\": 3, \"cutoff\": 1, \"userId\": 375, \"precision\": 0.0, \"recall\": 0.0}, {\"count\": 3, \"cutoff\": 2, \"userId\": 375, \"precision\": 0.0, \"recall\": 0.0}, {\"count\": 3, \"cutoff\": 3, \"userId\": 375, \"precision\": 0.3333333333333333, \"recall\": 0.3333333333333333}, {\"count\": 3, \"cutoff\": 4, \"userId\": 375, \"precision\": 0.25, \"recall\": 0.3333333333333333}, {\"count\": 3, \"cutoff\": 5, \"userId\": 375, \"precision\": 0.2, \"recall\": 0.3333333333333333}, {\"count\": 3, \"cutoff\": 6, \"userId\": 375, \"precision\": 0.16666666666666666, \"recall\": 0.3333333333333333}, {\"count\": 3, \"cutoff\": 7, \"userId\": 375, \"precision\": 0.14285714285714285, \"recall\": 0.3333333333333333}, {\"count\": 3, \"cutoff\": 8, \"userId\": 375, \"precision\": 0.125, \"recall\": 0.3333333333333333}, {\"count\": 3, \"cutoff\": 9, \"userId\": 375, \"precision\": 0.1111111111111111, \"recall\": 0.3333333333333333}, {\"count\": 3, \"cutoff\": 10, \"userId\": 375, \"precision\": 0.1, \"recall\": 0.3333333333333333}, {\"count\": 3, \"cutoff\": 11, \"userId\": 375, \"precision\": 0.09090909090909091, \"recall\": 0.3333333333333333}, {\"count\": 3, \"cutoff\": 16, \"userId\": 375, \"precision\": 0.0625, \"recall\": 0.3333333333333333}, {\"count\": 3, \"cutoff\": 21, \"userId\": 375, \"precision\": 0.047619047619047616, \"recall\": 0.3333333333333333}, {\"count\": 3, \"cutoff\": 26, \"userId\": 375, \"precision\": 0.038461538461538464, \"recall\": 0.3333333333333333}, {\"count\": 3, \"cutoff\": 31, \"userId\": 375, \"precision\": 0.06451612903225806, \"recall\": 0.6666666666666666}, {\"count\": 3, \"cutoff\": 36, \"userId\": 375, \"precision\": 0.05555555555555555, \"recall\": 0.6666666666666666}, {\"count\": 3, \"cutoff\": 41, \"userId\": 375, \"precision\": 0.04878048780487805, \"recall\": 0.6666666666666666}, {\"count\": 3, \"cutoff\": 46, \"userId\": 375, \"precision\": 0.043478260869565216, \"recall\": 0.6666666666666666}, {\"count\": 11, \"cutoff\": 1, \"userId\": 376, \"precision\": 1.0, \"recall\": 0.09090909090909091}, {\"count\": 11, \"cutoff\": 2, \"userId\": 376, \"precision\": 1.0, \"recall\": 0.18181818181818182}, {\"count\": 11, \"cutoff\": 3, \"userId\": 376, \"precision\": 0.6666666666666666, \"recall\": 0.18181818181818182}, {\"count\": 11, \"cutoff\": 4, \"userId\": 376, \"precision\": 0.5, \"recall\": 0.18181818181818182}, {\"count\": 11, \"cutoff\": 5, \"userId\": 376, \"precision\": 0.4, \"recall\": 0.18181818181818182}, {\"count\": 11, \"cutoff\": 6, \"userId\": 376, \"precision\": 0.3333333333333333, \"recall\": 0.18181818181818182}, {\"count\": 11, \"cutoff\": 7, \"userId\": 376, \"precision\": 0.2857142857142857, \"recall\": 0.18181818181818182}, {\"count\": 11, \"cutoff\": 8, \"userId\": 376, \"precision\": 0.25, \"recall\": 0.18181818181818182}, {\"count\": 11, \"cutoff\": 9, \"userId\": 376, \"precision\": 0.2222222222222222, \"recall\": 0.18181818181818182}, {\"count\": 11, \"cutoff\": 10, \"userId\": 376, \"precision\": 0.2, \"recall\": 0.18181818181818182}, {\"count\": 11, \"cutoff\": 11, \"userId\": 376, \"precision\": 0.18181818181818182, \"recall\": 0.18181818181818182}, {\"count\": 11, \"cutoff\": 16, \"userId\": 376, \"precision\": 0.125, \"recall\": 0.18181818181818182}, {\"count\": 11, \"cutoff\": 21, \"userId\": 376, \"precision\": 0.14285714285714285, \"recall\": 0.2727272727272727}, {\"count\": 11, \"cutoff\": 26, \"userId\": 376, \"precision\": 0.11538461538461539, \"recall\": 0.2727272727272727}, {\"count\": 11, \"cutoff\": 31, \"userId\": 376, \"precision\": 0.0967741935483871, \"recall\": 0.2727272727272727}, {\"count\": 11, \"cutoff\": 36, \"userId\": 376, \"precision\": 0.08333333333333333, \"recall\": 0.2727272727272727}, {\"count\": 11, \"cutoff\": 41, \"userId\": 376, \"precision\": 0.07317073170731707, \"recall\": 0.2727272727272727}, {\"count\": 11, \"cutoff\": 46, \"userId\": 376, \"precision\": 0.08695652173913043, \"recall\": 0.36363636363636365}, {\"count\": 28, \"cutoff\": 1, \"userId\": 390, \"precision\": 0.0, \"recall\": 0.0}, {\"count\": 28, \"cutoff\": 2, \"userId\": 390, \"precision\": 0.0, \"recall\": 0.0}, {\"count\": 28, \"cutoff\": 3, \"userId\": 390, \"precision\": 0.0, \"recall\": 0.0}, {\"count\": 28, \"cutoff\": 4, \"userId\": 390, \"precision\": 0.0, \"recall\": 0.0}, {\"count\": 28, \"cutoff\": 5, \"userId\": 390, \"precision\": 0.0, \"recall\": 0.0}, {\"count\": 28, \"cutoff\": 6, \"userId\": 390, \"precision\": 0.0, \"recall\": 0.0}, {\"count\": 28, \"cutoff\": 7, \"userId\": 390, \"precision\": 0.14285714285714285, \"recall\": 0.03571428571428571}, {\"count\": 28, \"cutoff\": 8, \"userId\": 390, \"precision\": 0.125, \"recall\": 0.03571428571428571}, {\"count\": 28, \"cutoff\": 9, \"userId\": 390, \"precision\": 0.1111111111111111, \"recall\": 0.03571428571428571}, {\"count\": 28, \"cutoff\": 10, \"userId\": 390, \"precision\": 0.1, \"recall\": 0.03571428571428571}, {\"count\": 28, \"cutoff\": 11, \"userId\": 390, \"precision\": 0.09090909090909091, \"recall\": 0.03571428571428571}, {\"count\": 28, \"cutoff\": 16, \"userId\": 390, \"precision\": 0.125, \"recall\": 0.07142857142857142}, {\"count\": 28, \"cutoff\": 21, \"userId\": 390, \"precision\": 0.09523809523809523, \"recall\": 0.07142857142857142}, {\"count\": 28, \"cutoff\": 26, \"userId\": 390, \"precision\": 0.11538461538461539, \"recall\": 0.10714285714285714}, {\"count\": 28, \"cutoff\": 31, \"userId\": 390, \"precision\": 0.0967741935483871, \"recall\": 0.10714285714285714}, {\"count\": 28, \"cutoff\": 36, \"userId\": 390, \"precision\": 0.1111111111111111, \"recall\": 0.14285714285714285}, {\"count\": 28, \"cutoff\": 41, \"userId\": 390, \"precision\": 0.12195121951219512, \"recall\": 0.17857142857142858}, {\"count\": 28, \"cutoff\": 46, \"userId\": 390, \"precision\": 0.10869565217391304, \"recall\": 0.17857142857142858}, {\"count\": 26, \"cutoff\": 1, \"userId\": 391, \"precision\": 0.0, \"recall\": 0.0}, {\"count\": 26, \"cutoff\": 2, \"userId\": 391, \"precision\": 0.0, \"recall\": 0.0}, {\"count\": 26, \"cutoff\": 3, \"userId\": 391, \"precision\": 0.0, \"recall\": 0.0}, {\"count\": 26, \"cutoff\": 4, \"userId\": 391, \"precision\": 0.0, \"recall\": 0.0}, {\"count\": 26, \"cutoff\": 5, \"userId\": 391, \"precision\": 0.0, \"recall\": 0.0}, {\"count\": 26, \"cutoff\": 6, \"userId\": 391, \"precision\": 0.0, \"recall\": 0.0}, {\"count\": 26, \"cutoff\": 7, \"userId\": 391, \"precision\": 0.0, \"recall\": 0.0}, {\"count\": 26, \"cutoff\": 8, \"userId\": 391, \"precision\": 0.0, \"recall\": 0.0}, {\"count\": 26, \"cutoff\": 9, \"userId\": 391, \"precision\": 0.0, \"recall\": 0.0}, {\"count\": 26, \"cutoff\": 10, \"userId\": 391, \"precision\": 0.0, \"recall\": 0.0}, {\"count\": 26, \"cutoff\": 11, \"userId\": 391, \"precision\": 0.0, \"recall\": 0.0}, {\"count\": 26, \"cutoff\": 16, \"userId\": 391, \"precision\": 0.0, \"recall\": 0.0}, {\"count\": 26, \"cutoff\": 21, \"userId\": 391, \"precision\": 0.0, \"recall\": 0.0}, {\"count\": 26, \"cutoff\": 26, \"userId\": 391, \"precision\": 0.038461538461538464, \"recall\": 0.038461538461538464}, {\"count\": 26, \"cutoff\": 31, \"userId\": 391, \"precision\": 0.06451612903225806, \"recall\": 0.07692307692307693}, {\"count\": 26, \"cutoff\": 36, \"userId\": 391, \"precision\": 0.05555555555555555, \"recall\": 0.07692307692307693}, {\"count\": 26, \"cutoff\": 41, \"userId\": 391, \"precision\": 0.04878048780487805, \"recall\": 0.07692307692307693}, {\"count\": 26, \"cutoff\": 46, \"userId\": 391, \"precision\": 0.06521739130434782, \"recall\": 0.11538461538461539}, {\"count\": 12, \"cutoff\": 1, \"userId\": 393, \"precision\": 0.0, \"recall\": 0.0}, {\"count\": 12, \"cutoff\": 2, \"userId\": 393, \"precision\": 0.0, \"recall\": 0.0}, {\"count\": 12, \"cutoff\": 3, \"userId\": 393, \"precision\": 0.0, \"recall\": 0.0}, {\"count\": 12, \"cutoff\": 4, \"userId\": 393, \"precision\": 0.0, \"recall\": 0.0}, {\"count\": 12, \"cutoff\": 5, \"userId\": 393, \"precision\": 0.0, \"recall\": 0.0}, {\"count\": 12, \"cutoff\": 6, \"userId\": 393, \"precision\": 0.0, \"recall\": 0.0}, {\"count\": 12, \"cutoff\": 7, \"userId\": 393, \"precision\": 0.0, \"recall\": 0.0}, {\"count\": 12, \"cutoff\": 8, \"userId\": 393, \"precision\": 0.0, \"recall\": 0.0}, {\"count\": 12, \"cutoff\": 9, \"userId\": 393, \"precision\": 0.0, \"recall\": 0.0}, {\"count\": 12, \"cutoff\": 10, \"userId\": 393, \"precision\": 0.0, \"recall\": 0.0}, {\"count\": 12, \"cutoff\": 11, \"userId\": 393, \"precision\": 0.0, \"recall\": 0.0}, {\"count\": 12, \"cutoff\": 16, \"userId\": 393, \"precision\": 0.0, \"recall\": 0.0}, {\"count\": 12, \"cutoff\": 21, \"userId\": 393, \"precision\": 0.0, \"recall\": 0.0}, {\"count\": 12, \"cutoff\": 26, \"userId\": 393, \"precision\": 0.0, \"recall\": 0.0}, {\"count\": 12, \"cutoff\": 31, \"userId\": 393, \"precision\": 0.0, \"recall\": 0.0}, {\"count\": 12, \"cutoff\": 36, \"userId\": 393, \"precision\": 0.0, \"recall\": 0.0}, {\"count\": 12, \"cutoff\": 41, \"userId\": 393, \"precision\": 0.0, \"recall\": 0.0}, {\"count\": 12, \"cutoff\": 46, \"userId\": 393, \"precision\": 0.0, \"recall\": 0.0}, {\"count\": 35, \"cutoff\": 1, \"userId\": 394, \"precision\": 1.0, \"recall\": 0.02857142857142857}, {\"count\": 35, \"cutoff\": 2, \"userId\": 394, \"precision\": 1.0, \"recall\": 0.05714285714285714}, {\"count\": 35, \"cutoff\": 3, \"userId\": 394, \"precision\": 0.6666666666666666, \"recall\": 0.05714285714285714}, {\"count\": 35, \"cutoff\": 4, \"userId\": 394, \"precision\": 0.5, \"recall\": 0.05714285714285714}, {\"count\": 35, \"cutoff\": 5, \"userId\": 394, \"precision\": 0.4, \"recall\": 0.05714285714285714}, {\"count\": 35, \"cutoff\": 6, \"userId\": 394, \"precision\": 0.3333333333333333, \"recall\": 0.05714285714285714}, {\"count\": 35, \"cutoff\": 7, \"userId\": 394, \"precision\": 0.2857142857142857, \"recall\": 0.05714285714285714}, {\"count\": 35, \"cutoff\": 8, \"userId\": 394, \"precision\": 0.25, \"recall\": 0.05714285714285714}, {\"count\": 35, \"cutoff\": 9, \"userId\": 394, \"precision\": 0.3333333333333333, \"recall\": 0.08571428571428572}, {\"count\": 35, \"cutoff\": 10, \"userId\": 394, \"precision\": 0.3, \"recall\": 0.08571428571428572}, {\"count\": 35, \"cutoff\": 11, \"userId\": 394, \"precision\": 0.2727272727272727, \"recall\": 0.08571428571428572}, {\"count\": 35, \"cutoff\": 16, \"userId\": 394, \"precision\": 0.3125, \"recall\": 0.14285714285714285}, {\"count\": 35, \"cutoff\": 21, \"userId\": 394, \"precision\": 0.23809523809523808, \"recall\": 0.14285714285714285}, {\"count\": 35, \"cutoff\": 26, \"userId\": 394, \"precision\": 0.19230769230769232, \"recall\": 0.14285714285714285}, {\"count\": 35, \"cutoff\": 31, \"userId\": 394, \"precision\": 0.16129032258064516, \"recall\": 0.14285714285714285}, {\"count\": 35, \"cutoff\": 36, \"userId\": 394, \"precision\": 0.1388888888888889, \"recall\": 0.14285714285714285}, {\"count\": 35, \"cutoff\": 41, \"userId\": 394, \"precision\": 0.12195121951219512, \"recall\": 0.14285714285714285}, {\"count\": 35, \"cutoff\": 46, \"userId\": 394, \"precision\": 0.13043478260869565, \"recall\": 0.17142857142857143}, {\"count\": 35, \"cutoff\": 1, \"userId\": 396, \"precision\": 0.0, \"recall\": 0.0}, {\"count\": 35, \"cutoff\": 2, \"userId\": 396, \"precision\": 0.0, \"recall\": 0.0}, {\"count\": 35, \"cutoff\": 3, \"userId\": 396, \"precision\": 0.0, \"recall\": 0.0}, {\"count\": 35, \"cutoff\": 4, \"userId\": 396, \"precision\": 0.0, \"recall\": 0.0}, {\"count\": 35, \"cutoff\": 5, \"userId\": 396, \"precision\": 0.0, \"recall\": 0.0}, {\"count\": 35, \"cutoff\": 6, \"userId\": 396, \"precision\": 0.0, \"recall\": 0.0}, {\"count\": 35, \"cutoff\": 7, \"userId\": 396, \"precision\": 0.0, \"recall\": 0.0}, {\"count\": 35, \"cutoff\": 8, \"userId\": 396, \"precision\": 0.0, \"recall\": 0.0}, {\"count\": 35, \"cutoff\": 9, \"userId\": 396, \"precision\": 0.0, \"recall\": 0.0}, {\"count\": 35, \"cutoff\": 10, \"userId\": 396, \"precision\": 0.0, \"recall\": 0.0}, {\"count\": 35, \"cutoff\": 11, \"userId\": 396, \"precision\": 0.0, \"recall\": 0.0}, {\"count\": 35, \"cutoff\": 16, \"userId\": 396, \"precision\": 0.0, \"recall\": 0.0}, {\"count\": 35, \"cutoff\": 21, \"userId\": 396, \"precision\": 0.0, \"recall\": 0.0}, {\"count\": 35, \"cutoff\": 26, \"userId\": 396, \"precision\": 0.0, \"recall\": 0.0}, {\"count\": 35, \"cutoff\": 31, \"userId\": 396, \"precision\": 0.06451612903225806, \"recall\": 0.05714285714285714}, {\"count\": 35, \"cutoff\": 36, \"userId\": 396, \"precision\": 0.05555555555555555, \"recall\": 0.05714285714285714}, {\"count\": 35, \"cutoff\": 41, \"userId\": 396, \"precision\": 0.04878048780487805, \"recall\": 0.05714285714285714}, {\"count\": 35, \"cutoff\": 46, \"userId\": 396, \"precision\": 0.043478260869565216, \"recall\": 0.05714285714285714}, {\"count\": 9, \"cutoff\": 1, \"userId\": 400, \"precision\": 0.0, \"recall\": 0.0}, {\"count\": 9, \"cutoff\": 2, \"userId\": 400, \"precision\": 0.0, \"recall\": 0.0}, {\"count\": 9, \"cutoff\": 3, \"userId\": 400, \"precision\": 0.0, \"recall\": 0.0}, {\"count\": 9, \"cutoff\": 4, \"userId\": 400, \"precision\": 0.0, \"recall\": 0.0}, {\"count\": 9, \"cutoff\": 5, \"userId\": 400, \"precision\": 0.0, \"recall\": 0.0}, {\"count\": 9, \"cutoff\": 6, \"userId\": 400, \"precision\": 0.0, \"recall\": 0.0}, {\"count\": 9, \"cutoff\": 7, \"userId\": 400, \"precision\": 0.0, \"recall\": 0.0}, {\"count\": 9, \"cutoff\": 8, \"userId\": 400, \"precision\": 0.0, \"recall\": 0.0}, {\"count\": 9, \"cutoff\": 9, \"userId\": 400, \"precision\": 0.0, \"recall\": 0.0}, {\"count\": 9, \"cutoff\": 10, \"userId\": 400, \"precision\": 0.0, \"recall\": 0.0}, {\"count\": 9, \"cutoff\": 11, \"userId\": 400, \"precision\": 0.0, \"recall\": 0.0}, {\"count\": 9, \"cutoff\": 16, \"userId\": 400, \"precision\": 0.0, \"recall\": 0.0}, {\"count\": 9, \"cutoff\": 21, \"userId\": 400, \"precision\": 0.0, \"recall\": 0.0}, {\"count\": 9, \"cutoff\": 26, \"userId\": 400, \"precision\": 0.0, \"recall\": 0.0}, {\"count\": 9, \"cutoff\": 31, \"userId\": 400, \"precision\": 0.0, \"recall\": 0.0}, {\"count\": 9, \"cutoff\": 36, \"userId\": 400, \"precision\": 0.0, \"recall\": 0.0}, {\"count\": 9, \"cutoff\": 41, \"userId\": 400, \"precision\": 0.0, \"recall\": 0.0}, {\"count\": 9, \"cutoff\": 46, \"userId\": 400, \"precision\": 0.0, \"recall\": 0.0}, {\"count\": 18, \"cutoff\": 1, \"userId\": 401, \"precision\": 0.0, \"recall\": 0.0}, {\"count\": 18, \"cutoff\": 2, \"userId\": 401, \"precision\": 0.0, \"recall\": 0.0}, {\"count\": 18, \"cutoff\": 3, \"userId\": 401, \"precision\": 0.0, \"recall\": 0.0}, {\"count\": 18, \"cutoff\": 4, \"userId\": 401, \"precision\": 0.0, \"recall\": 0.0}, {\"count\": 18, \"cutoff\": 5, \"userId\": 401, \"precision\": 0.0, \"recall\": 0.0}, {\"count\": 18, \"cutoff\": 6, \"userId\": 401, \"precision\": 0.16666666666666666, \"recall\": 0.05555555555555555}, {\"count\": 18, \"cutoff\": 7, \"userId\": 401, \"precision\": 0.14285714285714285, \"recall\": 0.05555555555555555}, {\"count\": 18, \"cutoff\": 8, \"userId\": 401, \"precision\": 0.125, \"recall\": 0.05555555555555555}, {\"count\": 18, \"cutoff\": 9, \"userId\": 401, \"precision\": 0.1111111111111111, \"recall\": 0.05555555555555555}, {\"count\": 18, \"cutoff\": 10, \"userId\": 401, \"precision\": 0.2, \"recall\": 0.1111111111111111}, {\"count\": 18, \"cutoff\": 11, \"userId\": 401, \"precision\": 0.18181818181818182, \"recall\": 0.1111111111111111}, {\"count\": 18, \"cutoff\": 16, \"userId\": 401, \"precision\": 0.1875, \"recall\": 0.16666666666666666}, {\"count\": 18, \"cutoff\": 21, \"userId\": 401, \"precision\": 0.14285714285714285, \"recall\": 0.16666666666666666}, {\"count\": 18, \"cutoff\": 26, \"userId\": 401, \"precision\": 0.11538461538461539, \"recall\": 0.16666666666666666}, {\"count\": 18, \"cutoff\": 31, \"userId\": 401, \"precision\": 0.0967741935483871, \"recall\": 0.16666666666666666}, {\"count\": 18, \"cutoff\": 36, \"userId\": 401, \"precision\": 0.1111111111111111, \"recall\": 0.2222222222222222}, {\"count\": 18, \"cutoff\": 41, \"userId\": 401, \"precision\": 0.0975609756097561, \"recall\": 0.2222222222222222}, {\"count\": 18, \"cutoff\": 46, \"userId\": 401, \"precision\": 0.08695652173913043, \"recall\": 0.2222222222222222}, {\"count\": 87, \"cutoff\": 1, \"userId\": 405, \"precision\": 0.0, \"recall\": 0.0}, {\"count\": 87, \"cutoff\": 2, \"userId\": 405, \"precision\": 0.0, \"recall\": 0.0}, {\"count\": 87, \"cutoff\": 3, \"userId\": 405, \"precision\": 0.0, \"recall\": 0.0}, {\"count\": 87, \"cutoff\": 4, \"userId\": 405, \"precision\": 0.0, \"recall\": 0.0}, {\"count\": 87, \"cutoff\": 5, \"userId\": 405, \"precision\": 0.0, \"recall\": 0.0}, {\"count\": 87, \"cutoff\": 6, \"userId\": 405, \"precision\": 0.16666666666666666, \"recall\": 0.011494252873563218}, {\"count\": 87, \"cutoff\": 7, \"userId\": 405, \"precision\": 0.14285714285714285, \"recall\": 0.011494252873563218}, {\"count\": 87, \"cutoff\": 8, \"userId\": 405, \"precision\": 0.125, \"recall\": 0.011494252873563218}, {\"count\": 87, \"cutoff\": 9, \"userId\": 405, \"precision\": 0.1111111111111111, \"recall\": 0.011494252873563218}, {\"count\": 87, \"cutoff\": 10, \"userId\": 405, \"precision\": 0.1, \"recall\": 0.011494252873563218}, {\"count\": 87, \"cutoff\": 11, \"userId\": 405, \"precision\": 0.09090909090909091, \"recall\": 0.011494252873563218}, {\"count\": 87, \"cutoff\": 16, \"userId\": 405, \"precision\": 0.125, \"recall\": 0.022988505747126436}, {\"count\": 87, \"cutoff\": 21, \"userId\": 405, \"precision\": 0.09523809523809523, \"recall\": 0.022988505747126436}, {\"count\": 87, \"cutoff\": 26, \"userId\": 405, \"precision\": 0.11538461538461539, \"recall\": 0.034482758620689655}, {\"count\": 87, \"cutoff\": 31, \"userId\": 405, \"precision\": 0.0967741935483871, \"recall\": 0.034482758620689655}, {\"count\": 87, \"cutoff\": 36, \"userId\": 405, \"precision\": 0.1111111111111111, \"recall\": 0.04597701149425287}, {\"count\": 87, \"cutoff\": 41, \"userId\": 405, \"precision\": 0.12195121951219512, \"recall\": 0.05747126436781609}, {\"count\": 87, \"cutoff\": 46, \"userId\": 405, \"precision\": 0.10869565217391304, \"recall\": 0.05747126436781609}, {\"count\": 12, \"cutoff\": 1, \"userId\": 406, \"precision\": 0.0, \"recall\": 0.0}, {\"count\": 12, \"cutoff\": 2, \"userId\": 406, \"precision\": 0.0, \"recall\": 0.0}, {\"count\": 12, \"cutoff\": 3, \"userId\": 406, \"precision\": 0.0, \"recall\": 0.0}, {\"count\": 12, \"cutoff\": 4, \"userId\": 406, \"precision\": 0.0, \"recall\": 0.0}, {\"count\": 12, \"cutoff\": 5, \"userId\": 406, \"precision\": 0.0, \"recall\": 0.0}, {\"count\": 12, \"cutoff\": 6, \"userId\": 406, \"precision\": 0.0, \"recall\": 0.0}, {\"count\": 12, \"cutoff\": 7, \"userId\": 406, \"precision\": 0.0, \"recall\": 0.0}, {\"count\": 12, \"cutoff\": 8, \"userId\": 406, \"precision\": 0.0, \"recall\": 0.0}, {\"count\": 12, \"cutoff\": 9, \"userId\": 406, \"precision\": 0.0, \"recall\": 0.0}, {\"count\": 12, \"cutoff\": 10, \"userId\": 406, \"precision\": 0.0, \"recall\": 0.0}, {\"count\": 12, \"cutoff\": 11, \"userId\": 406, \"precision\": 0.0, \"recall\": 0.0}, {\"count\": 12, \"cutoff\": 16, \"userId\": 406, \"precision\": 0.0, \"recall\": 0.0}, {\"count\": 12, \"cutoff\": 21, \"userId\": 406, \"precision\": 0.0, \"recall\": 0.0}, {\"count\": 12, \"cutoff\": 26, \"userId\": 406, \"precision\": 0.0, \"recall\": 0.0}, {\"count\": 12, \"cutoff\": 31, \"userId\": 406, \"precision\": 0.0, \"recall\": 0.0}, {\"count\": 12, \"cutoff\": 36, \"userId\": 406, \"precision\": 0.0, \"recall\": 0.0}, {\"count\": 12, \"cutoff\": 41, \"userId\": 406, \"precision\": 0.0, \"recall\": 0.0}, {\"count\": 12, \"cutoff\": 46, \"userId\": 406, \"precision\": 0.021739130434782608, \"recall\": 0.08333333333333333}, {\"count\": 4, \"cutoff\": 1, \"userId\": 410, \"precision\": 0.0, \"recall\": 0.0}, {\"count\": 4, \"cutoff\": 2, \"userId\": 410, \"precision\": 0.0, \"recall\": 0.0}, {\"count\": 4, \"cutoff\": 3, \"userId\": 410, \"precision\": 0.3333333333333333, \"recall\": 0.25}, {\"count\": 4, \"cutoff\": 4, \"userId\": 410, \"precision\": 0.25, \"recall\": 0.25}, {\"count\": 4, \"cutoff\": 5, \"userId\": 410, \"precision\": 0.2, \"recall\": 0.25}, {\"count\": 4, \"cutoff\": 6, \"userId\": 410, \"precision\": 0.16666666666666666, \"recall\": 0.25}, {\"count\": 4, \"cutoff\": 7, \"userId\": 410, \"precision\": 0.14285714285714285, \"recall\": 0.25}, {\"count\": 4, \"cutoff\": 8, \"userId\": 410, \"precision\": 0.125, \"recall\": 0.25}, {\"count\": 4, \"cutoff\": 9, \"userId\": 410, \"precision\": 0.1111111111111111, \"recall\": 0.25}, {\"count\": 4, \"cutoff\": 10, \"userId\": 410, \"precision\": 0.1, \"recall\": 0.25}, {\"count\": 4, \"cutoff\": 11, \"userId\": 410, \"precision\": 0.09090909090909091, \"recall\": 0.25}, {\"count\": 4, \"cutoff\": 16, \"userId\": 410, \"precision\": 0.0625, \"recall\": 0.25}, {\"count\": 4, \"cutoff\": 21, \"userId\": 410, \"precision\": 0.047619047619047616, \"recall\": 0.25}, {\"count\": 4, \"cutoff\": 26, \"userId\": 410, \"precision\": 0.07692307692307693, \"recall\": 0.5}, {\"count\": 4, \"cutoff\": 31, \"userId\": 410, \"precision\": 0.06451612903225806, \"recall\": 0.5}, {\"count\": 4, \"cutoff\": 36, \"userId\": 410, \"precision\": 0.08333333333333333, \"recall\": 0.75}, {\"count\": 4, \"cutoff\": 41, \"userId\": 410, \"precision\": 0.07317073170731707, \"recall\": 0.75}, {\"count\": 4, \"cutoff\": 46, \"userId\": 410, \"precision\": 0.06521739130434782, \"recall\": 0.75}, {\"count\": 2, \"cutoff\": 1, \"userId\": 415, \"precision\": 0.0, \"recall\": 0.0}, {\"count\": 2, \"cutoff\": 2, \"userId\": 415, \"precision\": 0.0, \"recall\": 0.0}, {\"count\": 2, \"cutoff\": 3, \"userId\": 415, \"precision\": 0.0, \"recall\": 0.0}, {\"count\": 2, \"cutoff\": 4, \"userId\": 415, \"precision\": 0.0, \"recall\": 0.0}, {\"count\": 2, \"cutoff\": 5, \"userId\": 415, \"precision\": 0.0, \"recall\": 0.0}, {\"count\": 2, \"cutoff\": 6, \"userId\": 415, \"precision\": 0.0, \"recall\": 0.0}, {\"count\": 2, \"cutoff\": 7, \"userId\": 415, \"precision\": 0.0, \"recall\": 0.0}, {\"count\": 2, \"cutoff\": 8, \"userId\": 415, \"precision\": 0.0, \"recall\": 0.0}, {\"count\": 2, \"cutoff\": 9, \"userId\": 415, \"precision\": 0.0, \"recall\": 0.0}, {\"count\": 2, \"cutoff\": 10, \"userId\": 415, \"precision\": 0.0, \"recall\": 0.0}, {\"count\": 2, \"cutoff\": 11, \"userId\": 415, \"precision\": 0.0, \"recall\": 0.0}, {\"count\": 2, \"cutoff\": 16, \"userId\": 415, \"precision\": 0.0, \"recall\": 0.0}, {\"count\": 2, \"cutoff\": 21, \"userId\": 415, \"precision\": 0.0, \"recall\": 0.0}, {\"count\": 2, \"cutoff\": 26, \"userId\": 415, \"precision\": 0.0, \"recall\": 0.0}, {\"count\": 2, \"cutoff\": 31, \"userId\": 415, \"precision\": 0.0, \"recall\": 0.0}, {\"count\": 2, \"cutoff\": 36, \"userId\": 415, \"precision\": 0.0, \"recall\": 0.0}, {\"count\": 2, \"cutoff\": 41, \"userId\": 415, \"precision\": 0.0, \"recall\": 0.0}, {\"count\": 2, \"cutoff\": 46, \"userId\": 415, \"precision\": 0.0, \"recall\": 0.0}, {\"count\": 31, \"cutoff\": 1, \"userId\": 418, \"precision\": 0.0, \"recall\": 0.0}, {\"count\": 31, \"cutoff\": 2, \"userId\": 418, \"precision\": 0.0, \"recall\": 0.0}, {\"count\": 31, \"cutoff\": 3, \"userId\": 418, \"precision\": 0.0, \"recall\": 0.0}, {\"count\": 31, \"cutoff\": 4, \"userId\": 418, \"precision\": 0.0, \"recall\": 0.0}, {\"count\": 31, \"cutoff\": 5, \"userId\": 418, \"precision\": 0.0, \"recall\": 0.0}, {\"count\": 31, \"cutoff\": 6, \"userId\": 418, \"precision\": 0.0, \"recall\": 0.0}, {\"count\": 31, \"cutoff\": 7, \"userId\": 418, \"precision\": 0.0, \"recall\": 0.0}, {\"count\": 31, \"cutoff\": 8, \"userId\": 418, \"precision\": 0.0, \"recall\": 0.0}, {\"count\": 31, \"cutoff\": 9, \"userId\": 418, \"precision\": 0.0, \"recall\": 0.0}, {\"count\": 31, \"cutoff\": 10, \"userId\": 418, \"precision\": 0.0, \"recall\": 0.0}, {\"count\": 31, \"cutoff\": 11, \"userId\": 418, \"precision\": 0.0, \"recall\": 0.0}, {\"count\": 31, \"cutoff\": 16, \"userId\": 418, \"precision\": 0.0625, \"recall\": 0.03225806451612903}, {\"count\": 31, \"cutoff\": 21, \"userId\": 418, \"precision\": 0.09523809523809523, \"recall\": 0.06451612903225806}, {\"count\": 31, \"cutoff\": 26, \"userId\": 418, \"precision\": 0.11538461538461539, \"recall\": 0.0967741935483871}, {\"count\": 31, \"cutoff\": 31, \"userId\": 418, \"precision\": 0.0967741935483871, \"recall\": 0.0967741935483871}, {\"count\": 31, \"cutoff\": 36, \"userId\": 418, \"precision\": 0.08333333333333333, \"recall\": 0.0967741935483871}, {\"count\": 31, \"cutoff\": 41, \"userId\": 418, \"precision\": 0.07317073170731707, \"recall\": 0.0967741935483871}, {\"count\": 31, \"cutoff\": 46, \"userId\": 418, \"precision\": 0.06521739130434782, \"recall\": 0.0967741935483871}, {\"count\": 54, \"cutoff\": 1, \"userId\": 431, \"precision\": 1.0, \"recall\": 0.018518518518518517}, {\"count\": 54, \"cutoff\": 2, \"userId\": 431, \"precision\": 0.5, \"recall\": 0.018518518518518517}, {\"count\": 54, \"cutoff\": 3, \"userId\": 431, \"precision\": 0.3333333333333333, \"recall\": 0.018518518518518517}, {\"count\": 54, \"cutoff\": 4, \"userId\": 431, \"precision\": 0.25, \"recall\": 0.018518518518518517}, {\"count\": 54, \"cutoff\": 5, \"userId\": 431, \"precision\": 0.2, \"recall\": 0.018518518518518517}, {\"count\": 54, \"cutoff\": 6, \"userId\": 431, \"precision\": 0.3333333333333333, \"recall\": 0.037037037037037035}, {\"count\": 54, \"cutoff\": 7, \"userId\": 431, \"precision\": 0.42857142857142855, \"recall\": 0.05555555555555555}, {\"count\": 54, \"cutoff\": 8, \"userId\": 431, \"precision\": 0.375, \"recall\": 0.05555555555555555}, {\"count\": 54, \"cutoff\": 9, \"userId\": 431, \"precision\": 0.3333333333333333, \"recall\": 0.05555555555555555}, {\"count\": 54, \"cutoff\": 10, \"userId\": 431, \"precision\": 0.3, \"recall\": 0.05555555555555555}, {\"count\": 54, \"cutoff\": 11, \"userId\": 431, \"precision\": 0.36363636363636365, \"recall\": 0.07407407407407407}, {\"count\": 54, \"cutoff\": 16, \"userId\": 431, \"precision\": 0.3125, \"recall\": 0.09259259259259259}, {\"count\": 54, \"cutoff\": 21, \"userId\": 431, \"precision\": 0.3333333333333333, \"recall\": 0.12962962962962962}, {\"count\": 54, \"cutoff\": 26, \"userId\": 431, \"precision\": 0.3076923076923077, \"recall\": 0.14814814814814814}, {\"count\": 54, \"cutoff\": 31, \"userId\": 431, \"precision\": 0.25806451612903225, \"recall\": 0.14814814814814814}, {\"count\": 54, \"cutoff\": 36, \"userId\": 431, \"precision\": 0.25, \"recall\": 0.16666666666666666}, {\"count\": 54, \"cutoff\": 41, \"userId\": 431, \"precision\": 0.2682926829268293, \"recall\": 0.2037037037037037}, {\"count\": 54, \"cutoff\": 46, \"userId\": 431, \"precision\": 0.2391304347826087, \"recall\": 0.2037037037037037}, {\"count\": 11, \"cutoff\": 1, \"userId\": 432, \"precision\": 1.0, \"recall\": 0.09090909090909091}, {\"count\": 11, \"cutoff\": 2, \"userId\": 432, \"precision\": 0.5, \"recall\": 0.09090909090909091}, {\"count\": 11, \"cutoff\": 3, \"userId\": 432, \"precision\": 0.3333333333333333, \"recall\": 0.09090909090909091}, {\"count\": 11, \"cutoff\": 4, \"userId\": 432, \"precision\": 0.25, \"recall\": 0.09090909090909091}, {\"count\": 11, \"cutoff\": 5, \"userId\": 432, \"precision\": 0.2, \"recall\": 0.09090909090909091}, {\"count\": 11, \"cutoff\": 6, \"userId\": 432, \"precision\": 0.16666666666666666, \"recall\": 0.09090909090909091}, {\"count\": 11, \"cutoff\": 7, \"userId\": 432, \"precision\": 0.14285714285714285, \"recall\": 0.09090909090909091}, {\"count\": 11, \"cutoff\": 8, \"userId\": 432, \"precision\": 0.125, \"recall\": 0.09090909090909091}, {\"count\": 11, \"cutoff\": 9, \"userId\": 432, \"precision\": 0.2222222222222222, \"recall\": 0.18181818181818182}, {\"count\": 11, \"cutoff\": 10, \"userId\": 432, \"precision\": 0.2, \"recall\": 0.18181818181818182}, {\"count\": 11, \"cutoff\": 11, \"userId\": 432, \"precision\": 0.18181818181818182, \"recall\": 0.18181818181818182}, {\"count\": 11, \"cutoff\": 16, \"userId\": 432, \"precision\": 0.125, \"recall\": 0.18181818181818182}, {\"count\": 11, \"cutoff\": 21, \"userId\": 432, \"precision\": 0.09523809523809523, \"recall\": 0.18181818181818182}, {\"count\": 11, \"cutoff\": 26, \"userId\": 432, \"precision\": 0.07692307692307693, \"recall\": 0.18181818181818182}, {\"count\": 11, \"cutoff\": 31, \"userId\": 432, \"precision\": 0.06451612903225806, \"recall\": 0.18181818181818182}, {\"count\": 11, \"cutoff\": 36, \"userId\": 432, \"precision\": 0.08333333333333333, \"recall\": 0.2727272727272727}, {\"count\": 11, \"cutoff\": 41, \"userId\": 432, \"precision\": 0.07317073170731707, \"recall\": 0.2727272727272727}, {\"count\": 11, \"cutoff\": 46, \"userId\": 432, \"precision\": 0.06521739130434782, \"recall\": 0.2727272727272727}, {\"count\": 40, \"cutoff\": 1, \"userId\": 433, \"precision\": 1.0, \"recall\": 0.025}, {\"count\": 40, \"cutoff\": 2, \"userId\": 433, \"precision\": 1.0, \"recall\": 0.05}, {\"count\": 40, \"cutoff\": 3, \"userId\": 433, \"precision\": 1.0, \"recall\": 0.075}, {\"count\": 40, \"cutoff\": 4, \"userId\": 433, \"precision\": 1.0, \"recall\": 0.1}, {\"count\": 40, \"cutoff\": 5, \"userId\": 433, \"precision\": 1.0, \"recall\": 0.125}, {\"count\": 40, \"cutoff\": 6, \"userId\": 433, \"precision\": 0.8333333333333334, \"recall\": 0.125}, {\"count\": 40, \"cutoff\": 7, \"userId\": 433, \"precision\": 0.7142857142857143, \"recall\": 0.125}, {\"count\": 40, \"cutoff\": 8, \"userId\": 433, \"precision\": 0.75, \"recall\": 0.15}, {\"count\": 40, \"cutoff\": 9, \"userId\": 433, \"precision\": 0.6666666666666666, \"recall\": 0.15}, {\"count\": 40, \"cutoff\": 10, \"userId\": 433, \"precision\": 0.6, \"recall\": 0.15}, {\"count\": 40, \"cutoff\": 11, \"userId\": 433, \"precision\": 0.5454545454545454, \"recall\": 0.15}, {\"count\": 40, \"cutoff\": 16, \"userId\": 433, \"precision\": 0.375, \"recall\": 0.15}, {\"count\": 40, \"cutoff\": 21, \"userId\": 433, \"precision\": 0.2857142857142857, \"recall\": 0.15}, {\"count\": 40, \"cutoff\": 26, \"userId\": 433, \"precision\": 0.2692307692307692, \"recall\": 0.175}, {\"count\": 40, \"cutoff\": 31, \"userId\": 433, \"precision\": 0.2903225806451613, \"recall\": 0.225}, {\"count\": 40, \"cutoff\": 36, \"userId\": 433, \"precision\": 0.25, \"recall\": 0.225}, {\"count\": 40, \"cutoff\": 41, \"userId\": 433, \"precision\": 0.2682926829268293, \"recall\": 0.275}, {\"count\": 40, \"cutoff\": 46, \"userId\": 433, \"precision\": 0.2608695652173913, \"recall\": 0.3}, {\"count\": 3, \"cutoff\": 1, \"userId\": 435, \"precision\": 0.0, \"recall\": 0.0}, {\"count\": 3, \"cutoff\": 2, \"userId\": 435, \"precision\": 0.0, \"recall\": 0.0}, {\"count\": 3, \"cutoff\": 3, \"userId\": 435, \"precision\": 0.0, \"recall\": 0.0}, {\"count\": 3, \"cutoff\": 4, \"userId\": 435, \"precision\": 0.0, \"recall\": 0.0}, {\"count\": 3, \"cutoff\": 5, \"userId\": 435, \"precision\": 0.2, \"recall\": 0.3333333333333333}, {\"count\": 3, \"cutoff\": 6, \"userId\": 435, \"precision\": 0.16666666666666666, \"recall\": 0.3333333333333333}, {\"count\": 3, \"cutoff\": 7, \"userId\": 435, \"precision\": 0.14285714285714285, \"recall\": 0.3333333333333333}, {\"count\": 3, \"cutoff\": 8, \"userId\": 435, \"precision\": 0.125, \"recall\": 0.3333333333333333}, {\"count\": 3, \"cutoff\": 9, \"userId\": 435, \"precision\": 0.1111111111111111, \"recall\": 0.3333333333333333}, {\"count\": 3, \"cutoff\": 10, \"userId\": 435, \"precision\": 0.1, \"recall\": 0.3333333333333333}, {\"count\": 3, \"cutoff\": 11, \"userId\": 435, \"precision\": 0.09090909090909091, \"recall\": 0.3333333333333333}, {\"count\": 3, \"cutoff\": 16, \"userId\": 435, \"precision\": 0.0625, \"recall\": 0.3333333333333333}, {\"count\": 3, \"cutoff\": 21, \"userId\": 435, \"precision\": 0.047619047619047616, \"recall\": 0.3333333333333333}, {\"count\": 3, \"cutoff\": 26, \"userId\": 435, \"precision\": 0.038461538461538464, \"recall\": 0.3333333333333333}, {\"count\": 3, \"cutoff\": 31, \"userId\": 435, \"precision\": 0.06451612903225806, \"recall\": 0.6666666666666666}, {\"count\": 3, \"cutoff\": 36, \"userId\": 435, \"precision\": 0.05555555555555555, \"recall\": 0.6666666666666666}, {\"count\": 3, \"cutoff\": 41, \"userId\": 435, \"precision\": 0.04878048780487805, \"recall\": 0.6666666666666666}, {\"count\": 3, \"cutoff\": 46, \"userId\": 435, \"precision\": 0.043478260869565216, \"recall\": 0.6666666666666666}, {\"count\": 22, \"cutoff\": 1, \"userId\": 441, \"precision\": 0.0, \"recall\": 0.0}, {\"count\": 22, \"cutoff\": 2, \"userId\": 441, \"precision\": 0.0, \"recall\": 0.0}, {\"count\": 22, \"cutoff\": 3, \"userId\": 441, \"precision\": 0.0, \"recall\": 0.0}, {\"count\": 22, \"cutoff\": 4, \"userId\": 441, \"precision\": 0.25, \"recall\": 0.045454545454545456}, {\"count\": 22, \"cutoff\": 5, \"userId\": 441, \"precision\": 0.2, \"recall\": 0.045454545454545456}, {\"count\": 22, \"cutoff\": 6, \"userId\": 441, \"precision\": 0.16666666666666666, \"recall\": 0.045454545454545456}, {\"count\": 22, \"cutoff\": 7, \"userId\": 441, \"precision\": 0.14285714285714285, \"recall\": 0.045454545454545456}, {\"count\": 22, \"cutoff\": 8, \"userId\": 441, \"precision\": 0.125, \"recall\": 0.045454545454545456}, {\"count\": 22, \"cutoff\": 9, \"userId\": 441, \"precision\": 0.1111111111111111, \"recall\": 0.045454545454545456}, {\"count\": 22, \"cutoff\": 10, \"userId\": 441, \"precision\": 0.1, \"recall\": 0.045454545454545456}, {\"count\": 22, \"cutoff\": 11, \"userId\": 441, \"precision\": 0.09090909090909091, \"recall\": 0.045454545454545456}, {\"count\": 22, \"cutoff\": 16, \"userId\": 441, \"precision\": 0.0625, \"recall\": 0.045454545454545456}, {\"count\": 22, \"cutoff\": 21, \"userId\": 441, \"precision\": 0.09523809523809523, \"recall\": 0.09090909090909091}, {\"count\": 22, \"cutoff\": 26, \"userId\": 441, \"precision\": 0.11538461538461539, \"recall\": 0.13636363636363635}, {\"count\": 22, \"cutoff\": 31, \"userId\": 441, \"precision\": 0.0967741935483871, \"recall\": 0.13636363636363635}, {\"count\": 22, \"cutoff\": 36, \"userId\": 441, \"precision\": 0.08333333333333333, \"recall\": 0.13636363636363635}, {\"count\": 22, \"cutoff\": 41, \"userId\": 441, \"precision\": 0.07317073170731707, \"recall\": 0.13636363636363635}, {\"count\": 22, \"cutoff\": 46, \"userId\": 441, \"precision\": 0.06521739130434782, \"recall\": 0.13636363636363635}, {\"count\": 17, \"cutoff\": 1, \"userId\": 447, \"precision\": 0.0, \"recall\": 0.0}, {\"count\": 17, \"cutoff\": 2, \"userId\": 447, \"precision\": 0.0, \"recall\": 0.0}, {\"count\": 17, \"cutoff\": 3, \"userId\": 447, \"precision\": 0.0, \"recall\": 0.0}, {\"count\": 17, \"cutoff\": 4, \"userId\": 447, \"precision\": 0.0, \"recall\": 0.0}, {\"count\": 17, \"cutoff\": 5, \"userId\": 447, \"precision\": 0.0, \"recall\": 0.0}, {\"count\": 17, \"cutoff\": 6, \"userId\": 447, \"precision\": 0.0, \"recall\": 0.0}, {\"count\": 17, \"cutoff\": 7, \"userId\": 447, \"precision\": 0.0, \"recall\": 0.0}, {\"count\": 17, \"cutoff\": 8, \"userId\": 447, \"precision\": 0.125, \"recall\": 0.058823529411764705}, {\"count\": 17, \"cutoff\": 9, \"userId\": 447, \"precision\": 0.1111111111111111, \"recall\": 0.058823529411764705}, {\"count\": 17, \"cutoff\": 10, \"userId\": 447, \"precision\": 0.1, \"recall\": 0.058823529411764705}, {\"count\": 17, \"cutoff\": 11, \"userId\": 447, \"precision\": 0.09090909090909091, \"recall\": 0.058823529411764705}, {\"count\": 17, \"cutoff\": 16, \"userId\": 447, \"precision\": 0.0625, \"recall\": 0.058823529411764705}, {\"count\": 17, \"cutoff\": 21, \"userId\": 447, \"precision\": 0.047619047619047616, \"recall\": 0.058823529411764705}, {\"count\": 17, \"cutoff\": 26, \"userId\": 447, \"precision\": 0.038461538461538464, \"recall\": 0.058823529411764705}, {\"count\": 17, \"cutoff\": 31, \"userId\": 447, \"precision\": 0.03225806451612903, \"recall\": 0.058823529411764705}, {\"count\": 17, \"cutoff\": 36, \"userId\": 447, \"precision\": 0.027777777777777776, \"recall\": 0.058823529411764705}, {\"count\": 17, \"cutoff\": 41, \"userId\": 447, \"precision\": 0.024390243902439025, \"recall\": 0.058823529411764705}, {\"count\": 17, \"cutoff\": 46, \"userId\": 447, \"precision\": 0.021739130434782608, \"recall\": 0.058823529411764705}, {\"count\": 3, \"cutoff\": 1, \"userId\": 448, \"precision\": 0.0, \"recall\": 0.0}, {\"count\": 3, \"cutoff\": 2, \"userId\": 448, \"precision\": 0.0, \"recall\": 0.0}, {\"count\": 3, \"cutoff\": 3, \"userId\": 448, \"precision\": 0.0, \"recall\": 0.0}, {\"count\": 3, \"cutoff\": 4, \"userId\": 448, \"precision\": 0.0, \"recall\": 0.0}, {\"count\": 3, \"cutoff\": 5, \"userId\": 448, \"precision\": 0.0, \"recall\": 0.0}, {\"count\": 3, \"cutoff\": 6, \"userId\": 448, \"precision\": 0.0, \"recall\": 0.0}, {\"count\": 3, \"cutoff\": 7, \"userId\": 448, \"precision\": 0.0, \"recall\": 0.0}, {\"count\": 3, \"cutoff\": 8, \"userId\": 448, \"precision\": 0.125, \"recall\": 0.3333333333333333}, {\"count\": 3, \"cutoff\": 9, \"userId\": 448, \"precision\": 0.1111111111111111, \"recall\": 0.3333333333333333}, {\"count\": 3, \"cutoff\": 10, \"userId\": 448, \"precision\": 0.1, \"recall\": 0.3333333333333333}, {\"count\": 3, \"cutoff\": 11, \"userId\": 448, \"precision\": 0.09090909090909091, \"recall\": 0.3333333333333333}, {\"count\": 3, \"cutoff\": 16, \"userId\": 448, \"precision\": 0.125, \"recall\": 0.6666666666666666}, {\"count\": 3, \"cutoff\": 21, \"userId\": 448, \"precision\": 0.14285714285714285, \"recall\": 1.0}, {\"count\": 3, \"cutoff\": 26, \"userId\": 448, \"precision\": 0.11538461538461539, \"recall\": 1.0}, {\"count\": 3, \"cutoff\": 31, \"userId\": 448, \"precision\": 0.0967741935483871, \"recall\": 1.0}, {\"count\": 3, \"cutoff\": 36, \"userId\": 448, \"precision\": 0.08333333333333333, \"recall\": 1.0}, {\"count\": 3, \"cutoff\": 41, \"userId\": 448, \"precision\": 0.07317073170731707, \"recall\": 1.0}, {\"count\": 3, \"cutoff\": 46, \"userId\": 448, \"precision\": 0.06521739130434782, \"recall\": 1.0}, {\"count\": 15, \"cutoff\": 1, \"userId\": 453, \"precision\": 0.0, \"recall\": 0.0}, {\"count\": 15, \"cutoff\": 2, \"userId\": 453, \"precision\": 0.0, \"recall\": 0.0}, {\"count\": 15, \"cutoff\": 3, \"userId\": 453, \"precision\": 0.0, \"recall\": 0.0}, {\"count\": 15, \"cutoff\": 4, \"userId\": 453, \"precision\": 0.0, \"recall\": 0.0}, {\"count\": 15, \"cutoff\": 5, \"userId\": 453, \"precision\": 0.0, \"recall\": 0.0}, {\"count\": 15, \"cutoff\": 6, \"userId\": 453, \"precision\": 0.0, \"recall\": 0.0}, {\"count\": 15, \"cutoff\": 7, \"userId\": 453, \"precision\": 0.0, \"recall\": 0.0}, {\"count\": 15, \"cutoff\": 8, \"userId\": 453, \"precision\": 0.0, \"recall\": 0.0}, {\"count\": 15, \"cutoff\": 9, \"userId\": 453, \"precision\": 0.0, \"recall\": 0.0}, {\"count\": 15, \"cutoff\": 10, \"userId\": 453, \"precision\": 0.0, \"recall\": 0.0}, {\"count\": 15, \"cutoff\": 11, \"userId\": 453, \"precision\": 0.0, \"recall\": 0.0}, {\"count\": 15, \"cutoff\": 16, \"userId\": 453, \"precision\": 0.0, \"recall\": 0.0}, {\"count\": 15, \"cutoff\": 21, \"userId\": 453, \"precision\": 0.0, \"recall\": 0.0}, {\"count\": 15, \"cutoff\": 26, \"userId\": 453, \"precision\": 0.0, \"recall\": 0.0}, {\"count\": 15, \"cutoff\": 31, \"userId\": 453, \"precision\": 0.0, \"recall\": 0.0}, {\"count\": 15, \"cutoff\": 36, \"userId\": 453, \"precision\": 0.0, \"recall\": 0.0}, {\"count\": 15, \"cutoff\": 41, \"userId\": 453, \"precision\": 0.0, \"recall\": 0.0}, {\"count\": 15, \"cutoff\": 46, \"userId\": 453, \"precision\": 0.021739130434782608, \"recall\": 0.06666666666666667}, {\"count\": 8, \"cutoff\": 1, \"userId\": 454, \"precision\": 1.0, \"recall\": 0.125}, {\"count\": 8, \"cutoff\": 2, \"userId\": 454, \"precision\": 0.5, \"recall\": 0.125}, {\"count\": 8, \"cutoff\": 3, \"userId\": 454, \"precision\": 0.6666666666666666, \"recall\": 0.25}, {\"count\": 8, \"cutoff\": 4, \"userId\": 454, \"precision\": 0.75, \"recall\": 0.375}, {\"count\": 8, \"cutoff\": 5, \"userId\": 454, \"precision\": 0.6, \"recall\": 0.375}, {\"count\": 8, \"cutoff\": 6, \"userId\": 454, \"precision\": 0.6666666666666666, \"recall\": 0.5}, {\"count\": 8, \"cutoff\": 7, \"userId\": 454, \"precision\": 0.5714285714285714, \"recall\": 0.5}, {\"count\": 8, \"cutoff\": 8, \"userId\": 454, \"precision\": 0.5, \"recall\": 0.5}, {\"count\": 8, \"cutoff\": 9, \"userId\": 454, \"precision\": 0.4444444444444444, \"recall\": 0.5}, {\"count\": 8, \"cutoff\": 10, \"userId\": 454, \"precision\": 0.4, \"recall\": 0.5}, {\"count\": 8, \"cutoff\": 11, \"userId\": 454, \"precision\": 0.45454545454545453, \"recall\": 0.625}, {\"count\": 8, \"cutoff\": 16, \"userId\": 454, \"precision\": 0.3125, \"recall\": 0.625}, {\"count\": 8, \"cutoff\": 21, \"userId\": 454, \"precision\": 0.23809523809523808, \"recall\": 0.625}, {\"count\": 8, \"cutoff\": 26, \"userId\": 454, \"precision\": 0.23076923076923078, \"recall\": 0.75}, {\"count\": 8, \"cutoff\": 31, \"userId\": 454, \"precision\": 0.1935483870967742, \"recall\": 0.75}, {\"count\": 8, \"cutoff\": 36, \"userId\": 454, \"precision\": 0.19444444444444445, \"recall\": 0.875}, {\"count\": 8, \"cutoff\": 41, \"userId\": 454, \"precision\": 0.17073170731707318, \"recall\": 0.875}, {\"count\": 8, \"cutoff\": 46, \"userId\": 454, \"precision\": 0.15217391304347827, \"recall\": 0.875}, {\"count\": 142, \"cutoff\": 1, \"userId\": 461, \"precision\": 1.0, \"recall\": 0.007042253521126761}, {\"count\": 142, \"cutoff\": 2, \"userId\": 461, \"precision\": 1.0, \"recall\": 0.014084507042253521}, {\"count\": 142, \"cutoff\": 3, \"userId\": 461, \"precision\": 1.0, \"recall\": 0.02112676056338028}, {\"count\": 142, \"cutoff\": 4, \"userId\": 461, \"precision\": 0.75, \"recall\": 0.02112676056338028}, {\"count\": 142, \"cutoff\": 5, \"userId\": 461, \"precision\": 0.8, \"recall\": 0.028169014084507043}, {\"count\": 142, \"cutoff\": 6, \"userId\": 461, \"precision\": 0.8333333333333334, \"recall\": 0.035211267605633804}, {\"count\": 142, \"cutoff\": 7, \"userId\": 461, \"precision\": 0.8571428571428571, \"recall\": 0.04225352112676056}, {\"count\": 142, \"cutoff\": 8, \"userId\": 461, \"precision\": 0.875, \"recall\": 0.04929577464788732}, {\"count\": 142, \"cutoff\": 9, \"userId\": 461, \"precision\": 0.8888888888888888, \"recall\": 0.056338028169014086}, {\"count\": 142, \"cutoff\": 10, \"userId\": 461, \"precision\": 0.8, \"recall\": 0.056338028169014086}, {\"count\": 142, \"cutoff\": 11, \"userId\": 461, \"precision\": 0.7272727272727273, \"recall\": 0.056338028169014086}, {\"count\": 142, \"cutoff\": 16, \"userId\": 461, \"precision\": 0.5625, \"recall\": 0.06338028169014084}, {\"count\": 142, \"cutoff\": 21, \"userId\": 461, \"precision\": 0.5714285714285714, \"recall\": 0.08450704225352113}, {\"count\": 142, \"cutoff\": 26, \"userId\": 461, \"precision\": 0.6538461538461539, \"recall\": 0.11971830985915492}, {\"count\": 142, \"cutoff\": 31, \"userId\": 461, \"precision\": 0.6129032258064516, \"recall\": 0.13380281690140844}, {\"count\": 142, \"cutoff\": 36, \"userId\": 461, \"precision\": 0.5833333333333334, \"recall\": 0.14788732394366197}, {\"count\": 142, \"cutoff\": 41, \"userId\": 461, \"precision\": 0.5609756097560976, \"recall\": 0.1619718309859155}, {\"count\": 142, \"cutoff\": 46, \"userId\": 461, \"precision\": 0.5869565217391305, \"recall\": 0.19014084507042253}, {\"count\": 9, \"cutoff\": 1, \"userId\": 462, \"precision\": 0.0, \"recall\": 0.0}, {\"count\": 9, \"cutoff\": 2, \"userId\": 462, \"precision\": 0.0, \"recall\": 0.0}, {\"count\": 9, \"cutoff\": 3, \"userId\": 462, \"precision\": 0.0, \"recall\": 0.0}, {\"count\": 9, \"cutoff\": 4, \"userId\": 462, \"precision\": 0.0, \"recall\": 0.0}, {\"count\": 9, \"cutoff\": 5, \"userId\": 462, \"precision\": 0.0, \"recall\": 0.0}, {\"count\": 9, \"cutoff\": 6, \"userId\": 462, \"precision\": 0.0, \"recall\": 0.0}, {\"count\": 9, \"cutoff\": 7, \"userId\": 462, \"precision\": 0.0, \"recall\": 0.0}, {\"count\": 9, \"cutoff\": 8, \"userId\": 462, \"precision\": 0.0, \"recall\": 0.0}, {\"count\": 9, \"cutoff\": 9, \"userId\": 462, \"precision\": 0.0, \"recall\": 0.0}, {\"count\": 9, \"cutoff\": 10, \"userId\": 462, \"precision\": 0.0, \"recall\": 0.0}, {\"count\": 9, \"cutoff\": 11, \"userId\": 462, \"precision\": 0.0, \"recall\": 0.0}, {\"count\": 9, \"cutoff\": 16, \"userId\": 462, \"precision\": 0.0, \"recall\": 0.0}, {\"count\": 9, \"cutoff\": 21, \"userId\": 462, \"precision\": 0.0, \"recall\": 0.0}, {\"count\": 9, \"cutoff\": 26, \"userId\": 462, \"precision\": 0.0, \"recall\": 0.0}, {\"count\": 9, \"cutoff\": 31, \"userId\": 462, \"precision\": 0.0, \"recall\": 0.0}, {\"count\": 9, \"cutoff\": 36, \"userId\": 462, \"precision\": 0.0, \"recall\": 0.0}, {\"count\": 9, \"cutoff\": 41, \"userId\": 462, \"precision\": 0.0, \"recall\": 0.0}, {\"count\": 9, \"cutoff\": 46, \"userId\": 462, \"precision\": 0.0, \"recall\": 0.0}, {\"count\": 103, \"cutoff\": 1, \"userId\": 463, \"precision\": 1.0, \"recall\": 0.009708737864077669}, {\"count\": 103, \"cutoff\": 2, \"userId\": 463, \"precision\": 1.0, \"recall\": 0.019417475728155338}, {\"count\": 103, \"cutoff\": 3, \"userId\": 463, \"precision\": 0.6666666666666666, \"recall\": 0.019417475728155338}, {\"count\": 103, \"cutoff\": 4, \"userId\": 463, \"precision\": 0.75, \"recall\": 0.02912621359223301}, {\"count\": 103, \"cutoff\": 5, \"userId\": 463, \"precision\": 0.6, \"recall\": 0.02912621359223301}, {\"count\": 103, \"cutoff\": 6, \"userId\": 463, \"precision\": 0.6666666666666666, \"recall\": 0.038834951456310676}, {\"count\": 103, \"cutoff\": 7, \"userId\": 463, \"precision\": 0.5714285714285714, \"recall\": 0.038834951456310676}, {\"count\": 103, \"cutoff\": 8, \"userId\": 463, \"precision\": 0.5, \"recall\": 0.038834951456310676}, {\"count\": 103, \"cutoff\": 9, \"userId\": 463, \"precision\": 0.5555555555555556, \"recall\": 0.04854368932038835}, {\"count\": 103, \"cutoff\": 10, \"userId\": 463, \"precision\": 0.5, \"recall\": 0.04854368932038835}, {\"count\": 103, \"cutoff\": 11, \"userId\": 463, \"precision\": 0.45454545454545453, \"recall\": 0.04854368932038835}, {\"count\": 103, \"cutoff\": 16, \"userId\": 463, \"precision\": 0.4375, \"recall\": 0.06796116504854369}, {\"count\": 103, \"cutoff\": 21, \"userId\": 463, \"precision\": 0.42857142857142855, \"recall\": 0.08737864077669903}, {\"count\": 103, \"cutoff\": 26, \"userId\": 463, \"precision\": 0.4230769230769231, \"recall\": 0.10679611650485436}, {\"count\": 103, \"cutoff\": 31, \"userId\": 463, \"precision\": 0.3548387096774194, \"recall\": 0.10679611650485436}, {\"count\": 103, \"cutoff\": 36, \"userId\": 463, \"precision\": 0.3055555555555556, \"recall\": 0.10679611650485436}, {\"count\": 103, \"cutoff\": 41, \"userId\": 463, \"precision\": 0.2926829268292683, \"recall\": 0.11650485436893204}, {\"count\": 103, \"cutoff\": 46, \"userId\": 463, \"precision\": 0.2608695652173913, \"recall\": 0.11650485436893204}, {\"count\": 6, \"cutoff\": 1, \"userId\": 464, \"precision\": 0.0, \"recall\": 0.0}, {\"count\": 6, \"cutoff\": 2, \"userId\": 464, \"precision\": 0.0, \"recall\": 0.0}, {\"count\": 6, \"cutoff\": 3, \"userId\": 464, \"precision\": 0.0, \"recall\": 0.0}, {\"count\": 6, \"cutoff\": 4, \"userId\": 464, \"precision\": 0.0, \"recall\": 0.0}, {\"count\": 6, \"cutoff\": 5, \"userId\": 464, \"precision\": 0.0, \"recall\": 0.0}, {\"count\": 6, \"cutoff\": 6, \"userId\": 464, \"precision\": 0.0, \"recall\": 0.0}, {\"count\": 6, \"cutoff\": 7, \"userId\": 464, \"precision\": 0.0, \"recall\": 0.0}, {\"count\": 6, \"cutoff\": 8, \"userId\": 464, \"precision\": 0.0, \"recall\": 0.0}, {\"count\": 6, \"cutoff\": 9, \"userId\": 464, \"precision\": 0.0, \"recall\": 0.0}, {\"count\": 6, \"cutoff\": 10, \"userId\": 464, \"precision\": 0.0, \"recall\": 0.0}, {\"count\": 6, \"cutoff\": 11, \"userId\": 464, \"precision\": 0.0, \"recall\": 0.0}, {\"count\": 6, \"cutoff\": 16, \"userId\": 464, \"precision\": 0.0, \"recall\": 0.0}, {\"count\": 6, \"cutoff\": 21, \"userId\": 464, \"precision\": 0.0, \"recall\": 0.0}, {\"count\": 6, \"cutoff\": 26, \"userId\": 464, \"precision\": 0.0, \"recall\": 0.0}, {\"count\": 6, \"cutoff\": 31, \"userId\": 464, \"precision\": 0.0, \"recall\": 0.0}, {\"count\": 6, \"cutoff\": 36, \"userId\": 464, \"precision\": 0.0, \"recall\": 0.0}, {\"count\": 6, \"cutoff\": 41, \"userId\": 464, \"precision\": 0.0, \"recall\": 0.0}, {\"count\": 6, \"cutoff\": 46, \"userId\": 464, \"precision\": 0.0, \"recall\": 0.0}, {\"count\": 6, \"cutoff\": 1, \"userId\": 465, \"precision\": 0.0, \"recall\": 0.0}, {\"count\": 6, \"cutoff\": 2, \"userId\": 465, \"precision\": 0.0, \"recall\": 0.0}, {\"count\": 6, \"cutoff\": 3, \"userId\": 465, \"precision\": 0.0, \"recall\": 0.0}, {\"count\": 6, \"cutoff\": 4, \"userId\": 465, \"precision\": 0.0, \"recall\": 0.0}, {\"count\": 6, \"cutoff\": 5, \"userId\": 465, \"precision\": 0.0, \"recall\": 0.0}, {\"count\": 6, \"cutoff\": 6, \"userId\": 465, \"precision\": 0.0, \"recall\": 0.0}, {\"count\": 6, \"cutoff\": 7, \"userId\": 465, \"precision\": 0.0, \"recall\": 0.0}, {\"count\": 6, \"cutoff\": 8, \"userId\": 465, \"precision\": 0.0, \"recall\": 0.0}, {\"count\": 6, \"cutoff\": 9, \"userId\": 465, \"precision\": 0.0, \"recall\": 0.0}, {\"count\": 6, \"cutoff\": 10, \"userId\": 465, \"precision\": 0.0, \"recall\": 0.0}, {\"count\": 6, \"cutoff\": 11, \"userId\": 465, \"precision\": 0.0, \"recall\": 0.0}, {\"count\": 6, \"cutoff\": 16, \"userId\": 465, \"precision\": 0.0, \"recall\": 0.0}, {\"count\": 6, \"cutoff\": 21, \"userId\": 465, \"precision\": 0.0, \"recall\": 0.0}, {\"count\": 6, \"cutoff\": 26, \"userId\": 465, \"precision\": 0.0, \"recall\": 0.0}, {\"count\": 6, \"cutoff\": 31, \"userId\": 465, \"precision\": 0.0, \"recall\": 0.0}, {\"count\": 6, \"cutoff\": 36, \"userId\": 465, \"precision\": 0.0, \"recall\": 0.0}, {\"count\": 6, \"cutoff\": 41, \"userId\": 465, \"precision\": 0.0, \"recall\": 0.0}, {\"count\": 6, \"cutoff\": 46, \"userId\": 465, \"precision\": 0.0, \"recall\": 0.0}, {\"count\": 42, \"cutoff\": 1, \"userId\": 471, \"precision\": 0.0, \"recall\": 0.0}, {\"count\": 42, \"cutoff\": 2, \"userId\": 471, \"precision\": 0.0, \"recall\": 0.0}, {\"count\": 42, \"cutoff\": 3, \"userId\": 471, \"precision\": 0.0, \"recall\": 0.0}, {\"count\": 42, \"cutoff\": 4, \"userId\": 471, \"precision\": 0.0, \"recall\": 0.0}, {\"count\": 42, \"cutoff\": 5, \"userId\": 471, \"precision\": 0.0, \"recall\": 0.0}, {\"count\": 42, \"cutoff\": 6, \"userId\": 471, \"precision\": 0.0, \"recall\": 0.0}, {\"count\": 42, \"cutoff\": 7, \"userId\": 471, \"precision\": 0.0, \"recall\": 0.0}, {\"count\": 42, \"cutoff\": 8, \"userId\": 471, \"precision\": 0.0, \"recall\": 0.0}, {\"count\": 42, \"cutoff\": 9, \"userId\": 471, \"precision\": 0.0, \"recall\": 0.0}, {\"count\": 42, \"cutoff\": 10, \"userId\": 471, \"precision\": 0.1, \"recall\": 0.023809523809523808}, {\"count\": 42, \"cutoff\": 11, \"userId\": 471, \"precision\": 0.09090909090909091, \"recall\": 0.023809523809523808}, {\"count\": 42, \"cutoff\": 16, \"userId\": 471, \"precision\": 0.125, \"recall\": 0.047619047619047616}, {\"count\": 42, \"cutoff\": 21, \"userId\": 471, \"precision\": 0.09523809523809523, \"recall\": 0.047619047619047616}, {\"count\": 42, \"cutoff\": 26, \"userId\": 471, \"precision\": 0.11538461538461539, \"recall\": 0.07142857142857142}, {\"count\": 42, \"cutoff\": 31, \"userId\": 471, \"precision\": 0.0967741935483871, \"recall\": 0.07142857142857142}, {\"count\": 42, \"cutoff\": 36, \"userId\": 471, \"precision\": 0.16666666666666666, \"recall\": 0.14285714285714285}, {\"count\": 42, \"cutoff\": 41, \"userId\": 471, \"precision\": 0.14634146341463414, \"recall\": 0.14285714285714285}, {\"count\": 42, \"cutoff\": 46, \"userId\": 471, \"precision\": 0.13043478260869565, \"recall\": 0.14285714285714285}, {\"count\": 74, \"cutoff\": 1, \"userId\": 480, \"precision\": 1.0, \"recall\": 0.013513513513513514}, {\"count\": 74, \"cutoff\": 2, \"userId\": 480, \"precision\": 0.5, \"recall\": 0.013513513513513514}, {\"count\": 74, \"cutoff\": 3, \"userId\": 480, \"precision\": 0.3333333333333333, \"recall\": 0.013513513513513514}, {\"count\": 74, \"cutoff\": 4, \"userId\": 480, \"precision\": 0.25, \"recall\": 0.013513513513513514}, {\"count\": 74, \"cutoff\": 5, \"userId\": 480, \"precision\": 0.2, \"recall\": 0.013513513513513514}, {\"count\": 74, \"cutoff\": 6, \"userId\": 480, \"precision\": 0.16666666666666666, \"recall\": 0.013513513513513514}, {\"count\": 74, \"cutoff\": 7, \"userId\": 480, \"precision\": 0.14285714285714285, \"recall\": 0.013513513513513514}, {\"count\": 74, \"cutoff\": 8, \"userId\": 480, \"precision\": 0.125, \"recall\": 0.013513513513513514}, {\"count\": 74, \"cutoff\": 9, \"userId\": 480, \"precision\": 0.1111111111111111, \"recall\": 0.013513513513513514}, {\"count\": 74, \"cutoff\": 10, \"userId\": 480, \"precision\": 0.1, \"recall\": 0.013513513513513514}, {\"count\": 74, \"cutoff\": 11, \"userId\": 480, \"precision\": 0.09090909090909091, \"recall\": 0.013513513513513514}, {\"count\": 74, \"cutoff\": 16, \"userId\": 480, \"precision\": 0.3125, \"recall\": 0.06756756756756757}, {\"count\": 74, \"cutoff\": 21, \"userId\": 480, \"precision\": 0.2857142857142857, \"recall\": 0.08108108108108109}, {\"count\": 74, \"cutoff\": 26, \"userId\": 480, \"precision\": 0.2692307692307692, \"recall\": 0.0945945945945946}, {\"count\": 74, \"cutoff\": 31, \"userId\": 480, \"precision\": 0.22580645161290322, \"recall\": 0.0945945945945946}, {\"count\": 74, \"cutoff\": 36, \"userId\": 480, \"precision\": 0.2222222222222222, \"recall\": 0.10810810810810811}, {\"count\": 74, \"cutoff\": 41, \"userId\": 480, \"precision\": 0.24390243902439024, \"recall\": 0.13513513513513514}, {\"count\": 74, \"cutoff\": 46, \"userId\": 480, \"precision\": 0.21739130434782608, \"recall\": 0.13513513513513514}, {\"count\": 3, \"cutoff\": 1, \"userId\": 485, \"precision\": 0.0, \"recall\": 0.0}, {\"count\": 3, \"cutoff\": 2, \"userId\": 485, \"precision\": 0.0, \"recall\": 0.0}, {\"count\": 3, \"cutoff\": 3, \"userId\": 485, \"precision\": 0.0, \"recall\": 0.0}, {\"count\": 3, \"cutoff\": 4, \"userId\": 485, \"precision\": 0.0, \"recall\": 0.0}, {\"count\": 3, \"cutoff\": 5, \"userId\": 485, \"precision\": 0.0, \"recall\": 0.0}, {\"count\": 3, \"cutoff\": 6, \"userId\": 485, \"precision\": 0.0, \"recall\": 0.0}, {\"count\": 3, \"cutoff\": 7, \"userId\": 485, \"precision\": 0.0, \"recall\": 0.0}, {\"count\": 3, \"cutoff\": 8, \"userId\": 485, \"precision\": 0.0, \"recall\": 0.0}, {\"count\": 3, \"cutoff\": 9, \"userId\": 485, \"precision\": 0.0, \"recall\": 0.0}, {\"count\": 3, \"cutoff\": 10, \"userId\": 485, \"precision\": 0.0, \"recall\": 0.0}, {\"count\": 3, \"cutoff\": 11, \"userId\": 485, \"precision\": 0.0, \"recall\": 0.0}, {\"count\": 3, \"cutoff\": 16, \"userId\": 485, \"precision\": 0.0, \"recall\": 0.0}, {\"count\": 3, \"cutoff\": 21, \"userId\": 485, \"precision\": 0.0, \"recall\": 0.0}, {\"count\": 3, \"cutoff\": 26, \"userId\": 485, \"precision\": 0.0, \"recall\": 0.0}, {\"count\": 3, \"cutoff\": 31, \"userId\": 485, \"precision\": 0.0, \"recall\": 0.0}, {\"count\": 3, \"cutoff\": 36, \"userId\": 485, \"precision\": 0.0, \"recall\": 0.0}, {\"count\": 3, \"cutoff\": 41, \"userId\": 485, \"precision\": 0.0, \"recall\": 0.0}, {\"count\": 3, \"cutoff\": 46, \"userId\": 485, \"precision\": 0.0, \"recall\": 0.0}, {\"count\": 22, \"cutoff\": 1, \"userId\": 486, \"precision\": 0.0, \"recall\": 0.0}, {\"count\": 22, \"cutoff\": 2, \"userId\": 486, \"precision\": 0.0, \"recall\": 0.0}, {\"count\": 22, \"cutoff\": 3, \"userId\": 486, \"precision\": 0.0, \"recall\": 0.0}, {\"count\": 22, \"cutoff\": 4, \"userId\": 486, \"precision\": 0.0, \"recall\": 0.0}, {\"count\": 22, \"cutoff\": 5, \"userId\": 486, \"precision\": 0.0, \"recall\": 0.0}, {\"count\": 22, \"cutoff\": 6, \"userId\": 486, \"precision\": 0.0, \"recall\": 0.0}, {\"count\": 22, \"cutoff\": 7, \"userId\": 486, \"precision\": 0.0, \"recall\": 0.0}, {\"count\": 22, \"cutoff\": 8, \"userId\": 486, \"precision\": 0.0, \"recall\": 0.0}, {\"count\": 22, \"cutoff\": 9, \"userId\": 486, \"precision\": 0.0, \"recall\": 0.0}, {\"count\": 22, \"cutoff\": 10, \"userId\": 486, \"precision\": 0.0, \"recall\": 0.0}, {\"count\": 22, \"cutoff\": 11, \"userId\": 486, \"precision\": 0.0, \"recall\": 0.0}, {\"count\": 22, \"cutoff\": 16, \"userId\": 486, \"precision\": 0.0625, \"recall\": 0.045454545454545456}, {\"count\": 22, \"cutoff\": 21, \"userId\": 486, \"precision\": 0.047619047619047616, \"recall\": 0.045454545454545456}, {\"count\": 22, \"cutoff\": 26, \"userId\": 486, \"precision\": 0.038461538461538464, \"recall\": 0.045454545454545456}, {\"count\": 22, \"cutoff\": 31, \"userId\": 486, \"precision\": 0.03225806451612903, \"recall\": 0.045454545454545456}, {\"count\": 22, \"cutoff\": 36, \"userId\": 486, \"precision\": 0.027777777777777776, \"recall\": 0.045454545454545456}, {\"count\": 22, \"cutoff\": 41, \"userId\": 486, \"precision\": 0.024390243902439025, \"recall\": 0.045454545454545456}, {\"count\": 22, \"cutoff\": 46, \"userId\": 486, \"precision\": 0.043478260869565216, \"recall\": 0.09090909090909091}, {\"count\": 4, \"cutoff\": 1, \"userId\": 489, \"precision\": 0.0, \"recall\": 0.0}, {\"count\": 4, \"cutoff\": 2, \"userId\": 489, \"precision\": 0.0, \"recall\": 0.0}, {\"count\": 4, \"cutoff\": 3, \"userId\": 489, \"precision\": 0.0, \"recall\": 0.0}, {\"count\": 4, \"cutoff\": 4, \"userId\": 489, \"precision\": 0.0, \"recall\": 0.0}, {\"count\": 4, \"cutoff\": 5, \"userId\": 489, \"precision\": 0.0, \"recall\": 0.0}, {\"count\": 4, \"cutoff\": 6, \"userId\": 489, \"precision\": 0.0, \"recall\": 0.0}, {\"count\": 4, \"cutoff\": 7, \"userId\": 489, \"precision\": 0.0, \"recall\": 0.0}, {\"count\": 4, \"cutoff\": 8, \"userId\": 489, \"precision\": 0.0, \"recall\": 0.0}, {\"count\": 4, \"cutoff\": 9, \"userId\": 489, \"precision\": 0.0, \"recall\": 0.0}, {\"count\": 4, \"cutoff\": 10, \"userId\": 489, \"precision\": 0.0, \"recall\": 0.0}, {\"count\": 4, \"cutoff\": 11, \"userId\": 489, \"precision\": 0.0, \"recall\": 0.0}, {\"count\": 4, \"cutoff\": 16, \"userId\": 489, \"precision\": 0.0, \"recall\": 0.0}, {\"count\": 4, \"cutoff\": 21, \"userId\": 489, \"precision\": 0.0, \"recall\": 0.0}, {\"count\": 4, \"cutoff\": 26, \"userId\": 489, \"precision\": 0.0, \"recall\": 0.0}, {\"count\": 4, \"cutoff\": 31, \"userId\": 489, \"precision\": 0.0, \"recall\": 0.0}, {\"count\": 4, \"cutoff\": 36, \"userId\": 489, \"precision\": 0.0, \"recall\": 0.0}, {\"count\": 4, \"cutoff\": 41, \"userId\": 489, \"precision\": 0.0, \"recall\": 0.0}, {\"count\": 4, \"cutoff\": 46, \"userId\": 489, \"precision\": 0.0, \"recall\": 0.0}, {\"count\": 18, \"cutoff\": 1, \"userId\": 492, \"precision\": 0.0, \"recall\": 0.0}, {\"count\": 18, \"cutoff\": 2, \"userId\": 492, \"precision\": 0.0, \"recall\": 0.0}, {\"count\": 18, \"cutoff\": 3, \"userId\": 492, \"precision\": 0.0, \"recall\": 0.0}, {\"count\": 18, \"cutoff\": 4, \"userId\": 492, \"precision\": 0.0, \"recall\": 0.0}, {\"count\": 18, \"cutoff\": 5, \"userId\": 492, \"precision\": 0.0, \"recall\": 0.0}, {\"count\": 18, \"cutoff\": 6, \"userId\": 492, \"precision\": 0.0, \"recall\": 0.0}, {\"count\": 18, \"cutoff\": 7, \"userId\": 492, \"precision\": 0.0, \"recall\": 0.0}, {\"count\": 18, \"cutoff\": 8, \"userId\": 492, \"precision\": 0.0, \"recall\": 0.0}, {\"count\": 18, \"cutoff\": 9, \"userId\": 492, \"precision\": 0.0, \"recall\": 0.0}, {\"count\": 18, \"cutoff\": 10, \"userId\": 492, \"precision\": 0.0, \"recall\": 0.0}, {\"count\": 18, \"cutoff\": 11, \"userId\": 492, \"precision\": 0.0, \"recall\": 0.0}, {\"count\": 18, \"cutoff\": 16, \"userId\": 492, \"precision\": 0.0, \"recall\": 0.0}, {\"count\": 18, \"cutoff\": 21, \"userId\": 492, \"precision\": 0.0, \"recall\": 0.0}, {\"count\": 18, \"cutoff\": 26, \"userId\": 492, \"precision\": 0.0, \"recall\": 0.0}, {\"count\": 18, \"cutoff\": 31, \"userId\": 492, \"precision\": 0.0, \"recall\": 0.0}, {\"count\": 18, \"cutoff\": 36, \"userId\": 492, \"precision\": 0.0, \"recall\": 0.0}, {\"count\": 18, \"cutoff\": 41, \"userId\": 492, \"precision\": 0.0, \"recall\": 0.0}, {\"count\": 18, \"cutoff\": 46, \"userId\": 492, \"precision\": 0.021739130434782608, \"recall\": 0.05555555555555555}, {\"count\": 11, \"cutoff\": 1, \"userId\": 494, \"precision\": 0.0, \"recall\": 0.0}, {\"count\": 11, \"cutoff\": 2, \"userId\": 494, \"precision\": 0.0, \"recall\": 0.0}, {\"count\": 11, \"cutoff\": 3, \"userId\": 494, \"precision\": 0.3333333333333333, \"recall\": 0.09090909090909091}, {\"count\": 11, \"cutoff\": 4, \"userId\": 494, \"precision\": 0.5, \"recall\": 0.18181818181818182}, {\"count\": 11, \"cutoff\": 5, \"userId\": 494, \"precision\": 0.4, \"recall\": 0.18181818181818182}, {\"count\": 11, \"cutoff\": 6, \"userId\": 494, \"precision\": 0.3333333333333333, \"recall\": 0.18181818181818182}, {\"count\": 11, \"cutoff\": 7, \"userId\": 494, \"precision\": 0.42857142857142855, \"recall\": 0.2727272727272727}, {\"count\": 11, \"cutoff\": 8, \"userId\": 494, \"precision\": 0.375, \"recall\": 0.2727272727272727}, {\"count\": 11, \"cutoff\": 9, \"userId\": 494, \"precision\": 0.3333333333333333, \"recall\": 0.2727272727272727}, {\"count\": 11, \"cutoff\": 10, \"userId\": 494, \"precision\": 0.3, \"recall\": 0.2727272727272727}, {\"count\": 11, \"cutoff\": 11, \"userId\": 494, \"precision\": 0.2727272727272727, \"recall\": 0.2727272727272727}, {\"count\": 11, \"cutoff\": 16, \"userId\": 494, \"precision\": 0.1875, \"recall\": 0.2727272727272727}, {\"count\": 11, \"cutoff\": 21, \"userId\": 494, \"precision\": 0.14285714285714285, \"recall\": 0.2727272727272727}, {\"count\": 11, \"cutoff\": 26, \"userId\": 494, \"precision\": 0.11538461538461539, \"recall\": 0.2727272727272727}, {\"count\": 11, \"cutoff\": 31, \"userId\": 494, \"precision\": 0.0967741935483871, \"recall\": 0.2727272727272727}, {\"count\": 11, \"cutoff\": 36, \"userId\": 494, \"precision\": 0.08333333333333333, \"recall\": 0.2727272727272727}, {\"count\": 11, \"cutoff\": 41, \"userId\": 494, \"precision\": 0.0975609756097561, \"recall\": 0.36363636363636365}, {\"count\": 11, \"cutoff\": 46, \"userId\": 494, \"precision\": 0.08695652173913043, \"recall\": 0.36363636363636365}, {\"count\": 9, \"cutoff\": 1, \"userId\": 508, \"precision\": 0.0, \"recall\": 0.0}, {\"count\": 9, \"cutoff\": 2, \"userId\": 508, \"precision\": 0.0, \"recall\": 0.0}, {\"count\": 9, \"cutoff\": 3, \"userId\": 508, \"precision\": 0.0, \"recall\": 0.0}, {\"count\": 9, \"cutoff\": 4, \"userId\": 508, \"precision\": 0.0, \"recall\": 0.0}, {\"count\": 9, \"cutoff\": 5, \"userId\": 508, \"precision\": 0.0, \"recall\": 0.0}, {\"count\": 9, \"cutoff\": 6, \"userId\": 508, \"precision\": 0.0, \"recall\": 0.0}, {\"count\": 9, \"cutoff\": 7, \"userId\": 508, \"precision\": 0.0, \"recall\": 0.0}, {\"count\": 9, \"cutoff\": 8, \"userId\": 508, \"precision\": 0.0, \"recall\": 0.0}, {\"count\": 9, \"cutoff\": 9, \"userId\": 508, \"precision\": 0.0, \"recall\": 0.0}, {\"count\": 9, \"cutoff\": 10, \"userId\": 508, \"precision\": 0.0, \"recall\": 0.0}, {\"count\": 9, \"cutoff\": 11, \"userId\": 508, \"precision\": 0.0, \"recall\": 0.0}, {\"count\": 9, \"cutoff\": 16, \"userId\": 508, \"precision\": 0.0, \"recall\": 0.0}, {\"count\": 9, \"cutoff\": 21, \"userId\": 508, \"precision\": 0.0, \"recall\": 0.0}, {\"count\": 9, \"cutoff\": 26, \"userId\": 508, \"precision\": 0.0, \"recall\": 0.0}, {\"count\": 9, \"cutoff\": 31, \"userId\": 508, \"precision\": 0.0, \"recall\": 0.0}, {\"count\": 9, \"cutoff\": 36, \"userId\": 508, \"precision\": 0.0, \"recall\": 0.0}, {\"count\": 9, \"cutoff\": 41, \"userId\": 508, \"precision\": 0.0, \"recall\": 0.0}, {\"count\": 9, \"cutoff\": 46, \"userId\": 508, \"precision\": 0.021739130434782608, \"recall\": 0.1111111111111111}, {\"count\": 33, \"cutoff\": 1, \"userId\": 516, \"precision\": 0.0, \"recall\": 0.0}, {\"count\": 33, \"cutoff\": 2, \"userId\": 516, \"precision\": 0.0, \"recall\": 0.0}, {\"count\": 33, \"cutoff\": 3, \"userId\": 516, \"precision\": 0.0, \"recall\": 0.0}, {\"count\": 33, \"cutoff\": 4, \"userId\": 516, \"precision\": 0.0, \"recall\": 0.0}, {\"count\": 33, \"cutoff\": 5, \"userId\": 516, \"precision\": 0.0, \"recall\": 0.0}, {\"count\": 33, \"cutoff\": 6, \"userId\": 516, \"precision\": 0.0, \"recall\": 0.0}, {\"count\": 33, \"cutoff\": 7, \"userId\": 516, \"precision\": 0.0, \"recall\": 0.0}, {\"count\": 33, \"cutoff\": 8, \"userId\": 516, \"precision\": 0.0, \"recall\": 0.0}, {\"count\": 33, \"cutoff\": 9, \"userId\": 516, \"precision\": 0.0, \"recall\": 0.0}, {\"count\": 33, \"cutoff\": 10, \"userId\": 516, \"precision\": 0.0, \"recall\": 0.0}, {\"count\": 33, \"cutoff\": 11, \"userId\": 516, \"precision\": 0.0, \"recall\": 0.0}, {\"count\": 33, \"cutoff\": 16, \"userId\": 516, \"precision\": 0.0, \"recall\": 0.0}, {\"count\": 33, \"cutoff\": 21, \"userId\": 516, \"precision\": 0.0, \"recall\": 0.0}, {\"count\": 33, \"cutoff\": 26, \"userId\": 516, \"precision\": 0.038461538461538464, \"recall\": 0.030303030303030304}, {\"count\": 33, \"cutoff\": 31, \"userId\": 516, \"precision\": 0.03225806451612903, \"recall\": 0.030303030303030304}, {\"count\": 33, \"cutoff\": 36, \"userId\": 516, \"precision\": 0.05555555555555555, \"recall\": 0.06060606060606061}, {\"count\": 33, \"cutoff\": 41, \"userId\": 516, \"precision\": 0.04878048780487805, \"recall\": 0.06060606060606061}, {\"count\": 33, \"cutoff\": 46, \"userId\": 516, \"precision\": 0.043478260869565216, \"recall\": 0.06060606060606061}, {\"count\": 4, \"cutoff\": 1, \"userId\": 526, \"precision\": 0.0, \"recall\": 0.0}, {\"count\": 4, \"cutoff\": 2, \"userId\": 526, \"precision\": 0.0, \"recall\": 0.0}, {\"count\": 4, \"cutoff\": 3, \"userId\": 526, \"precision\": 0.0, \"recall\": 0.0}, {\"count\": 4, \"cutoff\": 4, \"userId\": 526, \"precision\": 0.0, \"recall\": 0.0}, {\"count\": 4, \"cutoff\": 5, \"userId\": 526, \"precision\": 0.0, \"recall\": 0.0}, {\"count\": 4, \"cutoff\": 6, \"userId\": 526, \"precision\": 0.0, \"recall\": 0.0}, {\"count\": 4, \"cutoff\": 7, \"userId\": 526, \"precision\": 0.0, \"recall\": 0.0}, {\"count\": 4, \"cutoff\": 8, \"userId\": 526, \"precision\": 0.0, \"recall\": 0.0}, {\"count\": 4, \"cutoff\": 9, \"userId\": 526, \"precision\": 0.0, \"recall\": 0.0}, {\"count\": 4, \"cutoff\": 10, \"userId\": 526, \"precision\": 0.0, \"recall\": 0.0}, {\"count\": 4, \"cutoff\": 11, \"userId\": 526, \"precision\": 0.0, \"recall\": 0.0}, {\"count\": 4, \"cutoff\": 16, \"userId\": 526, \"precision\": 0.0, \"recall\": 0.0}, {\"count\": 4, \"cutoff\": 21, \"userId\": 526, \"precision\": 0.0, \"recall\": 0.0}, {\"count\": 4, \"cutoff\": 26, \"userId\": 526, \"precision\": 0.0, \"recall\": 0.0}, {\"count\": 4, \"cutoff\": 31, \"userId\": 526, \"precision\": 0.03225806451612903, \"recall\": 0.25}, {\"count\": 4, \"cutoff\": 36, \"userId\": 526, \"precision\": 0.027777777777777776, \"recall\": 0.25}, {\"count\": 4, \"cutoff\": 41, \"userId\": 526, \"precision\": 0.024390243902439025, \"recall\": 0.25}, {\"count\": 4, \"cutoff\": 46, \"userId\": 526, \"precision\": 0.021739130434782608, \"recall\": 0.25}, {\"count\": 27, \"cutoff\": 1, \"userId\": 528, \"precision\": 0.0, \"recall\": 0.0}, {\"count\": 27, \"cutoff\": 2, \"userId\": 528, \"precision\": 0.5, \"recall\": 0.037037037037037035}, {\"count\": 27, \"cutoff\": 3, \"userId\": 528, \"precision\": 0.3333333333333333, \"recall\": 0.037037037037037035}, {\"count\": 27, \"cutoff\": 4, \"userId\": 528, \"precision\": 0.25, \"recall\": 0.037037037037037035}, {\"count\": 27, \"cutoff\": 5, \"userId\": 528, \"precision\": 0.2, \"recall\": 0.037037037037037035}, {\"count\": 27, \"cutoff\": 6, \"userId\": 528, \"precision\": 0.16666666666666666, \"recall\": 0.037037037037037035}, {\"count\": 27, \"cutoff\": 7, \"userId\": 528, \"precision\": 0.2857142857142857, \"recall\": 0.07407407407407407}, {\"count\": 27, \"cutoff\": 8, \"userId\": 528, \"precision\": 0.25, \"recall\": 0.07407407407407407}, {\"count\": 27, \"cutoff\": 9, \"userId\": 528, \"precision\": 0.2222222222222222, \"recall\": 0.07407407407407407}, {\"count\": 27, \"cutoff\": 10, \"userId\": 528, \"precision\": 0.2, \"recall\": 0.07407407407407407}, {\"count\": 27, \"cutoff\": 11, \"userId\": 528, \"precision\": 0.18181818181818182, \"recall\": 0.07407407407407407}, {\"count\": 27, \"cutoff\": 16, \"userId\": 528, \"precision\": 0.25, \"recall\": 0.14814814814814814}, {\"count\": 27, \"cutoff\": 21, \"userId\": 528, \"precision\": 0.2857142857142857, \"recall\": 0.2222222222222222}, {\"count\": 27, \"cutoff\": 26, \"userId\": 528, \"precision\": 0.23076923076923078, \"recall\": 0.2222222222222222}, {\"count\": 27, \"cutoff\": 31, \"userId\": 528, \"precision\": 0.1935483870967742, \"recall\": 0.2222222222222222}, {\"count\": 27, \"cutoff\": 36, \"userId\": 528, \"precision\": 0.19444444444444445, \"recall\": 0.25925925925925924}, {\"count\": 27, \"cutoff\": 41, \"userId\": 528, \"precision\": 0.17073170731707318, \"recall\": 0.25925925925925924}, {\"count\": 27, \"cutoff\": 46, \"userId\": 528, \"precision\": 0.15217391304347827, \"recall\": 0.25925925925925924}, {\"count\": 10, \"cutoff\": 1, \"userId\": 532, \"precision\": 0.0, \"recall\": 0.0}, {\"count\": 10, \"cutoff\": 2, \"userId\": 532, \"precision\": 0.0, \"recall\": 0.0}, {\"count\": 10, \"cutoff\": 3, \"userId\": 532, \"precision\": 0.0, \"recall\": 0.0}, {\"count\": 10, \"cutoff\": 4, \"userId\": 532, \"precision\": 0.0, \"recall\": 0.0}, {\"count\": 10, \"cutoff\": 5, \"userId\": 532, \"precision\": 0.0, \"recall\": 0.0}, {\"count\": 10, \"cutoff\": 6, \"userId\": 532, \"precision\": 0.0, \"recall\": 0.0}, {\"count\": 10, \"cutoff\": 7, \"userId\": 532, \"precision\": 0.0, \"recall\": 0.0}, {\"count\": 10, \"cutoff\": 8, \"userId\": 532, \"precision\": 0.0, \"recall\": 0.0}, {\"count\": 10, \"cutoff\": 9, \"userId\": 532, \"precision\": 0.0, \"recall\": 0.0}, {\"count\": 10, \"cutoff\": 10, \"userId\": 532, \"precision\": 0.0, \"recall\": 0.0}, {\"count\": 10, \"cutoff\": 11, \"userId\": 532, \"precision\": 0.0, \"recall\": 0.0}, {\"count\": 10, \"cutoff\": 16, \"userId\": 532, \"precision\": 0.0, \"recall\": 0.0}, {\"count\": 10, \"cutoff\": 21, \"userId\": 532, \"precision\": 0.0, \"recall\": 0.0}, {\"count\": 10, \"cutoff\": 26, \"userId\": 532, \"precision\": 0.0, \"recall\": 0.0}, {\"count\": 10, \"cutoff\": 31, \"userId\": 532, \"precision\": 0.0, \"recall\": 0.0}, {\"count\": 10, \"cutoff\": 36, \"userId\": 532, \"precision\": 0.0, \"recall\": 0.0}, {\"count\": 10, \"cutoff\": 41, \"userId\": 532, \"precision\": 0.0, \"recall\": 0.0}, {\"count\": 10, \"cutoff\": 46, \"userId\": 532, \"precision\": 0.0, \"recall\": 0.0}, {\"count\": 62, \"cutoff\": 1, \"userId\": 537, \"precision\": 0.0, \"recall\": 0.0}, {\"count\": 62, \"cutoff\": 2, \"userId\": 537, \"precision\": 0.5, \"recall\": 0.016129032258064516}, {\"count\": 62, \"cutoff\": 3, \"userId\": 537, \"precision\": 0.3333333333333333, \"recall\": 0.016129032258064516}, {\"count\": 62, \"cutoff\": 4, \"userId\": 537, \"precision\": 0.25, \"recall\": 0.016129032258064516}, {\"count\": 62, \"cutoff\": 5, \"userId\": 537, \"precision\": 0.2, \"recall\": 0.016129032258064516}, {\"count\": 62, \"cutoff\": 6, \"userId\": 537, \"precision\": 0.16666666666666666, \"recall\": 0.016129032258064516}, {\"count\": 62, \"cutoff\": 7, \"userId\": 537, \"precision\": 0.14285714285714285, \"recall\": 0.016129032258064516}, {\"count\": 62, \"cutoff\": 8, \"userId\": 537, \"precision\": 0.25, \"recall\": 0.03225806451612903}, {\"count\": 62, \"cutoff\": 9, \"userId\": 537, \"precision\": 0.3333333333333333, \"recall\": 0.04838709677419355}, {\"count\": 62, \"cutoff\": 10, \"userId\": 537, \"precision\": 0.3, \"recall\": 0.04838709677419355}, {\"count\": 62, \"cutoff\": 11, \"userId\": 537, \"precision\": 0.2727272727272727, \"recall\": 0.04838709677419355}, {\"count\": 62, \"cutoff\": 16, \"userId\": 537, \"precision\": 0.1875, \"recall\": 0.04838709677419355}, {\"count\": 62, \"cutoff\": 21, \"userId\": 537, \"precision\": 0.14285714285714285, \"recall\": 0.04838709677419355}, {\"count\": 62, \"cutoff\": 26, \"userId\": 537, \"precision\": 0.15384615384615385, \"recall\": 0.06451612903225806}, {\"count\": 62, \"cutoff\": 31, \"userId\": 537, \"precision\": 0.1935483870967742, \"recall\": 0.0967741935483871}, {\"count\": 62, \"cutoff\": 36, \"userId\": 537, \"precision\": 0.16666666666666666, \"recall\": 0.0967741935483871}, {\"count\": 62, \"cutoff\": 41, \"userId\": 537, \"precision\": 0.17073170731707318, \"recall\": 0.11290322580645161}, {\"count\": 62, \"cutoff\": 46, \"userId\": 537, \"precision\": 0.17391304347826086, \"recall\": 0.12903225806451613}, {\"count\": 17, \"cutoff\": 1, \"userId\": 542, \"precision\": 0.0, \"recall\": 0.0}, {\"count\": 17, \"cutoff\": 2, \"userId\": 542, \"precision\": 0.0, \"recall\": 0.0}, {\"count\": 17, \"cutoff\": 3, \"userId\": 542, \"precision\": 0.0, \"recall\": 0.0}, {\"count\": 17, \"cutoff\": 4, \"userId\": 542, \"precision\": 0.0, \"recall\": 0.0}, {\"count\": 17, \"cutoff\": 5, \"userId\": 542, \"precision\": 0.0, \"recall\": 0.0}, {\"count\": 17, \"cutoff\": 6, \"userId\": 542, \"precision\": 0.0, \"recall\": 0.0}, {\"count\": 17, \"cutoff\": 7, \"userId\": 542, \"precision\": 0.0, \"recall\": 0.0}, {\"count\": 17, \"cutoff\": 8, \"userId\": 542, \"precision\": 0.0, \"recall\": 0.0}, {\"count\": 17, \"cutoff\": 9, \"userId\": 542, \"precision\": 0.0, \"recall\": 0.0}, {\"count\": 17, \"cutoff\": 10, \"userId\": 542, \"precision\": 0.0, \"recall\": 0.0}, {\"count\": 17, \"cutoff\": 11, \"userId\": 542, \"precision\": 0.0, \"recall\": 0.0}, {\"count\": 17, \"cutoff\": 16, \"userId\": 542, \"precision\": 0.0625, \"recall\": 0.058823529411764705}, {\"count\": 17, \"cutoff\": 21, \"userId\": 542, \"precision\": 0.047619047619047616, \"recall\": 0.058823529411764705}, {\"count\": 17, \"cutoff\": 26, \"userId\": 542, \"precision\": 0.07692307692307693, \"recall\": 0.11764705882352941}, {\"count\": 17, \"cutoff\": 31, \"userId\": 542, \"precision\": 0.06451612903225806, \"recall\": 0.11764705882352941}, {\"count\": 17, \"cutoff\": 36, \"userId\": 542, \"precision\": 0.05555555555555555, \"recall\": 0.11764705882352941}, {\"count\": 17, \"cutoff\": 41, \"userId\": 542, \"precision\": 0.04878048780487805, \"recall\": 0.11764705882352941}, {\"count\": 17, \"cutoff\": 46, \"userId\": 542, \"precision\": 0.043478260869565216, \"recall\": 0.11764705882352941}, {\"count\": 8, \"cutoff\": 1, \"userId\": 543, \"precision\": 0.0, \"recall\": 0.0}, {\"count\": 8, \"cutoff\": 2, \"userId\": 543, \"precision\": 0.0, \"recall\": 0.0}, {\"count\": 8, \"cutoff\": 3, \"userId\": 543, \"precision\": 0.0, \"recall\": 0.0}, {\"count\": 8, \"cutoff\": 4, \"userId\": 543, \"precision\": 0.0, \"recall\": 0.0}, {\"count\": 8, \"cutoff\": 5, \"userId\": 543, \"precision\": 0.0, \"recall\": 0.0}, {\"count\": 8, \"cutoff\": 6, \"userId\": 543, \"precision\": 0.0, \"recall\": 0.0}, {\"count\": 8, \"cutoff\": 7, \"userId\": 543, \"precision\": 0.0, \"recall\": 0.0}, {\"count\": 8, \"cutoff\": 8, \"userId\": 543, \"precision\": 0.0, \"recall\": 0.0}, {\"count\": 8, \"cutoff\": 9, \"userId\": 543, \"precision\": 0.0, \"recall\": 0.0}, {\"count\": 8, \"cutoff\": 10, \"userId\": 543, \"precision\": 0.0, \"recall\": 0.0}, {\"count\": 8, \"cutoff\": 11, \"userId\": 543, \"precision\": 0.0, \"recall\": 0.0}, {\"count\": 8, \"cutoff\": 16, \"userId\": 543, \"precision\": 0.0, \"recall\": 0.0}, {\"count\": 8, \"cutoff\": 21, \"userId\": 543, \"precision\": 0.0, \"recall\": 0.0}, {\"count\": 8, \"cutoff\": 26, \"userId\": 543, \"precision\": 0.0, \"recall\": 0.0}, {\"count\": 8, \"cutoff\": 31, \"userId\": 543, \"precision\": 0.0, \"recall\": 0.0}, {\"count\": 8, \"cutoff\": 36, \"userId\": 543, \"precision\": 0.0, \"recall\": 0.0}, {\"count\": 8, \"cutoff\": 41, \"userId\": 543, \"precision\": 0.0, \"recall\": 0.0}, {\"count\": 8, \"cutoff\": 46, \"userId\": 543, \"precision\": 0.0, \"recall\": 0.0}, {\"count\": 25, \"cutoff\": 1, \"userId\": 548, \"precision\": 0.0, \"recall\": 0.0}, {\"count\": 25, \"cutoff\": 2, \"userId\": 548, \"precision\": 0.0, \"recall\": 0.0}, {\"count\": 25, \"cutoff\": 3, \"userId\": 548, \"precision\": 0.0, \"recall\": 0.0}, {\"count\": 25, \"cutoff\": 4, \"userId\": 548, \"precision\": 0.0, \"recall\": 0.0}, {\"count\": 25, \"cutoff\": 5, \"userId\": 548, \"precision\": 0.0, \"recall\": 0.0}, {\"count\": 25, \"cutoff\": 6, \"userId\": 548, \"precision\": 0.0, \"recall\": 0.0}, {\"count\": 25, \"cutoff\": 7, \"userId\": 548, \"precision\": 0.0, \"recall\": 0.0}, {\"count\": 25, \"cutoff\": 8, \"userId\": 548, \"precision\": 0.125, \"recall\": 0.04}, {\"count\": 25, \"cutoff\": 9, \"userId\": 548, \"precision\": 0.1111111111111111, \"recall\": 0.04}, {\"count\": 25, \"cutoff\": 10, \"userId\": 548, \"precision\": 0.1, \"recall\": 0.04}, {\"count\": 25, \"cutoff\": 11, \"userId\": 548, \"precision\": 0.09090909090909091, \"recall\": 0.04}, {\"count\": 25, \"cutoff\": 16, \"userId\": 548, \"precision\": 0.0625, \"recall\": 0.04}, {\"count\": 25, \"cutoff\": 21, \"userId\": 548, \"precision\": 0.047619047619047616, \"recall\": 0.04}, {\"count\": 25, \"cutoff\": 26, \"userId\": 548, \"precision\": 0.038461538461538464, \"recall\": 0.04}, {\"count\": 25, \"cutoff\": 31, \"userId\": 548, \"precision\": 0.03225806451612903, \"recall\": 0.04}, {\"count\": 25, \"cutoff\": 36, \"userId\": 548, \"precision\": 0.027777777777777776, \"recall\": 0.04}, {\"count\": 25, \"cutoff\": 41, \"userId\": 548, \"precision\": 0.024390243902439025, \"recall\": 0.04}, {\"count\": 25, \"cutoff\": 46, \"userId\": 548, \"precision\": 0.021739130434782608, \"recall\": 0.04}, {\"count\": 6, \"cutoff\": 1, \"userId\": 552, \"precision\": 0.0, \"recall\": 0.0}, {\"count\": 6, \"cutoff\": 2, \"userId\": 552, \"precision\": 0.0, \"recall\": 0.0}, {\"count\": 6, \"cutoff\": 3, \"userId\": 552, \"precision\": 0.3333333333333333, \"recall\": 0.16666666666666666}, {\"count\": 6, \"cutoff\": 4, \"userId\": 552, \"precision\": 0.25, \"recall\": 0.16666666666666666}, {\"count\": 6, \"cutoff\": 5, \"userId\": 552, \"precision\": 0.2, \"recall\": 0.16666666666666666}, {\"count\": 6, \"cutoff\": 6, \"userId\": 552, \"precision\": 0.16666666666666666, \"recall\": 0.16666666666666666}, {\"count\": 6, \"cutoff\": 7, \"userId\": 552, \"precision\": 0.14285714285714285, \"recall\": 0.16666666666666666}, {\"count\": 6, \"cutoff\": 8, \"userId\": 552, \"precision\": 0.125, \"recall\": 0.16666666666666666}, {\"count\": 6, \"cutoff\": 9, \"userId\": 552, \"precision\": 0.1111111111111111, \"recall\": 0.16666666666666666}, {\"count\": 6, \"cutoff\": 10, \"userId\": 552, \"precision\": 0.1, \"recall\": 0.16666666666666666}, {\"count\": 6, \"cutoff\": 11, \"userId\": 552, \"precision\": 0.09090909090909091, \"recall\": 0.16666666666666666}, {\"count\": 6, \"cutoff\": 16, \"userId\": 552, \"precision\": 0.0625, \"recall\": 0.16666666666666666}, {\"count\": 6, \"cutoff\": 21, \"userId\": 552, \"precision\": 0.047619047619047616, \"recall\": 0.16666666666666666}, {\"count\": 6, \"cutoff\": 26, \"userId\": 552, \"precision\": 0.038461538461538464, \"recall\": 0.16666666666666666}, {\"count\": 6, \"cutoff\": 31, \"userId\": 552, \"precision\": 0.03225806451612903, \"recall\": 0.16666666666666666}, {\"count\": 6, \"cutoff\": 36, \"userId\": 552, \"precision\": 0.027777777777777776, \"recall\": 0.16666666666666666}, {\"count\": 6, \"cutoff\": 41, \"userId\": 552, \"precision\": 0.024390243902439025, \"recall\": 0.16666666666666666}, {\"count\": 6, \"cutoff\": 46, \"userId\": 552, \"precision\": 0.021739130434782608, \"recall\": 0.16666666666666666}, {\"count\": 45, \"cutoff\": 1, \"userId\": 553, \"precision\": 1.0, \"recall\": 0.022222222222222223}, {\"count\": 45, \"cutoff\": 2, \"userId\": 553, \"precision\": 0.5, \"recall\": 0.022222222222222223}, {\"count\": 45, \"cutoff\": 3, \"userId\": 553, \"precision\": 0.3333333333333333, \"recall\": 0.022222222222222223}, {\"count\": 45, \"cutoff\": 4, \"userId\": 553, \"precision\": 0.25, \"recall\": 0.022222222222222223}, {\"count\": 45, \"cutoff\": 5, \"userId\": 553, \"precision\": 0.4, \"recall\": 0.044444444444444446}, {\"count\": 45, \"cutoff\": 6, \"userId\": 553, \"precision\": 0.3333333333333333, \"recall\": 0.044444444444444446}, {\"count\": 45, \"cutoff\": 7, \"userId\": 553, \"precision\": 0.2857142857142857, \"recall\": 0.044444444444444446}, {\"count\": 45, \"cutoff\": 8, \"userId\": 553, \"precision\": 0.25, \"recall\": 0.044444444444444446}, {\"count\": 45, \"cutoff\": 9, \"userId\": 553, \"precision\": 0.2222222222222222, \"recall\": 0.044444444444444446}, {\"count\": 45, \"cutoff\": 10, \"userId\": 553, \"precision\": 0.2, \"recall\": 0.044444444444444446}, {\"count\": 45, \"cutoff\": 11, \"userId\": 553, \"precision\": 0.18181818181818182, \"recall\": 0.044444444444444446}, {\"count\": 45, \"cutoff\": 16, \"userId\": 553, \"precision\": 0.125, \"recall\": 0.044444444444444446}, {\"count\": 45, \"cutoff\": 21, \"userId\": 553, \"precision\": 0.09523809523809523, \"recall\": 0.044444444444444446}, {\"count\": 45, \"cutoff\": 26, \"userId\": 553, \"precision\": 0.11538461538461539, \"recall\": 0.06666666666666667}, {\"count\": 45, \"cutoff\": 31, \"userId\": 553, \"precision\": 0.0967741935483871, \"recall\": 0.06666666666666667}, {\"count\": 45, \"cutoff\": 36, \"userId\": 553, \"precision\": 0.08333333333333333, \"recall\": 0.06666666666666667}, {\"count\": 45, \"cutoff\": 41, \"userId\": 553, \"precision\": 0.07317073170731707, \"recall\": 0.06666666666666667}, {\"count\": 45, \"cutoff\": 46, \"userId\": 553, \"precision\": 0.06521739130434782, \"recall\": 0.06666666666666667}, {\"count\": 10, \"cutoff\": 1, \"userId\": 554, \"precision\": 0.0, \"recall\": 0.0}, {\"count\": 10, \"cutoff\": 2, \"userId\": 554, \"precision\": 0.0, \"recall\": 0.0}, {\"count\": 10, \"cutoff\": 3, \"userId\": 554, \"precision\": 0.0, \"recall\": 0.0}, {\"count\": 10, \"cutoff\": 4, \"userId\": 554, \"precision\": 0.0, \"recall\": 0.0}, {\"count\": 10, \"cutoff\": 5, \"userId\": 554, \"precision\": 0.0, \"recall\": 0.0}, {\"count\": 10, \"cutoff\": 6, \"userId\": 554, \"precision\": 0.0, \"recall\": 0.0}, {\"count\": 10, \"cutoff\": 7, \"userId\": 554, \"precision\": 0.0, \"recall\": 0.0}, {\"count\": 10, \"cutoff\": 8, \"userId\": 554, \"precision\": 0.0, \"recall\": 0.0}, {\"count\": 10, \"cutoff\": 9, \"userId\": 554, \"precision\": 0.0, \"recall\": 0.0}, {\"count\": 10, \"cutoff\": 10, \"userId\": 554, \"precision\": 0.0, \"recall\": 0.0}, {\"count\": 10, \"cutoff\": 11, \"userId\": 554, \"precision\": 0.0, \"recall\": 0.0}, {\"count\": 10, \"cutoff\": 16, \"userId\": 554, \"precision\": 0.0, \"recall\": 0.0}, {\"count\": 10, \"cutoff\": 21, \"userId\": 554, \"precision\": 0.0, \"recall\": 0.0}, {\"count\": 10, \"cutoff\": 26, \"userId\": 554, \"precision\": 0.038461538461538464, \"recall\": 0.1}, {\"count\": 10, \"cutoff\": 31, \"userId\": 554, \"precision\": 0.03225806451612903, \"recall\": 0.1}, {\"count\": 10, \"cutoff\": 36, \"userId\": 554, \"precision\": 0.027777777777777776, \"recall\": 0.1}, {\"count\": 10, \"cutoff\": 41, \"userId\": 554, \"precision\": 0.024390243902439025, \"recall\": 0.1}, {\"count\": 10, \"cutoff\": 46, \"userId\": 554, \"precision\": 0.021739130434782608, \"recall\": 0.1}, {\"count\": 21, \"cutoff\": 1, \"userId\": 560, \"precision\": 0.0, \"recall\": 0.0}, {\"count\": 21, \"cutoff\": 2, \"userId\": 560, \"precision\": 0.0, \"recall\": 0.0}, {\"count\": 21, \"cutoff\": 3, \"userId\": 560, \"precision\": 0.0, \"recall\": 0.0}, {\"count\": 21, \"cutoff\": 4, \"userId\": 560, \"precision\": 0.0, \"recall\": 0.0}, {\"count\": 21, \"cutoff\": 5, \"userId\": 560, \"precision\": 0.2, \"recall\": 0.047619047619047616}, {\"count\": 21, \"cutoff\": 6, \"userId\": 560, \"precision\": 0.16666666666666666, \"recall\": 0.047619047619047616}, {\"count\": 21, \"cutoff\": 7, \"userId\": 560, \"precision\": 0.14285714285714285, \"recall\": 0.047619047619047616}, {\"count\": 21, \"cutoff\": 8, \"userId\": 560, \"precision\": 0.125, \"recall\": 0.047619047619047616}, {\"count\": 21, \"cutoff\": 9, \"userId\": 560, \"precision\": 0.1111111111111111, \"recall\": 0.047619047619047616}, {\"count\": 21, \"cutoff\": 10, \"userId\": 560, \"precision\": 0.1, \"recall\": 0.047619047619047616}, {\"count\": 21, \"cutoff\": 11, \"userId\": 560, \"precision\": 0.09090909090909091, \"recall\": 0.047619047619047616}, {\"count\": 21, \"cutoff\": 16, \"userId\": 560, \"precision\": 0.0625, \"recall\": 0.047619047619047616}, {\"count\": 21, \"cutoff\": 21, \"userId\": 560, \"precision\": 0.047619047619047616, \"recall\": 0.047619047619047616}, {\"count\": 21, \"cutoff\": 26, \"userId\": 560, \"precision\": 0.038461538461538464, \"recall\": 0.047619047619047616}, {\"count\": 21, \"cutoff\": 31, \"userId\": 560, \"precision\": 0.03225806451612903, \"recall\": 0.047619047619047616}, {\"count\": 21, \"cutoff\": 36, \"userId\": 560, \"precision\": 0.027777777777777776, \"recall\": 0.047619047619047616}, {\"count\": 21, \"cutoff\": 41, \"userId\": 560, \"precision\": 0.07317073170731707, \"recall\": 0.14285714285714285}, {\"count\": 21, \"cutoff\": 46, \"userId\": 560, \"precision\": 0.06521739130434782, \"recall\": 0.14285714285714285}, {\"count\": 49, \"cutoff\": 1, \"userId\": 562, \"precision\": 1.0, \"recall\": 0.02040816326530612}, {\"count\": 49, \"cutoff\": 2, \"userId\": 562, \"precision\": 1.0, \"recall\": 0.04081632653061224}, {\"count\": 49, \"cutoff\": 3, \"userId\": 562, \"precision\": 1.0, \"recall\": 0.061224489795918366}, {\"count\": 49, \"cutoff\": 4, \"userId\": 562, \"precision\": 0.75, \"recall\": 0.061224489795918366}, {\"count\": 49, \"cutoff\": 5, \"userId\": 562, \"precision\": 0.6, \"recall\": 0.061224489795918366}, {\"count\": 49, \"cutoff\": 6, \"userId\": 562, \"precision\": 0.6666666666666666, \"recall\": 0.08163265306122448}, {\"count\": 49, \"cutoff\": 7, \"userId\": 562, \"precision\": 0.7142857142857143, \"recall\": 0.10204081632653061}, {\"count\": 49, \"cutoff\": 8, \"userId\": 562, \"precision\": 0.625, \"recall\": 0.10204081632653061}, {\"count\": 49, \"cutoff\": 9, \"userId\": 562, \"precision\": 0.6666666666666666, \"recall\": 0.12244897959183673}, {\"count\": 49, \"cutoff\": 10, \"userId\": 562, \"precision\": 0.6, \"recall\": 0.12244897959183673}, {\"count\": 49, \"cutoff\": 11, \"userId\": 562, \"precision\": 0.6363636363636364, \"recall\": 0.14285714285714285}, {\"count\": 49, \"cutoff\": 16, \"userId\": 562, \"precision\": 0.4375, \"recall\": 0.14285714285714285}, {\"count\": 49, \"cutoff\": 21, \"userId\": 562, \"precision\": 0.42857142857142855, \"recall\": 0.1836734693877551}, {\"count\": 49, \"cutoff\": 26, \"userId\": 562, \"precision\": 0.34615384615384615, \"recall\": 0.1836734693877551}, {\"count\": 49, \"cutoff\": 31, \"userId\": 562, \"precision\": 0.3225806451612903, \"recall\": 0.20408163265306123}, {\"count\": 49, \"cutoff\": 36, \"userId\": 562, \"precision\": 0.2777777777777778, \"recall\": 0.20408163265306123}, {\"count\": 49, \"cutoff\": 41, \"userId\": 562, \"precision\": 0.2926829268292683, \"recall\": 0.24489795918367346}, {\"count\": 49, \"cutoff\": 46, \"userId\": 562, \"precision\": 0.2826086956521739, \"recall\": 0.2653061224489796}, {\"count\": 35, \"cutoff\": 1, \"userId\": 563, \"precision\": 0.0, \"recall\": 0.0}, {\"count\": 35, \"cutoff\": 2, \"userId\": 563, \"precision\": 0.0, \"recall\": 0.0}, {\"count\": 35, \"cutoff\": 3, \"userId\": 563, \"precision\": 0.3333333333333333, \"recall\": 0.02857142857142857}, {\"count\": 35, \"cutoff\": 4, \"userId\": 563, \"precision\": 0.25, \"recall\": 0.02857142857142857}, {\"count\": 35, \"cutoff\": 5, \"userId\": 563, \"precision\": 0.2, \"recall\": 0.02857142857142857}, {\"count\": 35, \"cutoff\": 6, \"userId\": 563, \"precision\": 0.16666666666666666, \"recall\": 0.02857142857142857}, {\"count\": 35, \"cutoff\": 7, \"userId\": 563, \"precision\": 0.14285714285714285, \"recall\": 0.02857142857142857}, {\"count\": 35, \"cutoff\": 8, \"userId\": 563, \"precision\": 0.125, \"recall\": 0.02857142857142857}, {\"count\": 35, \"cutoff\": 9, \"userId\": 563, \"precision\": 0.1111111111111111, \"recall\": 0.02857142857142857}, {\"count\": 35, \"cutoff\": 10, \"userId\": 563, \"precision\": 0.1, \"recall\": 0.02857142857142857}, {\"count\": 35, \"cutoff\": 11, \"userId\": 563, \"precision\": 0.09090909090909091, \"recall\": 0.02857142857142857}, {\"count\": 35, \"cutoff\": 16, \"userId\": 563, \"precision\": 0.0625, \"recall\": 0.02857142857142857}, {\"count\": 35, \"cutoff\": 21, \"userId\": 563, \"precision\": 0.09523809523809523, \"recall\": 0.05714285714285714}, {\"count\": 35, \"cutoff\": 26, \"userId\": 563, \"precision\": 0.11538461538461539, \"recall\": 0.08571428571428572}, {\"count\": 35, \"cutoff\": 31, \"userId\": 563, \"precision\": 0.0967741935483871, \"recall\": 0.08571428571428572}, {\"count\": 35, \"cutoff\": 36, \"userId\": 563, \"precision\": 0.1111111111111111, \"recall\": 0.11428571428571428}, {\"count\": 35, \"cutoff\": 41, \"userId\": 563, \"precision\": 0.0975609756097561, \"recall\": 0.11428571428571428}, {\"count\": 35, \"cutoff\": 46, \"userId\": 563, \"precision\": 0.08695652173913043, \"recall\": 0.11428571428571428}, {\"count\": 8, \"cutoff\": 1, \"userId\": 565, \"precision\": 0.0, \"recall\": 0.0}, {\"count\": 8, \"cutoff\": 2, \"userId\": 565, \"precision\": 0.0, \"recall\": 0.0}, {\"count\": 8, \"cutoff\": 3, \"userId\": 565, \"precision\": 0.0, \"recall\": 0.0}, {\"count\": 8, \"cutoff\": 4, \"userId\": 565, \"precision\": 0.0, \"recall\": 0.0}, {\"count\": 8, \"cutoff\": 5, \"userId\": 565, \"precision\": 0.0, \"recall\": 0.0}, {\"count\": 8, \"cutoff\": 6, \"userId\": 565, \"precision\": 0.0, \"recall\": 0.0}, {\"count\": 8, \"cutoff\": 7, \"userId\": 565, \"precision\": 0.0, \"recall\": 0.0}, {\"count\": 8, \"cutoff\": 8, \"userId\": 565, \"precision\": 0.0, \"recall\": 0.0}, {\"count\": 8, \"cutoff\": 9, \"userId\": 565, \"precision\": 0.1111111111111111, \"recall\": 0.125}, {\"count\": 8, \"cutoff\": 10, \"userId\": 565, \"precision\": 0.1, \"recall\": 0.125}, {\"count\": 8, \"cutoff\": 11, \"userId\": 565, \"precision\": 0.09090909090909091, \"recall\": 0.125}, {\"count\": 8, \"cutoff\": 16, \"userId\": 565, \"precision\": 0.0625, \"recall\": 0.125}, {\"count\": 8, \"cutoff\": 21, \"userId\": 565, \"precision\": 0.09523809523809523, \"recall\": 0.25}, {\"count\": 8, \"cutoff\": 26, \"userId\": 565, \"precision\": 0.07692307692307693, \"recall\": 0.25}, {\"count\": 8, \"cutoff\": 31, \"userId\": 565, \"precision\": 0.06451612903225806, \"recall\": 0.25}, {\"count\": 8, \"cutoff\": 36, \"userId\": 565, \"precision\": 0.05555555555555555, \"recall\": 0.25}, {\"count\": 8, \"cutoff\": 41, \"userId\": 565, \"precision\": 0.04878048780487805, \"recall\": 0.25}, {\"count\": 8, \"cutoff\": 46, \"userId\": 565, \"precision\": 0.043478260869565216, \"recall\": 0.25}, {\"count\": 7, \"cutoff\": 1, \"userId\": 567, \"precision\": 0.0, \"recall\": 0.0}, {\"count\": 7, \"cutoff\": 2, \"userId\": 567, \"precision\": 0.0, \"recall\": 0.0}, {\"count\": 7, \"cutoff\": 3, \"userId\": 567, \"precision\": 0.3333333333333333, \"recall\": 0.14285714285714285}, {\"count\": 7, \"cutoff\": 4, \"userId\": 567, \"precision\": 0.25, \"recall\": 0.14285714285714285}, {\"count\": 7, \"cutoff\": 5, \"userId\": 567, \"precision\": 0.2, \"recall\": 0.14285714285714285}, {\"count\": 7, \"cutoff\": 6, \"userId\": 567, \"precision\": 0.16666666666666666, \"recall\": 0.14285714285714285}, {\"count\": 7, \"cutoff\": 7, \"userId\": 567, \"precision\": 0.2857142857142857, \"recall\": 0.2857142857142857}, {\"count\": 7, \"cutoff\": 8, \"userId\": 567, \"precision\": 0.25, \"recall\": 0.2857142857142857}, {\"count\": 7, \"cutoff\": 9, \"userId\": 567, \"precision\": 0.2222222222222222, \"recall\": 0.2857142857142857}, {\"count\": 7, \"cutoff\": 10, \"userId\": 567, \"precision\": 0.2, \"recall\": 0.2857142857142857}, {\"count\": 7, \"cutoff\": 11, \"userId\": 567, \"precision\": 0.18181818181818182, \"recall\": 0.2857142857142857}, {\"count\": 7, \"cutoff\": 16, \"userId\": 567, \"precision\": 0.125, \"recall\": 0.2857142857142857}, {\"count\": 7, \"cutoff\": 21, \"userId\": 567, \"precision\": 0.09523809523809523, \"recall\": 0.2857142857142857}, {\"count\": 7, \"cutoff\": 26, \"userId\": 567, \"precision\": 0.11538461538461539, \"recall\": 0.42857142857142855}, {\"count\": 7, \"cutoff\": 31, \"userId\": 567, \"precision\": 0.0967741935483871, \"recall\": 0.42857142857142855}, {\"count\": 7, \"cutoff\": 36, \"userId\": 567, \"precision\": 0.08333333333333333, \"recall\": 0.42857142857142855}, {\"count\": 7, \"cutoff\": 41, \"userId\": 567, \"precision\": 0.07317073170731707, \"recall\": 0.42857142857142855}, {\"count\": 7, \"cutoff\": 46, \"userId\": 567, \"precision\": 0.06521739130434782, \"recall\": 0.42857142857142855}, {\"count\": 10, \"cutoff\": 1, \"userId\": 588, \"precision\": 0.0, \"recall\": 0.0}, {\"count\": 10, \"cutoff\": 2, \"userId\": 588, \"precision\": 0.0, \"recall\": 0.0}, {\"count\": 10, \"cutoff\": 3, \"userId\": 588, \"precision\": 0.0, \"recall\": 0.0}, {\"count\": 10, \"cutoff\": 4, \"userId\": 588, \"precision\": 0.0, \"recall\": 0.0}, {\"count\": 10, \"cutoff\": 5, \"userId\": 588, \"precision\": 0.0, \"recall\": 0.0}, {\"count\": 10, \"cutoff\": 6, \"userId\": 588, \"precision\": 0.0, \"recall\": 0.0}, {\"count\": 10, \"cutoff\": 7, \"userId\": 588, \"precision\": 0.14285714285714285, \"recall\": 0.1}, {\"count\": 10, \"cutoff\": 8, \"userId\": 588, \"precision\": 0.125, \"recall\": 0.1}, {\"count\": 10, \"cutoff\": 9, \"userId\": 588, \"precision\": 0.1111111111111111, \"recall\": 0.1}, {\"count\": 10, \"cutoff\": 10, \"userId\": 588, \"precision\": 0.2, \"recall\": 0.2}, {\"count\": 10, \"cutoff\": 11, \"userId\": 588, \"precision\": 0.18181818181818182, \"recall\": 0.2}, {\"count\": 10, \"cutoff\": 16, \"userId\": 588, \"precision\": 0.125, \"recall\": 0.2}, {\"count\": 10, \"cutoff\": 21, \"userId\": 588, \"precision\": 0.14285714285714285, \"recall\": 0.3}, {\"count\": 10, \"cutoff\": 26, \"userId\": 588, \"precision\": 0.11538461538461539, \"recall\": 0.3}, {\"count\": 10, \"cutoff\": 31, \"userId\": 588, \"precision\": 0.12903225806451613, \"recall\": 0.4}, {\"count\": 10, \"cutoff\": 36, \"userId\": 588, \"precision\": 0.1111111111111111, \"recall\": 0.4}, {\"count\": 10, \"cutoff\": 41, \"userId\": 588, \"precision\": 0.0975609756097561, \"recall\": 0.4}, {\"count\": 10, \"cutoff\": 46, \"userId\": 588, \"precision\": 0.08695652173913043, \"recall\": 0.4}, {\"count\": 29, \"cutoff\": 1, \"userId\": 592, \"precision\": 0.0, \"recall\": 0.0}, {\"count\": 29, \"cutoff\": 2, \"userId\": 592, \"precision\": 0.0, \"recall\": 0.0}, {\"count\": 29, \"cutoff\": 3, \"userId\": 592, \"precision\": 0.0, \"recall\": 0.0}, {\"count\": 29, \"cutoff\": 4, \"userId\": 592, \"precision\": 0.0, \"recall\": 0.0}, {\"count\": 29, \"cutoff\": 5, \"userId\": 592, \"precision\": 0.0, \"recall\": 0.0}, {\"count\": 29, \"cutoff\": 6, \"userId\": 592, \"precision\": 0.0, \"recall\": 0.0}, {\"count\": 29, \"cutoff\": 7, \"userId\": 592, \"precision\": 0.0, \"recall\": 0.0}, {\"count\": 29, \"cutoff\": 8, \"userId\": 592, \"precision\": 0.0, \"recall\": 0.0}, {\"count\": 29, \"cutoff\": 9, \"userId\": 592, \"precision\": 0.0, \"recall\": 0.0}, {\"count\": 29, \"cutoff\": 10, \"userId\": 592, \"precision\": 0.0, \"recall\": 0.0}, {\"count\": 29, \"cutoff\": 11, \"userId\": 592, \"precision\": 0.0, \"recall\": 0.0}, {\"count\": 29, \"cutoff\": 16, \"userId\": 592, \"precision\": 0.0, \"recall\": 0.0}, {\"count\": 29, \"cutoff\": 21, \"userId\": 592, \"precision\": 0.047619047619047616, \"recall\": 0.034482758620689655}, {\"count\": 29, \"cutoff\": 26, \"userId\": 592, \"precision\": 0.07692307692307693, \"recall\": 0.06896551724137931}, {\"count\": 29, \"cutoff\": 31, \"userId\": 592, \"precision\": 0.06451612903225806, \"recall\": 0.06896551724137931}, {\"count\": 29, \"cutoff\": 36, \"userId\": 592, \"precision\": 0.08333333333333333, \"recall\": 0.10344827586206896}, {\"count\": 29, \"cutoff\": 41, \"userId\": 592, \"precision\": 0.07317073170731707, \"recall\": 0.10344827586206896}, {\"count\": 29, \"cutoff\": 46, \"userId\": 592, \"precision\": 0.06521739130434782, \"recall\": 0.10344827586206896}, {\"count\": 12, \"cutoff\": 1, \"userId\": 594, \"precision\": 0.0, \"recall\": 0.0}, {\"count\": 12, \"cutoff\": 2, \"userId\": 594, \"precision\": 0.5, \"recall\": 0.08333333333333333}, {\"count\": 12, \"cutoff\": 3, \"userId\": 594, \"precision\": 0.3333333333333333, \"recall\": 0.08333333333333333}, {\"count\": 12, \"cutoff\": 4, \"userId\": 594, \"precision\": 0.25, \"recall\": 0.08333333333333333}, {\"count\": 12, \"cutoff\": 5, \"userId\": 594, \"precision\": 0.2, \"recall\": 0.08333333333333333}, {\"count\": 12, \"cutoff\": 6, \"userId\": 594, \"precision\": 0.16666666666666666, \"recall\": 0.08333333333333333}, {\"count\": 12, \"cutoff\": 7, \"userId\": 594, \"precision\": 0.14285714285714285, \"recall\": 0.08333333333333333}, {\"count\": 12, \"cutoff\": 8, \"userId\": 594, \"precision\": 0.125, \"recall\": 0.08333333333333333}, {\"count\": 12, \"cutoff\": 9, \"userId\": 594, \"precision\": 0.1111111111111111, \"recall\": 0.08333333333333333}, {\"count\": 12, \"cutoff\": 10, \"userId\": 594, \"precision\": 0.1, \"recall\": 0.08333333333333333}, {\"count\": 12, \"cutoff\": 11, \"userId\": 594, \"precision\": 0.09090909090909091, \"recall\": 0.08333333333333333}, {\"count\": 12, \"cutoff\": 16, \"userId\": 594, \"precision\": 0.0625, \"recall\": 0.08333333333333333}, {\"count\": 12, \"cutoff\": 21, \"userId\": 594, \"precision\": 0.09523809523809523, \"recall\": 0.16666666666666666}, {\"count\": 12, \"cutoff\": 26, \"userId\": 594, \"precision\": 0.07692307692307693, \"recall\": 0.16666666666666666}, {\"count\": 12, \"cutoff\": 31, \"userId\": 594, \"precision\": 0.06451612903225806, \"recall\": 0.16666666666666666}, {\"count\": 12, \"cutoff\": 36, \"userId\": 594, \"precision\": 0.05555555555555555, \"recall\": 0.16666666666666666}, {\"count\": 12, \"cutoff\": 41, \"userId\": 594, \"precision\": 0.04878048780487805, \"recall\": 0.16666666666666666}, {\"count\": 12, \"cutoff\": 46, \"userId\": 594, \"precision\": 0.043478260869565216, \"recall\": 0.16666666666666666}, {\"count\": 11, \"cutoff\": 1, \"userId\": 601, \"precision\": 0.0, \"recall\": 0.0}, {\"count\": 11, \"cutoff\": 2, \"userId\": 601, \"precision\": 0.0, \"recall\": 0.0}, {\"count\": 11, \"cutoff\": 3, \"userId\": 601, \"precision\": 0.0, \"recall\": 0.0}, {\"count\": 11, \"cutoff\": 4, \"userId\": 601, \"precision\": 0.0, \"recall\": 0.0}, {\"count\": 11, \"cutoff\": 5, \"userId\": 601, \"precision\": 0.0, \"recall\": 0.0}, {\"count\": 11, \"cutoff\": 6, \"userId\": 601, \"precision\": 0.0, \"recall\": 0.0}, {\"count\": 11, \"cutoff\": 7, \"userId\": 601, \"precision\": 0.0, \"recall\": 0.0}, {\"count\": 11, \"cutoff\": 8, \"userId\": 601, \"precision\": 0.0, \"recall\": 0.0}, {\"count\": 11, \"cutoff\": 9, \"userId\": 601, \"precision\": 0.0, \"recall\": 0.0}, {\"count\": 11, \"cutoff\": 10, \"userId\": 601, \"precision\": 0.0, \"recall\": 0.0}, {\"count\": 11, \"cutoff\": 11, \"userId\": 601, \"precision\": 0.0, \"recall\": 0.0}, {\"count\": 11, \"cutoff\": 16, \"userId\": 601, \"precision\": 0.0, \"recall\": 0.0}, {\"count\": 11, \"cutoff\": 21, \"userId\": 601, \"precision\": 0.0, \"recall\": 0.0}, {\"count\": 11, \"cutoff\": 26, \"userId\": 601, \"precision\": 0.0, \"recall\": 0.0}, {\"count\": 11, \"cutoff\": 31, \"userId\": 601, \"precision\": 0.0, \"recall\": 0.0}, {\"count\": 11, \"cutoff\": 36, \"userId\": 601, \"precision\": 0.0, \"recall\": 0.0}, {\"count\": 11, \"cutoff\": 41, \"userId\": 601, \"precision\": 0.0, \"recall\": 0.0}, {\"count\": 11, \"cutoff\": 46, \"userId\": 601, \"precision\": 0.0, \"recall\": 0.0}, {\"count\": 27, \"cutoff\": 1, \"userId\": 602, \"precision\": 0.0, \"recall\": 0.0}, {\"count\": 27, \"cutoff\": 2, \"userId\": 602, \"precision\": 0.5, \"recall\": 0.037037037037037035}, {\"count\": 27, \"cutoff\": 3, \"userId\": 602, \"precision\": 0.3333333333333333, \"recall\": 0.037037037037037035}, {\"count\": 27, \"cutoff\": 4, \"userId\": 602, \"precision\": 0.25, \"recall\": 0.037037037037037035}, {\"count\": 27, \"cutoff\": 5, \"userId\": 602, \"precision\": 0.2, \"recall\": 0.037037037037037035}, {\"count\": 27, \"cutoff\": 6, \"userId\": 602, \"precision\": 0.16666666666666666, \"recall\": 0.037037037037037035}, {\"count\": 27, \"cutoff\": 7, \"userId\": 602, \"precision\": 0.14285714285714285, \"recall\": 0.037037037037037035}, {\"count\": 27, \"cutoff\": 8, \"userId\": 602, \"precision\": 0.125, \"recall\": 0.037037037037037035}, {\"count\": 27, \"cutoff\": 9, \"userId\": 602, \"precision\": 0.1111111111111111, \"recall\": 0.037037037037037035}, {\"count\": 27, \"cutoff\": 10, \"userId\": 602, \"precision\": 0.1, \"recall\": 0.037037037037037035}, {\"count\": 27, \"cutoff\": 11, \"userId\": 602, \"precision\": 0.09090909090909091, \"recall\": 0.037037037037037035}, {\"count\": 27, \"cutoff\": 16, \"userId\": 602, \"precision\": 0.0625, \"recall\": 0.037037037037037035}, {\"count\": 27, \"cutoff\": 21, \"userId\": 602, \"precision\": 0.047619047619047616, \"recall\": 0.037037037037037035}, {\"count\": 27, \"cutoff\": 26, \"userId\": 602, \"precision\": 0.07692307692307693, \"recall\": 0.07407407407407407}, {\"count\": 27, \"cutoff\": 31, \"userId\": 602, \"precision\": 0.06451612903225806, \"recall\": 0.07407407407407407}, {\"count\": 27, \"cutoff\": 36, \"userId\": 602, \"precision\": 0.08333333333333333, \"recall\": 0.1111111111111111}, {\"count\": 27, \"cutoff\": 41, \"userId\": 602, \"precision\": 0.0975609756097561, \"recall\": 0.14814814814814814}, {\"count\": 27, \"cutoff\": 46, \"userId\": 602, \"precision\": 0.08695652173913043, \"recall\": 0.14814814814814814}, {\"count\": 10, \"cutoff\": 1, \"userId\": 611, \"precision\": 0.0, \"recall\": 0.0}, {\"count\": 10, \"cutoff\": 2, \"userId\": 611, \"precision\": 0.0, \"recall\": 0.0}, {\"count\": 10, \"cutoff\": 3, \"userId\": 611, \"precision\": 0.0, \"recall\": 0.0}, {\"count\": 10, \"cutoff\": 4, \"userId\": 611, \"precision\": 0.0, \"recall\": 0.0}, {\"count\": 10, \"cutoff\": 5, \"userId\": 611, \"precision\": 0.0, \"recall\": 0.0}, {\"count\": 10, \"cutoff\": 6, \"userId\": 611, \"precision\": 0.0, \"recall\": 0.0}, {\"count\": 10, \"cutoff\": 7, \"userId\": 611, \"precision\": 0.0, \"recall\": 0.0}, {\"count\": 10, \"cutoff\": 8, \"userId\": 611, \"precision\": 0.0, \"recall\": 0.0}, {\"count\": 10, \"cutoff\": 9, \"userId\": 611, \"precision\": 0.0, \"recall\": 0.0}, {\"count\": 10, \"cutoff\": 10, \"userId\": 611, \"precision\": 0.0, \"recall\": 0.0}, {\"count\": 10, \"cutoff\": 11, \"userId\": 611, \"precision\": 0.0, \"recall\": 0.0}, {\"count\": 10, \"cutoff\": 16, \"userId\": 611, \"precision\": 0.0625, \"recall\": 0.1}, {\"count\": 10, \"cutoff\": 21, \"userId\": 611, \"precision\": 0.047619047619047616, \"recall\": 0.1}, {\"count\": 10, \"cutoff\": 26, \"userId\": 611, \"precision\": 0.038461538461538464, \"recall\": 0.1}, {\"count\": 10, \"cutoff\": 31, \"userId\": 611, \"precision\": 0.03225806451612903, \"recall\": 0.1}, {\"count\": 10, \"cutoff\": 36, \"userId\": 611, \"precision\": 0.027777777777777776, \"recall\": 0.1}, {\"count\": 10, \"cutoff\": 41, \"userId\": 611, \"precision\": 0.024390243902439025, \"recall\": 0.1}, {\"count\": 10, \"cutoff\": 46, \"userId\": 611, \"precision\": 0.021739130434782608, \"recall\": 0.1}, {\"count\": 15, \"cutoff\": 1, \"userId\": 614, \"precision\": 0.0, \"recall\": 0.0}, {\"count\": 15, \"cutoff\": 2, \"userId\": 614, \"precision\": 0.0, \"recall\": 0.0}, {\"count\": 15, \"cutoff\": 3, \"userId\": 614, \"precision\": 0.3333333333333333, \"recall\": 0.06666666666666667}, {\"count\": 15, \"cutoff\": 4, \"userId\": 614, \"precision\": 0.25, \"recall\": 0.06666666666666667}, {\"count\": 15, \"cutoff\": 5, \"userId\": 614, \"precision\": 0.2, \"recall\": 0.06666666666666667}, {\"count\": 15, \"cutoff\": 6, \"userId\": 614, \"precision\": 0.16666666666666666, \"recall\": 0.06666666666666667}, {\"count\": 15, \"cutoff\": 7, \"userId\": 614, \"precision\": 0.14285714285714285, \"recall\": 0.06666666666666667}, {\"count\": 15, \"cutoff\": 8, \"userId\": 614, \"precision\": 0.125, \"recall\": 0.06666666666666667}, {\"count\": 15, \"cutoff\": 9, \"userId\": 614, \"precision\": 0.1111111111111111, \"recall\": 0.06666666666666667}, {\"count\": 15, \"cutoff\": 10, \"userId\": 614, \"precision\": 0.1, \"recall\": 0.06666666666666667}, {\"count\": 15, \"cutoff\": 11, \"userId\": 614, \"precision\": 0.09090909090909091, \"recall\": 0.06666666666666667}, {\"count\": 15, \"cutoff\": 16, \"userId\": 614, \"precision\": 0.0625, \"recall\": 0.06666666666666667}, {\"count\": 15, \"cutoff\": 21, \"userId\": 614, \"precision\": 0.047619047619047616, \"recall\": 0.06666666666666667}, {\"count\": 15, \"cutoff\": 26, \"userId\": 614, \"precision\": 0.038461538461538464, \"recall\": 0.06666666666666667}, {\"count\": 15, \"cutoff\": 31, \"userId\": 614, \"precision\": 0.03225806451612903, \"recall\": 0.06666666666666667}, {\"count\": 15, \"cutoff\": 36, \"userId\": 614, \"precision\": 0.027777777777777776, \"recall\": 0.06666666666666667}, {\"count\": 15, \"cutoff\": 41, \"userId\": 614, \"precision\": 0.024390243902439025, \"recall\": 0.06666666666666667}, {\"count\": 15, \"cutoff\": 46, \"userId\": 614, \"precision\": 0.021739130434782608, \"recall\": 0.06666666666666667}, {\"count\": 24, \"cutoff\": 1, \"userId\": 621, \"precision\": 0.0, \"recall\": 0.0}, {\"count\": 24, \"cutoff\": 2, \"userId\": 621, \"precision\": 0.0, \"recall\": 0.0}, {\"count\": 24, \"cutoff\": 3, \"userId\": 621, \"precision\": 0.0, \"recall\": 0.0}, {\"count\": 24, \"cutoff\": 4, \"userId\": 621, \"precision\": 0.0, \"recall\": 0.0}, {\"count\": 24, \"cutoff\": 5, \"userId\": 621, \"precision\": 0.0, \"recall\": 0.0}, {\"count\": 24, \"cutoff\": 6, \"userId\": 621, \"precision\": 0.0, \"recall\": 0.0}, {\"count\": 24, \"cutoff\": 7, \"userId\": 621, \"precision\": 0.0, \"recall\": 0.0}, {\"count\": 24, \"cutoff\": 8, \"userId\": 621, \"precision\": 0.0, \"recall\": 0.0}, {\"count\": 24, \"cutoff\": 9, \"userId\": 621, \"precision\": 0.0, \"recall\": 0.0}, {\"count\": 24, \"cutoff\": 10, \"userId\": 621, \"precision\": 0.0, \"recall\": 0.0}, {\"count\": 24, \"cutoff\": 11, \"userId\": 621, \"precision\": 0.0, \"recall\": 0.0}, {\"count\": 24, \"cutoff\": 16, \"userId\": 621, \"precision\": 0.0625, \"recall\": 0.041666666666666664}, {\"count\": 24, \"cutoff\": 21, \"userId\": 621, \"precision\": 0.09523809523809523, \"recall\": 0.08333333333333333}, {\"count\": 24, \"cutoff\": 26, \"userId\": 621, \"precision\": 0.07692307692307693, \"recall\": 0.08333333333333333}, {\"count\": 24, \"cutoff\": 31, \"userId\": 621, \"precision\": 0.06451612903225806, \"recall\": 0.08333333333333333}, {\"count\": 24, \"cutoff\": 36, \"userId\": 621, \"precision\": 0.05555555555555555, \"recall\": 0.08333333333333333}, {\"count\": 24, \"cutoff\": 41, \"userId\": 621, \"precision\": 0.04878048780487805, \"recall\": 0.08333333333333333}, {\"count\": 24, \"cutoff\": 46, \"userId\": 621, \"precision\": 0.043478260869565216, \"recall\": 0.08333333333333333}, {\"count\": 6, \"cutoff\": 1, \"userId\": 622, \"precision\": 1.0, \"recall\": 0.16666666666666666}, {\"count\": 6, \"cutoff\": 2, \"userId\": 622, \"precision\": 0.5, \"recall\": 0.16666666666666666}, {\"count\": 6, \"cutoff\": 3, \"userId\": 622, \"precision\": 0.3333333333333333, \"recall\": 0.16666666666666666}, {\"count\": 6, \"cutoff\": 4, \"userId\": 622, \"precision\": 0.25, \"recall\": 0.16666666666666666}, {\"count\": 6, \"cutoff\": 5, \"userId\": 622, \"precision\": 0.2, \"recall\": 0.16666666666666666}, {\"count\": 6, \"cutoff\": 6, \"userId\": 622, \"precision\": 0.16666666666666666, \"recall\": 0.16666666666666666}, {\"count\": 6, \"cutoff\": 7, \"userId\": 622, \"precision\": 0.14285714285714285, \"recall\": 0.16666666666666666}, {\"count\": 6, \"cutoff\": 8, \"userId\": 622, \"precision\": 0.125, \"recall\": 0.16666666666666666}, {\"count\": 6, \"cutoff\": 9, \"userId\": 622, \"precision\": 0.1111111111111111, \"recall\": 0.16666666666666666}, {\"count\": 6, \"cutoff\": 10, \"userId\": 622, \"precision\": 0.2, \"recall\": 0.3333333333333333}, {\"count\": 6, \"cutoff\": 11, \"userId\": 622, \"precision\": 0.2727272727272727, \"recall\": 0.5}, {\"count\": 6, \"cutoff\": 16, \"userId\": 622, \"precision\": 0.1875, \"recall\": 0.5}, {\"count\": 6, \"cutoff\": 21, \"userId\": 622, \"precision\": 0.14285714285714285, \"recall\": 0.5}, {\"count\": 6, \"cutoff\": 26, \"userId\": 622, \"precision\": 0.11538461538461539, \"recall\": 0.5}, {\"count\": 6, \"cutoff\": 31, \"userId\": 622, \"precision\": 0.0967741935483871, \"recall\": 0.5}, {\"count\": 6, \"cutoff\": 36, \"userId\": 622, \"precision\": 0.08333333333333333, \"recall\": 0.5}, {\"count\": 6, \"cutoff\": 41, \"userId\": 622, \"precision\": 0.07317073170731707, \"recall\": 0.5}, {\"count\": 6, \"cutoff\": 46, \"userId\": 622, \"precision\": 0.06521739130434782, \"recall\": 0.5}, {\"count\": 357, \"cutoff\": 1, \"userId\": 624, \"precision\": 0.0, \"recall\": 0.0}, {\"count\": 357, \"cutoff\": 2, \"userId\": 624, \"precision\": 0.0, \"recall\": 0.0}, {\"count\": 357, \"cutoff\": 3, \"userId\": 624, \"precision\": 0.3333333333333333, \"recall\": 0.0028011204481792717}, {\"count\": 357, \"cutoff\": 4, \"userId\": 624, \"precision\": 0.25, \"recall\": 0.0028011204481792717}, {\"count\": 357, \"cutoff\": 5, \"userId\": 624, \"precision\": 0.4, \"recall\": 0.0056022408963585435}, {\"count\": 357, \"cutoff\": 6, \"userId\": 624, \"precision\": 0.5, \"recall\": 0.008403361344537815}, {\"count\": 357, \"cutoff\": 7, \"userId\": 624, \"precision\": 0.5714285714285714, \"recall\": 0.011204481792717087}, {\"count\": 357, \"cutoff\": 8, \"userId\": 624, \"precision\": 0.625, \"recall\": 0.014005602240896359}, {\"count\": 357, \"cutoff\": 9, \"userId\": 624, \"precision\": 0.6666666666666666, \"recall\": 0.01680672268907563}, {\"count\": 357, \"cutoff\": 10, \"userId\": 624, \"precision\": 0.6, \"recall\": 0.01680672268907563}, {\"count\": 357, \"cutoff\": 11, \"userId\": 624, \"precision\": 0.5454545454545454, \"recall\": 0.01680672268907563}, {\"count\": 357, \"cutoff\": 16, \"userId\": 624, \"precision\": 0.5, \"recall\": 0.022408963585434174}, {\"count\": 357, \"cutoff\": 21, \"userId\": 624, \"precision\": 0.47619047619047616, \"recall\": 0.028011204481792718}, {\"count\": 357, \"cutoff\": 26, \"userId\": 624, \"precision\": 0.4230769230769231, \"recall\": 0.03081232492997199}, {\"count\": 357, \"cutoff\": 31, \"userId\": 624, \"precision\": 0.3548387096774194, \"recall\": 0.03081232492997199}, {\"count\": 357, \"cutoff\": 36, \"userId\": 624, \"precision\": 0.3055555555555556, \"recall\": 0.03081232492997199}, {\"count\": 357, \"cutoff\": 41, \"userId\": 624, \"precision\": 0.2682926829268293, \"recall\": 0.03081232492997199}, {\"count\": 357, \"cutoff\": 46, \"userId\": 624, \"precision\": 0.2608695652173913, \"recall\": 0.03361344537815126}, {\"count\": 7, \"cutoff\": 1, \"userId\": 629, \"precision\": 0.0, \"recall\": 0.0}, {\"count\": 7, \"cutoff\": 2, \"userId\": 629, \"precision\": 0.0, \"recall\": 0.0}, {\"count\": 7, \"cutoff\": 3, \"userId\": 629, \"precision\": 0.0, \"recall\": 0.0}, {\"count\": 7, \"cutoff\": 4, \"userId\": 629, \"precision\": 0.25, \"recall\": 0.14285714285714285}, {\"count\": 7, \"cutoff\": 5, \"userId\": 629, \"precision\": 0.2, \"recall\": 0.14285714285714285}, {\"count\": 7, \"cutoff\": 6, \"userId\": 629, \"precision\": 0.16666666666666666, \"recall\": 0.14285714285714285}, {\"count\": 7, \"cutoff\": 7, \"userId\": 629, \"precision\": 0.14285714285714285, \"recall\": 0.14285714285714285}, {\"count\": 7, \"cutoff\": 8, \"userId\": 629, \"precision\": 0.125, \"recall\": 0.14285714285714285}, {\"count\": 7, \"cutoff\": 9, \"userId\": 629, \"precision\": 0.1111111111111111, \"recall\": 0.14285714285714285}, {\"count\": 7, \"cutoff\": 10, \"userId\": 629, \"precision\": 0.1, \"recall\": 0.14285714285714285}, {\"count\": 7, \"cutoff\": 11, \"userId\": 629, \"precision\": 0.09090909090909091, \"recall\": 0.14285714285714285}, {\"count\": 7, \"cutoff\": 16, \"userId\": 629, \"precision\": 0.0625, \"recall\": 0.14285714285714285}, {\"count\": 7, \"cutoff\": 21, \"userId\": 629, \"precision\": 0.047619047619047616, \"recall\": 0.14285714285714285}, {\"count\": 7, \"cutoff\": 26, \"userId\": 629, \"precision\": 0.038461538461538464, \"recall\": 0.14285714285714285}, {\"count\": 7, \"cutoff\": 31, \"userId\": 629, \"precision\": 0.03225806451612903, \"recall\": 0.14285714285714285}, {\"count\": 7, \"cutoff\": 36, \"userId\": 629, \"precision\": 0.027777777777777776, \"recall\": 0.14285714285714285}, {\"count\": 7, \"cutoff\": 41, \"userId\": 629, \"precision\": 0.024390243902439025, \"recall\": 0.14285714285714285}, {\"count\": 7, \"cutoff\": 46, \"userId\": 629, \"precision\": 0.021739130434782608, \"recall\": 0.14285714285714285}, {\"count\": 7, \"cutoff\": 1, \"userId\": 630, \"precision\": 0.0, \"recall\": 0.0}, {\"count\": 7, \"cutoff\": 2, \"userId\": 630, \"precision\": 0.5, \"recall\": 0.14285714285714285}, {\"count\": 7, \"cutoff\": 3, \"userId\": 630, \"precision\": 0.3333333333333333, \"recall\": 0.14285714285714285}, {\"count\": 7, \"cutoff\": 4, \"userId\": 630, \"precision\": 0.25, \"recall\": 0.14285714285714285}, {\"count\": 7, \"cutoff\": 5, \"userId\": 630, \"precision\": 0.2, \"recall\": 0.14285714285714285}, {\"count\": 7, \"cutoff\": 6, \"userId\": 630, \"precision\": 0.16666666666666666, \"recall\": 0.14285714285714285}, {\"count\": 7, \"cutoff\": 7, \"userId\": 630, \"precision\": 0.14285714285714285, \"recall\": 0.14285714285714285}, {\"count\": 7, \"cutoff\": 8, \"userId\": 630, \"precision\": 0.125, \"recall\": 0.14285714285714285}, {\"count\": 7, \"cutoff\": 9, \"userId\": 630, \"precision\": 0.1111111111111111, \"recall\": 0.14285714285714285}, {\"count\": 7, \"cutoff\": 10, \"userId\": 630, \"precision\": 0.1, \"recall\": 0.14285714285714285}, {\"count\": 7, \"cutoff\": 11, \"userId\": 630, \"precision\": 0.18181818181818182, \"recall\": 0.2857142857142857}, {\"count\": 7, \"cutoff\": 16, \"userId\": 630, \"precision\": 0.125, \"recall\": 0.2857142857142857}, {\"count\": 7, \"cutoff\": 21, \"userId\": 630, \"precision\": 0.09523809523809523, \"recall\": 0.2857142857142857}, {\"count\": 7, \"cutoff\": 26, \"userId\": 630, \"precision\": 0.07692307692307693, \"recall\": 0.2857142857142857}, {\"count\": 7, \"cutoff\": 31, \"userId\": 630, \"precision\": 0.06451612903225806, \"recall\": 0.2857142857142857}, {\"count\": 7, \"cutoff\": 36, \"userId\": 630, \"precision\": 0.05555555555555555, \"recall\": 0.2857142857142857}, {\"count\": 7, \"cutoff\": 41, \"userId\": 630, \"precision\": 0.04878048780487805, \"recall\": 0.2857142857142857}, {\"count\": 7, \"cutoff\": 46, \"userId\": 630, \"precision\": 0.06521739130434782, \"recall\": 0.42857142857142855}, {\"count\": 8, \"cutoff\": 1, \"userId\": 640, \"precision\": 0.0, \"recall\": 0.0}, {\"count\": 8, \"cutoff\": 2, \"userId\": 640, \"precision\": 0.0, \"recall\": 0.0}, {\"count\": 8, \"cutoff\": 3, \"userId\": 640, \"precision\": 0.0, \"recall\": 0.0}, {\"count\": 8, \"cutoff\": 4, \"userId\": 640, \"precision\": 0.0, \"recall\": 0.0}, {\"count\": 8, \"cutoff\": 5, \"userId\": 640, \"precision\": 0.0, \"recall\": 0.0}, {\"count\": 8, \"cutoff\": 6, \"userId\": 640, \"precision\": 0.0, \"recall\": 0.0}, {\"count\": 8, \"cutoff\": 7, \"userId\": 640, \"precision\": 0.0, \"recall\": 0.0}, {\"count\": 8, \"cutoff\": 8, \"userId\": 640, \"precision\": 0.0, \"recall\": 0.0}, {\"count\": 8, \"cutoff\": 9, \"userId\": 640, \"precision\": 0.0, \"recall\": 0.0}, {\"count\": 8, \"cutoff\": 10, \"userId\": 640, \"precision\": 0.0, \"recall\": 0.0}, {\"count\": 8, \"cutoff\": 11, \"userId\": 640, \"precision\": 0.0, \"recall\": 0.0}, {\"count\": 8, \"cutoff\": 16, \"userId\": 640, \"precision\": 0.0, \"recall\": 0.0}, {\"count\": 8, \"cutoff\": 21, \"userId\": 640, \"precision\": 0.0, \"recall\": 0.0}, {\"count\": 8, \"cutoff\": 26, \"userId\": 640, \"precision\": 0.0, \"recall\": 0.0}, {\"count\": 8, \"cutoff\": 31, \"userId\": 640, \"precision\": 0.0, \"recall\": 0.0}, {\"count\": 8, \"cutoff\": 36, \"userId\": 640, \"precision\": 0.0, \"recall\": 0.0}, {\"count\": 8, \"cutoff\": 41, \"userId\": 640, \"precision\": 0.0, \"recall\": 0.0}, {\"count\": 8, \"cutoff\": 46, \"userId\": 640, \"precision\": 0.0, \"recall\": 0.0}, {\"count\": 6, \"cutoff\": 1, \"userId\": 644, \"precision\": 0.0, \"recall\": 0.0}, {\"count\": 6, \"cutoff\": 2, \"userId\": 644, \"precision\": 0.0, \"recall\": 0.0}, {\"count\": 6, \"cutoff\": 3, \"userId\": 644, \"precision\": 0.0, \"recall\": 0.0}, {\"count\": 6, \"cutoff\": 4, \"userId\": 644, \"precision\": 0.0, \"recall\": 0.0}, {\"count\": 6, \"cutoff\": 5, \"userId\": 644, \"precision\": 0.0, \"recall\": 0.0}, {\"count\": 6, \"cutoff\": 6, \"userId\": 644, \"precision\": 0.0, \"recall\": 0.0}, {\"count\": 6, \"cutoff\": 7, \"userId\": 644, \"precision\": 0.0, \"recall\": 0.0}, {\"count\": 6, \"cutoff\": 8, \"userId\": 644, \"precision\": 0.0, \"recall\": 0.0}, {\"count\": 6, \"cutoff\": 9, \"userId\": 644, \"precision\": 0.0, \"recall\": 0.0}, {\"count\": 6, \"cutoff\": 10, \"userId\": 644, \"precision\": 0.0, \"recall\": 0.0}, {\"count\": 6, \"cutoff\": 11, \"userId\": 644, \"precision\": 0.0, \"recall\": 0.0}, {\"count\": 6, \"cutoff\": 16, \"userId\": 644, \"precision\": 0.0, \"recall\": 0.0}, {\"count\": 6, \"cutoff\": 21, \"userId\": 644, \"precision\": 0.0, \"recall\": 0.0}, {\"count\": 6, \"cutoff\": 26, \"userId\": 644, \"precision\": 0.0, \"recall\": 0.0}, {\"count\": 6, \"cutoff\": 31, \"userId\": 644, \"precision\": 0.0, \"recall\": 0.0}, {\"count\": 6, \"cutoff\": 36, \"userId\": 644, \"precision\": 0.0, \"recall\": 0.0}, {\"count\": 6, \"cutoff\": 41, \"userId\": 644, \"precision\": 0.0, \"recall\": 0.0}, {\"count\": 6, \"cutoff\": 46, \"userId\": 644, \"precision\": 0.0, \"recall\": 0.0}, {\"count\": 7, \"cutoff\": 1, \"userId\": 645, \"precision\": 0.0, \"recall\": 0.0}, {\"count\": 7, \"cutoff\": 2, \"userId\": 645, \"precision\": 0.0, \"recall\": 0.0}, {\"count\": 7, \"cutoff\": 3, \"userId\": 645, \"precision\": 0.0, \"recall\": 0.0}, {\"count\": 7, \"cutoff\": 4, \"userId\": 645, \"precision\": 0.0, \"recall\": 0.0}, {\"count\": 7, \"cutoff\": 5, \"userId\": 645, \"precision\": 0.0, \"recall\": 0.0}, {\"count\": 7, \"cutoff\": 6, \"userId\": 645, \"precision\": 0.0, \"recall\": 0.0}, {\"count\": 7, \"cutoff\": 7, \"userId\": 645, \"precision\": 0.0, \"recall\": 0.0}, {\"count\": 7, \"cutoff\": 8, \"userId\": 645, \"precision\": 0.0, \"recall\": 0.0}, {\"count\": 7, \"cutoff\": 9, \"userId\": 645, \"precision\": 0.0, \"recall\": 0.0}, {\"count\": 7, \"cutoff\": 10, \"userId\": 645, \"precision\": 0.0, \"recall\": 0.0}, {\"count\": 7, \"cutoff\": 11, \"userId\": 645, \"precision\": 0.0, \"recall\": 0.0}, {\"count\": 7, \"cutoff\": 16, \"userId\": 645, \"precision\": 0.0, \"recall\": 0.0}, {\"count\": 7, \"cutoff\": 21, \"userId\": 645, \"precision\": 0.0, \"recall\": 0.0}, {\"count\": 7, \"cutoff\": 26, \"userId\": 645, \"precision\": 0.0, \"recall\": 0.0}, {\"count\": 7, \"cutoff\": 31, \"userId\": 645, \"precision\": 0.0, \"recall\": 0.0}, {\"count\": 7, \"cutoff\": 36, \"userId\": 645, \"precision\": 0.0, \"recall\": 0.0}, {\"count\": 7, \"cutoff\": 41, \"userId\": 645, \"precision\": 0.0, \"recall\": 0.0}, {\"count\": 7, \"cutoff\": 46, \"userId\": 645, \"precision\": 0.0, \"recall\": 0.0}, {\"count\": 31, \"cutoff\": 1, \"userId\": 646, \"precision\": 0.0, \"recall\": 0.0}, {\"count\": 31, \"cutoff\": 2, \"userId\": 646, \"precision\": 0.0, \"recall\": 0.0}, {\"count\": 31, \"cutoff\": 3, \"userId\": 646, \"precision\": 0.0, \"recall\": 0.0}, {\"count\": 31, \"cutoff\": 4, \"userId\": 646, \"precision\": 0.0, \"recall\": 0.0}, {\"count\": 31, \"cutoff\": 5, \"userId\": 646, \"precision\": 0.0, \"recall\": 0.0}, {\"count\": 31, \"cutoff\": 6, \"userId\": 646, \"precision\": 0.0, \"recall\": 0.0}, {\"count\": 31, \"cutoff\": 7, \"userId\": 646, \"precision\": 0.14285714285714285, \"recall\": 0.03225806451612903}, {\"count\": 31, \"cutoff\": 8, \"userId\": 646, \"precision\": 0.125, \"recall\": 0.03225806451612903}, {\"count\": 31, \"cutoff\": 9, \"userId\": 646, \"precision\": 0.1111111111111111, \"recall\": 0.03225806451612903}, {\"count\": 31, \"cutoff\": 10, \"userId\": 646, \"precision\": 0.1, \"recall\": 0.03225806451612903}, {\"count\": 31, \"cutoff\": 11, \"userId\": 646, \"precision\": 0.09090909090909091, \"recall\": 0.03225806451612903}, {\"count\": 31, \"cutoff\": 16, \"userId\": 646, \"precision\": 0.125, \"recall\": 0.06451612903225806}, {\"count\": 31, \"cutoff\": 21, \"userId\": 646, \"precision\": 0.09523809523809523, \"recall\": 0.06451612903225806}, {\"count\": 31, \"cutoff\": 26, \"userId\": 646, \"precision\": 0.07692307692307693, \"recall\": 0.06451612903225806}, {\"count\": 31, \"cutoff\": 31, \"userId\": 646, \"precision\": 0.06451612903225806, \"recall\": 0.06451612903225806}, {\"count\": 31, \"cutoff\": 36, \"userId\": 646, \"precision\": 0.05555555555555555, \"recall\": 0.06451612903225806}, {\"count\": 31, \"cutoff\": 41, \"userId\": 646, \"precision\": 0.04878048780487805, \"recall\": 0.06451612903225806}, {\"count\": 31, \"cutoff\": 46, \"userId\": 646, \"precision\": 0.043478260869565216, \"recall\": 0.06451612903225806}, {\"count\": 23, \"cutoff\": 1, \"userId\": 656, \"precision\": 0.0, \"recall\": 0.0}, {\"count\": 23, \"cutoff\": 2, \"userId\": 656, \"precision\": 0.0, \"recall\": 0.0}, {\"count\": 23, \"cutoff\": 3, \"userId\": 656, \"precision\": 0.0, \"recall\": 0.0}, {\"count\": 23, \"cutoff\": 4, \"userId\": 656, \"precision\": 0.0, \"recall\": 0.0}, {\"count\": 23, \"cutoff\": 5, \"userId\": 656, \"precision\": 0.0, \"recall\": 0.0}, {\"count\": 23, \"cutoff\": 6, \"userId\": 656, \"precision\": 0.0, \"recall\": 0.0}, {\"count\": 23, \"cutoff\": 7, \"userId\": 656, \"precision\": 0.0, \"recall\": 0.0}, {\"count\": 23, \"cutoff\": 8, \"userId\": 656, \"precision\": 0.0, \"recall\": 0.0}, {\"count\": 23, \"cutoff\": 9, \"userId\": 656, \"precision\": 0.0, \"recall\": 0.0}, {\"count\": 23, \"cutoff\": 10, \"userId\": 656, \"precision\": 0.0, \"recall\": 0.0}, {\"count\": 23, \"cutoff\": 11, \"userId\": 656, \"precision\": 0.0, \"recall\": 0.0}, {\"count\": 23, \"cutoff\": 16, \"userId\": 656, \"precision\": 0.0, \"recall\": 0.0}, {\"count\": 23, \"cutoff\": 21, \"userId\": 656, \"precision\": 0.0, \"recall\": 0.0}, {\"count\": 23, \"cutoff\": 26, \"userId\": 656, \"precision\": 0.0, \"recall\": 0.0}, {\"count\": 23, \"cutoff\": 31, \"userId\": 656, \"precision\": 0.0, \"recall\": 0.0}, {\"count\": 23, \"cutoff\": 36, \"userId\": 656, \"precision\": 0.0, \"recall\": 0.0}, {\"count\": 23, \"cutoff\": 41, \"userId\": 656, \"precision\": 0.0, \"recall\": 0.0}, {\"count\": 23, \"cutoff\": 46, \"userId\": 656, \"precision\": 0.0, \"recall\": 0.0}, {\"count\": 20, \"cutoff\": 1, \"userId\": 660, \"precision\": 0.0, \"recall\": 0.0}, {\"count\": 20, \"cutoff\": 2, \"userId\": 660, \"precision\": 0.0, \"recall\": 0.0}, {\"count\": 20, \"cutoff\": 3, \"userId\": 660, \"precision\": 0.0, \"recall\": 0.0}, {\"count\": 20, \"cutoff\": 4, \"userId\": 660, \"precision\": 0.0, \"recall\": 0.0}, {\"count\": 20, \"cutoff\": 5, \"userId\": 660, \"precision\": 0.0, \"recall\": 0.0}, {\"count\": 20, \"cutoff\": 6, \"userId\": 660, \"precision\": 0.0, \"recall\": 0.0}, {\"count\": 20, \"cutoff\": 7, \"userId\": 660, \"precision\": 0.0, \"recall\": 0.0}, {\"count\": 20, \"cutoff\": 8, \"userId\": 660, \"precision\": 0.0, \"recall\": 0.0}, {\"count\": 20, \"cutoff\": 9, \"userId\": 660, \"precision\": 0.0, \"recall\": 0.0}, {\"count\": 20, \"cutoff\": 10, \"userId\": 660, \"precision\": 0.0, \"recall\": 0.0}, {\"count\": 20, \"cutoff\": 11, \"userId\": 660, \"precision\": 0.0, \"recall\": 0.0}, {\"count\": 20, \"cutoff\": 16, \"userId\": 660, \"precision\": 0.0625, \"recall\": 0.05}, {\"count\": 20, \"cutoff\": 21, \"userId\": 660, \"precision\": 0.047619047619047616, \"recall\": 0.05}, {\"count\": 20, \"cutoff\": 26, \"userId\": 660, \"precision\": 0.07692307692307693, \"recall\": 0.1}, {\"count\": 20, \"cutoff\": 31, \"userId\": 660, \"precision\": 0.06451612903225806, \"recall\": 0.1}, {\"count\": 20, \"cutoff\": 36, \"userId\": 660, \"precision\": 0.05555555555555555, \"recall\": 0.1}, {\"count\": 20, \"cutoff\": 41, \"userId\": 660, \"precision\": 0.04878048780487805, \"recall\": 0.1}, {\"count\": 20, \"cutoff\": 46, \"userId\": 660, \"precision\": 0.043478260869565216, \"recall\": 0.1}, {\"count\": 103, \"cutoff\": 1, \"userId\": 664, \"precision\": 1.0, \"recall\": 0.009708737864077669}, {\"count\": 103, \"cutoff\": 2, \"userId\": 664, \"precision\": 0.5, \"recall\": 0.009708737864077669}, {\"count\": 103, \"cutoff\": 3, \"userId\": 664, \"precision\": 0.6666666666666666, \"recall\": 0.019417475728155338}, {\"count\": 103, \"cutoff\": 4, \"userId\": 664, \"precision\": 0.5, \"recall\": 0.019417475728155338}, {\"count\": 103, \"cutoff\": 5, \"userId\": 664, \"precision\": 0.6, \"recall\": 0.02912621359223301}, {\"count\": 103, \"cutoff\": 6, \"userId\": 664, \"precision\": 0.6666666666666666, \"recall\": 0.038834951456310676}, {\"count\": 103, \"cutoff\": 7, \"userId\": 664, \"precision\": 0.7142857142857143, \"recall\": 0.04854368932038835}, {\"count\": 103, \"cutoff\": 8, \"userId\": 664, \"precision\": 0.625, \"recall\": 0.04854368932038835}, {\"count\": 103, \"cutoff\": 9, \"userId\": 664, \"precision\": 0.5555555555555556, \"recall\": 0.04854368932038835}, {\"count\": 103, \"cutoff\": 10, \"userId\": 664, \"precision\": 0.5, \"recall\": 0.04854368932038835}, {\"count\": 103, \"cutoff\": 11, \"userId\": 664, \"precision\": 0.5454545454545454, \"recall\": 0.05825242718446602}, {\"count\": 103, \"cutoff\": 16, \"userId\": 664, \"precision\": 0.5, \"recall\": 0.07766990291262135}, {\"count\": 103, \"cutoff\": 21, \"userId\": 664, \"precision\": 0.47619047619047616, \"recall\": 0.0970873786407767}, {\"count\": 103, \"cutoff\": 26, \"userId\": 664, \"precision\": 0.38461538461538464, \"recall\": 0.0970873786407767}, {\"count\": 103, \"cutoff\": 31, \"userId\": 664, \"precision\": 0.3225806451612903, \"recall\": 0.0970873786407767}, {\"count\": 103, \"cutoff\": 36, \"userId\": 664, \"precision\": 0.3055555555555556, \"recall\": 0.10679611650485436}, {\"count\": 103, \"cutoff\": 41, \"userId\": 664, \"precision\": 0.2926829268292683, \"recall\": 0.11650485436893204}, {\"count\": 103, \"cutoff\": 46, \"userId\": 664, \"precision\": 0.2608695652173913, \"recall\": 0.11650485436893204}, {\"count\": 4, \"cutoff\": 1, \"userId\": 668, \"precision\": 1.0, \"recall\": 0.25}, {\"count\": 4, \"cutoff\": 2, \"userId\": 668, \"precision\": 0.5, \"recall\": 0.25}, {\"count\": 4, \"cutoff\": 3, \"userId\": 668, \"precision\": 0.3333333333333333, \"recall\": 0.25}, {\"count\": 4, \"cutoff\": 4, \"userId\": 668, \"precision\": 0.25, \"recall\": 0.25}, {\"count\": 4, \"cutoff\": 5, \"userId\": 668, \"precision\": 0.2, \"recall\": 0.25}, {\"count\": 4, \"cutoff\": 6, \"userId\": 668, \"precision\": 0.16666666666666666, \"recall\": 0.25}, {\"count\": 4, \"cutoff\": 7, \"userId\": 668, \"precision\": 0.14285714285714285, \"recall\": 0.25}, {\"count\": 4, \"cutoff\": 8, \"userId\": 668, \"precision\": 0.125, \"recall\": 0.25}, {\"count\": 4, \"cutoff\": 9, \"userId\": 668, \"precision\": 0.1111111111111111, \"recall\": 0.25}, {\"count\": 4, \"cutoff\": 10, \"userId\": 668, \"precision\": 0.1, \"recall\": 0.25}, {\"count\": 4, \"cutoff\": 11, \"userId\": 668, \"precision\": 0.09090909090909091, \"recall\": 0.25}, {\"count\": 4, \"cutoff\": 16, \"userId\": 668, \"precision\": 0.0625, \"recall\": 0.25}, {\"count\": 4, \"cutoff\": 21, \"userId\": 668, \"precision\": 0.047619047619047616, \"recall\": 0.25}, {\"count\": 4, \"cutoff\": 26, \"userId\": 668, \"precision\": 0.038461538461538464, \"recall\": 0.25}, {\"count\": 4, \"cutoff\": 31, \"userId\": 668, \"precision\": 0.03225806451612903, \"recall\": 0.25}, {\"count\": 4, \"cutoff\": 36, \"userId\": 668, \"precision\": 0.027777777777777776, \"recall\": 0.25}, {\"count\": 4, \"cutoff\": 41, \"userId\": 668, \"precision\": 0.024390243902439025, \"recall\": 0.25}, {\"count\": 4, \"cutoff\": 46, \"userId\": 668, \"precision\": 0.021739130434782608, \"recall\": 0.25}]}]], \"type\": \"Model\"}, \"ipython\": true, \"view_params\": {\"model_type\": \"recommender\", \"view\": \"Comparison\"}, \"model_type\": \"recommender\", \"attributes\": {\"section_titles\": [\"Schema\", \"Statistics\", \"Training summary\", \"Model Parameters\", \"Regularization Settings\", \"Optimization Settings\"], \"sections\": [[[\"User ID\", \"userId\"], [\"Item ID\", \"movieId\"], [\"Target\", \"rating\"], [\"Additional observation features\", 0], [\"User side features\", []], [\"Item side features\", []]], [[\"Number of observations\", 95889], [\"Number of users\", 671], [\"Number of items\", 8928]], [[\"Training time\", 5.438]], [[\"Model class\", \"RankingFactorizationRecommender\"], [\"num_factors\", 16], [\"binary_target\", 0], [\"side_data_factorization\", 1], [\"solver\", \"auto\"], [\"nmf\", 0], [\"max_iterations\", 25]], [[\"regularization\", 0.001], [\"regularization_type\", \"normal\"], [\"linear_regularization\", 0.001], [\"ranking_regularization\", 0.25], [\"unobserved_rating_value\", -1.7976931348623157e+308], [\"num_sampled_negative_examples\", 8], [\"ials_confidence_scaling_type\", \"auto\"], [\"ials_confidence_scaling_factor\", 1]], [[\"init_random_sigma\", 0.01], [\"sgd_convergence_interval\", 4], [\"sgd_convergence_threshold\", 0.0], [\"sgd_max_trial_iterations\", 5], [\"sgd_sampling_block_size\", 131072], [\"sgd_step_adjustment_interval\", 4], [\"sgd_step_size\", 0.0], [\"sgd_trial_sample_minimum_size\", 10000], [\"sgd_trial_sample_proportion\", 0.125], [\"step_size_decrease_rate\", 0.75], [\"additional_iterations_if_unhealthy\", 5], [\"adagrad_momentum_weighting\", 0.9], [\"num_tempering_iterations\", 4], [\"tempering_regularization_start_value\", 0.0], [\"track_exact_loss\", 0]]]}, \"evaluations\": [[\"dataset\", {\"precision_recall_overall\": [{\"cutoff\": 1, \"precision\": 0.20000000000000007, \"recall\": 0.011971017876412358}, {\"cutoff\": 2, \"precision\": 0.1899999999999999, \"recall\": 0.019434158049404036}, {\"cutoff\": 3, \"precision\": 0.1844444444444445, \"recall\": 0.03218646121652114}, {\"cutoff\": 4, \"precision\": 0.16500000000000012, \"recall\": 0.03780452959742358}, {\"cutoff\": 5, \"precision\": 0.14800000000000002, \"recall\": 0.04182731790208701}, {\"cutoff\": 6, \"precision\": 0.15111111111111117, \"recall\": 0.04986033873534742}, {\"cutoff\": 7, \"precision\": 0.15142857142857138, \"recall\": 0.05562853714325875}, {\"cutoff\": 8, \"precision\": 0.14500000000000002, \"recall\": 0.0602584157478502}, {\"cutoff\": 9, \"precision\": 0.14296296296296299, \"recall\": 0.06574165197900753}, {\"cutoff\": 10, \"precision\": 0.13666666666666674, \"recall\": 0.06989177655704712}, {\"cutoff\": 11, \"precision\": 0.13454545454545444, \"recall\": 0.07635954272403102}, {\"cutoff\": 16, \"precision\": 0.11708333333333334, \"recall\": 0.09299711177758892}, {\"cutoff\": 21, \"precision\": 0.11079365079365082, \"recall\": 0.11130044489672687}, {\"cutoff\": 26, \"precision\": 0.10410256410256412, \"recall\": 0.12468759717769128}, {\"cutoff\": 31, \"precision\": 0.09655913978494625, \"recall\": 0.14176682263925391}, {\"cutoff\": 36, \"precision\": 0.09074074074074073, \"recall\": 0.1527242652608728}, {\"cutoff\": 41, \"precision\": 0.08601626016260162, \"recall\": 0.1609632817589641}, {\"cutoff\": 46, \"precision\": 0.08173913043478262, \"recall\": 0.16938629960977136}], \"precision_recall_by_user\": [{\"count\": 4, \"cutoff\": 1, \"userId\": 1, \"precision\": 0.0, \"recall\": 0.0}, {\"count\": 4, \"cutoff\": 2, \"userId\": 1, \"precision\": 0.0, \"recall\": 0.0}, {\"count\": 4, \"cutoff\": 3, \"userId\": 1, \"precision\": 0.0, \"recall\": 0.0}, {\"count\": 4, \"cutoff\": 4, \"userId\": 1, \"precision\": 0.0, \"recall\": 0.0}, {\"count\": 4, \"cutoff\": 5, \"userId\": 1, \"precision\": 0.0, \"recall\": 0.0}, {\"count\": 4, \"cutoff\": 6, \"userId\": 1, \"precision\": 0.0, \"recall\": 0.0}, {\"count\": 4, \"cutoff\": 7, \"userId\": 1, \"precision\": 0.0, \"recall\": 0.0}, {\"count\": 4, \"cutoff\": 8, \"userId\": 1, \"precision\": 0.0, \"recall\": 0.0}, {\"count\": 4, \"cutoff\": 9, \"userId\": 1, \"precision\": 0.0, \"recall\": 0.0}, {\"count\": 4, \"cutoff\": 10, \"userId\": 1, \"precision\": 0.0, \"recall\": 0.0}, {\"count\": 4, \"cutoff\": 11, \"userId\": 1, \"precision\": 0.0, \"recall\": 0.0}, {\"count\": 4, \"cutoff\": 16, \"userId\": 1, \"precision\": 0.0, \"recall\": 0.0}, {\"count\": 4, \"cutoff\": 21, \"userId\": 1, \"precision\": 0.0, \"recall\": 0.0}, {\"count\": 4, \"cutoff\": 26, \"userId\": 1, \"precision\": 0.0, \"recall\": 0.0}, {\"count\": 4, \"cutoff\": 31, \"userId\": 1, \"precision\": 0.0, \"recall\": 0.0}, {\"count\": 4, \"cutoff\": 36, \"userId\": 1, \"precision\": 0.0, \"recall\": 0.0}, {\"count\": 4, \"cutoff\": 41, \"userId\": 1, \"precision\": 0.0, \"recall\": 0.0}, {\"count\": 4, \"cutoff\": 46, \"userId\": 1, \"precision\": 0.0, \"recall\": 0.0}, {\"count\": 20, \"cutoff\": 1, \"userId\": 5, \"precision\": 0.0, \"recall\": 0.0}, {\"count\": 20, \"cutoff\": 2, \"userId\": 5, \"precision\": 0.0, \"recall\": 0.0}, {\"count\": 20, \"cutoff\": 3, \"userId\": 5, \"precision\": 0.0, \"recall\": 0.0}, {\"count\": 20, \"cutoff\": 4, \"userId\": 5, \"precision\": 0.0, \"recall\": 0.0}, {\"count\": 20, \"cutoff\": 5, \"userId\": 5, \"precision\": 0.0, \"recall\": 0.0}, {\"count\": 20, \"cutoff\": 6, \"userId\": 5, \"precision\": 0.0, \"recall\": 0.0}, {\"count\": 20, \"cutoff\": 7, \"userId\": 5, \"precision\": 0.0, \"recall\": 0.0}, {\"count\": 20, \"cutoff\": 8, \"userId\": 5, \"precision\": 0.0, \"recall\": 0.0}, {\"count\": 20, \"cutoff\": 9, \"userId\": 5, \"precision\": 0.0, \"recall\": 0.0}, {\"count\": 20, \"cutoff\": 10, \"userId\": 5, \"precision\": 0.0, \"recall\": 0.0}, {\"count\": 20, \"cutoff\": 11, \"userId\": 5, \"precision\": 0.0, \"recall\": 0.0}, {\"count\": 20, \"cutoff\": 16, \"userId\": 5, \"precision\": 0.0, \"recall\": 0.0}, {\"count\": 20, \"cutoff\": 21, \"userId\": 5, \"precision\": 0.0, \"recall\": 0.0}, {\"count\": 20, \"cutoff\": 26, \"userId\": 5, \"precision\": 0.0, \"recall\": 0.0}, {\"count\": 20, \"cutoff\": 31, \"userId\": 5, \"precision\": 0.0, \"recall\": 0.0}, {\"count\": 20, \"cutoff\": 36, \"userId\": 5, \"precision\": 0.0, \"recall\": 0.0}, {\"count\": 20, \"cutoff\": 41, \"userId\": 5, \"precision\": 0.0, \"recall\": 0.0}, {\"count\": 20, \"cutoff\": 46, \"userId\": 5, \"precision\": 0.021739130434782608, \"recall\": 0.05}, {\"count\": 6, \"cutoff\": 1, \"userId\": 9, \"precision\": 1.0, \"recall\": 0.16666666666666666}, {\"count\": 6, \"cutoff\": 2, \"userId\": 9, \"precision\": 0.5, \"recall\": 0.16666666666666666}, {\"count\": 6, \"cutoff\": 3, \"userId\": 9, \"precision\": 0.3333333333333333, \"recall\": 0.16666666666666666}, {\"count\": 6, \"cutoff\": 4, \"userId\": 9, \"precision\": 0.25, \"recall\": 0.16666666666666666}, {\"count\": 6, \"cutoff\": 5, \"userId\": 9, \"precision\": 0.2, \"recall\": 0.16666666666666666}, {\"count\": 6, \"cutoff\": 6, \"userId\": 9, \"precision\": 0.16666666666666666, \"recall\": 0.16666666666666666}, {\"count\": 6, \"cutoff\": 7, \"userId\": 9, \"precision\": 0.14285714285714285, \"recall\": 0.16666666666666666}, {\"count\": 6, \"cutoff\": 8, \"userId\": 9, \"precision\": 0.125, \"recall\": 0.16666666666666666}, {\"count\": 6, \"cutoff\": 9, \"userId\": 9, \"precision\": 0.1111111111111111, \"recall\": 0.16666666666666666}, {\"count\": 6, \"cutoff\": 10, \"userId\": 9, \"precision\": 0.1, \"recall\": 0.16666666666666666}, {\"count\": 6, \"cutoff\": 11, \"userId\": 9, \"precision\": 0.09090909090909091, \"recall\": 0.16666666666666666}, {\"count\": 6, \"cutoff\": 16, \"userId\": 9, \"precision\": 0.0625, \"recall\": 0.16666666666666666}, {\"count\": 6, \"cutoff\": 21, \"userId\": 9, \"precision\": 0.047619047619047616, \"recall\": 0.16666666666666666}, {\"count\": 6, \"cutoff\": 26, \"userId\": 9, \"precision\": 0.038461538461538464, \"recall\": 0.16666666666666666}, {\"count\": 6, \"cutoff\": 31, \"userId\": 9, \"precision\": 0.03225806451612903, \"recall\": 0.16666666666666666}, {\"count\": 6, \"cutoff\": 36, \"userId\": 9, \"precision\": 0.027777777777777776, \"recall\": 0.16666666666666666}, {\"count\": 6, \"cutoff\": 41, \"userId\": 9, \"precision\": 0.024390243902439025, \"recall\": 0.16666666666666666}, {\"count\": 6, \"cutoff\": 46, \"userId\": 9, \"precision\": 0.021739130434782608, \"recall\": 0.16666666666666666}, {\"count\": 12, \"cutoff\": 1, \"userId\": 10, \"precision\": 0.0, \"recall\": 0.0}, {\"count\": 12, \"cutoff\": 2, \"userId\": 10, \"precision\": 0.0, \"recall\": 0.0}, {\"count\": 12, \"cutoff\": 3, \"userId\": 10, \"precision\": 0.3333333333333333, \"recall\": 0.08333333333333333}, {\"count\": 12, \"cutoff\": 4, \"userId\": 10, \"precision\": 0.25, \"recall\": 0.08333333333333333}, {\"count\": 12, \"cutoff\": 5, \"userId\": 10, \"precision\": 0.2, \"recall\": 0.08333333333333333}, {\"count\": 12, \"cutoff\": 6, \"userId\": 10, \"precision\": 0.16666666666666666, \"recall\": 0.08333333333333333}, {\"count\": 12, \"cutoff\": 7, \"userId\": 10, \"precision\": 0.14285714285714285, \"recall\": 0.08333333333333333}, {\"count\": 12, \"cutoff\": 8, \"userId\": 10, \"precision\": 0.125, \"recall\": 0.08333333333333333}, {\"count\": 12, \"cutoff\": 9, \"userId\": 10, \"precision\": 0.1111111111111111, \"recall\": 0.08333333333333333}, {\"count\": 12, \"cutoff\": 10, \"userId\": 10, \"precision\": 0.1, \"recall\": 0.08333333333333333}, {\"count\": 12, \"cutoff\": 11, \"userId\": 10, \"precision\": 0.09090909090909091, \"recall\": 0.08333333333333333}, {\"count\": 12, \"cutoff\": 16, \"userId\": 10, \"precision\": 0.125, \"recall\": 0.16666666666666666}, {\"count\": 12, \"cutoff\": 21, \"userId\": 10, \"precision\": 0.09523809523809523, \"recall\": 0.16666666666666666}, {\"count\": 12, \"cutoff\": 26, \"userId\": 10, \"precision\": 0.07692307692307693, \"recall\": 0.16666666666666666}, {\"count\": 12, \"cutoff\": 31, \"userId\": 10, \"precision\": 0.06451612903225806, \"recall\": 0.16666666666666666}, {\"count\": 12, \"cutoff\": 36, \"userId\": 10, \"precision\": 0.08333333333333333, \"recall\": 0.25}, {\"count\": 12, \"cutoff\": 41, \"userId\": 10, \"precision\": 0.07317073170731707, \"recall\": 0.25}, {\"count\": 12, \"cutoff\": 46, \"userId\": 10, \"precision\": 0.06521739130434782, \"recall\": 0.25}, {\"count\": 10, \"cutoff\": 1, \"userId\": 13, \"precision\": 0.0, \"recall\": 0.0}, {\"count\": 10, \"cutoff\": 2, \"userId\": 13, \"precision\": 0.5, \"recall\": 0.1}, {\"count\": 10, \"cutoff\": 3, \"userId\": 13, \"precision\": 0.3333333333333333, \"recall\": 0.1}, {\"count\": 10, \"cutoff\": 4, \"userId\": 13, \"precision\": 0.25, \"recall\": 0.1}, {\"count\": 10, \"cutoff\": 5, \"userId\": 13, \"precision\": 0.2, \"recall\": 0.1}, {\"count\": 10, \"cutoff\": 6, \"userId\": 13, \"precision\": 0.16666666666666666, \"recall\": 0.1}, {\"count\": 10, \"cutoff\": 7, \"userId\": 13, \"precision\": 0.14285714285714285, \"recall\": 0.1}, {\"count\": 10, \"cutoff\": 8, \"userId\": 13, \"precision\": 0.125, \"recall\": 0.1}, {\"count\": 10, \"cutoff\": 9, \"userId\": 13, \"precision\": 0.1111111111111111, \"recall\": 0.1}, {\"count\": 10, \"cutoff\": 10, \"userId\": 13, \"precision\": 0.1, \"recall\": 0.1}, {\"count\": 10, \"cutoff\": 11, \"userId\": 13, \"precision\": 0.09090909090909091, \"recall\": 0.1}, {\"count\": 10, \"cutoff\": 16, \"userId\": 13, \"precision\": 0.0625, \"recall\": 0.1}, {\"count\": 10, \"cutoff\": 21, \"userId\": 13, \"precision\": 0.047619047619047616, \"recall\": 0.1}, {\"count\": 10, \"cutoff\": 26, \"userId\": 13, \"precision\": 0.07692307692307693, \"recall\": 0.2}, {\"count\": 10, \"cutoff\": 31, \"userId\": 13, \"precision\": 0.0967741935483871, \"recall\": 0.3}, {\"count\": 10, \"cutoff\": 36, \"userId\": 13, \"precision\": 0.08333333333333333, \"recall\": 0.3}, {\"count\": 10, \"cutoff\": 41, \"userId\": 13, \"precision\": 0.07317073170731707, \"recall\": 0.3}, {\"count\": 10, \"cutoff\": 46, \"userId\": 13, \"precision\": 0.06521739130434782, \"recall\": 0.3}, {\"count\": 68, \"cutoff\": 1, \"userId\": 17, \"precision\": 0.0, \"recall\": 0.0}, {\"count\": 68, \"cutoff\": 2, \"userId\": 17, \"precision\": 0.0, \"recall\": 0.0}, {\"count\": 68, \"cutoff\": 3, \"userId\": 17, \"precision\": 0.3333333333333333, \"recall\": 0.014705882352941176}, {\"count\": 68, \"cutoff\": 4, \"userId\": 17, \"precision\": 0.25, \"recall\": 0.014705882352941176}, {\"count\": 68, \"cutoff\": 5, \"userId\": 17, \"precision\": 0.2, \"recall\": 0.014705882352941176}, {\"count\": 68, \"cutoff\": 6, \"userId\": 17, \"precision\": 0.3333333333333333, \"recall\": 0.029411764705882353}, {\"count\": 68, \"cutoff\": 7, \"userId\": 17, \"precision\": 0.42857142857142855, \"recall\": 0.04411764705882353}, {\"count\": 68, \"cutoff\": 8, \"userId\": 17, \"precision\": 0.5, \"recall\": 0.058823529411764705}, {\"count\": 68, \"cutoff\": 9, \"userId\": 17, \"precision\": 0.4444444444444444, \"recall\": 0.058823529411764705}, {\"count\": 68, \"cutoff\": 10, \"userId\": 17, \"precision\": 0.4, \"recall\": 0.058823529411764705}, {\"count\": 68, \"cutoff\": 11, \"userId\": 17, \"precision\": 0.36363636363636365, \"recall\": 0.058823529411764705}, {\"count\": 68, \"cutoff\": 16, \"userId\": 17, \"precision\": 0.3125, \"recall\": 0.07352941176470588}, {\"count\": 68, \"cutoff\": 21, \"userId\": 17, \"precision\": 0.3333333333333333, \"recall\": 0.10294117647058823}, {\"count\": 68, \"cutoff\": 26, \"userId\": 17, \"precision\": 0.3076923076923077, \"recall\": 0.11764705882352941}, {\"count\": 68, \"cutoff\": 31, \"userId\": 17, \"precision\": 0.3225806451612903, \"recall\": 0.14705882352941177}, {\"count\": 68, \"cutoff\": 36, \"userId\": 17, \"precision\": 0.3055555555555556, \"recall\": 0.16176470588235295}, {\"count\": 68, \"cutoff\": 41, \"userId\": 17, \"precision\": 0.2682926829268293, \"recall\": 0.16176470588235295}, {\"count\": 68, \"cutoff\": 46, \"userId\": 17, \"precision\": 0.2391304347826087, \"recall\": 0.16176470588235295}, {\"count\": 23, \"cutoff\": 1, \"userId\": 36, \"precision\": 0.0, \"recall\": 0.0}, {\"count\": 23, \"cutoff\": 2, \"userId\": 36, \"precision\": 0.5, \"recall\": 0.043478260869565216}, {\"count\": 23, \"cutoff\": 3, \"userId\": 36, \"precision\": 0.3333333333333333, \"recall\": 0.043478260869565216}, {\"count\": 23, \"cutoff\": 4, \"userId\": 36, \"precision\": 0.25, \"recall\": 0.043478260869565216}, {\"count\": 23, \"cutoff\": 5, \"userId\": 36, \"precision\": 0.2, \"recall\": 0.043478260869565216}, {\"count\": 23, \"cutoff\": 6, \"userId\": 36, \"precision\": 0.16666666666666666, \"recall\": 0.043478260869565216}, {\"count\": 23, \"cutoff\": 7, \"userId\": 36, \"precision\": 0.14285714285714285, \"recall\": 0.043478260869565216}, {\"count\": 23, \"cutoff\": 8, \"userId\": 36, \"precision\": 0.125, \"recall\": 0.043478260869565216}, {\"count\": 23, \"cutoff\": 9, \"userId\": 36, \"precision\": 0.2222222222222222, \"recall\": 0.08695652173913043}, {\"count\": 23, \"cutoff\": 10, \"userId\": 36, \"precision\": 0.2, \"recall\": 0.08695652173913043}, {\"count\": 23, \"cutoff\": 11, \"userId\": 36, \"precision\": 0.18181818181818182, \"recall\": 0.08695652173913043}, {\"count\": 23, \"cutoff\": 16, \"userId\": 36, \"precision\": 0.125, \"recall\": 0.08695652173913043}, {\"count\": 23, \"cutoff\": 21, \"userId\": 36, \"precision\": 0.09523809523809523, \"recall\": 0.08695652173913043}, {\"count\": 23, \"cutoff\": 26, \"userId\": 36, \"precision\": 0.07692307692307693, \"recall\": 0.08695652173913043}, {\"count\": 23, \"cutoff\": 31, \"userId\": 36, \"precision\": 0.0967741935483871, \"recall\": 0.13043478260869565}, {\"count\": 23, \"cutoff\": 36, \"userId\": 36, \"precision\": 0.08333333333333333, \"recall\": 0.13043478260869565}, {\"count\": 23, \"cutoff\": 41, \"userId\": 36, \"precision\": 0.0975609756097561, \"recall\": 0.17391304347826086}, {\"count\": 23, \"cutoff\": 46, \"userId\": 36, \"precision\": 0.08695652173913043, \"recall\": 0.17391304347826086}, {\"count\": 6, \"cutoff\": 1, \"userId\": 46, \"precision\": 0.0, \"recall\": 0.0}, {\"count\": 6, \"cutoff\": 2, \"userId\": 46, \"precision\": 0.0, \"recall\": 0.0}, {\"count\": 6, \"cutoff\": 3, \"userId\": 46, \"precision\": 0.0, \"recall\": 0.0}, {\"count\": 6, \"cutoff\": 4, \"userId\": 46, \"precision\": 0.0, \"recall\": 0.0}, {\"count\": 6, \"cutoff\": 5, \"userId\": 46, \"precision\": 0.0, \"recall\": 0.0}, {\"count\": 6, \"cutoff\": 6, \"userId\": 46, \"precision\": 0.0, \"recall\": 0.0}, {\"count\": 6, \"cutoff\": 7, \"userId\": 46, \"precision\": 0.0, \"recall\": 0.0}, {\"count\": 6, \"cutoff\": 8, \"userId\": 46, \"precision\": 0.0, \"recall\": 0.0}, {\"count\": 6, \"cutoff\": 9, \"userId\": 46, \"precision\": 0.0, \"recall\": 0.0}, {\"count\": 6, \"cutoff\": 10, \"userId\": 46, \"precision\": 0.0, \"recall\": 0.0}, {\"count\": 6, \"cutoff\": 11, \"userId\": 46, \"precision\": 0.0, \"recall\": 0.0}, {\"count\": 6, \"cutoff\": 16, \"userId\": 46, \"precision\": 0.0, \"recall\": 0.0}, {\"count\": 6, \"cutoff\": 21, \"userId\": 46, \"precision\": 0.0, \"recall\": 0.0}, {\"count\": 6, \"cutoff\": 26, \"userId\": 46, \"precision\": 0.0, \"recall\": 0.0}, {\"count\": 6, \"cutoff\": 31, \"userId\": 46, \"precision\": 0.0, \"recall\": 0.0}, {\"count\": 6, \"cutoff\": 36, \"userId\": 46, \"precision\": 0.0, \"recall\": 0.0}, {\"count\": 6, \"cutoff\": 41, \"userId\": 46, \"precision\": 0.0, \"recall\": 0.0}, {\"count\": 6, \"cutoff\": 46, \"userId\": 46, \"precision\": 0.0, \"recall\": 0.0}, {\"count\": 104, \"cutoff\": 1, \"userId\": 48, \"precision\": 0.0, \"recall\": 0.0}, {\"count\": 104, \"cutoff\": 2, \"userId\": 48, \"precision\": 0.5, \"recall\": 0.009615384615384616}, {\"count\": 104, \"cutoff\": 3, \"userId\": 48, \"precision\": 0.3333333333333333, \"recall\": 0.009615384615384616}, {\"count\": 104, \"cutoff\": 4, \"userId\": 48, \"precision\": 0.5, \"recall\": 0.019230769230769232}, {\"count\": 104, \"cutoff\": 5, \"userId\": 48, \"precision\": 0.4, \"recall\": 0.019230769230769232}, {\"count\": 104, \"cutoff\": 6, \"userId\": 48, \"precision\": 0.3333333333333333, \"recall\": 0.019230769230769232}, {\"count\": 104, \"cutoff\": 7, \"userId\": 48, \"precision\": 0.2857142857142857, \"recall\": 0.019230769230769232}, {\"count\": 104, \"cutoff\": 8, \"userId\": 48, \"precision\": 0.25, \"recall\": 0.019230769230769232}, {\"count\": 104, \"cutoff\": 9, \"userId\": 48, \"precision\": 0.2222222222222222, \"recall\": 0.019230769230769232}, {\"count\": 104, \"cutoff\": 10, \"userId\": 48, \"precision\": 0.2, \"recall\": 0.019230769230769232}, {\"count\": 104, \"cutoff\": 11, \"userId\": 48, \"precision\": 0.18181818181818182, \"recall\": 0.019230769230769232}, {\"count\": 104, \"cutoff\": 16, \"userId\": 48, \"precision\": 0.125, \"recall\": 0.019230769230769232}, {\"count\": 104, \"cutoff\": 21, \"userId\": 48, \"precision\": 0.14285714285714285, \"recall\": 0.028846153846153848}, {\"count\": 104, \"cutoff\": 26, \"userId\": 48, \"precision\": 0.11538461538461539, \"recall\": 0.028846153846153848}, {\"count\": 104, \"cutoff\": 31, \"userId\": 48, \"precision\": 0.0967741935483871, \"recall\": 0.028846153846153848}, {\"count\": 104, \"cutoff\": 36, \"userId\": 48, \"precision\": 0.08333333333333333, \"recall\": 0.028846153846153848}, {\"count\": 104, \"cutoff\": 41, \"userId\": 48, \"precision\": 0.07317073170731707, \"recall\": 0.028846153846153848}, {\"count\": 104, \"cutoff\": 46, \"userId\": 48, \"precision\": 0.06521739130434782, \"recall\": 0.028846153846153848}, {\"count\": 8, \"cutoff\": 1, \"userId\": 53, \"precision\": 0.0, \"recall\": 0.0}, {\"count\": 8, \"cutoff\": 2, \"userId\": 53, \"precision\": 0.0, \"recall\": 0.0}, {\"count\": 8, \"cutoff\": 3, \"userId\": 53, \"precision\": 0.0, \"recall\": 0.0}, {\"count\": 8, \"cutoff\": 4, \"userId\": 53, \"precision\": 0.0, \"recall\": 0.0}, {\"count\": 8, \"cutoff\": 5, \"userId\": 53, \"precision\": 0.0, \"recall\": 0.0}, {\"count\": 8, \"cutoff\": 6, \"userId\": 53, \"precision\": 0.0, \"recall\": 0.0}, {\"count\": 8, \"cutoff\": 7, \"userId\": 53, \"precision\": 0.0, \"recall\": 0.0}, {\"count\": 8, \"cutoff\": 8, \"userId\": 53, \"precision\": 0.0, \"recall\": 0.0}, {\"count\": 8, \"cutoff\": 9, \"userId\": 53, \"precision\": 0.0, \"recall\": 0.0}, {\"count\": 8, \"cutoff\": 10, \"userId\": 53, \"precision\": 0.0, \"recall\": 0.0}, {\"count\": 8, \"cutoff\": 11, \"userId\": 53, \"precision\": 0.0, \"recall\": 0.0}, {\"count\": 8, \"cutoff\": 16, \"userId\": 53, \"precision\": 0.0, \"recall\": 0.0}, {\"count\": 8, \"cutoff\": 21, \"userId\": 53, \"precision\": 0.0, \"recall\": 0.0}, {\"count\": 8, \"cutoff\": 26, \"userId\": 53, \"precision\": 0.0, \"recall\": 0.0}, {\"count\": 8, \"cutoff\": 31, \"userId\": 53, \"precision\": 0.03225806451612903, \"recall\": 0.125}, {\"count\": 8, \"cutoff\": 36, \"userId\": 53, \"precision\": 0.027777777777777776, \"recall\": 0.125}, {\"count\": 8, \"cutoff\": 41, \"userId\": 53, \"precision\": 0.024390243902439025, \"recall\": 0.125}, {\"count\": 8, \"cutoff\": 46, \"userId\": 53, \"precision\": 0.021739130434782608, \"recall\": 0.125}, {\"count\": 26, \"cutoff\": 1, \"userId\": 68, \"precision\": 0.0, \"recall\": 0.0}, {\"count\": 26, \"cutoff\": 2, \"userId\": 68, \"precision\": 0.0, \"recall\": 0.0}, {\"count\": 26, \"cutoff\": 3, \"userId\": 68, \"precision\": 0.0, \"recall\": 0.0}, {\"count\": 26, \"cutoff\": 4, \"userId\": 68, \"precision\": 0.0, \"recall\": 0.0}, {\"count\": 26, \"cutoff\": 5, \"userId\": 68, \"precision\": 0.0, \"recall\": 0.0}, {\"count\": 26, \"cutoff\": 6, \"userId\": 68, \"precision\": 0.0, \"recall\": 0.0}, {\"count\": 26, \"cutoff\": 7, \"userId\": 68, \"precision\": 0.0, \"recall\": 0.0}, {\"count\": 26, \"cutoff\": 8, \"userId\": 68, \"precision\": 0.0, \"recall\": 0.0}, {\"count\": 26, \"cutoff\": 9, \"userId\": 68, \"precision\": 0.1111111111111111, \"recall\": 0.038461538461538464}, {\"count\": 26, \"cutoff\": 10, \"userId\": 68, \"precision\": 0.1, \"recall\": 0.038461538461538464}, {\"count\": 26, \"cutoff\": 11, \"userId\": 68, \"precision\": 0.09090909090909091, \"recall\": 0.038461538461538464}, {\"count\": 26, \"cutoff\": 16, \"userId\": 68, \"precision\": 0.0625, \"recall\": 0.038461538461538464}, {\"count\": 26, \"cutoff\": 21, \"userId\": 68, \"precision\": 0.14285714285714285, \"recall\": 0.11538461538461539}, {\"count\": 26, \"cutoff\": 26, \"userId\": 68, \"precision\": 0.15384615384615385, \"recall\": 0.15384615384615385}, {\"count\": 26, \"cutoff\": 31, \"userId\": 68, \"precision\": 0.16129032258064516, \"recall\": 0.19230769230769232}, {\"count\": 26, \"cutoff\": 36, \"userId\": 68, \"precision\": 0.19444444444444445, \"recall\": 0.2692307692307692}, {\"count\": 26, \"cutoff\": 41, \"userId\": 68, \"precision\": 0.17073170731707318, \"recall\": 0.2692307692307692}, {\"count\": 26, \"cutoff\": 46, \"userId\": 68, \"precision\": 0.15217391304347827, \"recall\": 0.2692307692307692}, {\"count\": 51, \"cutoff\": 1, \"userId\": 78, \"precision\": 1.0, \"recall\": 0.0196078431372549}, {\"count\": 51, \"cutoff\": 2, \"userId\": 78, \"precision\": 1.0, \"recall\": 0.0392156862745098}, {\"count\": 51, \"cutoff\": 3, \"userId\": 78, \"precision\": 0.6666666666666666, \"recall\": 0.0392156862745098}, {\"count\": 51, \"cutoff\": 4, \"userId\": 78, \"precision\": 0.75, \"recall\": 0.058823529411764705}, {\"count\": 51, \"cutoff\": 5, \"userId\": 78, \"precision\": 0.6, \"recall\": 0.058823529411764705}, {\"count\": 51, \"cutoff\": 6, \"userId\": 78, \"precision\": 0.5, \"recall\": 0.058823529411764705}, {\"count\": 51, \"cutoff\": 7, \"userId\": 78, \"precision\": 0.42857142857142855, \"recall\": 0.058823529411764705}, {\"count\": 51, \"cutoff\": 8, \"userId\": 78, \"precision\": 0.5, \"recall\": 0.0784313725490196}, {\"count\": 51, \"cutoff\": 9, \"userId\": 78, \"precision\": 0.5555555555555556, \"recall\": 0.09803921568627451}, {\"count\": 51, \"cutoff\": 10, \"userId\": 78, \"precision\": 0.5, \"recall\": 0.09803921568627451}, {\"count\": 51, \"cutoff\": 11, \"userId\": 78, \"precision\": 0.45454545454545453, \"recall\": 0.09803921568627451}, {\"count\": 51, \"cutoff\": 16, \"userId\": 78, \"precision\": 0.3125, \"recall\": 0.09803921568627451}, {\"count\": 51, \"cutoff\": 21, \"userId\": 78, \"precision\": 0.23809523809523808, \"recall\": 0.09803921568627451}, {\"count\": 51, \"cutoff\": 26, \"userId\": 78, \"precision\": 0.2692307692307692, \"recall\": 0.13725490196078433}, {\"count\": 51, \"cutoff\": 31, \"userId\": 78, \"precision\": 0.25806451612903225, \"recall\": 0.1568627450980392}, {\"count\": 51, \"cutoff\": 36, \"userId\": 78, \"precision\": 0.2222222222222222, \"recall\": 0.1568627450980392}, {\"count\": 51, \"cutoff\": 41, \"userId\": 78, \"precision\": 0.1951219512195122, \"recall\": 0.1568627450980392}, {\"count\": 51, \"cutoff\": 46, \"userId\": 78, \"precision\": 0.17391304347826086, \"recall\": 0.1568627450980392}, {\"count\": 39, \"cutoff\": 1, \"userId\": 94, \"precision\": 1.0, \"recall\": 0.02564102564102564}, {\"count\": 39, \"cutoff\": 2, \"userId\": 94, \"precision\": 0.5, \"recall\": 0.02564102564102564}, {\"count\": 39, \"cutoff\": 3, \"userId\": 94, \"precision\": 0.3333333333333333, \"recall\": 0.02564102564102564}, {\"count\": 39, \"cutoff\": 4, \"userId\": 94, \"precision\": 0.5, \"recall\": 0.05128205128205128}, {\"count\": 39, \"cutoff\": 5, \"userId\": 94, \"precision\": 0.4, \"recall\": 0.05128205128205128}, {\"count\": 39, \"cutoff\": 6, \"userId\": 94, \"precision\": 0.3333333333333333, \"recall\": 0.05128205128205128}, {\"count\": 39, \"cutoff\": 7, \"userId\": 94, \"precision\": 0.2857142857142857, \"recall\": 0.05128205128205128}, {\"count\": 39, \"cutoff\": 8, \"userId\": 94, \"precision\": 0.25, \"recall\": 0.05128205128205128}, {\"count\": 39, \"cutoff\": 9, \"userId\": 94, \"precision\": 0.2222222222222222, \"recall\": 0.05128205128205128}, {\"count\": 39, \"cutoff\": 10, \"userId\": 94, \"precision\": 0.2, \"recall\": 0.05128205128205128}, {\"count\": 39, \"cutoff\": 11, \"userId\": 94, \"precision\": 0.18181818181818182, \"recall\": 0.05128205128205128}, {\"count\": 39, \"cutoff\": 16, \"userId\": 94, \"precision\": 0.25, \"recall\": 0.10256410256410256}, {\"count\": 39, \"cutoff\": 21, \"userId\": 94, \"precision\": 0.19047619047619047, \"recall\": 0.10256410256410256}, {\"count\": 39, \"cutoff\": 26, \"userId\": 94, \"precision\": 0.19230769230769232, \"recall\": 0.1282051282051282}, {\"count\": 39, \"cutoff\": 31, \"userId\": 94, \"precision\": 0.16129032258064516, \"recall\": 0.1282051282051282}, {\"count\": 39, \"cutoff\": 36, \"userId\": 94, \"precision\": 0.16666666666666666, \"recall\": 0.15384615384615385}, {\"count\": 39, \"cutoff\": 41, \"userId\": 94, \"precision\": 0.14634146341463414, \"recall\": 0.15384615384615385}, {\"count\": 39, \"cutoff\": 46, \"userId\": 94, \"precision\": 0.13043478260869565, \"recall\": 0.15384615384615385}, {\"count\": 18, \"cutoff\": 1, \"userId\": 96, \"precision\": 1.0, \"recall\": 0.05555555555555555}, {\"count\": 18, \"cutoff\": 2, \"userId\": 96, \"precision\": 0.5, \"recall\": 0.05555555555555555}, {\"count\": 18, \"cutoff\": 3, \"userId\": 96, \"precision\": 0.3333333333333333, \"recall\": 0.05555555555555555}, {\"count\": 18, \"cutoff\": 4, \"userId\": 96, \"precision\": 0.25, \"recall\": 0.05555555555555555}, {\"count\": 18, \"cutoff\": 5, \"userId\": 96, \"precision\": 0.2, \"recall\": 0.05555555555555555}, {\"count\": 18, \"cutoff\": 6, \"userId\": 96, \"precision\": 0.16666666666666666, \"recall\": 0.05555555555555555}, {\"count\": 18, \"cutoff\": 7, \"userId\": 96, \"precision\": 0.14285714285714285, \"recall\": 0.05555555555555555}, {\"count\": 18, \"cutoff\": 8, \"userId\": 96, \"precision\": 0.125, \"recall\": 0.05555555555555555}, {\"count\": 18, \"cutoff\": 9, \"userId\": 96, \"precision\": 0.1111111111111111, \"recall\": 0.05555555555555555}, {\"count\": 18, \"cutoff\": 10, \"userId\": 96, \"precision\": 0.1, \"recall\": 0.05555555555555555}, {\"count\": 18, \"cutoff\": 11, \"userId\": 96, \"precision\": 0.09090909090909091, \"recall\": 0.05555555555555555}, {\"count\": 18, \"cutoff\": 16, \"userId\": 96, \"precision\": 0.0625, \"recall\": 0.05555555555555555}, {\"count\": 18, \"cutoff\": 21, \"userId\": 96, \"precision\": 0.09523809523809523, \"recall\": 0.1111111111111111}, {\"count\": 18, \"cutoff\": 26, \"userId\": 96, \"precision\": 0.07692307692307693, \"recall\": 0.1111111111111111}, {\"count\": 18, \"cutoff\": 31, \"userId\": 96, \"precision\": 0.06451612903225806, \"recall\": 0.1111111111111111}, {\"count\": 18, \"cutoff\": 36, \"userId\": 96, \"precision\": 0.05555555555555555, \"recall\": 0.1111111111111111}, {\"count\": 18, \"cutoff\": 41, \"userId\": 96, \"precision\": 0.07317073170731707, \"recall\": 0.16666666666666666}, {\"count\": 18, \"cutoff\": 46, \"userId\": 96, \"precision\": 0.06521739130434782, \"recall\": 0.16666666666666666}, {\"count\": 25, \"cutoff\": 1, \"userId\": 97, \"precision\": 0.0, \"recall\": 0.0}, {\"count\": 25, \"cutoff\": 2, \"userId\": 97, \"precision\": 0.5, \"recall\": 0.04}, {\"count\": 25, \"cutoff\": 3, \"userId\": 97, \"precision\": 0.3333333333333333, \"recall\": 0.04}, {\"count\": 25, \"cutoff\": 4, \"userId\": 97, \"precision\": 0.5, \"recall\": 0.08}, {\"count\": 25, \"cutoff\": 5, \"userId\": 97, \"precision\": 0.4, \"recall\": 0.08}, {\"count\": 25, \"cutoff\": 6, \"userId\": 97, \"precision\": 0.5, \"recall\": 0.12}, {\"count\": 25, \"cutoff\": 7, \"userId\": 97, \"precision\": 0.5714285714285714, \"recall\": 0.16}, {\"count\": 25, \"cutoff\": 8, \"userId\": 97, \"precision\": 0.5, \"recall\": 0.16}, {\"count\": 25, \"cutoff\": 9, \"userId\": 97, \"precision\": 0.4444444444444444, \"recall\": 0.16}, {\"count\": 25, \"cutoff\": 10, \"userId\": 97, \"precision\": 0.4, \"recall\": 0.16}, {\"count\": 25, \"cutoff\": 11, \"userId\": 97, \"precision\": 0.36363636363636365, \"recall\": 0.16}, {\"count\": 25, \"cutoff\": 16, \"userId\": 97, \"precision\": 0.375, \"recall\": 0.24}, {\"count\": 25, \"cutoff\": 21, \"userId\": 97, \"precision\": 0.38095238095238093, \"recall\": 0.32}, {\"count\": 25, \"cutoff\": 26, \"userId\": 97, \"precision\": 0.38461538461538464, \"recall\": 0.4}, {\"count\": 25, \"cutoff\": 31, \"userId\": 97, \"precision\": 0.3548387096774194, \"recall\": 0.44}, {\"count\": 25, \"cutoff\": 36, \"userId\": 97, \"precision\": 0.3333333333333333, \"recall\": 0.48}, {\"count\": 25, \"cutoff\": 41, \"userId\": 97, \"precision\": 0.2926829268292683, \"recall\": 0.48}, {\"count\": 25, \"cutoff\": 46, \"userId\": 97, \"precision\": 0.2608695652173913, \"recall\": 0.48}, {\"count\": 12, \"cutoff\": 1, \"userId\": 98, \"precision\": 0.0, \"recall\": 0.0}, {\"count\": 12, \"cutoff\": 2, \"userId\": 98, \"precision\": 0.0, \"recall\": 0.0}, {\"count\": 12, \"cutoff\": 3, \"userId\": 98, \"precision\": 0.0, \"recall\": 0.0}, {\"count\": 12, \"cutoff\": 4, \"userId\": 98, \"precision\": 0.0, \"recall\": 0.0}, {\"count\": 12, \"cutoff\": 5, \"userId\": 98, \"precision\": 0.0, \"recall\": 0.0}, {\"count\": 12, \"cutoff\": 6, \"userId\": 98, \"precision\": 0.0, \"recall\": 0.0}, {\"count\": 12, \"cutoff\": 7, \"userId\": 98, \"precision\": 0.0, \"recall\": 0.0}, {\"count\": 12, \"cutoff\": 8, \"userId\": 98, \"precision\": 0.0, \"recall\": 0.0}, {\"count\": 12, \"cutoff\": 9, \"userId\": 98, \"precision\": 0.0, \"recall\": 0.0}, {\"count\": 12, \"cutoff\": 10, \"userId\": 98, \"precision\": 0.0, \"recall\": 0.0}, {\"count\": 12, \"cutoff\": 11, \"userId\": 98, \"precision\": 0.0, \"recall\": 0.0}, {\"count\": 12, \"cutoff\": 16, \"userId\": 98, \"precision\": 0.0, \"recall\": 0.0}, {\"count\": 12, \"cutoff\": 21, \"userId\": 98, \"precision\": 0.0, \"recall\": 0.0}, {\"count\": 12, \"cutoff\": 26, \"userId\": 98, \"precision\": 0.0, \"recall\": 0.0}, {\"count\": 12, \"cutoff\": 31, \"userId\": 98, \"precision\": 0.0, \"recall\": 0.0}, {\"count\": 12, \"cutoff\": 36, \"userId\": 98, \"precision\": 0.0, \"recall\": 0.0}, {\"count\": 12, \"cutoff\": 41, \"userId\": 98, \"precision\": 0.0, \"recall\": 0.0}, {\"count\": 12, \"cutoff\": 46, \"userId\": 98, \"precision\": 0.0, \"recall\": 0.0}, {\"count\": 71, \"cutoff\": 1, \"userId\": 111, \"precision\": 0.0, \"recall\": 0.0}, {\"count\": 71, \"cutoff\": 2, \"userId\": 111, \"precision\": 0.5, \"recall\": 0.014084507042253521}, {\"count\": 71, \"cutoff\": 3, \"userId\": 111, \"precision\": 0.6666666666666666, \"recall\": 0.028169014084507043}, {\"count\": 71, \"cutoff\": 4, \"userId\": 111, \"precision\": 0.75, \"recall\": 0.04225352112676056}, {\"count\": 71, \"cutoff\": 5, \"userId\": 111, \"precision\": 0.6, \"recall\": 0.04225352112676056}, {\"count\": 71, \"cutoff\": 6, \"userId\": 111, \"precision\": 0.6666666666666666, \"recall\": 0.056338028169014086}, {\"count\": 71, \"cutoff\": 7, \"userId\": 111, \"precision\": 0.7142857142857143, \"recall\": 0.07042253521126761}, {\"count\": 71, \"cutoff\": 8, \"userId\": 111, \"precision\": 0.75, \"recall\": 0.08450704225352113}, {\"count\": 71, \"cutoff\": 9, \"userId\": 111, \"precision\": 0.6666666666666666, \"recall\": 0.08450704225352113}, {\"count\": 71, \"cutoff\": 10, \"userId\": 111, \"precision\": 0.7, \"recall\": 0.09859154929577464}, {\"count\": 71, \"cutoff\": 11, \"userId\": 111, \"precision\": 0.6363636363636364, \"recall\": 0.09859154929577464}, {\"count\": 71, \"cutoff\": 16, \"userId\": 111, \"precision\": 0.5625, \"recall\": 0.1267605633802817}, {\"count\": 71, \"cutoff\": 21, \"userId\": 111, \"precision\": 0.5238095238095238, \"recall\": 0.15492957746478872}, {\"count\": 71, \"cutoff\": 26, \"userId\": 111, \"precision\": 0.4230769230769231, \"recall\": 0.15492957746478872}, {\"count\": 71, \"cutoff\": 31, \"userId\": 111, \"precision\": 0.3870967741935484, \"recall\": 0.16901408450704225}, {\"count\": 71, \"cutoff\": 36, \"userId\": 111, \"precision\": 0.3611111111111111, \"recall\": 0.18309859154929578}, {\"count\": 71, \"cutoff\": 41, \"userId\": 111, \"precision\": 0.3170731707317073, \"recall\": 0.18309859154929578}, {\"count\": 71, \"cutoff\": 46, \"userId\": 111, \"precision\": 0.30434782608695654, \"recall\": 0.19718309859154928}, {\"count\": 5, \"cutoff\": 1, \"userId\": 116, \"precision\": 0.0, \"recall\": 0.0}, {\"count\": 5, \"cutoff\": 2, \"userId\": 116, \"precision\": 0.0, \"recall\": 0.0}, {\"count\": 5, \"cutoff\": 3, \"userId\": 116, \"precision\": 0.0, \"recall\": 0.0}, {\"count\": 5, \"cutoff\": 4, \"userId\": 116, \"precision\": 0.0, \"recall\": 0.0}, {\"count\": 5, \"cutoff\": 5, \"userId\": 116, \"precision\": 0.0, \"recall\": 0.0}, {\"count\": 5, \"cutoff\": 6, \"userId\": 116, \"precision\": 0.16666666666666666, \"recall\": 0.2}, {\"count\": 5, \"cutoff\": 7, \"userId\": 116, \"precision\": 0.14285714285714285, \"recall\": 0.2}, {\"count\": 5, \"cutoff\": 8, \"userId\": 116, \"precision\": 0.125, \"recall\": 0.2}, {\"count\": 5, \"cutoff\": 9, \"userId\": 116, \"precision\": 0.2222222222222222, \"recall\": 0.4}, {\"count\": 5, \"cutoff\": 10, \"userId\": 116, \"precision\": 0.2, \"recall\": 0.4}, {\"count\": 5, \"cutoff\": 11, \"userId\": 116, \"precision\": 0.18181818181818182, \"recall\": 0.4}, {\"count\": 5, \"cutoff\": 16, \"userId\": 116, \"precision\": 0.125, \"recall\": 0.4}, {\"count\": 5, \"cutoff\": 21, \"userId\": 116, \"precision\": 0.14285714285714285, \"recall\": 0.6}, {\"count\": 5, \"cutoff\": 26, \"userId\": 116, \"precision\": 0.11538461538461539, \"recall\": 0.6}, {\"count\": 5, \"cutoff\": 31, \"userId\": 116, \"precision\": 0.0967741935483871, \"recall\": 0.6}, {\"count\": 5, \"cutoff\": 36, \"userId\": 116, \"precision\": 0.08333333333333333, \"recall\": 0.6}, {\"count\": 5, \"cutoff\": 41, \"userId\": 116, \"precision\": 0.07317073170731707, \"recall\": 0.6}, {\"count\": 5, \"cutoff\": 46, \"userId\": 116, \"precision\": 0.06521739130434782, \"recall\": 0.6}, {\"count\": 37, \"cutoff\": 1, \"userId\": 118, \"precision\": 0.0, \"recall\": 0.0}, {\"count\": 37, \"cutoff\": 2, \"userId\": 118, \"precision\": 0.0, \"recall\": 0.0}, {\"count\": 37, \"cutoff\": 3, \"userId\": 118, \"precision\": 0.3333333333333333, \"recall\": 0.02702702702702703}, {\"count\": 37, \"cutoff\": 4, \"userId\": 118, \"precision\": 0.25, \"recall\": 0.02702702702702703}, {\"count\": 37, \"cutoff\": 5, \"userId\": 118, \"precision\": 0.2, \"recall\": 0.02702702702702703}, {\"count\": 37, \"cutoff\": 6, \"userId\": 118, \"precision\": 0.3333333333333333, \"recall\": 0.05405405405405406}, {\"count\": 37, \"cutoff\": 7, \"userId\": 118, \"precision\": 0.2857142857142857, \"recall\": 0.05405405405405406}, {\"count\": 37, \"cutoff\": 8, \"userId\": 118, \"precision\": 0.25, \"recall\": 0.05405405405405406}, {\"count\": 37, \"cutoff\": 9, \"userId\": 118, \"precision\": 0.2222222222222222, \"recall\": 0.05405405405405406}, {\"count\": 37, \"cutoff\": 10, \"userId\": 118, \"precision\": 0.2, \"recall\": 0.05405405405405406}, {\"count\": 37, \"cutoff\": 11, \"userId\": 118, \"precision\": 0.18181818181818182, \"recall\": 0.05405405405405406}, {\"count\": 37, \"cutoff\": 16, \"userId\": 118, \"precision\": 0.125, \"recall\": 0.05405405405405406}, {\"count\": 37, \"cutoff\": 21, \"userId\": 118, \"precision\": 0.14285714285714285, \"recall\": 0.08108108108108109}, {\"count\": 37, \"cutoff\": 26, \"userId\": 118, \"precision\": 0.15384615384615385, \"recall\": 0.10810810810810811}, {\"count\": 37, \"cutoff\": 31, \"userId\": 118, \"precision\": 0.12903225806451613, \"recall\": 0.10810810810810811}, {\"count\": 37, \"cutoff\": 36, \"userId\": 118, \"precision\": 0.1111111111111111, \"recall\": 0.10810810810810811}, {\"count\": 37, \"cutoff\": 41, \"userId\": 118, \"precision\": 0.12195121951219512, \"recall\": 0.13513513513513514}, {\"count\": 37, \"cutoff\": 46, \"userId\": 118, \"precision\": 0.10869565217391304, \"recall\": 0.13513513513513514}, {\"count\": 16, \"cutoff\": 1, \"userId\": 121, \"precision\": 1.0, \"recall\": 0.0625}, {\"count\": 16, \"cutoff\": 2, \"userId\": 121, \"precision\": 0.5, \"recall\": 0.0625}, {\"count\": 16, \"cutoff\": 3, \"userId\": 121, \"precision\": 0.6666666666666666, \"recall\": 0.125}, {\"count\": 16, \"cutoff\": 4, \"userId\": 121, \"precision\": 0.5, \"recall\": 0.125}, {\"count\": 16, \"cutoff\": 5, \"userId\": 121, \"precision\": 0.4, \"recall\": 0.125}, {\"count\": 16, \"cutoff\": 6, \"userId\": 121, \"precision\": 0.3333333333333333, \"recall\": 0.125}, {\"count\": 16, \"cutoff\": 7, \"userId\": 121, \"precision\": 0.2857142857142857, \"recall\": 0.125}, {\"count\": 16, \"cutoff\": 8, \"userId\": 121, \"precision\": 0.25, \"recall\": 0.125}, {\"count\": 16, \"cutoff\": 9, \"userId\": 121, \"precision\": 0.2222222222222222, \"recall\": 0.125}, {\"count\": 16, \"cutoff\": 10, \"userId\": 121, \"precision\": 0.2, \"recall\": 0.125}, {\"count\": 16, \"cutoff\": 11, \"userId\": 121, \"precision\": 0.18181818181818182, \"recall\": 0.125}, {\"count\": 16, \"cutoff\": 16, \"userId\": 121, \"precision\": 0.125, \"recall\": 0.125}, {\"count\": 16, \"cutoff\": 21, \"userId\": 121, \"precision\": 0.09523809523809523, \"recall\": 0.125}, {\"count\": 16, \"cutoff\": 26, \"userId\": 121, \"precision\": 0.07692307692307693, \"recall\": 0.125}, {\"count\": 16, \"cutoff\": 31, \"userId\": 121, \"precision\": 0.06451612903225806, \"recall\": 0.125}, {\"count\": 16, \"cutoff\": 36, \"userId\": 121, \"precision\": 0.05555555555555555, \"recall\": 0.125}, {\"count\": 16, \"cutoff\": 41, \"userId\": 121, \"precision\": 0.04878048780487805, \"recall\": 0.125}, {\"count\": 16, \"cutoff\": 46, \"userId\": 121, \"precision\": 0.043478260869565216, \"recall\": 0.125}, {\"count\": 63, \"cutoff\": 1, \"userId\": 128, \"precision\": 0.0, \"recall\": 0.0}, {\"count\": 63, \"cutoff\": 2, \"userId\": 128, \"precision\": 0.0, \"recall\": 0.0}, {\"count\": 63, \"cutoff\": 3, \"userId\": 128, \"precision\": 0.0, \"recall\": 0.0}, {\"count\": 63, \"cutoff\": 4, \"userId\": 128, \"precision\": 0.0, \"recall\": 0.0}, {\"count\": 63, \"cutoff\": 5, \"userId\": 128, \"precision\": 0.0, \"recall\": 0.0}, {\"count\": 63, \"cutoff\": 6, \"userId\": 128, \"precision\": 0.0, \"recall\": 0.0}, {\"count\": 63, \"cutoff\": 7, \"userId\": 128, \"precision\": 0.0, \"recall\": 0.0}, {\"count\": 63, \"cutoff\": 8, \"userId\": 128, \"precision\": 0.0, \"recall\": 0.0}, {\"count\": 63, \"cutoff\": 9, \"userId\": 128, \"precision\": 0.0, \"recall\": 0.0}, {\"count\": 63, \"cutoff\": 10, \"userId\": 128, \"precision\": 0.0, \"recall\": 0.0}, {\"count\": 63, \"cutoff\": 11, \"userId\": 128, \"precision\": 0.0, \"recall\": 0.0}, {\"count\": 63, \"cutoff\": 16, \"userId\": 128, \"precision\": 0.0625, \"recall\": 0.015873015873015872}, {\"count\": 63, \"cutoff\": 21, \"userId\": 128, \"precision\": 0.047619047619047616, \"recall\": 0.015873015873015872}, {\"count\": 63, \"cutoff\": 26, \"userId\": 128, \"precision\": 0.038461538461538464, \"recall\": 0.015873015873015872}, {\"count\": 63, \"cutoff\": 31, \"userId\": 128, \"precision\": 0.06451612903225806, \"recall\": 0.031746031746031744}, {\"count\": 63, \"cutoff\": 36, \"userId\": 128, \"precision\": 0.08333333333333333, \"recall\": 0.047619047619047616}, {\"count\": 63, \"cutoff\": 41, \"userId\": 128, \"precision\": 0.0975609756097561, \"recall\": 0.06349206349206349}, {\"count\": 63, \"cutoff\": 46, \"userId\": 128, \"precision\": 0.08695652173913043, \"recall\": 0.06349206349206349}, {\"count\": 6, \"cutoff\": 1, \"userId\": 131, \"precision\": 0.0, \"recall\": 0.0}, {\"count\": 6, \"cutoff\": 2, \"userId\": 131, \"precision\": 0.0, \"recall\": 0.0}, {\"count\": 6, \"cutoff\": 3, \"userId\": 131, \"precision\": 0.0, \"recall\": 0.0}, {\"count\": 6, \"cutoff\": 4, \"userId\": 131, \"precision\": 0.0, \"recall\": 0.0}, {\"count\": 6, \"cutoff\": 5, \"userId\": 131, \"precision\": 0.0, \"recall\": 0.0}, {\"count\": 6, \"cutoff\": 6, \"userId\": 131, \"precision\": 0.0, \"recall\": 0.0}, {\"count\": 6, \"cutoff\": 7, \"userId\": 131, \"precision\": 0.0, \"recall\": 0.0}, {\"count\": 6, \"cutoff\": 8, \"userId\": 131, \"precision\": 0.0, \"recall\": 0.0}, {\"count\": 6, \"cutoff\": 9, \"userId\": 131, \"precision\": 0.0, \"recall\": 0.0}, {\"count\": 6, \"cutoff\": 10, \"userId\": 131, \"precision\": 0.0, \"recall\": 0.0}, {\"count\": 6, \"cutoff\": 11, \"userId\": 131, \"precision\": 0.0, \"recall\": 0.0}, {\"count\": 6, \"cutoff\": 16, \"userId\": 131, \"precision\": 0.0, \"recall\": 0.0}, {\"count\": 6, \"cutoff\": 21, \"userId\": 131, \"precision\": 0.0, \"recall\": 0.0}, {\"count\": 6, \"cutoff\": 26, \"userId\": 131, \"precision\": 0.0, \"recall\": 0.0}, {\"count\": 6, \"cutoff\": 31, \"userId\": 131, \"precision\": 0.0, \"recall\": 0.0}, {\"count\": 6, \"cutoff\": 36, \"userId\": 131, \"precision\": 0.0, \"recall\": 0.0}, {\"count\": 6, \"cutoff\": 41, \"userId\": 131, \"precision\": 0.0, \"recall\": 0.0}, {\"count\": 6, \"cutoff\": 46, \"userId\": 131, \"precision\": 0.0, \"recall\": 0.0}, {\"count\": 36, \"cutoff\": 1, \"userId\": 133, \"precision\": 1.0, \"recall\": 0.027777777777777776}, {\"count\": 36, \"cutoff\": 2, \"userId\": 133, \"precision\": 0.5, \"recall\": 0.027777777777777776}, {\"count\": 36, \"cutoff\": 3, \"userId\": 133, \"precision\": 0.3333333333333333, \"recall\": 0.027777777777777776}, {\"count\": 36, \"cutoff\": 4, \"userId\": 133, \"precision\": 0.25, \"recall\": 0.027777777777777776}, {\"count\": 36, \"cutoff\": 5, \"userId\": 133, \"precision\": 0.2, \"recall\": 0.027777777777777776}, {\"count\": 36, \"cutoff\": 6, \"userId\": 133, \"precision\": 0.16666666666666666, \"recall\": 0.027777777777777776}, {\"count\": 36, \"cutoff\": 7, \"userId\": 133, \"precision\": 0.14285714285714285, \"recall\": 0.027777777777777776}, {\"count\": 36, \"cutoff\": 8, \"userId\": 133, \"precision\": 0.125, \"recall\": 0.027777777777777776}, {\"count\": 36, \"cutoff\": 9, \"userId\": 133, \"precision\": 0.2222222222222222, \"recall\": 0.05555555555555555}, {\"count\": 36, \"cutoff\": 10, \"userId\": 133, \"precision\": 0.2, \"recall\": 0.05555555555555555}, {\"count\": 36, \"cutoff\": 11, \"userId\": 133, \"precision\": 0.18181818181818182, \"recall\": 0.05555555555555555}, {\"count\": 36, \"cutoff\": 16, \"userId\": 133, \"precision\": 0.1875, \"recall\": 0.08333333333333333}, {\"count\": 36, \"cutoff\": 21, \"userId\": 133, \"precision\": 0.19047619047619047, \"recall\": 0.1111111111111111}, {\"count\": 36, \"cutoff\": 26, \"userId\": 133, \"precision\": 0.19230769230769232, \"recall\": 0.1388888888888889}, {\"count\": 36, \"cutoff\": 31, \"userId\": 133, \"precision\": 0.16129032258064516, \"recall\": 0.1388888888888889}, {\"count\": 36, \"cutoff\": 36, \"userId\": 133, \"precision\": 0.1388888888888889, \"recall\": 0.1388888888888889}, {\"count\": 36, \"cutoff\": 41, \"userId\": 133, \"precision\": 0.12195121951219512, \"recall\": 0.1388888888888889}, {\"count\": 36, \"cutoff\": 46, \"userId\": 133, \"precision\": 0.13043478260869565, \"recall\": 0.16666666666666666}, {\"count\": 18, \"cutoff\": 1, \"userId\": 146, \"precision\": 1.0, \"recall\": 0.05555555555555555}, {\"count\": 18, \"cutoff\": 2, \"userId\": 146, \"precision\": 0.5, \"recall\": 0.05555555555555555}, {\"count\": 18, \"cutoff\": 3, \"userId\": 146, \"precision\": 0.3333333333333333, \"recall\": 0.05555555555555555}, {\"count\": 18, \"cutoff\": 4, \"userId\": 146, \"precision\": 0.25, \"recall\": 0.05555555555555555}, {\"count\": 18, \"cutoff\": 5, \"userId\": 146, \"precision\": 0.2, \"recall\": 0.05555555555555555}, {\"count\": 18, \"cutoff\": 6, \"userId\": 146, \"precision\": 0.16666666666666666, \"recall\": 0.05555555555555555}, {\"count\": 18, \"cutoff\": 7, \"userId\": 146, \"precision\": 0.2857142857142857, \"recall\": 0.1111111111111111}, {\"count\": 18, \"cutoff\": 8, \"userId\": 146, \"precision\": 0.25, \"recall\": 0.1111111111111111}, {\"count\": 18, \"cutoff\": 9, \"userId\": 146, \"precision\": 0.2222222222222222, \"recall\": 0.1111111111111111}, {\"count\": 18, \"cutoff\": 10, \"userId\": 146, \"precision\": 0.2, \"recall\": 0.1111111111111111}, {\"count\": 18, \"cutoff\": 11, \"userId\": 146, \"precision\": 0.2727272727272727, \"recall\": 0.16666666666666666}, {\"count\": 18, \"cutoff\": 16, \"userId\": 146, \"precision\": 0.1875, \"recall\": 0.16666666666666666}, {\"count\": 18, \"cutoff\": 21, \"userId\": 146, \"precision\": 0.19047619047619047, \"recall\": 0.2222222222222222}, {\"count\": 18, \"cutoff\": 26, \"userId\": 146, \"precision\": 0.19230769230769232, \"recall\": 0.2777777777777778}, {\"count\": 18, \"cutoff\": 31, \"userId\": 146, \"precision\": 0.22580645161290322, \"recall\": 0.3888888888888889}, {\"count\": 18, \"cutoff\": 36, \"userId\": 146, \"precision\": 0.19444444444444445, \"recall\": 0.3888888888888889}, {\"count\": 18, \"cutoff\": 41, \"userId\": 146, \"precision\": 0.17073170731707318, \"recall\": 0.3888888888888889}, {\"count\": 18, \"cutoff\": 46, \"userId\": 146, \"precision\": 0.17391304347826086, \"recall\": 0.4444444444444444}, {\"count\": 9, \"cutoff\": 1, \"userId\": 155, \"precision\": 0.0, \"recall\": 0.0}, {\"count\": 9, \"cutoff\": 2, \"userId\": 155, \"precision\": 0.0, \"recall\": 0.0}, {\"count\": 9, \"cutoff\": 3, \"userId\": 155, \"precision\": 0.0, \"recall\": 0.0}, {\"count\": 9, \"cutoff\": 4, \"userId\": 155, \"precision\": 0.0, \"recall\": 0.0}, {\"count\": 9, \"cutoff\": 5, \"userId\": 155, \"precision\": 0.0, \"recall\": 0.0}, {\"count\": 9, \"cutoff\": 6, \"userId\": 155, \"precision\": 0.0, \"recall\": 0.0}, {\"count\": 9, \"cutoff\": 7, \"userId\": 155, \"precision\": 0.0, \"recall\": 0.0}, {\"count\": 9, \"cutoff\": 8, \"userId\": 155, \"precision\": 0.0, \"recall\": 0.0}, {\"count\": 9, \"cutoff\": 9, \"userId\": 155, \"precision\": 0.0, \"recall\": 0.0}, {\"count\": 9, \"cutoff\": 10, \"userId\": 155, \"precision\": 0.0, \"recall\": 0.0}, {\"count\": 9, \"cutoff\": 11, \"userId\": 155, \"precision\": 0.09090909090909091, \"recall\": 0.1111111111111111}, {\"count\": 9, \"cutoff\": 16, \"userId\": 155, \"precision\": 0.125, \"recall\": 0.2222222222222222}, {\"count\": 9, \"cutoff\": 21, \"userId\": 155, \"precision\": 0.09523809523809523, \"recall\": 0.2222222222222222}, {\"count\": 9, \"cutoff\": 26, \"userId\": 155, \"precision\": 0.11538461538461539, \"recall\": 0.3333333333333333}, {\"count\": 9, \"cutoff\": 31, \"userId\": 155, \"precision\": 0.0967741935483871, \"recall\": 0.3333333333333333}, {\"count\": 9, \"cutoff\": 36, \"userId\": 155, \"precision\": 0.08333333333333333, \"recall\": 0.3333333333333333}, {\"count\": 9, \"cutoff\": 41, \"userId\": 155, \"precision\": 0.0975609756097561, \"recall\": 0.4444444444444444}, {\"count\": 9, \"cutoff\": 46, \"userId\": 155, \"precision\": 0.08695652173913043, \"recall\": 0.4444444444444444}, {\"count\": 63, \"cutoff\": 1, \"userId\": 157, \"precision\": 0.0, \"recall\": 0.0}, {\"count\": 63, \"cutoff\": 2, \"userId\": 157, \"precision\": 0.0, \"recall\": 0.0}, {\"count\": 63, \"cutoff\": 3, \"userId\": 157, \"precision\": 0.0, \"recall\": 0.0}, {\"count\": 63, \"cutoff\": 4, \"userId\": 157, \"precision\": 0.0, \"recall\": 0.0}, {\"count\": 63, \"cutoff\": 5, \"userId\": 157, \"precision\": 0.0, \"recall\": 0.0}, {\"count\": 63, \"cutoff\": 6, \"userId\": 157, \"precision\": 0.0, \"recall\": 0.0}, {\"count\": 63, \"cutoff\": 7, \"userId\": 157, \"precision\": 0.0, \"recall\": 0.0}, {\"count\": 63, \"cutoff\": 8, \"userId\": 157, \"precision\": 0.0, \"recall\": 0.0}, {\"count\": 63, \"cutoff\": 9, \"userId\": 157, \"precision\": 0.0, \"recall\": 0.0}, {\"count\": 63, \"cutoff\": 10, \"userId\": 157, \"precision\": 0.0, \"recall\": 0.0}, {\"count\": 63, \"cutoff\": 11, \"userId\": 157, \"precision\": 0.0, \"recall\": 0.0}, {\"count\": 63, \"cutoff\": 16, \"userId\": 157, \"precision\": 0.0625, \"recall\": 0.015873015873015872}, {\"count\": 63, \"cutoff\": 21, \"userId\": 157, \"precision\": 0.09523809523809523, \"recall\": 0.031746031746031744}, {\"count\": 63, \"cutoff\": 26, \"userId\": 157, \"precision\": 0.11538461538461539, \"recall\": 0.047619047619047616}, {\"count\": 63, \"cutoff\": 31, \"userId\": 157, \"precision\": 0.0967741935483871, \"recall\": 0.047619047619047616}, {\"count\": 63, \"cutoff\": 36, \"userId\": 157, \"precision\": 0.1388888888888889, \"recall\": 0.07936507936507936}, {\"count\": 63, \"cutoff\": 41, \"userId\": 157, \"precision\": 0.17073170731707318, \"recall\": 0.1111111111111111}, {\"count\": 63, \"cutoff\": 46, \"userId\": 157, \"precision\": 0.17391304347826086, \"recall\": 0.12698412698412698}, {\"count\": 3, \"cutoff\": 1, \"userId\": 158, \"precision\": 0.0, \"recall\": 0.0}, {\"count\": 3, \"cutoff\": 2, \"userId\": 158, \"precision\": 0.0, \"recall\": 0.0}, {\"count\": 3, \"cutoff\": 3, \"userId\": 158, \"precision\": 0.0, \"recall\": 0.0}, {\"count\": 3, \"cutoff\": 4, \"userId\": 158, \"precision\": 0.0, \"recall\": 0.0}, {\"count\": 3, \"cutoff\": 5, \"userId\": 158, \"precision\": 0.0, \"recall\": 0.0}, {\"count\": 3, \"cutoff\": 6, \"userId\": 158, \"precision\": 0.0, \"recall\": 0.0}, {\"count\": 3, \"cutoff\": 7, \"userId\": 158, \"precision\": 0.0, \"recall\": 0.0}, {\"count\": 3, \"cutoff\": 8, \"userId\": 158, \"precision\": 0.0, \"recall\": 0.0}, {\"count\": 3, \"cutoff\": 9, \"userId\": 158, \"precision\": 0.0, \"recall\": 0.0}, {\"count\": 3, \"cutoff\": 10, \"userId\": 158, \"precision\": 0.0, \"recall\": 0.0}, {\"count\": 3, \"cutoff\": 11, \"userId\": 158, \"precision\": 0.0, \"recall\": 0.0}, {\"count\": 3, \"cutoff\": 16, \"userId\": 158, \"precision\": 0.0, \"recall\": 0.0}, {\"count\": 3, \"cutoff\": 21, \"userId\": 158, \"precision\": 0.0, \"recall\": 0.0}, {\"count\": 3, \"cutoff\": 26, \"userId\": 158, \"precision\": 0.0, \"recall\": 0.0}, {\"count\": 3, \"cutoff\": 31, \"userId\": 158, \"precision\": 0.0, \"recall\": 0.0}, {\"count\": 3, \"cutoff\": 36, \"userId\": 158, \"precision\": 0.0, \"recall\": 0.0}, {\"count\": 3, \"cutoff\": 41, \"userId\": 158, \"precision\": 0.0, \"recall\": 0.0}, {\"count\": 3, \"cutoff\": 46, \"userId\": 158, \"precision\": 0.0, \"recall\": 0.0}, {\"count\": 22, \"cutoff\": 1, \"userId\": 160, \"precision\": 0.0, \"recall\": 0.0}, {\"count\": 22, \"cutoff\": 2, \"userId\": 160, \"precision\": 0.0, \"recall\": 0.0}, {\"count\": 22, \"cutoff\": 3, \"userId\": 160, \"precision\": 0.0, \"recall\": 0.0}, {\"count\": 22, \"cutoff\": 4, \"userId\": 160, \"precision\": 0.0, \"recall\": 0.0}, {\"count\": 22, \"cutoff\": 5, \"userId\": 160, \"precision\": 0.0, \"recall\": 0.0}, {\"count\": 22, \"cutoff\": 6, \"userId\": 160, \"precision\": 0.0, \"recall\": 0.0}, {\"count\": 22, \"cutoff\": 7, \"userId\": 160, \"precision\": 0.0, \"recall\": 0.0}, {\"count\": 22, \"cutoff\": 8, \"userId\": 160, \"precision\": 0.0, \"recall\": 0.0}, {\"count\": 22, \"cutoff\": 9, \"userId\": 160, \"precision\": 0.0, \"recall\": 0.0}, {\"count\": 22, \"cutoff\": 10, \"userId\": 160, \"precision\": 0.0, \"recall\": 0.0}, {\"count\": 22, \"cutoff\": 11, \"userId\": 160, \"precision\": 0.0, \"recall\": 0.0}, {\"count\": 22, \"cutoff\": 16, \"userId\": 160, \"precision\": 0.0625, \"recall\": 0.045454545454545456}, {\"count\": 22, \"cutoff\": 21, \"userId\": 160, \"precision\": 0.047619047619047616, \"recall\": 0.045454545454545456}, {\"count\": 22, \"cutoff\": 26, \"userId\": 160, \"precision\": 0.038461538461538464, \"recall\": 0.045454545454545456}, {\"count\": 22, \"cutoff\": 31, \"userId\": 160, \"precision\": 0.03225806451612903, \"recall\": 0.045454545454545456}, {\"count\": 22, \"cutoff\": 36, \"userId\": 160, \"precision\": 0.05555555555555555, \"recall\": 0.09090909090909091}, {\"count\": 22, \"cutoff\": 41, \"userId\": 160, \"precision\": 0.04878048780487805, \"recall\": 0.09090909090909091}, {\"count\": 22, \"cutoff\": 46, \"userId\": 160, \"precision\": 0.043478260869565216, \"recall\": 0.09090909090909091}, {\"count\": 20, \"cutoff\": 1, \"userId\": 169, \"precision\": 0.0, \"recall\": 0.0}, {\"count\": 20, \"cutoff\": 2, \"userId\": 169, \"precision\": 0.0, \"recall\": 0.0}, {\"count\": 20, \"cutoff\": 3, \"userId\": 169, \"precision\": 0.0, \"recall\": 0.0}, {\"count\": 20, \"cutoff\": 4, \"userId\": 169, \"precision\": 0.0, \"recall\": 0.0}, {\"count\": 20, \"cutoff\": 5, \"userId\": 169, \"precision\": 0.0, \"recall\": 0.0}, {\"count\": 20, \"cutoff\": 6, \"userId\": 169, \"precision\": 0.0, \"recall\": 0.0}, {\"count\": 20, \"cutoff\": 7, \"userId\": 169, \"precision\": 0.0, \"recall\": 0.0}, {\"count\": 20, \"cutoff\": 8, \"userId\": 169, \"precision\": 0.0, \"recall\": 0.0}, {\"count\": 20, \"cutoff\": 9, \"userId\": 169, \"precision\": 0.0, \"recall\": 0.0}, {\"count\": 20, \"cutoff\": 10, \"userId\": 169, \"precision\": 0.0, \"recall\": 0.0}, {\"count\": 20, \"cutoff\": 11, \"userId\": 169, \"precision\": 0.0, \"recall\": 0.0}, {\"count\": 20, \"cutoff\": 16, \"userId\": 169, \"precision\": 0.0, \"recall\": 0.0}, {\"count\": 20, \"cutoff\": 21, \"userId\": 169, \"precision\": 0.047619047619047616, \"recall\": 0.05}, {\"count\": 20, \"cutoff\": 26, \"userId\": 169, \"precision\": 0.038461538461538464, \"recall\": 0.05}, {\"count\": 20, \"cutoff\": 31, \"userId\": 169, \"precision\": 0.06451612903225806, \"recall\": 0.1}, {\"count\": 20, \"cutoff\": 36, \"userId\": 169, \"precision\": 0.05555555555555555, \"recall\": 0.1}, {\"count\": 20, \"cutoff\": 41, \"userId\": 169, \"precision\": 0.04878048780487805, \"recall\": 0.1}, {\"count\": 20, \"cutoff\": 46, \"userId\": 169, \"precision\": 0.043478260869565216, \"recall\": 0.1}, {\"count\": 47, \"cutoff\": 1, \"userId\": 176, \"precision\": 0.0, \"recall\": 0.0}, {\"count\": 47, \"cutoff\": 2, \"userId\": 176, \"precision\": 0.0, \"recall\": 0.0}, {\"count\": 47, \"cutoff\": 3, \"userId\": 176, \"precision\": 0.0, \"recall\": 0.0}, {\"count\": 47, \"cutoff\": 4, \"userId\": 176, \"precision\": 0.0, \"recall\": 0.0}, {\"count\": 47, \"cutoff\": 5, \"userId\": 176, \"precision\": 0.0, \"recall\": 0.0}, {\"count\": 47, \"cutoff\": 6, \"userId\": 176, \"precision\": 0.0, \"recall\": 0.0}, {\"count\": 47, \"cutoff\": 7, \"userId\": 176, \"precision\": 0.14285714285714285, \"recall\": 0.02127659574468085}, {\"count\": 47, \"cutoff\": 8, \"userId\": 176, \"precision\": 0.125, \"recall\": 0.02127659574468085}, {\"count\": 47, \"cutoff\": 9, \"userId\": 176, \"precision\": 0.1111111111111111, \"recall\": 0.02127659574468085}, {\"count\": 47, \"cutoff\": 10, \"userId\": 176, \"precision\": 0.1, \"recall\": 0.02127659574468085}, {\"count\": 47, \"cutoff\": 11, \"userId\": 176, \"precision\": 0.09090909090909091, \"recall\": 0.02127659574468085}, {\"count\": 47, \"cutoff\": 16, \"userId\": 176, \"precision\": 0.0625, \"recall\": 0.02127659574468085}, {\"count\": 47, \"cutoff\": 21, \"userId\": 176, \"precision\": 0.047619047619047616, \"recall\": 0.02127659574468085}, {\"count\": 47, \"cutoff\": 26, \"userId\": 176, \"precision\": 0.038461538461538464, \"recall\": 0.02127659574468085}, {\"count\": 47, \"cutoff\": 31, \"userId\": 176, \"precision\": 0.06451612903225806, \"recall\": 0.0425531914893617}, {\"count\": 47, \"cutoff\": 36, \"userId\": 176, \"precision\": 0.05555555555555555, \"recall\": 0.0425531914893617}, {\"count\": 47, \"cutoff\": 41, \"userId\": 176, \"precision\": 0.04878048780487805, \"recall\": 0.0425531914893617}, {\"count\": 47, \"cutoff\": 46, \"userId\": 176, \"precision\": 0.043478260869565216, \"recall\": 0.0425531914893617}, {\"count\": 8, \"cutoff\": 1, \"userId\": 179, \"precision\": 0.0, \"recall\": 0.0}, {\"count\": 8, \"cutoff\": 2, \"userId\": 179, \"precision\": 0.0, \"recall\": 0.0}, {\"count\": 8, \"cutoff\": 3, \"userId\": 179, \"precision\": 0.0, \"recall\": 0.0}, {\"count\": 8, \"cutoff\": 4, \"userId\": 179, \"precision\": 0.0, \"recall\": 0.0}, {\"count\": 8, \"cutoff\": 5, \"userId\": 179, \"precision\": 0.0, \"recall\": 0.0}, {\"count\": 8, \"cutoff\": 6, \"userId\": 179, \"precision\": 0.0, \"recall\": 0.0}, {\"count\": 8, \"cutoff\": 7, \"userId\": 179, \"precision\": 0.0, \"recall\": 0.0}, {\"count\": 8, \"cutoff\": 8, \"userId\": 179, \"precision\": 0.0, \"recall\": 0.0}, {\"count\": 8, \"cutoff\": 9, \"userId\": 179, \"precision\": 0.0, \"recall\": 0.0}, {\"count\": 8, \"cutoff\": 10, \"userId\": 179, \"precision\": 0.0, \"recall\": 0.0}, {\"count\": 8, \"cutoff\": 11, \"userId\": 179, \"precision\": 0.0, \"recall\": 0.0}, {\"count\": 8, \"cutoff\": 16, \"userId\": 179, \"precision\": 0.0, \"recall\": 0.0}, {\"count\": 8, \"cutoff\": 21, \"userId\": 179, \"precision\": 0.0, \"recall\": 0.0}, {\"count\": 8, \"cutoff\": 26, \"userId\": 179, \"precision\": 0.0, \"recall\": 0.0}, {\"count\": 8, \"cutoff\": 31, \"userId\": 179, \"precision\": 0.0, \"recall\": 0.0}, {\"count\": 8, \"cutoff\": 36, \"userId\": 179, \"precision\": 0.0, \"recall\": 0.0}, {\"count\": 8, \"cutoff\": 41, \"userId\": 179, \"precision\": 0.0, \"recall\": 0.0}, {\"count\": 8, \"cutoff\": 46, \"userId\": 179, \"precision\": 0.0, \"recall\": 0.0}, {\"count\": 6, \"cutoff\": 1, \"userId\": 180, \"precision\": 0.0, \"recall\": 0.0}, {\"count\": 6, \"cutoff\": 2, \"userId\": 180, \"precision\": 0.0, \"recall\": 0.0}, {\"count\": 6, \"cutoff\": 3, \"userId\": 180, \"precision\": 0.0, \"recall\": 0.0}, {\"count\": 6, \"cutoff\": 4, \"userId\": 180, \"precision\": 0.0, \"recall\": 0.0}, {\"count\": 6, \"cutoff\": 5, \"userId\": 180, \"precision\": 0.0, \"recall\": 0.0}, {\"count\": 6, \"cutoff\": 6, \"userId\": 180, \"precision\": 0.0, \"recall\": 0.0}, {\"count\": 6, \"cutoff\": 7, \"userId\": 180, \"precision\": 0.0, \"recall\": 0.0}, {\"count\": 6, \"cutoff\": 8, \"userId\": 180, \"precision\": 0.0, \"recall\": 0.0}, {\"count\": 6, \"cutoff\": 9, \"userId\": 180, \"precision\": 0.0, \"recall\": 0.0}, {\"count\": 6, \"cutoff\": 10, \"userId\": 180, \"precision\": 0.0, \"recall\": 0.0}, {\"count\": 6, \"cutoff\": 11, \"userId\": 180, \"precision\": 0.0, \"recall\": 0.0}, {\"count\": 6, \"cutoff\": 16, \"userId\": 180, \"precision\": 0.0625, \"recall\": 0.16666666666666666}, {\"count\": 6, \"cutoff\": 21, \"userId\": 180, \"precision\": 0.047619047619047616, \"recall\": 0.16666666666666666}, {\"count\": 6, \"cutoff\": 26, \"userId\": 180, \"precision\": 0.038461538461538464, \"recall\": 0.16666666666666666}, {\"count\": 6, \"cutoff\": 31, \"userId\": 180, \"precision\": 0.03225806451612903, \"recall\": 0.16666666666666666}, {\"count\": 6, \"cutoff\": 36, \"userId\": 180, \"precision\": 0.027777777777777776, \"recall\": 0.16666666666666666}, {\"count\": 6, \"cutoff\": 41, \"userId\": 180, \"precision\": 0.024390243902439025, \"recall\": 0.16666666666666666}, {\"count\": 6, \"cutoff\": 46, \"userId\": 180, \"precision\": 0.021739130434782608, \"recall\": 0.16666666666666666}, {\"count\": 5, \"cutoff\": 1, \"userId\": 181, \"precision\": 0.0, \"recall\": 0.0}, {\"count\": 5, \"cutoff\": 2, \"userId\": 181, \"precision\": 0.0, \"recall\": 0.0}, {\"count\": 5, \"cutoff\": 3, \"userId\": 181, \"precision\": 0.3333333333333333, \"recall\": 0.2}, {\"count\": 5, \"cutoff\": 4, \"userId\": 181, \"precision\": 0.25, \"recall\": 0.2}, {\"count\": 5, \"cutoff\": 5, \"userId\": 181, \"precision\": 0.2, \"recall\": 0.2}, {\"count\": 5, \"cutoff\": 6, \"userId\": 181, \"precision\": 0.16666666666666666, \"recall\": 0.2}, {\"count\": 5, \"cutoff\": 7, \"userId\": 181, \"precision\": 0.14285714285714285, \"recall\": 0.2}, {\"count\": 5, \"cutoff\": 8, \"userId\": 181, \"precision\": 0.125, \"recall\": 0.2}, {\"count\": 5, \"cutoff\": 9, \"userId\": 181, \"precision\": 0.1111111111111111, \"recall\": 0.2}, {\"count\": 5, \"cutoff\": 10, \"userId\": 181, \"precision\": 0.1, \"recall\": 0.2}, {\"count\": 5, \"cutoff\": 11, \"userId\": 181, \"precision\": 0.09090909090909091, \"recall\": 0.2}, {\"count\": 5, \"cutoff\": 16, \"userId\": 181, \"precision\": 0.0625, \"recall\": 0.2}, {\"count\": 5, \"cutoff\": 21, \"userId\": 181, \"precision\": 0.047619047619047616, \"recall\": 0.2}, {\"count\": 5, \"cutoff\": 26, \"userId\": 181, \"precision\": 0.038461538461538464, \"recall\": 0.2}, {\"count\": 5, \"cutoff\": 31, \"userId\": 181, \"precision\": 0.03225806451612903, \"recall\": 0.2}, {\"count\": 5, \"cutoff\": 36, \"userId\": 181, \"precision\": 0.027777777777777776, \"recall\": 0.2}, {\"count\": 5, \"cutoff\": 41, \"userId\": 181, \"precision\": 0.024390243902439025, \"recall\": 0.2}, {\"count\": 5, \"cutoff\": 46, \"userId\": 181, \"precision\": 0.021739130434782608, \"recall\": 0.2}, {\"count\": 36, \"cutoff\": 1, \"userId\": 185, \"precision\": 1.0, \"recall\": 0.027777777777777776}, {\"count\": 36, \"cutoff\": 2, \"userId\": 185, \"precision\": 0.5, \"recall\": 0.027777777777777776}, {\"count\": 36, \"cutoff\": 3, \"userId\": 185, \"precision\": 0.6666666666666666, \"recall\": 0.05555555555555555}, {\"count\": 36, \"cutoff\": 4, \"userId\": 185, \"precision\": 0.5, \"recall\": 0.05555555555555555}, {\"count\": 36, \"cutoff\": 5, \"userId\": 185, \"precision\": 0.6, \"recall\": 0.08333333333333333}, {\"count\": 36, \"cutoff\": 6, \"userId\": 185, \"precision\": 0.6666666666666666, \"recall\": 0.1111111111111111}, {\"count\": 36, \"cutoff\": 7, \"userId\": 185, \"precision\": 0.5714285714285714, \"recall\": 0.1111111111111111}, {\"count\": 36, \"cutoff\": 8, \"userId\": 185, \"precision\": 0.5, \"recall\": 0.1111111111111111}, {\"count\": 36, \"cutoff\": 9, \"userId\": 185, \"precision\": 0.4444444444444444, \"recall\": 0.1111111111111111}, {\"count\": 36, \"cutoff\": 10, \"userId\": 185, \"precision\": 0.4, \"recall\": 0.1111111111111111}, {\"count\": 36, \"cutoff\": 11, \"userId\": 185, \"precision\": 0.36363636363636365, \"recall\": 0.1111111111111111}, {\"count\": 36, \"cutoff\": 16, \"userId\": 185, \"precision\": 0.25, \"recall\": 0.1111111111111111}, {\"count\": 36, \"cutoff\": 21, \"userId\": 185, \"precision\": 0.23809523809523808, \"recall\": 0.1388888888888889}, {\"count\": 36, \"cutoff\": 26, \"userId\": 185, \"precision\": 0.19230769230769232, \"recall\": 0.1388888888888889}, {\"count\": 36, \"cutoff\": 31, \"userId\": 185, \"precision\": 0.16129032258064516, \"recall\": 0.1388888888888889}, {\"count\": 36, \"cutoff\": 36, \"userId\": 185, \"precision\": 0.19444444444444445, \"recall\": 0.19444444444444445}, {\"count\": 36, \"cutoff\": 41, \"userId\": 185, \"precision\": 0.1951219512195122, \"recall\": 0.2222222222222222}, {\"count\": 36, \"cutoff\": 46, \"userId\": 185, \"precision\": 0.17391304347826086, \"recall\": 0.2222222222222222}, {\"count\": 64, \"cutoff\": 1, \"userId\": 187, \"precision\": 1.0, \"recall\": 0.015625}, {\"count\": 64, \"cutoff\": 2, \"userId\": 187, \"precision\": 0.5, \"recall\": 0.015625}, {\"count\": 64, \"cutoff\": 3, \"userId\": 187, \"precision\": 0.3333333333333333, \"recall\": 0.015625}, {\"count\": 64, \"cutoff\": 4, \"userId\": 187, \"precision\": 0.25, \"recall\": 0.015625}, {\"count\": 64, \"cutoff\": 5, \"userId\": 187, \"precision\": 0.2, \"recall\": 0.015625}, {\"count\": 64, \"cutoff\": 6, \"userId\": 187, \"precision\": 0.16666666666666666, \"recall\": 0.015625}, {\"count\": 64, \"cutoff\": 7, \"userId\": 187, \"precision\": 0.14285714285714285, \"recall\": 0.015625}, {\"count\": 64, \"cutoff\": 8, \"userId\": 187, \"precision\": 0.125, \"recall\": 0.015625}, {\"count\": 64, \"cutoff\": 9, \"userId\": 187, \"precision\": 0.1111111111111111, \"recall\": 0.015625}, {\"count\": 64, \"cutoff\": 10, \"userId\": 187, \"precision\": 0.1, \"recall\": 0.015625}, {\"count\": 64, \"cutoff\": 11, \"userId\": 187, \"precision\": 0.09090909090909091, \"recall\": 0.015625}, {\"count\": 64, \"cutoff\": 16, \"userId\": 187, \"precision\": 0.0625, \"recall\": 0.015625}, {\"count\": 64, \"cutoff\": 21, \"userId\": 187, \"precision\": 0.14285714285714285, \"recall\": 0.046875}, {\"count\": 64, \"cutoff\": 26, \"userId\": 187, \"precision\": 0.15384615384615385, \"recall\": 0.0625}, {\"count\": 64, \"cutoff\": 31, \"userId\": 187, \"precision\": 0.12903225806451613, \"recall\": 0.0625}, {\"count\": 64, \"cutoff\": 36, \"userId\": 187, \"precision\": 0.1111111111111111, \"recall\": 0.0625}, {\"count\": 64, \"cutoff\": 41, \"userId\": 187, \"precision\": 0.0975609756097561, \"recall\": 0.0625}, {\"count\": 64, \"cutoff\": 46, \"userId\": 187, \"precision\": 0.10869565217391304, \"recall\": 0.078125}, {\"count\": 21, \"cutoff\": 1, \"userId\": 193, \"precision\": 0.0, \"recall\": 0.0}, {\"count\": 21, \"cutoff\": 2, \"userId\": 193, \"precision\": 0.5, \"recall\": 0.047619047619047616}, {\"count\": 21, \"cutoff\": 3, \"userId\": 193, \"precision\": 0.3333333333333333, \"recall\": 0.047619047619047616}, {\"count\": 21, \"cutoff\": 4, \"userId\": 193, \"precision\": 0.5, \"recall\": 0.09523809523809523}, {\"count\": 21, \"cutoff\": 5, \"userId\": 193, \"precision\": 0.6, \"recall\": 0.14285714285714285}, {\"count\": 21, \"cutoff\": 6, \"userId\": 193, \"precision\": 0.5, \"recall\": 0.14285714285714285}, {\"count\": 21, \"cutoff\": 7, \"userId\": 193, \"precision\": 0.5714285714285714, \"recall\": 0.19047619047619047}, {\"count\": 21, \"cutoff\": 8, \"userId\": 193, \"precision\": 0.5, \"recall\": 0.19047619047619047}, {\"count\": 21, \"cutoff\": 9, \"userId\": 193, \"precision\": 0.4444444444444444, \"recall\": 0.19047619047619047}, {\"count\": 21, \"cutoff\": 10, \"userId\": 193, \"precision\": 0.4, \"recall\": 0.19047619047619047}, {\"count\": 21, \"cutoff\": 11, \"userId\": 193, \"precision\": 0.45454545454545453, \"recall\": 0.23809523809523808}, {\"count\": 21, \"cutoff\": 16, \"userId\": 193, \"precision\": 0.3125, \"recall\": 0.23809523809523808}, {\"count\": 21, \"cutoff\": 21, \"userId\": 193, \"precision\": 0.23809523809523808, \"recall\": 0.23809523809523808}, {\"count\": 21, \"cutoff\": 26, \"userId\": 193, \"precision\": 0.23076923076923078, \"recall\": 0.2857142857142857}, {\"count\": 21, \"cutoff\": 31, \"userId\": 193, \"precision\": 0.1935483870967742, \"recall\": 0.2857142857142857}, {\"count\": 21, \"cutoff\": 36, \"userId\": 193, \"precision\": 0.16666666666666666, \"recall\": 0.2857142857142857}, {\"count\": 21, \"cutoff\": 41, \"userId\": 193, \"precision\": 0.17073170731707318, \"recall\": 0.3333333333333333}, {\"count\": 21, \"cutoff\": 46, \"userId\": 193, \"precision\": 0.17391304347826086, \"recall\": 0.38095238095238093}, {\"count\": 21, \"cutoff\": 1, \"userId\": 197, \"precision\": 0.0, \"recall\": 0.0}, {\"count\": 21, \"cutoff\": 2, \"userId\": 197, \"precision\": 0.0, \"recall\": 0.0}, {\"count\": 21, \"cutoff\": 3, \"userId\": 197, \"precision\": 0.0, \"recall\": 0.0}, {\"count\": 21, \"cutoff\": 4, \"userId\": 197, \"precision\": 0.0, \"recall\": 0.0}, {\"count\": 21, \"cutoff\": 5, \"userId\": 197, \"precision\": 0.0, \"recall\": 0.0}, {\"count\": 21, \"cutoff\": 6, \"userId\": 197, \"precision\": 0.0, \"recall\": 0.0}, {\"count\": 21, \"cutoff\": 7, \"userId\": 197, \"precision\": 0.14285714285714285, \"recall\": 0.047619047619047616}, {\"count\": 21, \"cutoff\": 8, \"userId\": 197, \"precision\": 0.125, \"recall\": 0.047619047619047616}, {\"count\": 21, \"cutoff\": 9, \"userId\": 197, \"precision\": 0.1111111111111111, \"recall\": 0.047619047619047616}, {\"count\": 21, \"cutoff\": 10, \"userId\": 197, \"precision\": 0.1, \"recall\": 0.047619047619047616}, {\"count\": 21, \"cutoff\": 11, \"userId\": 197, \"precision\": 0.18181818181818182, \"recall\": 0.09523809523809523}, {\"count\": 21, \"cutoff\": 16, \"userId\": 197, \"precision\": 0.1875, \"recall\": 0.14285714285714285}, {\"count\": 21, \"cutoff\": 21, \"userId\": 197, \"precision\": 0.14285714285714285, \"recall\": 0.14285714285714285}, {\"count\": 21, \"cutoff\": 26, \"userId\": 197, \"precision\": 0.11538461538461539, \"recall\": 0.14285714285714285}, {\"count\": 21, \"cutoff\": 31, \"userId\": 197, \"precision\": 0.0967741935483871, \"recall\": 0.14285714285714285}, {\"count\": 21, \"cutoff\": 36, \"userId\": 197, \"precision\": 0.08333333333333333, \"recall\": 0.14285714285714285}, {\"count\": 21, \"cutoff\": 41, \"userId\": 197, \"precision\": 0.0975609756097561, \"recall\": 0.19047619047619047}, {\"count\": 21, \"cutoff\": 46, \"userId\": 197, \"precision\": 0.08695652173913043, \"recall\": 0.19047619047619047}, {\"count\": 50, \"cutoff\": 1, \"userId\": 200, \"precision\": 0.0, \"recall\": 0.0}, {\"count\": 50, \"cutoff\": 2, \"userId\": 200, \"precision\": 0.0, \"recall\": 0.0}, {\"count\": 50, \"cutoff\": 3, \"userId\": 200, \"precision\": 0.0, \"recall\": 0.0}, {\"count\": 50, \"cutoff\": 4, \"userId\": 200, \"precision\": 0.0, \"recall\": 0.0}, {\"count\": 50, \"cutoff\": 5, \"userId\": 200, \"precision\": 0.0, \"recall\": 0.0}, {\"count\": 50, \"cutoff\": 6, \"userId\": 200, \"precision\": 0.0, \"recall\": 0.0}, {\"count\": 50, \"cutoff\": 7, \"userId\": 200, \"precision\": 0.0, \"recall\": 0.0}, {\"count\": 50, \"cutoff\": 8, \"userId\": 200, \"precision\": 0.0, \"recall\": 0.0}, {\"count\": 50, \"cutoff\": 9, \"userId\": 200, \"precision\": 0.0, \"recall\": 0.0}, {\"count\": 50, \"cutoff\": 10, \"userId\": 200, \"precision\": 0.0, \"recall\": 0.0}, {\"count\": 50, \"cutoff\": 11, \"userId\": 200, \"precision\": 0.0, \"recall\": 0.0}, {\"count\": 50, \"cutoff\": 16, \"userId\": 200, \"precision\": 0.0, \"recall\": 0.0}, {\"count\": 50, \"cutoff\": 21, \"userId\": 200, \"precision\": 0.0, \"recall\": 0.0}, {\"count\": 50, \"cutoff\": 26, \"userId\": 200, \"precision\": 0.038461538461538464, \"recall\": 0.02}, {\"count\": 50, \"cutoff\": 31, \"userId\": 200, \"precision\": 0.03225806451612903, \"recall\": 0.02}, {\"count\": 50, \"cutoff\": 36, \"userId\": 200, \"precision\": 0.027777777777777776, \"recall\": 0.02}, {\"count\": 50, \"cutoff\": 41, \"userId\": 200, \"precision\": 0.024390243902439025, \"recall\": 0.02}, {\"count\": 50, \"cutoff\": 46, \"userId\": 200, \"precision\": 0.021739130434782608, \"recall\": 0.02}, {\"count\": 16, \"cutoff\": 1, \"userId\": 202, \"precision\": 0.0, \"recall\": 0.0}, {\"count\": 16, \"cutoff\": 2, \"userId\": 202, \"precision\": 0.0, \"recall\": 0.0}, {\"count\": 16, \"cutoff\": 3, \"userId\": 202, \"precision\": 0.0, \"recall\": 0.0}, {\"count\": 16, \"cutoff\": 4, \"userId\": 202, \"precision\": 0.0, \"recall\": 0.0}, {\"count\": 16, \"cutoff\": 5, \"userId\": 202, \"precision\": 0.0, \"recall\": 0.0}, {\"count\": 16, \"cutoff\": 6, \"userId\": 202, \"precision\": 0.0, \"recall\": 0.0}, {\"count\": 16, \"cutoff\": 7, \"userId\": 202, \"precision\": 0.0, \"recall\": 0.0}, {\"count\": 16, \"cutoff\": 8, \"userId\": 202, \"precision\": 0.0, \"recall\": 0.0}, {\"count\": 16, \"cutoff\": 9, \"userId\": 202, \"precision\": 0.0, \"recall\": 0.0}, {\"count\": 16, \"cutoff\": 10, \"userId\": 202, \"precision\": 0.0, \"recall\": 0.0}, {\"count\": 16, \"cutoff\": 11, \"userId\": 202, \"precision\": 0.0, \"recall\": 0.0}, {\"count\": 16, \"cutoff\": 16, \"userId\": 202, \"precision\": 0.0, \"recall\": 0.0}, {\"count\": 16, \"cutoff\": 21, \"userId\": 202, \"precision\": 0.047619047619047616, \"recall\": 0.0625}, {\"count\": 16, \"cutoff\": 26, \"userId\": 202, \"precision\": 0.038461538461538464, \"recall\": 0.0625}, {\"count\": 16, \"cutoff\": 31, \"userId\": 202, \"precision\": 0.03225806451612903, \"recall\": 0.0625}, {\"count\": 16, \"cutoff\": 36, \"userId\": 202, \"precision\": 0.027777777777777776, \"recall\": 0.0625}, {\"count\": 16, \"cutoff\": 41, \"userId\": 202, \"precision\": 0.024390243902439025, \"recall\": 0.0625}, {\"count\": 16, \"cutoff\": 46, \"userId\": 202, \"precision\": 0.021739130434782608, \"recall\": 0.0625}, {\"count\": 6, \"cutoff\": 1, \"userId\": 203, \"precision\": 1.0, \"recall\": 0.16666666666666666}, {\"count\": 6, \"cutoff\": 2, \"userId\": 203, \"precision\": 0.5, \"recall\": 0.16666666666666666}, {\"count\": 6, \"cutoff\": 3, \"userId\": 203, \"precision\": 0.3333333333333333, \"recall\": 0.16666666666666666}, {\"count\": 6, \"cutoff\": 4, \"userId\": 203, \"precision\": 0.25, \"recall\": 0.16666666666666666}, {\"count\": 6, \"cutoff\": 5, \"userId\": 203, \"precision\": 0.2, \"recall\": 0.16666666666666666}, {\"count\": 6, \"cutoff\": 6, \"userId\": 203, \"precision\": 0.16666666666666666, \"recall\": 0.16666666666666666}, {\"count\": 6, \"cutoff\": 7, \"userId\": 203, \"precision\": 0.14285714285714285, \"recall\": 0.16666666666666666}, {\"count\": 6, \"cutoff\": 8, \"userId\": 203, \"precision\": 0.125, \"recall\": 0.16666666666666666}, {\"count\": 6, \"cutoff\": 9, \"userId\": 203, \"precision\": 0.1111111111111111, \"recall\": 0.16666666666666666}, {\"count\": 6, \"cutoff\": 10, \"userId\": 203, \"precision\": 0.1, \"recall\": 0.16666666666666666}, {\"count\": 6, \"cutoff\": 11, \"userId\": 203, \"precision\": 0.09090909090909091, \"recall\": 0.16666666666666666}, {\"count\": 6, \"cutoff\": 16, \"userId\": 203, \"precision\": 0.0625, \"recall\": 0.16666666666666666}, {\"count\": 6, \"cutoff\": 21, \"userId\": 203, \"precision\": 0.047619047619047616, \"recall\": 0.16666666666666666}, {\"count\": 6, \"cutoff\": 26, \"userId\": 203, \"precision\": 0.038461538461538464, \"recall\": 0.16666666666666666}, {\"count\": 6, \"cutoff\": 31, \"userId\": 203, \"precision\": 0.03225806451612903, \"recall\": 0.16666666666666666}, {\"count\": 6, \"cutoff\": 36, \"userId\": 203, \"precision\": 0.027777777777777776, \"recall\": 0.16666666666666666}, {\"count\": 6, \"cutoff\": 41, \"userId\": 203, \"precision\": 0.024390243902439025, \"recall\": 0.16666666666666666}, {\"count\": 6, \"cutoff\": 46, \"userId\": 203, \"precision\": 0.021739130434782608, \"recall\": 0.16666666666666666}, {\"count\": 11, \"cutoff\": 1, \"userId\": 207, \"precision\": 0.0, \"recall\": 0.0}, {\"count\": 11, \"cutoff\": 2, \"userId\": 207, \"precision\": 0.0, \"recall\": 0.0}, {\"count\": 11, \"cutoff\": 3, \"userId\": 207, \"precision\": 0.0, \"recall\": 0.0}, {\"count\": 11, \"cutoff\": 4, \"userId\": 207, \"precision\": 0.0, \"recall\": 0.0}, {\"count\": 11, \"cutoff\": 5, \"userId\": 207, \"precision\": 0.0, \"recall\": 0.0}, {\"count\": 11, \"cutoff\": 6, \"userId\": 207, \"precision\": 0.16666666666666666, \"recall\": 0.09090909090909091}, {\"count\": 11, \"cutoff\": 7, \"userId\": 207, \"precision\": 0.14285714285714285, \"recall\": 0.09090909090909091}, {\"count\": 11, \"cutoff\": 8, \"userId\": 207, \"precision\": 0.125, \"recall\": 0.09090909090909091}, {\"count\": 11, \"cutoff\": 9, \"userId\": 207, \"precision\": 0.1111111111111111, \"recall\": 0.09090909090909091}, {\"count\": 11, \"cutoff\": 10, \"userId\": 207, \"precision\": 0.1, \"recall\": 0.09090909090909091}, {\"count\": 11, \"cutoff\": 11, \"userId\": 207, \"precision\": 0.09090909090909091, \"recall\": 0.09090909090909091}, {\"count\": 11, \"cutoff\": 16, \"userId\": 207, \"precision\": 0.0625, \"recall\": 0.09090909090909091}, {\"count\": 11, \"cutoff\": 21, \"userId\": 207, \"precision\": 0.047619047619047616, \"recall\": 0.09090909090909091}, {\"count\": 11, \"cutoff\": 26, \"userId\": 207, \"precision\": 0.038461538461538464, \"recall\": 0.09090909090909091}, {\"count\": 11, \"cutoff\": 31, \"userId\": 207, \"precision\": 0.03225806451612903, \"recall\": 0.09090909090909091}, {\"count\": 11, \"cutoff\": 36, \"userId\": 207, \"precision\": 0.027777777777777776, \"recall\": 0.09090909090909091}, {\"count\": 11, \"cutoff\": 41, \"userId\": 207, \"precision\": 0.024390243902439025, \"recall\": 0.09090909090909091}, {\"count\": 11, \"cutoff\": 46, \"userId\": 207, \"precision\": 0.021739130434782608, \"recall\": 0.09090909090909091}, {\"count\": 12, \"cutoff\": 1, \"userId\": 228, \"precision\": 0.0, \"recall\": 0.0}, {\"count\": 12, \"cutoff\": 2, \"userId\": 228, \"precision\": 0.0, \"recall\": 0.0}, {\"count\": 12, \"cutoff\": 3, \"userId\": 228, \"precision\": 0.0, \"recall\": 0.0}, {\"count\": 12, \"cutoff\": 4, \"userId\": 228, \"precision\": 0.0, \"recall\": 0.0}, {\"count\": 12, \"cutoff\": 5, \"userId\": 228, \"precision\": 0.0, \"recall\": 0.0}, {\"count\": 12, \"cutoff\": 6, \"userId\": 228, \"precision\": 0.16666666666666666, \"recall\": 0.08333333333333333}, {\"count\": 12, \"cutoff\": 7, \"userId\": 228, \"precision\": 0.14285714285714285, \"recall\": 0.08333333333333333}, {\"count\": 12, \"cutoff\": 8, \"userId\": 228, \"precision\": 0.125, \"recall\": 0.08333333333333333}, {\"count\": 12, \"cutoff\": 9, \"userId\": 228, \"precision\": 0.1111111111111111, \"recall\": 0.08333333333333333}, {\"count\": 12, \"cutoff\": 10, \"userId\": 228, \"precision\": 0.2, \"recall\": 0.16666666666666666}, {\"count\": 12, \"cutoff\": 11, \"userId\": 228, \"precision\": 0.18181818181818182, \"recall\": 0.16666666666666666}, {\"count\": 12, \"cutoff\": 16, \"userId\": 228, \"precision\": 0.1875, \"recall\": 0.25}, {\"count\": 12, \"cutoff\": 21, \"userId\": 228, \"precision\": 0.14285714285714285, \"recall\": 0.25}, {\"count\": 12, \"cutoff\": 26, \"userId\": 228, \"precision\": 0.11538461538461539, \"recall\": 0.25}, {\"count\": 12, \"cutoff\": 31, \"userId\": 228, \"precision\": 0.0967741935483871, \"recall\": 0.25}, {\"count\": 12, \"cutoff\": 36, \"userId\": 228, \"precision\": 0.08333333333333333, \"recall\": 0.25}, {\"count\": 12, \"cutoff\": 41, \"userId\": 228, \"precision\": 0.07317073170731707, \"recall\": 0.25}, {\"count\": 12, \"cutoff\": 46, \"userId\": 228, \"precision\": 0.06521739130434782, \"recall\": 0.25}, {\"count\": 142, \"cutoff\": 1, \"userId\": 232, \"precision\": 0.0, \"recall\": 0.0}, {\"count\": 142, \"cutoff\": 2, \"userId\": 232, \"precision\": 0.5, \"recall\": 0.007042253521126761}, {\"count\": 142, \"cutoff\": 3, \"userId\": 232, \"precision\": 0.6666666666666666, \"recall\": 0.014084507042253521}, {\"count\": 142, \"cutoff\": 4, \"userId\": 232, \"precision\": 0.5, \"recall\": 0.014084507042253521}, {\"count\": 142, \"cutoff\": 5, \"userId\": 232, \"precision\": 0.4, \"recall\": 0.014084507042253521}, {\"count\": 142, \"cutoff\": 6, \"userId\": 232, \"precision\": 0.3333333333333333, \"recall\": 0.014084507042253521}, {\"count\": 142, \"cutoff\": 7, \"userId\": 232, \"precision\": 0.2857142857142857, \"recall\": 0.014084507042253521}, {\"count\": 142, \"cutoff\": 8, \"userId\": 232, \"precision\": 0.25, \"recall\": 0.014084507042253521}, {\"count\": 142, \"cutoff\": 9, \"userId\": 232, \"precision\": 0.2222222222222222, \"recall\": 0.014084507042253521}, {\"count\": 142, \"cutoff\": 10, \"userId\": 232, \"precision\": 0.2, \"recall\": 0.014084507042253521}, {\"count\": 142, \"cutoff\": 11, \"userId\": 232, \"precision\": 0.2727272727272727, \"recall\": 0.02112676056338028}, {\"count\": 142, \"cutoff\": 16, \"userId\": 232, \"precision\": 0.3125, \"recall\": 0.035211267605633804}, {\"count\": 142, \"cutoff\": 21, \"userId\": 232, \"precision\": 0.38095238095238093, \"recall\": 0.056338028169014086}, {\"count\": 142, \"cutoff\": 26, \"userId\": 232, \"precision\": 0.38461538461538464, \"recall\": 0.07042253521126761}, {\"count\": 142, \"cutoff\": 31, \"userId\": 232, \"precision\": 0.3225806451612903, \"recall\": 0.07042253521126761}, {\"count\": 142, \"cutoff\": 36, \"userId\": 232, \"precision\": 0.2777777777777778, \"recall\": 0.07042253521126761}, {\"count\": 142, \"cutoff\": 41, \"userId\": 232, \"precision\": 0.2682926829268293, \"recall\": 0.07746478873239436}, {\"count\": 142, \"cutoff\": 46, \"userId\": 232, \"precision\": 0.30434782608695654, \"recall\": 0.09859154929577464}, {\"count\": 9, \"cutoff\": 1, \"userId\": 241, \"precision\": 0.0, \"recall\": 0.0}, {\"count\": 9, \"cutoff\": 2, \"userId\": 241, \"precision\": 0.5, \"recall\": 0.1111111111111111}, {\"count\": 9, \"cutoff\": 3, \"userId\": 241, \"precision\": 0.3333333333333333, \"recall\": 0.1111111111111111}, {\"count\": 9, \"cutoff\": 4, \"userId\": 241, \"precision\": 0.25, \"recall\": 0.1111111111111111}, {\"count\": 9, \"cutoff\": 5, \"userId\": 241, \"precision\": 0.2, \"recall\": 0.1111111111111111}, {\"count\": 9, \"cutoff\": 6, \"userId\": 241, \"precision\": 0.16666666666666666, \"recall\": 0.1111111111111111}, {\"count\": 9, \"cutoff\": 7, \"userId\": 241, \"precision\": 0.14285714285714285, \"recall\": 0.1111111111111111}, {\"count\": 9, \"cutoff\": 8, \"userId\": 241, \"precision\": 0.125, \"recall\": 0.1111111111111111}, {\"count\": 9, \"cutoff\": 9, \"userId\": 241, \"precision\": 0.1111111111111111, \"recall\": 0.1111111111111111}, {\"count\": 9, \"cutoff\": 10, \"userId\": 241, \"precision\": 0.1, \"recall\": 0.1111111111111111}, {\"count\": 9, \"cutoff\": 11, \"userId\": 241, \"precision\": 0.09090909090909091, \"recall\": 0.1111111111111111}, {\"count\": 9, \"cutoff\": 16, \"userId\": 241, \"precision\": 0.0625, \"recall\": 0.1111111111111111}, {\"count\": 9, \"cutoff\": 21, \"userId\": 241, \"precision\": 0.047619047619047616, \"recall\": 0.1111111111111111}, {\"count\": 9, \"cutoff\": 26, \"userId\": 241, \"precision\": 0.038461538461538464, \"recall\": 0.1111111111111111}, {\"count\": 9, \"cutoff\": 31, \"userId\": 241, \"precision\": 0.03225806451612903, \"recall\": 0.1111111111111111}, {\"count\": 9, \"cutoff\": 36, \"userId\": 241, \"precision\": 0.027777777777777776, \"recall\": 0.1111111111111111}, {\"count\": 9, \"cutoff\": 41, \"userId\": 241, \"precision\": 0.024390243902439025, \"recall\": 0.1111111111111111}, {\"count\": 9, \"cutoff\": 46, \"userId\": 241, \"precision\": 0.043478260869565216, \"recall\": 0.2222222222222222}, {\"count\": 27, \"cutoff\": 1, \"userId\": 245, \"precision\": 0.0, \"recall\": 0.0}, {\"count\": 27, \"cutoff\": 2, \"userId\": 245, \"precision\": 0.5, \"recall\": 0.037037037037037035}, {\"count\": 27, \"cutoff\": 3, \"userId\": 245, \"precision\": 0.3333333333333333, \"recall\": 0.037037037037037035}, {\"count\": 27, \"cutoff\": 4, \"userId\": 245, \"precision\": 0.25, \"recall\": 0.037037037037037035}, {\"count\": 27, \"cutoff\": 5, \"userId\": 245, \"precision\": 0.2, \"recall\": 0.037037037037037035}, {\"count\": 27, \"cutoff\": 6, \"userId\": 245, \"precision\": 0.16666666666666666, \"recall\": 0.037037037037037035}, {\"count\": 27, \"cutoff\": 7, \"userId\": 245, \"precision\": 0.14285714285714285, \"recall\": 0.037037037037037035}, {\"count\": 27, \"cutoff\": 8, \"userId\": 245, \"precision\": 0.25, \"recall\": 0.07407407407407407}, {\"count\": 27, \"cutoff\": 9, \"userId\": 245, \"precision\": 0.2222222222222222, \"recall\": 0.07407407407407407}, {\"count\": 27, \"cutoff\": 10, \"userId\": 245, \"precision\": 0.2, \"recall\": 0.07407407407407407}, {\"count\": 27, \"cutoff\": 11, \"userId\": 245, \"precision\": 0.18181818181818182, \"recall\": 0.07407407407407407}, {\"count\": 27, \"cutoff\": 16, \"userId\": 245, \"precision\": 0.125, \"recall\": 0.07407407407407407}, {\"count\": 27, \"cutoff\": 21, \"userId\": 245, \"precision\": 0.14285714285714285, \"recall\": 0.1111111111111111}, {\"count\": 27, \"cutoff\": 26, \"userId\": 245, \"precision\": 0.11538461538461539, \"recall\": 0.1111111111111111}, {\"count\": 27, \"cutoff\": 31, \"userId\": 245, \"precision\": 0.0967741935483871, \"recall\": 0.1111111111111111}, {\"count\": 27, \"cutoff\": 36, \"userId\": 245, \"precision\": 0.1111111111111111, \"recall\": 0.14814814814814814}, {\"count\": 27, \"cutoff\": 41, \"userId\": 245, \"precision\": 0.0975609756097561, \"recall\": 0.14814814814814814}, {\"count\": 27, \"cutoff\": 46, \"userId\": 245, \"precision\": 0.08695652173913043, \"recall\": 0.14814814814814814}, {\"count\": 26, \"cutoff\": 1, \"userId\": 251, \"precision\": 0.0, \"recall\": 0.0}, {\"count\": 26, \"cutoff\": 2, \"userId\": 251, \"precision\": 0.0, \"recall\": 0.0}, {\"count\": 26, \"cutoff\": 3, \"userId\": 251, \"precision\": 0.0, \"recall\": 0.0}, {\"count\": 26, \"cutoff\": 4, \"userId\": 251, \"precision\": 0.0, \"recall\": 0.0}, {\"count\": 26, \"cutoff\": 5, \"userId\": 251, \"precision\": 0.0, \"recall\": 0.0}, {\"count\": 26, \"cutoff\": 6, \"userId\": 251, \"precision\": 0.0, \"recall\": 0.0}, {\"count\": 26, \"cutoff\": 7, \"userId\": 251, \"precision\": 0.0, \"recall\": 0.0}, {\"count\": 26, \"cutoff\": 8, \"userId\": 251, \"precision\": 0.0, \"recall\": 0.0}, {\"count\": 26, \"cutoff\": 9, \"userId\": 251, \"precision\": 0.0, \"recall\": 0.0}, {\"count\": 26, \"cutoff\": 10, \"userId\": 251, \"precision\": 0.0, \"recall\": 0.0}, {\"count\": 26, \"cutoff\": 11, \"userId\": 251, \"precision\": 0.0, \"recall\": 0.0}, {\"count\": 26, \"cutoff\": 16, \"userId\": 251, \"precision\": 0.125, \"recall\": 0.07692307692307693}, {\"count\": 26, \"cutoff\": 21, \"userId\": 251, \"precision\": 0.14285714285714285, \"recall\": 0.11538461538461539}, {\"count\": 26, \"cutoff\": 26, \"userId\": 251, \"precision\": 0.11538461538461539, \"recall\": 0.11538461538461539}, {\"count\": 26, \"cutoff\": 31, \"userId\": 251, \"precision\": 0.0967741935483871, \"recall\": 0.11538461538461539}, {\"count\": 26, \"cutoff\": 36, \"userId\": 251, \"precision\": 0.1111111111111111, \"recall\": 0.15384615384615385}, {\"count\": 26, \"cutoff\": 41, \"userId\": 251, \"precision\": 0.0975609756097561, \"recall\": 0.15384615384615385}, {\"count\": 26, \"cutoff\": 46, \"userId\": 251, \"precision\": 0.08695652173913043, \"recall\": 0.15384615384615385}, {\"count\": 28, \"cutoff\": 1, \"userId\": 254, \"precision\": 0.0, \"recall\": 0.0}, {\"count\": 28, \"cutoff\": 2, \"userId\": 254, \"precision\": 0.5, \"recall\": 0.03571428571428571}, {\"count\": 28, \"cutoff\": 3, \"userId\": 254, \"precision\": 0.3333333333333333, \"recall\": 0.03571428571428571}, {\"count\": 28, \"cutoff\": 4, \"userId\": 254, \"precision\": 0.25, \"recall\": 0.03571428571428571}, {\"count\": 28, \"cutoff\": 5, \"userId\": 254, \"precision\": 0.2, \"recall\": 0.03571428571428571}, {\"count\": 28, \"cutoff\": 6, \"userId\": 254, \"precision\": 0.16666666666666666, \"recall\": 0.03571428571428571}, {\"count\": 28, \"cutoff\": 7, \"userId\": 254, \"precision\": 0.14285714285714285, \"recall\": 0.03571428571428571}, {\"count\": 28, \"cutoff\": 8, \"userId\": 254, \"precision\": 0.125, \"recall\": 0.03571428571428571}, {\"count\": 28, \"cutoff\": 9, \"userId\": 254, \"precision\": 0.2222222222222222, \"recall\": 0.07142857142857142}, {\"count\": 28, \"cutoff\": 10, \"userId\": 254, \"precision\": 0.2, \"recall\": 0.07142857142857142}, {\"count\": 28, \"cutoff\": 11, \"userId\": 254, \"precision\": 0.18181818181818182, \"recall\": 0.07142857142857142}, {\"count\": 28, \"cutoff\": 16, \"userId\": 254, \"precision\": 0.125, \"recall\": 0.07142857142857142}, {\"count\": 28, \"cutoff\": 21, \"userId\": 254, \"precision\": 0.09523809523809523, \"recall\": 0.07142857142857142}, {\"count\": 28, \"cutoff\": 26, \"userId\": 254, \"precision\": 0.07692307692307693, \"recall\": 0.07142857142857142}, {\"count\": 28, \"cutoff\": 31, \"userId\": 254, \"precision\": 0.06451612903225806, \"recall\": 0.07142857142857142}, {\"count\": 28, \"cutoff\": 36, \"userId\": 254, \"precision\": 0.05555555555555555, \"recall\": 0.07142857142857142}, {\"count\": 28, \"cutoff\": 41, \"userId\": 254, \"precision\": 0.07317073170731707, \"recall\": 0.10714285714285714}, {\"count\": 28, \"cutoff\": 46, \"userId\": 254, \"precision\": 0.06521739130434782, \"recall\": 0.10714285714285714}, {\"count\": 5, \"cutoff\": 1, \"userId\": 256, \"precision\": 0.0, \"recall\": 0.0}, {\"count\": 5, \"cutoff\": 2, \"userId\": 256, \"precision\": 0.0, \"recall\": 0.0}, {\"count\": 5, \"cutoff\": 3, \"userId\": 256, \"precision\": 0.0, \"recall\": 0.0}, {\"count\": 5, \"cutoff\": 4, \"userId\": 256, \"precision\": 0.0, \"recall\": 0.0}, {\"count\": 5, \"cutoff\": 5, \"userId\": 256, \"precision\": 0.0, \"recall\": 0.0}, {\"count\": 5, \"cutoff\": 6, \"userId\": 256, \"precision\": 0.0, \"recall\": 0.0}, {\"count\": 5, \"cutoff\": 7, \"userId\": 256, \"precision\": 0.0, \"recall\": 0.0}, {\"count\": 5, \"cutoff\": 8, \"userId\": 256, \"precision\": 0.0, \"recall\": 0.0}, {\"count\": 5, \"cutoff\": 9, \"userId\": 256, \"precision\": 0.0, \"recall\": 0.0}, {\"count\": 5, \"cutoff\": 10, \"userId\": 256, \"precision\": 0.0, \"recall\": 0.0}, {\"count\": 5, \"cutoff\": 11, \"userId\": 256, \"precision\": 0.0, \"recall\": 0.0}, {\"count\": 5, \"cutoff\": 16, \"userId\": 256, \"precision\": 0.0, \"recall\": 0.0}, {\"count\": 5, \"cutoff\": 21, \"userId\": 256, \"precision\": 0.0, \"recall\": 0.0}, {\"count\": 5, \"cutoff\": 26, \"userId\": 256, \"precision\": 0.0, \"recall\": 0.0}, {\"count\": 5, \"cutoff\": 31, \"userId\": 256, \"precision\": 0.0, \"recall\": 0.0}, {\"count\": 5, \"cutoff\": 36, \"userId\": 256, \"precision\": 0.0, \"recall\": 0.0}, {\"count\": 5, \"cutoff\": 41, \"userId\": 256, \"precision\": 0.0, \"recall\": 0.0}, {\"count\": 5, \"cutoff\": 46, \"userId\": 256, \"precision\": 0.0, \"recall\": 0.0}, {\"count\": 18, \"cutoff\": 1, \"userId\": 263, \"precision\": 0.0, \"recall\": 0.0}, {\"count\": 18, \"cutoff\": 2, \"userId\": 263, \"precision\": 0.0, \"recall\": 0.0}, {\"count\": 18, \"cutoff\": 3, \"userId\": 263, \"precision\": 0.0, \"recall\": 0.0}, {\"count\": 18, \"cutoff\": 4, \"userId\": 263, \"precision\": 0.0, \"recall\": 0.0}, {\"count\": 18, \"cutoff\": 5, \"userId\": 263, \"precision\": 0.0, \"recall\": 0.0}, {\"count\": 18, \"cutoff\": 6, \"userId\": 263, \"precision\": 0.0, \"recall\": 0.0}, {\"count\": 18, \"cutoff\": 7, \"userId\": 263, \"precision\": 0.0, \"recall\": 0.0}, {\"count\": 18, \"cutoff\": 8, \"userId\": 263, \"precision\": 0.0, \"recall\": 0.0}, {\"count\": 18, \"cutoff\": 9, \"userId\": 263, \"precision\": 0.1111111111111111, \"recall\": 0.05555555555555555}, {\"count\": 18, \"cutoff\": 10, \"userId\": 263, \"precision\": 0.1, \"recall\": 0.05555555555555555}, {\"count\": 18, \"cutoff\": 11, \"userId\": 263, \"precision\": 0.09090909090909091, \"recall\": 0.05555555555555555}, {\"count\": 18, \"cutoff\": 16, \"userId\": 263, \"precision\": 0.125, \"recall\": 0.1111111111111111}, {\"count\": 18, \"cutoff\": 21, \"userId\": 263, \"precision\": 0.09523809523809523, \"recall\": 0.1111111111111111}, {\"count\": 18, \"cutoff\": 26, \"userId\": 263, \"precision\": 0.07692307692307693, \"recall\": 0.1111111111111111}, {\"count\": 18, \"cutoff\": 31, \"userId\": 263, \"precision\": 0.06451612903225806, \"recall\": 0.1111111111111111}, {\"count\": 18, \"cutoff\": 36, \"userId\": 263, \"precision\": 0.05555555555555555, \"recall\": 0.1111111111111111}, {\"count\": 18, \"cutoff\": 41, \"userId\": 263, \"precision\": 0.07317073170731707, \"recall\": 0.16666666666666666}, {\"count\": 18, \"cutoff\": 46, \"userId\": 263, \"precision\": 0.06521739130434782, \"recall\": 0.16666666666666666}, {\"count\": 7, \"cutoff\": 1, \"userId\": 264, \"precision\": 0.0, \"recall\": 0.0}, {\"count\": 7, \"cutoff\": 2, \"userId\": 264, \"precision\": 0.0, \"recall\": 0.0}, {\"count\": 7, \"cutoff\": 3, \"userId\": 264, \"precision\": 0.0, \"recall\": 0.0}, {\"count\": 7, \"cutoff\": 4, \"userId\": 264, \"precision\": 0.0, \"recall\": 0.0}, {\"count\": 7, \"cutoff\": 5, \"userId\": 264, \"precision\": 0.0, \"recall\": 0.0}, {\"count\": 7, \"cutoff\": 6, \"userId\": 264, \"precision\": 0.0, \"recall\": 0.0}, {\"count\": 7, \"cutoff\": 7, \"userId\": 264, \"precision\": 0.0, \"recall\": 0.0}, {\"count\": 7, \"cutoff\": 8, \"userId\": 264, \"precision\": 0.0, \"recall\": 0.0}, {\"count\": 7, \"cutoff\": 9, \"userId\": 264, \"precision\": 0.0, \"recall\": 0.0}, {\"count\": 7, \"cutoff\": 10, \"userId\": 264, \"precision\": 0.0, \"recall\": 0.0}, {\"count\": 7, \"cutoff\": 11, \"userId\": 264, \"precision\": 0.0, \"recall\": 0.0}, {\"count\": 7, \"cutoff\": 16, \"userId\": 264, \"precision\": 0.0625, \"recall\": 0.14285714285714285}, {\"count\": 7, \"cutoff\": 21, \"userId\": 264, \"precision\": 0.047619047619047616, \"recall\": 0.14285714285714285}, {\"count\": 7, \"cutoff\": 26, \"userId\": 264, \"precision\": 0.038461538461538464, \"recall\": 0.14285714285714285}, {\"count\": 7, \"cutoff\": 31, \"userId\": 264, \"precision\": 0.03225806451612903, \"recall\": 0.14285714285714285}, {\"count\": 7, \"cutoff\": 36, \"userId\": 264, \"precision\": 0.027777777777777776, \"recall\": 0.14285714285714285}, {\"count\": 7, \"cutoff\": 41, \"userId\": 264, \"precision\": 0.024390243902439025, \"recall\": 0.14285714285714285}, {\"count\": 7, \"cutoff\": 46, \"userId\": 264, \"precision\": 0.021739130434782608, \"recall\": 0.14285714285714285}, {\"count\": 77, \"cutoff\": 1, \"userId\": 268, \"precision\": 1.0, \"recall\": 0.012987012987012988}, {\"count\": 77, \"cutoff\": 2, \"userId\": 268, \"precision\": 1.0, \"recall\": 0.025974025974025976}, {\"count\": 77, \"cutoff\": 3, \"userId\": 268, \"precision\": 1.0, \"recall\": 0.03896103896103896}, {\"count\": 77, \"cutoff\": 4, \"userId\": 268, \"precision\": 0.75, \"recall\": 0.03896103896103896}, {\"count\": 77, \"cutoff\": 5, \"userId\": 268, \"precision\": 0.8, \"recall\": 0.05194805194805195}, {\"count\": 77, \"cutoff\": 6, \"userId\": 268, \"precision\": 0.8333333333333334, \"recall\": 0.06493506493506493}, {\"count\": 77, \"cutoff\": 7, \"userId\": 268, \"precision\": 0.8571428571428571, \"recall\": 0.07792207792207792}, {\"count\": 77, \"cutoff\": 8, \"userId\": 268, \"precision\": 0.75, \"recall\": 0.07792207792207792}, {\"count\": 77, \"cutoff\": 9, \"userId\": 268, \"precision\": 0.7777777777777778, \"recall\": 0.09090909090909091}, {\"count\": 77, \"cutoff\": 10, \"userId\": 268, \"precision\": 0.8, \"recall\": 0.1038961038961039}, {\"count\": 77, \"cutoff\": 11, \"userId\": 268, \"precision\": 0.8181818181818182, \"recall\": 0.11688311688311688}, {\"count\": 77, \"cutoff\": 16, \"userId\": 268, \"precision\": 0.875, \"recall\": 0.18181818181818182}, {\"count\": 77, \"cutoff\": 21, \"userId\": 268, \"precision\": 0.8095238095238095, \"recall\": 0.22077922077922077}, {\"count\": 77, \"cutoff\": 26, \"userId\": 268, \"precision\": 0.7307692307692307, \"recall\": 0.24675324675324675}, {\"count\": 77, \"cutoff\": 31, \"userId\": 268, \"precision\": 0.6451612903225806, \"recall\": 0.2597402597402597}, {\"count\": 77, \"cutoff\": 36, \"userId\": 268, \"precision\": 0.6111111111111112, \"recall\": 0.2857142857142857}, {\"count\": 77, \"cutoff\": 41, \"userId\": 268, \"precision\": 0.5853658536585366, \"recall\": 0.3116883116883117}, {\"count\": 77, \"cutoff\": 46, \"userId\": 268, \"precision\": 0.5434782608695652, \"recall\": 0.3246753246753247}, {\"count\": 12, \"cutoff\": 1, \"userId\": 277, \"precision\": 0.0, \"recall\": 0.0}, {\"count\": 12, \"cutoff\": 2, \"userId\": 277, \"precision\": 0.0, \"recall\": 0.0}, {\"count\": 12, \"cutoff\": 3, \"userId\": 277, \"precision\": 0.0, \"recall\": 0.0}, {\"count\": 12, \"cutoff\": 4, \"userId\": 277, \"precision\": 0.25, \"recall\": 0.08333333333333333}, {\"count\": 12, \"cutoff\": 5, \"userId\": 277, \"precision\": 0.2, \"recall\": 0.08333333333333333}, {\"count\": 12, \"cutoff\": 6, \"userId\": 277, \"precision\": 0.16666666666666666, \"recall\": 0.08333333333333333}, {\"count\": 12, \"cutoff\": 7, \"userId\": 277, \"precision\": 0.14285714285714285, \"recall\": 0.08333333333333333}, {\"count\": 12, \"cutoff\": 8, \"userId\": 277, \"precision\": 0.125, \"recall\": 0.08333333333333333}, {\"count\": 12, \"cutoff\": 9, \"userId\": 277, \"precision\": 0.1111111111111111, \"recall\": 0.08333333333333333}, {\"count\": 12, \"cutoff\": 10, \"userId\": 277, \"precision\": 0.2, \"recall\": 0.16666666666666666}, {\"count\": 12, \"cutoff\": 11, \"userId\": 277, \"precision\": 0.2727272727272727, \"recall\": 0.25}, {\"count\": 12, \"cutoff\": 16, \"userId\": 277, \"precision\": 0.1875, \"recall\": 0.25}, {\"count\": 12, \"cutoff\": 21, \"userId\": 277, \"precision\": 0.14285714285714285, \"recall\": 0.25}, {\"count\": 12, \"cutoff\": 26, \"userId\": 277, \"precision\": 0.11538461538461539, \"recall\": 0.25}, {\"count\": 12, \"cutoff\": 31, \"userId\": 277, \"precision\": 0.12903225806451613, \"recall\": 0.3333333333333333}, {\"count\": 12, \"cutoff\": 36, \"userId\": 277, \"precision\": 0.1111111111111111, \"recall\": 0.3333333333333333}, {\"count\": 12, \"cutoff\": 41, \"userId\": 277, \"precision\": 0.0975609756097561, \"recall\": 0.3333333333333333}, {\"count\": 12, \"cutoff\": 46, \"userId\": 277, \"precision\": 0.08695652173913043, \"recall\": 0.3333333333333333}, {\"count\": 23, \"cutoff\": 1, \"userId\": 282, \"precision\": 0.0, \"recall\": 0.0}, {\"count\": 23, \"cutoff\": 2, \"userId\": 282, \"precision\": 0.0, \"recall\": 0.0}, {\"count\": 23, \"cutoff\": 3, \"userId\": 282, \"precision\": 0.0, \"recall\": 0.0}, {\"count\": 23, \"cutoff\": 4, \"userId\": 282, \"precision\": 0.25, \"recall\": 0.043478260869565216}, {\"count\": 23, \"cutoff\": 5, \"userId\": 282, \"precision\": 0.2, \"recall\": 0.043478260869565216}, {\"count\": 23, \"cutoff\": 6, \"userId\": 282, \"precision\": 0.16666666666666666, \"recall\": 0.043478260869565216}, {\"count\": 23, \"cutoff\": 7, \"userId\": 282, \"precision\": 0.14285714285714285, \"recall\": 0.043478260869565216}, {\"count\": 23, \"cutoff\": 8, \"userId\": 282, \"precision\": 0.125, \"recall\": 0.043478260869565216}, {\"count\": 23, \"cutoff\": 9, \"userId\": 282, \"precision\": 0.1111111111111111, \"recall\": 0.043478260869565216}, {\"count\": 23, \"cutoff\": 10, \"userId\": 282, \"precision\": 0.1, \"recall\": 0.043478260869565216}, {\"count\": 23, \"cutoff\": 11, \"userId\": 282, \"precision\": 0.09090909090909091, \"recall\": 0.043478260869565216}, {\"count\": 23, \"cutoff\": 16, \"userId\": 282, \"precision\": 0.0625, \"recall\": 0.043478260869565216}, {\"count\": 23, \"cutoff\": 21, \"userId\": 282, \"precision\": 0.047619047619047616, \"recall\": 0.043478260869565216}, {\"count\": 23, \"cutoff\": 26, \"userId\": 282, \"precision\": 0.038461538461538464, \"recall\": 0.043478260869565216}, {\"count\": 23, \"cutoff\": 31, \"userId\": 282, \"precision\": 0.03225806451612903, \"recall\": 0.043478260869565216}, {\"count\": 23, \"cutoff\": 36, \"userId\": 282, \"precision\": 0.027777777777777776, \"recall\": 0.043478260869565216}, {\"count\": 23, \"cutoff\": 41, \"userId\": 282, \"precision\": 0.024390243902439025, \"recall\": 0.043478260869565216}, {\"count\": 23, \"cutoff\": 46, \"userId\": 282, \"precision\": 0.021739130434782608, \"recall\": 0.043478260869565216}, {\"count\": 21, \"cutoff\": 1, \"userId\": 291, \"precision\": 0.0, \"recall\": 0.0}, {\"count\": 21, \"cutoff\": 2, \"userId\": 291, \"precision\": 0.0, \"recall\": 0.0}, {\"count\": 21, \"cutoff\": 3, \"userId\": 291, \"precision\": 0.0, \"recall\": 0.0}, {\"count\": 21, \"cutoff\": 4, \"userId\": 291, \"precision\": 0.0, \"recall\": 0.0}, {\"count\": 21, \"cutoff\": 5, \"userId\": 291, \"precision\": 0.0, \"recall\": 0.0}, {\"count\": 21, \"cutoff\": 6, \"userId\": 291, \"precision\": 0.0, \"recall\": 0.0}, {\"count\": 21, \"cutoff\": 7, \"userId\": 291, \"precision\": 0.0, \"recall\": 0.0}, {\"count\": 21, \"cutoff\": 8, \"userId\": 291, \"precision\": 0.0, \"recall\": 0.0}, {\"count\": 21, \"cutoff\": 9, \"userId\": 291, \"precision\": 0.1111111111111111, \"recall\": 0.047619047619047616}, {\"count\": 21, \"cutoff\": 10, \"userId\": 291, \"precision\": 0.1, \"recall\": 0.047619047619047616}, {\"count\": 21, \"cutoff\": 11, \"userId\": 291, \"precision\": 0.18181818181818182, \"recall\": 0.09523809523809523}, {\"count\": 21, \"cutoff\": 16, \"userId\": 291, \"precision\": 0.125, \"recall\": 0.09523809523809523}, {\"count\": 21, \"cutoff\": 21, \"userId\": 291, \"precision\": 0.09523809523809523, \"recall\": 0.09523809523809523}, {\"count\": 21, \"cutoff\": 26, \"userId\": 291, \"precision\": 0.07692307692307693, \"recall\": 0.09523809523809523}, {\"count\": 21, \"cutoff\": 31, \"userId\": 291, \"precision\": 0.0967741935483871, \"recall\": 0.14285714285714285}, {\"count\": 21, \"cutoff\": 36, \"userId\": 291, \"precision\": 0.1388888888888889, \"recall\": 0.23809523809523808}, {\"count\": 21, \"cutoff\": 41, \"userId\": 291, \"precision\": 0.12195121951219512, \"recall\": 0.23809523809523808}, {\"count\": 21, \"cutoff\": 46, \"userId\": 291, \"precision\": 0.10869565217391304, \"recall\": 0.23809523809523808}, {\"count\": 2, \"cutoff\": 1, \"userId\": 296, \"precision\": 0.0, \"recall\": 0.0}, {\"count\": 2, \"cutoff\": 2, \"userId\": 296, \"precision\": 0.0, \"recall\": 0.0}, {\"count\": 2, \"cutoff\": 3, \"userId\": 296, \"precision\": 0.0, \"recall\": 0.0}, {\"count\": 2, \"cutoff\": 4, \"userId\": 296, \"precision\": 0.0, \"recall\": 0.0}, {\"count\": 2, \"cutoff\": 5, \"userId\": 296, \"precision\": 0.0, \"recall\": 0.0}, {\"count\": 2, \"cutoff\": 6, \"userId\": 296, \"precision\": 0.0, \"recall\": 0.0}, {\"count\": 2, \"cutoff\": 7, \"userId\": 296, \"precision\": 0.0, \"recall\": 0.0}, {\"count\": 2, \"cutoff\": 8, \"userId\": 296, \"precision\": 0.0, \"recall\": 0.0}, {\"count\": 2, \"cutoff\": 9, \"userId\": 296, \"precision\": 0.0, \"recall\": 0.0}, {\"count\": 2, \"cutoff\": 10, \"userId\": 296, \"precision\": 0.0, \"recall\": 0.0}, {\"count\": 2, \"cutoff\": 11, \"userId\": 296, \"precision\": 0.0, \"recall\": 0.0}, {\"count\": 2, \"cutoff\": 16, \"userId\": 296, \"precision\": 0.0, \"recall\": 0.0}, {\"count\": 2, \"cutoff\": 21, \"userId\": 296, \"precision\": 0.0, \"recall\": 0.0}, {\"count\": 2, \"cutoff\": 26, \"userId\": 296, \"precision\": 0.0, \"recall\": 0.0}, {\"count\": 2, \"cutoff\": 31, \"userId\": 296, \"precision\": 0.0, \"recall\": 0.0}, {\"count\": 2, \"cutoff\": 36, \"userId\": 296, \"precision\": 0.0, \"recall\": 0.0}, {\"count\": 2, \"cutoff\": 41, \"userId\": 296, \"precision\": 0.0, \"recall\": 0.0}, {\"count\": 2, \"cutoff\": 46, \"userId\": 296, \"precision\": 0.0, \"recall\": 0.0}, {\"count\": 20, \"cutoff\": 1, \"userId\": 304, \"precision\": 0.0, \"recall\": 0.0}, {\"count\": 20, \"cutoff\": 2, \"userId\": 304, \"precision\": 0.5, \"recall\": 0.05}, {\"count\": 20, \"cutoff\": 3, \"userId\": 304, \"precision\": 0.6666666666666666, \"recall\": 0.1}, {\"count\": 20, \"cutoff\": 4, \"userId\": 304, \"precision\": 0.5, \"recall\": 0.1}, {\"count\": 20, \"cutoff\": 5, \"userId\": 304, \"precision\": 0.4, \"recall\": 0.1}, {\"count\": 20, \"cutoff\": 6, \"userId\": 304, \"precision\": 0.3333333333333333, \"recall\": 0.1}, {\"count\": 20, \"cutoff\": 7, \"userId\": 304, \"precision\": 0.2857142857142857, \"recall\": 0.1}, {\"count\": 20, \"cutoff\": 8, \"userId\": 304, \"precision\": 0.375, \"recall\": 0.15}, {\"count\": 20, \"cutoff\": 9, \"userId\": 304, \"precision\": 0.3333333333333333, \"recall\": 0.15}, {\"count\": 20, \"cutoff\": 10, \"userId\": 304, \"precision\": 0.3, \"recall\": 0.15}, {\"count\": 20, \"cutoff\": 11, \"userId\": 304, \"precision\": 0.2727272727272727, \"recall\": 0.15}, {\"count\": 20, \"cutoff\": 16, \"userId\": 304, \"precision\": 0.1875, \"recall\": 0.15}, {\"count\": 20, \"cutoff\": 21, \"userId\": 304, \"precision\": 0.14285714285714285, \"recall\": 0.15}, {\"count\": 20, \"cutoff\": 26, \"userId\": 304, \"precision\": 0.11538461538461539, \"recall\": 0.15}, {\"count\": 20, \"cutoff\": 31, \"userId\": 304, \"precision\": 0.0967741935483871, \"recall\": 0.15}, {\"count\": 20, \"cutoff\": 36, \"userId\": 304, \"precision\": 0.08333333333333333, \"recall\": 0.15}, {\"count\": 20, \"cutoff\": 41, \"userId\": 304, \"precision\": 0.07317073170731707, \"recall\": 0.15}, {\"count\": 20, \"cutoff\": 46, \"userId\": 304, \"precision\": 0.08695652173913043, \"recall\": 0.2}, {\"count\": 16, \"cutoff\": 1, \"userId\": 307, \"precision\": 1.0, \"recall\": 0.0625}, {\"count\": 16, \"cutoff\": 2, \"userId\": 307, \"precision\": 1.0, \"recall\": 0.125}, {\"count\": 16, \"cutoff\": 3, \"userId\": 307, \"precision\": 1.0, \"recall\": 0.1875}, {\"count\": 16, \"cutoff\": 4, \"userId\": 307, \"precision\": 0.75, \"recall\": 0.1875}, {\"count\": 16, \"cutoff\": 5, \"userId\": 307, \"precision\": 0.6, \"recall\": 0.1875}, {\"count\": 16, \"cutoff\": 6, \"userId\": 307, \"precision\": 0.5, \"recall\": 0.1875}, {\"count\": 16, \"cutoff\": 7, \"userId\": 307, \"precision\": 0.42857142857142855, \"recall\": 0.1875}, {\"count\": 16, \"cutoff\": 8, \"userId\": 307, \"precision\": 0.375, \"recall\": 0.1875}, {\"count\": 16, \"cutoff\": 9, \"userId\": 307, \"precision\": 0.3333333333333333, \"recall\": 0.1875}, {\"count\": 16, \"cutoff\": 10, \"userId\": 307, \"precision\": 0.3, \"recall\": 0.1875}, {\"count\": 16, \"cutoff\": 11, \"userId\": 307, \"precision\": 0.2727272727272727, \"recall\": 0.1875}, {\"count\": 16, \"cutoff\": 16, \"userId\": 307, \"precision\": 0.1875, \"recall\": 0.1875}, {\"count\": 16, \"cutoff\": 21, \"userId\": 307, \"precision\": 0.14285714285714285, \"recall\": 0.1875}, {\"count\": 16, \"cutoff\": 26, \"userId\": 307, \"precision\": 0.15384615384615385, \"recall\": 0.25}, {\"count\": 16, \"cutoff\": 31, \"userId\": 307, \"precision\": 0.12903225806451613, \"recall\": 0.25}, {\"count\": 16, \"cutoff\": 36, \"userId\": 307, \"precision\": 0.1111111111111111, \"recall\": 0.25}, {\"count\": 16, \"cutoff\": 41, \"userId\": 307, \"precision\": 0.12195121951219512, \"recall\": 0.3125}, {\"count\": 16, \"cutoff\": 46, \"userId\": 307, \"precision\": 0.10869565217391304, \"recall\": 0.3125}, {\"count\": 24, \"cutoff\": 1, \"userId\": 309, \"precision\": 0.0, \"recall\": 0.0}, {\"count\": 24, \"cutoff\": 2, \"userId\": 309, \"precision\": 0.0, \"recall\": 0.0}, {\"count\": 24, \"cutoff\": 3, \"userId\": 309, \"precision\": 0.0, \"recall\": 0.0}, {\"count\": 24, \"cutoff\": 4, \"userId\": 309, \"precision\": 0.0, \"recall\": 0.0}, {\"count\": 24, \"cutoff\": 5, \"userId\": 309, \"precision\": 0.2, \"recall\": 0.041666666666666664}, {\"count\": 24, \"cutoff\": 6, \"userId\": 309, \"precision\": 0.16666666666666666, \"recall\": 0.041666666666666664}, {\"count\": 24, \"cutoff\": 7, \"userId\": 309, \"precision\": 0.2857142857142857, \"recall\": 0.08333333333333333}, {\"count\": 24, \"cutoff\": 8, \"userId\": 309, \"precision\": 0.25, \"recall\": 0.08333333333333333}, {\"count\": 24, \"cutoff\": 9, \"userId\": 309, \"precision\": 0.2222222222222222, \"recall\": 0.08333333333333333}, {\"count\": 24, \"cutoff\": 10, \"userId\": 309, \"precision\": 0.2, \"recall\": 0.08333333333333333}, {\"count\": 24, \"cutoff\": 11, \"userId\": 309, \"precision\": 0.18181818181818182, \"recall\": 0.08333333333333333}, {\"count\": 24, \"cutoff\": 16, \"userId\": 309, \"precision\": 0.25, \"recall\": 0.16666666666666666}, {\"count\": 24, \"cutoff\": 21, \"userId\": 309, \"precision\": 0.3333333333333333, \"recall\": 0.2916666666666667}, {\"count\": 24, \"cutoff\": 26, \"userId\": 309, \"precision\": 0.2692307692307692, \"recall\": 0.2916666666666667}, {\"count\": 24, \"cutoff\": 31, \"userId\": 309, \"precision\": 0.22580645161290322, \"recall\": 0.2916666666666667}, {\"count\": 24, \"cutoff\": 36, \"userId\": 309, \"precision\": 0.19444444444444445, \"recall\": 0.2916666666666667}, {\"count\": 24, \"cutoff\": 41, \"userId\": 309, \"precision\": 0.17073170731707318, \"recall\": 0.2916666666666667}, {\"count\": 24, \"cutoff\": 46, \"userId\": 309, \"precision\": 0.15217391304347827, \"recall\": 0.2916666666666667}, {\"count\": 2, \"cutoff\": 1, \"userId\": 310, \"precision\": 0.0, \"recall\": 0.0}, {\"count\": 2, \"cutoff\": 2, \"userId\": 310, \"precision\": 0.0, \"recall\": 0.0}, {\"count\": 2, \"cutoff\": 3, \"userId\": 310, \"precision\": 0.0, \"recall\": 0.0}, {\"count\": 2, \"cutoff\": 4, \"userId\": 310, \"precision\": 0.0, \"recall\": 0.0}, {\"count\": 2, \"cutoff\": 5, \"userId\": 310, \"precision\": 0.0, \"recall\": 0.0}, {\"count\": 2, \"cutoff\": 6, \"userId\": 310, \"precision\": 0.0, \"recall\": 0.0}, {\"count\": 2, \"cutoff\": 7, \"userId\": 310, \"precision\": 0.0, \"recall\": 0.0}, {\"count\": 2, \"cutoff\": 8, \"userId\": 310, \"precision\": 0.0, \"recall\": 0.0}, {\"count\": 2, \"cutoff\": 9, \"userId\": 310, \"precision\": 0.0, \"recall\": 0.0}, {\"count\": 2, \"cutoff\": 10, \"userId\": 310, \"precision\": 0.0, \"recall\": 0.0}, {\"count\": 2, \"cutoff\": 11, \"userId\": 310, \"precision\": 0.0, \"recall\": 0.0}, {\"count\": 2, \"cutoff\": 16, \"userId\": 310, \"precision\": 0.0, \"recall\": 0.0}, {\"count\": 2, \"cutoff\": 21, \"userId\": 310, \"precision\": 0.0, \"recall\": 0.0}, {\"count\": 2, \"cutoff\": 26, \"userId\": 310, \"precision\": 0.0, \"recall\": 0.0}, {\"count\": 2, \"cutoff\": 31, \"userId\": 310, \"precision\": 0.0, \"recall\": 0.0}, {\"count\": 2, \"cutoff\": 36, \"userId\": 310, \"precision\": 0.0, \"recall\": 0.0}, {\"count\": 2, \"cutoff\": 41, \"userId\": 310, \"precision\": 0.0, \"recall\": 0.0}, {\"count\": 2, \"cutoff\": 46, \"userId\": 310, \"precision\": 0.0, \"recall\": 0.0}, {\"count\": 200, \"cutoff\": 1, \"userId\": 311, \"precision\": 0.0, \"recall\": 0.0}, {\"count\": 200, \"cutoff\": 2, \"userId\": 311, \"precision\": 0.5, \"recall\": 0.005}, {\"count\": 200, \"cutoff\": 3, \"userId\": 311, \"precision\": 0.6666666666666666, \"recall\": 0.01}, {\"count\": 200, \"cutoff\": 4, \"userId\": 311, \"precision\": 0.5, \"recall\": 0.01}, {\"count\": 200, \"cutoff\": 5, \"userId\": 311, \"precision\": 0.4, \"recall\": 0.01}, {\"count\": 200, \"cutoff\": 6, \"userId\": 311, \"precision\": 0.3333333333333333, \"recall\": 0.01}, {\"count\": 200, \"cutoff\": 7, \"userId\": 311, \"precision\": 0.2857142857142857, \"recall\": 0.01}, {\"count\": 200, \"cutoff\": 8, \"userId\": 311, \"precision\": 0.25, \"recall\": 0.01}, {\"count\": 200, \"cutoff\": 9, \"userId\": 311, \"precision\": 0.3333333333333333, \"recall\": 0.015}, {\"count\": 200, \"cutoff\": 10, \"userId\": 311, \"precision\": 0.4, \"recall\": 0.02}, {\"count\": 200, \"cutoff\": 11, \"userId\": 311, \"precision\": 0.45454545454545453, \"recall\": 0.025}, {\"count\": 200, \"cutoff\": 16, \"userId\": 311, \"precision\": 0.3125, \"recall\": 0.025}, {\"count\": 200, \"cutoff\": 21, \"userId\": 311, \"precision\": 0.2857142857142857, \"recall\": 0.03}, {\"count\": 200, \"cutoff\": 26, \"userId\": 311, \"precision\": 0.34615384615384615, \"recall\": 0.045}, {\"count\": 200, \"cutoff\": 31, \"userId\": 311, \"precision\": 0.3548387096774194, \"recall\": 0.055}, {\"count\": 200, \"cutoff\": 36, \"userId\": 311, \"precision\": 0.3055555555555556, \"recall\": 0.055}, {\"count\": 200, \"cutoff\": 41, \"userId\": 311, \"precision\": 0.2926829268292683, \"recall\": 0.06}, {\"count\": 200, \"cutoff\": 46, \"userId\": 311, \"precision\": 0.30434782608695654, \"recall\": 0.07}, {\"count\": 61, \"cutoff\": 1, \"userId\": 313, \"precision\": 0.0, \"recall\": 0.0}, {\"count\": 61, \"cutoff\": 2, \"userId\": 313, \"precision\": 0.0, \"recall\": 0.0}, {\"count\": 61, \"cutoff\": 3, \"userId\": 313, \"precision\": 0.0, \"recall\": 0.0}, {\"count\": 61, \"cutoff\": 4, \"userId\": 313, \"precision\": 0.0, \"recall\": 0.0}, {\"count\": 61, \"cutoff\": 5, \"userId\": 313, \"precision\": 0.0, \"recall\": 0.0}, {\"count\": 61, \"cutoff\": 6, \"userId\": 313, \"precision\": 0.0, \"recall\": 0.0}, {\"count\": 61, \"cutoff\": 7, \"userId\": 313, \"precision\": 0.14285714285714285, \"recall\": 0.01639344262295082}, {\"count\": 61, \"cutoff\": 8, \"userId\": 313, \"precision\": 0.25, \"recall\": 0.03278688524590164}, {\"count\": 61, \"cutoff\": 9, \"userId\": 313, \"precision\": 0.2222222222222222, \"recall\": 0.03278688524590164}, {\"count\": 61, \"cutoff\": 10, \"userId\": 313, \"precision\": 0.3, \"recall\": 0.04918032786885246}, {\"count\": 61, \"cutoff\": 11, \"userId\": 313, \"precision\": 0.2727272727272727, \"recall\": 0.04918032786885246}, {\"count\": 61, \"cutoff\": 16, \"userId\": 313, \"precision\": 0.1875, \"recall\": 0.04918032786885246}, {\"count\": 61, \"cutoff\": 21, \"userId\": 313, \"precision\": 0.19047619047619047, \"recall\": 0.06557377049180328}, {\"count\": 61, \"cutoff\": 26, \"userId\": 313, \"precision\": 0.2692307692307692, \"recall\": 0.11475409836065574}, {\"count\": 61, \"cutoff\": 31, \"userId\": 313, \"precision\": 0.25806451612903225, \"recall\": 0.13114754098360656}, {\"count\": 61, \"cutoff\": 36, \"userId\": 313, \"precision\": 0.2222222222222222, \"recall\": 0.13114754098360656}, {\"count\": 61, \"cutoff\": 41, \"userId\": 313, \"precision\": 0.1951219512195122, \"recall\": 0.13114754098360656}, {\"count\": 61, \"cutoff\": 46, \"userId\": 313, \"precision\": 0.21739130434782608, \"recall\": 0.16393442622950818}, {\"count\": 9, \"cutoff\": 1, \"userId\": 315, \"precision\": 0.0, \"recall\": 0.0}, {\"count\": 9, \"cutoff\": 2, \"userId\": 315, \"precision\": 0.0, \"recall\": 0.0}, {\"count\": 9, \"cutoff\": 3, \"userId\": 315, \"precision\": 0.0, \"recall\": 0.0}, {\"count\": 9, \"cutoff\": 4, \"userId\": 315, \"precision\": 0.0, \"recall\": 0.0}, {\"count\": 9, \"cutoff\": 5, \"userId\": 315, \"precision\": 0.0, \"recall\": 0.0}, {\"count\": 9, \"cutoff\": 6, \"userId\": 315, \"precision\": 0.16666666666666666, \"recall\": 0.1111111111111111}, {\"count\": 9, \"cutoff\": 7, \"userId\": 315, \"precision\": 0.14285714285714285, \"recall\": 0.1111111111111111}, {\"count\": 9, \"cutoff\": 8, \"userId\": 315, \"precision\": 0.125, \"recall\": 0.1111111111111111}, {\"count\": 9, \"cutoff\": 9, \"userId\": 315, \"precision\": 0.1111111111111111, \"recall\": 0.1111111111111111}, {\"count\": 9, \"cutoff\": 10, \"userId\": 315, \"precision\": 0.1, \"recall\": 0.1111111111111111}, {\"count\": 9, \"cutoff\": 11, \"userId\": 315, \"precision\": 0.09090909090909091, \"recall\": 0.1111111111111111}, {\"count\": 9, \"cutoff\": 16, \"userId\": 315, \"precision\": 0.0625, \"recall\": 0.1111111111111111}, {\"count\": 9, \"cutoff\": 21, \"userId\": 315, \"precision\": 0.047619047619047616, \"recall\": 0.1111111111111111}, {\"count\": 9, \"cutoff\": 26, \"userId\": 315, \"precision\": 0.038461538461538464, \"recall\": 0.1111111111111111}, {\"count\": 9, \"cutoff\": 31, \"userId\": 315, \"precision\": 0.06451612903225806, \"recall\": 0.2222222222222222}, {\"count\": 9, \"cutoff\": 36, \"userId\": 315, \"precision\": 0.08333333333333333, \"recall\": 0.3333333333333333}, {\"count\": 9, \"cutoff\": 41, \"userId\": 315, \"precision\": 0.07317073170731707, \"recall\": 0.3333333333333333}, {\"count\": 9, \"cutoff\": 46, \"userId\": 315, \"precision\": 0.06521739130434782, \"recall\": 0.3333333333333333}, {\"count\": 3, \"cutoff\": 1, \"userId\": 319, \"precision\": 0.0, \"recall\": 0.0}, {\"count\": 3, \"cutoff\": 2, \"userId\": 319, \"precision\": 0.0, \"recall\": 0.0}, {\"count\": 3, \"cutoff\": 3, \"userId\": 319, \"precision\": 0.0, \"recall\": 0.0}, {\"count\": 3, \"cutoff\": 4, \"userId\": 319, \"precision\": 0.0, \"recall\": 0.0}, {\"count\": 3, \"cutoff\": 5, \"userId\": 319, \"precision\": 0.0, \"recall\": 0.0}, {\"count\": 3, \"cutoff\": 6, \"userId\": 319, \"precision\": 0.0, \"recall\": 0.0}, {\"count\": 3, \"cutoff\": 7, \"userId\": 319, \"precision\": 0.0, \"recall\": 0.0}, {\"count\": 3, \"cutoff\": 8, \"userId\": 319, \"precision\": 0.0, \"recall\": 0.0}, {\"count\": 3, \"cutoff\": 9, \"userId\": 319, \"precision\": 0.0, \"recall\": 0.0}, {\"count\": 3, \"cutoff\": 10, \"userId\": 319, \"precision\": 0.0, \"recall\": 0.0}, {\"count\": 3, \"cutoff\": 11, \"userId\": 319, \"precision\": 0.0, \"recall\": 0.0}, {\"count\": 3, \"cutoff\": 16, \"userId\": 319, \"precision\": 0.0, \"recall\": 0.0}, {\"count\": 3, \"cutoff\": 21, \"userId\": 319, \"precision\": 0.0, \"recall\": 0.0}, {\"count\": 3, \"cutoff\": 26, \"userId\": 319, \"precision\": 0.0, \"recall\": 0.0}, {\"count\": 3, \"cutoff\": 31, \"userId\": 319, \"precision\": 0.0, \"recall\": 0.0}, {\"count\": 3, \"cutoff\": 36, \"userId\": 319, \"precision\": 0.0, \"recall\": 0.0}, {\"count\": 3, \"cutoff\": 41, \"userId\": 319, \"precision\": 0.0, \"recall\": 0.0}, {\"count\": 3, \"cutoff\": 46, \"userId\": 319, \"precision\": 0.0, \"recall\": 0.0}, {\"count\": 13, \"cutoff\": 1, \"userId\": 321, \"precision\": 0.0, \"recall\": 0.0}, {\"count\": 13, \"cutoff\": 2, \"userId\": 321, \"precision\": 0.0, \"recall\": 0.0}, {\"count\": 13, \"cutoff\": 3, \"userId\": 321, \"precision\": 0.3333333333333333, \"recall\": 0.07692307692307693}, {\"count\": 13, \"cutoff\": 4, \"userId\": 321, \"precision\": 0.5, \"recall\": 0.15384615384615385}, {\"count\": 13, \"cutoff\": 5, \"userId\": 321, \"precision\": 0.4, \"recall\": 0.15384615384615385}, {\"count\": 13, \"cutoff\": 6, \"userId\": 321, \"precision\": 0.3333333333333333, \"recall\": 0.15384615384615385}, {\"count\": 13, \"cutoff\": 7, \"userId\": 321, \"precision\": 0.2857142857142857, \"recall\": 0.15384615384615385}, {\"count\": 13, \"cutoff\": 8, \"userId\": 321, \"precision\": 0.25, \"recall\": 0.15384615384615385}, {\"count\": 13, \"cutoff\": 9, \"userId\": 321, \"precision\": 0.2222222222222222, \"recall\": 0.15384615384615385}, {\"count\": 13, \"cutoff\": 10, \"userId\": 321, \"precision\": 0.2, \"recall\": 0.15384615384615385}, {\"count\": 13, \"cutoff\": 11, \"userId\": 321, \"precision\": 0.18181818181818182, \"recall\": 0.15384615384615385}, {\"count\": 13, \"cutoff\": 16, \"userId\": 321, \"precision\": 0.125, \"recall\": 0.15384615384615385}, {\"count\": 13, \"cutoff\": 21, \"userId\": 321, \"precision\": 0.09523809523809523, \"recall\": 0.15384615384615385}, {\"count\": 13, \"cutoff\": 26, \"userId\": 321, \"precision\": 0.07692307692307693, \"recall\": 0.15384615384615385}, {\"count\": 13, \"cutoff\": 31, \"userId\": 321, \"precision\": 0.06451612903225806, \"recall\": 0.15384615384615385}, {\"count\": 13, \"cutoff\": 36, \"userId\": 321, \"precision\": 0.05555555555555555, \"recall\": 0.15384615384615385}, {\"count\": 13, \"cutoff\": 41, \"userId\": 321, \"precision\": 0.04878048780487805, \"recall\": 0.15384615384615385}, {\"count\": 13, \"cutoff\": 46, \"userId\": 321, \"precision\": 0.043478260869565216, \"recall\": 0.15384615384615385}, {\"count\": 4, \"cutoff\": 1, \"userId\": 323, \"precision\": 0.0, \"recall\": 0.0}, {\"count\": 4, \"cutoff\": 2, \"userId\": 323, \"precision\": 0.0, \"recall\": 0.0}, {\"count\": 4, \"cutoff\": 3, \"userId\": 323, \"precision\": 0.0, \"recall\": 0.0}, {\"count\": 4, \"cutoff\": 4, \"userId\": 323, \"precision\": 0.0, \"recall\": 0.0}, {\"count\": 4, \"cutoff\": 5, \"userId\": 323, \"precision\": 0.0, \"recall\": 0.0}, {\"count\": 4, \"cutoff\": 6, \"userId\": 323, \"precision\": 0.0, \"recall\": 0.0}, {\"count\": 4, \"cutoff\": 7, \"userId\": 323, \"precision\": 0.0, \"recall\": 0.0}, {\"count\": 4, \"cutoff\": 8, \"userId\": 323, \"precision\": 0.0, \"recall\": 0.0}, {\"count\": 4, \"cutoff\": 9, \"userId\": 323, \"precision\": 0.0, \"recall\": 0.0}, {\"count\": 4, \"cutoff\": 10, \"userId\": 323, \"precision\": 0.0, \"recall\": 0.0}, {\"count\": 4, \"cutoff\": 11, \"userId\": 323, \"precision\": 0.0, \"recall\": 0.0}, {\"count\": 4, \"cutoff\": 16, \"userId\": 323, \"precision\": 0.0, \"recall\": 0.0}, {\"count\": 4, \"cutoff\": 21, \"userId\": 323, \"precision\": 0.047619047619047616, \"recall\": 0.25}, {\"count\": 4, \"cutoff\": 26, \"userId\": 323, \"precision\": 0.038461538461538464, \"recall\": 0.25}, {\"count\": 4, \"cutoff\": 31, \"userId\": 323, \"precision\": 0.03225806451612903, \"recall\": 0.25}, {\"count\": 4, \"cutoff\": 36, \"userId\": 323, \"precision\": 0.027777777777777776, \"recall\": 0.25}, {\"count\": 4, \"cutoff\": 41, \"userId\": 323, \"precision\": 0.024390243902439025, \"recall\": 0.25}, {\"count\": 4, \"cutoff\": 46, \"userId\": 323, \"precision\": 0.021739130434782608, \"recall\": 0.25}, {\"count\": 31, \"cutoff\": 1, \"userId\": 328, \"precision\": 1.0, \"recall\": 0.03225806451612903}, {\"count\": 31, \"cutoff\": 2, \"userId\": 328, \"precision\": 0.5, \"recall\": 0.03225806451612903}, {\"count\": 31, \"cutoff\": 3, \"userId\": 328, \"precision\": 0.3333333333333333, \"recall\": 0.03225806451612903}, {\"count\": 31, \"cutoff\": 4, \"userId\": 328, \"precision\": 0.25, \"recall\": 0.03225806451612903}, {\"count\": 31, \"cutoff\": 5, \"userId\": 328, \"precision\": 0.2, \"recall\": 0.03225806451612903}, {\"count\": 31, \"cutoff\": 6, \"userId\": 328, \"precision\": 0.3333333333333333, \"recall\": 0.06451612903225806}, {\"count\": 31, \"cutoff\": 7, \"userId\": 328, \"precision\": 0.42857142857142855, \"recall\": 0.0967741935483871}, {\"count\": 31, \"cutoff\": 8, \"userId\": 328, \"precision\": 0.375, \"recall\": 0.0967741935483871}, {\"count\": 31, \"cutoff\": 9, \"userId\": 328, \"precision\": 0.3333333333333333, \"recall\": 0.0967741935483871}, {\"count\": 31, \"cutoff\": 10, \"userId\": 328, \"precision\": 0.3, \"recall\": 0.0967741935483871}, {\"count\": 31, \"cutoff\": 11, \"userId\": 328, \"precision\": 0.2727272727272727, \"recall\": 0.0967741935483871}, {\"count\": 31, \"cutoff\": 16, \"userId\": 328, \"precision\": 0.1875, \"recall\": 0.0967741935483871}, {\"count\": 31, \"cutoff\": 21, \"userId\": 328, \"precision\": 0.14285714285714285, \"recall\": 0.0967741935483871}, {\"count\": 31, \"cutoff\": 26, \"userId\": 328, \"precision\": 0.11538461538461539, \"recall\": 0.0967741935483871}, {\"count\": 31, \"cutoff\": 31, \"userId\": 328, \"precision\": 0.16129032258064516, \"recall\": 0.16129032258064516}, {\"count\": 31, \"cutoff\": 36, \"userId\": 328, \"precision\": 0.1388888888888889, \"recall\": 0.16129032258064516}, {\"count\": 31, \"cutoff\": 41, \"userId\": 328, \"precision\": 0.12195121951219512, \"recall\": 0.16129032258064516}, {\"count\": 31, \"cutoff\": 46, \"userId\": 328, \"precision\": 0.10869565217391304, \"recall\": 0.16129032258064516}, {\"count\": 7, \"cutoff\": 1, \"userId\": 329, \"precision\": 0.0, \"recall\": 0.0}, {\"count\": 7, \"cutoff\": 2, \"userId\": 329, \"precision\": 0.0, \"recall\": 0.0}, {\"count\": 7, \"cutoff\": 3, \"userId\": 329, \"precision\": 0.0, \"recall\": 0.0}, {\"count\": 7, \"cutoff\": 4, \"userId\": 329, \"precision\": 0.0, \"recall\": 0.0}, {\"count\": 7, \"cutoff\": 5, \"userId\": 329, \"precision\": 0.0, \"recall\": 0.0}, {\"count\": 7, \"cutoff\": 6, \"userId\": 329, \"precision\": 0.16666666666666666, \"recall\": 0.14285714285714285}, {\"count\": 7, \"cutoff\": 7, \"userId\": 329, \"precision\": 0.14285714285714285, \"recall\": 0.14285714285714285}, {\"count\": 7, \"cutoff\": 8, \"userId\": 329, \"precision\": 0.125, \"recall\": 0.14285714285714285}, {\"count\": 7, \"cutoff\": 9, \"userId\": 329, \"precision\": 0.1111111111111111, \"recall\": 0.14285714285714285}, {\"count\": 7, \"cutoff\": 10, \"userId\": 329, \"precision\": 0.1, \"recall\": 0.14285714285714285}, {\"count\": 7, \"cutoff\": 11, \"userId\": 329, \"precision\": 0.09090909090909091, \"recall\": 0.14285714285714285}, {\"count\": 7, \"cutoff\": 16, \"userId\": 329, \"precision\": 0.0625, \"recall\": 0.14285714285714285}, {\"count\": 7, \"cutoff\": 21, \"userId\": 329, \"precision\": 0.047619047619047616, \"recall\": 0.14285714285714285}, {\"count\": 7, \"cutoff\": 26, \"userId\": 329, \"precision\": 0.038461538461538464, \"recall\": 0.14285714285714285}, {\"count\": 7, \"cutoff\": 31, \"userId\": 329, \"precision\": 0.03225806451612903, \"recall\": 0.14285714285714285}, {\"count\": 7, \"cutoff\": 36, \"userId\": 329, \"precision\": 0.027777777777777776, \"recall\": 0.14285714285714285}, {\"count\": 7, \"cutoff\": 41, \"userId\": 329, \"precision\": 0.024390243902439025, \"recall\": 0.14285714285714285}, {\"count\": 7, \"cutoff\": 46, \"userId\": 329, \"precision\": 0.021739130434782608, \"recall\": 0.14285714285714285}, {\"count\": 15, \"cutoff\": 1, \"userId\": 333, \"precision\": 0.0, \"recall\": 0.0}, {\"count\": 15, \"cutoff\": 2, \"userId\": 333, \"precision\": 0.0, \"recall\": 0.0}, {\"count\": 15, \"cutoff\": 3, \"userId\": 333, \"precision\": 0.0, \"recall\": 0.0}, {\"count\": 15, \"cutoff\": 4, \"userId\": 333, \"precision\": 0.0, \"recall\": 0.0}, {\"count\": 15, \"cutoff\": 5, \"userId\": 333, \"precision\": 0.0, \"recall\": 0.0}, {\"count\": 15, \"cutoff\": 6, \"userId\": 333, \"precision\": 0.0, \"recall\": 0.0}, {\"count\": 15, \"cutoff\": 7, \"userId\": 333, \"precision\": 0.0, \"recall\": 0.0}, {\"count\": 15, \"cutoff\": 8, \"userId\": 333, \"precision\": 0.0, \"recall\": 0.0}, {\"count\": 15, \"cutoff\": 9, \"userId\": 333, \"precision\": 0.0, \"recall\": 0.0}, {\"count\": 15, \"cutoff\": 10, \"userId\": 333, \"precision\": 0.0, \"recall\": 0.0}, {\"count\": 15, \"cutoff\": 11, \"userId\": 333, \"precision\": 0.0, \"recall\": 0.0}, {\"count\": 15, \"cutoff\": 16, \"userId\": 333, \"precision\": 0.0, \"recall\": 0.0}, {\"count\": 15, \"cutoff\": 21, \"userId\": 333, \"precision\": 0.047619047619047616, \"recall\": 0.06666666666666667}, {\"count\": 15, \"cutoff\": 26, \"userId\": 333, \"precision\": 0.038461538461538464, \"recall\": 0.06666666666666667}, {\"count\": 15, \"cutoff\": 31, \"userId\": 333, \"precision\": 0.03225806451612903, \"recall\": 0.06666666666666667}, {\"count\": 15, \"cutoff\": 36, \"userId\": 333, \"precision\": 0.027777777777777776, \"recall\": 0.06666666666666667}, {\"count\": 15, \"cutoff\": 41, \"userId\": 333, \"precision\": 0.024390243902439025, \"recall\": 0.06666666666666667}, {\"count\": 15, \"cutoff\": 46, \"userId\": 333, \"precision\": 0.021739130434782608, \"recall\": 0.06666666666666667}, {\"count\": 8, \"cutoff\": 1, \"userId\": 334, \"precision\": 1.0, \"recall\": 0.125}, {\"count\": 8, \"cutoff\": 2, \"userId\": 334, \"precision\": 0.5, \"recall\": 0.125}, {\"count\": 8, \"cutoff\": 3, \"userId\": 334, \"precision\": 0.3333333333333333, \"recall\": 0.125}, {\"count\": 8, \"cutoff\": 4, \"userId\": 334, \"precision\": 0.25, \"recall\": 0.125}, {\"count\": 8, \"cutoff\": 5, \"userId\": 334, \"precision\": 0.2, \"recall\": 0.125}, {\"count\": 8, \"cutoff\": 6, \"userId\": 334, \"precision\": 0.16666666666666666, \"recall\": 0.125}, {\"count\": 8, \"cutoff\": 7, \"userId\": 334, \"precision\": 0.14285714285714285, \"recall\": 0.125}, {\"count\": 8, \"cutoff\": 8, \"userId\": 334, \"precision\": 0.125, \"recall\": 0.125}, {\"count\": 8, \"cutoff\": 9, \"userId\": 334, \"precision\": 0.1111111111111111, \"recall\": 0.125}, {\"count\": 8, \"cutoff\": 10, \"userId\": 334, \"precision\": 0.1, \"recall\": 0.125}, {\"count\": 8, \"cutoff\": 11, \"userId\": 334, \"precision\": 0.09090909090909091, \"recall\": 0.125}, {\"count\": 8, \"cutoff\": 16, \"userId\": 334, \"precision\": 0.0625, \"recall\": 0.125}, {\"count\": 8, \"cutoff\": 21, \"userId\": 334, \"precision\": 0.047619047619047616, \"recall\": 0.125}, {\"count\": 8, \"cutoff\": 26, \"userId\": 334, \"precision\": 0.038461538461538464, \"recall\": 0.125}, {\"count\": 8, \"cutoff\": 31, \"userId\": 334, \"precision\": 0.06451612903225806, \"recall\": 0.25}, {\"count\": 8, \"cutoff\": 36, \"userId\": 334, \"precision\": 0.05555555555555555, \"recall\": 0.25}, {\"count\": 8, \"cutoff\": 41, \"userId\": 334, \"precision\": 0.04878048780487805, \"recall\": 0.25}, {\"count\": 8, \"cutoff\": 46, \"userId\": 334, \"precision\": 0.043478260869565216, \"recall\": 0.25}, {\"count\": 39, \"cutoff\": 1, \"userId\": 345, \"precision\": 1.0, \"recall\": 0.02564102564102564}, {\"count\": 39, \"cutoff\": 2, \"userId\": 345, \"precision\": 1.0, \"recall\": 0.05128205128205128}, {\"count\": 39, \"cutoff\": 3, \"userId\": 345, \"precision\": 0.6666666666666666, \"recall\": 0.05128205128205128}, {\"count\": 39, \"cutoff\": 4, \"userId\": 345, \"precision\": 0.5, \"recall\": 0.05128205128205128}, {\"count\": 39, \"cutoff\": 5, \"userId\": 345, \"precision\": 0.6, \"recall\": 0.07692307692307693}, {\"count\": 39, \"cutoff\": 6, \"userId\": 345, \"precision\": 0.6666666666666666, \"recall\": 0.10256410256410256}, {\"count\": 39, \"cutoff\": 7, \"userId\": 345, \"precision\": 0.5714285714285714, \"recall\": 0.10256410256410256}, {\"count\": 39, \"cutoff\": 8, \"userId\": 345, \"precision\": 0.5, \"recall\": 0.10256410256410256}, {\"count\": 39, \"cutoff\": 9, \"userId\": 345, \"precision\": 0.4444444444444444, \"recall\": 0.10256410256410256}, {\"count\": 39, \"cutoff\": 10, \"userId\": 345, \"precision\": 0.5, \"recall\": 0.1282051282051282}, {\"count\": 39, \"cutoff\": 11, \"userId\": 345, \"precision\": 0.5454545454545454, \"recall\": 0.15384615384615385}, {\"count\": 39, \"cutoff\": 16, \"userId\": 345, \"precision\": 0.375, \"recall\": 0.15384615384615385}, {\"count\": 39, \"cutoff\": 21, \"userId\": 345, \"precision\": 0.42857142857142855, \"recall\": 0.23076923076923078}, {\"count\": 39, \"cutoff\": 26, \"userId\": 345, \"precision\": 0.38461538461538464, \"recall\": 0.2564102564102564}, {\"count\": 39, \"cutoff\": 31, \"userId\": 345, \"precision\": 0.3225806451612903, \"recall\": 0.2564102564102564}, {\"count\": 39, \"cutoff\": 36, \"userId\": 345, \"precision\": 0.3055555555555556, \"recall\": 0.28205128205128205}, {\"count\": 39, \"cutoff\": 41, \"userId\": 345, \"precision\": 0.2926829268292683, \"recall\": 0.3076923076923077}, {\"count\": 39, \"cutoff\": 46, \"userId\": 345, \"precision\": 0.2608695652173913, \"recall\": 0.3076923076923077}, {\"count\": 2, \"cutoff\": 1, \"userId\": 347, \"precision\": 0.0, \"recall\": 0.0}, {\"count\": 2, \"cutoff\": 2, \"userId\": 347, \"precision\": 0.0, \"recall\": 0.0}, {\"count\": 2, \"cutoff\": 3, \"userId\": 347, \"precision\": 0.0, \"recall\": 0.0}, {\"count\": 2, \"cutoff\": 4, \"userId\": 347, \"precision\": 0.0, \"recall\": 0.0}, {\"count\": 2, \"cutoff\": 5, \"userId\": 347, \"precision\": 0.0, \"recall\": 0.0}, {\"count\": 2, \"cutoff\": 6, \"userId\": 347, \"precision\": 0.0, \"recall\": 0.0}, {\"count\": 2, \"cutoff\": 7, \"userId\": 347, \"precision\": 0.0, \"recall\": 0.0}, {\"count\": 2, \"cutoff\": 8, \"userId\": 347, \"precision\": 0.0, \"recall\": 0.0}, {\"count\": 2, \"cutoff\": 9, \"userId\": 347, \"precision\": 0.0, \"recall\": 0.0}, {\"count\": 2, \"cutoff\": 10, \"userId\": 347, \"precision\": 0.0, \"recall\": 0.0}, {\"count\": 2, \"cutoff\": 11, \"userId\": 347, \"precision\": 0.0, \"recall\": 0.0}, {\"count\": 2, \"cutoff\": 16, \"userId\": 347, \"precision\": 0.0, \"recall\": 0.0}, {\"count\": 2, \"cutoff\": 21, \"userId\": 347, \"precision\": 0.0, \"recall\": 0.0}, {\"count\": 2, \"cutoff\": 26, \"userId\": 347, \"precision\": 0.0, \"recall\": 0.0}, {\"count\": 2, \"cutoff\": 31, \"userId\": 347, \"precision\": 0.0, \"recall\": 0.0}, {\"count\": 2, \"cutoff\": 36, \"userId\": 347, \"precision\": 0.0, \"recall\": 0.0}, {\"count\": 2, \"cutoff\": 41, \"userId\": 347, \"precision\": 0.0, \"recall\": 0.0}, {\"count\": 2, \"cutoff\": 46, \"userId\": 347, \"precision\": 0.0, \"recall\": 0.0}, {\"count\": 10, \"cutoff\": 1, \"userId\": 348, \"precision\": 0.0, \"recall\": 0.0}, {\"count\": 10, \"cutoff\": 2, \"userId\": 348, \"precision\": 0.0, \"recall\": 0.0}, {\"count\": 10, \"cutoff\": 3, \"userId\": 348, \"precision\": 0.0, \"recall\": 0.0}, {\"count\": 10, \"cutoff\": 4, \"userId\": 348, \"precision\": 0.0, \"recall\": 0.0}, {\"count\": 10, \"cutoff\": 5, \"userId\": 348, \"precision\": 0.0, \"recall\": 0.0}, {\"count\": 10, \"cutoff\": 6, \"userId\": 348, \"precision\": 0.0, \"recall\": 0.0}, {\"count\": 10, \"cutoff\": 7, \"userId\": 348, \"precision\": 0.0, \"recall\": 0.0}, {\"count\": 10, \"cutoff\": 8, \"userId\": 348, \"precision\": 0.0, \"recall\": 0.0}, {\"count\": 10, \"cutoff\": 9, \"userId\": 348, \"precision\": 0.0, \"recall\": 0.0}, {\"count\": 10, \"cutoff\": 10, \"userId\": 348, \"precision\": 0.0, \"recall\": 0.0}, {\"count\": 10, \"cutoff\": 11, \"userId\": 348, \"precision\": 0.0, \"recall\": 0.0}, {\"count\": 10, \"cutoff\": 16, \"userId\": 348, \"precision\": 0.0625, \"recall\": 0.1}, {\"count\": 10, \"cutoff\": 21, \"userId\": 348, \"precision\": 0.047619047619047616, \"recall\": 0.1}, {\"count\": 10, \"cutoff\": 26, \"userId\": 348, \"precision\": 0.038461538461538464, \"recall\": 0.1}, {\"count\": 10, \"cutoff\": 31, \"userId\": 348, \"precision\": 0.06451612903225806, \"recall\": 0.2}, {\"count\": 10, \"cutoff\": 36, \"userId\": 348, \"precision\": 0.05555555555555555, \"recall\": 0.2}, {\"count\": 10, \"cutoff\": 41, \"userId\": 348, \"precision\": 0.07317073170731707, \"recall\": 0.3}, {\"count\": 10, \"cutoff\": 46, \"userId\": 348, \"precision\": 0.06521739130434782, \"recall\": 0.3}, {\"count\": 16, \"cutoff\": 1, \"userId\": 352, \"precision\": 0.0, \"recall\": 0.0}, {\"count\": 16, \"cutoff\": 2, \"userId\": 352, \"precision\": 0.0, \"recall\": 0.0}, {\"count\": 16, \"cutoff\": 3, \"userId\": 352, \"precision\": 0.0, \"recall\": 0.0}, {\"count\": 16, \"cutoff\": 4, \"userId\": 352, \"precision\": 0.0, \"recall\": 0.0}, {\"count\": 16, \"cutoff\": 5, \"userId\": 352, \"precision\": 0.0, \"recall\": 0.0}, {\"count\": 16, \"cutoff\": 6, \"userId\": 352, \"precision\": 0.16666666666666666, \"recall\": 0.0625}, {\"count\": 16, \"cutoff\": 7, \"userId\": 352, \"precision\": 0.14285714285714285, \"recall\": 0.0625}, {\"count\": 16, \"cutoff\": 8, \"userId\": 352, \"precision\": 0.125, \"recall\": 0.0625}, {\"count\": 16, \"cutoff\": 9, \"userId\": 352, \"precision\": 0.1111111111111111, \"recall\": 0.0625}, {\"count\": 16, \"cutoff\": 10, \"userId\": 352, \"precision\": 0.1, \"recall\": 0.0625}, {\"count\": 16, \"cutoff\": 11, \"userId\": 352, \"precision\": 0.09090909090909091, \"recall\": 0.0625}, {\"count\": 16, \"cutoff\": 16, \"userId\": 352, \"precision\": 0.0625, \"recall\": 0.0625}, {\"count\": 16, \"cutoff\": 21, \"userId\": 352, \"precision\": 0.047619047619047616, \"recall\": 0.0625}, {\"count\": 16, \"cutoff\": 26, \"userId\": 352, \"precision\": 0.038461538461538464, \"recall\": 0.0625}, {\"count\": 16, \"cutoff\": 31, \"userId\": 352, \"precision\": 0.06451612903225806, \"recall\": 0.125}, {\"count\": 16, \"cutoff\": 36, \"userId\": 352, \"precision\": 0.05555555555555555, \"recall\": 0.125}, {\"count\": 16, \"cutoff\": 41, \"userId\": 352, \"precision\": 0.04878048780487805, \"recall\": 0.125}, {\"count\": 16, \"cutoff\": 46, \"userId\": 352, \"precision\": 0.043478260869565216, \"recall\": 0.125}, {\"count\": 9, \"cutoff\": 1, \"userId\": 359, \"precision\": 0.0, \"recall\": 0.0}, {\"count\": 9, \"cutoff\": 2, \"userId\": 359, \"precision\": 0.0, \"recall\": 0.0}, {\"count\": 9, \"cutoff\": 3, \"userId\": 359, \"precision\": 0.0, \"recall\": 0.0}, {\"count\": 9, \"cutoff\": 4, \"userId\": 359, \"precision\": 0.0, \"recall\": 0.0}, {\"count\": 9, \"cutoff\": 5, \"userId\": 359, \"precision\": 0.0, \"recall\": 0.0}, {\"count\": 9, \"cutoff\": 6, \"userId\": 359, \"precision\": 0.0, \"recall\": 0.0}, {\"count\": 9, \"cutoff\": 7, \"userId\": 359, \"precision\": 0.0, \"recall\": 0.0}, {\"count\": 9, \"cutoff\": 8, \"userId\": 359, \"precision\": 0.0, \"recall\": 0.0}, {\"count\": 9, \"cutoff\": 9, \"userId\": 359, \"precision\": 0.0, \"recall\": 0.0}, {\"count\": 9, \"cutoff\": 10, \"userId\": 359, \"precision\": 0.0, \"recall\": 0.0}, {\"count\": 9, \"cutoff\": 11, \"userId\": 359, \"precision\": 0.0, \"recall\": 0.0}, {\"count\": 9, \"cutoff\": 16, \"userId\": 359, \"precision\": 0.0625, \"recall\": 0.1111111111111111}, {\"count\": 9, \"cutoff\": 21, \"userId\": 359, \"precision\": 0.047619047619047616, \"recall\": 0.1111111111111111}, {\"count\": 9, \"cutoff\": 26, \"userId\": 359, \"precision\": 0.038461538461538464, \"recall\": 0.1111111111111111}, {\"count\": 9, \"cutoff\": 31, \"userId\": 359, \"precision\": 0.03225806451612903, \"recall\": 0.1111111111111111}, {\"count\": 9, \"cutoff\": 36, \"userId\": 359, \"precision\": 0.027777777777777776, \"recall\": 0.1111111111111111}, {\"count\": 9, \"cutoff\": 41, \"userId\": 359, \"precision\": 0.024390243902439025, \"recall\": 0.1111111111111111}, {\"count\": 9, \"cutoff\": 46, \"userId\": 359, \"precision\": 0.021739130434782608, \"recall\": 0.1111111111111111}, {\"count\": 28, \"cutoff\": 1, \"userId\": 362, \"precision\": 1.0, \"recall\": 0.03571428571428571}, {\"count\": 28, \"cutoff\": 2, \"userId\": 362, \"precision\": 0.5, \"recall\": 0.03571428571428571}, {\"count\": 28, \"cutoff\": 3, \"userId\": 362, \"precision\": 0.3333333333333333, \"recall\": 0.03571428571428571}, {\"count\": 28, \"cutoff\": 4, \"userId\": 362, \"precision\": 0.25, \"recall\": 0.03571428571428571}, {\"count\": 28, \"cutoff\": 5, \"userId\": 362, \"precision\": 0.2, \"recall\": 0.03571428571428571}, {\"count\": 28, \"cutoff\": 6, \"userId\": 362, \"precision\": 0.3333333333333333, \"recall\": 0.07142857142857142}, {\"count\": 28, \"cutoff\": 7, \"userId\": 362, \"precision\": 0.2857142857142857, \"recall\": 0.07142857142857142}, {\"count\": 28, \"cutoff\": 8, \"userId\": 362, \"precision\": 0.375, \"recall\": 0.10714285714285714}, {\"count\": 28, \"cutoff\": 9, \"userId\": 362, \"precision\": 0.4444444444444444, \"recall\": 0.14285714285714285}, {\"count\": 28, \"cutoff\": 10, \"userId\": 362, \"precision\": 0.5, \"recall\": 0.17857142857142858}, {\"count\": 28, \"cutoff\": 11, \"userId\": 362, \"precision\": 0.45454545454545453, \"recall\": 0.17857142857142858}, {\"count\": 28, \"cutoff\": 16, \"userId\": 362, \"precision\": 0.3125, \"recall\": 0.17857142857142858}, {\"count\": 28, \"cutoff\": 21, \"userId\": 362, \"precision\": 0.2857142857142857, \"recall\": 0.21428571428571427}, {\"count\": 28, \"cutoff\": 26, \"userId\": 362, \"precision\": 0.23076923076923078, \"recall\": 0.21428571428571427}, {\"count\": 28, \"cutoff\": 31, \"userId\": 362, \"precision\": 0.1935483870967742, \"recall\": 0.21428571428571427}, {\"count\": 28, \"cutoff\": 36, \"userId\": 362, \"precision\": 0.16666666666666666, \"recall\": 0.21428571428571427}, {\"count\": 28, \"cutoff\": 41, \"userId\": 362, \"precision\": 0.17073170731707318, \"recall\": 0.25}, {\"count\": 28, \"cutoff\": 46, \"userId\": 362, \"precision\": 0.15217391304347827, \"recall\": 0.25}, {\"count\": 42, \"cutoff\": 1, \"userId\": 367, \"precision\": 0.0, \"recall\": 0.0}, {\"count\": 42, \"cutoff\": 2, \"userId\": 367, \"precision\": 0.0, \"recall\": 0.0}, {\"count\": 42, \"cutoff\": 3, \"userId\": 367, \"precision\": 0.0, \"recall\": 0.0}, {\"count\": 42, \"cutoff\": 4, \"userId\": 367, \"precision\": 0.0, \"recall\": 0.0}, {\"count\": 42, \"cutoff\": 5, \"userId\": 367, \"precision\": 0.0, \"recall\": 0.0}, {\"count\": 42, \"cutoff\": 6, \"userId\": 367, \"precision\": 0.16666666666666666, \"recall\": 0.023809523809523808}, {\"count\": 42, \"cutoff\": 7, \"userId\": 367, \"precision\": 0.2857142857142857, \"recall\": 0.047619047619047616}, {\"count\": 42, \"cutoff\": 8, \"userId\": 367, \"precision\": 0.375, \"recall\": 0.07142857142857142}, {\"count\": 42, \"cutoff\": 9, \"userId\": 367, \"precision\": 0.3333333333333333, \"recall\": 0.07142857142857142}, {\"count\": 42, \"cutoff\": 10, \"userId\": 367, \"precision\": 0.3, \"recall\": 0.07142857142857142}, {\"count\": 42, \"cutoff\": 11, \"userId\": 367, \"precision\": 0.2727272727272727, \"recall\": 0.07142857142857142}, {\"count\": 42, \"cutoff\": 16, \"userId\": 367, \"precision\": 0.1875, \"recall\": 0.07142857142857142}, {\"count\": 42, \"cutoff\": 21, \"userId\": 367, \"precision\": 0.19047619047619047, \"recall\": 0.09523809523809523}, {\"count\": 42, \"cutoff\": 26, \"userId\": 367, \"precision\": 0.15384615384615385, \"recall\": 0.09523809523809523}, {\"count\": 42, \"cutoff\": 31, \"userId\": 367, \"precision\": 0.1935483870967742, \"recall\": 0.14285714285714285}, {\"count\": 42, \"cutoff\": 36, \"userId\": 367, \"precision\": 0.16666666666666666, \"recall\": 0.14285714285714285}, {\"count\": 42, \"cutoff\": 41, \"userId\": 367, \"precision\": 0.14634146341463414, \"recall\": 0.14285714285714285}, {\"count\": 42, \"cutoff\": 46, \"userId\": 367, \"precision\": 0.13043478260869565, \"recall\": 0.14285714285714285}, {\"count\": 13, \"cutoff\": 1, \"userId\": 369, \"precision\": 0.0, \"recall\": 0.0}, {\"count\": 13, \"cutoff\": 2, \"userId\": 369, \"precision\": 0.0, \"recall\": 0.0}, {\"count\": 13, \"cutoff\": 3, \"userId\": 369, \"precision\": 0.0, \"recall\": 0.0}, {\"count\": 13, \"cutoff\": 4, \"userId\": 369, \"precision\": 0.0, \"recall\": 0.0}, {\"count\": 13, \"cutoff\": 5, \"userId\": 369, \"precision\": 0.0, \"recall\": 0.0}, {\"count\": 13, \"cutoff\": 6, \"userId\": 369, \"precision\": 0.0, \"recall\": 0.0}, {\"count\": 13, \"cutoff\": 7, \"userId\": 369, \"precision\": 0.0, \"recall\": 0.0}, {\"count\": 13, \"cutoff\": 8, \"userId\": 369, \"precision\": 0.0, \"recall\": 0.0}, {\"count\": 13, \"cutoff\": 9, \"userId\": 369, \"precision\": 0.0, \"recall\": 0.0}, {\"count\": 13, \"cutoff\": 10, \"userId\": 369, \"precision\": 0.0, \"recall\": 0.0}, {\"count\": 13, \"cutoff\": 11, \"userId\": 369, \"precision\": 0.0, \"recall\": 0.0}, {\"count\": 13, \"cutoff\": 16, \"userId\": 369, \"precision\": 0.0, \"recall\": 0.0}, {\"count\": 13, \"cutoff\": 21, \"userId\": 369, \"precision\": 0.0, \"recall\": 0.0}, {\"count\": 13, \"cutoff\": 26, \"userId\": 369, \"precision\": 0.0, \"recall\": 0.0}, {\"count\": 13, \"cutoff\": 31, \"userId\": 369, \"precision\": 0.0, \"recall\": 0.0}, {\"count\": 13, \"cutoff\": 36, \"userId\": 369, \"precision\": 0.0, \"recall\": 0.0}, {\"count\": 13, \"cutoff\": 41, \"userId\": 369, \"precision\": 0.0, \"recall\": 0.0}, {\"count\": 13, \"cutoff\": 46, \"userId\": 369, \"precision\": 0.0, \"recall\": 0.0}, {\"count\": 23, \"cutoff\": 1, \"userId\": 370, \"precision\": 0.0, \"recall\": 0.0}, {\"count\": 23, \"cutoff\": 2, \"userId\": 370, \"precision\": 0.0, \"recall\": 0.0}, {\"count\": 23, \"cutoff\": 3, \"userId\": 370, \"precision\": 0.0, \"recall\": 0.0}, {\"count\": 23, \"cutoff\": 4, \"userId\": 370, \"precision\": 0.25, \"recall\": 0.043478260869565216}, {\"count\": 23, \"cutoff\": 5, \"userId\": 370, \"precision\": 0.2, \"recall\": 0.043478260869565216}, {\"count\": 23, \"cutoff\": 6, \"userId\": 370, \"precision\": 0.16666666666666666, \"recall\": 0.043478260869565216}, {\"count\": 23, \"cutoff\": 7, \"userId\": 370, \"precision\": 0.14285714285714285, \"recall\": 0.043478260869565216}, {\"count\": 23, \"cutoff\": 8, \"userId\": 370, \"precision\": 0.125, \"recall\": 0.043478260869565216}, {\"count\": 23, \"cutoff\": 9, \"userId\": 370, \"precision\": 0.1111111111111111, \"recall\": 0.043478260869565216}, {\"count\": 23, \"cutoff\": 10, \"userId\": 370, \"precision\": 0.1, \"recall\": 0.043478260869565216}, {\"count\": 23, \"cutoff\": 11, \"userId\": 370, \"precision\": 0.18181818181818182, \"recall\": 0.08695652173913043}, {\"count\": 23, \"cutoff\": 16, \"userId\": 370, \"precision\": 0.125, \"recall\": 0.08695652173913043}, {\"count\": 23, \"cutoff\": 21, \"userId\": 370, \"precision\": 0.19047619047619047, \"recall\": 0.17391304347826086}, {\"count\": 23, \"cutoff\": 26, \"userId\": 370, \"precision\": 0.15384615384615385, \"recall\": 0.17391304347826086}, {\"count\": 23, \"cutoff\": 31, \"userId\": 370, \"precision\": 0.16129032258064516, \"recall\": 0.21739130434782608}, {\"count\": 23, \"cutoff\": 36, \"userId\": 370, \"precision\": 0.16666666666666666, \"recall\": 0.2608695652173913}, {\"count\": 23, \"cutoff\": 41, \"userId\": 370, \"precision\": 0.14634146341463414, \"recall\": 0.2608695652173913}, {\"count\": 23, \"cutoff\": 46, \"userId\": 370, \"precision\": 0.15217391304347827, \"recall\": 0.30434782608695654}, {\"count\": 3, \"cutoff\": 1, \"userId\": 375, \"precision\": 0.0, \"recall\": 0.0}, {\"count\": 3, \"cutoff\": 2, \"userId\": 375, \"precision\": 0.0, \"recall\": 0.0}, {\"count\": 3, \"cutoff\": 3, \"userId\": 375, \"precision\": 0.3333333333333333, \"recall\": 0.3333333333333333}, {\"count\": 3, \"cutoff\": 4, \"userId\": 375, \"precision\": 0.25, \"recall\": 0.3333333333333333}, {\"count\": 3, \"cutoff\": 5, \"userId\": 375, \"precision\": 0.2, \"recall\": 0.3333333333333333}, {\"count\": 3, \"cutoff\": 6, \"userId\": 375, \"precision\": 0.16666666666666666, \"recall\": 0.3333333333333333}, {\"count\": 3, \"cutoff\": 7, \"userId\": 375, \"precision\": 0.14285714285714285, \"recall\": 0.3333333333333333}, {\"count\": 3, \"cutoff\": 8, \"userId\": 375, \"precision\": 0.125, \"recall\": 0.3333333333333333}, {\"count\": 3, \"cutoff\": 9, \"userId\": 375, \"precision\": 0.1111111111111111, \"recall\": 0.3333333333333333}, {\"count\": 3, \"cutoff\": 10, \"userId\": 375, \"precision\": 0.1, \"recall\": 0.3333333333333333}, {\"count\": 3, \"cutoff\": 11, \"userId\": 375, \"precision\": 0.09090909090909091, \"recall\": 0.3333333333333333}, {\"count\": 3, \"cutoff\": 16, \"userId\": 375, \"precision\": 0.0625, \"recall\": 0.3333333333333333}, {\"count\": 3, \"cutoff\": 21, \"userId\": 375, \"precision\": 0.047619047619047616, \"recall\": 0.3333333333333333}, {\"count\": 3, \"cutoff\": 26, \"userId\": 375, \"precision\": 0.038461538461538464, \"recall\": 0.3333333333333333}, {\"count\": 3, \"cutoff\": 31, \"userId\": 375, \"precision\": 0.06451612903225806, \"recall\": 0.6666666666666666}, {\"count\": 3, \"cutoff\": 36, \"userId\": 375, \"precision\": 0.05555555555555555, \"recall\": 0.6666666666666666}, {\"count\": 3, \"cutoff\": 41, \"userId\": 375, \"precision\": 0.04878048780487805, \"recall\": 0.6666666666666666}, {\"count\": 3, \"cutoff\": 46, \"userId\": 375, \"precision\": 0.043478260869565216, \"recall\": 0.6666666666666666}, {\"count\": 11, \"cutoff\": 1, \"userId\": 376, \"precision\": 1.0, \"recall\": 0.09090909090909091}, {\"count\": 11, \"cutoff\": 2, \"userId\": 376, \"precision\": 1.0, \"recall\": 0.18181818181818182}, {\"count\": 11, \"cutoff\": 3, \"userId\": 376, \"precision\": 0.6666666666666666, \"recall\": 0.18181818181818182}, {\"count\": 11, \"cutoff\": 4, \"userId\": 376, \"precision\": 0.5, \"recall\": 0.18181818181818182}, {\"count\": 11, \"cutoff\": 5, \"userId\": 376, \"precision\": 0.4, \"recall\": 0.18181818181818182}, {\"count\": 11, \"cutoff\": 6, \"userId\": 376, \"precision\": 0.3333333333333333, \"recall\": 0.18181818181818182}, {\"count\": 11, \"cutoff\": 7, \"userId\": 376, \"precision\": 0.2857142857142857, \"recall\": 0.18181818181818182}, {\"count\": 11, \"cutoff\": 8, \"userId\": 376, \"precision\": 0.25, \"recall\": 0.18181818181818182}, {\"count\": 11, \"cutoff\": 9, \"userId\": 376, \"precision\": 0.2222222222222222, \"recall\": 0.18181818181818182}, {\"count\": 11, \"cutoff\": 10, \"userId\": 376, \"precision\": 0.2, \"recall\": 0.18181818181818182}, {\"count\": 11, \"cutoff\": 11, \"userId\": 376, \"precision\": 0.18181818181818182, \"recall\": 0.18181818181818182}, {\"count\": 11, \"cutoff\": 16, \"userId\": 376, \"precision\": 0.125, \"recall\": 0.18181818181818182}, {\"count\": 11, \"cutoff\": 21, \"userId\": 376, \"precision\": 0.14285714285714285, \"recall\": 0.2727272727272727}, {\"count\": 11, \"cutoff\": 26, \"userId\": 376, \"precision\": 0.11538461538461539, \"recall\": 0.2727272727272727}, {\"count\": 11, \"cutoff\": 31, \"userId\": 376, \"precision\": 0.0967741935483871, \"recall\": 0.2727272727272727}, {\"count\": 11, \"cutoff\": 36, \"userId\": 376, \"precision\": 0.08333333333333333, \"recall\": 0.2727272727272727}, {\"count\": 11, \"cutoff\": 41, \"userId\": 376, \"precision\": 0.07317073170731707, \"recall\": 0.2727272727272727}, {\"count\": 11, \"cutoff\": 46, \"userId\": 376, \"precision\": 0.08695652173913043, \"recall\": 0.36363636363636365}, {\"count\": 28, \"cutoff\": 1, \"userId\": 390, \"precision\": 0.0, \"recall\": 0.0}, {\"count\": 28, \"cutoff\": 2, \"userId\": 390, \"precision\": 0.0, \"recall\": 0.0}, {\"count\": 28, \"cutoff\": 3, \"userId\": 390, \"precision\": 0.0, \"recall\": 0.0}, {\"count\": 28, \"cutoff\": 4, \"userId\": 390, \"precision\": 0.0, \"recall\": 0.0}, {\"count\": 28, \"cutoff\": 5, \"userId\": 390, \"precision\": 0.0, \"recall\": 0.0}, {\"count\": 28, \"cutoff\": 6, \"userId\": 390, \"precision\": 0.0, \"recall\": 0.0}, {\"count\": 28, \"cutoff\": 7, \"userId\": 390, \"precision\": 0.14285714285714285, \"recall\": 0.03571428571428571}, {\"count\": 28, \"cutoff\": 8, \"userId\": 390, \"precision\": 0.125, \"recall\": 0.03571428571428571}, {\"count\": 28, \"cutoff\": 9, \"userId\": 390, \"precision\": 0.1111111111111111, \"recall\": 0.03571428571428571}, {\"count\": 28, \"cutoff\": 10, \"userId\": 390, \"precision\": 0.1, \"recall\": 0.03571428571428571}, {\"count\": 28, \"cutoff\": 11, \"userId\": 390, \"precision\": 0.09090909090909091, \"recall\": 0.03571428571428571}, {\"count\": 28, \"cutoff\": 16, \"userId\": 390, \"precision\": 0.125, \"recall\": 0.07142857142857142}, {\"count\": 28, \"cutoff\": 21, \"userId\": 390, \"precision\": 0.09523809523809523, \"recall\": 0.07142857142857142}, {\"count\": 28, \"cutoff\": 26, \"userId\": 390, \"precision\": 0.11538461538461539, \"recall\": 0.10714285714285714}, {\"count\": 28, \"cutoff\": 31, \"userId\": 390, \"precision\": 0.0967741935483871, \"recall\": 0.10714285714285714}, {\"count\": 28, \"cutoff\": 36, \"userId\": 390, \"precision\": 0.1111111111111111, \"recall\": 0.14285714285714285}, {\"count\": 28, \"cutoff\": 41, \"userId\": 390, \"precision\": 0.12195121951219512, \"recall\": 0.17857142857142858}, {\"count\": 28, \"cutoff\": 46, \"userId\": 390, \"precision\": 0.10869565217391304, \"recall\": 0.17857142857142858}, {\"count\": 26, \"cutoff\": 1, \"userId\": 391, \"precision\": 0.0, \"recall\": 0.0}, {\"count\": 26, \"cutoff\": 2, \"userId\": 391, \"precision\": 0.0, \"recall\": 0.0}, {\"count\": 26, \"cutoff\": 3, \"userId\": 391, \"precision\": 0.0, \"recall\": 0.0}, {\"count\": 26, \"cutoff\": 4, \"userId\": 391, \"precision\": 0.0, \"recall\": 0.0}, {\"count\": 26, \"cutoff\": 5, \"userId\": 391, \"precision\": 0.0, \"recall\": 0.0}, {\"count\": 26, \"cutoff\": 6, \"userId\": 391, \"precision\": 0.0, \"recall\": 0.0}, {\"count\": 26, \"cutoff\": 7, \"userId\": 391, \"precision\": 0.0, \"recall\": 0.0}, {\"count\": 26, \"cutoff\": 8, \"userId\": 391, \"precision\": 0.0, \"recall\": 0.0}, {\"count\": 26, \"cutoff\": 9, \"userId\": 391, \"precision\": 0.0, \"recall\": 0.0}, {\"count\": 26, \"cutoff\": 10, \"userId\": 391, \"precision\": 0.0, \"recall\": 0.0}, {\"count\": 26, \"cutoff\": 11, \"userId\": 391, \"precision\": 0.0, \"recall\": 0.0}, {\"count\": 26, \"cutoff\": 16, \"userId\": 391, \"precision\": 0.0, \"recall\": 0.0}, {\"count\": 26, \"cutoff\": 21, \"userId\": 391, \"precision\": 0.0, \"recall\": 0.0}, {\"count\": 26, \"cutoff\": 26, \"userId\": 391, \"precision\": 0.038461538461538464, \"recall\": 0.038461538461538464}, {\"count\": 26, \"cutoff\": 31, \"userId\": 391, \"precision\": 0.06451612903225806, \"recall\": 0.07692307692307693}, {\"count\": 26, \"cutoff\": 36, \"userId\": 391, \"precision\": 0.05555555555555555, \"recall\": 0.07692307692307693}, {\"count\": 26, \"cutoff\": 41, \"userId\": 391, \"precision\": 0.04878048780487805, \"recall\": 0.07692307692307693}, {\"count\": 26, \"cutoff\": 46, \"userId\": 391, \"precision\": 0.06521739130434782, \"recall\": 0.11538461538461539}, {\"count\": 12, \"cutoff\": 1, \"userId\": 393, \"precision\": 0.0, \"recall\": 0.0}, {\"count\": 12, \"cutoff\": 2, \"userId\": 393, \"precision\": 0.0, \"recall\": 0.0}, {\"count\": 12, \"cutoff\": 3, \"userId\": 393, \"precision\": 0.0, \"recall\": 0.0}, {\"count\": 12, \"cutoff\": 4, \"userId\": 393, \"precision\": 0.0, \"recall\": 0.0}, {\"count\": 12, \"cutoff\": 5, \"userId\": 393, \"precision\": 0.0, \"recall\": 0.0}, {\"count\": 12, \"cutoff\": 6, \"userId\": 393, \"precision\": 0.0, \"recall\": 0.0}, {\"count\": 12, \"cutoff\": 7, \"userId\": 393, \"precision\": 0.0, \"recall\": 0.0}, {\"count\": 12, \"cutoff\": 8, \"userId\": 393, \"precision\": 0.0, \"recall\": 0.0}, {\"count\": 12, \"cutoff\": 9, \"userId\": 393, \"precision\": 0.0, \"recall\": 0.0}, {\"count\": 12, \"cutoff\": 10, \"userId\": 393, \"precision\": 0.0, \"recall\": 0.0}, {\"count\": 12, \"cutoff\": 11, \"userId\": 393, \"precision\": 0.0, \"recall\": 0.0}, {\"count\": 12, \"cutoff\": 16, \"userId\": 393, \"precision\": 0.0, \"recall\": 0.0}, {\"count\": 12, \"cutoff\": 21, \"userId\": 393, \"precision\": 0.0, \"recall\": 0.0}, {\"count\": 12, \"cutoff\": 26, \"userId\": 393, \"precision\": 0.0, \"recall\": 0.0}, {\"count\": 12, \"cutoff\": 31, \"userId\": 393, \"precision\": 0.0, \"recall\": 0.0}, {\"count\": 12, \"cutoff\": 36, \"userId\": 393, \"precision\": 0.0, \"recall\": 0.0}, {\"count\": 12, \"cutoff\": 41, \"userId\": 393, \"precision\": 0.0, \"recall\": 0.0}, {\"count\": 12, \"cutoff\": 46, \"userId\": 393, \"precision\": 0.0, \"recall\": 0.0}, {\"count\": 35, \"cutoff\": 1, \"userId\": 394, \"precision\": 1.0, \"recall\": 0.02857142857142857}, {\"count\": 35, \"cutoff\": 2, \"userId\": 394, \"precision\": 1.0, \"recall\": 0.05714285714285714}, {\"count\": 35, \"cutoff\": 3, \"userId\": 394, \"precision\": 0.6666666666666666, \"recall\": 0.05714285714285714}, {\"count\": 35, \"cutoff\": 4, \"userId\": 394, \"precision\": 0.5, \"recall\": 0.05714285714285714}, {\"count\": 35, \"cutoff\": 5, \"userId\": 394, \"precision\": 0.4, \"recall\": 0.05714285714285714}, {\"count\": 35, \"cutoff\": 6, \"userId\": 394, \"precision\": 0.3333333333333333, \"recall\": 0.05714285714285714}, {\"count\": 35, \"cutoff\": 7, \"userId\": 394, \"precision\": 0.2857142857142857, \"recall\": 0.05714285714285714}, {\"count\": 35, \"cutoff\": 8, \"userId\": 394, \"precision\": 0.25, \"recall\": 0.05714285714285714}, {\"count\": 35, \"cutoff\": 9, \"userId\": 394, \"precision\": 0.3333333333333333, \"recall\": 0.08571428571428572}, {\"count\": 35, \"cutoff\": 10, \"userId\": 394, \"precision\": 0.3, \"recall\": 0.08571428571428572}, {\"count\": 35, \"cutoff\": 11, \"userId\": 394, \"precision\": 0.2727272727272727, \"recall\": 0.08571428571428572}, {\"count\": 35, \"cutoff\": 16, \"userId\": 394, \"precision\": 0.3125, \"recall\": 0.14285714285714285}, {\"count\": 35, \"cutoff\": 21, \"userId\": 394, \"precision\": 0.23809523809523808, \"recall\": 0.14285714285714285}, {\"count\": 35, \"cutoff\": 26, \"userId\": 394, \"precision\": 0.19230769230769232, \"recall\": 0.14285714285714285}, {\"count\": 35, \"cutoff\": 31, \"userId\": 394, \"precision\": 0.16129032258064516, \"recall\": 0.14285714285714285}, {\"count\": 35, \"cutoff\": 36, \"userId\": 394, \"precision\": 0.1388888888888889, \"recall\": 0.14285714285714285}, {\"count\": 35, \"cutoff\": 41, \"userId\": 394, \"precision\": 0.12195121951219512, \"recall\": 0.14285714285714285}, {\"count\": 35, \"cutoff\": 46, \"userId\": 394, \"precision\": 0.13043478260869565, \"recall\": 0.17142857142857143}, {\"count\": 35, \"cutoff\": 1, \"userId\": 396, \"precision\": 0.0, \"recall\": 0.0}, {\"count\": 35, \"cutoff\": 2, \"userId\": 396, \"precision\": 0.0, \"recall\": 0.0}, {\"count\": 35, \"cutoff\": 3, \"userId\": 396, \"precision\": 0.0, \"recall\": 0.0}, {\"count\": 35, \"cutoff\": 4, \"userId\": 396, \"precision\": 0.0, \"recall\": 0.0}, {\"count\": 35, \"cutoff\": 5, \"userId\": 396, \"precision\": 0.0, \"recall\": 0.0}, {\"count\": 35, \"cutoff\": 6, \"userId\": 396, \"precision\": 0.0, \"recall\": 0.0}, {\"count\": 35, \"cutoff\": 7, \"userId\": 396, \"precision\": 0.0, \"recall\": 0.0}, {\"count\": 35, \"cutoff\": 8, \"userId\": 396, \"precision\": 0.0, \"recall\": 0.0}, {\"count\": 35, \"cutoff\": 9, \"userId\": 396, \"precision\": 0.0, \"recall\": 0.0}, {\"count\": 35, \"cutoff\": 10, \"userId\": 396, \"precision\": 0.0, \"recall\": 0.0}, {\"count\": 35, \"cutoff\": 11, \"userId\": 396, \"precision\": 0.0, \"recall\": 0.0}, {\"count\": 35, \"cutoff\": 16, \"userId\": 396, \"precision\": 0.0, \"recall\": 0.0}, {\"count\": 35, \"cutoff\": 21, \"userId\": 396, \"precision\": 0.0, \"recall\": 0.0}, {\"count\": 35, \"cutoff\": 26, \"userId\": 396, \"precision\": 0.0, \"recall\": 0.0}, {\"count\": 35, \"cutoff\": 31, \"userId\": 396, \"precision\": 0.06451612903225806, \"recall\": 0.05714285714285714}, {\"count\": 35, \"cutoff\": 36, \"userId\": 396, \"precision\": 0.05555555555555555, \"recall\": 0.05714285714285714}, {\"count\": 35, \"cutoff\": 41, \"userId\": 396, \"precision\": 0.04878048780487805, \"recall\": 0.05714285714285714}, {\"count\": 35, \"cutoff\": 46, \"userId\": 396, \"precision\": 0.043478260869565216, \"recall\": 0.05714285714285714}, {\"count\": 9, \"cutoff\": 1, \"userId\": 400, \"precision\": 0.0, \"recall\": 0.0}, {\"count\": 9, \"cutoff\": 2, \"userId\": 400, \"precision\": 0.0, \"recall\": 0.0}, {\"count\": 9, \"cutoff\": 3, \"userId\": 400, \"precision\": 0.0, \"recall\": 0.0}, {\"count\": 9, \"cutoff\": 4, \"userId\": 400, \"precision\": 0.0, \"recall\": 0.0}, {\"count\": 9, \"cutoff\": 5, \"userId\": 400, \"precision\": 0.0, \"recall\": 0.0}, {\"count\": 9, \"cutoff\": 6, \"userId\": 400, \"precision\": 0.0, \"recall\": 0.0}, {\"count\": 9, \"cutoff\": 7, \"userId\": 400, \"precision\": 0.0, \"recall\": 0.0}, {\"count\": 9, \"cutoff\": 8, \"userId\": 400, \"precision\": 0.0, \"recall\": 0.0}, {\"count\": 9, \"cutoff\": 9, \"userId\": 400, \"precision\": 0.0, \"recall\": 0.0}, {\"count\": 9, \"cutoff\": 10, \"userId\": 400, \"precision\": 0.0, \"recall\": 0.0}, {\"count\": 9, \"cutoff\": 11, \"userId\": 400, \"precision\": 0.0, \"recall\": 0.0}, {\"count\": 9, \"cutoff\": 16, \"userId\": 400, \"precision\": 0.0, \"recall\": 0.0}, {\"count\": 9, \"cutoff\": 21, \"userId\": 400, \"precision\": 0.0, \"recall\": 0.0}, {\"count\": 9, \"cutoff\": 26, \"userId\": 400, \"precision\": 0.0, \"recall\": 0.0}, {\"count\": 9, \"cutoff\": 31, \"userId\": 400, \"precision\": 0.0, \"recall\": 0.0}, {\"count\": 9, \"cutoff\": 36, \"userId\": 400, \"precision\": 0.0, \"recall\": 0.0}, {\"count\": 9, \"cutoff\": 41, \"userId\": 400, \"precision\": 0.0, \"recall\": 0.0}, {\"count\": 9, \"cutoff\": 46, \"userId\": 400, \"precision\": 0.0, \"recall\": 0.0}, {\"count\": 18, \"cutoff\": 1, \"userId\": 401, \"precision\": 0.0, \"recall\": 0.0}, {\"count\": 18, \"cutoff\": 2, \"userId\": 401, \"precision\": 0.0, \"recall\": 0.0}, {\"count\": 18, \"cutoff\": 3, \"userId\": 401, \"precision\": 0.0, \"recall\": 0.0}, {\"count\": 18, \"cutoff\": 4, \"userId\": 401, \"precision\": 0.0, \"recall\": 0.0}, {\"count\": 18, \"cutoff\": 5, \"userId\": 401, \"precision\": 0.0, \"recall\": 0.0}, {\"count\": 18, \"cutoff\": 6, \"userId\": 401, \"precision\": 0.16666666666666666, \"recall\": 0.05555555555555555}, {\"count\": 18, \"cutoff\": 7, \"userId\": 401, \"precision\": 0.14285714285714285, \"recall\": 0.05555555555555555}, {\"count\": 18, \"cutoff\": 8, \"userId\": 401, \"precision\": 0.125, \"recall\": 0.05555555555555555}, {\"count\": 18, \"cutoff\": 9, \"userId\": 401, \"precision\": 0.1111111111111111, \"recall\": 0.05555555555555555}, {\"count\": 18, \"cutoff\": 10, \"userId\": 401, \"precision\": 0.2, \"recall\": 0.1111111111111111}, {\"count\": 18, \"cutoff\": 11, \"userId\": 401, \"precision\": 0.18181818181818182, \"recall\": 0.1111111111111111}, {\"count\": 18, \"cutoff\": 16, \"userId\": 401, \"precision\": 0.1875, \"recall\": 0.16666666666666666}, {\"count\": 18, \"cutoff\": 21, \"userId\": 401, \"precision\": 0.14285714285714285, \"recall\": 0.16666666666666666}, {\"count\": 18, \"cutoff\": 26, \"userId\": 401, \"precision\": 0.11538461538461539, \"recall\": 0.16666666666666666}, {\"count\": 18, \"cutoff\": 31, \"userId\": 401, \"precision\": 0.0967741935483871, \"recall\": 0.16666666666666666}, {\"count\": 18, \"cutoff\": 36, \"userId\": 401, \"precision\": 0.1111111111111111, \"recall\": 0.2222222222222222}, {\"count\": 18, \"cutoff\": 41, \"userId\": 401, \"precision\": 0.0975609756097561, \"recall\": 0.2222222222222222}, {\"count\": 18, \"cutoff\": 46, \"userId\": 401, \"precision\": 0.08695652173913043, \"recall\": 0.2222222222222222}, {\"count\": 87, \"cutoff\": 1, \"userId\": 405, \"precision\": 0.0, \"recall\": 0.0}, {\"count\": 87, \"cutoff\": 2, \"userId\": 405, \"precision\": 0.0, \"recall\": 0.0}, {\"count\": 87, \"cutoff\": 3, \"userId\": 405, \"precision\": 0.0, \"recall\": 0.0}, {\"count\": 87, \"cutoff\": 4, \"userId\": 405, \"precision\": 0.0, \"recall\": 0.0}, {\"count\": 87, \"cutoff\": 5, \"userId\": 405, \"precision\": 0.0, \"recall\": 0.0}, {\"count\": 87, \"cutoff\": 6, \"userId\": 405, \"precision\": 0.16666666666666666, \"recall\": 0.011494252873563218}, {\"count\": 87, \"cutoff\": 7, \"userId\": 405, \"precision\": 0.14285714285714285, \"recall\": 0.011494252873563218}, {\"count\": 87, \"cutoff\": 8, \"userId\": 405, \"precision\": 0.125, \"recall\": 0.011494252873563218}, {\"count\": 87, \"cutoff\": 9, \"userId\": 405, \"precision\": 0.1111111111111111, \"recall\": 0.011494252873563218}, {\"count\": 87, \"cutoff\": 10, \"userId\": 405, \"precision\": 0.1, \"recall\": 0.011494252873563218}, {\"count\": 87, \"cutoff\": 11, \"userId\": 405, \"precision\": 0.09090909090909091, \"recall\": 0.011494252873563218}, {\"count\": 87, \"cutoff\": 16, \"userId\": 405, \"precision\": 0.125, \"recall\": 0.022988505747126436}, {\"count\": 87, \"cutoff\": 21, \"userId\": 405, \"precision\": 0.09523809523809523, \"recall\": 0.022988505747126436}, {\"count\": 87, \"cutoff\": 26, \"userId\": 405, \"precision\": 0.11538461538461539, \"recall\": 0.034482758620689655}, {\"count\": 87, \"cutoff\": 31, \"userId\": 405, \"precision\": 0.0967741935483871, \"recall\": 0.034482758620689655}, {\"count\": 87, \"cutoff\": 36, \"userId\": 405, \"precision\": 0.1111111111111111, \"recall\": 0.04597701149425287}, {\"count\": 87, \"cutoff\": 41, \"userId\": 405, \"precision\": 0.12195121951219512, \"recall\": 0.05747126436781609}, {\"count\": 87, \"cutoff\": 46, \"userId\": 405, \"precision\": 0.10869565217391304, \"recall\": 0.05747126436781609}, {\"count\": 12, \"cutoff\": 1, \"userId\": 406, \"precision\": 0.0, \"recall\": 0.0}, {\"count\": 12, \"cutoff\": 2, \"userId\": 406, \"precision\": 0.0, \"recall\": 0.0}, {\"count\": 12, \"cutoff\": 3, \"userId\": 406, \"precision\": 0.0, \"recall\": 0.0}, {\"count\": 12, \"cutoff\": 4, \"userId\": 406, \"precision\": 0.0, \"recall\": 0.0}, {\"count\": 12, \"cutoff\": 5, \"userId\": 406, \"precision\": 0.0, \"recall\": 0.0}, {\"count\": 12, \"cutoff\": 6, \"userId\": 406, \"precision\": 0.0, \"recall\": 0.0}, {\"count\": 12, \"cutoff\": 7, \"userId\": 406, \"precision\": 0.0, \"recall\": 0.0}, {\"count\": 12, \"cutoff\": 8, \"userId\": 406, \"precision\": 0.0, \"recall\": 0.0}, {\"count\": 12, \"cutoff\": 9, \"userId\": 406, \"precision\": 0.0, \"recall\": 0.0}, {\"count\": 12, \"cutoff\": 10, \"userId\": 406, \"precision\": 0.0, \"recall\": 0.0}, {\"count\": 12, \"cutoff\": 11, \"userId\": 406, \"precision\": 0.0, \"recall\": 0.0}, {\"count\": 12, \"cutoff\": 16, \"userId\": 406, \"precision\": 0.0, \"recall\": 0.0}, {\"count\": 12, \"cutoff\": 21, \"userId\": 406, \"precision\": 0.0, \"recall\": 0.0}, {\"count\": 12, \"cutoff\": 26, \"userId\": 406, \"precision\": 0.0, \"recall\": 0.0}, {\"count\": 12, \"cutoff\": 31, \"userId\": 406, \"precision\": 0.0, \"recall\": 0.0}, {\"count\": 12, \"cutoff\": 36, \"userId\": 406, \"precision\": 0.0, \"recall\": 0.0}, {\"count\": 12, \"cutoff\": 41, \"userId\": 406, \"precision\": 0.0, \"recall\": 0.0}, {\"count\": 12, \"cutoff\": 46, \"userId\": 406, \"precision\": 0.021739130434782608, \"recall\": 0.08333333333333333}, {\"count\": 4, \"cutoff\": 1, \"userId\": 410, \"precision\": 0.0, \"recall\": 0.0}, {\"count\": 4, \"cutoff\": 2, \"userId\": 410, \"precision\": 0.0, \"recall\": 0.0}, {\"count\": 4, \"cutoff\": 3, \"userId\": 410, \"precision\": 0.3333333333333333, \"recall\": 0.25}, {\"count\": 4, \"cutoff\": 4, \"userId\": 410, \"precision\": 0.25, \"recall\": 0.25}, {\"count\": 4, \"cutoff\": 5, \"userId\": 410, \"precision\": 0.2, \"recall\": 0.25}, {\"count\": 4, \"cutoff\": 6, \"userId\": 410, \"precision\": 0.16666666666666666, \"recall\": 0.25}, {\"count\": 4, \"cutoff\": 7, \"userId\": 410, \"precision\": 0.14285714285714285, \"recall\": 0.25}, {\"count\": 4, \"cutoff\": 8, \"userId\": 410, \"precision\": 0.125, \"recall\": 0.25}, {\"count\": 4, \"cutoff\": 9, \"userId\": 410, \"precision\": 0.1111111111111111, \"recall\": 0.25}, {\"count\": 4, \"cutoff\": 10, \"userId\": 410, \"precision\": 0.1, \"recall\": 0.25}, {\"count\": 4, \"cutoff\": 11, \"userId\": 410, \"precision\": 0.09090909090909091, \"recall\": 0.25}, {\"count\": 4, \"cutoff\": 16, \"userId\": 410, \"precision\": 0.0625, \"recall\": 0.25}, {\"count\": 4, \"cutoff\": 21, \"userId\": 410, \"precision\": 0.047619047619047616, \"recall\": 0.25}, {\"count\": 4, \"cutoff\": 26, \"userId\": 410, \"precision\": 0.07692307692307693, \"recall\": 0.5}, {\"count\": 4, \"cutoff\": 31, \"userId\": 410, \"precision\": 0.06451612903225806, \"recall\": 0.5}, {\"count\": 4, \"cutoff\": 36, \"userId\": 410, \"precision\": 0.08333333333333333, \"recall\": 0.75}, {\"count\": 4, \"cutoff\": 41, \"userId\": 410, \"precision\": 0.07317073170731707, \"recall\": 0.75}, {\"count\": 4, \"cutoff\": 46, \"userId\": 410, \"precision\": 0.06521739130434782, \"recall\": 0.75}, {\"count\": 2, \"cutoff\": 1, \"userId\": 415, \"precision\": 0.0, \"recall\": 0.0}, {\"count\": 2, \"cutoff\": 2, \"userId\": 415, \"precision\": 0.0, \"recall\": 0.0}, {\"count\": 2, \"cutoff\": 3, \"userId\": 415, \"precision\": 0.0, \"recall\": 0.0}, {\"count\": 2, \"cutoff\": 4, \"userId\": 415, \"precision\": 0.0, \"recall\": 0.0}, {\"count\": 2, \"cutoff\": 5, \"userId\": 415, \"precision\": 0.0, \"recall\": 0.0}, {\"count\": 2, \"cutoff\": 6, \"userId\": 415, \"precision\": 0.0, \"recall\": 0.0}, {\"count\": 2, \"cutoff\": 7, \"userId\": 415, \"precision\": 0.0, \"recall\": 0.0}, {\"count\": 2, \"cutoff\": 8, \"userId\": 415, \"precision\": 0.0, \"recall\": 0.0}, {\"count\": 2, \"cutoff\": 9, \"userId\": 415, \"precision\": 0.0, \"recall\": 0.0}, {\"count\": 2, \"cutoff\": 10, \"userId\": 415, \"precision\": 0.0, \"recall\": 0.0}, {\"count\": 2, \"cutoff\": 11, \"userId\": 415, \"precision\": 0.0, \"recall\": 0.0}, {\"count\": 2, \"cutoff\": 16, \"userId\": 415, \"precision\": 0.0, \"recall\": 0.0}, {\"count\": 2, \"cutoff\": 21, \"userId\": 415, \"precision\": 0.0, \"recall\": 0.0}, {\"count\": 2, \"cutoff\": 26, \"userId\": 415, \"precision\": 0.0, \"recall\": 0.0}, {\"count\": 2, \"cutoff\": 31, \"userId\": 415, \"precision\": 0.0, \"recall\": 0.0}, {\"count\": 2, \"cutoff\": 36, \"userId\": 415, \"precision\": 0.0, \"recall\": 0.0}, {\"count\": 2, \"cutoff\": 41, \"userId\": 415, \"precision\": 0.0, \"recall\": 0.0}, {\"count\": 2, \"cutoff\": 46, \"userId\": 415, \"precision\": 0.0, \"recall\": 0.0}, {\"count\": 31, \"cutoff\": 1, \"userId\": 418, \"precision\": 0.0, \"recall\": 0.0}, {\"count\": 31, \"cutoff\": 2, \"userId\": 418, \"precision\": 0.0, \"recall\": 0.0}, {\"count\": 31, \"cutoff\": 3, \"userId\": 418, \"precision\": 0.0, \"recall\": 0.0}, {\"count\": 31, \"cutoff\": 4, \"userId\": 418, \"precision\": 0.0, \"recall\": 0.0}, {\"count\": 31, \"cutoff\": 5, \"userId\": 418, \"precision\": 0.0, \"recall\": 0.0}, {\"count\": 31, \"cutoff\": 6, \"userId\": 418, \"precision\": 0.0, \"recall\": 0.0}, {\"count\": 31, \"cutoff\": 7, \"userId\": 418, \"precision\": 0.0, \"recall\": 0.0}, {\"count\": 31, \"cutoff\": 8, \"userId\": 418, \"precision\": 0.0, \"recall\": 0.0}, {\"count\": 31, \"cutoff\": 9, \"userId\": 418, \"precision\": 0.0, \"recall\": 0.0}, {\"count\": 31, \"cutoff\": 10, \"userId\": 418, \"precision\": 0.0, \"recall\": 0.0}, {\"count\": 31, \"cutoff\": 11, \"userId\": 418, \"precision\": 0.0, \"recall\": 0.0}, {\"count\": 31, \"cutoff\": 16, \"userId\": 418, \"precision\": 0.0625, \"recall\": 0.03225806451612903}, {\"count\": 31, \"cutoff\": 21, \"userId\": 418, \"precision\": 0.09523809523809523, \"recall\": 0.06451612903225806}, {\"count\": 31, \"cutoff\": 26, \"userId\": 418, \"precision\": 0.11538461538461539, \"recall\": 0.0967741935483871}, {\"count\": 31, \"cutoff\": 31, \"userId\": 418, \"precision\": 0.0967741935483871, \"recall\": 0.0967741935483871}, {\"count\": 31, \"cutoff\": 36, \"userId\": 418, \"precision\": 0.08333333333333333, \"recall\": 0.0967741935483871}, {\"count\": 31, \"cutoff\": 41, \"userId\": 418, \"precision\": 0.07317073170731707, \"recall\": 0.0967741935483871}, {\"count\": 31, \"cutoff\": 46, \"userId\": 418, \"precision\": 0.06521739130434782, \"recall\": 0.0967741935483871}, {\"count\": 54, \"cutoff\": 1, \"userId\": 431, \"precision\": 1.0, \"recall\": 0.018518518518518517}, {\"count\": 54, \"cutoff\": 2, \"userId\": 431, \"precision\": 0.5, \"recall\": 0.018518518518518517}, {\"count\": 54, \"cutoff\": 3, \"userId\": 431, \"precision\": 0.3333333333333333, \"recall\": 0.018518518518518517}, {\"count\": 54, \"cutoff\": 4, \"userId\": 431, \"precision\": 0.25, \"recall\": 0.018518518518518517}, {\"count\": 54, \"cutoff\": 5, \"userId\": 431, \"precision\": 0.2, \"recall\": 0.018518518518518517}, {\"count\": 54, \"cutoff\": 6, \"userId\": 431, \"precision\": 0.3333333333333333, \"recall\": 0.037037037037037035}, {\"count\": 54, \"cutoff\": 7, \"userId\": 431, \"precision\": 0.42857142857142855, \"recall\": 0.05555555555555555}, {\"count\": 54, \"cutoff\": 8, \"userId\": 431, \"precision\": 0.375, \"recall\": 0.05555555555555555}, {\"count\": 54, \"cutoff\": 9, \"userId\": 431, \"precision\": 0.3333333333333333, \"recall\": 0.05555555555555555}, {\"count\": 54, \"cutoff\": 10, \"userId\": 431, \"precision\": 0.3, \"recall\": 0.05555555555555555}, {\"count\": 54, \"cutoff\": 11, \"userId\": 431, \"precision\": 0.36363636363636365, \"recall\": 0.07407407407407407}, {\"count\": 54, \"cutoff\": 16, \"userId\": 431, \"precision\": 0.3125, \"recall\": 0.09259259259259259}, {\"count\": 54, \"cutoff\": 21, \"userId\": 431, \"precision\": 0.3333333333333333, \"recall\": 0.12962962962962962}, {\"count\": 54, \"cutoff\": 26, \"userId\": 431, \"precision\": 0.3076923076923077, \"recall\": 0.14814814814814814}, {\"count\": 54, \"cutoff\": 31, \"userId\": 431, \"precision\": 0.25806451612903225, \"recall\": 0.14814814814814814}, {\"count\": 54, \"cutoff\": 36, \"userId\": 431, \"precision\": 0.25, \"recall\": 0.16666666666666666}, {\"count\": 54, \"cutoff\": 41, \"userId\": 431, \"precision\": 0.2682926829268293, \"recall\": 0.2037037037037037}, {\"count\": 54, \"cutoff\": 46, \"userId\": 431, \"precision\": 0.2391304347826087, \"recall\": 0.2037037037037037}, {\"count\": 11, \"cutoff\": 1, \"userId\": 432, \"precision\": 1.0, \"recall\": 0.09090909090909091}, {\"count\": 11, \"cutoff\": 2, \"userId\": 432, \"precision\": 0.5, \"recall\": 0.09090909090909091}, {\"count\": 11, \"cutoff\": 3, \"userId\": 432, \"precision\": 0.3333333333333333, \"recall\": 0.09090909090909091}, {\"count\": 11, \"cutoff\": 4, \"userId\": 432, \"precision\": 0.25, \"recall\": 0.09090909090909091}, {\"count\": 11, \"cutoff\": 5, \"userId\": 432, \"precision\": 0.2, \"recall\": 0.09090909090909091}, {\"count\": 11, \"cutoff\": 6, \"userId\": 432, \"precision\": 0.16666666666666666, \"recall\": 0.09090909090909091}, {\"count\": 11, \"cutoff\": 7, \"userId\": 432, \"precision\": 0.14285714285714285, \"recall\": 0.09090909090909091}, {\"count\": 11, \"cutoff\": 8, \"userId\": 432, \"precision\": 0.125, \"recall\": 0.09090909090909091}, {\"count\": 11, \"cutoff\": 9, \"userId\": 432, \"precision\": 0.2222222222222222, \"recall\": 0.18181818181818182}, {\"count\": 11, \"cutoff\": 10, \"userId\": 432, \"precision\": 0.2, \"recall\": 0.18181818181818182}, {\"count\": 11, \"cutoff\": 11, \"userId\": 432, \"precision\": 0.18181818181818182, \"recall\": 0.18181818181818182}, {\"count\": 11, \"cutoff\": 16, \"userId\": 432, \"precision\": 0.125, \"recall\": 0.18181818181818182}, {\"count\": 11, \"cutoff\": 21, \"userId\": 432, \"precision\": 0.09523809523809523, \"recall\": 0.18181818181818182}, {\"count\": 11, \"cutoff\": 26, \"userId\": 432, \"precision\": 0.07692307692307693, \"recall\": 0.18181818181818182}, {\"count\": 11, \"cutoff\": 31, \"userId\": 432, \"precision\": 0.06451612903225806, \"recall\": 0.18181818181818182}, {\"count\": 11, \"cutoff\": 36, \"userId\": 432, \"precision\": 0.08333333333333333, \"recall\": 0.2727272727272727}, {\"count\": 11, \"cutoff\": 41, \"userId\": 432, \"precision\": 0.07317073170731707, \"recall\": 0.2727272727272727}, {\"count\": 11, \"cutoff\": 46, \"userId\": 432, \"precision\": 0.06521739130434782, \"recall\": 0.2727272727272727}, {\"count\": 40, \"cutoff\": 1, \"userId\": 433, \"precision\": 1.0, \"recall\": 0.025}, {\"count\": 40, \"cutoff\": 2, \"userId\": 433, \"precision\": 1.0, \"recall\": 0.05}, {\"count\": 40, \"cutoff\": 3, \"userId\": 433, \"precision\": 1.0, \"recall\": 0.075}, {\"count\": 40, \"cutoff\": 4, \"userId\": 433, \"precision\": 1.0, \"recall\": 0.1}, {\"count\": 40, \"cutoff\": 5, \"userId\": 433, \"precision\": 1.0, \"recall\": 0.125}, {\"count\": 40, \"cutoff\": 6, \"userId\": 433, \"precision\": 0.8333333333333334, \"recall\": 0.125}, {\"count\": 40, \"cutoff\": 7, \"userId\": 433, \"precision\": 0.7142857142857143, \"recall\": 0.125}, {\"count\": 40, \"cutoff\": 8, \"userId\": 433, \"precision\": 0.75, \"recall\": 0.15}, {\"count\": 40, \"cutoff\": 9, \"userId\": 433, \"precision\": 0.6666666666666666, \"recall\": 0.15}, {\"count\": 40, \"cutoff\": 10, \"userId\": 433, \"precision\": 0.6, \"recall\": 0.15}, {\"count\": 40, \"cutoff\": 11, \"userId\": 433, \"precision\": 0.5454545454545454, \"recall\": 0.15}, {\"count\": 40, \"cutoff\": 16, \"userId\": 433, \"precision\": 0.375, \"recall\": 0.15}, {\"count\": 40, \"cutoff\": 21, \"userId\": 433, \"precision\": 0.2857142857142857, \"recall\": 0.15}, {\"count\": 40, \"cutoff\": 26, \"userId\": 433, \"precision\": 0.2692307692307692, \"recall\": 0.175}, {\"count\": 40, \"cutoff\": 31, \"userId\": 433, \"precision\": 0.2903225806451613, \"recall\": 0.225}, {\"count\": 40, \"cutoff\": 36, \"userId\": 433, \"precision\": 0.25, \"recall\": 0.225}, {\"count\": 40, \"cutoff\": 41, \"userId\": 433, \"precision\": 0.2682926829268293, \"recall\": 0.275}, {\"count\": 40, \"cutoff\": 46, \"userId\": 433, \"precision\": 0.2608695652173913, \"recall\": 0.3}, {\"count\": 3, \"cutoff\": 1, \"userId\": 435, \"precision\": 0.0, \"recall\": 0.0}, {\"count\": 3, \"cutoff\": 2, \"userId\": 435, \"precision\": 0.0, \"recall\": 0.0}, {\"count\": 3, \"cutoff\": 3, \"userId\": 435, \"precision\": 0.0, \"recall\": 0.0}, {\"count\": 3, \"cutoff\": 4, \"userId\": 435, \"precision\": 0.0, \"recall\": 0.0}, {\"count\": 3, \"cutoff\": 5, \"userId\": 435, \"precision\": 0.2, \"recall\": 0.3333333333333333}, {\"count\": 3, \"cutoff\": 6, \"userId\": 435, \"precision\": 0.16666666666666666, \"recall\": 0.3333333333333333}, {\"count\": 3, \"cutoff\": 7, \"userId\": 435, \"precision\": 0.14285714285714285, \"recall\": 0.3333333333333333}, {\"count\": 3, \"cutoff\": 8, \"userId\": 435, \"precision\": 0.125, \"recall\": 0.3333333333333333}, {\"count\": 3, \"cutoff\": 9, \"userId\": 435, \"precision\": 0.1111111111111111, \"recall\": 0.3333333333333333}, {\"count\": 3, \"cutoff\": 10, \"userId\": 435, \"precision\": 0.1, \"recall\": 0.3333333333333333}, {\"count\": 3, \"cutoff\": 11, \"userId\": 435, \"precision\": 0.09090909090909091, \"recall\": 0.3333333333333333}, {\"count\": 3, \"cutoff\": 16, \"userId\": 435, \"precision\": 0.0625, \"recall\": 0.3333333333333333}, {\"count\": 3, \"cutoff\": 21, \"userId\": 435, \"precision\": 0.047619047619047616, \"recall\": 0.3333333333333333}, {\"count\": 3, \"cutoff\": 26, \"userId\": 435, \"precision\": 0.038461538461538464, \"recall\": 0.3333333333333333}, {\"count\": 3, \"cutoff\": 31, \"userId\": 435, \"precision\": 0.06451612903225806, \"recall\": 0.6666666666666666}, {\"count\": 3, \"cutoff\": 36, \"userId\": 435, \"precision\": 0.05555555555555555, \"recall\": 0.6666666666666666}, {\"count\": 3, \"cutoff\": 41, \"userId\": 435, \"precision\": 0.04878048780487805, \"recall\": 0.6666666666666666}, {\"count\": 3, \"cutoff\": 46, \"userId\": 435, \"precision\": 0.043478260869565216, \"recall\": 0.6666666666666666}, {\"count\": 22, \"cutoff\": 1, \"userId\": 441, \"precision\": 0.0, \"recall\": 0.0}, {\"count\": 22, \"cutoff\": 2, \"userId\": 441, \"precision\": 0.0, \"recall\": 0.0}, {\"count\": 22, \"cutoff\": 3, \"userId\": 441, \"precision\": 0.0, \"recall\": 0.0}, {\"count\": 22, \"cutoff\": 4, \"userId\": 441, \"precision\": 0.25, \"recall\": 0.045454545454545456}, {\"count\": 22, \"cutoff\": 5, \"userId\": 441, \"precision\": 0.2, \"recall\": 0.045454545454545456}, {\"count\": 22, \"cutoff\": 6, \"userId\": 441, \"precision\": 0.16666666666666666, \"recall\": 0.045454545454545456}, {\"count\": 22, \"cutoff\": 7, \"userId\": 441, \"precision\": 0.14285714285714285, \"recall\": 0.045454545454545456}, {\"count\": 22, \"cutoff\": 8, \"userId\": 441, \"precision\": 0.125, \"recall\": 0.045454545454545456}, {\"count\": 22, \"cutoff\": 9, \"userId\": 441, \"precision\": 0.1111111111111111, \"recall\": 0.045454545454545456}, {\"count\": 22, \"cutoff\": 10, \"userId\": 441, \"precision\": 0.1, \"recall\": 0.045454545454545456}, {\"count\": 22, \"cutoff\": 11, \"userId\": 441, \"precision\": 0.09090909090909091, \"recall\": 0.045454545454545456}, {\"count\": 22, \"cutoff\": 16, \"userId\": 441, \"precision\": 0.0625, \"recall\": 0.045454545454545456}, {\"count\": 22, \"cutoff\": 21, \"userId\": 441, \"precision\": 0.09523809523809523, \"recall\": 0.09090909090909091}, {\"count\": 22, \"cutoff\": 26, \"userId\": 441, \"precision\": 0.11538461538461539, \"recall\": 0.13636363636363635}, {\"count\": 22, \"cutoff\": 31, \"userId\": 441, \"precision\": 0.0967741935483871, \"recall\": 0.13636363636363635}, {\"count\": 22, \"cutoff\": 36, \"userId\": 441, \"precision\": 0.08333333333333333, \"recall\": 0.13636363636363635}, {\"count\": 22, \"cutoff\": 41, \"userId\": 441, \"precision\": 0.07317073170731707, \"recall\": 0.13636363636363635}, {\"count\": 22, \"cutoff\": 46, \"userId\": 441, \"precision\": 0.06521739130434782, \"recall\": 0.13636363636363635}, {\"count\": 17, \"cutoff\": 1, \"userId\": 447, \"precision\": 0.0, \"recall\": 0.0}, {\"count\": 17, \"cutoff\": 2, \"userId\": 447, \"precision\": 0.0, \"recall\": 0.0}, {\"count\": 17, \"cutoff\": 3, \"userId\": 447, \"precision\": 0.0, \"recall\": 0.0}, {\"count\": 17, \"cutoff\": 4, \"userId\": 447, \"precision\": 0.0, \"recall\": 0.0}, {\"count\": 17, \"cutoff\": 5, \"userId\": 447, \"precision\": 0.0, \"recall\": 0.0}, {\"count\": 17, \"cutoff\": 6, \"userId\": 447, \"precision\": 0.0, \"recall\": 0.0}, {\"count\": 17, \"cutoff\": 7, \"userId\": 447, \"precision\": 0.0, \"recall\": 0.0}, {\"count\": 17, \"cutoff\": 8, \"userId\": 447, \"precision\": 0.125, \"recall\": 0.058823529411764705}, {\"count\": 17, \"cutoff\": 9, \"userId\": 447, \"precision\": 0.1111111111111111, \"recall\": 0.058823529411764705}, {\"count\": 17, \"cutoff\": 10, \"userId\": 447, \"precision\": 0.1, \"recall\": 0.058823529411764705}, {\"count\": 17, \"cutoff\": 11, \"userId\": 447, \"precision\": 0.09090909090909091, \"recall\": 0.058823529411764705}, {\"count\": 17, \"cutoff\": 16, \"userId\": 447, \"precision\": 0.0625, \"recall\": 0.058823529411764705}, {\"count\": 17, \"cutoff\": 21, \"userId\": 447, \"precision\": 0.047619047619047616, \"recall\": 0.058823529411764705}, {\"count\": 17, \"cutoff\": 26, \"userId\": 447, \"precision\": 0.038461538461538464, \"recall\": 0.058823529411764705}, {\"count\": 17, \"cutoff\": 31, \"userId\": 447, \"precision\": 0.03225806451612903, \"recall\": 0.058823529411764705}, {\"count\": 17, \"cutoff\": 36, \"userId\": 447, \"precision\": 0.027777777777777776, \"recall\": 0.058823529411764705}, {\"count\": 17, \"cutoff\": 41, \"userId\": 447, \"precision\": 0.024390243902439025, \"recall\": 0.058823529411764705}, {\"count\": 17, \"cutoff\": 46, \"userId\": 447, \"precision\": 0.021739130434782608, \"recall\": 0.058823529411764705}, {\"count\": 3, \"cutoff\": 1, \"userId\": 448, \"precision\": 0.0, \"recall\": 0.0}, {\"count\": 3, \"cutoff\": 2, \"userId\": 448, \"precision\": 0.0, \"recall\": 0.0}, {\"count\": 3, \"cutoff\": 3, \"userId\": 448, \"precision\": 0.0, \"recall\": 0.0}, {\"count\": 3, \"cutoff\": 4, \"userId\": 448, \"precision\": 0.0, \"recall\": 0.0}, {\"count\": 3, \"cutoff\": 5, \"userId\": 448, \"precision\": 0.0, \"recall\": 0.0}, {\"count\": 3, \"cutoff\": 6, \"userId\": 448, \"precision\": 0.0, \"recall\": 0.0}, {\"count\": 3, \"cutoff\": 7, \"userId\": 448, \"precision\": 0.0, \"recall\": 0.0}, {\"count\": 3, \"cutoff\": 8, \"userId\": 448, \"precision\": 0.125, \"recall\": 0.3333333333333333}, {\"count\": 3, \"cutoff\": 9, \"userId\": 448, \"precision\": 0.1111111111111111, \"recall\": 0.3333333333333333}, {\"count\": 3, \"cutoff\": 10, \"userId\": 448, \"precision\": 0.1, \"recall\": 0.3333333333333333}, {\"count\": 3, \"cutoff\": 11, \"userId\": 448, \"precision\": 0.09090909090909091, \"recall\": 0.3333333333333333}, {\"count\": 3, \"cutoff\": 16, \"userId\": 448, \"precision\": 0.125, \"recall\": 0.6666666666666666}, {\"count\": 3, \"cutoff\": 21, \"userId\": 448, \"precision\": 0.14285714285714285, \"recall\": 1.0}, {\"count\": 3, \"cutoff\": 26, \"userId\": 448, \"precision\": 0.11538461538461539, \"recall\": 1.0}, {\"count\": 3, \"cutoff\": 31, \"userId\": 448, \"precision\": 0.0967741935483871, \"recall\": 1.0}, {\"count\": 3, \"cutoff\": 36, \"userId\": 448, \"precision\": 0.08333333333333333, \"recall\": 1.0}, {\"count\": 3, \"cutoff\": 41, \"userId\": 448, \"precision\": 0.07317073170731707, \"recall\": 1.0}, {\"count\": 3, \"cutoff\": 46, \"userId\": 448, \"precision\": 0.06521739130434782, \"recall\": 1.0}, {\"count\": 15, \"cutoff\": 1, \"userId\": 453, \"precision\": 0.0, \"recall\": 0.0}, {\"count\": 15, \"cutoff\": 2, \"userId\": 453, \"precision\": 0.0, \"recall\": 0.0}, {\"count\": 15, \"cutoff\": 3, \"userId\": 453, \"precision\": 0.0, \"recall\": 0.0}, {\"count\": 15, \"cutoff\": 4, \"userId\": 453, \"precision\": 0.0, \"recall\": 0.0}, {\"count\": 15, \"cutoff\": 5, \"userId\": 453, \"precision\": 0.0, \"recall\": 0.0}, {\"count\": 15, \"cutoff\": 6, \"userId\": 453, \"precision\": 0.0, \"recall\": 0.0}, {\"count\": 15, \"cutoff\": 7, \"userId\": 453, \"precision\": 0.0, \"recall\": 0.0}, {\"count\": 15, \"cutoff\": 8, \"userId\": 453, \"precision\": 0.0, \"recall\": 0.0}, {\"count\": 15, \"cutoff\": 9, \"userId\": 453, \"precision\": 0.0, \"recall\": 0.0}, {\"count\": 15, \"cutoff\": 10, \"userId\": 453, \"precision\": 0.0, \"recall\": 0.0}, {\"count\": 15, \"cutoff\": 11, \"userId\": 453, \"precision\": 0.0, \"recall\": 0.0}, {\"count\": 15, \"cutoff\": 16, \"userId\": 453, \"precision\": 0.0, \"recall\": 0.0}, {\"count\": 15, \"cutoff\": 21, \"userId\": 453, \"precision\": 0.0, \"recall\": 0.0}, {\"count\": 15, \"cutoff\": 26, \"userId\": 453, \"precision\": 0.0, \"recall\": 0.0}, {\"count\": 15, \"cutoff\": 31, \"userId\": 453, \"precision\": 0.0, \"recall\": 0.0}, {\"count\": 15, \"cutoff\": 36, \"userId\": 453, \"precision\": 0.0, \"recall\": 0.0}, {\"count\": 15, \"cutoff\": 41, \"userId\": 453, \"precision\": 0.0, \"recall\": 0.0}, {\"count\": 15, \"cutoff\": 46, \"userId\": 453, \"precision\": 0.021739130434782608, \"recall\": 0.06666666666666667}, {\"count\": 8, \"cutoff\": 1, \"userId\": 454, \"precision\": 1.0, \"recall\": 0.125}, {\"count\": 8, \"cutoff\": 2, \"userId\": 454, \"precision\": 0.5, \"recall\": 0.125}, {\"count\": 8, \"cutoff\": 3, \"userId\": 454, \"precision\": 0.6666666666666666, \"recall\": 0.25}, {\"count\": 8, \"cutoff\": 4, \"userId\": 454, \"precision\": 0.75, \"recall\": 0.375}, {\"count\": 8, \"cutoff\": 5, \"userId\": 454, \"precision\": 0.6, \"recall\": 0.375}, {\"count\": 8, \"cutoff\": 6, \"userId\": 454, \"precision\": 0.6666666666666666, \"recall\": 0.5}, {\"count\": 8, \"cutoff\": 7, \"userId\": 454, \"precision\": 0.5714285714285714, \"recall\": 0.5}, {\"count\": 8, \"cutoff\": 8, \"userId\": 454, \"precision\": 0.5, \"recall\": 0.5}, {\"count\": 8, \"cutoff\": 9, \"userId\": 454, \"precision\": 0.4444444444444444, \"recall\": 0.5}, {\"count\": 8, \"cutoff\": 10, \"userId\": 454, \"precision\": 0.4, \"recall\": 0.5}, {\"count\": 8, \"cutoff\": 11, \"userId\": 454, \"precision\": 0.45454545454545453, \"recall\": 0.625}, {\"count\": 8, \"cutoff\": 16, \"userId\": 454, \"precision\": 0.3125, \"recall\": 0.625}, {\"count\": 8, \"cutoff\": 21, \"userId\": 454, \"precision\": 0.23809523809523808, \"recall\": 0.625}, {\"count\": 8, \"cutoff\": 26, \"userId\": 454, \"precision\": 0.23076923076923078, \"recall\": 0.75}, {\"count\": 8, \"cutoff\": 31, \"userId\": 454, \"precision\": 0.1935483870967742, \"recall\": 0.75}, {\"count\": 8, \"cutoff\": 36, \"userId\": 454, \"precision\": 0.19444444444444445, \"recall\": 0.875}, {\"count\": 8, \"cutoff\": 41, \"userId\": 454, \"precision\": 0.17073170731707318, \"recall\": 0.875}, {\"count\": 8, \"cutoff\": 46, \"userId\": 454, \"precision\": 0.15217391304347827, \"recall\": 0.875}, {\"count\": 142, \"cutoff\": 1, \"userId\": 461, \"precision\": 1.0, \"recall\": 0.007042253521126761}, {\"count\": 142, \"cutoff\": 2, \"userId\": 461, \"precision\": 1.0, \"recall\": 0.014084507042253521}, {\"count\": 142, \"cutoff\": 3, \"userId\": 461, \"precision\": 1.0, \"recall\": 0.02112676056338028}, {\"count\": 142, \"cutoff\": 4, \"userId\": 461, \"precision\": 0.75, \"recall\": 0.02112676056338028}, {\"count\": 142, \"cutoff\": 5, \"userId\": 461, \"precision\": 0.8, \"recall\": 0.028169014084507043}, {\"count\": 142, \"cutoff\": 6, \"userId\": 461, \"precision\": 0.8333333333333334, \"recall\": 0.035211267605633804}, {\"count\": 142, \"cutoff\": 7, \"userId\": 461, \"precision\": 0.8571428571428571, \"recall\": 0.04225352112676056}, {\"count\": 142, \"cutoff\": 8, \"userId\": 461, \"precision\": 0.875, \"recall\": 0.04929577464788732}, {\"count\": 142, \"cutoff\": 9, \"userId\": 461, \"precision\": 0.8888888888888888, \"recall\": 0.056338028169014086}, {\"count\": 142, \"cutoff\": 10, \"userId\": 461, \"precision\": 0.8, \"recall\": 0.056338028169014086}, {\"count\": 142, \"cutoff\": 11, \"userId\": 461, \"precision\": 0.7272727272727273, \"recall\": 0.056338028169014086}, {\"count\": 142, \"cutoff\": 16, \"userId\": 461, \"precision\": 0.5625, \"recall\": 0.06338028169014084}, {\"count\": 142, \"cutoff\": 21, \"userId\": 461, \"precision\": 0.5714285714285714, \"recall\": 0.08450704225352113}, {\"count\": 142, \"cutoff\": 26, \"userId\": 461, \"precision\": 0.6538461538461539, \"recall\": 0.11971830985915492}, {\"count\": 142, \"cutoff\": 31, \"userId\": 461, \"precision\": 0.6129032258064516, \"recall\": 0.13380281690140844}, {\"count\": 142, \"cutoff\": 36, \"userId\": 461, \"precision\": 0.5833333333333334, \"recall\": 0.14788732394366197}, {\"count\": 142, \"cutoff\": 41, \"userId\": 461, \"precision\": 0.5609756097560976, \"recall\": 0.1619718309859155}, {\"count\": 142, \"cutoff\": 46, \"userId\": 461, \"precision\": 0.5869565217391305, \"recall\": 0.19014084507042253}, {\"count\": 9, \"cutoff\": 1, \"userId\": 462, \"precision\": 0.0, \"recall\": 0.0}, {\"count\": 9, \"cutoff\": 2, \"userId\": 462, \"precision\": 0.0, \"recall\": 0.0}, {\"count\": 9, \"cutoff\": 3, \"userId\": 462, \"precision\": 0.0, \"recall\": 0.0}, {\"count\": 9, \"cutoff\": 4, \"userId\": 462, \"precision\": 0.0, \"recall\": 0.0}, {\"count\": 9, \"cutoff\": 5, \"userId\": 462, \"precision\": 0.0, \"recall\": 0.0}, {\"count\": 9, \"cutoff\": 6, \"userId\": 462, \"precision\": 0.0, \"recall\": 0.0}, {\"count\": 9, \"cutoff\": 7, \"userId\": 462, \"precision\": 0.0, \"recall\": 0.0}, {\"count\": 9, \"cutoff\": 8, \"userId\": 462, \"precision\": 0.0, \"recall\": 0.0}, {\"count\": 9, \"cutoff\": 9, \"userId\": 462, \"precision\": 0.0, \"recall\": 0.0}, {\"count\": 9, \"cutoff\": 10, \"userId\": 462, \"precision\": 0.0, \"recall\": 0.0}, {\"count\": 9, \"cutoff\": 11, \"userId\": 462, \"precision\": 0.0, \"recall\": 0.0}, {\"count\": 9, \"cutoff\": 16, \"userId\": 462, \"precision\": 0.0, \"recall\": 0.0}, {\"count\": 9, \"cutoff\": 21, \"userId\": 462, \"precision\": 0.0, \"recall\": 0.0}, {\"count\": 9, \"cutoff\": 26, \"userId\": 462, \"precision\": 0.0, \"recall\": 0.0}, {\"count\": 9, \"cutoff\": 31, \"userId\": 462, \"precision\": 0.0, \"recall\": 0.0}, {\"count\": 9, \"cutoff\": 36, \"userId\": 462, \"precision\": 0.0, \"recall\": 0.0}, {\"count\": 9, \"cutoff\": 41, \"userId\": 462, \"precision\": 0.0, \"recall\": 0.0}, {\"count\": 9, \"cutoff\": 46, \"userId\": 462, \"precision\": 0.0, \"recall\": 0.0}, {\"count\": 103, \"cutoff\": 1, \"userId\": 463, \"precision\": 1.0, \"recall\": 0.009708737864077669}, {\"count\": 103, \"cutoff\": 2, \"userId\": 463, \"precision\": 1.0, \"recall\": 0.019417475728155338}, {\"count\": 103, \"cutoff\": 3, \"userId\": 463, \"precision\": 0.6666666666666666, \"recall\": 0.019417475728155338}, {\"count\": 103, \"cutoff\": 4, \"userId\": 463, \"precision\": 0.75, \"recall\": 0.02912621359223301}, {\"count\": 103, \"cutoff\": 5, \"userId\": 463, \"precision\": 0.6, \"recall\": 0.02912621359223301}, {\"count\": 103, \"cutoff\": 6, \"userId\": 463, \"precision\": 0.6666666666666666, \"recall\": 0.038834951456310676}, {\"count\": 103, \"cutoff\": 7, \"userId\": 463, \"precision\": 0.5714285714285714, \"recall\": 0.038834951456310676}, {\"count\": 103, \"cutoff\": 8, \"userId\": 463, \"precision\": 0.5, \"recall\": 0.038834951456310676}, {\"count\": 103, \"cutoff\": 9, \"userId\": 463, \"precision\": 0.5555555555555556, \"recall\": 0.04854368932038835}, {\"count\": 103, \"cutoff\": 10, \"userId\": 463, \"precision\": 0.5, \"recall\": 0.04854368932038835}, {\"count\": 103, \"cutoff\": 11, \"userId\": 463, \"precision\": 0.45454545454545453, \"recall\": 0.04854368932038835}, {\"count\": 103, \"cutoff\": 16, \"userId\": 463, \"precision\": 0.4375, \"recall\": 0.06796116504854369}, {\"count\": 103, \"cutoff\": 21, \"userId\": 463, \"precision\": 0.42857142857142855, \"recall\": 0.08737864077669903}, {\"count\": 103, \"cutoff\": 26, \"userId\": 463, \"precision\": 0.4230769230769231, \"recall\": 0.10679611650485436}, {\"count\": 103, \"cutoff\": 31, \"userId\": 463, \"precision\": 0.3548387096774194, \"recall\": 0.10679611650485436}, {\"count\": 103, \"cutoff\": 36, \"userId\": 463, \"precision\": 0.3055555555555556, \"recall\": 0.10679611650485436}, {\"count\": 103, \"cutoff\": 41, \"userId\": 463, \"precision\": 0.2926829268292683, \"recall\": 0.11650485436893204}, {\"count\": 103, \"cutoff\": 46, \"userId\": 463, \"precision\": 0.2608695652173913, \"recall\": 0.11650485436893204}, {\"count\": 6, \"cutoff\": 1, \"userId\": 464, \"precision\": 0.0, \"recall\": 0.0}, {\"count\": 6, \"cutoff\": 2, \"userId\": 464, \"precision\": 0.0, \"recall\": 0.0}, {\"count\": 6, \"cutoff\": 3, \"userId\": 464, \"precision\": 0.0, \"recall\": 0.0}, {\"count\": 6, \"cutoff\": 4, \"userId\": 464, \"precision\": 0.0, \"recall\": 0.0}, {\"count\": 6, \"cutoff\": 5, \"userId\": 464, \"precision\": 0.0, \"recall\": 0.0}, {\"count\": 6, \"cutoff\": 6, \"userId\": 464, \"precision\": 0.0, \"recall\": 0.0}, {\"count\": 6, \"cutoff\": 7, \"userId\": 464, \"precision\": 0.0, \"recall\": 0.0}, {\"count\": 6, \"cutoff\": 8, \"userId\": 464, \"precision\": 0.0, \"recall\": 0.0}, {\"count\": 6, \"cutoff\": 9, \"userId\": 464, \"precision\": 0.0, \"recall\": 0.0}, {\"count\": 6, \"cutoff\": 10, \"userId\": 464, \"precision\": 0.0, \"recall\": 0.0}, {\"count\": 6, \"cutoff\": 11, \"userId\": 464, \"precision\": 0.0, \"recall\": 0.0}, {\"count\": 6, \"cutoff\": 16, \"userId\": 464, \"precision\": 0.0, \"recall\": 0.0}, {\"count\": 6, \"cutoff\": 21, \"userId\": 464, \"precision\": 0.0, \"recall\": 0.0}, {\"count\": 6, \"cutoff\": 26, \"userId\": 464, \"precision\": 0.0, \"recall\": 0.0}, {\"count\": 6, \"cutoff\": 31, \"userId\": 464, \"precision\": 0.0, \"recall\": 0.0}, {\"count\": 6, \"cutoff\": 36, \"userId\": 464, \"precision\": 0.0, \"recall\": 0.0}, {\"count\": 6, \"cutoff\": 41, \"userId\": 464, \"precision\": 0.0, \"recall\": 0.0}, {\"count\": 6, \"cutoff\": 46, \"userId\": 464, \"precision\": 0.0, \"recall\": 0.0}, {\"count\": 6, \"cutoff\": 1, \"userId\": 465, \"precision\": 0.0, \"recall\": 0.0}, {\"count\": 6, \"cutoff\": 2, \"userId\": 465, \"precision\": 0.0, \"recall\": 0.0}, {\"count\": 6, \"cutoff\": 3, \"userId\": 465, \"precision\": 0.0, \"recall\": 0.0}, {\"count\": 6, \"cutoff\": 4, \"userId\": 465, \"precision\": 0.0, \"recall\": 0.0}, {\"count\": 6, \"cutoff\": 5, \"userId\": 465, \"precision\": 0.0, \"recall\": 0.0}, {\"count\": 6, \"cutoff\": 6, \"userId\": 465, \"precision\": 0.0, \"recall\": 0.0}, {\"count\": 6, \"cutoff\": 7, \"userId\": 465, \"precision\": 0.0, \"recall\": 0.0}, {\"count\": 6, \"cutoff\": 8, \"userId\": 465, \"precision\": 0.0, \"recall\": 0.0}, {\"count\": 6, \"cutoff\": 9, \"userId\": 465, \"precision\": 0.0, \"recall\": 0.0}, {\"count\": 6, \"cutoff\": 10, \"userId\": 465, \"precision\": 0.0, \"recall\": 0.0}, {\"count\": 6, \"cutoff\": 11, \"userId\": 465, \"precision\": 0.0, \"recall\": 0.0}, {\"count\": 6, \"cutoff\": 16, \"userId\": 465, \"precision\": 0.0, \"recall\": 0.0}, {\"count\": 6, \"cutoff\": 21, \"userId\": 465, \"precision\": 0.0, \"recall\": 0.0}, {\"count\": 6, \"cutoff\": 26, \"userId\": 465, \"precision\": 0.0, \"recall\": 0.0}, {\"count\": 6, \"cutoff\": 31, \"userId\": 465, \"precision\": 0.0, \"recall\": 0.0}, {\"count\": 6, \"cutoff\": 36, \"userId\": 465, \"precision\": 0.0, \"recall\": 0.0}, {\"count\": 6, \"cutoff\": 41, \"userId\": 465, \"precision\": 0.0, \"recall\": 0.0}, {\"count\": 6, \"cutoff\": 46, \"userId\": 465, \"precision\": 0.0, \"recall\": 0.0}, {\"count\": 42, \"cutoff\": 1, \"userId\": 471, \"precision\": 0.0, \"recall\": 0.0}, {\"count\": 42, \"cutoff\": 2, \"userId\": 471, \"precision\": 0.0, \"recall\": 0.0}, {\"count\": 42, \"cutoff\": 3, \"userId\": 471, \"precision\": 0.0, \"recall\": 0.0}, {\"count\": 42, \"cutoff\": 4, \"userId\": 471, \"precision\": 0.0, \"recall\": 0.0}, {\"count\": 42, \"cutoff\": 5, \"userId\": 471, \"precision\": 0.0, \"recall\": 0.0}, {\"count\": 42, \"cutoff\": 6, \"userId\": 471, \"precision\": 0.0, \"recall\": 0.0}, {\"count\": 42, \"cutoff\": 7, \"userId\": 471, \"precision\": 0.0, \"recall\": 0.0}, {\"count\": 42, \"cutoff\": 8, \"userId\": 471, \"precision\": 0.0, \"recall\": 0.0}, {\"count\": 42, \"cutoff\": 9, \"userId\": 471, \"precision\": 0.0, \"recall\": 0.0}, {\"count\": 42, \"cutoff\": 10, \"userId\": 471, \"precision\": 0.1, \"recall\": 0.023809523809523808}, {\"count\": 42, \"cutoff\": 11, \"userId\": 471, \"precision\": 0.09090909090909091, \"recall\": 0.023809523809523808}, {\"count\": 42, \"cutoff\": 16, \"userId\": 471, \"precision\": 0.125, \"recall\": 0.047619047619047616}, {\"count\": 42, \"cutoff\": 21, \"userId\": 471, \"precision\": 0.09523809523809523, \"recall\": 0.047619047619047616}, {\"count\": 42, \"cutoff\": 26, \"userId\": 471, \"precision\": 0.11538461538461539, \"recall\": 0.07142857142857142}, {\"count\": 42, \"cutoff\": 31, \"userId\": 471, \"precision\": 0.0967741935483871, \"recall\": 0.07142857142857142}, {\"count\": 42, \"cutoff\": 36, \"userId\": 471, \"precision\": 0.16666666666666666, \"recall\": 0.14285714285714285}, {\"count\": 42, \"cutoff\": 41, \"userId\": 471, \"precision\": 0.14634146341463414, \"recall\": 0.14285714285714285}, {\"count\": 42, \"cutoff\": 46, \"userId\": 471, \"precision\": 0.13043478260869565, \"recall\": 0.14285714285714285}, {\"count\": 74, \"cutoff\": 1, \"userId\": 480, \"precision\": 1.0, \"recall\": 0.013513513513513514}, {\"count\": 74, \"cutoff\": 2, \"userId\": 480, \"precision\": 0.5, \"recall\": 0.013513513513513514}, {\"count\": 74, \"cutoff\": 3, \"userId\": 480, \"precision\": 0.3333333333333333, \"recall\": 0.013513513513513514}, {\"count\": 74, \"cutoff\": 4, \"userId\": 480, \"precision\": 0.25, \"recall\": 0.013513513513513514}, {\"count\": 74, \"cutoff\": 5, \"userId\": 480, \"precision\": 0.2, \"recall\": 0.013513513513513514}, {\"count\": 74, \"cutoff\": 6, \"userId\": 480, \"precision\": 0.16666666666666666, \"recall\": 0.013513513513513514}, {\"count\": 74, \"cutoff\": 7, \"userId\": 480, \"precision\": 0.14285714285714285, \"recall\": 0.013513513513513514}, {\"count\": 74, \"cutoff\": 8, \"userId\": 480, \"precision\": 0.125, \"recall\": 0.013513513513513514}, {\"count\": 74, \"cutoff\": 9, \"userId\": 480, \"precision\": 0.1111111111111111, \"recall\": 0.013513513513513514}, {\"count\": 74, \"cutoff\": 10, \"userId\": 480, \"precision\": 0.1, \"recall\": 0.013513513513513514}, {\"count\": 74, \"cutoff\": 11, \"userId\": 480, \"precision\": 0.09090909090909091, \"recall\": 0.013513513513513514}, {\"count\": 74, \"cutoff\": 16, \"userId\": 480, \"precision\": 0.3125, \"recall\": 0.06756756756756757}, {\"count\": 74, \"cutoff\": 21, \"userId\": 480, \"precision\": 0.2857142857142857, \"recall\": 0.08108108108108109}, {\"count\": 74, \"cutoff\": 26, \"userId\": 480, \"precision\": 0.2692307692307692, \"recall\": 0.0945945945945946}, {\"count\": 74, \"cutoff\": 31, \"userId\": 480, \"precision\": 0.22580645161290322, \"recall\": 0.0945945945945946}, {\"count\": 74, \"cutoff\": 36, \"userId\": 480, \"precision\": 0.2222222222222222, \"recall\": 0.10810810810810811}, {\"count\": 74, \"cutoff\": 41, \"userId\": 480, \"precision\": 0.24390243902439024, \"recall\": 0.13513513513513514}, {\"count\": 74, \"cutoff\": 46, \"userId\": 480, \"precision\": 0.21739130434782608, \"recall\": 0.13513513513513514}, {\"count\": 3, \"cutoff\": 1, \"userId\": 485, \"precision\": 0.0, \"recall\": 0.0}, {\"count\": 3, \"cutoff\": 2, \"userId\": 485, \"precision\": 0.0, \"recall\": 0.0}, {\"count\": 3, \"cutoff\": 3, \"userId\": 485, \"precision\": 0.0, \"recall\": 0.0}, {\"count\": 3, \"cutoff\": 4, \"userId\": 485, \"precision\": 0.0, \"recall\": 0.0}, {\"count\": 3, \"cutoff\": 5, \"userId\": 485, \"precision\": 0.0, \"recall\": 0.0}, {\"count\": 3, \"cutoff\": 6, \"userId\": 485, \"precision\": 0.0, \"recall\": 0.0}, {\"count\": 3, \"cutoff\": 7, \"userId\": 485, \"precision\": 0.0, \"recall\": 0.0}, {\"count\": 3, \"cutoff\": 8, \"userId\": 485, \"precision\": 0.0, \"recall\": 0.0}, {\"count\": 3, \"cutoff\": 9, \"userId\": 485, \"precision\": 0.0, \"recall\": 0.0}, {\"count\": 3, \"cutoff\": 10, \"userId\": 485, \"precision\": 0.0, \"recall\": 0.0}, {\"count\": 3, \"cutoff\": 11, \"userId\": 485, \"precision\": 0.0, \"recall\": 0.0}, {\"count\": 3, \"cutoff\": 16, \"userId\": 485, \"precision\": 0.0, \"recall\": 0.0}, {\"count\": 3, \"cutoff\": 21, \"userId\": 485, \"precision\": 0.0, \"recall\": 0.0}, {\"count\": 3, \"cutoff\": 26, \"userId\": 485, \"precision\": 0.0, \"recall\": 0.0}, {\"count\": 3, \"cutoff\": 31, \"userId\": 485, \"precision\": 0.0, \"recall\": 0.0}, {\"count\": 3, \"cutoff\": 36, \"userId\": 485, \"precision\": 0.0, \"recall\": 0.0}, {\"count\": 3, \"cutoff\": 41, \"userId\": 485, \"precision\": 0.0, \"recall\": 0.0}, {\"count\": 3, \"cutoff\": 46, \"userId\": 485, \"precision\": 0.0, \"recall\": 0.0}, {\"count\": 22, \"cutoff\": 1, \"userId\": 486, \"precision\": 0.0, \"recall\": 0.0}, {\"count\": 22, \"cutoff\": 2, \"userId\": 486, \"precision\": 0.0, \"recall\": 0.0}, {\"count\": 22, \"cutoff\": 3, \"userId\": 486, \"precision\": 0.0, \"recall\": 0.0}, {\"count\": 22, \"cutoff\": 4, \"userId\": 486, \"precision\": 0.0, \"recall\": 0.0}, {\"count\": 22, \"cutoff\": 5, \"userId\": 486, \"precision\": 0.0, \"recall\": 0.0}, {\"count\": 22, \"cutoff\": 6, \"userId\": 486, \"precision\": 0.0, \"recall\": 0.0}, {\"count\": 22, \"cutoff\": 7, \"userId\": 486, \"precision\": 0.0, \"recall\": 0.0}, {\"count\": 22, \"cutoff\": 8, \"userId\": 486, \"precision\": 0.0, \"recall\": 0.0}, {\"count\": 22, \"cutoff\": 9, \"userId\": 486, \"precision\": 0.0, \"recall\": 0.0}, {\"count\": 22, \"cutoff\": 10, \"userId\": 486, \"precision\": 0.0, \"recall\": 0.0}, {\"count\": 22, \"cutoff\": 11, \"userId\": 486, \"precision\": 0.0, \"recall\": 0.0}, {\"count\": 22, \"cutoff\": 16, \"userId\": 486, \"precision\": 0.0625, \"recall\": 0.045454545454545456}, {\"count\": 22, \"cutoff\": 21, \"userId\": 486, \"precision\": 0.047619047619047616, \"recall\": 0.045454545454545456}, {\"count\": 22, \"cutoff\": 26, \"userId\": 486, \"precision\": 0.038461538461538464, \"recall\": 0.045454545454545456}, {\"count\": 22, \"cutoff\": 31, \"userId\": 486, \"precision\": 0.03225806451612903, \"recall\": 0.045454545454545456}, {\"count\": 22, \"cutoff\": 36, \"userId\": 486, \"precision\": 0.027777777777777776, \"recall\": 0.045454545454545456}, {\"count\": 22, \"cutoff\": 41, \"userId\": 486, \"precision\": 0.024390243902439025, \"recall\": 0.045454545454545456}, {\"count\": 22, \"cutoff\": 46, \"userId\": 486, \"precision\": 0.043478260869565216, \"recall\": 0.09090909090909091}, {\"count\": 4, \"cutoff\": 1, \"userId\": 489, \"precision\": 0.0, \"recall\": 0.0}, {\"count\": 4, \"cutoff\": 2, \"userId\": 489, \"precision\": 0.0, \"recall\": 0.0}, {\"count\": 4, \"cutoff\": 3, \"userId\": 489, \"precision\": 0.0, \"recall\": 0.0}, {\"count\": 4, \"cutoff\": 4, \"userId\": 489, \"precision\": 0.0, \"recall\": 0.0}, {\"count\": 4, \"cutoff\": 5, \"userId\": 489, \"precision\": 0.0, \"recall\": 0.0}, {\"count\": 4, \"cutoff\": 6, \"userId\": 489, \"precision\": 0.0, \"recall\": 0.0}, {\"count\": 4, \"cutoff\": 7, \"userId\": 489, \"precision\": 0.0, \"recall\": 0.0}, {\"count\": 4, \"cutoff\": 8, \"userId\": 489, \"precision\": 0.0, \"recall\": 0.0}, {\"count\": 4, \"cutoff\": 9, \"userId\": 489, \"precision\": 0.0, \"recall\": 0.0}, {\"count\": 4, \"cutoff\": 10, \"userId\": 489, \"precision\": 0.0, \"recall\": 0.0}, {\"count\": 4, \"cutoff\": 11, \"userId\": 489, \"precision\": 0.0, \"recall\": 0.0}, {\"count\": 4, \"cutoff\": 16, \"userId\": 489, \"precision\": 0.0, \"recall\": 0.0}, {\"count\": 4, \"cutoff\": 21, \"userId\": 489, \"precision\": 0.0, \"recall\": 0.0}, {\"count\": 4, \"cutoff\": 26, \"userId\": 489, \"precision\": 0.0, \"recall\": 0.0}, {\"count\": 4, \"cutoff\": 31, \"userId\": 489, \"precision\": 0.0, \"recall\": 0.0}, {\"count\": 4, \"cutoff\": 36, \"userId\": 489, \"precision\": 0.0, \"recall\": 0.0}, {\"count\": 4, \"cutoff\": 41, \"userId\": 489, \"precision\": 0.0, \"recall\": 0.0}, {\"count\": 4, \"cutoff\": 46, \"userId\": 489, \"precision\": 0.0, \"recall\": 0.0}, {\"count\": 18, \"cutoff\": 1, \"userId\": 492, \"precision\": 0.0, \"recall\": 0.0}, {\"count\": 18, \"cutoff\": 2, \"userId\": 492, \"precision\": 0.0, \"recall\": 0.0}, {\"count\": 18, \"cutoff\": 3, \"userId\": 492, \"precision\": 0.0, \"recall\": 0.0}, {\"count\": 18, \"cutoff\": 4, \"userId\": 492, \"precision\": 0.0, \"recall\": 0.0}, {\"count\": 18, \"cutoff\": 5, \"userId\": 492, \"precision\": 0.0, \"recall\": 0.0}, {\"count\": 18, \"cutoff\": 6, \"userId\": 492, \"precision\": 0.0, \"recall\": 0.0}, {\"count\": 18, \"cutoff\": 7, \"userId\": 492, \"precision\": 0.0, \"recall\": 0.0}, {\"count\": 18, \"cutoff\": 8, \"userId\": 492, \"precision\": 0.0, \"recall\": 0.0}, {\"count\": 18, \"cutoff\": 9, \"userId\": 492, \"precision\": 0.0, \"recall\": 0.0}, {\"count\": 18, \"cutoff\": 10, \"userId\": 492, \"precision\": 0.0, \"recall\": 0.0}, {\"count\": 18, \"cutoff\": 11, \"userId\": 492, \"precision\": 0.0, \"recall\": 0.0}, {\"count\": 18, \"cutoff\": 16, \"userId\": 492, \"precision\": 0.0, \"recall\": 0.0}, {\"count\": 18, \"cutoff\": 21, \"userId\": 492, \"precision\": 0.0, \"recall\": 0.0}, {\"count\": 18, \"cutoff\": 26, \"userId\": 492, \"precision\": 0.0, \"recall\": 0.0}, {\"count\": 18, \"cutoff\": 31, \"userId\": 492, \"precision\": 0.0, \"recall\": 0.0}, {\"count\": 18, \"cutoff\": 36, \"userId\": 492, \"precision\": 0.0, \"recall\": 0.0}, {\"count\": 18, \"cutoff\": 41, \"userId\": 492, \"precision\": 0.0, \"recall\": 0.0}, {\"count\": 18, \"cutoff\": 46, \"userId\": 492, \"precision\": 0.021739130434782608, \"recall\": 0.05555555555555555}, {\"count\": 11, \"cutoff\": 1, \"userId\": 494, \"precision\": 0.0, \"recall\": 0.0}, {\"count\": 11, \"cutoff\": 2, \"userId\": 494, \"precision\": 0.0, \"recall\": 0.0}, {\"count\": 11, \"cutoff\": 3, \"userId\": 494, \"precision\": 0.3333333333333333, \"recall\": 0.09090909090909091}, {\"count\": 11, \"cutoff\": 4, \"userId\": 494, \"precision\": 0.5, \"recall\": 0.18181818181818182}, {\"count\": 11, \"cutoff\": 5, \"userId\": 494, \"precision\": 0.4, \"recall\": 0.18181818181818182}, {\"count\": 11, \"cutoff\": 6, \"userId\": 494, \"precision\": 0.3333333333333333, \"recall\": 0.18181818181818182}, {\"count\": 11, \"cutoff\": 7, \"userId\": 494, \"precision\": 0.42857142857142855, \"recall\": 0.2727272727272727}, {\"count\": 11, \"cutoff\": 8, \"userId\": 494, \"precision\": 0.375, \"recall\": 0.2727272727272727}, {\"count\": 11, \"cutoff\": 9, \"userId\": 494, \"precision\": 0.3333333333333333, \"recall\": 0.2727272727272727}, {\"count\": 11, \"cutoff\": 10, \"userId\": 494, \"precision\": 0.3, \"recall\": 0.2727272727272727}, {\"count\": 11, \"cutoff\": 11, \"userId\": 494, \"precision\": 0.2727272727272727, \"recall\": 0.2727272727272727}, {\"count\": 11, \"cutoff\": 16, \"userId\": 494, \"precision\": 0.1875, \"recall\": 0.2727272727272727}, {\"count\": 11, \"cutoff\": 21, \"userId\": 494, \"precision\": 0.14285714285714285, \"recall\": 0.2727272727272727}, {\"count\": 11, \"cutoff\": 26, \"userId\": 494, \"precision\": 0.11538461538461539, \"recall\": 0.2727272727272727}, {\"count\": 11, \"cutoff\": 31, \"userId\": 494, \"precision\": 0.0967741935483871, \"recall\": 0.2727272727272727}, {\"count\": 11, \"cutoff\": 36, \"userId\": 494, \"precision\": 0.08333333333333333, \"recall\": 0.2727272727272727}, {\"count\": 11, \"cutoff\": 41, \"userId\": 494, \"precision\": 0.0975609756097561, \"recall\": 0.36363636363636365}, {\"count\": 11, \"cutoff\": 46, \"userId\": 494, \"precision\": 0.08695652173913043, \"recall\": 0.36363636363636365}, {\"count\": 9, \"cutoff\": 1, \"userId\": 508, \"precision\": 0.0, \"recall\": 0.0}, {\"count\": 9, \"cutoff\": 2, \"userId\": 508, \"precision\": 0.0, \"recall\": 0.0}, {\"count\": 9, \"cutoff\": 3, \"userId\": 508, \"precision\": 0.0, \"recall\": 0.0}, {\"count\": 9, \"cutoff\": 4, \"userId\": 508, \"precision\": 0.0, \"recall\": 0.0}, {\"count\": 9, \"cutoff\": 5, \"userId\": 508, \"precision\": 0.0, \"recall\": 0.0}, {\"count\": 9, \"cutoff\": 6, \"userId\": 508, \"precision\": 0.0, \"recall\": 0.0}, {\"count\": 9, \"cutoff\": 7, \"userId\": 508, \"precision\": 0.0, \"recall\": 0.0}, {\"count\": 9, \"cutoff\": 8, \"userId\": 508, \"precision\": 0.0, \"recall\": 0.0}, {\"count\": 9, \"cutoff\": 9, \"userId\": 508, \"precision\": 0.0, \"recall\": 0.0}, {\"count\": 9, \"cutoff\": 10, \"userId\": 508, \"precision\": 0.0, \"recall\": 0.0}, {\"count\": 9, \"cutoff\": 11, \"userId\": 508, \"precision\": 0.0, \"recall\": 0.0}, {\"count\": 9, \"cutoff\": 16, \"userId\": 508, \"precision\": 0.0, \"recall\": 0.0}, {\"count\": 9, \"cutoff\": 21, \"userId\": 508, \"precision\": 0.0, \"recall\": 0.0}, {\"count\": 9, \"cutoff\": 26, \"userId\": 508, \"precision\": 0.0, \"recall\": 0.0}, {\"count\": 9, \"cutoff\": 31, \"userId\": 508, \"precision\": 0.0, \"recall\": 0.0}, {\"count\": 9, \"cutoff\": 36, \"userId\": 508, \"precision\": 0.0, \"recall\": 0.0}, {\"count\": 9, \"cutoff\": 41, \"userId\": 508, \"precision\": 0.0, \"recall\": 0.0}, {\"count\": 9, \"cutoff\": 46, \"userId\": 508, \"precision\": 0.021739130434782608, \"recall\": 0.1111111111111111}, {\"count\": 33, \"cutoff\": 1, \"userId\": 516, \"precision\": 0.0, \"recall\": 0.0}, {\"count\": 33, \"cutoff\": 2, \"userId\": 516, \"precision\": 0.0, \"recall\": 0.0}, {\"count\": 33, \"cutoff\": 3, \"userId\": 516, \"precision\": 0.0, \"recall\": 0.0}, {\"count\": 33, \"cutoff\": 4, \"userId\": 516, \"precision\": 0.0, \"recall\": 0.0}, {\"count\": 33, \"cutoff\": 5, \"userId\": 516, \"precision\": 0.0, \"recall\": 0.0}, {\"count\": 33, \"cutoff\": 6, \"userId\": 516, \"precision\": 0.0, \"recall\": 0.0}, {\"count\": 33, \"cutoff\": 7, \"userId\": 516, \"precision\": 0.0, \"recall\": 0.0}, {\"count\": 33, \"cutoff\": 8, \"userId\": 516, \"precision\": 0.0, \"recall\": 0.0}, {\"count\": 33, \"cutoff\": 9, \"userId\": 516, \"precision\": 0.0, \"recall\": 0.0}, {\"count\": 33, \"cutoff\": 10, \"userId\": 516, \"precision\": 0.0, \"recall\": 0.0}, {\"count\": 33, \"cutoff\": 11, \"userId\": 516, \"precision\": 0.0, \"recall\": 0.0}, {\"count\": 33, \"cutoff\": 16, \"userId\": 516, \"precision\": 0.0, \"recall\": 0.0}, {\"count\": 33, \"cutoff\": 21, \"userId\": 516, \"precision\": 0.0, \"recall\": 0.0}, {\"count\": 33, \"cutoff\": 26, \"userId\": 516, \"precision\": 0.038461538461538464, \"recall\": 0.030303030303030304}, {\"count\": 33, \"cutoff\": 31, \"userId\": 516, \"precision\": 0.03225806451612903, \"recall\": 0.030303030303030304}, {\"count\": 33, \"cutoff\": 36, \"userId\": 516, \"precision\": 0.05555555555555555, \"recall\": 0.06060606060606061}, {\"count\": 33, \"cutoff\": 41, \"userId\": 516, \"precision\": 0.04878048780487805, \"recall\": 0.06060606060606061}, {\"count\": 33, \"cutoff\": 46, \"userId\": 516, \"precision\": 0.043478260869565216, \"recall\": 0.06060606060606061}, {\"count\": 4, \"cutoff\": 1, \"userId\": 526, \"precision\": 0.0, \"recall\": 0.0}, {\"count\": 4, \"cutoff\": 2, \"userId\": 526, \"precision\": 0.0, \"recall\": 0.0}, {\"count\": 4, \"cutoff\": 3, \"userId\": 526, \"precision\": 0.0, \"recall\": 0.0}, {\"count\": 4, \"cutoff\": 4, \"userId\": 526, \"precision\": 0.0, \"recall\": 0.0}, {\"count\": 4, \"cutoff\": 5, \"userId\": 526, \"precision\": 0.0, \"recall\": 0.0}, {\"count\": 4, \"cutoff\": 6, \"userId\": 526, \"precision\": 0.0, \"recall\": 0.0}, {\"count\": 4, \"cutoff\": 7, \"userId\": 526, \"precision\": 0.0, \"recall\": 0.0}, {\"count\": 4, \"cutoff\": 8, \"userId\": 526, \"precision\": 0.0, \"recall\": 0.0}, {\"count\": 4, \"cutoff\": 9, \"userId\": 526, \"precision\": 0.0, \"recall\": 0.0}, {\"count\": 4, \"cutoff\": 10, \"userId\": 526, \"precision\": 0.0, \"recall\": 0.0}, {\"count\": 4, \"cutoff\": 11, \"userId\": 526, \"precision\": 0.0, \"recall\": 0.0}, {\"count\": 4, \"cutoff\": 16, \"userId\": 526, \"precision\": 0.0, \"recall\": 0.0}, {\"count\": 4, \"cutoff\": 21, \"userId\": 526, \"precision\": 0.0, \"recall\": 0.0}, {\"count\": 4, \"cutoff\": 26, \"userId\": 526, \"precision\": 0.0, \"recall\": 0.0}, {\"count\": 4, \"cutoff\": 31, \"userId\": 526, \"precision\": 0.03225806451612903, \"recall\": 0.25}, {\"count\": 4, \"cutoff\": 36, \"userId\": 526, \"precision\": 0.027777777777777776, \"recall\": 0.25}, {\"count\": 4, \"cutoff\": 41, \"userId\": 526, \"precision\": 0.024390243902439025, \"recall\": 0.25}, {\"count\": 4, \"cutoff\": 46, \"userId\": 526, \"precision\": 0.021739130434782608, \"recall\": 0.25}, {\"count\": 27, \"cutoff\": 1, \"userId\": 528, \"precision\": 0.0, \"recall\": 0.0}, {\"count\": 27, \"cutoff\": 2, \"userId\": 528, \"precision\": 0.5, \"recall\": 0.037037037037037035}, {\"count\": 27, \"cutoff\": 3, \"userId\": 528, \"precision\": 0.3333333333333333, \"recall\": 0.037037037037037035}, {\"count\": 27, \"cutoff\": 4, \"userId\": 528, \"precision\": 0.25, \"recall\": 0.037037037037037035}, {\"count\": 27, \"cutoff\": 5, \"userId\": 528, \"precision\": 0.2, \"recall\": 0.037037037037037035}, {\"count\": 27, \"cutoff\": 6, \"userId\": 528, \"precision\": 0.16666666666666666, \"recall\": 0.037037037037037035}, {\"count\": 27, \"cutoff\": 7, \"userId\": 528, \"precision\": 0.2857142857142857, \"recall\": 0.07407407407407407}, {\"count\": 27, \"cutoff\": 8, \"userId\": 528, \"precision\": 0.25, \"recall\": 0.07407407407407407}, {\"count\": 27, \"cutoff\": 9, \"userId\": 528, \"precision\": 0.2222222222222222, \"recall\": 0.07407407407407407}, {\"count\": 27, \"cutoff\": 10, \"userId\": 528, \"precision\": 0.2, \"recall\": 0.07407407407407407}, {\"count\": 27, \"cutoff\": 11, \"userId\": 528, \"precision\": 0.18181818181818182, \"recall\": 0.07407407407407407}, {\"count\": 27, \"cutoff\": 16, \"userId\": 528, \"precision\": 0.25, \"recall\": 0.14814814814814814}, {\"count\": 27, \"cutoff\": 21, \"userId\": 528, \"precision\": 0.2857142857142857, \"recall\": 0.2222222222222222}, {\"count\": 27, \"cutoff\": 26, \"userId\": 528, \"precision\": 0.23076923076923078, \"recall\": 0.2222222222222222}, {\"count\": 27, \"cutoff\": 31, \"userId\": 528, \"precision\": 0.1935483870967742, \"recall\": 0.2222222222222222}, {\"count\": 27, \"cutoff\": 36, \"userId\": 528, \"precision\": 0.19444444444444445, \"recall\": 0.25925925925925924}, {\"count\": 27, \"cutoff\": 41, \"userId\": 528, \"precision\": 0.17073170731707318, \"recall\": 0.25925925925925924}, {\"count\": 27, \"cutoff\": 46, \"userId\": 528, \"precision\": 0.15217391304347827, \"recall\": 0.25925925925925924}, {\"count\": 10, \"cutoff\": 1, \"userId\": 532, \"precision\": 0.0, \"recall\": 0.0}, {\"count\": 10, \"cutoff\": 2, \"userId\": 532, \"precision\": 0.0, \"recall\": 0.0}, {\"count\": 10, \"cutoff\": 3, \"userId\": 532, \"precision\": 0.0, \"recall\": 0.0}, {\"count\": 10, \"cutoff\": 4, \"userId\": 532, \"precision\": 0.0, \"recall\": 0.0}, {\"count\": 10, \"cutoff\": 5, \"userId\": 532, \"precision\": 0.0, \"recall\": 0.0}, {\"count\": 10, \"cutoff\": 6, \"userId\": 532, \"precision\": 0.0, \"recall\": 0.0}, {\"count\": 10, \"cutoff\": 7, \"userId\": 532, \"precision\": 0.0, \"recall\": 0.0}, {\"count\": 10, \"cutoff\": 8, \"userId\": 532, \"precision\": 0.0, \"recall\": 0.0}, {\"count\": 10, \"cutoff\": 9, \"userId\": 532, \"precision\": 0.0, \"recall\": 0.0}, {\"count\": 10, \"cutoff\": 10, \"userId\": 532, \"precision\": 0.0, \"recall\": 0.0}, {\"count\": 10, \"cutoff\": 11, \"userId\": 532, \"precision\": 0.0, \"recall\": 0.0}, {\"count\": 10, \"cutoff\": 16, \"userId\": 532, \"precision\": 0.0, \"recall\": 0.0}, {\"count\": 10, \"cutoff\": 21, \"userId\": 532, \"precision\": 0.0, \"recall\": 0.0}, {\"count\": 10, \"cutoff\": 26, \"userId\": 532, \"precision\": 0.0, \"recall\": 0.0}, {\"count\": 10, \"cutoff\": 31, \"userId\": 532, \"precision\": 0.0, \"recall\": 0.0}, {\"count\": 10, \"cutoff\": 36, \"userId\": 532, \"precision\": 0.0, \"recall\": 0.0}, {\"count\": 10, \"cutoff\": 41, \"userId\": 532, \"precision\": 0.0, \"recall\": 0.0}, {\"count\": 10, \"cutoff\": 46, \"userId\": 532, \"precision\": 0.0, \"recall\": 0.0}, {\"count\": 62, \"cutoff\": 1, \"userId\": 537, \"precision\": 0.0, \"recall\": 0.0}, {\"count\": 62, \"cutoff\": 2, \"userId\": 537, \"precision\": 0.5, \"recall\": 0.016129032258064516}, {\"count\": 62, \"cutoff\": 3, \"userId\": 537, \"precision\": 0.3333333333333333, \"recall\": 0.016129032258064516}, {\"count\": 62, \"cutoff\": 4, \"userId\": 537, \"precision\": 0.25, \"recall\": 0.016129032258064516}, {\"count\": 62, \"cutoff\": 5, \"userId\": 537, \"precision\": 0.2, \"recall\": 0.016129032258064516}, {\"count\": 62, \"cutoff\": 6, \"userId\": 537, \"precision\": 0.16666666666666666, \"recall\": 0.016129032258064516}, {\"count\": 62, \"cutoff\": 7, \"userId\": 537, \"precision\": 0.14285714285714285, \"recall\": 0.016129032258064516}, {\"count\": 62, \"cutoff\": 8, \"userId\": 537, \"precision\": 0.25, \"recall\": 0.03225806451612903}, {\"count\": 62, \"cutoff\": 9, \"userId\": 537, \"precision\": 0.3333333333333333, \"recall\": 0.04838709677419355}, {\"count\": 62, \"cutoff\": 10, \"userId\": 537, \"precision\": 0.3, \"recall\": 0.04838709677419355}, {\"count\": 62, \"cutoff\": 11, \"userId\": 537, \"precision\": 0.2727272727272727, \"recall\": 0.04838709677419355}, {\"count\": 62, \"cutoff\": 16, \"userId\": 537, \"precision\": 0.1875, \"recall\": 0.04838709677419355}, {\"count\": 62, \"cutoff\": 21, \"userId\": 537, \"precision\": 0.14285714285714285, \"recall\": 0.04838709677419355}, {\"count\": 62, \"cutoff\": 26, \"userId\": 537, \"precision\": 0.15384615384615385, \"recall\": 0.06451612903225806}, {\"count\": 62, \"cutoff\": 31, \"userId\": 537, \"precision\": 0.1935483870967742, \"recall\": 0.0967741935483871}, {\"count\": 62, \"cutoff\": 36, \"userId\": 537, \"precision\": 0.16666666666666666, \"recall\": 0.0967741935483871}, {\"count\": 62, \"cutoff\": 41, \"userId\": 537, \"precision\": 0.17073170731707318, \"recall\": 0.11290322580645161}, {\"count\": 62, \"cutoff\": 46, \"userId\": 537, \"precision\": 0.17391304347826086, \"recall\": 0.12903225806451613}, {\"count\": 17, \"cutoff\": 1, \"userId\": 542, \"precision\": 0.0, \"recall\": 0.0}, {\"count\": 17, \"cutoff\": 2, \"userId\": 542, \"precision\": 0.0, \"recall\": 0.0}, {\"count\": 17, \"cutoff\": 3, \"userId\": 542, \"precision\": 0.0, \"recall\": 0.0}, {\"count\": 17, \"cutoff\": 4, \"userId\": 542, \"precision\": 0.0, \"recall\": 0.0}, {\"count\": 17, \"cutoff\": 5, \"userId\": 542, \"precision\": 0.0, \"recall\": 0.0}, {\"count\": 17, \"cutoff\": 6, \"userId\": 542, \"precision\": 0.0, \"recall\": 0.0}, {\"count\": 17, \"cutoff\": 7, \"userId\": 542, \"precision\": 0.0, \"recall\": 0.0}, {\"count\": 17, \"cutoff\": 8, \"userId\": 542, \"precision\": 0.0, \"recall\": 0.0}, {\"count\": 17, \"cutoff\": 9, \"userId\": 542, \"precision\": 0.0, \"recall\": 0.0}, {\"count\": 17, \"cutoff\": 10, \"userId\": 542, \"precision\": 0.0, \"recall\": 0.0}, {\"count\": 17, \"cutoff\": 11, \"userId\": 542, \"precision\": 0.0, \"recall\": 0.0}, {\"count\": 17, \"cutoff\": 16, \"userId\": 542, \"precision\": 0.0625, \"recall\": 0.058823529411764705}, {\"count\": 17, \"cutoff\": 21, \"userId\": 542, \"precision\": 0.047619047619047616, \"recall\": 0.058823529411764705}, {\"count\": 17, \"cutoff\": 26, \"userId\": 542, \"precision\": 0.07692307692307693, \"recall\": 0.11764705882352941}, {\"count\": 17, \"cutoff\": 31, \"userId\": 542, \"precision\": 0.06451612903225806, \"recall\": 0.11764705882352941}, {\"count\": 17, \"cutoff\": 36, \"userId\": 542, \"precision\": 0.05555555555555555, \"recall\": 0.11764705882352941}, {\"count\": 17, \"cutoff\": 41, \"userId\": 542, \"precision\": 0.04878048780487805, \"recall\": 0.11764705882352941}, {\"count\": 17, \"cutoff\": 46, \"userId\": 542, \"precision\": 0.043478260869565216, \"recall\": 0.11764705882352941}, {\"count\": 8, \"cutoff\": 1, \"userId\": 543, \"precision\": 0.0, \"recall\": 0.0}, {\"count\": 8, \"cutoff\": 2, \"userId\": 543, \"precision\": 0.0, \"recall\": 0.0}, {\"count\": 8, \"cutoff\": 3, \"userId\": 543, \"precision\": 0.0, \"recall\": 0.0}, {\"count\": 8, \"cutoff\": 4, \"userId\": 543, \"precision\": 0.0, \"recall\": 0.0}, {\"count\": 8, \"cutoff\": 5, \"userId\": 543, \"precision\": 0.0, \"recall\": 0.0}, {\"count\": 8, \"cutoff\": 6, \"userId\": 543, \"precision\": 0.0, \"recall\": 0.0}, {\"count\": 8, \"cutoff\": 7, \"userId\": 543, \"precision\": 0.0, \"recall\": 0.0}, {\"count\": 8, \"cutoff\": 8, \"userId\": 543, \"precision\": 0.0, \"recall\": 0.0}, {\"count\": 8, \"cutoff\": 9, \"userId\": 543, \"precision\": 0.0, \"recall\": 0.0}, {\"count\": 8, \"cutoff\": 10, \"userId\": 543, \"precision\": 0.0, \"recall\": 0.0}, {\"count\": 8, \"cutoff\": 11, \"userId\": 543, \"precision\": 0.0, \"recall\": 0.0}, {\"count\": 8, \"cutoff\": 16, \"userId\": 543, \"precision\": 0.0, \"recall\": 0.0}, {\"count\": 8, \"cutoff\": 21, \"userId\": 543, \"precision\": 0.0, \"recall\": 0.0}, {\"count\": 8, \"cutoff\": 26, \"userId\": 543, \"precision\": 0.0, \"recall\": 0.0}, {\"count\": 8, \"cutoff\": 31, \"userId\": 543, \"precision\": 0.0, \"recall\": 0.0}, {\"count\": 8, \"cutoff\": 36, \"userId\": 543, \"precision\": 0.0, \"recall\": 0.0}, {\"count\": 8, \"cutoff\": 41, \"userId\": 543, \"precision\": 0.0, \"recall\": 0.0}, {\"count\": 8, \"cutoff\": 46, \"userId\": 543, \"precision\": 0.0, \"recall\": 0.0}, {\"count\": 25, \"cutoff\": 1, \"userId\": 548, \"precision\": 0.0, \"recall\": 0.0}, {\"count\": 25, \"cutoff\": 2, \"userId\": 548, \"precision\": 0.0, \"recall\": 0.0}, {\"count\": 25, \"cutoff\": 3, \"userId\": 548, \"precision\": 0.0, \"recall\": 0.0}, {\"count\": 25, \"cutoff\": 4, \"userId\": 548, \"precision\": 0.0, \"recall\": 0.0}, {\"count\": 25, \"cutoff\": 5, \"userId\": 548, \"precision\": 0.0, \"recall\": 0.0}, {\"count\": 25, \"cutoff\": 6, \"userId\": 548, \"precision\": 0.0, \"recall\": 0.0}, {\"count\": 25, \"cutoff\": 7, \"userId\": 548, \"precision\": 0.0, \"recall\": 0.0}, {\"count\": 25, \"cutoff\": 8, \"userId\": 548, \"precision\": 0.125, \"recall\": 0.04}, {\"count\": 25, \"cutoff\": 9, \"userId\": 548, \"precision\": 0.1111111111111111, \"recall\": 0.04}, {\"count\": 25, \"cutoff\": 10, \"userId\": 548, \"precision\": 0.1, \"recall\": 0.04}, {\"count\": 25, \"cutoff\": 11, \"userId\": 548, \"precision\": 0.09090909090909091, \"recall\": 0.04}, {\"count\": 25, \"cutoff\": 16, \"userId\": 548, \"precision\": 0.0625, \"recall\": 0.04}, {\"count\": 25, \"cutoff\": 21, \"userId\": 548, \"precision\": 0.047619047619047616, \"recall\": 0.04}, {\"count\": 25, \"cutoff\": 26, \"userId\": 548, \"precision\": 0.038461538461538464, \"recall\": 0.04}, {\"count\": 25, \"cutoff\": 31, \"userId\": 548, \"precision\": 0.03225806451612903, \"recall\": 0.04}, {\"count\": 25, \"cutoff\": 36, \"userId\": 548, \"precision\": 0.027777777777777776, \"recall\": 0.04}, {\"count\": 25, \"cutoff\": 41, \"userId\": 548, \"precision\": 0.024390243902439025, \"recall\": 0.04}, {\"count\": 25, \"cutoff\": 46, \"userId\": 548, \"precision\": 0.021739130434782608, \"recall\": 0.04}, {\"count\": 6, \"cutoff\": 1, \"userId\": 552, \"precision\": 0.0, \"recall\": 0.0}, {\"count\": 6, \"cutoff\": 2, \"userId\": 552, \"precision\": 0.0, \"recall\": 0.0}, {\"count\": 6, \"cutoff\": 3, \"userId\": 552, \"precision\": 0.3333333333333333, \"recall\": 0.16666666666666666}, {\"count\": 6, \"cutoff\": 4, \"userId\": 552, \"precision\": 0.25, \"recall\": 0.16666666666666666}, {\"count\": 6, \"cutoff\": 5, \"userId\": 552, \"precision\": 0.2, \"recall\": 0.16666666666666666}, {\"count\": 6, \"cutoff\": 6, \"userId\": 552, \"precision\": 0.16666666666666666, \"recall\": 0.16666666666666666}, {\"count\": 6, \"cutoff\": 7, \"userId\": 552, \"precision\": 0.14285714285714285, \"recall\": 0.16666666666666666}, {\"count\": 6, \"cutoff\": 8, \"userId\": 552, \"precision\": 0.125, \"recall\": 0.16666666666666666}, {\"count\": 6, \"cutoff\": 9, \"userId\": 552, \"precision\": 0.1111111111111111, \"recall\": 0.16666666666666666}, {\"count\": 6, \"cutoff\": 10, \"userId\": 552, \"precision\": 0.1, \"recall\": 0.16666666666666666}, {\"count\": 6, \"cutoff\": 11, \"userId\": 552, \"precision\": 0.09090909090909091, \"recall\": 0.16666666666666666}, {\"count\": 6, \"cutoff\": 16, \"userId\": 552, \"precision\": 0.0625, \"recall\": 0.16666666666666666}, {\"count\": 6, \"cutoff\": 21, \"userId\": 552, \"precision\": 0.047619047619047616, \"recall\": 0.16666666666666666}, {\"count\": 6, \"cutoff\": 26, \"userId\": 552, \"precision\": 0.038461538461538464, \"recall\": 0.16666666666666666}, {\"count\": 6, \"cutoff\": 31, \"userId\": 552, \"precision\": 0.03225806451612903, \"recall\": 0.16666666666666666}, {\"count\": 6, \"cutoff\": 36, \"userId\": 552, \"precision\": 0.027777777777777776, \"recall\": 0.16666666666666666}, {\"count\": 6, \"cutoff\": 41, \"userId\": 552, \"precision\": 0.024390243902439025, \"recall\": 0.16666666666666666}, {\"count\": 6, \"cutoff\": 46, \"userId\": 552, \"precision\": 0.021739130434782608, \"recall\": 0.16666666666666666}, {\"count\": 45, \"cutoff\": 1, \"userId\": 553, \"precision\": 1.0, \"recall\": 0.022222222222222223}, {\"count\": 45, \"cutoff\": 2, \"userId\": 553, \"precision\": 0.5, \"recall\": 0.022222222222222223}, {\"count\": 45, \"cutoff\": 3, \"userId\": 553, \"precision\": 0.3333333333333333, \"recall\": 0.022222222222222223}, {\"count\": 45, \"cutoff\": 4, \"userId\": 553, \"precision\": 0.25, \"recall\": 0.022222222222222223}, {\"count\": 45, \"cutoff\": 5, \"userId\": 553, \"precision\": 0.4, \"recall\": 0.044444444444444446}, {\"count\": 45, \"cutoff\": 6, \"userId\": 553, \"precision\": 0.3333333333333333, \"recall\": 0.044444444444444446}, {\"count\": 45, \"cutoff\": 7, \"userId\": 553, \"precision\": 0.2857142857142857, \"recall\": 0.044444444444444446}, {\"count\": 45, \"cutoff\": 8, \"userId\": 553, \"precision\": 0.25, \"recall\": 0.044444444444444446}, {\"count\": 45, \"cutoff\": 9, \"userId\": 553, \"precision\": 0.2222222222222222, \"recall\": 0.044444444444444446}, {\"count\": 45, \"cutoff\": 10, \"userId\": 553, \"precision\": 0.2, \"recall\": 0.044444444444444446}, {\"count\": 45, \"cutoff\": 11, \"userId\": 553, \"precision\": 0.18181818181818182, \"recall\": 0.044444444444444446}, {\"count\": 45, \"cutoff\": 16, \"userId\": 553, \"precision\": 0.125, \"recall\": 0.044444444444444446}, {\"count\": 45, \"cutoff\": 21, \"userId\": 553, \"precision\": 0.09523809523809523, \"recall\": 0.044444444444444446}, {\"count\": 45, \"cutoff\": 26, \"userId\": 553, \"precision\": 0.11538461538461539, \"recall\": 0.06666666666666667}, {\"count\": 45, \"cutoff\": 31, \"userId\": 553, \"precision\": 0.0967741935483871, \"recall\": 0.06666666666666667}, {\"count\": 45, \"cutoff\": 36, \"userId\": 553, \"precision\": 0.08333333333333333, \"recall\": 0.06666666666666667}, {\"count\": 45, \"cutoff\": 41, \"userId\": 553, \"precision\": 0.07317073170731707, \"recall\": 0.06666666666666667}, {\"count\": 45, \"cutoff\": 46, \"userId\": 553, \"precision\": 0.06521739130434782, \"recall\": 0.06666666666666667}, {\"count\": 10, \"cutoff\": 1, \"userId\": 554, \"precision\": 0.0, \"recall\": 0.0}, {\"count\": 10, \"cutoff\": 2, \"userId\": 554, \"precision\": 0.0, \"recall\": 0.0}, {\"count\": 10, \"cutoff\": 3, \"userId\": 554, \"precision\": 0.0, \"recall\": 0.0}, {\"count\": 10, \"cutoff\": 4, \"userId\": 554, \"precision\": 0.0, \"recall\": 0.0}, {\"count\": 10, \"cutoff\": 5, \"userId\": 554, \"precision\": 0.0, \"recall\": 0.0}, {\"count\": 10, \"cutoff\": 6, \"userId\": 554, \"precision\": 0.0, \"recall\": 0.0}, {\"count\": 10, \"cutoff\": 7, \"userId\": 554, \"precision\": 0.0, \"recall\": 0.0}, {\"count\": 10, \"cutoff\": 8, \"userId\": 554, \"precision\": 0.0, \"recall\": 0.0}, {\"count\": 10, \"cutoff\": 9, \"userId\": 554, \"precision\": 0.0, \"recall\": 0.0}, {\"count\": 10, \"cutoff\": 10, \"userId\": 554, \"precision\": 0.0, \"recall\": 0.0}, {\"count\": 10, \"cutoff\": 11, \"userId\": 554, \"precision\": 0.0, \"recall\": 0.0}, {\"count\": 10, \"cutoff\": 16, \"userId\": 554, \"precision\": 0.0, \"recall\": 0.0}, {\"count\": 10, \"cutoff\": 21, \"userId\": 554, \"precision\": 0.0, \"recall\": 0.0}, {\"count\": 10, \"cutoff\": 26, \"userId\": 554, \"precision\": 0.038461538461538464, \"recall\": 0.1}, {\"count\": 10, \"cutoff\": 31, \"userId\": 554, \"precision\": 0.03225806451612903, \"recall\": 0.1}, {\"count\": 10, \"cutoff\": 36, \"userId\": 554, \"precision\": 0.027777777777777776, \"recall\": 0.1}, {\"count\": 10, \"cutoff\": 41, \"userId\": 554, \"precision\": 0.024390243902439025, \"recall\": 0.1}, {\"count\": 10, \"cutoff\": 46, \"userId\": 554, \"precision\": 0.021739130434782608, \"recall\": 0.1}, {\"count\": 21, \"cutoff\": 1, \"userId\": 560, \"precision\": 0.0, \"recall\": 0.0}, {\"count\": 21, \"cutoff\": 2, \"userId\": 560, \"precision\": 0.0, \"recall\": 0.0}, {\"count\": 21, \"cutoff\": 3, \"userId\": 560, \"precision\": 0.0, \"recall\": 0.0}, {\"count\": 21, \"cutoff\": 4, \"userId\": 560, \"precision\": 0.0, \"recall\": 0.0}, {\"count\": 21, \"cutoff\": 5, \"userId\": 560, \"precision\": 0.2, \"recall\": 0.047619047619047616}, {\"count\": 21, \"cutoff\": 6, \"userId\": 560, \"precision\": 0.16666666666666666, \"recall\": 0.047619047619047616}, {\"count\": 21, \"cutoff\": 7, \"userId\": 560, \"precision\": 0.14285714285714285, \"recall\": 0.047619047619047616}, {\"count\": 21, \"cutoff\": 8, \"userId\": 560, \"precision\": 0.125, \"recall\": 0.047619047619047616}, {\"count\": 21, \"cutoff\": 9, \"userId\": 560, \"precision\": 0.1111111111111111, \"recall\": 0.047619047619047616}, {\"count\": 21, \"cutoff\": 10, \"userId\": 560, \"precision\": 0.1, \"recall\": 0.047619047619047616}, {\"count\": 21, \"cutoff\": 11, \"userId\": 560, \"precision\": 0.09090909090909091, \"recall\": 0.047619047619047616}, {\"count\": 21, \"cutoff\": 16, \"userId\": 560, \"precision\": 0.0625, \"recall\": 0.047619047619047616}, {\"count\": 21, \"cutoff\": 21, \"userId\": 560, \"precision\": 0.047619047619047616, \"recall\": 0.047619047619047616}, {\"count\": 21, \"cutoff\": 26, \"userId\": 560, \"precision\": 0.038461538461538464, \"recall\": 0.047619047619047616}, {\"count\": 21, \"cutoff\": 31, \"userId\": 560, \"precision\": 0.03225806451612903, \"recall\": 0.047619047619047616}, {\"count\": 21, \"cutoff\": 36, \"userId\": 560, \"precision\": 0.027777777777777776, \"recall\": 0.047619047619047616}, {\"count\": 21, \"cutoff\": 41, \"userId\": 560, \"precision\": 0.07317073170731707, \"recall\": 0.14285714285714285}, {\"count\": 21, \"cutoff\": 46, \"userId\": 560, \"precision\": 0.06521739130434782, \"recall\": 0.14285714285714285}, {\"count\": 49, \"cutoff\": 1, \"userId\": 562, \"precision\": 1.0, \"recall\": 0.02040816326530612}, {\"count\": 49, \"cutoff\": 2, \"userId\": 562, \"precision\": 1.0, \"recall\": 0.04081632653061224}, {\"count\": 49, \"cutoff\": 3, \"userId\": 562, \"precision\": 1.0, \"recall\": 0.061224489795918366}, {\"count\": 49, \"cutoff\": 4, \"userId\": 562, \"precision\": 0.75, \"recall\": 0.061224489795918366}, {\"count\": 49, \"cutoff\": 5, \"userId\": 562, \"precision\": 0.6, \"recall\": 0.061224489795918366}, {\"count\": 49, \"cutoff\": 6, \"userId\": 562, \"precision\": 0.6666666666666666, \"recall\": 0.08163265306122448}, {\"count\": 49, \"cutoff\": 7, \"userId\": 562, \"precision\": 0.7142857142857143, \"recall\": 0.10204081632653061}, {\"count\": 49, \"cutoff\": 8, \"userId\": 562, \"precision\": 0.625, \"recall\": 0.10204081632653061}, {\"count\": 49, \"cutoff\": 9, \"userId\": 562, \"precision\": 0.6666666666666666, \"recall\": 0.12244897959183673}, {\"count\": 49, \"cutoff\": 10, \"userId\": 562, \"precision\": 0.6, \"recall\": 0.12244897959183673}, {\"count\": 49, \"cutoff\": 11, \"userId\": 562, \"precision\": 0.6363636363636364, \"recall\": 0.14285714285714285}, {\"count\": 49, \"cutoff\": 16, \"userId\": 562, \"precision\": 0.4375, \"recall\": 0.14285714285714285}, {\"count\": 49, \"cutoff\": 21, \"userId\": 562, \"precision\": 0.42857142857142855, \"recall\": 0.1836734693877551}, {\"count\": 49, \"cutoff\": 26, \"userId\": 562, \"precision\": 0.34615384615384615, \"recall\": 0.1836734693877551}, {\"count\": 49, \"cutoff\": 31, \"userId\": 562, \"precision\": 0.3225806451612903, \"recall\": 0.20408163265306123}, {\"count\": 49, \"cutoff\": 36, \"userId\": 562, \"precision\": 0.2777777777777778, \"recall\": 0.20408163265306123}, {\"count\": 49, \"cutoff\": 41, \"userId\": 562, \"precision\": 0.2926829268292683, \"recall\": 0.24489795918367346}, {\"count\": 49, \"cutoff\": 46, \"userId\": 562, \"precision\": 0.2826086956521739, \"recall\": 0.2653061224489796}, {\"count\": 35, \"cutoff\": 1, \"userId\": 563, \"precision\": 0.0, \"recall\": 0.0}, {\"count\": 35, \"cutoff\": 2, \"userId\": 563, \"precision\": 0.0, \"recall\": 0.0}, {\"count\": 35, \"cutoff\": 3, \"userId\": 563, \"precision\": 0.3333333333333333, \"recall\": 0.02857142857142857}, {\"count\": 35, \"cutoff\": 4, \"userId\": 563, \"precision\": 0.25, \"recall\": 0.02857142857142857}, {\"count\": 35, \"cutoff\": 5, \"userId\": 563, \"precision\": 0.2, \"recall\": 0.02857142857142857}, {\"count\": 35, \"cutoff\": 6, \"userId\": 563, \"precision\": 0.16666666666666666, \"recall\": 0.02857142857142857}, {\"count\": 35, \"cutoff\": 7, \"userId\": 563, \"precision\": 0.14285714285714285, \"recall\": 0.02857142857142857}, {\"count\": 35, \"cutoff\": 8, \"userId\": 563, \"precision\": 0.125, \"recall\": 0.02857142857142857}, {\"count\": 35, \"cutoff\": 9, \"userId\": 563, \"precision\": 0.1111111111111111, \"recall\": 0.02857142857142857}, {\"count\": 35, \"cutoff\": 10, \"userId\": 563, \"precision\": 0.1, \"recall\": 0.02857142857142857}, {\"count\": 35, \"cutoff\": 11, \"userId\": 563, \"precision\": 0.09090909090909091, \"recall\": 0.02857142857142857}, {\"count\": 35, \"cutoff\": 16, \"userId\": 563, \"precision\": 0.0625, \"recall\": 0.02857142857142857}, {\"count\": 35, \"cutoff\": 21, \"userId\": 563, \"precision\": 0.09523809523809523, \"recall\": 0.05714285714285714}, {\"count\": 35, \"cutoff\": 26, \"userId\": 563, \"precision\": 0.11538461538461539, \"recall\": 0.08571428571428572}, {\"count\": 35, \"cutoff\": 31, \"userId\": 563, \"precision\": 0.0967741935483871, \"recall\": 0.08571428571428572}, {\"count\": 35, \"cutoff\": 36, \"userId\": 563, \"precision\": 0.1111111111111111, \"recall\": 0.11428571428571428}, {\"count\": 35, \"cutoff\": 41, \"userId\": 563, \"precision\": 0.0975609756097561, \"recall\": 0.11428571428571428}, {\"count\": 35, \"cutoff\": 46, \"userId\": 563, \"precision\": 0.08695652173913043, \"recall\": 0.11428571428571428}, {\"count\": 8, \"cutoff\": 1, \"userId\": 565, \"precision\": 0.0, \"recall\": 0.0}, {\"count\": 8, \"cutoff\": 2, \"userId\": 565, \"precision\": 0.0, \"recall\": 0.0}, {\"count\": 8, \"cutoff\": 3, \"userId\": 565, \"precision\": 0.0, \"recall\": 0.0}, {\"count\": 8, \"cutoff\": 4, \"userId\": 565, \"precision\": 0.0, \"recall\": 0.0}, {\"count\": 8, \"cutoff\": 5, \"userId\": 565, \"precision\": 0.0, \"recall\": 0.0}, {\"count\": 8, \"cutoff\": 6, \"userId\": 565, \"precision\": 0.0, \"recall\": 0.0}, {\"count\": 8, \"cutoff\": 7, \"userId\": 565, \"precision\": 0.0, \"recall\": 0.0}, {\"count\": 8, \"cutoff\": 8, \"userId\": 565, \"precision\": 0.0, \"recall\": 0.0}, {\"count\": 8, \"cutoff\": 9, \"userId\": 565, \"precision\": 0.1111111111111111, \"recall\": 0.125}, {\"count\": 8, \"cutoff\": 10, \"userId\": 565, \"precision\": 0.1, \"recall\": 0.125}, {\"count\": 8, \"cutoff\": 11, \"userId\": 565, \"precision\": 0.09090909090909091, \"recall\": 0.125}, {\"count\": 8, \"cutoff\": 16, \"userId\": 565, \"precision\": 0.0625, \"recall\": 0.125}, {\"count\": 8, \"cutoff\": 21, \"userId\": 565, \"precision\": 0.09523809523809523, \"recall\": 0.25}, {\"count\": 8, \"cutoff\": 26, \"userId\": 565, \"precision\": 0.07692307692307693, \"recall\": 0.25}, {\"count\": 8, \"cutoff\": 31, \"userId\": 565, \"precision\": 0.06451612903225806, \"recall\": 0.25}, {\"count\": 8, \"cutoff\": 36, \"userId\": 565, \"precision\": 0.05555555555555555, \"recall\": 0.25}, {\"count\": 8, \"cutoff\": 41, \"userId\": 565, \"precision\": 0.04878048780487805, \"recall\": 0.25}, {\"count\": 8, \"cutoff\": 46, \"userId\": 565, \"precision\": 0.043478260869565216, \"recall\": 0.25}, {\"count\": 7, \"cutoff\": 1, \"userId\": 567, \"precision\": 0.0, \"recall\": 0.0}, {\"count\": 7, \"cutoff\": 2, \"userId\": 567, \"precision\": 0.0, \"recall\": 0.0}, {\"count\": 7, \"cutoff\": 3, \"userId\": 567, \"precision\": 0.3333333333333333, \"recall\": 0.14285714285714285}, {\"count\": 7, \"cutoff\": 4, \"userId\": 567, \"precision\": 0.25, \"recall\": 0.14285714285714285}, {\"count\": 7, \"cutoff\": 5, \"userId\": 567, \"precision\": 0.2, \"recall\": 0.14285714285714285}, {\"count\": 7, \"cutoff\": 6, \"userId\": 567, \"precision\": 0.16666666666666666, \"recall\": 0.14285714285714285}, {\"count\": 7, \"cutoff\": 7, \"userId\": 567, \"precision\": 0.2857142857142857, \"recall\": 0.2857142857142857}, {\"count\": 7, \"cutoff\": 8, \"userId\": 567, \"precision\": 0.25, \"recall\": 0.2857142857142857}, {\"count\": 7, \"cutoff\": 9, \"userId\": 567, \"precision\": 0.2222222222222222, \"recall\": 0.2857142857142857}, {\"count\": 7, \"cutoff\": 10, \"userId\": 567, \"precision\": 0.2, \"recall\": 0.2857142857142857}, {\"count\": 7, \"cutoff\": 11, \"userId\": 567, \"precision\": 0.18181818181818182, \"recall\": 0.2857142857142857}, {\"count\": 7, \"cutoff\": 16, \"userId\": 567, \"precision\": 0.125, \"recall\": 0.2857142857142857}, {\"count\": 7, \"cutoff\": 21, \"userId\": 567, \"precision\": 0.09523809523809523, \"recall\": 0.2857142857142857}, {\"count\": 7, \"cutoff\": 26, \"userId\": 567, \"precision\": 0.11538461538461539, \"recall\": 0.42857142857142855}, {\"count\": 7, \"cutoff\": 31, \"userId\": 567, \"precision\": 0.0967741935483871, \"recall\": 0.42857142857142855}, {\"count\": 7, \"cutoff\": 36, \"userId\": 567, \"precision\": 0.08333333333333333, \"recall\": 0.42857142857142855}, {\"count\": 7, \"cutoff\": 41, \"userId\": 567, \"precision\": 0.07317073170731707, \"recall\": 0.42857142857142855}, {\"count\": 7, \"cutoff\": 46, \"userId\": 567, \"precision\": 0.06521739130434782, \"recall\": 0.42857142857142855}, {\"count\": 10, \"cutoff\": 1, \"userId\": 588, \"precision\": 0.0, \"recall\": 0.0}, {\"count\": 10, \"cutoff\": 2, \"userId\": 588, \"precision\": 0.0, \"recall\": 0.0}, {\"count\": 10, \"cutoff\": 3, \"userId\": 588, \"precision\": 0.0, \"recall\": 0.0}, {\"count\": 10, \"cutoff\": 4, \"userId\": 588, \"precision\": 0.0, \"recall\": 0.0}, {\"count\": 10, \"cutoff\": 5, \"userId\": 588, \"precision\": 0.0, \"recall\": 0.0}, {\"count\": 10, \"cutoff\": 6, \"userId\": 588, \"precision\": 0.0, \"recall\": 0.0}, {\"count\": 10, \"cutoff\": 7, \"userId\": 588, \"precision\": 0.14285714285714285, \"recall\": 0.1}, {\"count\": 10, \"cutoff\": 8, \"userId\": 588, \"precision\": 0.125, \"recall\": 0.1}, {\"count\": 10, \"cutoff\": 9, \"userId\": 588, \"precision\": 0.1111111111111111, \"recall\": 0.1}, {\"count\": 10, \"cutoff\": 10, \"userId\": 588, \"precision\": 0.2, \"recall\": 0.2}, {\"count\": 10, \"cutoff\": 11, \"userId\": 588, \"precision\": 0.18181818181818182, \"recall\": 0.2}, {\"count\": 10, \"cutoff\": 16, \"userId\": 588, \"precision\": 0.125, \"recall\": 0.2}, {\"count\": 10, \"cutoff\": 21, \"userId\": 588, \"precision\": 0.14285714285714285, \"recall\": 0.3}, {\"count\": 10, \"cutoff\": 26, \"userId\": 588, \"precision\": 0.11538461538461539, \"recall\": 0.3}, {\"count\": 10, \"cutoff\": 31, \"userId\": 588, \"precision\": 0.12903225806451613, \"recall\": 0.4}, {\"count\": 10, \"cutoff\": 36, \"userId\": 588, \"precision\": 0.1111111111111111, \"recall\": 0.4}, {\"count\": 10, \"cutoff\": 41, \"userId\": 588, \"precision\": 0.0975609756097561, \"recall\": 0.4}, {\"count\": 10, \"cutoff\": 46, \"userId\": 588, \"precision\": 0.08695652173913043, \"recall\": 0.4}, {\"count\": 29, \"cutoff\": 1, \"userId\": 592, \"precision\": 0.0, \"recall\": 0.0}, {\"count\": 29, \"cutoff\": 2, \"userId\": 592, \"precision\": 0.0, \"recall\": 0.0}, {\"count\": 29, \"cutoff\": 3, \"userId\": 592, \"precision\": 0.0, \"recall\": 0.0}, {\"count\": 29, \"cutoff\": 4, \"userId\": 592, \"precision\": 0.0, \"recall\": 0.0}, {\"count\": 29, \"cutoff\": 5, \"userId\": 592, \"precision\": 0.0, \"recall\": 0.0}, {\"count\": 29, \"cutoff\": 6, \"userId\": 592, \"precision\": 0.0, \"recall\": 0.0}, {\"count\": 29, \"cutoff\": 7, \"userId\": 592, \"precision\": 0.0, \"recall\": 0.0}, {\"count\": 29, \"cutoff\": 8, \"userId\": 592, \"precision\": 0.0, \"recall\": 0.0}, {\"count\": 29, \"cutoff\": 9, \"userId\": 592, \"precision\": 0.0, \"recall\": 0.0}, {\"count\": 29, \"cutoff\": 10, \"userId\": 592, \"precision\": 0.0, \"recall\": 0.0}, {\"count\": 29, \"cutoff\": 11, \"userId\": 592, \"precision\": 0.0, \"recall\": 0.0}, {\"count\": 29, \"cutoff\": 16, \"userId\": 592, \"precision\": 0.0, \"recall\": 0.0}, {\"count\": 29, \"cutoff\": 21, \"userId\": 592, \"precision\": 0.047619047619047616, \"recall\": 0.034482758620689655}, {\"count\": 29, \"cutoff\": 26, \"userId\": 592, \"precision\": 0.07692307692307693, \"recall\": 0.06896551724137931}, {\"count\": 29, \"cutoff\": 31, \"userId\": 592, \"precision\": 0.06451612903225806, \"recall\": 0.06896551724137931}, {\"count\": 29, \"cutoff\": 36, \"userId\": 592, \"precision\": 0.08333333333333333, \"recall\": 0.10344827586206896}, {\"count\": 29, \"cutoff\": 41, \"userId\": 592, \"precision\": 0.07317073170731707, \"recall\": 0.10344827586206896}, {\"count\": 29, \"cutoff\": 46, \"userId\": 592, \"precision\": 0.06521739130434782, \"recall\": 0.10344827586206896}, {\"count\": 12, \"cutoff\": 1, \"userId\": 594, \"precision\": 0.0, \"recall\": 0.0}, {\"count\": 12, \"cutoff\": 2, \"userId\": 594, \"precision\": 0.5, \"recall\": 0.08333333333333333}, {\"count\": 12, \"cutoff\": 3, \"userId\": 594, \"precision\": 0.3333333333333333, \"recall\": 0.08333333333333333}, {\"count\": 12, \"cutoff\": 4, \"userId\": 594, \"precision\": 0.25, \"recall\": 0.08333333333333333}, {\"count\": 12, \"cutoff\": 5, \"userId\": 594, \"precision\": 0.2, \"recall\": 0.08333333333333333}, {\"count\": 12, \"cutoff\": 6, \"userId\": 594, \"precision\": 0.16666666666666666, \"recall\": 0.08333333333333333}, {\"count\": 12, \"cutoff\": 7, \"userId\": 594, \"precision\": 0.14285714285714285, \"recall\": 0.08333333333333333}, {\"count\": 12, \"cutoff\": 8, \"userId\": 594, \"precision\": 0.125, \"recall\": 0.08333333333333333}, {\"count\": 12, \"cutoff\": 9, \"userId\": 594, \"precision\": 0.1111111111111111, \"recall\": 0.08333333333333333}, {\"count\": 12, \"cutoff\": 10, \"userId\": 594, \"precision\": 0.1, \"recall\": 0.08333333333333333}, {\"count\": 12, \"cutoff\": 11, \"userId\": 594, \"precision\": 0.09090909090909091, \"recall\": 0.08333333333333333}, {\"count\": 12, \"cutoff\": 16, \"userId\": 594, \"precision\": 0.0625, \"recall\": 0.08333333333333333}, {\"count\": 12, \"cutoff\": 21, \"userId\": 594, \"precision\": 0.09523809523809523, \"recall\": 0.16666666666666666}, {\"count\": 12, \"cutoff\": 26, \"userId\": 594, \"precision\": 0.07692307692307693, \"recall\": 0.16666666666666666}, {\"count\": 12, \"cutoff\": 31, \"userId\": 594, \"precision\": 0.06451612903225806, \"recall\": 0.16666666666666666}, {\"count\": 12, \"cutoff\": 36, \"userId\": 594, \"precision\": 0.05555555555555555, \"recall\": 0.16666666666666666}, {\"count\": 12, \"cutoff\": 41, \"userId\": 594, \"precision\": 0.04878048780487805, \"recall\": 0.16666666666666666}, {\"count\": 12, \"cutoff\": 46, \"userId\": 594, \"precision\": 0.043478260869565216, \"recall\": 0.16666666666666666}, {\"count\": 11, \"cutoff\": 1, \"userId\": 601, \"precision\": 0.0, \"recall\": 0.0}, {\"count\": 11, \"cutoff\": 2, \"userId\": 601, \"precision\": 0.0, \"recall\": 0.0}, {\"count\": 11, \"cutoff\": 3, \"userId\": 601, \"precision\": 0.0, \"recall\": 0.0}, {\"count\": 11, \"cutoff\": 4, \"userId\": 601, \"precision\": 0.0, \"recall\": 0.0}, {\"count\": 11, \"cutoff\": 5, \"userId\": 601, \"precision\": 0.0, \"recall\": 0.0}, {\"count\": 11, \"cutoff\": 6, \"userId\": 601, \"precision\": 0.0, \"recall\": 0.0}, {\"count\": 11, \"cutoff\": 7, \"userId\": 601, \"precision\": 0.0, \"recall\": 0.0}, {\"count\": 11, \"cutoff\": 8, \"userId\": 601, \"precision\": 0.0, \"recall\": 0.0}, {\"count\": 11, \"cutoff\": 9, \"userId\": 601, \"precision\": 0.0, \"recall\": 0.0}, {\"count\": 11, \"cutoff\": 10, \"userId\": 601, \"precision\": 0.0, \"recall\": 0.0}, {\"count\": 11, \"cutoff\": 11, \"userId\": 601, \"precision\": 0.0, \"recall\": 0.0}, {\"count\": 11, \"cutoff\": 16, \"userId\": 601, \"precision\": 0.0, \"recall\": 0.0}, {\"count\": 11, \"cutoff\": 21, \"userId\": 601, \"precision\": 0.0, \"recall\": 0.0}, {\"count\": 11, \"cutoff\": 26, \"userId\": 601, \"precision\": 0.0, \"recall\": 0.0}, {\"count\": 11, \"cutoff\": 31, \"userId\": 601, \"precision\": 0.0, \"recall\": 0.0}, {\"count\": 11, \"cutoff\": 36, \"userId\": 601, \"precision\": 0.0, \"recall\": 0.0}, {\"count\": 11, \"cutoff\": 41, \"userId\": 601, \"precision\": 0.0, \"recall\": 0.0}, {\"count\": 11, \"cutoff\": 46, \"userId\": 601, \"precision\": 0.0, \"recall\": 0.0}, {\"count\": 27, \"cutoff\": 1, \"userId\": 602, \"precision\": 0.0, \"recall\": 0.0}, {\"count\": 27, \"cutoff\": 2, \"userId\": 602, \"precision\": 0.5, \"recall\": 0.037037037037037035}, {\"count\": 27, \"cutoff\": 3, \"userId\": 602, \"precision\": 0.3333333333333333, \"recall\": 0.037037037037037035}, {\"count\": 27, \"cutoff\": 4, \"userId\": 602, \"precision\": 0.25, \"recall\": 0.037037037037037035}, {\"count\": 27, \"cutoff\": 5, \"userId\": 602, \"precision\": 0.2, \"recall\": 0.037037037037037035}, {\"count\": 27, \"cutoff\": 6, \"userId\": 602, \"precision\": 0.16666666666666666, \"recall\": 0.037037037037037035}, {\"count\": 27, \"cutoff\": 7, \"userId\": 602, \"precision\": 0.14285714285714285, \"recall\": 0.037037037037037035}, {\"count\": 27, \"cutoff\": 8, \"userId\": 602, \"precision\": 0.125, \"recall\": 0.037037037037037035}, {\"count\": 27, \"cutoff\": 9, \"userId\": 602, \"precision\": 0.1111111111111111, \"recall\": 0.037037037037037035}, {\"count\": 27, \"cutoff\": 10, \"userId\": 602, \"precision\": 0.1, \"recall\": 0.037037037037037035}, {\"count\": 27, \"cutoff\": 11, \"userId\": 602, \"precision\": 0.09090909090909091, \"recall\": 0.037037037037037035}, {\"count\": 27, \"cutoff\": 16, \"userId\": 602, \"precision\": 0.0625, \"recall\": 0.037037037037037035}, {\"count\": 27, \"cutoff\": 21, \"userId\": 602, \"precision\": 0.047619047619047616, \"recall\": 0.037037037037037035}, {\"count\": 27, \"cutoff\": 26, \"userId\": 602, \"precision\": 0.07692307692307693, \"recall\": 0.07407407407407407}, {\"count\": 27, \"cutoff\": 31, \"userId\": 602, \"precision\": 0.06451612903225806, \"recall\": 0.07407407407407407}, {\"count\": 27, \"cutoff\": 36, \"userId\": 602, \"precision\": 0.08333333333333333, \"recall\": 0.1111111111111111}, {\"count\": 27, \"cutoff\": 41, \"userId\": 602, \"precision\": 0.0975609756097561, \"recall\": 0.14814814814814814}, {\"count\": 27, \"cutoff\": 46, \"userId\": 602, \"precision\": 0.08695652173913043, \"recall\": 0.14814814814814814}, {\"count\": 10, \"cutoff\": 1, \"userId\": 611, \"precision\": 0.0, \"recall\": 0.0}, {\"count\": 10, \"cutoff\": 2, \"userId\": 611, \"precision\": 0.0, \"recall\": 0.0}, {\"count\": 10, \"cutoff\": 3, \"userId\": 611, \"precision\": 0.0, \"recall\": 0.0}, {\"count\": 10, \"cutoff\": 4, \"userId\": 611, \"precision\": 0.0, \"recall\": 0.0}, {\"count\": 10, \"cutoff\": 5, \"userId\": 611, \"precision\": 0.0, \"recall\": 0.0}, {\"count\": 10, \"cutoff\": 6, \"userId\": 611, \"precision\": 0.0, \"recall\": 0.0}, {\"count\": 10, \"cutoff\": 7, \"userId\": 611, \"precision\": 0.0, \"recall\": 0.0}, {\"count\": 10, \"cutoff\": 8, \"userId\": 611, \"precision\": 0.0, \"recall\": 0.0}, {\"count\": 10, \"cutoff\": 9, \"userId\": 611, \"precision\": 0.0, \"recall\": 0.0}, {\"count\": 10, \"cutoff\": 10, \"userId\": 611, \"precision\": 0.0, \"recall\": 0.0}, {\"count\": 10, \"cutoff\": 11, \"userId\": 611, \"precision\": 0.0, \"recall\": 0.0}, {\"count\": 10, \"cutoff\": 16, \"userId\": 611, \"precision\": 0.0625, \"recall\": 0.1}, {\"count\": 10, \"cutoff\": 21, \"userId\": 611, \"precision\": 0.047619047619047616, \"recall\": 0.1}, {\"count\": 10, \"cutoff\": 26, \"userId\": 611, \"precision\": 0.038461538461538464, \"recall\": 0.1}, {\"count\": 10, \"cutoff\": 31, \"userId\": 611, \"precision\": 0.03225806451612903, \"recall\": 0.1}, {\"count\": 10, \"cutoff\": 36, \"userId\": 611, \"precision\": 0.027777777777777776, \"recall\": 0.1}, {\"count\": 10, \"cutoff\": 41, \"userId\": 611, \"precision\": 0.024390243902439025, \"recall\": 0.1}, {\"count\": 10, \"cutoff\": 46, \"userId\": 611, \"precision\": 0.021739130434782608, \"recall\": 0.1}, {\"count\": 15, \"cutoff\": 1, \"userId\": 614, \"precision\": 0.0, \"recall\": 0.0}, {\"count\": 15, \"cutoff\": 2, \"userId\": 614, \"precision\": 0.0, \"recall\": 0.0}, {\"count\": 15, \"cutoff\": 3, \"userId\": 614, \"precision\": 0.3333333333333333, \"recall\": 0.06666666666666667}, {\"count\": 15, \"cutoff\": 4, \"userId\": 614, \"precision\": 0.25, \"recall\": 0.06666666666666667}, {\"count\": 15, \"cutoff\": 5, \"userId\": 614, \"precision\": 0.2, \"recall\": 0.06666666666666667}, {\"count\": 15, \"cutoff\": 6, \"userId\": 614, \"precision\": 0.16666666666666666, \"recall\": 0.06666666666666667}, {\"count\": 15, \"cutoff\": 7, \"userId\": 614, \"precision\": 0.14285714285714285, \"recall\": 0.06666666666666667}, {\"count\": 15, \"cutoff\": 8, \"userId\": 614, \"precision\": 0.125, \"recall\": 0.06666666666666667}, {\"count\": 15, \"cutoff\": 9, \"userId\": 614, \"precision\": 0.1111111111111111, \"recall\": 0.06666666666666667}, {\"count\": 15, \"cutoff\": 10, \"userId\": 614, \"precision\": 0.1, \"recall\": 0.06666666666666667}, {\"count\": 15, \"cutoff\": 11, \"userId\": 614, \"precision\": 0.09090909090909091, \"recall\": 0.06666666666666667}, {\"count\": 15, \"cutoff\": 16, \"userId\": 614, \"precision\": 0.0625, \"recall\": 0.06666666666666667}, {\"count\": 15, \"cutoff\": 21, \"userId\": 614, \"precision\": 0.047619047619047616, \"recall\": 0.06666666666666667}, {\"count\": 15, \"cutoff\": 26, \"userId\": 614, \"precision\": 0.038461538461538464, \"recall\": 0.06666666666666667}, {\"count\": 15, \"cutoff\": 31, \"userId\": 614, \"precision\": 0.03225806451612903, \"recall\": 0.06666666666666667}, {\"count\": 15, \"cutoff\": 36, \"userId\": 614, \"precision\": 0.027777777777777776, \"recall\": 0.06666666666666667}, {\"count\": 15, \"cutoff\": 41, \"userId\": 614, \"precision\": 0.024390243902439025, \"recall\": 0.06666666666666667}, {\"count\": 15, \"cutoff\": 46, \"userId\": 614, \"precision\": 0.021739130434782608, \"recall\": 0.06666666666666667}, {\"count\": 24, \"cutoff\": 1, \"userId\": 621, \"precision\": 0.0, \"recall\": 0.0}, {\"count\": 24, \"cutoff\": 2, \"userId\": 621, \"precision\": 0.0, \"recall\": 0.0}, {\"count\": 24, \"cutoff\": 3, \"userId\": 621, \"precision\": 0.0, \"recall\": 0.0}, {\"count\": 24, \"cutoff\": 4, \"userId\": 621, \"precision\": 0.0, \"recall\": 0.0}, {\"count\": 24, \"cutoff\": 5, \"userId\": 621, \"precision\": 0.0, \"recall\": 0.0}, {\"count\": 24, \"cutoff\": 6, \"userId\": 621, \"precision\": 0.0, \"recall\": 0.0}, {\"count\": 24, \"cutoff\": 7, \"userId\": 621, \"precision\": 0.0, \"recall\": 0.0}, {\"count\": 24, \"cutoff\": 8, \"userId\": 621, \"precision\": 0.0, \"recall\": 0.0}, {\"count\": 24, \"cutoff\": 9, \"userId\": 621, \"precision\": 0.0, \"recall\": 0.0}, {\"count\": 24, \"cutoff\": 10, \"userId\": 621, \"precision\": 0.0, \"recall\": 0.0}, {\"count\": 24, \"cutoff\": 11, \"userId\": 621, \"precision\": 0.0, \"recall\": 0.0}, {\"count\": 24, \"cutoff\": 16, \"userId\": 621, \"precision\": 0.0625, \"recall\": 0.041666666666666664}, {\"count\": 24, \"cutoff\": 21, \"userId\": 621, \"precision\": 0.09523809523809523, \"recall\": 0.08333333333333333}, {\"count\": 24, \"cutoff\": 26, \"userId\": 621, \"precision\": 0.07692307692307693, \"recall\": 0.08333333333333333}, {\"count\": 24, \"cutoff\": 31, \"userId\": 621, \"precision\": 0.06451612903225806, \"recall\": 0.08333333333333333}, {\"count\": 24, \"cutoff\": 36, \"userId\": 621, \"precision\": 0.05555555555555555, \"recall\": 0.08333333333333333}, {\"count\": 24, \"cutoff\": 41, \"userId\": 621, \"precision\": 0.04878048780487805, \"recall\": 0.08333333333333333}, {\"count\": 24, \"cutoff\": 46, \"userId\": 621, \"precision\": 0.043478260869565216, \"recall\": 0.08333333333333333}, {\"count\": 6, \"cutoff\": 1, \"userId\": 622, \"precision\": 1.0, \"recall\": 0.16666666666666666}, {\"count\": 6, \"cutoff\": 2, \"userId\": 622, \"precision\": 0.5, \"recall\": 0.16666666666666666}, {\"count\": 6, \"cutoff\": 3, \"userId\": 622, \"precision\": 0.3333333333333333, \"recall\": 0.16666666666666666}, {\"count\": 6, \"cutoff\": 4, \"userId\": 622, \"precision\": 0.25, \"recall\": 0.16666666666666666}, {\"count\": 6, \"cutoff\": 5, \"userId\": 622, \"precision\": 0.2, \"recall\": 0.16666666666666666}, {\"count\": 6, \"cutoff\": 6, \"userId\": 622, \"precision\": 0.16666666666666666, \"recall\": 0.16666666666666666}, {\"count\": 6, \"cutoff\": 7, \"userId\": 622, \"precision\": 0.14285714285714285, \"recall\": 0.16666666666666666}, {\"count\": 6, \"cutoff\": 8, \"userId\": 622, \"precision\": 0.125, \"recall\": 0.16666666666666666}, {\"count\": 6, \"cutoff\": 9, \"userId\": 622, \"precision\": 0.1111111111111111, \"recall\": 0.16666666666666666}, {\"count\": 6, \"cutoff\": 10, \"userId\": 622, \"precision\": 0.2, \"recall\": 0.3333333333333333}, {\"count\": 6, \"cutoff\": 11, \"userId\": 622, \"precision\": 0.2727272727272727, \"recall\": 0.5}, {\"count\": 6, \"cutoff\": 16, \"userId\": 622, \"precision\": 0.1875, \"recall\": 0.5}, {\"count\": 6, \"cutoff\": 21, \"userId\": 622, \"precision\": 0.14285714285714285, \"recall\": 0.5}, {\"count\": 6, \"cutoff\": 26, \"userId\": 622, \"precision\": 0.11538461538461539, \"recall\": 0.5}, {\"count\": 6, \"cutoff\": 31, \"userId\": 622, \"precision\": 0.0967741935483871, \"recall\": 0.5}, {\"count\": 6, \"cutoff\": 36, \"userId\": 622, \"precision\": 0.08333333333333333, \"recall\": 0.5}, {\"count\": 6, \"cutoff\": 41, \"userId\": 622, \"precision\": 0.07317073170731707, \"recall\": 0.5}, {\"count\": 6, \"cutoff\": 46, \"userId\": 622, \"precision\": 0.06521739130434782, \"recall\": 0.5}, {\"count\": 357, \"cutoff\": 1, \"userId\": 624, \"precision\": 0.0, \"recall\": 0.0}, {\"count\": 357, \"cutoff\": 2, \"userId\": 624, \"precision\": 0.0, \"recall\": 0.0}, {\"count\": 357, \"cutoff\": 3, \"userId\": 624, \"precision\": 0.3333333333333333, \"recall\": 0.0028011204481792717}, {\"count\": 357, \"cutoff\": 4, \"userId\": 624, \"precision\": 0.25, \"recall\": 0.0028011204481792717}, {\"count\": 357, \"cutoff\": 5, \"userId\": 624, \"precision\": 0.4, \"recall\": 0.0056022408963585435}, {\"count\": 357, \"cutoff\": 6, \"userId\": 624, \"precision\": 0.5, \"recall\": 0.008403361344537815}, {\"count\": 357, \"cutoff\": 7, \"userId\": 624, \"precision\": 0.5714285714285714, \"recall\": 0.011204481792717087}, {\"count\": 357, \"cutoff\": 8, \"userId\": 624, \"precision\": 0.625, \"recall\": 0.014005602240896359}, {\"count\": 357, \"cutoff\": 9, \"userId\": 624, \"precision\": 0.6666666666666666, \"recall\": 0.01680672268907563}, {\"count\": 357, \"cutoff\": 10, \"userId\": 624, \"precision\": 0.6, \"recall\": 0.01680672268907563}, {\"count\": 357, \"cutoff\": 11, \"userId\": 624, \"precision\": 0.5454545454545454, \"recall\": 0.01680672268907563}, {\"count\": 357, \"cutoff\": 16, \"userId\": 624, \"precision\": 0.5, \"recall\": 0.022408963585434174}, {\"count\": 357, \"cutoff\": 21, \"userId\": 624, \"precision\": 0.47619047619047616, \"recall\": 0.028011204481792718}, {\"count\": 357, \"cutoff\": 26, \"userId\": 624, \"precision\": 0.4230769230769231, \"recall\": 0.03081232492997199}, {\"count\": 357, \"cutoff\": 31, \"userId\": 624, \"precision\": 0.3548387096774194, \"recall\": 0.03081232492997199}, {\"count\": 357, \"cutoff\": 36, \"userId\": 624, \"precision\": 0.3055555555555556, \"recall\": 0.03081232492997199}, {\"count\": 357, \"cutoff\": 41, \"userId\": 624, \"precision\": 0.2682926829268293, \"recall\": 0.03081232492997199}, {\"count\": 357, \"cutoff\": 46, \"userId\": 624, \"precision\": 0.2608695652173913, \"recall\": 0.03361344537815126}, {\"count\": 7, \"cutoff\": 1, \"userId\": 629, \"precision\": 0.0, \"recall\": 0.0}, {\"count\": 7, \"cutoff\": 2, \"userId\": 629, \"precision\": 0.0, \"recall\": 0.0}, {\"count\": 7, \"cutoff\": 3, \"userId\": 629, \"precision\": 0.0, \"recall\": 0.0}, {\"count\": 7, \"cutoff\": 4, \"userId\": 629, \"precision\": 0.25, \"recall\": 0.14285714285714285}, {\"count\": 7, \"cutoff\": 5, \"userId\": 629, \"precision\": 0.2, \"recall\": 0.14285714285714285}, {\"count\": 7, \"cutoff\": 6, \"userId\": 629, \"precision\": 0.16666666666666666, \"recall\": 0.14285714285714285}, {\"count\": 7, \"cutoff\": 7, \"userId\": 629, \"precision\": 0.14285714285714285, \"recall\": 0.14285714285714285}, {\"count\": 7, \"cutoff\": 8, \"userId\": 629, \"precision\": 0.125, \"recall\": 0.14285714285714285}, {\"count\": 7, \"cutoff\": 9, \"userId\": 629, \"precision\": 0.1111111111111111, \"recall\": 0.14285714285714285}, {\"count\": 7, \"cutoff\": 10, \"userId\": 629, \"precision\": 0.1, \"recall\": 0.14285714285714285}, {\"count\": 7, \"cutoff\": 11, \"userId\": 629, \"precision\": 0.09090909090909091, \"recall\": 0.14285714285714285}, {\"count\": 7, \"cutoff\": 16, \"userId\": 629, \"precision\": 0.0625, \"recall\": 0.14285714285714285}, {\"count\": 7, \"cutoff\": 21, \"userId\": 629, \"precision\": 0.047619047619047616, \"recall\": 0.14285714285714285}, {\"count\": 7, \"cutoff\": 26, \"userId\": 629, \"precision\": 0.038461538461538464, \"recall\": 0.14285714285714285}, {\"count\": 7, \"cutoff\": 31, \"userId\": 629, \"precision\": 0.03225806451612903, \"recall\": 0.14285714285714285}, {\"count\": 7, \"cutoff\": 36, \"userId\": 629, \"precision\": 0.027777777777777776, \"recall\": 0.14285714285714285}, {\"count\": 7, \"cutoff\": 41, \"userId\": 629, \"precision\": 0.024390243902439025, \"recall\": 0.14285714285714285}, {\"count\": 7, \"cutoff\": 46, \"userId\": 629, \"precision\": 0.021739130434782608, \"recall\": 0.14285714285714285}, {\"count\": 7, \"cutoff\": 1, \"userId\": 630, \"precision\": 0.0, \"recall\": 0.0}, {\"count\": 7, \"cutoff\": 2, \"userId\": 630, \"precision\": 0.5, \"recall\": 0.14285714285714285}, {\"count\": 7, \"cutoff\": 3, \"userId\": 630, \"precision\": 0.3333333333333333, \"recall\": 0.14285714285714285}, {\"count\": 7, \"cutoff\": 4, \"userId\": 630, \"precision\": 0.25, \"recall\": 0.14285714285714285}, {\"count\": 7, \"cutoff\": 5, \"userId\": 630, \"precision\": 0.2, \"recall\": 0.14285714285714285}, {\"count\": 7, \"cutoff\": 6, \"userId\": 630, \"precision\": 0.16666666666666666, \"recall\": 0.14285714285714285}, {\"count\": 7, \"cutoff\": 7, \"userId\": 630, \"precision\": 0.14285714285714285, \"recall\": 0.14285714285714285}, {\"count\": 7, \"cutoff\": 8, \"userId\": 630, \"precision\": 0.125, \"recall\": 0.14285714285714285}, {\"count\": 7, \"cutoff\": 9, \"userId\": 630, \"precision\": 0.1111111111111111, \"recall\": 0.14285714285714285}, {\"count\": 7, \"cutoff\": 10, \"userId\": 630, \"precision\": 0.1, \"recall\": 0.14285714285714285}, {\"count\": 7, \"cutoff\": 11, \"userId\": 630, \"precision\": 0.18181818181818182, \"recall\": 0.2857142857142857}, {\"count\": 7, \"cutoff\": 16, \"userId\": 630, \"precision\": 0.125, \"recall\": 0.2857142857142857}, {\"count\": 7, \"cutoff\": 21, \"userId\": 630, \"precision\": 0.09523809523809523, \"recall\": 0.2857142857142857}, {\"count\": 7, \"cutoff\": 26, \"userId\": 630, \"precision\": 0.07692307692307693, \"recall\": 0.2857142857142857}, {\"count\": 7, \"cutoff\": 31, \"userId\": 630, \"precision\": 0.06451612903225806, \"recall\": 0.2857142857142857}, {\"count\": 7, \"cutoff\": 36, \"userId\": 630, \"precision\": 0.05555555555555555, \"recall\": 0.2857142857142857}, {\"count\": 7, \"cutoff\": 41, \"userId\": 630, \"precision\": 0.04878048780487805, \"recall\": 0.2857142857142857}, {\"count\": 7, \"cutoff\": 46, \"userId\": 630, \"precision\": 0.06521739130434782, \"recall\": 0.42857142857142855}, {\"count\": 8, \"cutoff\": 1, \"userId\": 640, \"precision\": 0.0, \"recall\": 0.0}, {\"count\": 8, \"cutoff\": 2, \"userId\": 640, \"precision\": 0.0, \"recall\": 0.0}, {\"count\": 8, \"cutoff\": 3, \"userId\": 640, \"precision\": 0.0, \"recall\": 0.0}, {\"count\": 8, \"cutoff\": 4, \"userId\": 640, \"precision\": 0.0, \"recall\": 0.0}, {\"count\": 8, \"cutoff\": 5, \"userId\": 640, \"precision\": 0.0, \"recall\": 0.0}, {\"count\": 8, \"cutoff\": 6, \"userId\": 640, \"precision\": 0.0, \"recall\": 0.0}, {\"count\": 8, \"cutoff\": 7, \"userId\": 640, \"precision\": 0.0, \"recall\": 0.0}, {\"count\": 8, \"cutoff\": 8, \"userId\": 640, \"precision\": 0.0, \"recall\": 0.0}, {\"count\": 8, \"cutoff\": 9, \"userId\": 640, \"precision\": 0.0, \"recall\": 0.0}, {\"count\": 8, \"cutoff\": 10, \"userId\": 640, \"precision\": 0.0, \"recall\": 0.0}, {\"count\": 8, \"cutoff\": 11, \"userId\": 640, \"precision\": 0.0, \"recall\": 0.0}, {\"count\": 8, \"cutoff\": 16, \"userId\": 640, \"precision\": 0.0, \"recall\": 0.0}, {\"count\": 8, \"cutoff\": 21, \"userId\": 640, \"precision\": 0.0, \"recall\": 0.0}, {\"count\": 8, \"cutoff\": 26, \"userId\": 640, \"precision\": 0.0, \"recall\": 0.0}, {\"count\": 8, \"cutoff\": 31, \"userId\": 640, \"precision\": 0.0, \"recall\": 0.0}, {\"count\": 8, \"cutoff\": 36, \"userId\": 640, \"precision\": 0.0, \"recall\": 0.0}, {\"count\": 8, \"cutoff\": 41, \"userId\": 640, \"precision\": 0.0, \"recall\": 0.0}, {\"count\": 8, \"cutoff\": 46, \"userId\": 640, \"precision\": 0.0, \"recall\": 0.0}, {\"count\": 6, \"cutoff\": 1, \"userId\": 644, \"precision\": 0.0, \"recall\": 0.0}, {\"count\": 6, \"cutoff\": 2, \"userId\": 644, \"precision\": 0.0, \"recall\": 0.0}, {\"count\": 6, \"cutoff\": 3, \"userId\": 644, \"precision\": 0.0, \"recall\": 0.0}, {\"count\": 6, \"cutoff\": 4, \"userId\": 644, \"precision\": 0.0, \"recall\": 0.0}, {\"count\": 6, \"cutoff\": 5, \"userId\": 644, \"precision\": 0.0, \"recall\": 0.0}, {\"count\": 6, \"cutoff\": 6, \"userId\": 644, \"precision\": 0.0, \"recall\": 0.0}, {\"count\": 6, \"cutoff\": 7, \"userId\": 644, \"precision\": 0.0, \"recall\": 0.0}, {\"count\": 6, \"cutoff\": 8, \"userId\": 644, \"precision\": 0.0, \"recall\": 0.0}, {\"count\": 6, \"cutoff\": 9, \"userId\": 644, \"precision\": 0.0, \"recall\": 0.0}, {\"count\": 6, \"cutoff\": 10, \"userId\": 644, \"precision\": 0.0, \"recall\": 0.0}, {\"count\": 6, \"cutoff\": 11, \"userId\": 644, \"precision\": 0.0, \"recall\": 0.0}, {\"count\": 6, \"cutoff\": 16, \"userId\": 644, \"precision\": 0.0, \"recall\": 0.0}, {\"count\": 6, \"cutoff\": 21, \"userId\": 644, \"precision\": 0.0, \"recall\": 0.0}, {\"count\": 6, \"cutoff\": 26, \"userId\": 644, \"precision\": 0.0, \"recall\": 0.0}, {\"count\": 6, \"cutoff\": 31, \"userId\": 644, \"precision\": 0.0, \"recall\": 0.0}, {\"count\": 6, \"cutoff\": 36, \"userId\": 644, \"precision\": 0.0, \"recall\": 0.0}, {\"count\": 6, \"cutoff\": 41, \"userId\": 644, \"precision\": 0.0, \"recall\": 0.0}, {\"count\": 6, \"cutoff\": 46, \"userId\": 644, \"precision\": 0.0, \"recall\": 0.0}, {\"count\": 7, \"cutoff\": 1, \"userId\": 645, \"precision\": 0.0, \"recall\": 0.0}, {\"count\": 7, \"cutoff\": 2, \"userId\": 645, \"precision\": 0.0, \"recall\": 0.0}, {\"count\": 7, \"cutoff\": 3, \"userId\": 645, \"precision\": 0.0, \"recall\": 0.0}, {\"count\": 7, \"cutoff\": 4, \"userId\": 645, \"precision\": 0.0, \"recall\": 0.0}, {\"count\": 7, \"cutoff\": 5, \"userId\": 645, \"precision\": 0.0, \"recall\": 0.0}, {\"count\": 7, \"cutoff\": 6, \"userId\": 645, \"precision\": 0.0, \"recall\": 0.0}, {\"count\": 7, \"cutoff\": 7, \"userId\": 645, \"precision\": 0.0, \"recall\": 0.0}, {\"count\": 7, \"cutoff\": 8, \"userId\": 645, \"precision\": 0.0, \"recall\": 0.0}, {\"count\": 7, \"cutoff\": 9, \"userId\": 645, \"precision\": 0.0, \"recall\": 0.0}, {\"count\": 7, \"cutoff\": 10, \"userId\": 645, \"precision\": 0.0, \"recall\": 0.0}, {\"count\": 7, \"cutoff\": 11, \"userId\": 645, \"precision\": 0.0, \"recall\": 0.0}, {\"count\": 7, \"cutoff\": 16, \"userId\": 645, \"precision\": 0.0, \"recall\": 0.0}, {\"count\": 7, \"cutoff\": 21, \"userId\": 645, \"precision\": 0.0, \"recall\": 0.0}, {\"count\": 7, \"cutoff\": 26, \"userId\": 645, \"precision\": 0.0, \"recall\": 0.0}, {\"count\": 7, \"cutoff\": 31, \"userId\": 645, \"precision\": 0.0, \"recall\": 0.0}, {\"count\": 7, \"cutoff\": 36, \"userId\": 645, \"precision\": 0.0, \"recall\": 0.0}, {\"count\": 7, \"cutoff\": 41, \"userId\": 645, \"precision\": 0.0, \"recall\": 0.0}, {\"count\": 7, \"cutoff\": 46, \"userId\": 645, \"precision\": 0.0, \"recall\": 0.0}, {\"count\": 31, \"cutoff\": 1, \"userId\": 646, \"precision\": 0.0, \"recall\": 0.0}, {\"count\": 31, \"cutoff\": 2, \"userId\": 646, \"precision\": 0.0, \"recall\": 0.0}, {\"count\": 31, \"cutoff\": 3, \"userId\": 646, \"precision\": 0.0, \"recall\": 0.0}, {\"count\": 31, \"cutoff\": 4, \"userId\": 646, \"precision\": 0.0, \"recall\": 0.0}, {\"count\": 31, \"cutoff\": 5, \"userId\": 646, \"precision\": 0.0, \"recall\": 0.0}, {\"count\": 31, \"cutoff\": 6, \"userId\": 646, \"precision\": 0.0, \"recall\": 0.0}, {\"count\": 31, \"cutoff\": 7, \"userId\": 646, \"precision\": 0.14285714285714285, \"recall\": 0.03225806451612903}, {\"count\": 31, \"cutoff\": 8, \"userId\": 646, \"precision\": 0.125, \"recall\": 0.03225806451612903}, {\"count\": 31, \"cutoff\": 9, \"userId\": 646, \"precision\": 0.1111111111111111, \"recall\": 0.03225806451612903}, {\"count\": 31, \"cutoff\": 10, \"userId\": 646, \"precision\": 0.1, \"recall\": 0.03225806451612903}, {\"count\": 31, \"cutoff\": 11, \"userId\": 646, \"precision\": 0.09090909090909091, \"recall\": 0.03225806451612903}, {\"count\": 31, \"cutoff\": 16, \"userId\": 646, \"precision\": 0.125, \"recall\": 0.06451612903225806}, {\"count\": 31, \"cutoff\": 21, \"userId\": 646, \"precision\": 0.09523809523809523, \"recall\": 0.06451612903225806}, {\"count\": 31, \"cutoff\": 26, \"userId\": 646, \"precision\": 0.07692307692307693, \"recall\": 0.06451612903225806}, {\"count\": 31, \"cutoff\": 31, \"userId\": 646, \"precision\": 0.06451612903225806, \"recall\": 0.06451612903225806}, {\"count\": 31, \"cutoff\": 36, \"userId\": 646, \"precision\": 0.05555555555555555, \"recall\": 0.06451612903225806}, {\"count\": 31, \"cutoff\": 41, \"userId\": 646, \"precision\": 0.04878048780487805, \"recall\": 0.06451612903225806}, {\"count\": 31, \"cutoff\": 46, \"userId\": 646, \"precision\": 0.043478260869565216, \"recall\": 0.06451612903225806}, {\"count\": 23, \"cutoff\": 1, \"userId\": 656, \"precision\": 0.0, \"recall\": 0.0}, {\"count\": 23, \"cutoff\": 2, \"userId\": 656, \"precision\": 0.0, \"recall\": 0.0}, {\"count\": 23, \"cutoff\": 3, \"userId\": 656, \"precision\": 0.0, \"recall\": 0.0}, {\"count\": 23, \"cutoff\": 4, \"userId\": 656, \"precision\": 0.0, \"recall\": 0.0}, {\"count\": 23, \"cutoff\": 5, \"userId\": 656, \"precision\": 0.0, \"recall\": 0.0}, {\"count\": 23, \"cutoff\": 6, \"userId\": 656, \"precision\": 0.0, \"recall\": 0.0}, {\"count\": 23, \"cutoff\": 7, \"userId\": 656, \"precision\": 0.0, \"recall\": 0.0}, {\"count\": 23, \"cutoff\": 8, \"userId\": 656, \"precision\": 0.0, \"recall\": 0.0}, {\"count\": 23, \"cutoff\": 9, \"userId\": 656, \"precision\": 0.0, \"recall\": 0.0}, {\"count\": 23, \"cutoff\": 10, \"userId\": 656, \"precision\": 0.0, \"recall\": 0.0}, {\"count\": 23, \"cutoff\": 11, \"userId\": 656, \"precision\": 0.0, \"recall\": 0.0}, {\"count\": 23, \"cutoff\": 16, \"userId\": 656, \"precision\": 0.0, \"recall\": 0.0}, {\"count\": 23, \"cutoff\": 21, \"userId\": 656, \"precision\": 0.0, \"recall\": 0.0}, {\"count\": 23, \"cutoff\": 26, \"userId\": 656, \"precision\": 0.0, \"recall\": 0.0}, {\"count\": 23, \"cutoff\": 31, \"userId\": 656, \"precision\": 0.0, \"recall\": 0.0}, {\"count\": 23, \"cutoff\": 36, \"userId\": 656, \"precision\": 0.0, \"recall\": 0.0}, {\"count\": 23, \"cutoff\": 41, \"userId\": 656, \"precision\": 0.0, \"recall\": 0.0}, {\"count\": 23, \"cutoff\": 46, \"userId\": 656, \"precision\": 0.0, \"recall\": 0.0}, {\"count\": 20, \"cutoff\": 1, \"userId\": 660, \"precision\": 0.0, \"recall\": 0.0}, {\"count\": 20, \"cutoff\": 2, \"userId\": 660, \"precision\": 0.0, \"recall\": 0.0}, {\"count\": 20, \"cutoff\": 3, \"userId\": 660, \"precision\": 0.0, \"recall\": 0.0}, {\"count\": 20, \"cutoff\": 4, \"userId\": 660, \"precision\": 0.0, \"recall\": 0.0}, {\"count\": 20, \"cutoff\": 5, \"userId\": 660, \"precision\": 0.0, \"recall\": 0.0}, {\"count\": 20, \"cutoff\": 6, \"userId\": 660, \"precision\": 0.0, \"recall\": 0.0}, {\"count\": 20, \"cutoff\": 7, \"userId\": 660, \"precision\": 0.0, \"recall\": 0.0}, {\"count\": 20, \"cutoff\": 8, \"userId\": 660, \"precision\": 0.0, \"recall\": 0.0}, {\"count\": 20, \"cutoff\": 9, \"userId\": 660, \"precision\": 0.0, \"recall\": 0.0}, {\"count\": 20, \"cutoff\": 10, \"userId\": 660, \"precision\": 0.0, \"recall\": 0.0}, {\"count\": 20, \"cutoff\": 11, \"userId\": 660, \"precision\": 0.0, \"recall\": 0.0}, {\"count\": 20, \"cutoff\": 16, \"userId\": 660, \"precision\": 0.0625, \"recall\": 0.05}, {\"count\": 20, \"cutoff\": 21, \"userId\": 660, \"precision\": 0.047619047619047616, \"recall\": 0.05}, {\"count\": 20, \"cutoff\": 26, \"userId\": 660, \"precision\": 0.07692307692307693, \"recall\": 0.1}, {\"count\": 20, \"cutoff\": 31, \"userId\": 660, \"precision\": 0.06451612903225806, \"recall\": 0.1}, {\"count\": 20, \"cutoff\": 36, \"userId\": 660, \"precision\": 0.05555555555555555, \"recall\": 0.1}, {\"count\": 20, \"cutoff\": 41, \"userId\": 660, \"precision\": 0.04878048780487805, \"recall\": 0.1}, {\"count\": 20, \"cutoff\": 46, \"userId\": 660, \"precision\": 0.043478260869565216, \"recall\": 0.1}, {\"count\": 103, \"cutoff\": 1, \"userId\": 664, \"precision\": 1.0, \"recall\": 0.009708737864077669}, {\"count\": 103, \"cutoff\": 2, \"userId\": 664, \"precision\": 0.5, \"recall\": 0.009708737864077669}, {\"count\": 103, \"cutoff\": 3, \"userId\": 664, \"precision\": 0.6666666666666666, \"recall\": 0.019417475728155338}, {\"count\": 103, \"cutoff\": 4, \"userId\": 664, \"precision\": 0.5, \"recall\": 0.019417475728155338}, {\"count\": 103, \"cutoff\": 5, \"userId\": 664, \"precision\": 0.6, \"recall\": 0.02912621359223301}, {\"count\": 103, \"cutoff\": 6, \"userId\": 664, \"precision\": 0.6666666666666666, \"recall\": 0.038834951456310676}, {\"count\": 103, \"cutoff\": 7, \"userId\": 664, \"precision\": 0.7142857142857143, \"recall\": 0.04854368932038835}, {\"count\": 103, \"cutoff\": 8, \"userId\": 664, \"precision\": 0.625, \"recall\": 0.04854368932038835}, {\"count\": 103, \"cutoff\": 9, \"userId\": 664, \"precision\": 0.5555555555555556, \"recall\": 0.04854368932038835}, {\"count\": 103, \"cutoff\": 10, \"userId\": 664, \"precision\": 0.5, \"recall\": 0.04854368932038835}, {\"count\": 103, \"cutoff\": 11, \"userId\": 664, \"precision\": 0.5454545454545454, \"recall\": 0.05825242718446602}, {\"count\": 103, \"cutoff\": 16, \"userId\": 664, \"precision\": 0.5, \"recall\": 0.07766990291262135}, {\"count\": 103, \"cutoff\": 21, \"userId\": 664, \"precision\": 0.47619047619047616, \"recall\": 0.0970873786407767}, {\"count\": 103, \"cutoff\": 26, \"userId\": 664, \"precision\": 0.38461538461538464, \"recall\": 0.0970873786407767}, {\"count\": 103, \"cutoff\": 31, \"userId\": 664, \"precision\": 0.3225806451612903, \"recall\": 0.0970873786407767}, {\"count\": 103, \"cutoff\": 36, \"userId\": 664, \"precision\": 0.3055555555555556, \"recall\": 0.10679611650485436}, {\"count\": 103, \"cutoff\": 41, \"userId\": 664, \"precision\": 0.2926829268292683, \"recall\": 0.11650485436893204}, {\"count\": 103, \"cutoff\": 46, \"userId\": 664, \"precision\": 0.2608695652173913, \"recall\": 0.11650485436893204}, {\"count\": 4, \"cutoff\": 1, \"userId\": 668, \"precision\": 1.0, \"recall\": 0.25}, {\"count\": 4, \"cutoff\": 2, \"userId\": 668, \"precision\": 0.5, \"recall\": 0.25}, {\"count\": 4, \"cutoff\": 3, \"userId\": 668, \"precision\": 0.3333333333333333, \"recall\": 0.25}, {\"count\": 4, \"cutoff\": 4, \"userId\": 668, \"precision\": 0.25, \"recall\": 0.25}, {\"count\": 4, \"cutoff\": 5, \"userId\": 668, \"precision\": 0.2, \"recall\": 0.25}, {\"count\": 4, \"cutoff\": 6, \"userId\": 668, \"precision\": 0.16666666666666666, \"recall\": 0.25}, {\"count\": 4, \"cutoff\": 7, \"userId\": 668, \"precision\": 0.14285714285714285, \"recall\": 0.25}, {\"count\": 4, \"cutoff\": 8, \"userId\": 668, \"precision\": 0.125, \"recall\": 0.25}, {\"count\": 4, \"cutoff\": 9, \"userId\": 668, \"precision\": 0.1111111111111111, \"recall\": 0.25}, {\"count\": 4, \"cutoff\": 10, \"userId\": 668, \"precision\": 0.1, \"recall\": 0.25}, {\"count\": 4, \"cutoff\": 11, \"userId\": 668, \"precision\": 0.09090909090909091, \"recall\": 0.25}, {\"count\": 4, \"cutoff\": 16, \"userId\": 668, \"precision\": 0.0625, \"recall\": 0.25}, {\"count\": 4, \"cutoff\": 21, \"userId\": 668, \"precision\": 0.047619047619047616, \"recall\": 0.25}, {\"count\": 4, \"cutoff\": 26, \"userId\": 668, \"precision\": 0.038461538461538464, \"recall\": 0.25}, {\"count\": 4, \"cutoff\": 31, \"userId\": 668, \"precision\": 0.03225806451612903, \"recall\": 0.25}, {\"count\": 4, \"cutoff\": 36, \"userId\": 668, \"precision\": 0.027777777777777776, \"recall\": 0.25}, {\"count\": 4, \"cutoff\": 41, \"userId\": 668, \"precision\": 0.024390243902439025, \"recall\": 0.25}, {\"count\": 4, \"cutoff\": 46, \"userId\": 668, \"precision\": 0.021739130434782608, \"recall\": 0.25}]}]]}, e);\n",
       "                });\n",
       "            })();\n",
       "        "
      ]
     },
     "metadata": {},
     "output_type": "display_data"
    }
   ],
   "source": [
    "comparisonstruct = gl.compare(test,models)\n",
    "gl.show_comparison(comparisonstruct,models)"
   ]
  },
  {
   "cell_type": "code",
   "execution_count": 107,
   "metadata": {
    "collapsed": true
   },
   "outputs": [],
   "source": [
    "## need to talk about how the current rating in the model is harder to predict because rating goes from 1 to 5, \n",
    "## instead of 0 or 1. Ranking factoriztion is penalizing itself when building the model, instead of hit or a miss decision\n",
    "## "
   ]
  },
  {
   "cell_type": "code",
   "execution_count": 174,
   "metadata": {
    "collapsed": false
   },
   "outputs": [
    {
     "data": {
      "text/html": [
       "<pre>Read 100 lines. Lines per second: 975.068</pre>"
      ],
      "text/plain": [
       "Read 100 lines. Lines per second: 975.068"
      ]
     },
     "metadata": {},
     "output_type": "display_data"
    },
    {
     "data": {
      "text/html": [
       "<pre>Finished parsing file /home/sam/Documents/DataMining/Lab3/MSDS7331-GroupProject/data/ml-latest-small/ratings.csv</pre>"
      ],
      "text/plain": [
       "Finished parsing file /home/sam/Documents/DataMining/Lab3/MSDS7331-GroupProject/data/ml-latest-small/ratings.csv"
      ]
     },
     "metadata": {},
     "output_type": "display_data"
    },
    {
     "data": {
      "text/html": [
       "<pre>Parsing completed. Parsed 100 lines in 0.102929 secs.</pre>"
      ],
      "text/plain": [
       "Parsing completed. Parsed 100 lines in 0.102929 secs."
      ]
     },
     "metadata": {},
     "output_type": "display_data"
    },
    {
     "data": {
      "text/html": [
       "<pre>Finished parsing file /home/sam/Documents/DataMining/Lab3/MSDS7331-GroupProject/data/ml-latest-small/ratings.csv</pre>"
      ],
      "text/plain": [
       "Finished parsing file /home/sam/Documents/DataMining/Lab3/MSDS7331-GroupProject/data/ml-latest-small/ratings.csv"
      ]
     },
     "metadata": {},
     "output_type": "display_data"
    },
    {
     "data": {
      "text/html": [
       "<pre>Parsing completed. Parsed 100004 lines in 0.098737 secs.</pre>"
      ],
      "text/plain": [
       "Parsing completed. Parsed 100004 lines in 0.098737 secs."
      ]
     },
     "metadata": {},
     "output_type": "display_data"
    },
    {
     "data": {
      "text/html": [
       "<pre>Finished parsing file /home/sam/Documents/DataMining/Lab3/MSDS7331-GroupProject/data/ml-latest-small/movies.csv</pre>"
      ],
      "text/plain": [
       "Finished parsing file /home/sam/Documents/DataMining/Lab3/MSDS7331-GroupProject/data/ml-latest-small/movies.csv"
      ]
     },
     "metadata": {},
     "output_type": "display_data"
    },
    {
     "data": {
      "text/html": [
       "<pre>Parsing completed. Parsed 100 lines in 0.055413 secs.</pre>"
      ],
      "text/plain": [
       "Parsing completed. Parsed 100 lines in 0.055413 secs."
      ]
     },
     "metadata": {},
     "output_type": "display_data"
    },
    {
     "data": {
      "text/html": [
       "<pre>Finished parsing file /home/sam/Documents/DataMining/Lab3/MSDS7331-GroupProject/data/ml-latest-small/movies.csv</pre>"
      ],
      "text/plain": [
       "Finished parsing file /home/sam/Documents/DataMining/Lab3/MSDS7331-GroupProject/data/ml-latest-small/movies.csv"
      ]
     },
     "metadata": {},
     "output_type": "display_data"
    },
    {
     "data": {
      "text/html": [
       "<pre>Parsing completed. Parsed 9125 lines in 0.046568 secs.</pre>"
      ],
      "text/plain": [
       "Parsing completed. Parsed 9125 lines in 0.046568 secs."
      ]
     },
     "metadata": {},
     "output_type": "display_data"
    },
    {
     "data": {
      "text/html": [
       "<pre>Recsys training: model = ranking_factorization_recommender</pre>"
      ],
      "text/plain": [
       "Recsys training: model = ranking_factorization_recommender"
      ]
     },
     "metadata": {},
     "output_type": "display_data"
    },
    {
     "data": {
      "text/html": [
       "<pre>Preparing data set.</pre>"
      ],
      "text/plain": [
       "Preparing data set."
      ]
     },
     "metadata": {},
     "output_type": "display_data"
    },
    {
     "data": {
      "text/html": [
       "<pre>    Data has 100004 observations with 671 users and 9125 items.</pre>"
      ],
      "text/plain": [
       "    Data has 100004 observations with 671 users and 9125 items."
      ]
     },
     "metadata": {},
     "output_type": "display_data"
    },
    {
     "data": {
      "text/html": [
       "<pre>    Data prepared in: 0.165549s</pre>"
      ],
      "text/plain": [
       "    Data prepared in: 0.165549s"
      ]
     },
     "metadata": {},
     "output_type": "display_data"
    },
    {
     "data": {
      "text/html": [
       "<pre>Training ranking_factorization_recommender for recommendations.</pre>"
      ],
      "text/plain": [
       "Training ranking_factorization_recommender for recommendations."
      ]
     },
     "metadata": {},
     "output_type": "display_data"
    },
    {
     "data": {
      "text/html": [
       "<pre>+--------------------------------+--------------------------------------------------+----------+</pre>"
      ],
      "text/plain": [
       "+--------------------------------+--------------------------------------------------+----------+"
      ]
     },
     "metadata": {},
     "output_type": "display_data"
    },
    {
     "data": {
      "text/html": [
       "<pre>| Parameter                      | Description                                      | Value    |</pre>"
      ],
      "text/plain": [
       "| Parameter                      | Description                                      | Value    |"
      ]
     },
     "metadata": {},
     "output_type": "display_data"
    },
    {
     "data": {
      "text/html": [
       "<pre>+--------------------------------+--------------------------------------------------+----------+</pre>"
      ],
      "text/plain": [
       "+--------------------------------+--------------------------------------------------+----------+"
      ]
     },
     "metadata": {},
     "output_type": "display_data"
    },
    {
     "data": {
      "text/html": [
       "<pre>| num_factors                    | Factor Dimension                                 | 32       |</pre>"
      ],
      "text/plain": [
       "| num_factors                    | Factor Dimension                                 | 32       |"
      ]
     },
     "metadata": {},
     "output_type": "display_data"
    },
    {
     "data": {
      "text/html": [
       "<pre>| regularization                 | L2 Regularization on Factors                     | 1e-09    |</pre>"
      ],
      "text/plain": [
       "| regularization                 | L2 Regularization on Factors                     | 1e-09    |"
      ]
     },
     "metadata": {},
     "output_type": "display_data"
    },
    {
     "data": {
      "text/html": [
       "<pre>| solver                         | Solver used for training                         | adagrad  |</pre>"
      ],
      "text/plain": [
       "| solver                         | Solver used for training                         | adagrad  |"
      ]
     },
     "metadata": {},
     "output_type": "display_data"
    },
    {
     "data": {
      "text/html": [
       "<pre>| linear_regularization          | L2 Regularization on Linear Coefficients         | 1e-09    |</pre>"
      ],
      "text/plain": [
       "| linear_regularization          | L2 Regularization on Linear Coefficients         | 1e-09    |"
      ]
     },
     "metadata": {},
     "output_type": "display_data"
    },
    {
     "data": {
      "text/html": [
       "<pre>| ranking_regularization         | Rank-based Regularization Weight                 | 0.1      |</pre>"
      ],
      "text/plain": [
       "| ranking_regularization         | Rank-based Regularization Weight                 | 0.1      |"
      ]
     },
     "metadata": {},
     "output_type": "display_data"
    },
    {
     "data": {
      "text/html": [
       "<pre>| unobserved_rating_value        | Ranking Target Rating for Unobserved Interacti...| 1        |</pre>"
      ],
      "text/plain": [
       "| unobserved_rating_value        | Ranking Target Rating for Unobserved Interacti...| 1        |"
      ]
     },
     "metadata": {},
     "output_type": "display_data"
    },
    {
     "data": {
      "text/html": [
       "<pre>| side_data_factorization        | Assign Factors for Side Data                     | True     |</pre>"
      ],
      "text/plain": [
       "| side_data_factorization        | Assign Factors for Side Data                     | True     |"
      ]
     },
     "metadata": {},
     "output_type": "display_data"
    },
    {
     "data": {
      "text/html": [
       "<pre>| max_iterations                 | Maximum Number of Iterations                     | 25       |</pre>"
      ],
      "text/plain": [
       "| max_iterations                 | Maximum Number of Iterations                     | 25       |"
      ]
     },
     "metadata": {},
     "output_type": "display_data"
    },
    {
     "data": {
      "text/html": [
       "<pre>+--------------------------------+--------------------------------------------------+----------+</pre>"
      ],
      "text/plain": [
       "+--------------------------------+--------------------------------------------------+----------+"
      ]
     },
     "metadata": {},
     "output_type": "display_data"
    },
    {
     "data": {
      "text/html": [
       "<pre>  Optimizing model using SGD; tuning step size.</pre>"
      ],
      "text/plain": [
       "  Optimizing model using SGD; tuning step size."
      ]
     },
     "metadata": {},
     "output_type": "display_data"
    },
    {
     "data": {
      "text/html": [
       "<pre>  Using 12500 / 100004 points for tuning the step size.</pre>"
      ],
      "text/plain": [
       "  Using 12500 / 100004 points for tuning the step size."
      ]
     },
     "metadata": {},
     "output_type": "display_data"
    },
    {
     "data": {
      "text/html": [
       "<pre>+---------+-------------------+------------------------------------------+</pre>"
      ],
      "text/plain": [
       "+---------+-------------------+------------------------------------------+"
      ]
     },
     "metadata": {},
     "output_type": "display_data"
    },
    {
     "data": {
      "text/html": [
       "<pre>| Attempt | Initial Step Size | Estimated Objective Value                |</pre>"
      ],
      "text/plain": [
       "| Attempt | Initial Step Size | Estimated Objective Value                |"
      ]
     },
     "metadata": {},
     "output_type": "display_data"
    },
    {
     "data": {
      "text/html": [
       "<pre>+---------+-------------------+------------------------------------------+</pre>"
      ],
      "text/plain": [
       "+---------+-------------------+------------------------------------------+"
      ]
     },
     "metadata": {},
     "output_type": "display_data"
    },
    {
     "data": {
      "text/html": [
       "<pre>| 0       | 12.5              | Not Viable                               |</pre>"
      ],
      "text/plain": [
       "| 0       | 12.5              | Not Viable                               |"
      ]
     },
     "metadata": {},
     "output_type": "display_data"
    },
    {
     "data": {
      "text/html": [
       "<pre>| 1       | 3.125             | Not Viable                               |</pre>"
      ],
      "text/plain": [
       "| 1       | 3.125             | Not Viable                               |"
      ]
     },
     "metadata": {},
     "output_type": "display_data"
    },
    {
     "data": {
      "text/html": [
       "<pre>| 2       | 0.78125           | Not Viable                               |</pre>"
      ],
      "text/plain": [
       "| 2       | 0.78125           | Not Viable                               |"
      ]
     },
     "metadata": {},
     "output_type": "display_data"
    },
    {
     "data": {
      "text/html": [
       "<pre>| 3       | 0.195312          | 0.463556                                 |</pre>"
      ],
      "text/plain": [
       "| 3       | 0.195312          | 0.463556                                 |"
      ]
     },
     "metadata": {},
     "output_type": "display_data"
    },
    {
     "data": {
      "text/html": [
       "<pre>| 4       | 0.0976562         | 0.422601                                 |</pre>"
      ],
      "text/plain": [
       "| 4       | 0.0976562         | 0.422601                                 |"
      ]
     },
     "metadata": {},
     "output_type": "display_data"
    },
    {
     "data": {
      "text/html": [
       "<pre>| 5       | 0.0488281         | 0.518546                                 |</pre>"
      ],
      "text/plain": [
       "| 5       | 0.0488281         | 0.518546                                 |"
      ]
     },
     "metadata": {},
     "output_type": "display_data"
    },
    {
     "data": {
      "text/html": [
       "<pre>| 6       | 0.0244141         | 0.883597                                 |</pre>"
      ],
      "text/plain": [
       "| 6       | 0.0244141         | 0.883597                                 |"
      ]
     },
     "metadata": {},
     "output_type": "display_data"
    },
    {
     "data": {
      "text/html": [
       "<pre>+---------+-------------------+------------------------------------------+</pre>"
      ],
      "text/plain": [
       "+---------+-------------------+------------------------------------------+"
      ]
     },
     "metadata": {},
     "output_type": "display_data"
    },
    {
     "data": {
      "text/html": [
       "<pre>| Final   | 0.0976562         | 0.422601                                 |</pre>"
      ],
      "text/plain": [
       "| Final   | 0.0976562         | 0.422601                                 |"
      ]
     },
     "metadata": {},
     "output_type": "display_data"
    },
    {
     "data": {
      "text/html": [
       "<pre>+---------+-------------------+------------------------------------------+</pre>"
      ],
      "text/plain": [
       "+---------+-------------------+------------------------------------------+"
      ]
     },
     "metadata": {},
     "output_type": "display_data"
    },
    {
     "data": {
      "text/html": [
       "<pre>Starting Optimization.</pre>"
      ],
      "text/plain": [
       "Starting Optimization."
      ]
     },
     "metadata": {},
     "output_type": "display_data"
    },
    {
     "data": {
      "text/html": [
       "<pre>+---------+--------------+-------------------+-----------------------+-------------+</pre>"
      ],
      "text/plain": [
       "+---------+--------------+-------------------+-----------------------+-------------+"
      ]
     },
     "metadata": {},
     "output_type": "display_data"
    },
    {
     "data": {
      "text/html": [
       "<pre>| Iter.   | Elapsed Time | Approx. Objective | Approx. Training RMSE | Step Size   |</pre>"
      ],
      "text/plain": [
       "| Iter.   | Elapsed Time | Approx. Objective | Approx. Training RMSE | Step Size   |"
      ]
     },
     "metadata": {},
     "output_type": "display_data"
    },
    {
     "data": {
      "text/html": [
       "<pre>+---------+--------------+-------------------+-----------------------+-------------+</pre>"
      ],
      "text/plain": [
       "+---------+--------------+-------------------+-----------------------+-------------+"
      ]
     },
     "metadata": {},
     "output_type": "display_data"
    },
    {
     "data": {
      "text/html": [
       "<pre>| Initial | 529us        | 1.79613           | 1.10097               |             |</pre>"
      ],
      "text/plain": [
       "| Initial | 529us        | 1.79613           | 1.10097               |             |"
      ]
     },
     "metadata": {},
     "output_type": "display_data"
    },
    {
     "data": {
      "text/html": [
       "<pre>+---------+--------------+-------------------+-----------------------+-------------+</pre>"
      ],
      "text/plain": [
       "+---------+--------------+-------------------+-----------------------+-------------+"
      ]
     },
     "metadata": {},
     "output_type": "display_data"
    },
    {
     "data": {
      "text/html": [
       "<pre>| 1       | 522.84ms     | 1.52917           | 1.0202                | 0.0976562   |</pre>"
      ],
      "text/plain": [
       "| 1       | 522.84ms     | 1.52917           | 1.0202                | 0.0976562   |"
      ]
     },
     "metadata": {},
     "output_type": "display_data"
    },
    {
     "data": {
      "text/html": [
       "<pre>| 2       | 922.45ms     | 1.06744           | 0.792602              | 0.0976562   |</pre>"
      ],
      "text/plain": [
       "| 2       | 922.45ms     | 1.06744           | 0.792602              | 0.0976562   |"
      ]
     },
     "metadata": {},
     "output_type": "display_data"
    },
    {
     "data": {
      "text/html": [
       "<pre>| 3       | 1.35s        | 0.858594          | 0.673348              | 0.0976562   |</pre>"
      ],
      "text/plain": [
       "| 3       | 1.35s        | 0.858594          | 0.673348              | 0.0976562   |"
      ]
     },
     "metadata": {},
     "output_type": "display_data"
    },
    {
     "data": {
      "text/html": [
       "<pre>| 4       | 1.89s        | 0.733219          | 0.601471              | 0.0976562   |</pre>"
      ],
      "text/plain": [
       "| 4       | 1.89s        | 0.733219          | 0.601471              | 0.0976562   |"
      ]
     },
     "metadata": {},
     "output_type": "display_data"
    },
    {
     "data": {
      "text/html": [
       "<pre>| 5       | 2.41s        | 0.653115          | 0.559212              | 0.0976562   |</pre>"
      ],
      "text/plain": [
       "| 5       | 2.41s        | 0.653115          | 0.559212              | 0.0976562   |"
      ]
     },
     "metadata": {},
     "output_type": "display_data"
    },
    {
     "data": {
      "text/html": [
       "<pre>| 6       | 2.91s        | 0.594558          | 0.529174              | 0.0976562   |</pre>"
      ],
      "text/plain": [
       "| 6       | 2.91s        | 0.594558          | 0.529174              | 0.0976562   |"
      ]
     },
     "metadata": {},
     "output_type": "display_data"
    },
    {
     "data": {
      "text/html": [
       "<pre>| 10      | 4.59s        | 0.468303          | 0.466076              | 0.0976562   |</pre>"
      ],
      "text/plain": [
       "| 10      | 4.59s        | 0.468303          | 0.466076              | 0.0976562   |"
      ]
     },
     "metadata": {},
     "output_type": "display_data"
    },
    {
     "data": {
      "text/html": [
       "<pre>| 11      | 5.11s        | 0.45041           | 0.457341              | 0.0976562   |</pre>"
      ],
      "text/plain": [
       "| 11      | 5.11s        | 0.45041           | 0.457341              | 0.0976562   |"
      ]
     },
     "metadata": {},
     "output_type": "display_data"
    },
    {
     "data": {
      "text/html": [
       "<pre>| 15      | 6.91s        | 0.397128          | 0.429937              | 0.0976562   |</pre>"
      ],
      "text/plain": [
       "| 15      | 6.91s        | 0.397128          | 0.429937              | 0.0976562   |"
      ]
     },
     "metadata": {},
     "output_type": "display_data"
    },
    {
     "data": {
      "text/html": [
       "<pre>| 20      | 9.16s        | 0.358633          | 0.409728              | 0.0976562   |</pre>"
      ],
      "text/plain": [
       "| 20      | 9.16s        | 0.358633          | 0.409728              | 0.0976562   |"
      ]
     },
     "metadata": {},
     "output_type": "display_data"
    },
    {
     "data": {
      "text/html": [
       "<pre>| 25      | 11.25s       | 0.332326          | 0.396965              | 0.0976562   |</pre>"
      ],
      "text/plain": [
       "| 25      | 11.25s       | 0.332326          | 0.396965              | 0.0976562   |"
      ]
     },
     "metadata": {},
     "output_type": "display_data"
    },
    {
     "data": {
      "text/html": [
       "<pre>+---------+--------------+-------------------+-----------------------+-------------+</pre>"
      ],
      "text/plain": [
       "+---------+--------------+-------------------+-----------------------+-------------+"
      ]
     },
     "metadata": {},
     "output_type": "display_data"
    },
    {
     "data": {
      "text/html": [
       "<pre>Optimization Complete: Maximum number of passes through the data reached.</pre>"
      ],
      "text/plain": [
       "Optimization Complete: Maximum number of passes through the data reached."
      ]
     },
     "metadata": {},
     "output_type": "display_data"
    },
    {
     "data": {
      "text/html": [
       "<pre>Computing final objective value and training RMSE.</pre>"
      ],
      "text/plain": [
       "Computing final objective value and training RMSE."
      ]
     },
     "metadata": {},
     "output_type": "display_data"
    },
    {
     "data": {
      "text/html": [
       "<pre>       Final objective value: 0.310632</pre>"
      ],
      "text/plain": [
       "       Final objective value: 0.310632"
      ]
     },
     "metadata": {},
     "output_type": "display_data"
    },
    {
     "data": {
      "text/html": [
       "<pre>       Final training RMSE: 0.357582</pre>"
      ],
      "text/plain": [
       "       Final training RMSE: 0.357582"
      ]
     },
     "metadata": {},
     "output_type": "display_data"
    }
   ],
   "source": [
    "# Data for Model 1\n",
    "data_ratings = gl.SFrame.read_csv(\"/home/sam/Documents/DataMining/Lab3/MSDS7331-GroupProject/data/ml-latest-small/ratings.csv\", column_type_hints={\"rating\":int})\n",
    "\n",
    "#create a new variable\n",
    "data_ratings.remove_column('timestamp')\n",
    "\n",
    "# Data for Model 2\n",
    "data_movies = gl.SFrame.read_csv(\"/home/sam/Documents/DataMining/Lab3/MSDS7331-GroupProject/data/ml-latest-small/movies.csv\", \n",
    "                          column_type_hints={\"movieId\":int})\n",
    "\n",
    "#data_movies.remove_column('timestamp')\n",
    "                                 \n",
    "\n",
    "\n",
    "    \n",
    "    #Extra credit , adding side features.\n",
    "# adding options to include correction \n",
    "model_ratings = gl.recommender.ranking_factorization_recommender.create(data_ratings, user_id=\"userId\", item_id=\"movieId\", \n",
    "                                      item_data=data_movies, target=\"rating\", ranking_regularization=0.1, unobserved_rating_value=1)\n",
    "# leaving k as 5\n",
    "results = model_ratings.recommend(users=None, k=5)\n",
    "model_ratings.save(\"my_model\")\n",
    "                                 \n",
    "\n",
    "    "
   ]
  },
  {
   "cell_type": "code",
   "execution_count": 175,
   "metadata": {
    "collapsed": false
   },
   "outputs": [
    {
     "name": "stdout",
     "output_type": "stream",
     "text": [
      "<bound method RankingFactorizationRecommender.get of Class                            : RankingFactorizationRecommender\n",
      "\n",
      "Schema\n",
      "------\n",
      "User ID                          : userId\n",
      "Item ID                          : movieId\n",
      "Target                           : rating\n",
      "Additional observation features  : 0\n",
      "User side features               : []\n",
      "Item side features               : ['movieId', 'title', 'genres']\n",
      "\n",
      "Statistics\n",
      "----------\n",
      "Number of observations           : 100004\n",
      "Number of users                  : 671\n",
      "Number of items                  : 9125\n",
      "\n",
      "Training summary\n",
      "----------------\n",
      "Training time                    : 14.039\n",
      "\n",
      "Model Parameters\n",
      "----------------\n",
      "Model class                      : RankingFactorizationRecommender\n",
      "num_factors                      : 32\n",
      "binary_target                    : 0\n",
      "side_data_factorization          : 1\n",
      "solver                           : auto\n",
      "nmf                              : 0\n",
      "max_iterations                   : 25\n",
      "\n",
      "Regularization Settings\n",
      "-----------------------\n",
      "regularization                   : 0.0\n",
      "regularization_type              : normal\n",
      "linear_regularization            : 0.0\n",
      "ranking_regularization           : 0.1\n",
      "unobserved_rating_value          : 1.0\n",
      "num_sampled_negative_examples    : 4\n",
      "ials_confidence_scaling_type     : auto\n",
      "ials_confidence_scaling_factor   : 1\n",
      "\n",
      "Optimization Settings\n",
      "---------------------\n",
      "init_random_sigma                : 0.01\n",
      "sgd_convergence_interval         : 4\n",
      "sgd_convergence_threshold        : 0.0\n",
      "sgd_max_trial_iterations         : 5\n",
      "sgd_sampling_block_size          : 131072\n",
      "sgd_step_adjustment_interval     : 4\n",
      "sgd_step_size                    : 0.0\n",
      "sgd_trial_sample_minimum_size    : 10000\n",
      "sgd_trial_sample_proportion      : 0.125\n",
      "step_size_decrease_rate          : 0.75\n",
      "additional_iterations_if_unhealthy : 5\n",
      "adagrad_momentum_weighting       : 0.9\n",
      "num_tempering_iterations         : 4\n",
      "tempering_regularization_start_value : 0.0\n",
      "track_exact_loss                 : 0\n",
      ">\n"
     ]
    }
   ],
   "source": [
    "print(model_ratings.get)"
   ]
  },
  {
   "cell_type": "code",
   "execution_count": 176,
   "metadata": {
    "collapsed": false
   },
   "outputs": [],
   "source": [
    "#ignore code\n",
    "\n",
    "#80% train and 20% for testing \n",
    "#train, test = gl.recommender.util.random_split_by_user(model_ratings,\n",
    "#                                                    user_id=\"userId\", item_id=\"movieId\",\n",
    "#                                                            max_num_users=150, item_test_proportion=0.2)"
   ]
  },
  {
   "cell_type": "code",
   "execution_count": 177,
   "metadata": {
    "collapsed": false
   },
   "outputs": [
    {
     "name": "stdout",
     "output_type": "stream",
     "text": [
      "PROGRESS: Evaluate model M0\n",
      "\n",
      "Precision and recall summary statistics by cutoff\n",
      "+--------+----------------+-----------------+\n",
      "| cutoff | mean_precision |   mean_recall   |\n",
      "+--------+----------------+-----------------+\n",
      "|   1    | 0.406666666667 | 0.0260060796283 |\n",
      "|   2    | 0.383333333333 | 0.0523927909334 |\n",
      "|   3    | 0.331111111111 | 0.0627383536062 |\n",
      "|   4    | 0.311666666667 |  0.076143529002 |\n",
      "|   5    |     0.292      | 0.0903470627721 |\n",
      "|   6    | 0.282222222222 |  0.102396882225 |\n",
      "|   7    | 0.273333333333 |  0.111336718672 |\n",
      "|   8    |      0.26      |  0.120089437014 |\n",
      "|   9    | 0.25037037037  |  0.132885096745 |\n",
      "|   10   |     0.244      |  0.143880638096 |\n",
      "+--------+----------------+-----------------+\n",
      "[10 rows x 3 columns]\n",
      "\n",
      "('\\nOverall RMSE: ', 3.571932271133501)\n",
      "\n",
      "Per User RMSE (best)\n",
      "+--------+-------+---------------+\n",
      "| userId | count |      rmse     |\n",
      "+--------+-------+---------------+\n",
      "|  310   |   2   | 1.54033180726 |\n",
      "+--------+-------+---------------+\n",
      "[1 rows x 3 columns]\n",
      "\n",
      "\n",
      "Per User RMSE (worst)\n",
      "+--------+-------+------+\n",
      "| userId | count | rmse |\n",
      "+--------+-------+------+\n",
      "|   46   |   6   | 5.0  |\n",
      "+--------+-------+------+\n",
      "[1 rows x 3 columns]\n",
      "\n",
      "\n",
      "Per Item RMSE (best)\n",
      "+---------+-------+------+\n",
      "| movieId | count | rmse |\n",
      "+---------+-------+------+\n",
      "|  68884  |   1   | 0.0  |\n",
      "+---------+-------+------+\n",
      "[1 rows x 3 columns]\n",
      "\n",
      "\n",
      "Per Item RMSE (worst)\n",
      "+---------+-------+------+\n",
      "| movieId | count | rmse |\n",
      "+---------+-------+------+\n",
      "|   6380  |   1   | 5.0  |\n",
      "+---------+-------+------+\n",
      "[1 rows x 3 columns]\n",
      "\n",
      "PROGRESS: Evaluate model M1\n",
      "\n",
      "Precision and recall summary statistics by cutoff\n",
      "+--------+----------------+------------------+\n",
      "| cutoff | mean_precision |   mean_recall    |\n",
      "+--------+----------------+------------------+\n",
      "|   1    | 0.146666666667 | 0.00896879778954 |\n",
      "|   2    |      0.15      | 0.0176326226354  |\n",
      "|   3    |      0.16      | 0.0283690913997  |\n",
      "|   4    |     0.145      |  0.033059801656  |\n",
      "|   5    |     0.144      | 0.0432316438825  |\n",
      "|   6    | 0.138888888889 | 0.0459806122393  |\n",
      "|   7    | 0.138095238095 | 0.0536591207121  |\n",
      "|   8    | 0.135833333333 | 0.0576153699583  |\n",
      "|   9    | 0.134814814815 | 0.0652187540225  |\n",
      "|   10   | 0.133333333333 | 0.0710344338833  |\n",
      "+--------+----------------+------------------+\n",
      "[10 rows x 3 columns]\n",
      "\n",
      "('\\nOverall RMSE: ', 1.5660804219372764)\n",
      "\n",
      "Per User RMSE (best)\n",
      "+--------+-------+----------------+\n",
      "| userId | count |      rmse      |\n",
      "+--------+-------+----------------+\n",
      "|  462   |   9   | 0.384878221588 |\n",
      "+--------+-------+----------------+\n",
      "[1 rows x 3 columns]\n",
      "\n",
      "\n",
      "Per User RMSE (worst)\n",
      "+--------+-------+---------------+\n",
      "| userId | count |      rmse     |\n",
      "+--------+-------+---------------+\n",
      "|   46   |   6   | 3.19210975371 |\n",
      "+--------+-------+---------------+\n",
      "[1 rows x 3 columns]\n",
      "\n",
      "\n",
      "Per Item RMSE (best)\n",
      "+---------+-------+------------------+\n",
      "| movieId | count |       rmse       |\n",
      "+---------+-------+------------------+\n",
      "|   306   |   1   | 0.00143426050725 |\n",
      "+---------+-------+------------------+\n",
      "[1 rows x 3 columns]\n",
      "\n",
      "\n",
      "Per Item RMSE (worst)\n",
      "+---------+-------+---------------+\n",
      "| movieId | count |      rmse     |\n",
      "+---------+-------+---------------+\n",
      "|   1941  |   1   | 7.10668662796 |\n",
      "+---------+-------+---------------+\n",
      "[1 rows x 3 columns]\n",
      "\n",
      "PROGRESS: Evaluate model M2\n",
      "\n",
      "Precision and recall summary statistics by cutoff\n",
      "+--------+----------------+-------------+\n",
      "| cutoff | mean_precision | mean_recall |\n",
      "+--------+----------------+-------------+\n",
      "|   1    |      0.0       |     0.0     |\n",
      "|   2    |      0.0       |     0.0     |\n",
      "|   3    |      0.0       |     0.0     |\n",
      "|   4    |      0.0       |     0.0     |\n",
      "|   5    |      0.0       |     0.0     |\n",
      "|   6    |      0.0       |     0.0     |\n",
      "|   7    |      0.0       |     0.0     |\n",
      "|   8    |      0.0       |     0.0     |\n",
      "|   9    |      0.0       |     0.0     |\n",
      "|   10   |      0.0       |     0.0     |\n",
      "+--------+----------------+-------------+\n",
      "[10 rows x 3 columns]\n",
      "\n",
      "('\\nOverall RMSE: ', 0.3693303531902913)\n",
      "\n",
      "Per User RMSE (best)\n",
      "+--------+-------+-----------------+\n",
      "| userId | count |       rmse      |\n",
      "+--------+-------+-----------------+\n",
      "|  296   |   2   | 0.0874306920739 |\n",
      "+--------+-------+-----------------+\n",
      "[1 rows x 3 columns]\n",
      "\n",
      "\n",
      "Per User RMSE (worst)\n",
      "+--------+-------+----------------+\n",
      "| userId | count |      rmse      |\n",
      "+--------+-------+----------------+\n",
      "|  594   |   12  | 0.742651906802 |\n",
      "+--------+-------+----------------+\n",
      "[1 rows x 3 columns]\n",
      "\n",
      "\n",
      "Per Item RMSE (best)\n",
      "+---------+-------+-------------------+\n",
      "| movieId | count |        rmse       |\n",
      "+---------+-------+-------------------+\n",
      "|   3037  |   1   | 3.50389383286e-06 |\n",
      "+---------+-------+-------------------+\n",
      "[1 rows x 3 columns]\n",
      "\n",
      "\n",
      "Per Item RMSE (worst)\n",
      "+---------+-------+---------------+\n",
      "| movieId | count |      rmse     |\n",
      "+---------+-------+---------------+\n",
      "|   1228  |   2   | 1.14864618598 |\n",
      "+---------+-------+---------------+\n",
      "[1 rows x 3 columns]\n",
      "\n"
     ]
    }
   ],
   "source": [
    "model_comp_rating = gl.recommender.util.compare_models(test,[m1,m2,model_ratings])"
   ]
  },
  {
   "cell_type": "code",
   "execution_count": 178,
   "metadata": {
    "collapsed": true
   },
   "outputs": [],
   "source": [
    "#Model:1 = item vs item similarity, if the user interacted with the item\n",
    "\n",
    "#Model:2 = RankingFactorizationRecommender\n"
   ]
  },
  {
   "cell_type": "markdown",
   "metadata": {},
   "source": [
    "# Deployment (10 points total) - John\n",
    "• Be critical of your performance and tell the reader how you current model might be usable by\n",
    "other parties. Did you achieve your goals? If not, can you reign in the utility of your modeling?\n",
    "• How useful is your model for interested parties (i.e., the companies or organizations\n",
    "that might want to use it)?\n",
    "• How would your deploy your model for interested parties?\n",
    "• What other data should be collected?\n",
    "How often would the model need to be updated, etc.?"
   ]
  },
  {
   "cell_type": "markdown",
   "metadata": {},
   "source": [
    "# Exceptional Work (10 points total) - Scott\n",
    "• You have free reign to provide additional analyses or combine analyses."
   ]
  }
 ],
 "metadata": {
  "kernelspec": {
   "display_name": "Python 2",
   "language": "python",
   "name": "python2"
  },
  "language_info": {
   "codemirror_mode": {
    "name": "ipython",
    "version": 2
   },
   "file_extension": ".py",
   "mimetype": "text/x-python",
   "name": "python",
   "nbconvert_exporter": "python",
   "pygments_lexer": "ipython2",
   "version": "2.7.13"
  }
 },
 "nbformat": 4,
 "nbformat_minor": 2
}
